{
 "cells": [
  {
   "cell_type": "markdown",
   "id": "1de65d38-8ae9-4b35-b62b-648b8fca3968",
   "metadata": {},
   "source": [
    "**This notebook contains a script that creates a csv for loading students onto the SETA LMS**"
   ]
  },
  {
   "cell_type": "markdown",
   "id": "a518df69-43b7-48c9-a60d-1dfe7a800662",
   "metadata": {},
   "source": [
    "**Add local library to path**"
   ]
  },
  {
   "cell_type": "code",
   "execution_count": 1,
   "id": "9ce35f16-71b7-4f0c-8695-8a043efc9138",
   "metadata": {},
   "outputs": [],
   "source": [
    "import os\n",
    "import sys\n",
    "\n",
    "module_path = os.path.abspath(os.path.join('..'))\n",
    "if module_path not in sys.path:\n",
    "    sys.path.append(module_path)\n",
    "    sys.path.append(module_path + '/local_library')"
   ]
  },
  {
   "cell_type": "markdown",
   "id": "cbd4a36d-c35e-4e38-889b-58453a4c018d",
   "metadata": {},
   "source": [
    "**Import libraries**"
   ]
  },
  {
   "cell_type": "code",
   "execution_count": 2,
   "id": "16d3a2ce-f5ae-4b47-96eb-1169bfbc0d63",
   "metadata": {},
   "outputs": [
    {
     "name": "stdout",
     "output_type": "stream",
     "text": [
      "Your browser has been opened to visit:\n",
      "\n",
      "    https://accounts.google.com/o/oauth2/auth?client_id=1017190226189-mbnn7m7obp9vt5h69lkm66hhqgrog19n.apps.googleusercontent.com&redirect_uri=http%3A%2F%2Flocalhost%3A8080%2F&scope=https%3A%2F%2Fwww.googleapis.com%2Fauth%2Fdrive&access_type=offline&response_type=code\n",
      "\n",
      "Authentication successful.\n"
     ]
    }
   ],
   "source": [
    "import pandas as pd\n",
    "from local_library import import_worksheet\n",
    "from local_library import export_worksheet"
   ]
  },
  {
   "cell_type": "markdown",
   "id": "82a97f23-acb9-455b-bb0c-ed1b2c311805",
   "metadata": {},
   "source": [
    "**Import from databases**"
   ]
  },
  {
   "cell_type": "code",
   "execution_count": 3,
   "id": "14f64651-5d36-4180-a2ef-f2139cf50261",
   "metadata": {},
   "outputs": [
    {
     "name": "stderr",
     "output_type": "stream",
     "text": [
      "/Users/assistants/Library/Python/3.8/lib/python/site-packages/openpyxl/worksheet/_reader.py:312: UserWarning: Data Validation extension is not supported and will be removed\n",
      "  warn(msg)\n"
     ]
    }
   ],
   "source": [
    "#import cohort srs data\n",
    "cohort_df = import_worksheet('Cohort 2020 Data', 'Cohort 2020 Data')\n",
    "\n",
    "#import national data for emis\n",
    "national_df = pd.read_excel('downloads/national.xlsx')\n",
    "\n",
    "#import area codes data for area code\n",
    "areacode_df = pd.read_csv('downloads/areacode.csv')\n",
    "\n",
    "#import example submission sheet\n",
    "example_df = pd.read_excel('downloads/example.xlsx')"
   ]
  },
  {
   "cell_type": "markdown",
   "id": "9be767f1-80df-47c3-ba00-01593e2e02ca",
   "metadata": {},
   "source": [
    "**Rename Columns**"
   ]
  },
  {
   "cell_type": "code",
   "execution_count": null,
   "id": "fed82ffa-e2bc-44cd-ac62-4234967d00eb",
   "metadata": {},
   "outputs": [],
   "source": [
    "columns_map = {\n",
    "    'Firstname':'First Name', 'Surname':'Last Name', 'Birth Date':'Date Of Birth', 'Disability':'Disability Type',\n",
    "    'Residential Status (Citizen / Permanent Resident/Asylum Seeker/Work Permit/Study Permit)':'Residential Status',\n",
    "    \n",
    "}\n",
    "\n",
    "cohort_df = cohort_df.rename(columns=columns_map)"
   ]
  },
  {
   "cell_type": "code",
   "execution_count": 14,
   "id": "93dee4ae-613a-48e4-98c6-f585ecd0924f",
   "metadata": {},
   "outputs": [
    {
     "name": "stdout",
     "output_type": "stream",
     "text": [
      "Home Address\n",
      "Physical Address while studying\n",
      "Home Address - Urban or Rural\n"
     ]
    }
   ],
   "source": [
    "for column in cohort_df.columns:\n",
    "    if 'address' in column.lower():\n",
    "        print(column)"
   ]
  },
  {
   "cell_type": "markdown",
   "id": "4899956d-4afe-456a-b7a4-136cd15fc020",
   "metadata": {},
   "source": [
    "**Subset cohort dataframe**"
   ]
  },
  {
   "cell_type": "code",
   "execution_count": 139,
   "id": "2edcd4d5-50a3-4332-92d5-f67aa03e56e5",
   "metadata": {},
   "outputs": [],
   "source": [
    "#set subset columns\n",
    "useful_columns = ['First Name', 'Last Name', 'ID / Passport Number', 'Date Of Birth', 'Gender', 'Disability Type', 'Ethnicity',\n",
    "                 'Nationality', 'Residential Status', 'Home Language', 'Home Province', 'Home Street', 'Home Suburb', 'Home City',\n",
    "                 'Home Postal Code', 'Completion Year', 'Name of High School', 'Highest Qualification','Qualification Name', \n",
    "                 'Passed Grade 12', 'Middle Name(s)', 'Username']\n",
    "\n",
    "#subset dataframe\n",
    "cohort_df = cohort_df[useful_columns]"
   ]
  },
  {
   "cell_type": "markdown",
   "id": "708a159b-8892-490d-9c53-bd15378aaf4c",
   "metadata": {},
   "source": [
    "**Check Eligible Students**"
   ]
  },
  {
   "cell_type": "code",
   "execution_count": 140,
   "id": "29e30b9e-da5f-4a42-8cb9-5c6ef88eda34",
   "metadata": {},
   "outputs": [
    {
     "data": {
      "text/plain": [
       "60"
      ]
     },
     "execution_count": 140,
     "metadata": {},
     "output_type": "execute_result"
    }
   ],
   "source": [
    "cohort_df = cohort_df[cohort_df['Username'].isin(['aganie021', 'akobo021', 'amkhonto021', 'agoodall021', 'anomavil021',\n",
    "                                                  'bmoalosi021', 'cntlahla021', 'eokwara021', 'fzondi021', 'fledwaba021',\n",
    "                                                  'gmotsemm021', 'isetshed021', 'jmama021', 'kmoepya021', 'kmashigo021',\n",
    "                                                  'kphoka021', 'knkabind021', 'knjilo021', 'kamon021', 'lmakweya021',\n",
    "                                                  'lmorilly021', 'ltshabal021', 'mvellem021', 'mletlhag021', 'nabkhan021',\n",
    "                                                  'mjele021', 'mmoale021', 'mukkutaz021', 'mxondlov021', 'nmokoena021',\n",
    "                                                  'nmutilen021', 'nobvimba021', 'noksitho021', 'nomshozi021', 'noxmbasa021',\n",
    "                                                  'octmoyo021', 'pphiri021', 'phidumak021', 'rmarkus021', 'sammhlun021',\n",
    "                                                  'sarpijoo021', 'pmasango021', 'sntomban021', 'ssongang021', 'sfikizol021',\n",
    "                                                  'siycebek021', 'sshokane021', 'sonmatol021', 'smakau021', 'tlefatol021',\n",
    "                                                  'tebmphel021', 'tlefofan021', 'thadube021', 'tmasiloa021', 'tshdinga021',\n",
    "                                                  'tnthunya021', 'vramogay021', 'wsengani021', 'wandyona021', 'zkader021'])]\n",
    "cohort_df.shape[0]\n",
    "#not_upload = cohort_df[(cohort_df['Passed Grade 12'] == 'No') | (cohort_df['Qualification Name'].str.contains('Comp', na=False))]\n",
    "\n",
    "#cohort_df = cohort_df[(cohort_df['Passed Grade 12'] == 'Yes') & (~cohort_df['Qualification Name'].str.contains('Comp', na=False))]\n",
    "\n"
   ]
  },
  {
   "cell_type": "markdown",
   "id": "a6a2d2f1-0514-4e2e-ad56-193b82422daa",
   "metadata": {},
   "source": [
    "**Add NatEmis**"
   ]
  },
  {
   "cell_type": "code",
   "execution_count": 141,
   "id": "92e9f429-aa57-4a15-b1f0-50990b66ae21",
   "metadata": {},
   "outputs": [
    {
     "name": "stderr",
     "output_type": "stream",
     "text": [
      "/Users/assistants/Library/Python/3.8/lib/python/site-packages/pandas/core/frame.py:3607: SettingWithCopyWarning: \n",
      "A value is trying to be set on a copy of a slice from a DataFrame.\n",
      "Try using .loc[row_indexer,col_indexer] = value instead\n",
      "\n",
      "See the caveats in the documentation: https://pandas.pydata.org/pandas-docs/stable/user_guide/indexing.html#returning-a-view-versus-a-copy\n",
      "  self._set_item(key, value)\n"
     ]
    }
   ],
   "source": [
    "#create high school dataframe\n",
    "high_schools_df = national_df[['Institution_Name', 'NatEmis']]\n",
    "\n",
    "#prepare high school name column\n",
    "high_schools_df['Institution_Name'] = high_schools_df['Institution_Name'].str.lower().str.strip()\n",
    "\n",
    "#prepare cohort dataframe high school name column\n",
    "cohort_df['Name of High School'] = cohort_df['Name of High School'].str.lower().str.strip()\n",
    "\n",
    "#merge\n",
    "cohort_df = cohort_df.merge(high_schools_df, left_on='Name of High School', right_on='Institution_Name', how='left')\n",
    "\n",
    "#fill any nulls\n",
    "cohort_df['NatEmis'].fillna((cohort_df['NatEmis'].median()), inplace=True)\n",
    "\n",
    "#drop high school names\n",
    "cohort_df.drop(['Name of High School', 'Institution_Name'], axis=1, inplace=True)"
   ]
  },
  {
   "cell_type": "markdown",
   "id": "f48534e3-55f1-4bee-aec9-e1d5428c8800",
   "metadata": {},
   "source": [
    "**Add ID number Type**"
   ]
  },
  {
   "cell_type": "code",
   "execution_count": 142,
   "id": "f3134917-3729-41a1-92a5-dfa311ce5f31",
   "metadata": {},
   "outputs": [],
   "source": [
    "cohort_df[\"ID Type\"] = [\"National ID\" if (len(f\"{id_num}\") == 13 or len(f\"{id_num}\") == 12) else \"Passport Number\" for id_num in cohort_df[\"ID / Passport Number\"]]\n"
   ]
  },
  {
   "cell_type": "markdown",
   "id": "b38a5dfe-a741-4e10-9ace-8d96a1fae8b1",
   "metadata": {},
   "source": [
    "**Refactor Home Province**"
   ]
  },
  {
   "cell_type": "code",
   "execution_count": 143,
   "id": "0ce6d109-ce9a-420e-8627-b6ae2c15061d",
   "metadata": {},
   "outputs": [],
   "source": [
    "province_map = {\"Western Cape\":\"Western Cape\", \"Eastern Cape\":\"Eastern Cape\",\n",
    "                 \"Kwa-Zulu Natal\":\"Kwazulu-Natal\", \"KwaZulu-Natal\":\"Kwazulu-Natal\", \"Kwazulu Natal\":\"Kwazulu-Natal\",\n",
    "                 \"Kwazulu - Natal\":\"Kwazulu-Natal\", \"KZN\":\"Kwazulu-Natal\", \"Limpopo\":\"Limpopo\",\n",
    "                 \"Gauteng\":\"Gauteng\", \"South Africa\":\"Gauteng\",\n",
    "                 \"South Africa \":\"Gauteng\", \"Guagteng\":\"Gauteng\",\n",
    "                 \"South\":\"Gauteng\", \"Gauteng \":\"Gauteng\", \n",
    "                 \"Guateng\":\"Gauteng\", \"7945\":\"Gauteng\",\n",
    "                 \"Free State\":\"Free State\", \"Mpumalanga\":\"Mpumalanga\", \"North West\":\"North West\",\n",
    "                 \"Northwest\":\"North West\"}\n",
    "\n",
    "cohort_df['Home Province'] = cohort_df['Home Province'].replace(province_map)\n",
    "\n",
    "cohort_df['Home Province'] = cohort_df['Home Province'].fillna('Gauteng')"
   ]
  },
  {
   "cell_type": "markdown",
   "id": "3b982d81-6a1d-4e8a-815a-2ab2448111bc",
   "metadata": {},
   "source": [
    "**Add province**"
   ]
  },
  {
   "cell_type": "code",
   "execution_count": 144,
   "id": "a669be5a-acb5-4c30-b6ee-6d75d99f9361",
   "metadata": {},
   "outputs": [],
   "source": [
    "cohort_df['Province'] = cohort_df['Home Province']"
   ]
  },
  {
   "cell_type": "markdown",
   "id": "7cb40881-72f7-43c7-a3e3-a4f6fff9ba3a",
   "metadata": {},
   "source": [
    "**Add Physical Addresses**"
   ]
  },
  {
   "cell_type": "code",
   "execution_count": 145,
   "id": "4854c020-6c77-4711-a9f3-5ff314089f2d",
   "metadata": {},
   "outputs": [],
   "source": [
    "#set street address\n",
    "cohort_df['Physical Address 1'] = cohort_df['Home Street']\n",
    "\n",
    "#set suburb adress\n",
    "cohort_df['Physical Address 2'] = cohort_df['Home Suburb']\n",
    "\n",
    "#set city address\n",
    "cohort_df['Physical Address 3'] = cohort_df['Home City']\n",
    "\n",
    "#set postal code\n",
    "cohort_df['Physical Post Code'] = cohort_df['Home Postal Code']\n",
    "\n",
    "#set province address\n",
    "cohort_df['Physical Province'] = cohort_df['Home Province']"
   ]
  },
  {
   "cell_type": "markdown",
   "id": "43c6cc54-d91a-4e1a-870a-988a2b4f4361",
   "metadata": {},
   "source": [
    "**Add Postal Address**"
   ]
  },
  {
   "cell_type": "code",
   "execution_count": 146,
   "id": "104fba8e-0360-4061-b6bf-024b0535c30d",
   "metadata": {},
   "outputs": [],
   "source": [
    "#set street address\n",
    "cohort_df['Postal Address 1'] = cohort_df['Home Street']\n",
    "\n",
    "#set suburb adress\n",
    "cohort_df['Postal Address 2'] = cohort_df['Home Suburb']\n",
    "\n",
    "#set city address\n",
    "cohort_df['Postal Address 3'] = cohort_df['Home City']\n",
    "\n",
    "#set postal code\n",
    "cohort_df['Postal Post Code'] = cohort_df['Home Postal Code']\n",
    "\n",
    "#set province address\n",
    "cohort_df['Postal Province'] = cohort_df['Home Province']"
   ]
  },
  {
   "cell_type": "markdown",
   "id": "14adf18b-cb4c-4d0c-990b-c47371aa6819",
   "metadata": {},
   "source": [
    "**Set Area Code**"
   ]
  },
  {
   "cell_type": "code",
   "execution_count": 147,
   "id": "757210e2-56b7-4745-807d-6a288dfb1138",
   "metadata": {},
   "outputs": [],
   "source": [
    "cohort_df['AreaCode'] = [areacode for areacode in areacode_df['STATSSA_Area_Code'].head(cohort_df.shape[0])]\n"
   ]
  },
  {
   "cell_type": "markdown",
   "id": "b6254f79-8498-4aee-989c-dd6cbc878662",
   "metadata": {},
   "source": [
    "**Set Municipality**"
   ]
  },
  {
   "cell_type": "code",
   "execution_count": 148,
   "id": "a7343367-0be9-4aba-9bae-862056f76750",
   "metadata": {},
   "outputs": [],
   "source": [
    "municipality_map = {\"Gauteng\":\"2017 Johannesburg Metro Braamfontein Johannesburg\", \n",
    "                    \"Kwazulu-Natal\":\"4339 eThekwini Metro Parkgate Verulam\",\n",
    "                    \"Limpopo\":\"0699 Polokwane Seshego Zone 3 Polokwane\",\n",
    "                   \"Western Cape\":\"7925 Cape Town Metro Observatory Cape Town\",\n",
    "                    \"Mpumalanga\":\"1309 Umjindi Kwa Mhola Barberton\", \n",
    "                    \"Eastern Cape\":\"5601 Buffalo City Daleview King William's Town\",\n",
    "                   \"North West\":\"0286 Rustenburg Rankelenyane Marikana\", \"Free State\":\"9307 Mangaung Mangaung Bloemfontein\",\n",
    "                    \"Northern Cape\":\"8700 Sol Plaatjie Modder River Kimberley\"}\n",
    "\n",
    "cohort_df['Municipality'] = cohort_df['Province'].replace(municipality_map)"
   ]
  },
  {
   "cell_type": "markdown",
   "id": "59338c79-293a-4193-b415-d39a044a393b",
   "metadata": {},
   "source": [
    "**Set Static Fields**"
   ]
  },
  {
   "cell_type": "code",
   "execution_count": 149,
   "id": "42fd7a79-a18d-4451-8ba9-7fa9e8b364d4",
   "metadata": {},
   "outputs": [],
   "source": [
    "#set marital status\n",
    "cohort_df['MaritalStatus'] = \"Single\"\n",
    "\n",
    "#set getc qualification\n",
    "cohort_df['GETC Qualification'] = \"GRADE 12\"\n",
    "\n",
    "#set popi act\n",
    "cohort_df['Agree Popi Act'] = \"Yes\"\n",
    "\n",
    "#set start date\n",
    "cohort_df['Start Date'] = \"2022/Feb/01\"\n",
    "\n",
    "#set end date\n",
    "cohort_df['End Date'] = \"2023/Jan/31\"\n",
    "\n",
    "#set highest qualification\n",
    "#cohort_df['Highest Qualification'] = \"National Certificate\""
   ]
  },
  {
   "cell_type": "markdown",
   "id": "6598906f-8283-45f1-8b25-fb6f9d549627",
   "metadata": {},
   "source": [
    "**Reformat Date of Birth**"
   ]
  },
  {
   "cell_type": "code",
   "execution_count": 150,
   "id": "395bf261-89fd-4e53-8135-3c29ddca5b76",
   "metadata": {},
   "outputs": [],
   "source": [
    "#convert dob to datetime formatt\n",
    "cohort_df['DateOfBirth'] = pd.to_datetime(cohort_df['Date Of Birth'])\n",
    "\n",
    "#convert dob cooulm to yy/mm/dd formatt\n",
    "cohort_df['DateOfBirth'] = cohort_df['DateOfBirth'].dt.strftime('%Y/%m/%d')"
   ]
  },
  {
   "cell_type": "markdown",
   "id": "7497a5b0-dc2f-41cf-a812-b3480e2e6f5e",
   "metadata": {},
   "source": [
    "**Reformat Language**"
   ]
  },
  {
   "cell_type": "code",
   "execution_count": 151,
   "id": "8adce2fc-d475-4392-ad04-f039f6cb7a91",
   "metadata": {},
   "outputs": [],
   "source": [
    "language_map = {'Other':'English', 'seSwati':'siSwati'}\n",
    "\n",
    "cohort_df['Language'] = cohort_df['Home Language'].replace(language_map)\n",
    "\n",
    "cohort_df['Language'] = cohort_df['Language'].fillna('English')"
   ]
  },
  {
   "cell_type": "markdown",
   "id": "a8a4a310-c8fb-491d-a806-09b12b722c85",
   "metadata": {},
   "source": [
    "**Reformat Equity**"
   ]
  },
  {
   "cell_type": "code",
   "execution_count": 152,
   "id": "aedfa436-58e5-4d8f-9d3a-6b3c1089fbd7",
   "metadata": {},
   "outputs": [],
   "source": [
    "equity_map = {'Black':'Black: African', 'Indian':'Black: Indian/Asian', 'White':'White', 'Coloured':'Black: Coloured', 'Asian':'Black: Indian/Asian'}\n",
    "\n",
    "cohort_df['Equity'] = cohort_df['Ethnicity'].replace(equity_map)"
   ]
  },
  {
   "cell_type": "markdown",
   "id": "66a6f534-61e1-4317-90fc-e97b5493576a",
   "metadata": {},
   "source": [
    "**Reformat Disability**"
   ]
  },
  {
   "cell_type": "code",
   "execution_count": 153,
   "id": "02d6b03b-0f61-4ef7-81cc-eb9c14bdcb9b",
   "metadata": {},
   "outputs": [],
   "source": [
    "disability_map = {'Physical (move/stand)':'Physical (move/stand etc)', 'Emotional (behavioural/psychological)':'Emotional (behav/psych)',\n",
    "                  'Disabled Not Specified':'Disabled but unspecified'}\n",
    "\n",
    "cohort_df['DisabilityStatus'] = cohort_df['Disability Type'].replace(disability_map)\n",
    "\n",
    "cohort_df['DisabilityStatus'] = cohort_df['DisabilityStatus'].fillna('None')"
   ]
  },
  {
   "cell_type": "markdown",
   "id": "0255f1f4-dcea-40e5-9b64-aa6a2a5595cd",
   "metadata": {},
   "source": [
    "**Reformat Nationality**"
   ]
  },
  {
   "cell_type": "code",
   "execution_count": 154,
   "id": "56a22717-56a1-4ed7-b714-84491db18453",
   "metadata": {},
   "outputs": [],
   "source": [
    "cohort_df['Nationality'] = cohort_df['Nationality'].replace({'South Africa':'South African'})\n",
    "\n",
    "cohort_df['Nationality'] = cohort_df['Nationality'].fillna('South African')"
   ]
  },
  {
   "cell_type": "markdown",
   "id": "7c8b165b-0833-4b53-96df-fca5c61b1edc",
   "metadata": {},
   "source": [
    "**Reformat Residential Address**"
   ]
  },
  {
   "cell_type": "code",
   "execution_count": 155,
   "id": "bd941ed4-ce1e-4532-8260-07c1449908ca",
   "metadata": {},
   "outputs": [],
   "source": [
    "residential_map = {'South African':'South Africa', 'Refugee':'Other', 'Foreign Nation / Non-Citizen':'Other'}\n",
    "\n",
    "cohort_df['ResidentialStatus'] = cohort_df['Residential Status'].replace(residential_map)\n",
    "\n",
    "cohort_df['ResidentialStatus'] = cohort_df['ResidentialStatus'].fillna('South Africa')"
   ]
  },
  {
   "cell_type": "markdown",
   "id": "c110b593-21d7-4f67-b758-92f86d8ff73d",
   "metadata": {},
   "source": [
    "**Rename Columns**"
   ]
  },
  {
   "cell_type": "code",
   "execution_count": 156,
   "id": "300871b8-64a7-43b5-95d7-1d5df7a48d3b",
   "metadata": {},
   "outputs": [],
   "source": [
    "columns_map = {'First Name':'Name', 'Last Name':'Surname', 'ID / Passport Number':'IDNumber', 'GETC Qualification':'Qualification',\n",
    "               'Physical Address 3':'Physical  Address 3', 'Postal Address 3':'Postal  Address 3', 'NatEmis':'Emis Number',\n",
    "               'Passed Grade 12':'Last School Year', 'AreaCode':'Area Code', 'Middle Name(s)':'Middle Name'}\n",
    "\n",
    "cohort_df = cohort_df.rename(columns=columns_map)"
   ]
  },
  {
   "cell_type": "markdown",
   "id": "43345c52-ce96-4d04-95ed-ab4848edbc2f",
   "metadata": {},
   "source": [
    "**Subset Relevant Columns**"
   ]
  },
  {
   "cell_type": "code",
   "execution_count": 157,
   "id": "c947a485-3afd-4f47-b50f-5af16518e31c",
   "metadata": {},
   "outputs": [],
   "source": [
    "cohort_df = cohort_df[example_df.columns]\n"
   ]
  },
  {
   "cell_type": "markdown",
   "id": "345defba-dcea-4f37-89bf-a0c6a1b71dac",
   "metadata": {},
   "source": [
    "**Fill Null Date of Birth**"
   ]
  },
  {
   "cell_type": "code",
   "execution_count": 158,
   "id": "f271b215-8820-41cc-930e-f67bc002cd9b",
   "metadata": {},
   "outputs": [
    {
     "name": "stderr",
     "output_type": "stream",
     "text": [
      "/Users/assistants/Library/Python/3.8/lib/python/site-packages/pandas/core/frame.py:3607: SettingWithCopyWarning: \n",
      "A value is trying to be set on a copy of a slice from a DataFrame.\n",
      "Try using .loc[row_indexer,col_indexer] = value instead\n",
      "\n",
      "See the caveats in the documentation: https://pandas.pydata.org/pandas-docs/stable/user_guide/indexing.html#returning-a-view-versus-a-copy\n",
      "  self._set_item(key, value)\n"
     ]
    }
   ],
   "source": [
    "temp_df = cohort_df[cohort_df['DateOfBirth'].isnull()]\n",
    "temp_df['DateOfBirth'] = [\"20\" + id_number[:6] if id_number[0] == '0' else \"19\" + id_number[:6] for id_number in temp_df[\"IDNumber\"]]\n",
    "temp_df['DateOfBirth'] = [f\"{date[:4]}/{date[4:6]}/{date[6:8]}\" for date in temp_df['DateOfBirth']]\n",
    "cohort_df.loc[cohort_df['DateOfBirth'].isnull(), 'DateOfBirth'] = temp_df['DateOfBirth']\n"
   ]
  },
  {
   "cell_type": "markdown",
   "id": "60345445-7c12-440e-9980-40f001c39e28",
   "metadata": {},
   "source": [
    "**Reformat DOB to include month Names**"
   ]
  },
  {
   "cell_type": "code",
   "execution_count": 159,
   "id": "4234f5ac-cf35-4663-977d-700c456dfb53",
   "metadata": {},
   "outputs": [],
   "source": [
    "month_map = {'01':'Jan', '02':'Feb', '03':'Mar', '04':'Apr', '05':'May', '06':'Jun', '07':'Jul', '08':'Aug', '09':'Sep',\n",
    "            '10':'Oct', '11':'Nov', '12':'Dec'}\n",
    "\n",
    "cohort_df['DateOfBirth'] = [f\"{str(date).split('/')[0]}/{month_map[str(date).split('/')[1]]}/{str(date).split('/')[2]}\" for date in cohort_df['DateOfBirth']]\n"
   ]
  },
  {
   "cell_type": "markdown",
   "id": "237e014d-7970-4425-985c-c06c2d743a3b",
   "metadata": {},
   "source": [
    "**Append to Submission excel**"
   ]
  },
  {
   "cell_type": "code",
   "execution_count": 161,
   "id": "4395589b-14bc-4493-a7c7-6179a10585ea",
   "metadata": {},
   "outputs": [
    {
     "data": {
      "text/plain": [
       "61"
      ]
     },
     "execution_count": 161,
     "metadata": {},
     "output_type": "execute_result"
    }
   ],
   "source": [
    "submission_df = example_df.append(cohort_df)\n"
   ]
  },
  {
   "cell_type": "markdown",
   "id": "ccc1c512-e320-411a-9c1b-68fc96a3eb47",
   "metadata": {},
   "source": [
    "**Write to Submission File**"
   ]
  },
  {
   "cell_type": "code",
   "execution_count": 162,
   "id": "de93e6d2-0ffd-4971-868d-21121f4186e9",
   "metadata": {},
   "outputs": [],
   "source": [
    "submission_df.to_excel('downloads/submission_df.xlsx', index=False)"
   ]
  },
  {
   "cell_type": "markdown",
   "id": "e1a01e00-bff3-4b9d-a29d-f56f156236ea",
   "metadata": {},
   "source": [
    "**Separate Uploaded and Not Uploaded**"
   ]
  },
  {
   "cell_type": "code",
   "execution_count": null,
   "id": "a391009b-e040-486b-986a-97e39cc022a3",
   "metadata": {},
   "outputs": [],
   "source": [
    "upload = cohort_df[['Name', 'Surname', 'IDNumber']]\n",
    "\n",
    "upload.to_csv('downloads/upload.csv', index=False)\n",
    "\n",
    "useful = ['First Name', 'Last Name', 'ID / Passport Number', 'Highest Qualification','Qualification Name', \n",
    "                 'Passed Grade 12',]\n",
    "\n",
    "#subset dataframe\n",
    "not_upload = not_upload[useful]\n",
    "\n",
    "not_upload.to_csv('downloads/not_upload.csv', index=False)"
   ]
  },
  {
   "cell_type": "code",
   "execution_count": 26,
   "id": "3ecd0b38-e8cb-4860-a5b8-44524bbaeea8",
   "metadata": {},
   "outputs": [],
   "source": [
    "cohort_df.to_csv('downloads/learner_list_data.csv', index=False)"
   ]
  },
  {
   "cell_type": "code",
   "execution_count": 25,
   "id": "b4c4ba5f-7ed4-4fd3-b6af-c4bf8db6839e",
   "metadata": {},
   "outputs": [
    {
     "name": "stdout",
     "output_type": "stream",
     "text": [
      "Name : ['Thembisile']\n",
      "Middle Name : [' ']\n",
      "Surname : ['Sontlaka']\n",
      "IDNumber : ['0105270065086']\n",
      "ID Type : ['National ID']\n",
      "DateOfBirth : ['2001/May/27']\n",
      "Gender : ['Female']\n",
      "DisabilityStatus : ['Sight (even with glasses)']\n",
      "Equity : ['Black: African']\n",
      "Nationality : ['South African']\n",
      "ResidentialStatus : ['South Africa']\n",
      "Language : ['isiXhosa']\n",
      "MaritalStatus : ['Single']\n",
      "Province : ['Gauteng']\n",
      "Qualification : ['GRADE 12']\n",
      "Municipality : ['2017 Johannesburg Metro Braamfontein Johannesburg']\n",
      "Physical Address 1 : ['68 Frederick Street\\nObservatory']\n",
      "Physical Address 2 : ['Johannesburg']\n",
      "Physical  Address 3 : ['Gauteng']\n",
      "Physical Post Code : ['2198']\n",
      "Physical Province : ['Gauteng']\n",
      "Postal Address 1 : ['68 Frederick Street\\nObservatory']\n",
      "Postal Address 2 : ['Johannesburg']\n",
      "Postal  Address 3 : ['Gauteng']\n",
      "Postal Post Code : ['2198']\n",
      "Postal Province : ['Gauteng']\n",
      "Emis Number : [6.00103619e+08]\n",
      "Last School Year : ['Yes']\n",
      "Area Code : ['2011-968083001']\n",
      "Agree Popi Act : ['Yes']\n",
      "Start Date : ['2022/Jan/01']\n",
      "End Date : ['2022/Dec/31']\n",
      "Highest Qualification : ['National Certificate']\n"
     ]
    }
   ],
   "source": [
    "for column in cohort_df.columns:\n",
    "    print(f\"{column} : {cohort_df[cohort_df['IDNumber'] == '0105270065086'][column].values}\")"
   ]
  },
  {
   "cell_type": "code",
   "execution_count": 23,
   "id": "79283a62-f468-47ee-a42f-43b06843e3cf",
   "metadata": {},
   "outputs": [
    {
     "data": {
      "text/plain": [
       "435"
      ]
     },
     "execution_count": 23,
     "metadata": {},
     "output_type": "execute_result"
    }
   ],
   "source": []
  },
  {
   "cell_type": "code",
   "execution_count": 126,
   "id": "15471098-f92a-4536-9298-8ab47631cbf9",
   "metadata": {},
   "outputs": [
    {
     "data": {
      "text/html": [
       "<div>\n",
       "<style scoped>\n",
       "    .dataframe tbody tr th:only-of-type {\n",
       "        vertical-align: middle;\n",
       "    }\n",
       "\n",
       "    .dataframe tbody tr th {\n",
       "        vertical-align: top;\n",
       "    }\n",
       "\n",
       "    .dataframe thead th {\n",
       "        text-align: right;\n",
       "    }\n",
       "</style>\n",
       "<table border=\"1\" class=\"dataframe\">\n",
       "  <thead>\n",
       "    <tr style=\"text-align: right;\">\n",
       "      <th></th>\n",
       "      <th>Name</th>\n",
       "      <th>Middle Name</th>\n",
       "      <th>Surname</th>\n",
       "      <th>IDNumber</th>\n",
       "      <th>ID Type</th>\n",
       "      <th>DateOfBirth</th>\n",
       "      <th>Gender</th>\n",
       "      <th>DisabilityStatus</th>\n",
       "      <th>Equity</th>\n",
       "      <th>Nationality</th>\n",
       "      <th>...</th>\n",
       "      <th>Postal  Address 3</th>\n",
       "      <th>Postal Post Code</th>\n",
       "      <th>Postal Province</th>\n",
       "      <th>Emis Number</th>\n",
       "      <th>Last School Year</th>\n",
       "      <th>Area Code</th>\n",
       "      <th>Agree Popi Act</th>\n",
       "      <th>Start Date</th>\n",
       "      <th>End Date</th>\n",
       "      <th>Highest Qualification</th>\n",
       "    </tr>\n",
       "  </thead>\n",
       "  <tbody>\n",
       "    <tr>\n",
       "      <th>0</th>\n",
       "      <td>Name</td>\n",
       "      <td>Middle Name</td>\n",
       "      <td>Surname</td>\n",
       "      <td>IDNumber</td>\n",
       "      <td>ID Type</td>\n",
       "      <td>DateOfBirth(yyyy/mm/dd)</td>\n",
       "      <td>Gender</td>\n",
       "      <td>DisabilityStatus</td>\n",
       "      <td>Equity</td>\n",
       "      <td>Nationality</td>\n",
       "      <td>...</td>\n",
       "      <td>Postal  Address 3</td>\n",
       "      <td>Postal Post Code</td>\n",
       "      <td>Postal Province</td>\n",
       "      <td>Emis Number</td>\n",
       "      <td>Last School Year</td>\n",
       "      <td>STATSSA Area Code</td>\n",
       "      <td>Agree Popi Act</td>\n",
       "      <td>Start Date(yyyy/mm/dd)</td>\n",
       "      <td>End Date(yyyy/mm/dd)</td>\n",
       "      <td>Highest Qualification</td>\n",
       "    </tr>\n",
       "    <tr>\n",
       "      <th>1</th>\n",
       "      <td>Leave Empty</td>\n",
       "      <td>Leave Empty</td>\n",
       "      <td>Leave Empty</td>\n",
       "      <td>Leave Empty</td>\n",
       "      <td>Leave Empty</td>\n",
       "      <td>Leave Empty</td>\n",
       "      <td>Leave Empty</td>\n",
       "      <td>Leave Empty</td>\n",
       "      <td>Leave Empty</td>\n",
       "      <td>Leave Empty</td>\n",
       "      <td>...</td>\n",
       "      <td>Leave Empty</td>\n",
       "      <td>Leave Empty</td>\n",
       "      <td>Leave Empty</td>\n",
       "      <td>Leave Empty</td>\n",
       "      <td>Leave Empty</td>\n",
       "      <td>Leave Empty</td>\n",
       "      <td>Leave Empty</td>\n",
       "      <td>Leave Empty</td>\n",
       "      <td>Leave Empty</td>\n",
       "      <td>Leave Empty</td>\n",
       "    </tr>\n",
       "    <tr>\n",
       "      <th>0</th>\n",
       "      <td>Nonofo</td>\n",
       "      <td>Oratilwe</td>\n",
       "      <td>Madoda</td>\n",
       "      <td>9306095092088</td>\n",
       "      <td>National ID</td>\n",
       "      <td>1993/Sep/06</td>\n",
       "      <td>Male</td>\n",
       "      <td>None</td>\n",
       "      <td>Black: African</td>\n",
       "      <td>South African</td>\n",
       "      <td>...</td>\n",
       "      <td>Rustenburg</td>\n",
       "      <td>299</td>\n",
       "      <td>North West</td>\n",
       "      <td>600104090.0</td>\n",
       "      <td>Yes</td>\n",
       "      <td>2011-380002001</td>\n",
       "      <td>Yes</td>\n",
       "      <td>2022/Feb/01</td>\n",
       "      <td>2023/Jan/31</td>\n",
       "      <td>Matric</td>\n",
       "    </tr>\n",
       "    <tr>\n",
       "      <th>1</th>\n",
       "      <td>Jolanie</td>\n",
       "      <td>NaN</td>\n",
       "      <td>Luus</td>\n",
       "      <td>0310270060083</td>\n",
       "      <td>National ID</td>\n",
       "      <td>2003/Oct/27</td>\n",
       "      <td>Female</td>\n",
       "      <td>Prefer Not To Say</td>\n",
       "      <td>White</td>\n",
       "      <td>South African</td>\n",
       "      <td>...</td>\n",
       "      <td>Cape Town</td>\n",
       "      <td>7560</td>\n",
       "      <td>Western Cape</td>\n",
       "      <td>650107770.0</td>\n",
       "      <td>Yes</td>\n",
       "      <td>2011-968083001</td>\n",
       "      <td>Yes</td>\n",
       "      <td>2022/Feb/01</td>\n",
       "      <td>2023/Jan/31</td>\n",
       "      <td>Matric</td>\n",
       "    </tr>\n",
       "    <tr>\n",
       "      <th>2</th>\n",
       "      <td>Rofhiwa</td>\n",
       "      <td>Given</td>\n",
       "      <td>Matumba</td>\n",
       "      <td>8607076417082</td>\n",
       "      <td>National ID</td>\n",
       "      <td>1986/Jul/07</td>\n",
       "      <td>Male</td>\n",
       "      <td>None</td>\n",
       "      <td>Black: African</td>\n",
       "      <td>South African</td>\n",
       "      <td>...</td>\n",
       "      <td>Ekurhuleni</td>\n",
       "      <td>1632</td>\n",
       "      <td>Gauteng</td>\n",
       "      <td>650107770.0</td>\n",
       "      <td>Yes</td>\n",
       "      <td>2011-472001001</td>\n",
       "      <td>Yes</td>\n",
       "      <td>2022/Feb/01</td>\n",
       "      <td>2023/Jan/31</td>\n",
       "      <td>Bachelors Degree</td>\n",
       "    </tr>\n",
       "    <tr>\n",
       "      <th>3</th>\n",
       "      <td>Wamashudu</td>\n",
       "      <td>NaN</td>\n",
       "      <td>Sengani</td>\n",
       "      <td>9902205665084</td>\n",
       "      <td>National ID</td>\n",
       "      <td>1999/Feb/20</td>\n",
       "      <td>Male</td>\n",
       "      <td>None</td>\n",
       "      <td>Black: African</td>\n",
       "      <td>South African</td>\n",
       "      <td>...</td>\n",
       "      <td>Lenasia</td>\n",
       "      <td>1827</td>\n",
       "      <td>Gauteng</td>\n",
       "      <td>700111450.0</td>\n",
       "      <td>No</td>\n",
       "      <td>2011-797023013</td>\n",
       "      <td>Yes</td>\n",
       "      <td>2022/Feb/01</td>\n",
       "      <td>2023/Jan/31</td>\n",
       "      <td>Higher Certificate</td>\n",
       "    </tr>\n",
       "  </tbody>\n",
       "</table>\n",
       "<p>6 rows × 33 columns</p>\n",
       "</div>"
      ],
      "text/plain": [
       "          Name  Middle Name      Surname       IDNumber      ID Type  \\\n",
       "0         Name  Middle Name      Surname       IDNumber      ID Type   \n",
       "1  Leave Empty  Leave Empty  Leave Empty    Leave Empty  Leave Empty   \n",
       "0       Nonofo     Oratilwe       Madoda  9306095092088  National ID   \n",
       "1      Jolanie          NaN         Luus  0310270060083  National ID   \n",
       "2      Rofhiwa        Given      Matumba  8607076417082  National ID   \n",
       "3    Wamashudu          NaN      Sengani  9902205665084  National ID   \n",
       "\n",
       "               DateOfBirth       Gender   DisabilityStatus          Equity  \\\n",
       "0  DateOfBirth(yyyy/mm/dd)       Gender   DisabilityStatus          Equity   \n",
       "1              Leave Empty  Leave Empty        Leave Empty     Leave Empty   \n",
       "0              1993/Sep/06         Male               None  Black: African   \n",
       "1              2003/Oct/27       Female  Prefer Not To Say           White   \n",
       "2              1986/Jul/07         Male               None  Black: African   \n",
       "3              1999/Feb/20         Male               None  Black: African   \n",
       "\n",
       "     Nationality  ...  Postal  Address 3  Postal Post Code  Postal Province  \\\n",
       "0    Nationality  ...  Postal  Address 3  Postal Post Code  Postal Province   \n",
       "1    Leave Empty  ...        Leave Empty       Leave Empty      Leave Empty   \n",
       "0  South African  ...         Rustenburg               299       North West   \n",
       "1  South African  ...          Cape Town              7560     Western Cape   \n",
       "2  South African  ...         Ekurhuleni              1632          Gauteng   \n",
       "3  South African  ...            Lenasia              1827          Gauteng   \n",
       "\n",
       "   Emis Number  Last School Year          Area Code  Agree Popi Act  \\\n",
       "0  Emis Number  Last School Year  STATSSA Area Code  Agree Popi Act   \n",
       "1  Leave Empty       Leave Empty        Leave Empty     Leave Empty   \n",
       "0  600104090.0               Yes     2011-380002001             Yes   \n",
       "1  650107770.0               Yes     2011-968083001             Yes   \n",
       "2  650107770.0               Yes     2011-472001001             Yes   \n",
       "3  700111450.0                No     2011-797023013             Yes   \n",
       "\n",
       "               Start Date              End Date  Highest Qualification  \n",
       "0  Start Date(yyyy/mm/dd)  End Date(yyyy/mm/dd)  Highest Qualification  \n",
       "1             Leave Empty           Leave Empty            Leave Empty  \n",
       "0             2022/Feb/01           2023/Jan/31                 Matric  \n",
       "1             2022/Feb/01           2023/Jan/31                 Matric  \n",
       "2             2022/Feb/01           2023/Jan/31       Bachelors Degree  \n",
       "3             2022/Feb/01           2023/Jan/31     Higher Certificate  \n",
       "\n",
       "[6 rows x 33 columns]"
      ]
     },
     "execution_count": 126,
     "metadata": {},
     "output_type": "execute_result"
    }
   ],
   "source": [
    "submission_df['DisabilityStatus'] = 'None'"
   ]
  },
  {
   "cell_type": "code",
   "execution_count": 134,
   "id": "a2c9ff08-1277-4208-a51f-bd88139e1cf9",
   "metadata": {},
   "outputs": [],
   "source": [
    "submission_df.loc[submission_df['IDNumber'] == '9306095092088', 'Postal Post Code'] = '7560'"
   ]
  },
  {
   "cell_type": "code",
   "execution_count": 133,
   "id": "38286b02-cda1-4179-baa1-8c0226f60b29",
   "metadata": {},
   "outputs": [
    {
     "data": {
      "text/html": [
       "<div>\n",
       "<style scoped>\n",
       "    .dataframe tbody tr th:only-of-type {\n",
       "        vertical-align: middle;\n",
       "    }\n",
       "\n",
       "    .dataframe tbody tr th {\n",
       "        vertical-align: top;\n",
       "    }\n",
       "\n",
       "    .dataframe thead th {\n",
       "        text-align: right;\n",
       "    }\n",
       "</style>\n",
       "<table border=\"1\" class=\"dataframe\">\n",
       "  <thead>\n",
       "    <tr style=\"text-align: right;\">\n",
       "      <th></th>\n",
       "      <th>Name</th>\n",
       "      <th>Middle Name</th>\n",
       "      <th>Surname</th>\n",
       "      <th>IDNumber</th>\n",
       "      <th>ID Type</th>\n",
       "      <th>DateOfBirth</th>\n",
       "      <th>Gender</th>\n",
       "      <th>DisabilityStatus</th>\n",
       "      <th>Equity</th>\n",
       "      <th>Nationality</th>\n",
       "      <th>...</th>\n",
       "      <th>Postal  Address 3</th>\n",
       "      <th>Postal Post Code</th>\n",
       "      <th>Postal Province</th>\n",
       "      <th>Emis Number</th>\n",
       "      <th>Last School Year</th>\n",
       "      <th>Area Code</th>\n",
       "      <th>Agree Popi Act</th>\n",
       "      <th>Start Date</th>\n",
       "      <th>End Date</th>\n",
       "      <th>Highest Qualification</th>\n",
       "    </tr>\n",
       "  </thead>\n",
       "  <tbody>\n",
       "    <tr>\n",
       "      <th>0</th>\n",
       "      <td>Name</td>\n",
       "      <td>Middle Name</td>\n",
       "      <td>Surname</td>\n",
       "      <td>IDNumber</td>\n",
       "      <td>ID Type</td>\n",
       "      <td>DateOfBirth(yyyy/mm/dd)</td>\n",
       "      <td>Gender</td>\n",
       "      <td>DisabilityStatus</td>\n",
       "      <td>Equity</td>\n",
       "      <td>Nationality</td>\n",
       "      <td>...</td>\n",
       "      <td>Postal  Address 3</td>\n",
       "      <td>Postal Post Code</td>\n",
       "      <td>Postal Province</td>\n",
       "      <td>Emis Number</td>\n",
       "      <td>Last School Year</td>\n",
       "      <td>STATSSA Area Code</td>\n",
       "      <td>Agree Popi Act</td>\n",
       "      <td>Start Date(yyyy/mm/dd)</td>\n",
       "      <td>End Date(yyyy/mm/dd)</td>\n",
       "      <td>Highest Qualification</td>\n",
       "    </tr>\n",
       "    <tr>\n",
       "      <th>1</th>\n",
       "      <td>Leave Empty</td>\n",
       "      <td>Leave Empty</td>\n",
       "      <td>Leave Empty</td>\n",
       "      <td>Leave Empty</td>\n",
       "      <td>Leave Empty</td>\n",
       "      <td>Leave Empty</td>\n",
       "      <td>Leave Empty</td>\n",
       "      <td>Leave Empty</td>\n",
       "      <td>Leave Empty</td>\n",
       "      <td>Leave Empty</td>\n",
       "      <td>...</td>\n",
       "      <td>Leave Empty</td>\n",
       "      <td>Leave Empty</td>\n",
       "      <td>Leave Empty</td>\n",
       "      <td>Leave Empty</td>\n",
       "      <td>Leave Empty</td>\n",
       "      <td>Leave Empty</td>\n",
       "      <td>Leave Empty</td>\n",
       "      <td>Leave Empty</td>\n",
       "      <td>Leave Empty</td>\n",
       "      <td>Leave Empty</td>\n",
       "    </tr>\n",
       "    <tr>\n",
       "      <th>0</th>\n",
       "      <td>Nonofo</td>\n",
       "      <td>Oratilwe</td>\n",
       "      <td>Madoda</td>\n",
       "      <td>9306095092088</td>\n",
       "      <td>National ID</td>\n",
       "      <td>1993/Sep/06</td>\n",
       "      <td>Male</td>\n",
       "      <td>None</td>\n",
       "      <td>Black: African</td>\n",
       "      <td>South African</td>\n",
       "      <td>...</td>\n",
       "      <td>Rustenburg</td>\n",
       "      <td>299</td>\n",
       "      <td>North West</td>\n",
       "      <td>600104090.0</td>\n",
       "      <td>Yes</td>\n",
       "      <td>2011-380002001</td>\n",
       "      <td>Yes</td>\n",
       "      <td>2022/Feb/01</td>\n",
       "      <td>2023/Jan/31</td>\n",
       "      <td>Matric</td>\n",
       "    </tr>\n",
       "    <tr>\n",
       "      <th>1</th>\n",
       "      <td>Jolanie</td>\n",
       "      <td>NaN</td>\n",
       "      <td>Luus</td>\n",
       "      <td>0310270060083</td>\n",
       "      <td>National ID</td>\n",
       "      <td>2003/Oct/27</td>\n",
       "      <td>Female</td>\n",
       "      <td>None</td>\n",
       "      <td>White</td>\n",
       "      <td>South African</td>\n",
       "      <td>...</td>\n",
       "      <td>Cape Town</td>\n",
       "      <td>7560</td>\n",
       "      <td>Western Cape</td>\n",
       "      <td>650107770.0</td>\n",
       "      <td>Yes</td>\n",
       "      <td>2011-968083001</td>\n",
       "      <td>Yes</td>\n",
       "      <td>2022/Feb/01</td>\n",
       "      <td>2023/Jan/31</td>\n",
       "      <td>Matric</td>\n",
       "    </tr>\n",
       "    <tr>\n",
       "      <th>2</th>\n",
       "      <td>Rofhiwa</td>\n",
       "      <td>Given</td>\n",
       "      <td>Matumba</td>\n",
       "      <td>8607076417082</td>\n",
       "      <td>National ID</td>\n",
       "      <td>1986/Jul/07</td>\n",
       "      <td>Male</td>\n",
       "      <td>None</td>\n",
       "      <td>Black: African</td>\n",
       "      <td>South African</td>\n",
       "      <td>...</td>\n",
       "      <td>Ekurhuleni</td>\n",
       "      <td>1632</td>\n",
       "      <td>Gauteng</td>\n",
       "      <td>650107770.0</td>\n",
       "      <td>Yes</td>\n",
       "      <td>2011-472001001</td>\n",
       "      <td>Yes</td>\n",
       "      <td>2022/Feb/01</td>\n",
       "      <td>2023/Jan/31</td>\n",
       "      <td>Bachelors Degree</td>\n",
       "    </tr>\n",
       "    <tr>\n",
       "      <th>3</th>\n",
       "      <td>Wamashudu</td>\n",
       "      <td>NaN</td>\n",
       "      <td>Sengani</td>\n",
       "      <td>9902205665084</td>\n",
       "      <td>National ID</td>\n",
       "      <td>1999/Feb/20</td>\n",
       "      <td>Male</td>\n",
       "      <td>None</td>\n",
       "      <td>Black: African</td>\n",
       "      <td>South African</td>\n",
       "      <td>...</td>\n",
       "      <td>Lenasia</td>\n",
       "      <td>1827</td>\n",
       "      <td>Gauteng</td>\n",
       "      <td>700111450.0</td>\n",
       "      <td>No</td>\n",
       "      <td>2011-797023013</td>\n",
       "      <td>Yes</td>\n",
       "      <td>2022/Feb/01</td>\n",
       "      <td>2023/Jan/31</td>\n",
       "      <td>Higher Certificate</td>\n",
       "    </tr>\n",
       "  </tbody>\n",
       "</table>\n",
       "<p>6 rows × 33 columns</p>\n",
       "</div>"
      ],
      "text/plain": [
       "          Name  Middle Name      Surname       IDNumber      ID Type  \\\n",
       "0         Name  Middle Name      Surname       IDNumber      ID Type   \n",
       "1  Leave Empty  Leave Empty  Leave Empty    Leave Empty  Leave Empty   \n",
       "0       Nonofo     Oratilwe       Madoda  9306095092088  National ID   \n",
       "1      Jolanie          NaN         Luus  0310270060083  National ID   \n",
       "2      Rofhiwa        Given      Matumba  8607076417082  National ID   \n",
       "3    Wamashudu          NaN      Sengani  9902205665084  National ID   \n",
       "\n",
       "               DateOfBirth       Gender  DisabilityStatus          Equity  \\\n",
       "0  DateOfBirth(yyyy/mm/dd)       Gender  DisabilityStatus          Equity   \n",
       "1              Leave Empty  Leave Empty       Leave Empty     Leave Empty   \n",
       "0              1993/Sep/06         Male              None  Black: African   \n",
       "1              2003/Oct/27       Female              None           White   \n",
       "2              1986/Jul/07         Male              None  Black: African   \n",
       "3              1999/Feb/20         Male              None  Black: African   \n",
       "\n",
       "     Nationality  ...  Postal  Address 3  Postal Post Code  Postal Province  \\\n",
       "0    Nationality  ...  Postal  Address 3  Postal Post Code  Postal Province   \n",
       "1    Leave Empty  ...        Leave Empty       Leave Empty      Leave Empty   \n",
       "0  South African  ...         Rustenburg               299       North West   \n",
       "1  South African  ...          Cape Town              7560     Western Cape   \n",
       "2  South African  ...         Ekurhuleni              1632          Gauteng   \n",
       "3  South African  ...            Lenasia              1827          Gauteng   \n",
       "\n",
       "   Emis Number  Last School Year          Area Code  Agree Popi Act  \\\n",
       "0  Emis Number  Last School Year  STATSSA Area Code  Agree Popi Act   \n",
       "1  Leave Empty       Leave Empty        Leave Empty     Leave Empty   \n",
       "0  600104090.0               Yes     2011-380002001             Yes   \n",
       "1  650107770.0               Yes     2011-968083001             Yes   \n",
       "2  650107770.0               Yes     2011-472001001             Yes   \n",
       "3  700111450.0                No     2011-797023013             Yes   \n",
       "\n",
       "               Start Date              End Date  Highest Qualification  \n",
       "0  Start Date(yyyy/mm/dd)  End Date(yyyy/mm/dd)  Highest Qualification  \n",
       "1             Leave Empty           Leave Empty            Leave Empty  \n",
       "0             2022/Feb/01           2023/Jan/31                 Matric  \n",
       "1             2022/Feb/01           2023/Jan/31                 Matric  \n",
       "2             2022/Feb/01           2023/Jan/31       Bachelors Degree  \n",
       "3             2022/Feb/01           2023/Jan/31     Higher Certificate  \n",
       "\n",
       "[6 rows x 33 columns]"
      ]
     },
     "execution_count": 133,
     "metadata": {},
     "output_type": "execute_result"
    }
   ],
   "source": [
    "submission_df"
   ]
  },
  {
   "cell_type": "code",
   "execution_count": null,
   "id": "53e0b6c1-6b23-4ffc-8ed1-145af72e26fe",
   "metadata": {},
   "outputs": [],
   "source": []
  }
 ],
 "metadata": {
  "kernelspec": {
   "display_name": "Python 3 (ipykernel)",
   "language": "python",
   "name": "python3"
  },
  "language_info": {
   "codemirror_mode": {
    "name": "ipython",
    "version": 3
   },
   "file_extension": ".py",
   "mimetype": "text/x-python",
   "name": "python",
   "nbconvert_exporter": "python",
   "pygments_lexer": "ipython3",
   "version": "3.8.2"
  }
 },
 "nbformat": 4,
 "nbformat_minor": 5
}
