{
 "cells": [
  {
   "cell_type": "markdown",
   "id": "1de65d38-8ae9-4b35-b62b-648b8fca3968",
   "metadata": {},
   "source": [
    "**This notebook contains a script that creates a csv for loading students onto the SETA LMS**"
   ]
  },
  {
   "cell_type": "markdown",
   "id": "a518df69-43b7-48c9-a60d-1dfe7a800662",
   "metadata": {},
   "source": [
    "**Add local library to path**"
   ]
  },
  {
   "cell_type": "code",
   "execution_count": 53,
   "id": "9ce35f16-71b7-4f0c-8695-8a043efc9138",
   "metadata": {},
   "outputs": [],
   "source": [
    "import os\n",
    "import sys\n",
    "\n",
    "module_path = os.path.abspath(os.path.join('..'))\n",
    "if module_path not in sys.path:\n",
    "    sys.path.append(module_path)\n",
    "    sys.path.append(module_path + '/local_library')"
   ]
  },
  {
   "cell_type": "markdown",
   "id": "cbd4a36d-c35e-4e38-889b-58453a4c018d",
   "metadata": {},
   "source": [
    "**Import libraries**"
   ]
  },
  {
   "cell_type": "code",
   "execution_count": 54,
   "id": "16d3a2ce-f5ae-4b47-96eb-1169bfbc0d63",
   "metadata": {},
   "outputs": [],
   "source": [
    "import pandas as pd\n",
    "from local_library import import_worksheet\n",
    "from local_library import export_worksheet"
   ]
  },
  {
   "cell_type": "markdown",
   "id": "82a97f23-acb9-455b-bb0c-ed1b2c311805",
   "metadata": {},
   "source": [
    "**Import from databases**"
   ]
  },
  {
   "cell_type": "code",
   "execution_count": 55,
   "id": "14f64651-5d36-4180-a2ef-f2139cf50261",
   "metadata": {},
   "outputs": [
    {
     "name": "stderr",
     "output_type": "stream",
     "text": [
      "/Users/assistants/Library/Python/3.8/lib/python/site-packages/openpyxl/worksheet/_reader.py:312: UserWarning: Data Validation extension is not supported and will be removed\n",
      "  warn(msg)\n"
     ]
    }
   ],
   "source": [
    "#import cohort srs data\n",
    "cohort_df = import_worksheet('Onloading', 'Sheet1')\n",
    "\n",
    "#import national data for emis\n",
    "national_df = pd.read_excel('downloads/national.xlsx')\n",
    "\n",
    "#import area codes data for area code\n",
    "areacode_df = pd.read_csv('downloads/areacode.csv')\n",
    "\n",
    "#import example submission sheet\n",
    "example_df = pd.read_excel('downloads/example.xlsx')"
   ]
  },
  {
   "cell_type": "markdown",
   "id": "4899956d-4afe-456a-b7a4-136cd15fc020",
   "metadata": {},
   "source": [
    "**Subset cohort dataframe**"
   ]
  },
  {
   "cell_type": "code",
   "execution_count": 56,
   "id": "2edcd4d5-50a3-4332-92d5-f67aa03e56e5",
   "metadata": {},
   "outputs": [],
   "source": [
    "#set subset columns\n",
    "useful_columns = ['First Name', 'Last Name', 'ID / Passport Number', 'Date Of Birth', 'Gender', 'Disability Type', 'Ethnicity',\n",
    "                 'Nationality', 'Residential Status', 'Home Language', 'Home Province', 'Home Street', 'Home Suburb', 'Home City',\n",
    "                 'Home Postal Code', 'Completion Year', 'Name of High School', 'Highest Qualification','Qualification Name', \n",
    "                 'Passed Grade 12',]\n",
    "\n",
    "#subset dataframe\n",
    "cohort_df = cohort_df[useful_columns]"
   ]
  },
  {
   "cell_type": "markdown",
   "id": "708a159b-8892-490d-9c53-bd15378aaf4c",
   "metadata": {},
   "source": [
    "**Check Eligible Students**"
   ]
  },
  {
   "cell_type": "code",
   "execution_count": 57,
   "id": "29e30b9e-da5f-4a42-8cb9-5c6ef88eda34",
   "metadata": {},
   "outputs": [],
   "source": [
    "cohort_df = cohort_df[(cohort_df['Passed Grade 12'] == 'Yes') & (~cohort_df['Qualification Name'].str.contains('Comp', na=False))]"
   ]
  },
  {
   "cell_type": "markdown",
   "id": "a6a2d2f1-0514-4e2e-ad56-193b82422daa",
   "metadata": {},
   "source": [
    "**Add NatEmis**"
   ]
  },
  {
   "cell_type": "code",
   "execution_count": 58,
   "id": "92e9f429-aa57-4a15-b1f0-50990b66ae21",
   "metadata": {},
   "outputs": [
    {
     "name": "stderr",
     "output_type": "stream",
     "text": [
      "/Users/assistants/Library/Python/3.8/lib/python/site-packages/pandas/core/frame.py:3607: SettingWithCopyWarning: \n",
      "A value is trying to be set on a copy of a slice from a DataFrame.\n",
      "Try using .loc[row_indexer,col_indexer] = value instead\n",
      "\n",
      "See the caveats in the documentation: https://pandas.pydata.org/pandas-docs/stable/user_guide/indexing.html#returning-a-view-versus-a-copy\n",
      "  self._set_item(key, value)\n"
     ]
    }
   ],
   "source": [
    "#create high school dataframe\n",
    "high_schools_df = national_df[['Institution_Name', 'NatEmis']]\n",
    "\n",
    "#prepare high school name column\n",
    "high_schools_df['Institution_Name'] = high_schools_df['Institution_Name'].str.lower().str.strip()\n",
    "\n",
    "#prepare cohort dataframe high school name column\n",
    "cohort_df['Name of High School'] = cohort_df['Name of High School'].str.lower().str.strip()\n",
    "\n",
    "#merge\n",
    "cohort_df = cohort_df.merge(high_schools_df, left_on='Name of High School', right_on='Institution_Name', how='left')\n",
    "\n",
    "#fill any nulls\n",
    "cohort_df['NatEmis'].fillna((cohort_df['NatEmis'].median()), inplace=True)\n",
    "\n",
    "#drop high school names\n",
    "cohort_df.drop(['Name of High School', 'Institution_Name'], axis=1, inplace=True)"
   ]
  },
  {
   "cell_type": "markdown",
   "id": "f48534e3-55f1-4bee-aec9-e1d5428c8800",
   "metadata": {},
   "source": [
    "**Add ID number Type**"
   ]
  },
  {
   "cell_type": "code",
   "execution_count": 59,
   "id": "f3134917-3729-41a1-92a5-dfa311ce5f31",
   "metadata": {},
   "outputs": [],
   "source": [
    "cohort_df[\"ID Type\"] = [\"National ID\" if (len(f\"{id_num}\") == 13 or len(f\"{id_num}\") == 12) else \"Passport Number\" for id_num in cohort_df[\"ID / Passport Number\"]]\n"
   ]
  },
  {
   "cell_type": "markdown",
   "id": "b38a5dfe-a741-4e10-9ace-8d96a1fae8b1",
   "metadata": {},
   "source": [
    "**Refactor Home Province**"
   ]
  },
  {
   "cell_type": "code",
   "execution_count": 60,
   "id": "0ce6d109-ce9a-420e-8627-b6ae2c15061d",
   "metadata": {},
   "outputs": [],
   "source": [
    "province_map = {\"Western Cape\":\"Western Cape\", \"Eastern Cape\":\"Eastern Cape\",\n",
    "                 \"Kwa-Zulu Natal\":\"Kwazulu-Natal\", \"KwaZulu-Natal\":\"Kwazulu-Natal\", \"Kwazulu Natal\":\"Kwazulu-Natal\",\n",
    "                 \"Kwazulu - Natal\":\"Kwazulu-Natal\", \"KZN\":\"Kwazulu-Natal\", \"Limpopo\":\"Limpopo\",\n",
    "                 \"Gauteng\":\"Gauteng\", \"South Africa\":\"Gauteng\",\n",
    "                 \"South Africa \":\"Gauteng\", \"Guagteng\":\"Gauteng\",\n",
    "                 \"South\":\"Gauteng\", \"Gauteng \":\"Gauteng\", \n",
    "                 \"Guateng\":\"Gauteng\", \"7945\":\"Gauteng\",\n",
    "                 \"Free State\":\"Free State\", \"Mpumalanga\":\"Mpumalanga\", \"North West\":\"North West\",\n",
    "                 \"Northwest\":\"North West\"}\n",
    "\n",
    "cohort_df['Home Province'] = cohort_df['Home Province'].replace(province_map)\n",
    "\n",
    "cohort_df['Home Province'] = cohort_df['Home Province'].fillna('Gauteng')"
   ]
  },
  {
   "cell_type": "markdown",
   "id": "3b982d81-6a1d-4e8a-815a-2ab2448111bc",
   "metadata": {},
   "source": [
    "**Add province**"
   ]
  },
  {
   "cell_type": "code",
   "execution_count": 61,
   "id": "a669be5a-acb5-4c30-b6ee-6d75d99f9361",
   "metadata": {},
   "outputs": [],
   "source": [
    "cohort_df['Province'] = cohort_df['Home Province']"
   ]
  },
  {
   "cell_type": "markdown",
   "id": "7cb40881-72f7-43c7-a3e3-a4f6fff9ba3a",
   "metadata": {},
   "source": [
    "**Add Physical Addresses**"
   ]
  },
  {
   "cell_type": "code",
   "execution_count": 62,
   "id": "4854c020-6c77-4711-a9f3-5ff314089f2d",
   "metadata": {},
   "outputs": [],
   "source": [
    "#set street address\n",
    "cohort_df['Physical Address 1'] = cohort_df['Home Street']\n",
    "\n",
    "#set suburb adress\n",
    "cohort_df['Physical Address 2'] = cohort_df['Home Suburb']\n",
    "\n",
    "#set city address\n",
    "cohort_df['Physical Address 3'] = cohort_df['Home City']\n",
    "\n",
    "#set postal code\n",
    "cohort_df['Physical Post Code'] = cohort_df['Home Postal Code']\n",
    "\n",
    "#set province address\n",
    "cohort_df['Physical Province'] = cohort_df['Home Province']"
   ]
  },
  {
   "cell_type": "markdown",
   "id": "43c6cc54-d91a-4e1a-870a-988a2b4f4361",
   "metadata": {},
   "source": [
    "**Add Postal Address**"
   ]
  },
  {
   "cell_type": "code",
   "execution_count": 63,
   "id": "104fba8e-0360-4061-b6bf-024b0535c30d",
   "metadata": {},
   "outputs": [],
   "source": [
    "#set street address\n",
    "cohort_df['Postal Address 1'] = cohort_df['Home Street']\n",
    "\n",
    "#set suburb adress\n",
    "cohort_df['Postal Address 2'] = cohort_df['Home Suburb']\n",
    "\n",
    "#set city address\n",
    "cohort_df['Postal Address 3'] = cohort_df['Home City']\n",
    "\n",
    "#set postal code\n",
    "cohort_df['Postal Post Code'] = cohort_df['Home Postal Code']\n",
    "\n",
    "#set province address\n",
    "cohort_df['Postal Province'] = cohort_df['Home Province']"
   ]
  },
  {
   "cell_type": "markdown",
   "id": "14adf18b-cb4c-4d0c-990b-c47371aa6819",
   "metadata": {},
   "source": [
    "**Set Area Code**"
   ]
  },
  {
   "cell_type": "code",
   "execution_count": 64,
   "id": "757210e2-56b7-4745-807d-6a288dfb1138",
   "metadata": {},
   "outputs": [],
   "source": [
    "cohort_df['AreaCode'] = [areacode for areacode in areacode_df['STATSSA_Area_Code'].head(415)]\n"
   ]
  },
  {
   "cell_type": "markdown",
   "id": "b6254f79-8498-4aee-989c-dd6cbc878662",
   "metadata": {},
   "source": [
    "**Set Municipality**"
   ]
  },
  {
   "cell_type": "code",
   "execution_count": 65,
   "id": "a7343367-0be9-4aba-9bae-862056f76750",
   "metadata": {},
   "outputs": [],
   "source": [
    "municipality_map = {\"Gauteng\":\"2017 Johannesburg Metro Braamfontein Johannesburg\", \n",
    "                    \"Kwazulu-Natal\":\"4450 KwaDukuza Stanger\", \"Limpopo\":\"0699 Polokwane Seshego Zone 3 Polokwane\",\n",
    "                   \"Western Cape\":\"7925 Cape Town Metro Observatory Cape Town\",\n",
    "                    \"Mpumalanga\":\"1309 Umjindi Kwa Mhola Barberton\", \n",
    "                    \"Eastern Cape\":\"5601 Buffalo City Daleview King William's Town\",\n",
    "                   \"North West\":\"2571 Matlosana Klerksdorp\", \"Free State\":\"9307 Mangaung Mangaung Bloemfontein\",\n",
    "                    \"Northern Cape\":\"8700 Sol Plaatjie Modder River Kimberley\"}\n",
    "\n",
    "cohort_df['Municipality'] = cohort_df['Province'].replace(municipality_map)"
   ]
  },
  {
   "cell_type": "markdown",
   "id": "59338c79-293a-4193-b415-d39a044a393b",
   "metadata": {},
   "source": [
    "**Set Static Fields**"
   ]
  },
  {
   "cell_type": "code",
   "execution_count": 66,
   "id": "42fd7a79-a18d-4451-8ba9-7fa9e8b364d4",
   "metadata": {},
   "outputs": [],
   "source": [
    "#set marital status\n",
    "cohort_df['MaritalStatus'] = \"Single\"\n",
    "\n",
    "#set getc qualification\n",
    "cohort_df['GETC Qualification'] = \"GRADE 12\"\n",
    "\n",
    "#set popi act\n",
    "cohort_df['Agree Popi Act'] = \"Yes\""
   ]
  },
  {
   "cell_type": "markdown",
   "id": "6598906f-8283-45f1-8b25-fb6f9d549627",
   "metadata": {},
   "source": [
    "**Reformat Date of Birth**"
   ]
  },
  {
   "cell_type": "code",
   "execution_count": 67,
   "id": "395bf261-89fd-4e53-8135-3c29ddca5b76",
   "metadata": {},
   "outputs": [],
   "source": [
    "#convert dob to datetime formatt\n",
    "cohort_df['DateOfBirth'] = pd.to_datetime(cohort_df['Date Of Birth'])\n",
    "\n",
    "#convert dob cooulm to yy/mm/dd formatt\n",
    "cohort_df['DateOfBirth'] = cohort_df['DateOfBirth'].dt.strftime('%Y/%d/%m')"
   ]
  },
  {
   "cell_type": "markdown",
   "id": "7497a5b0-dc2f-41cf-a812-b3480e2e6f5e",
   "metadata": {},
   "source": [
    "**Reformat Language**"
   ]
  },
  {
   "cell_type": "code",
   "execution_count": 68,
   "id": "8adce2fc-d475-4392-ad04-f039f6cb7a91",
   "metadata": {},
   "outputs": [],
   "source": [
    "language_map = {'Other':'English', 'seSwati':'siSwati'}\n",
    "\n",
    "cohort_df['Language'] = cohort_df['Home Language'].replace(language_map)\n",
    "\n",
    "cohort_df['Language'] = cohort_df['Language'].fillna('English')"
   ]
  },
  {
   "cell_type": "markdown",
   "id": "a8a4a310-c8fb-491d-a806-09b12b722c85",
   "metadata": {},
   "source": [
    "**Reformat Equity**"
   ]
  },
  {
   "cell_type": "code",
   "execution_count": 69,
   "id": "aedfa436-58e5-4d8f-9d3a-6b3c1089fbd7",
   "metadata": {},
   "outputs": [],
   "source": [
    "equity_map = {'Black':'Black: African', 'Indian':'Black: Indian/Asian', 'White':'White', 'Coloured':'Black: Coloured', 'Asian':'Black: Indian/Asian'}\n",
    "\n",
    "cohort_df['Equity'] = cohort_df['Ethnicity'].replace(equity_map)"
   ]
  },
  {
   "cell_type": "markdown",
   "id": "66a6f534-61e1-4317-90fc-e97b5493576a",
   "metadata": {},
   "source": [
    "**Reformat Disability**"
   ]
  },
  {
   "cell_type": "code",
   "execution_count": 70,
   "id": "02d6b03b-0f61-4ef7-81cc-eb9c14bdcb9b",
   "metadata": {},
   "outputs": [],
   "source": [
    "disability_map = {'Physical (move/stand)':'Physical (move/stand etc)', 'Emotional (behavioural/psychological)':'Emotional (behav/psych)',\n",
    "                  'Disabled Not Specified':'Disabled but unspecified'}\n",
    "\n",
    "cohort_df['DisabilityStatus'] = cohort_df['Disability Type'].replace(disability_map)\n",
    "\n",
    "cohort_df['DisabilityStatus'] = cohort_df['DisabilityStatus'].fillna('None')"
   ]
  },
  {
   "cell_type": "markdown",
   "id": "0255f1f4-dcea-40e5-9b64-aa6a2a5595cd",
   "metadata": {},
   "source": [
    "**Reformat Nationality**"
   ]
  },
  {
   "cell_type": "code",
   "execution_count": 71,
   "id": "56a22717-56a1-4ed7-b714-84491db18453",
   "metadata": {},
   "outputs": [],
   "source": [
    "cohort_df['Nationality'] = cohort_df['Nationality'].replace({'South Africa':'South African'})\n",
    "\n",
    "cohort_df['Nationality'] = cohort_df['Nationality'].fillna('South African')"
   ]
  },
  {
   "cell_type": "markdown",
   "id": "7c8b165b-0833-4b53-96df-fca5c61b1edc",
   "metadata": {},
   "source": [
    "**Reformat Residential Address**"
   ]
  },
  {
   "cell_type": "code",
   "execution_count": 75,
   "id": "bd941ed4-ce1e-4532-8260-07c1449908ca",
   "metadata": {},
   "outputs": [
    {
     "data": {
      "text/plain": [
       "array(['South Africa', 'Permanent Resident', 'Other'], dtype=object)"
      ]
     },
     "execution_count": 75,
     "metadata": {},
     "output_type": "execute_result"
    }
   ],
   "source": [
    "residential_map = {'South African':'South Africa', 'Refugee':'Other', 'Foreign Nation / Non-Citizen':'Other'}\n",
    "\n",
    "cohort_df['ResidentialStatus'] = cohort_df['Residential Status'].replace(residential_map)\n",
    "\n",
    "cohort_df['ResidentialStatus'] = cohort_df['ResidentialStatus'].fillna('South Africa')"
   ]
  },
  {
   "cell_type": "markdown",
   "id": "c110b593-21d7-4f67-b758-92f86d8ff73d",
   "metadata": {},
   "source": [
    "**Rename Columns**"
   ]
  },
  {
   "cell_type": "code",
   "execution_count": 81,
   "id": "300871b8-64a7-43b5-95d7-1d5df7a48d3b",
   "metadata": {},
   "outputs": [],
   "source": [
    "columns_map = {'First Name':'Name', 'Last Name':'Surname', 'ID / Passport Number':'IDNumber', 'GETC Qualification':'Qualification',\n",
    "               'Physical Address 3':'Physical  Address 3', 'Postal Address 3':'Postal  Address 3', 'NatEmis':'Emis Number',\n",
    "               'Passed Grade 12':'Last School Year', 'AreaCode':'Area Code'}\n",
    "\n",
    "cohort_df = cohort_df.rename(columns=columns_map)"
   ]
  },
  {
   "cell_type": "markdown",
   "id": "43345c52-ce96-4d04-95ed-ab4848edbc2f",
   "metadata": {},
   "source": [
    "**Subset Relevant Columns**"
   ]
  },
  {
   "cell_type": "code",
   "execution_count": 83,
   "id": "c947a485-3afd-4f47-b50f-5af16518e31c",
   "metadata": {},
   "outputs": [],
   "source": [
    "cohort_df = cohort_df[example_df.columns]"
   ]
  },
  {
   "cell_type": "code",
   "execution_count": null,
   "id": "7bff4eb3-d6e8-4333-a1ec-0ab9097bf291",
   "metadata": {},
   "outputs": [],
   "source": []
  },
  {
   "cell_type": "code",
   "execution_count": null,
   "id": "4395589b-14bc-4493-a7c7-6179a10585ea",
   "metadata": {},
   "outputs": [],
   "source": []
  },
  {
   "cell_type": "code",
   "execution_count": null,
   "id": "23752c19-562f-4d03-a427-5377d13c4397",
   "metadata": {},
   "outputs": [],
   "source": []
  },
  {
   "cell_type": "code",
   "execution_count": null,
   "id": "de93e6d2-0ffd-4971-868d-21121f4186e9",
   "metadata": {},
   "outputs": [],
   "source": []
  },
  {
   "cell_type": "code",
   "execution_count": null,
   "id": "69cf1fce-1c9e-4252-aea0-fc6f038147a2",
   "metadata": {},
   "outputs": [],
   "source": []
  },
  {
   "cell_type": "code",
   "execution_count": null,
   "id": "a391009b-e040-486b-986a-97e39cc022a3",
   "metadata": {},
   "outputs": [],
   "source": []
  },
  {
   "cell_type": "code",
   "execution_count": null,
   "id": "f271b215-8820-41cc-930e-f67bc002cd9b",
   "metadata": {},
   "outputs": [],
   "source": []
  },
  {
   "cell_type": "code",
   "execution_count": null,
   "id": "4234f5ac-cf35-4663-977d-700c456dfb53",
   "metadata": {},
   "outputs": [],
   "source": []
  }
 ],
 "metadata": {
  "kernelspec": {
   "display_name": "Python 3 (ipykernel)",
   "language": "python",
   "name": "python3"
  },
  "language_info": {
   "codemirror_mode": {
    "name": "ipython",
    "version": 3
   },
   "file_extension": ".py",
   "mimetype": "text/x-python",
   "name": "python",
   "nbconvert_exporter": "python",
   "pygments_lexer": "ipython3",
   "version": "3.8.2"
  }
 },
 "nbformat": 4,
 "nbformat_minor": 5
}
