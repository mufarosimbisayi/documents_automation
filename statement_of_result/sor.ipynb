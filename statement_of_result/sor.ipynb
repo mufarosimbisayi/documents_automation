{
 "cells": [
  {
   "cell_type": "markdown",
   "id": "950138f0-711d-4bdd-abb2-219669015b22",
   "metadata": {},
   "source": [
    "**This notebook contains a script that automates the creating of a seta statement of result certificate for a particular cohort**"
   ]
  },
  {
   "cell_type": "markdown",
   "id": "83c3e9d2-4c1b-49f9-9174-cb6c5ee09a29",
   "metadata": {},
   "source": [
    "**Add local library to path**"
   ]
  },
  {
   "cell_type": "code",
   "execution_count": 5,
   "id": "fd3cad74-b86e-43c7-b29e-0d07c5ba2efb",
   "metadata": {},
   "outputs": [],
   "source": [
    "import os\n",
    "import sys\n",
    "\n",
    "module_path = os.path.abspath(os.path.join('..'))\n",
    "if module_path not in sys.path:\n",
    "    sys.path.append(module_path)\n",
    "    sys.path.append(module_path + '/local_library')"
   ]
  },
  {
   "cell_type": "markdown",
   "id": "d6e56246-a0f0-43eb-9f3c-2751f755ab7a",
   "metadata": {},
   "source": [
    "**Import Library**"
   ]
  },
  {
   "cell_type": "code",
   "execution_count": 6,
   "id": "f1048533-0d3f-4b33-b42a-b83701b391f1",
   "metadata": {},
   "outputs": [],
   "source": [
    "import docx\n",
    "from docx2pdf import convert\n",
    "import pandas as pd\n",
    "from local_library import import_worksheet\n",
    "from local_library import upload_file\n",
    "from local_library import delete_local_file"
   ]
  },
  {
   "cell_type": "markdown",
   "id": "75819e14-593f-4d6f-9279-b96dac20f9c0",
   "metadata": {},
   "source": [
    "**Create Local Library**"
   ]
  },
  {
   "cell_type": "code",
   "execution_count": 12,
   "id": "0cb41785-b774-4da0-b829-625a103b05c3",
   "metadata": {},
   "outputs": [],
   "source": [
    "def create_sor_dataframe():\n",
    "    \"\"\"\n",
    "    Creates a dataframe for populating the sors\n",
    "    \n",
    "    Args:\n",
    "        N/A\n",
    "        \n",
    "    Returns:\n",
    "        accredited_df: A dataframe for populating the sors\n",
    "    \"\"\"\n",
    "    \n",
    "    #import dataframe\n",
    "    accredited_df = import_worksheet('Learnerlist and Learner Results Formative & Summative Assessment Results - (Cohort 2019 01 Mar 2020 - Feb 2021)',\n",
    "                                 'Summary Learnerlist Results - SAQA Qual ID 48872')\n",
    "    \n",
    "    #create full name\n",
    "    accredited_df['full_name'] = accredited_df['First Name'] + \" \" + accredited_df['Surname']\n",
    "    \n",
    "    #subset dataframe\n",
    "    accredited_df = accredited_df[['full_name', 'ID Number/ Passport Number']]\n",
    "    \n",
    "    #rename columns\n",
    "    accredited_df.columns = ['full_name', 'id_number']\n",
    "    \n",
    "    return accredited_df\n",
    "\n",
    "\n",
    "def create_sor_document(full_name, id_number):\n",
    "    \"\"\"\n",
    "    Creates and uploads an sor document to the cloud.\n",
    "    \n",
    "    Arguments:\n",
    "        full_name: A string representing the full name of a student.\n",
    "        id_number: A string representing the ID number of a student.\n",
    "        \n",
    "    Returns:\n",
    "        N/A\n",
    "    \"\"\"\n",
    "    \n",
    "    #create document from template\n",
    "    document = docx.Document('downloads/template.docx')\n",
    "    \n",
    "    #populate document with name\n",
    "    document.paragraphs[12].text = f'\\nSTUDENT NAME: {full_name}\\n'\n",
    "    \n",
    "    #populate document with id number\n",
    "    document.paragraphs[13].text = f'STUDENT ID/PASSPORT NUMBER: {id_number}\\n'\n",
    "    \n",
    "    #save populated document\n",
    "    document.save(f'downloads/{full_name}.docx')\n",
    "    \n",
    "    #convert document to pdf\n",
    "    #convert(f'downloads/{full_name}.docx')\n",
    "    \n",
    "    #upload pdf to cloud\n",
    "    upload_file(full_name, f'downloads/{full_name}.docx', '1IpkiX6bZEZx_dIQKL64IXn8g_Gt86fqL')\n",
    "    \n",
    "    #delete local files\n",
    "    delete_local_file(f'downloads/{full_name}.docx')\n",
    "    #delete_local_file(f'downloads/{full_name}.pdf')\n",
    "    \n",
    "    pass\n",
    "\n",
    "\n",
    "def create_sor_documents(sor_df):\n",
    "    \"\"\"\n",
    "    Creates all the sor documents from a dataframe.\n",
    "    \n",
    "    Arguments:\n",
    "        sor_df: A dataframe containing all the data for prepopulation.\n",
    "        \n",
    "    Returns:\n",
    "        N/A\n",
    "    \"\"\"\n",
    "    \n",
    "    for index, row in sor_df.iterrows():\n",
    "        create_sor_document(row['full_name'], row['id_number'])\n",
    "    pass\n",
    "\n"
   ]
  },
  {
   "cell_type": "markdown",
   "id": "5e6049d8-22df-428f-a6d9-fbd1714224c5",
   "metadata": {},
   "source": [
    "**Execute script**"
   ]
  },
  {
   "cell_type": "code",
   "execution_count": 13,
   "id": "64aa587b-77f0-4a4b-98a1-f2ac86bfeb73",
   "metadata": {},
   "outputs": [],
   "source": [
    "#sor_df = create_sor_dataframe()\n",
    "#create_sor_documents(sor_df)"
   ]
  },
  {
   "cell_type": "code",
   "execution_count": null,
   "id": "e5fda9d5-5174-4d0c-ae61-d1163e310fc1",
   "metadata": {},
   "outputs": [],
   "source": []
  },
  {
   "cell_type": "code",
   "execution_count": 29,
   "id": "07279b74-cc8a-46f2-a45f-8373b846a4b2",
   "metadata": {},
   "outputs": [],
   "source": []
  },
  {
   "cell_type": "code",
   "execution_count": null,
   "id": "37ec8724-26e1-4872-83b3-b6f4c67504ee",
   "metadata": {},
   "outputs": [],
   "source": []
  }
 ],
 "metadata": {
  "kernelspec": {
   "display_name": "Python 3 (ipykernel)",
   "language": "python",
   "name": "python3"
  },
  "language_info": {
   "codemirror_mode": {
    "name": "ipython",
    "version": 3
   },
   "file_extension": ".py",
   "mimetype": "text/x-python",
   "name": "python",
   "nbconvert_exporter": "python",
   "pygments_lexer": "ipython3",
   "version": "3.8.2"
  }
 },
 "nbformat": 4,
 "nbformat_minor": 5
}
