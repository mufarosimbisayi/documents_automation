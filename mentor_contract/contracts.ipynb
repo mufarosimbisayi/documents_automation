{
 "cells": [
  {
   "cell_type": "markdown",
   "id": "16d48b9d-124b-4ebf-9ab2-aad633e65a50",
   "metadata": {},
   "source": [
    "***This notebook contains a script that sends Student Contracts to Students for signing***"
   ]
  },
  {
   "cell_type": "markdown",
   "id": "6011fb6b-ff7a-403f-9615-355c37472b32",
   "metadata": {},
   "source": [
    "**Add local library to path**"
   ]
  },
  {
   "cell_type": "code",
   "execution_count": 1,
   "id": "3528009f-3f6c-4ddf-8e19-3b90c9241f6b",
   "metadata": {},
   "outputs": [],
   "source": [
    "import os\n",
    "import sys\n",
    "\n",
    "module_path = os.path.abspath(os.path.join('..'))\n",
    "if module_path not in sys.path:\n",
    "    sys.path.append(module_path)\n",
    "    sys.path.append(module_path + '/local_library')"
   ]
  },
  {
   "cell_type": "markdown",
   "id": "62f9ef94-d020-497c-a6e9-295d48584446",
   "metadata": {},
   "source": [
    "***Import Libraries***"
   ]
  },
  {
   "cell_type": "code",
   "execution_count": 2,
   "id": "217879e8-c93d-433c-b29b-64b866d28084",
   "metadata": {},
   "outputs": [
    {
     "name": "stdout",
     "output_type": "stream",
     "text": [
      "Your browser has been opened to visit:\n",
      "\n",
      "    https://accounts.google.com/o/oauth2/auth?client_id=1017190226189-f1d5s7cpjrj54u2rqk1ufh9pevguqoap.apps.googleusercontent.com&redirect_uri=http%3A%2F%2Flocalhost%3A8080%2F&scope=https%3A%2F%2Fwww.googleapis.com%2Fauth%2Fdrive&access_type=offline&response_type=code\n",
      "\n",
      "Authentication successful.\n"
     ]
    }
   ],
   "source": [
    "import pandas as pd\n",
    "import requests\n",
    "import json\n",
    "from datetime import date\n",
    "from local_library import import_worksheet\n",
    "from local_library import export_worksheet\n",
    "from local_library import send_bulk_signrequest"
   ]
  },
  {
   "cell_type": "markdown",
   "id": "efe4a3d5-320d-4cc5-ad7c-c1a657c8f911",
   "metadata": {},
   "source": [
    "***Local Functions Library***"
   ]
  },
  {
   "cell_type": "code",
   "execution_count": 3,
   "id": "d9cf55c2-d58a-4a5e-aa89-6e81be88aaed",
   "metadata": {},
   "outputs": [],
   "source": [
    "def convert_phone_to_string(target_df, column):\n",
    "    \"\"\"\n",
    "    Converts phone number column to a string type.\n",
    "    \n",
    "    Args:\n",
    "        target_df: The dataframe containing the column to be converted.\n",
    "        column: The column to be converted.\n",
    "        \n",
    "    Returns:\n",
    "        N/A\n",
    "    \"\"\"\n",
    "    \n",
    "    #convert to string\n",
    "    target_df[column] = target_df[column].astype(str)\n",
    "    \n",
    "    #convert to float\n",
    "    target_df[column] = target_df[column].astype(float)\n",
    "    \n",
    "    #convert to int\n",
    "    target_df[column] = target_df[column].astype(int)\n",
    "    \n",
    "    #convert to string\n",
    "    target_df[column] = target_df[column].astype(str)\n",
    "    \n",
    "    \n",
    "def create_contract_dataframe():\n",
    "    \"\"\"\n",
    "    Creates the initial dataframe containing data to prepopulate the signrequest contracts.\n",
    "    \n",
    "    Args:\n",
    "        N/A\n",
    "        \n",
    "    Returns:\n",
    "        contract_df: A dataframe containing student data to prepopulate contracts.\n",
    "    \"\"\"\n",
    "\n",
    "    #import student contract data\n",
    "    student_df = import_worksheet(\"Tech Mentors 2021\", \"Student Data\")\n",
    "\n",
    "    #import contract templates id\n",
    "    template_df = import_worksheet(\"Tech Mentors 2021\", \"Template IDs\")\n",
    "\n",
    "    #merge student data with template data\n",
    "    contract_df = pd.merge(student_df, template_df, on=\"Campus\")\n",
    "\n",
    "    #set new column names\n",
    "    column_names = {'First name':'learner_name', 'Surname':'learner_surname', 'Email':'learner_email',\n",
    "                    'Mentor Contract ID':'mentor_contract'}\n",
    "\n",
    "    #update target df with new column names\n",
    "    contract_df = contract_df.rename(columns=column_names)\n",
    "\n",
    "    #create learner full name\n",
    "    if 'learner_name' in contract_df.columns and 'learner_surname' in contract_df.columns:\n",
    "        contract_df[\"learner_fullname\"] = contract_df['learner_name'].str.capitalize() + \" \" + contract_df['learner_surname'].str.capitalize()\n",
    "\n",
    "    #create learner inititals\n",
    "    if 'learner_fullname' in contract_df.columns:\n",
    "        contract_df[\"learner_initials\"] = [f\"{name.split()[0][0]}.{name.split()[1][0]}\" for name in contract_df[\"learner_fullname\"]]\n",
    "    \n",
    "    #reformat phone number\n",
    "    if 'learner_phone' in contract_df.columns:\n",
    "        convert_phone_to_string(contract_df, \"learner_phone\")\n",
    "    \n",
    "    return contract_df"
   ]
  },
  {
   "cell_type": "markdown",
   "id": "89b311f0-d2e7-417d-bd1a-9c91dfe03774",
   "metadata": {},
   "source": [
    "***Create Learner Title Column***"
   ]
  },
  {
   "cell_type": "code",
   "execution_count": 4,
   "id": "ba6a4fc4-8612-431e-8249-a8917925087c",
   "metadata": {},
   "outputs": [],
   "source": [
    "def add_columns(contract_df):\n",
    "    \"\"\"\n",
    "    Adds any additional columns that are specific to the contract.\n",
    "    \n",
    "    Args:\n",
    "        contract_df: The dataframe where additional columns will be added.\n",
    "        \n",
    "    Returns:\n",
    "        N/A\n",
    "    \"\"\"\n",
    "\n",
    "    pass\n",
    "\n",
    "\n",
    "def subset_relevant_columns(contract_df):\n",
    "    \"\"\"\n",
    "    Subsets the contract dataframe so it contains only relevant columns.\n",
    "    \n",
    "    Args:\n",
    "        contract_df: The dataframe where additional columns will be added.\n",
    "        \n",
    "    Returns:\n",
    "        N/A\n",
    "    \"\"\"\n",
    "    \n",
    "    #list relevant columns\n",
    "    contract_df_columns = ['learner_name', 'learner_fullname', 'learner_initials',\n",
    "                           'learner_email', 'mentor_contract']\n",
    "\n",
    "    #subset columns based on list of relevant columns\n",
    "    contract_df = contract_df[contract_df_columns]\n",
    "    \n",
    "    pass\n"
   ]
  },
  {
   "cell_type": "markdown",
   "id": "62e4db0c-fa9d-4009-a399-496de97f9f89",
   "metadata": {},
   "source": [
    "**Create Contract DataFrame**"
   ]
  },
  {
   "cell_type": "code",
   "execution_count": 5,
   "id": "7d1fe3df-4e91-4996-8a1e-410581f1ae79",
   "metadata": {},
   "outputs": [],
   "source": [
    "contract_df = create_contract_dataframe()\n",
    "subset_relevant_columns(contract_df)"
   ]
  },
  {
   "cell_type": "markdown",
   "id": "0936d796-af04-4072-b7fe-a4b23b90a7b7",
   "metadata": {},
   "source": [
    "**subset rows**"
   ]
  },
  {
   "cell_type": "code",
   "execution_count": 6,
   "id": "922760b8-2902-4d6f-b288-1c7cbcf5f07f",
   "metadata": {},
   "outputs": [],
   "source": [
    "contract_df = contract_df[contract_df['Username'].isin(['imogano'])]"
   ]
  },
  {
   "cell_type": "markdown",
   "id": "11e18a35-d897-4cb9-8149-ee9221735d73",
   "metadata": {},
   "source": [
    "***Create Target Columns***"
   ]
  },
  {
   "cell_type": "code",
   "execution_count": 7,
   "id": "402048b6-3bf5-40e8-8ed7-159201cc3480",
   "metadata": {},
   "outputs": [],
   "source": [
    "#student contract data\n",
    "mentor_contract_columns = ['learner_name', 'learner_fullname', 'learner_initials', 'learner_email']"
   ]
  },
  {
   "cell_type": "markdown",
   "id": "76dbaf8e-68c0-4171-a224-f8ac8b8fcdf3",
   "metadata": {},
   "source": [
    "***Create Test Dataframe***"
   ]
  },
  {
   "cell_type": "code",
   "execution_count": 8,
   "id": "54914bbc-991e-4fe5-ba66-7b7653b23844",
   "metadata": {},
   "outputs": [],
   "source": [
    "test_df = contract_df.groupby(['mentor_contract']).head(1).groupby('mentor_contract').head(1).copy()\n",
    "test_df['learner_email'] = 'mufaro@thoughtquest.co.za'\n",
    "#send_bulk_signrequest(test_df, mentor_contract_columns, 'mentor_contract')"
   ]
  },
  {
   "cell_type": "markdown",
   "id": "f430af33-3d02-4f1d-bb99-3c0151aaf7c6",
   "metadata": {},
   "source": [
    "***Send Out SignRequests***"
   ]
  },
  {
   "cell_type": "code",
   "execution_count": 8,
   "id": "87bcc55b-9080-4964-890e-dd697de7325b",
   "metadata": {},
   "outputs": [
    {
     "name": "stdout",
     "output_type": "stream",
     "text": [
      "Signer: imogano@student.wethinkcode.co.za , Status: 201\n"
     ]
    }
   ],
   "source": [
    "#send student contract signrequests in bulk\n",
    "#send_bulk_signrequest(contract_df, mentor_contract_columns, 'mentor_contract')"
   ]
  },
  {
   "cell_type": "code",
   "execution_count": 9,
   "id": "61a60769-5869-492c-b7af-b76146afaa9b",
   "metadata": {},
   "outputs": [
    {
     "data": {
      "text/html": [
       "<div>\n",
       "<style scoped>\n",
       "    .dataframe tbody tr th:only-of-type {\n",
       "        vertical-align: middle;\n",
       "    }\n",
       "\n",
       "    .dataframe tbody tr th {\n",
       "        vertical-align: top;\n",
       "    }\n",
       "\n",
       "    .dataframe thead th {\n",
       "        text-align: right;\n",
       "    }\n",
       "</style>\n",
       "<table border=\"1\" class=\"dataframe\">\n",
       "  <thead>\n",
       "    <tr style=\"text-align: right;\">\n",
       "      <th></th>\n",
       "      <th>Username</th>\n",
       "      <th>learner_name</th>\n",
       "      <th>learner_surname</th>\n",
       "      <th>Gender</th>\n",
       "      <th>Ethnicity</th>\n",
       "      <th>Campus</th>\n",
       "      <th>learner_email</th>\n",
       "      <th>mentor_contract</th>\n",
       "      <th>learner_fullname</th>\n",
       "      <th>learner_initials</th>\n",
       "    </tr>\n",
       "  </thead>\n",
       "  <tbody>\n",
       "    <tr>\n",
       "      <th>31</th>\n",
       "      <td>imogano</td>\n",
       "      <td>Kagiso</td>\n",
       "      <td>Mogano</td>\n",
       "      <td>male</td>\n",
       "      <td>black</td>\n",
       "      <td>JHB</td>\n",
       "      <td>mufaro@thoughtquest.co.za</td>\n",
       "      <td>3b9e1d42-2202-4381-9ec6-f232d57cd883</td>\n",
       "      <td>Kagiso Mogano</td>\n",
       "      <td>K.M</td>\n",
       "    </tr>\n",
       "  </tbody>\n",
       "</table>\n",
       "</div>"
      ],
      "text/plain": [
       "   Username learner_name learner_surname Gender Ethnicity Campus  \\\n",
       "31  imogano       Kagiso          Mogano   male     black    JHB   \n",
       "\n",
       "                learner_email                       mentor_contract  \\\n",
       "31  mufaro@thoughtquest.co.za  3b9e1d42-2202-4381-9ec6-f232d57cd883   \n",
       "\n",
       "   learner_fullname learner_initials  \n",
       "31    Kagiso Mogano              K.M  "
      ]
     },
     "execution_count": 9,
     "metadata": {},
     "output_type": "execute_result"
    }
   ],
   "source": [
    "test_df"
   ]
  },
  {
   "cell_type": "code",
   "execution_count": null,
   "id": "7bc4dc20-b56f-471d-b0d4-1ff7b7ea2ab4",
   "metadata": {},
   "outputs": [],
   "source": []
  }
 ],
 "metadata": {
  "kernelspec": {
   "display_name": "Python 3 (ipykernel)",
   "language": "python",
   "name": "python3"
  },
  "language_info": {
   "codemirror_mode": {
    "name": "ipython",
    "version": 3
   },
   "file_extension": ".py",
   "mimetype": "text/x-python",
   "name": "python",
   "nbconvert_exporter": "python",
   "pygments_lexer": "ipython3",
   "version": "3.8.2"
  }
 },
 "nbformat": 4,
 "nbformat_minor": 5
}
