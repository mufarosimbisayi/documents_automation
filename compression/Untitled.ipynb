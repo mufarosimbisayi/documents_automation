{
 "cells": [
  {
   "cell_type": "markdown",
   "id": "b66cbf1c-a21c-4729-b384-7676c6dff185",
   "metadata": {},
   "source": [
    "**This notebook contains code that tests various regex configurations**"
   ]
  },
  {
   "cell_type": "markdown",
   "id": "09977a7d-e4f6-468e-91a6-9aae940e4cab",
   "metadata": {},
   "source": [
    "**Import re module**"
   ]
  },
  {
   "cell_type": "code",
   "execution_count": 42,
   "id": "aa554088-66b8-43e6-89c1-12687fb3886c",
   "metadata": {},
   "outputs": [],
   "source": [
    "import re"
   ]
  },
  {
   "cell_type": "markdown",
   "id": "dd7b29d6-5ab1-4eba-9213-78f531eadb06",
   "metadata": {},
   "source": [
    "**Read Data From Text File**"
   ]
  },
  {
   "cell_type": "code",
   "execution_count": 43,
   "id": "a1e7db9e-34ba-4955-be97-8c09cdca24a5",
   "metadata": {},
   "outputs": [],
   "source": [
    "fp = open('file.txt', 'r')\n",
    "text = fp.read()\n",
    "#text = \"Dates are 3, 2, 10, 99, 199, 102, 12, 14, 09, 23, 233\""
   ]
  },
  {
   "cell_type": "markdown",
   "id": "e5d48e2e-3cea-482f-8dde-a6ec1a94cd91",
   "metadata": {},
   "source": [
    "**Create regex object**"
   ]
  },
  {
   "cell_type": "code",
   "execution_count": 53,
   "id": "2239a87b-bae4-49d5-bb1b-830d5ea96831",
   "metadata": {},
   "outputs": [],
   "source": [
    "pattern = r'\\b[a-zA-Z0_9.-_]+@yahoo\\.(?:com|co\\.in)\\b'\n",
    "regex = re.compile(pattern)"
   ]
  },
  {
   "cell_type": "markdown",
   "id": "1cb88127-d318-4a47-b806-d52f4f8dcd31",
   "metadata": {},
   "source": [
    "**Search based on regex object**"
   ]
  },
  {
   "cell_type": "code",
   "execution_count": 54,
   "id": "f6fd233e-0a9f-4840-8663-604d2c6a65fa",
   "metadata": {},
   "outputs": [],
   "source": [
    "urls = regex.findall(text)"
   ]
  },
  {
   "cell_type": "markdown",
   "id": "53a2afd7-89b6-43a7-b7cb-a723e5f2b54d",
   "metadata": {},
   "source": [
    "**Print Results**"
   ]
  },
  {
   "cell_type": "code",
   "execution_count": 55,
   "id": "373e6648-72f8-49ad-9ecf-1d82b38cd440",
   "metadata": {},
   "outputs": [
    {
     "name": "stdout",
     "output_type": "stream",
     "text": [
      "abcd.fg@yahoo.co.in\n",
      "xyz_ab12@yahoo.com\n",
      "white_149@yahoo.co.in\n",
      "white.19@yahoo.co.in\n"
     ]
    }
   ],
   "source": [
    "for url in urls:\n",
    "    print(url)"
   ]
  },
  {
   "cell_type": "code",
   "execution_count": 56,
   "id": "f4e5b975-c1db-4d0a-9dd3-5ba816536759",
   "metadata": {},
   "outputs": [
    {
     "name": "stdout",
     "output_type": "stream",
     "text": [
      "30\n"
     ]
    }
   ],
   "source": [
    "a = 10\n",
    "b = 20\n",
    "_ = a + b\n",
    "print(_)"
   ]
  },
  {
   "cell_type": "code",
   "execution_count": 3,
   "id": "e5a3c8fc-ecd5-4db9-999f-a56a25409e60",
   "metadata": {},
   "outputs": [
    {
     "data": {
      "text/plain": [
       "'CHE10137766'"
      ]
     },
     "execution_count": 3,
     "metadata": {},
     "output_type": "execute_result"
    }
   ],
   "source": [
    "original_text = 'CHE-101.3 77.6,6'\n",
    "''.join(c for c in original_text if c.isalnum())"
   ]
  },
  {
   "cell_type": "code",
   "execution_count": 28,
   "id": "8af90c76-5bfe-4e2d-bee3-f7d7a44efd5a",
   "metadata": {},
   "outputs": [],
   "source": [
    "#import sys\n",
    "#print(sys.executable)\n",
    "\n",
    "#!{sys.executable} -m pip install jira"
   ]
  },
  {
   "cell_type": "code",
   "execution_count": 14,
   "id": "44829ed8-5111-4bd6-a88f-faf2481f3688",
   "metadata": {},
   "outputs": [],
   "source": [
    "import os\n",
    "import datetime\n",
    "import git"
   ]
  },
  {
   "cell_type": "code",
   "execution_count": 43,
   "id": "ac6a260c-1ec7-491f-8b24-432c4033f419",
   "metadata": {},
   "outputs": [
    {
     "name": "stdout",
     "output_type": "stream",
     "text": [
      "master\n"
     ]
    }
   ],
   "source": [
    "repo = git.Repo('.git')\n",
    "commit = repo.head.commit\n",
    "branch_name = next((tag.name for tag in repo.tags if tag.commit == commit), None)\n",
    "\n",
    "if branch_name is None:\n",
    "    branch_name = next((branch.name for branch in repo.branches if branch.commit == commit), None)\n",
    "    \n",
    "print(branch_name)"
   ]
  },
  {
   "cell_type": "code",
   "execution_count": null,
   "id": "c755ee75-56fb-4a2c-8444-04fb5bb027fc",
   "metadata": {},
   "outputs": [],
   "source": []
  },
  {
   "cell_type": "code",
   "execution_count": 39,
   "id": "7530157e-2b95-43cf-9bb6-37ce6f02482a",
   "metadata": {},
   "outputs": [
    {
     "name": "stdout",
     "output_type": "stream",
     "text": [
      ".DS_Store 1633508336\n",
      ".ipynb_checkpoints 1667917816\n",
      "TODO.txt 1655467722\n",
      "compression 1667917816\n",
      "learnerships 1662456331\n",
      "local_library 1662456331\n",
      "mcqs 1667917816\n",
      "mentor_contract 1636973365\n",
      "poe_compilation 1667917816\n",
      "pre_assessment 1662456331\n",
      "rpl 1647376548\n",
      "seta_onloading 1662456331\n",
      "statement_of_result 1634131084\n",
      "student_contract 1667917816\n"
     ]
    }
   ],
   "source": [
    "repo = git.Repo('.git')\n",
    "tree = repo.tree()\n",
    "\n",
    "for blob in tree:\n",
    "    commit = next(repo.iter_commits(paths=blob.path, max_count=1))\n",
    "    print(blob.path, commit.committed_date)"
   ]
  },
  {
   "cell_type": "code",
   "execution_count": 35,
   "id": "1ee50fd1-c9af-4a2b-b7bd-03f646f7d33d",
   "metadata": {},
   "outputs": [],
   "source": [
    "from jira import JIRA\n",
    "\n",
    "jira_options = {'server': 'https://jira.de.deloitte.com', 'verify': False}\n",
    "jira = JIRA(basic_auth=('msimbisayi', 'Orechovnik203'), options=jira_options)\n"
   ]
  },
  {
   "cell_type": "code",
   "execution_count": 33,
   "id": "781064ec-2f9c-4025-be45-4be1ab98b227",
   "metadata": {},
   "outputs": [
    {
     "ename": "NameError",
     "evalue": "name 'jira' is not defined",
     "output_type": "error",
     "traceback": [
      "\u001b[0;31m---------------------------------------------------------------------------\u001b[0m",
      "\u001b[0;31mNameError\u001b[0m                                 Traceback (most recent call last)",
      "\u001b[0;32m/var/folders/33/s663vbhn2v1f4q409xh14zkh0000gn/T/ipykernel_93213/933746356.py\u001b[0m in \u001b[0;36m<module>\u001b[0;34m\u001b[0m\n\u001b[1;32m     12\u001b[0m     \u001b[0;32mreturn\u001b[0m \u001b[0mprjVersionList\u001b[0m\u001b[0;34m\u001b[0m\u001b[0;34m\u001b[0m\u001b[0m\n\u001b[1;32m     13\u001b[0m \u001b[0;34m\u001b[0m\u001b[0m\n\u001b[0;32m---> 14\u001b[0;31m \u001b[0mprjVersionList\u001b[0m \u001b[0;34m=\u001b[0m \u001b[0mcreateReleaseVersionMap\u001b[0m\u001b[0;34m(\u001b[0m\u001b[0mjira\u001b[0m\u001b[0;34m,\u001b[0m \u001b[0;34m'PRJ'\u001b[0m\u001b[0;34m)\u001b[0m\u001b[0;34m\u001b[0m\u001b[0;34m\u001b[0m\u001b[0m\n\u001b[0m\u001b[1;32m     15\u001b[0m \u001b[0;34m\u001b[0m\u001b[0m\n\u001b[1;32m     16\u001b[0m \u001b[0;32mfor\u001b[0m \u001b[0mversion\u001b[0m\u001b[0;34m,\u001b[0m \u001b[0mreleaseDate\u001b[0m \u001b[0;32min\u001b[0m \u001b[0mprjVersionList\u001b[0m\u001b[0;34m.\u001b[0m\u001b[0mitems\u001b[0m\u001b[0;34m(\u001b[0m\u001b[0;34m)\u001b[0m\u001b[0;34m:\u001b[0m\u001b[0;34m\u001b[0m\u001b[0;34m\u001b[0m\u001b[0m\n",
      "\u001b[0;31mNameError\u001b[0m: name 'jira' is not defined"
     ]
    }
   ],
   "source": [
    "def createReleaseVersionMap(jira, project):\n",
    "\n",
    "    versions = jira.project_versions(project)\n",
    "    prjVersionList = {}\n",
    "    \n",
    "    for version in versions:\n",
    "        try:\n",
    "            prjVersionList[version.name] = version.releaseDate\n",
    "        except:\n",
    "            pass\n",
    "        \n",
    "    return prjVersionList\n",
    "\n",
    "prjVersionList = createReleaseVersionMap(jira, 'EPP')\n",
    "\n",
    "for version, releaseDate in prjVersionList.items():\n",
    "    print(f'{version} has the release date: {releaseDate}')"
   ]
  },
  {
   "cell_type": "code",
   "execution_count": null,
   "id": "06d44797-543b-4953-9905-0cfbfe8977ea",
   "metadata": {},
   "outputs": [],
   "source": []
  },
  {
   "cell_type": "code",
   "execution_count": null,
   "id": "edfd3bac-01f3-43de-98e8-6b6756c02ead",
   "metadata": {},
   "outputs": [],
   "source": []
  },
  {
   "cell_type": "code",
   "execution_count": null,
   "id": "228e46a2-9fe8-4fe7-bc37-81e0c36604b7",
   "metadata": {},
   "outputs": [],
   "source": []
  }
 ],
 "metadata": {
  "kernelspec": {
   "display_name": "Python 3 (ipykernel)",
   "language": "python",
   "name": "python3"
  },
  "language_info": {
   "codemirror_mode": {
    "name": "ipython",
    "version": 3
   },
   "file_extension": ".py",
   "mimetype": "text/x-python",
   "name": "python",
   "nbconvert_exporter": "python",
   "pygments_lexer": "ipython3",
   "version": "3.8.2"
  }
 },
 "nbformat": 4,
 "nbformat_minor": 5
}
