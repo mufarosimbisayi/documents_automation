{
 "cells": [
  {
   "cell_type": "markdown",
   "id": "67945057-7c82-4c2b-91b0-006e9cf233c4",
   "metadata": {},
   "source": [
    "**This notebook contains a script that compresses a number of files into a single file**"
   ]
  },
  {
   "cell_type": "markdown",
   "id": "74bb6e52-bfd9-4343-995f-4aa685cccc57",
   "metadata": {},
   "source": [
    "**Import Libraries**"
   ]
  },
  {
   "cell_type": "code",
   "execution_count": 47,
   "id": "b4669c10-092b-4100-a30b-5efe2c415783",
   "metadata": {},
   "outputs": [],
   "source": [
    "import re\n",
    "import glob"
   ]
  },
  {
   "cell_type": "markdown",
   "id": "2b30ab3b-54a1-4c7e-b4a8-e2227373340d",
   "metadata": {},
   "source": [
    "**Local Library**"
   ]
  },
  {
   "cell_type": "code",
   "execution_count": 62,
   "id": "83481297-97d2-4dbe-9303-9bb7b0bf4bcf",
   "metadata": {},
   "outputs": [],
   "source": [
    "def parse_line(lines):\n",
    "    line = f\"{lines[0]}|{lines[1].split()[-1]}|{lines[2].split()[0]}\"\n",
    "    if len(lines[2].split()) > 1:\n",
    "        line = line + f\"|{' '.join(lines[2].split()[1:])}\"\n",
    "    return line + \"\\n\"\n"
   ]
  },
  {
   "cell_type": "markdown",
   "id": "0e3f6a47-c123-4751-bf26-365837a9aad9",
   "metadata": {},
   "source": [
    "**Open File**"
   ]
  },
  {
   "cell_type": "code",
   "execution_count": 69,
   "id": "68a48307-57d0-45a3-9b7a-6d9495698caf",
   "metadata": {},
   "outputs": [],
   "source": [
    "f = open(\"downloads/output_1\", \"a\")\n",
    "f2 = open(\"downloads/output_2\", \"a\")\n",
    "f3 = open(\"downloads/output_3\", \"a\")\n",
    "name_list = [name for name in glob.glob('downloads/input/*')]\n",
    "name_list.sort()\n",
    "for file_path in name_list:\n",
    "    file_name = file_path.split('/')[-1].split('.')[0]\n",
    "    with open(file_path, encoding=\"ISO-8859-1\") as file:\n",
    "        for line in file:\n",
    "            lines = re.split(r'\\s{2,}', line.strip())\n",
    "            condition_1 = len(lines) == 3 and lines[1].split()[-1].isupper()\n",
    "            condition_2 = len(lines) == 3 and lines[2].split()[0].isdigit()\n",
    "            condition_3 = re.findall(\"^Krátký popis\", line.strip())\n",
    "            condition_4 = re.findall(\"^Poèet polí\", line.strip())\n",
    "            if condition_1 and condition_2:\n",
    "                f.write(f\"./input\\{file_name}|\" + parse_line(lines))\n",
    "            elif condition_3 or condition_4:\n",
    "                f2.write(f\"./input\\{file_name}|\" + line)\n",
    "            else:\n",
    "                f3.write(line)\n",
    "f.close()\n",
    "f2.close()\n",
    "f3.close()"
   ]
  },
  {
   "cell_type": "markdown",
   "id": "ff71898c-8abb-45b9-b569-e4ab1d0c364b",
   "metadata": {},
   "source": [
    "**Explore file names**"
   ]
  },
  {
   "cell_type": "code",
   "execution_count": 54,
   "id": "75a66f72-2bc6-4d07-9b02-817453800e05",
   "metadata": {},
   "outputs": [],
   "source": []
  },
  {
   "cell_type": "code",
   "execution_count": null,
   "id": "be01f275-8c96-460f-915f-3e061e871893",
   "metadata": {},
   "outputs": [],
   "source": []
  },
  {
   "cell_type": "code",
   "execution_count": null,
   "id": "22077923-5719-4313-baed-40cdbd508b99",
   "metadata": {},
   "outputs": [],
   "source": []
  },
  {
   "cell_type": "code",
   "execution_count": null,
   "id": "fac77145-ed6a-49b2-aa2e-5d8b86ef5d0f",
   "metadata": {},
   "outputs": [],
   "source": []
  },
  {
   "cell_type": "code",
   "execution_count": null,
   "id": "d2adea55-3816-4770-8c2c-3f9496d05718",
   "metadata": {},
   "outputs": [],
   "source": []
  },
  {
   "cell_type": "code",
   "execution_count": null,
   "id": "84acf3dc-c88b-4754-aa97-d16a081e0439",
   "metadata": {},
   "outputs": [],
   "source": []
  },
  {
   "cell_type": "code",
   "execution_count": null,
   "id": "de8f1429-1ef3-4879-9a02-4abee55364d7",
   "metadata": {},
   "outputs": [],
   "source": []
  },
  {
   "cell_type": "code",
   "execution_count": null,
   "id": "1fc4102f-bf2c-437c-aba3-bedf7ed56021",
   "metadata": {},
   "outputs": [],
   "source": []
  }
 ],
 "metadata": {
  "kernelspec": {
   "display_name": "Python 3 (ipykernel)",
   "language": "python",
   "name": "python3"
  },
  "language_info": {
   "codemirror_mode": {
    "name": "ipython",
    "version": 3
   },
   "file_extension": ".py",
   "mimetype": "text/x-python",
   "name": "python",
   "nbconvert_exporter": "python",
   "pygments_lexer": "ipython3",
   "version": "3.8.2"
  }
 },
 "nbformat": 4,
 "nbformat_minor": 5
}
