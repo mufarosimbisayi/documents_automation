{
 "cells": [
  {
   "cell_type": "markdown",
   "id": "ed0076dc-2745-469c-8e9a-22ad4d563f3f",
   "metadata": {},
   "source": [
    "**This notebook contains a script that sends out feedback and review documents to students after assessments.**"
   ]
  },
  {
   "cell_type": "markdown",
   "id": "d1bcf221-2e8b-40bd-a27f-b49a079415e5",
   "metadata": {},
   "source": [
    "**Add Local Library to Path**"
   ]
  },
  {
   "cell_type": "code",
   "execution_count": 17,
   "id": "f531e36d-b1ff-4888-abc3-11e1b7937949",
   "metadata": {},
   "outputs": [],
   "source": [
    "import os\n",
    "import sys\n",
    "\n",
    "module_path = os.path.abspath(os.path.join('..'))\n",
    "if module_path not in sys.path:\n",
    "    sys.path.append(module_path)\n",
    "    sys.path.append(module_path + '/local_library')"
   ]
  },
  {
   "cell_type": "markdown",
   "id": "14cf3bcb-519f-460f-b141-e4672065c9cd",
   "metadata": {},
   "source": [
    "**Import Libraries**"
   ]
  },
  {
   "cell_type": "code",
   "execution_count": 18,
   "id": "f00a952a-0b14-487e-956c-9b92d2ab500e",
   "metadata": {},
   "outputs": [],
   "source": [
    "import pandas as pd\n",
    "from local_library import import_worksheet\n",
    "from local_library import export_worksheet\n",
    "from local_library import send_bulk_signrequest"
   ]
  },
  {
   "cell_type": "markdown",
   "id": "c43ea646-7a92-487a-9510-93a97107257d",
   "metadata": {},
   "source": [
    "**Import Data**"
   ]
  },
  {
   "cell_type": "code",
   "execution_count": 19,
   "id": "1ea96b61-0037-47bc-93c6-46469e031910",
   "metadata": {},
   "outputs": [],
   "source": [
    "#import 2020 data worksheet\n",
    "cohort_df = import_worksheet(\"Cohort 2020 Data\", \"Cohort 2020 Data\")\n",
    "\n",
    "#select only active students who are seta eligible\n",
    "cohort_df = cohort_df[cohort_df['Active / Not active/Early absorption'] == 'Active']\n",
    "cohort_df = cohort_df[cohort_df['SETA Eligible (Y/N/P)'] == 'Y']\n"
   ]
  },
  {
   "cell_type": "markdown",
   "id": "2e4409b0-4bef-4b87-a907-d11ce3e3f2d1",
   "metadata": {},
   "source": [
    "**Create Learner Fullname**"
   ]
  },
  {
   "cell_type": "code",
   "execution_count": 20,
   "id": "13629c21-9b51-4f24-86ff-83bbd3dd8fbc",
   "metadata": {},
   "outputs": [],
   "source": [
    "cohort_df['learner_fullname'] = cohort_df['Firstname'] + ' ' + cohort_df['Surname']"
   ]
  },
  {
   "cell_type": "markdown",
   "id": "96b3b150-fc33-489b-8407-3a30020919ae",
   "metadata": {},
   "source": [
    "**Create Learner Email**"
   ]
  },
  {
   "cell_type": "code",
   "execution_count": 21,
   "id": "b8a07d0d-a3c0-4465-a8b0-1b73eb36160c",
   "metadata": {},
   "outputs": [],
   "source": [
    "cohort_df['learner_email'] = cohort_df['Username'] + '@student.wethinkcode.co.za'\n"
   ]
  },
  {
   "cell_type": "markdown",
   "id": "75320ad9-d769-4b99-80bb-bb007c0fa03c",
   "metadata": {},
   "source": [
    "**Subselect useful columns**"
   ]
  },
  {
   "cell_type": "code",
   "execution_count": 22,
   "id": "8b67d3a0-c502-4914-b01b-bf48a27e6a3a",
   "metadata": {},
   "outputs": [],
   "source": [
    "cohort_df = cohort_df[['learner_fullname','Campus', 'learner_email', 'Username']]"
   ]
  },
  {
   "cell_type": "markdown",
   "id": "42f7e4cb-b311-4905-b783-246278eeb600",
   "metadata": {},
   "source": [
    "**Subselect Students**"
   ]
  },
  {
   "cell_type": "code",
   "execution_count": 23,
   "id": "c1be2219-4da5-4b56-9d46-5b814df2b3fc",
   "metadata": {},
   "outputs": [
    {
     "data": {
      "text/plain": [
       "1"
      ]
     },
     "execution_count": 23,
     "metadata": {},
     "output_type": "execute_result"
    }
   ],
   "source": [
    "cohort_df = cohort_df[cohort_df['Username'].isin(['zglanvil'])]\n",
    "len(cohort_df)\n"
   ]
  },
  {
   "cell_type": "markdown",
   "id": "667d1adb-2997-4e11-a234-282e27bc9d28",
   "metadata": {},
   "source": [
    "**Create a test dummy**"
   ]
  },
  {
   "cell_type": "code",
   "execution_count": 18,
   "id": "e66407b2-a5b6-4030-ace7-4c56376a2072",
   "metadata": {},
   "outputs": [],
   "source": [
    "#cohort_df = cohort_df.head(1)\n",
    "#cohort_df['learner_email'] = 'mufaro@thoughtquest.co.za'\n",
    "#cohort_df['Campus'] = 'Cape Town'"
   ]
  },
  {
   "cell_type": "markdown",
   "id": "6cbc3687-9510-4ffd-b82c-322bf9a640f2",
   "metadata": {},
   "source": [
    "**Send Presentation Feedback**"
   ]
  },
  {
   "cell_type": "code",
   "execution_count": 24,
   "id": "fa333bbe-d984-464a-b21d-d7cc8b5acefa",
   "metadata": {},
   "outputs": [
    {
     "name": "stdout",
     "output_type": "stream",
     "text": [
      "Signer: zglanvil@student.wethinkcode.co.za , Status: 201\n"
     ]
    }
   ],
   "source": [
    "#create target columns\n",
    "target_columns = ['learner_fullname', 'learner_email']\n",
    "\n",
    "#create template column\n",
    "cohort_df.loc[cohort_df['Campus'] == 'Johannesburg', 'presentation_feedback_template_column'] = '82584251-094e-44bc-9ba2-dd676e7b5870'\n",
    "cohort_df.loc[cohort_df['Campus'] != 'Johannesburg', 'presentation_feedback_template_column'] = '41ea8e17-9ebc-4f2b-8552-51227d7ae7d0'\n",
    "\n",
    "#send learner authenticity document through signrequests in bulk\n",
    "send_bulk_signrequest(cohort_df, target_columns, 'presentation_feedback_template_column')\n"
   ]
  },
  {
   "cell_type": "markdown",
   "id": "fcb7351a-d1b3-414a-aa92-06b7ca9542c2",
   "metadata": {},
   "source": [
    "**Send Demonstration Feedback**"
   ]
  },
  {
   "cell_type": "code",
   "execution_count": 25,
   "id": "30b606a9-d3d4-4d0c-97f0-f9e350667635",
   "metadata": {},
   "outputs": [
    {
     "name": "stdout",
     "output_type": "stream",
     "text": [
      "Signer: ikalonji@student.wethinkcode.co.za , Status: 201\n",
      "Signer: ukhoba@student.wethinkcode.co.za , Status: 201\n",
      "Signer: zezwane@student.wethinkcode.co.za , Status: 201\n"
     ]
    }
   ],
   "source": [
    "#create target columns\n",
    "target_columns = ['learner_fullname', 'learner_email']\n",
    "\n",
    "#create template column\n",
    "cohort_df.loc[cohort_df['Campus'] == 'Johannesburg', 'demonstration_feedback_template_column'] = '64a6a1f8-54ff-43fd-a503-d875d6f1109f'\n",
    "cohort_df.loc[cohort_df['Campus'] != 'Johannesburg', 'demonstration_feedback_template_column'] = '6358d4f5-2674-4e36-987a-c89ca8f2fa34'\n",
    "\n",
    "#send learner authenticity document through signrequests in bulk\n",
    "send_bulk_signrequest(cohort_df, target_columns, 'demonstration_feedback_template_column')\n"
   ]
  },
  {
   "cell_type": "markdown",
   "id": "5dddb836-2dd9-4aff-bc45-5f5bd0cdf8ae",
   "metadata": {},
   "source": [
    "**Send Reports Feedback**"
   ]
  },
  {
   "cell_type": "code",
   "execution_count": 26,
   "id": "cc2dc50c-4c89-4240-acd8-d0662b7f7b66",
   "metadata": {},
   "outputs": [
    {
     "name": "stdout",
     "output_type": "stream",
     "text": [
      "Signer: ikalonji@student.wethinkcode.co.za , Status: 201\n",
      "Signer: ukhoba@student.wethinkcode.co.za , Status: 201\n",
      "Signer: zezwane@student.wethinkcode.co.za , Status: 201\n"
     ]
    }
   ],
   "source": [
    "#create target columns\n",
    "target_columns = ['learner_fullname', 'learner_email']\n",
    "\n",
    "#create template column\n",
    "cohort_df.loc[cohort_df['Campus'] == 'Johannesburg', 'report_feedback_template_column'] = 'e462da3c-ea0d-4b09-b8d1-eb879e370b64'\n",
    "cohort_df.loc[cohort_df['Campus'] != 'Johannesburg', 'report_feedback_template_column'] = '433fff05-8235-4849-bf09-e62b73da43ca'\n",
    "\n",
    "#send learner authenticity document through signrequests in bulk\n",
    "send_bulk_signrequest(cohort_df, target_columns, 'report_feedback_template_column')\n"
   ]
  },
  {
   "cell_type": "markdown",
   "id": "a874e2ff-7f08-4732-bec0-0397abedffee",
   "metadata": {},
   "source": [
    "**Send Exams Feedback**"
   ]
  },
  {
   "cell_type": "code",
   "execution_count": 27,
   "id": "06a7ad0e-423c-4af8-ab0e-cb514deefc8d",
   "metadata": {},
   "outputs": [
    {
     "name": "stdout",
     "output_type": "stream",
     "text": [
      "Signer: ikalonji@student.wethinkcode.co.za , Status: 201\n",
      "Signer: ukhoba@student.wethinkcode.co.za , Status: 201\n",
      "Signer: zezwane@student.wethinkcode.co.za , Status: 201\n"
     ]
    }
   ],
   "source": [
    "#create target columns\n",
    "target_columns = ['learner_fullname', 'learner_email']\n",
    "\n",
    "#create template column\n",
    "cohort_df.loc[cohort_df['Campus'] == 'Johannesburg', 'exam_feedback_template_column'] = 'bc01f59d-fb0c-454c-adec-c6f08976a3c7'\n",
    "cohort_df.loc[cohort_df['Campus'] != 'Johannesburg', 'exam_feedback_template_column'] = '9345b574-7b0c-42e6-b97e-378e00219071'\n",
    "\n",
    "#send learner authenticity document through signrequests in bulk\n",
    "send_bulk_signrequest(cohort_df, target_columns, 'exam_feedback_template_column')\n"
   ]
  },
  {
   "cell_type": "markdown",
   "id": "001f601b-e482-499c-b2e2-eb3a6d6dbf8b",
   "metadata": {},
   "source": [
    "**Send Presentation Review**"
   ]
  },
  {
   "cell_type": "code",
   "execution_count": 16,
   "id": "935e1bff-5b6a-45aa-80fa-6d5edfd632b6",
   "metadata": {},
   "outputs": [
    {
     "name": "stdout",
     "output_type": "stream",
     "text": [
      "Signer: khluthul@student.wethinkcode.co.za , Status: 201\n"
     ]
    }
   ],
   "source": [
    "#create target columns\n",
    "target_columns = ['learner_email']\n",
    "\n",
    "#create template column\n",
    "cohort_df.loc[cohort_df['Campus'] == 'Johannesburg', 'presentation_review_template_column'] = 'a958eb4c-0427-44a7-ad0f-2f99c9e7dc04'\n",
    "cohort_df.loc[cohort_df['Campus'] != 'Johannesburg', 'presentation_review_template_column'] = 'b3a86ada-e5cb-4511-99d5-56856a7ee35a'\n",
    "\n",
    "#send learner authenticity document through signrequests in bulk\n",
    "send_bulk_signrequest(cohort_df, target_columns, 'presentation_review_template_column')\n"
   ]
  },
  {
   "cell_type": "markdown",
   "id": "fc46ef39-e7bd-4e87-992f-f0cd46593eb4",
   "metadata": {},
   "source": [
    "**Send Demonstration Review**"
   ]
  },
  {
   "cell_type": "code",
   "execution_count": 29,
   "id": "ae1750eb-1a57-4faf-9148-e34ea70c100a",
   "metadata": {},
   "outputs": [
    {
     "name": "stdout",
     "output_type": "stream",
     "text": [
      "Signer: ikalonji@student.wethinkcode.co.za , Status: 201\n",
      "Signer: ukhoba@student.wethinkcode.co.za , Status: 201\n",
      "Signer: zezwane@student.wethinkcode.co.za , Status: 201\n"
     ]
    }
   ],
   "source": [
    "#create target columns\n",
    "target_columns = ['learner_email']\n",
    "\n",
    "#create template column\n",
    "cohort_df.loc[cohort_df['Campus'] == 'Johannesburg', 'demonstration_review_template_column'] = '50640ab9-23e3-4f36-87a9-efd5332e21ec'\n",
    "cohort_df.loc[cohort_df['Campus'] != 'Johannesburg', 'demonstration_review_template_column'] = '138c2efc-f7e0-4e2a-86ce-41c19446f449'\n",
    "\n",
    "#send learner authenticity document through signrequests in bulk\n",
    "send_bulk_signrequest(cohort_df, target_columns, 'demonstration_review_template_column')\n"
   ]
  },
  {
   "cell_type": "markdown",
   "id": "04e69cd4-284b-4485-87e3-ae90090c0072",
   "metadata": {},
   "source": [
    "**Send Report Review**"
   ]
  },
  {
   "cell_type": "code",
   "execution_count": 30,
   "id": "9cbb2fc2-9ed5-4eda-b59c-02ef953b20be",
   "metadata": {},
   "outputs": [
    {
     "name": "stdout",
     "output_type": "stream",
     "text": [
      "Signer: ikalonji@student.wethinkcode.co.za , Status: 201\n",
      "Signer: ukhoba@student.wethinkcode.co.za , Status: 201\n",
      "Signer: zezwane@student.wethinkcode.co.za , Status: 201\n"
     ]
    }
   ],
   "source": [
    "#create target columns\n",
    "target_columns = ['learner_email']\n",
    "\n",
    "#create template column\n",
    "cohort_df.loc[cohort_df['Campus'] == 'Johannesburg', 'report_review_template_column'] = '51d72a0b-6b73-4bf9-ad17-23bdc106540a'\n",
    "cohort_df.loc[cohort_df['Campus'] != 'Johannesburg', 'report_review_template_column'] = '60bf8f64-5fca-4725-8011-08297d05162c'\n",
    "\n",
    "#send learner authenticity document through signrequests in bulk\n",
    "send_bulk_signrequest(cohort_df, target_columns, 'report_review_template_column')\n"
   ]
  },
  {
   "cell_type": "markdown",
   "id": "6e4a095c-3887-4669-9f95-9586bbcd441a",
   "metadata": {},
   "source": [
    "**Send Exam Review**"
   ]
  },
  {
   "cell_type": "code",
   "execution_count": 31,
   "id": "39f5473d-d542-4d94-8b25-ffbeefbb61a3",
   "metadata": {},
   "outputs": [
    {
     "name": "stdout",
     "output_type": "stream",
     "text": [
      "Signer: ikalonji@student.wethinkcode.co.za , Status: 201\n",
      "Signer: ukhoba@student.wethinkcode.co.za , Status: 201\n",
      "Signer: zezwane@student.wethinkcode.co.za , Status: 201\n"
     ]
    }
   ],
   "source": [
    "#create target columns\n",
    "target_columns = ['learner_email']\n",
    "\n",
    "#create template column\n",
    "cohort_df.loc[cohort_df['Campus'] == 'Johannesburg', 'exam_review_template_column'] = '2f8450ad-fee8-46c5-8544-1281715c1cd7'\n",
    "cohort_df.loc[cohort_df['Campus'] != 'Johannesburg', 'exam_review_template_column'] = 'b341743e-1f56-4d03-8448-e6d8eb443f6a'\n",
    "\n",
    "#send learner authenticity document through signrequests in bulk\n",
    "send_bulk_signrequest(cohort_df, target_columns, 'exam_review_template_column')\n"
   ]
  },
  {
   "cell_type": "code",
   "execution_count": null,
   "id": "58238a83-6da7-44f6-96b4-1c1b24f45e28",
   "metadata": {},
   "outputs": [],
   "source": []
  }
 ],
 "metadata": {
  "kernelspec": {
   "display_name": "Python 3 (ipykernel)",
   "language": "python",
   "name": "python3"
  },
  "language_info": {
   "codemirror_mode": {
    "name": "ipython",
    "version": 3
   },
   "file_extension": ".py",
   "mimetype": "text/x-python",
   "name": "python",
   "nbconvert_exporter": "python",
   "pygments_lexer": "ipython3",
   "version": "3.8.2"
  }
 },
 "nbformat": 4,
 "nbformat_minor": 5
}
