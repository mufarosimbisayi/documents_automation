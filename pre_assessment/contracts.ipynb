{
 "cells": [
  {
   "cell_type": "markdown",
   "id": "16d48b9d-124b-4ebf-9ab2-aad633e65a50",
   "metadata": {},
   "source": [
    "***This notebook contains a script that sends Student Contracts to Students for signing***"
   ]
  },
  {
   "cell_type": "markdown",
   "id": "6011fb6b-ff7a-403f-9615-355c37472b32",
   "metadata": {},
   "source": [
    "**Add local library to path**"
   ]
  },
  {
   "cell_type": "code",
   "execution_count": 4,
   "id": "3528009f-3f6c-4ddf-8e19-3b90c9241f6b",
   "metadata": {},
   "outputs": [],
   "source": [
    "import os\n",
    "import sys\n",
    "\n",
    "module_path = os.path.abspath(os.path.join('..'))\n",
    "if module_path not in sys.path:\n",
    "    sys.path.append(module_path)\n",
    "    sys.path.append(module_path + '/local_library')"
   ]
  },
  {
   "cell_type": "markdown",
   "id": "62f9ef94-d020-497c-a6e9-295d48584446",
   "metadata": {},
   "source": [
    "***Import Libraries***"
   ]
  },
  {
   "cell_type": "code",
   "execution_count": 5,
   "id": "217879e8-c93d-433c-b29b-64b866d28084",
   "metadata": {},
   "outputs": [
    {
     "name": "stdout",
     "output_type": "stream",
     "text": [
      "Your browser has been opened to visit:\n",
      "\n",
      "    https://accounts.google.com/o/oauth2/auth?client_id=1017190226189-f1d5s7cpjrj54u2rqk1ufh9pevguqoap.apps.googleusercontent.com&redirect_uri=http%3A%2F%2Flocalhost%3A8080%2F&scope=https%3A%2F%2Fwww.googleapis.com%2Fauth%2Fdrive&access_type=offline&response_type=code\n",
      "\n",
      "Authentication successful.\n"
     ]
    }
   ],
   "source": [
    "import pandas as pd\n",
    "import requests\n",
    "import json\n",
    "from datetime import date\n",
    "from local_library import import_worksheet\n",
    "from local_library import export_worksheet\n",
    "from local_library import send_bulk_signrequest"
   ]
  },
  {
   "cell_type": "markdown",
   "id": "f6d4a449-92e6-46e5-8e50-daa3561a5557",
   "metadata": {},
   "source": [
    "**Import Data**"
   ]
  },
  {
   "cell_type": "code",
   "execution_count": 6,
   "id": "880f55e9-3254-41fb-b7ae-beed212b079a",
   "metadata": {},
   "outputs": [],
   "source": [
    "#import 2020 data worksheet\n",
    "cohort_df = import_worksheet(\"Cohort 2020 Data\", \"Cohort 2020 Data\")\n",
    "cohort_df = cohort_df[cohort_df['Active / Not active/Early absorption'] == 'Active']\n",
    "\n",
    "#import assessor database\n",
    "assessor_df = import_worksheet(\"SETA Assessor Registration Form (Responses)\", \"Form Responses 1\")"
   ]
  },
  {
   "cell_type": "markdown",
   "id": "1e8975d2-e97b-4d90-ad0a-0bb107e7d73d",
   "metadata": {},
   "source": [
    "**Create Learner FullName**"
   ]
  },
  {
   "cell_type": "code",
   "execution_count": 7,
   "id": "a147e17b-09da-4a37-a34f-6c3f909d0ec3",
   "metadata": {},
   "outputs": [],
   "source": [
    "cohort_df['learner_fullname'] = cohort_df['Firstname'] + ' ' + cohort_df['Surname']"
   ]
  },
  {
   "cell_type": "markdown",
   "id": "12921718-a20b-4af0-9b1b-794c9f4940ac",
   "metadata": {},
   "source": [
    "**Create Learner Initials**"
   ]
  },
  {
   "cell_type": "code",
   "execution_count": 8,
   "id": "66aa57ef-d399-4f4e-80d3-ba67f692b778",
   "metadata": {},
   "outputs": [],
   "source": [
    "cohort_df[\"learner_initials\"] = [name.split()[0][0] + \".\" + name.split()[1][0] for name in cohort_df['Firstname'] + ' ' + cohort_df['Surname']]\n"
   ]
  },
  {
   "cell_type": "markdown",
   "id": "d7dd7264-4b89-4340-9d34-0870ed888140",
   "metadata": {},
   "source": [
    "**Create Learner Passport**"
   ]
  },
  {
   "cell_type": "code",
   "execution_count": 9,
   "id": "68567b4d-7d84-4f7f-a433-3657a4f2cdba",
   "metadata": {},
   "outputs": [],
   "source": [
    "cohort_df[\"learner_passport\"] = [passport if len(str(passport)) != 13 else \" \" for passport in cohort_df[\"ID Number/ Passport Number\"]]\n"
   ]
  },
  {
   "cell_type": "markdown",
   "id": "7d03cc57-9c30-4937-8fc6-ac419202c069",
   "metadata": {},
   "source": [
    "**Create Learner Equity Code**"
   ]
  },
  {
   "cell_type": "code",
   "execution_count": 10,
   "id": "6624f829-ddb0-43a5-add0-69e3db137a53",
   "metadata": {},
   "outputs": [],
   "source": [
    "cohort_df['learner_equity'] = cohort_df['Ethnicity'].map({'White':'WH', 'white':'WH', 'Coloured':'BC', 'coloured':'BC', \n",
    "                                                     'black':'BA', 'Black':'BA', 'Asian':'BI', 'indian':'BI','Indian':'BI'})"
   ]
  },
  {
   "cell_type": "markdown",
   "id": "352d0b94-164b-4fcd-81c1-e07e60d625d4",
   "metadata": {},
   "source": [
    "**Create Learner Learnership**"
   ]
  },
  {
   "cell_type": "code",
   "execution_count": 11,
   "id": "64ba4d3d-d566-466a-aabb-a142cf0409d5",
   "metadata": {},
   "outputs": [],
   "source": [
    "cohort_df['learner_nationality'] = cohort_df['Nationality'].map({'South African':'SA', 'Zimbabwean':'ZIM', 'Congolese':'ROA',\n",
    "                                                                'Dutch':'EUR', 'Nigerian':'ROA'})"
   ]
  },
  {
   "cell_type": "markdown",
   "id": "26ddb8d8-5dde-4db6-b91d-21797f0c3edd",
   "metadata": {},
   "source": [
    "**Create Learner Citizenship**"
   ]
  },
  {
   "cell_type": "code",
   "execution_count": 12,
   "id": "2e3b96c4-5a3f-44d2-bd1e-1df301743917",
   "metadata": {},
   "outputs": [],
   "source": [
    "cohort_df['Residential Status (Citizen / Permanent Resident/Asylum Seeker/Work Permit/Study Permit)'] = cohort_df['Residential Status (Citizen / Permanent Resident/Asylum Seeker/Work Permit/Study Permit)'].fillna('Uknown')\n",
    "cohort_df['learner_citizenship'] = cohort_df['Residential Status (Citizen / Permanent Resident/Asylum Seeker/Work Permit/Study Permit)'].map({\"Unknown\":\"U\", \"Citizen\":\"SA\",\n",
    "                                                                                  \"Permanent Resident\":\"O\", \"Dual\":\"D\"})"
   ]
  },
  {
   "cell_type": "markdown",
   "id": "cc57d26a-a8f7-4cd9-b895-cb960ee853f7",
   "metadata": {},
   "source": [
    "**Create Learner Langauge**"
   ]
  },
  {
   "cell_type": "code",
   "execution_count": 13,
   "id": "a27b52af-6fb1-4da8-b19d-dfb36b6a1cb0",
   "metadata": {},
   "outputs": [],
   "source": [
    "cohort_df['learner_language'] = cohort_df['Home Language'].map({'English':'ENG', 'Afrikaans':'AFR', 'Sepedi [also known as Northern Sotho / Sesotho sa Lebowa]':'SEP',\n",
    "       'tshiVenda':'TSH', 'isiZulu':'ZUL', 'isiXhosa':'XHO', 'seTswana':'SET', 'xiTsonga':'XIT',\n",
    "       'isiNdebele':'NDE', 'seSotho':'SES', 'Other':'OTH', 'siSwati':'SWA', 'Sesotho':'SES'})\n"
   ]
  },
  {
   "cell_type": "markdown",
   "id": "e9c4845a-ae5d-48b7-8e26-ae05f77079f2",
   "metadata": {},
   "source": [
    "**Create Learner Socio Economic Status**"
   ]
  },
  {
   "cell_type": "code",
   "execution_count": 14,
   "id": "88cbc73c-255a-444f-bd2f-3c9428f93751",
   "metadata": {},
   "outputs": [],
   "source": [
    "cohort_df[\"learner_socioeconomic\"] = \"01\""
   ]
  },
  {
   "cell_type": "markdown",
   "id": "9f53417a-c71f-45a3-be99-90891e2af22f",
   "metadata": {},
   "source": [
    "**Create Learner Disability**"
   ]
  },
  {
   "cell_type": "code",
   "execution_count": 15,
   "id": "f8068409-060a-4f66-9558-d1b79df7c4c9",
   "metadata": {},
   "outputs": [],
   "source": [
    "cohort_df['Disability'] = cohort_df['Disability'].fillna('Uknown')\n",
    "cohort_df['learner_disability'] = cohort_df['Disability'].map({'No':'N', 'no':'N', 'Yes':'09', 'None':'N', 'yes':'09', 'Yes - specwearer':'01', 'N':'N', 'ADD':'09',\n",
    "       'Visual impairment - spec wearer':'02', 'Y - specwearer':'02', 'Visual impairment - Spec wearer -':'02', 'Uknown':'U', 'Aspergers / Autistic':'06',\n",
    "       'Patella Alta':'04', 'yes - specwearer':'02', '\\\\N':'N', 'Y- specwearer':'02'})\n"
   ]
  },
  {
   "cell_type": "markdown",
   "id": "810d6f20-6c51-4867-9bc6-7c7bf4a9f705",
   "metadata": {},
   "source": [
    "**Create Province Code**"
   ]
  },
  {
   "cell_type": "code",
   "execution_count": 16,
   "id": "cf583425-4cce-43c1-a93c-84cd3c467510",
   "metadata": {},
   "outputs": [],
   "source": [
    "cohort_df['learner_province'] = cohort_df['Municipality'].map({'Cape Town Metro':'2', 'Johannesburg Metro':'8', 'Ekurhuleni Metro':'8',\n",
    "       'Stellenbosch':'2', 'Tshwane Metro':'8', 'Mogale City':'8', 'Blouberg':'10',\n",
    "       'Midvaal':'8', 'Drakenstein':'2', 'UMlazi municipality':'6', 'Molopo':'7',\n",
    "       'Overberg':'2', 'Maluti a Phofung':'5', 'West Coast':'2', 'Foreign': '1'})\n"
   ]
  },
  {
   "cell_type": "markdown",
   "id": "86275083-26e6-46b4-9351-09519650667d",
   "metadata": {},
   "source": [
    "**Create Learner Designation**"
   ]
  },
  {
   "cell_type": "code",
   "execution_count": 17,
   "id": "060e9e90-2a84-4bd3-a051-4aa2dcfeb771",
   "metadata": {},
   "outputs": [],
   "source": [
    "cohort_df[\"learner_designation\"] = \"Learner\""
   ]
  },
  {
   "cell_type": "markdown",
   "id": "5982665b-78d4-438e-98a4-acb247abf5ba",
   "metadata": {},
   "source": [
    "**Create Learner Company**"
   ]
  },
  {
   "cell_type": "code",
   "execution_count": 18,
   "id": "5b97edd5-37a2-4757-8e9b-cf0233604d54",
   "metadata": {},
   "outputs": [],
   "source": [
    "cohort_df['learner_company'] = 'WeThinkCode_'"
   ]
  },
  {
   "cell_type": "markdown",
   "id": "cb3d3cf0-90ea-4927-b95a-d31eed01b445",
   "metadata": {},
   "source": [
    "**Create Learner Title**"
   ]
  },
  {
   "cell_type": "code",
   "execution_count": 19,
   "id": "50be5828-9672-4c2d-a7a5-2bb35c149602",
   "metadata": {},
   "outputs": [],
   "source": [
    "cohort_df['learner_title'] = ['Mr.' if gender.lower() == 'male' else 'Ms.' for gender in cohort_df['Gender']]"
   ]
  },
  {
   "cell_type": "markdown",
   "id": "4866725b-1908-45a5-9b03-9f05c51d2a1a",
   "metadata": {},
   "source": [
    "**Create Learner Contact**"
   ]
  },
  {
   "cell_type": "code",
   "execution_count": 20,
   "id": "862caec0-8ac6-4909-81a9-0cd92ea70e60",
   "metadata": {},
   "outputs": [],
   "source": [
    "cohort_df['learner_contact'] = 'Larissa Brand'"
   ]
  },
  {
   "cell_type": "markdown",
   "id": "796ea82f-571b-497b-a7b4-3682b0282287",
   "metadata": {},
   "source": [
    "**Create Learner Contact Phone**"
   ]
  },
  {
   "cell_type": "code",
   "execution_count": 21,
   "id": "04d24480-8c5a-4405-8e0a-24e90bc3cd2c",
   "metadata": {},
   "outputs": [],
   "source": [
    "cohort_df['learner_contact_phone'] = '082 774 9982'"
   ]
  },
  {
   "cell_type": "markdown",
   "id": "b20b90e3-cac6-4a39-8a2e-a4428f4962c4",
   "metadata": {},
   "source": [
    "**Fix Learner Phone**"
   ]
  },
  {
   "cell_type": "code",
   "execution_count": 22,
   "id": "3470a8fb-4ecf-487f-acff-abce259def36",
   "metadata": {},
   "outputs": [
    {
     "ename": "IntCastingNaNError",
     "evalue": "Cannot convert non-finite values (NA or inf) to integer",
     "output_type": "error",
     "traceback": [
      "\u001b[0;31m---------------------------------------------------------------------------\u001b[0m",
      "\u001b[0;31mIntCastingNaNError\u001b[0m                        Traceback (most recent call last)",
      "\u001b[0;32m/var/folders/33/s663vbhn2v1f4q409xh14zkh0000gn/T/ipykernel_92063/2438288673.py\u001b[0m in \u001b[0;36m<module>\u001b[0;34m\u001b[0m\n\u001b[1;32m     24\u001b[0m \u001b[0;34m\u001b[0m\u001b[0m\n\u001b[1;32m     25\u001b[0m \u001b[0;31m#convert phone to string\u001b[0m\u001b[0;34m\u001b[0m\u001b[0;34m\u001b[0m\u001b[0;34m\u001b[0m\u001b[0m\n\u001b[0;32m---> 26\u001b[0;31m \u001b[0mconvert_phone_to_string\u001b[0m\u001b[0;34m(\u001b[0m\u001b[0mcohort_df\u001b[0m\u001b[0;34m,\u001b[0m\u001b[0;34m\"Mobile Number\"\u001b[0m\u001b[0;34m)\u001b[0m\u001b[0;34m\u001b[0m\u001b[0;34m\u001b[0m\u001b[0m\n\u001b[0m",
      "\u001b[0;32m/var/folders/33/s663vbhn2v1f4q409xh14zkh0000gn/T/ipykernel_92063/2438288673.py\u001b[0m in \u001b[0;36mconvert_phone_to_string\u001b[0;34m(target_df, column)\u001b[0m\n\u001b[1;32m     18\u001b[0m \u001b[0;34m\u001b[0m\u001b[0m\n\u001b[1;32m     19\u001b[0m     \u001b[0;31m#convert to int\u001b[0m\u001b[0;34m\u001b[0m\u001b[0;34m\u001b[0m\u001b[0;34m\u001b[0m\u001b[0m\n\u001b[0;32m---> 20\u001b[0;31m     \u001b[0mtarget_df\u001b[0m\u001b[0;34m[\u001b[0m\u001b[0mcolumn\u001b[0m\u001b[0;34m]\u001b[0m \u001b[0;34m=\u001b[0m \u001b[0mtarget_df\u001b[0m\u001b[0;34m[\u001b[0m\u001b[0mcolumn\u001b[0m\u001b[0;34m]\u001b[0m\u001b[0;34m.\u001b[0m\u001b[0mastype\u001b[0m\u001b[0;34m(\u001b[0m\u001b[0mint\u001b[0m\u001b[0;34m)\u001b[0m\u001b[0;34m\u001b[0m\u001b[0;34m\u001b[0m\u001b[0m\n\u001b[0m\u001b[1;32m     21\u001b[0m \u001b[0;34m\u001b[0m\u001b[0m\n\u001b[1;32m     22\u001b[0m     \u001b[0;31m#convert to string\u001b[0m\u001b[0;34m\u001b[0m\u001b[0;34m\u001b[0m\u001b[0;34m\u001b[0m\u001b[0m\n",
      "\u001b[0;32m~/Library/Python/3.8/lib/python/site-packages/pandas/core/generic.py\u001b[0m in \u001b[0;36mastype\u001b[0;34m(self, dtype, copy, errors)\u001b[0m\n\u001b[1;32m   5804\u001b[0m         \u001b[0;32melse\u001b[0m\u001b[0;34m:\u001b[0m\u001b[0;34m\u001b[0m\u001b[0;34m\u001b[0m\u001b[0m\n\u001b[1;32m   5805\u001b[0m             \u001b[0;31m# else, only a single dtype is given\u001b[0m\u001b[0;34m\u001b[0m\u001b[0;34m\u001b[0m\u001b[0;34m\u001b[0m\u001b[0m\n\u001b[0;32m-> 5806\u001b[0;31m             \u001b[0mnew_data\u001b[0m \u001b[0;34m=\u001b[0m \u001b[0mself\u001b[0m\u001b[0;34m.\u001b[0m\u001b[0m_mgr\u001b[0m\u001b[0;34m.\u001b[0m\u001b[0mastype\u001b[0m\u001b[0;34m(\u001b[0m\u001b[0mdtype\u001b[0m\u001b[0;34m=\u001b[0m\u001b[0mdtype\u001b[0m\u001b[0;34m,\u001b[0m \u001b[0mcopy\u001b[0m\u001b[0;34m=\u001b[0m\u001b[0mcopy\u001b[0m\u001b[0;34m,\u001b[0m \u001b[0merrors\u001b[0m\u001b[0;34m=\u001b[0m\u001b[0merrors\u001b[0m\u001b[0;34m)\u001b[0m\u001b[0;34m\u001b[0m\u001b[0;34m\u001b[0m\u001b[0m\n\u001b[0m\u001b[1;32m   5807\u001b[0m             \u001b[0;32mreturn\u001b[0m \u001b[0mself\u001b[0m\u001b[0;34m.\u001b[0m\u001b[0m_constructor\u001b[0m\u001b[0;34m(\u001b[0m\u001b[0mnew_data\u001b[0m\u001b[0;34m)\u001b[0m\u001b[0;34m.\u001b[0m\u001b[0m__finalize__\u001b[0m\u001b[0;34m(\u001b[0m\u001b[0mself\u001b[0m\u001b[0;34m,\u001b[0m \u001b[0mmethod\u001b[0m\u001b[0;34m=\u001b[0m\u001b[0;34m\"astype\"\u001b[0m\u001b[0;34m)\u001b[0m\u001b[0;34m\u001b[0m\u001b[0;34m\u001b[0m\u001b[0m\n\u001b[1;32m   5808\u001b[0m \u001b[0;34m\u001b[0m\u001b[0m\n",
      "\u001b[0;32m~/Library/Python/3.8/lib/python/site-packages/pandas/core/internals/managers.py\u001b[0m in \u001b[0;36mastype\u001b[0;34m(self, dtype, copy, errors)\u001b[0m\n\u001b[1;32m    412\u001b[0m \u001b[0;34m\u001b[0m\u001b[0m\n\u001b[1;32m    413\u001b[0m     \u001b[0;32mdef\u001b[0m \u001b[0mastype\u001b[0m\u001b[0;34m(\u001b[0m\u001b[0mself\u001b[0m\u001b[0;34m:\u001b[0m \u001b[0mT\u001b[0m\u001b[0;34m,\u001b[0m \u001b[0mdtype\u001b[0m\u001b[0;34m,\u001b[0m \u001b[0mcopy\u001b[0m\u001b[0;34m:\u001b[0m \u001b[0mbool\u001b[0m \u001b[0;34m=\u001b[0m \u001b[0;32mFalse\u001b[0m\u001b[0;34m,\u001b[0m \u001b[0merrors\u001b[0m\u001b[0;34m:\u001b[0m \u001b[0mstr\u001b[0m \u001b[0;34m=\u001b[0m \u001b[0;34m\"raise\"\u001b[0m\u001b[0;34m)\u001b[0m \u001b[0;34m->\u001b[0m \u001b[0mT\u001b[0m\u001b[0;34m:\u001b[0m\u001b[0;34m\u001b[0m\u001b[0;34m\u001b[0m\u001b[0m\n\u001b[0;32m--> 414\u001b[0;31m         \u001b[0;32mreturn\u001b[0m \u001b[0mself\u001b[0m\u001b[0;34m.\u001b[0m\u001b[0mapply\u001b[0m\u001b[0;34m(\u001b[0m\u001b[0;34m\"astype\"\u001b[0m\u001b[0;34m,\u001b[0m \u001b[0mdtype\u001b[0m\u001b[0;34m=\u001b[0m\u001b[0mdtype\u001b[0m\u001b[0;34m,\u001b[0m \u001b[0mcopy\u001b[0m\u001b[0;34m=\u001b[0m\u001b[0mcopy\u001b[0m\u001b[0;34m,\u001b[0m \u001b[0merrors\u001b[0m\u001b[0;34m=\u001b[0m\u001b[0merrors\u001b[0m\u001b[0;34m)\u001b[0m\u001b[0;34m\u001b[0m\u001b[0;34m\u001b[0m\u001b[0m\n\u001b[0m\u001b[1;32m    415\u001b[0m \u001b[0;34m\u001b[0m\u001b[0m\n\u001b[1;32m    416\u001b[0m     def convert(\n",
      "\u001b[0;32m~/Library/Python/3.8/lib/python/site-packages/pandas/core/internals/managers.py\u001b[0m in \u001b[0;36mapply\u001b[0;34m(self, f, align_keys, ignore_failures, **kwargs)\u001b[0m\n\u001b[1;32m    325\u001b[0m                     \u001b[0mapplied\u001b[0m \u001b[0;34m=\u001b[0m \u001b[0mb\u001b[0m\u001b[0;34m.\u001b[0m\u001b[0mapply\u001b[0m\u001b[0;34m(\u001b[0m\u001b[0mf\u001b[0m\u001b[0;34m,\u001b[0m \u001b[0;34m**\u001b[0m\u001b[0mkwargs\u001b[0m\u001b[0;34m)\u001b[0m\u001b[0;34m\u001b[0m\u001b[0;34m\u001b[0m\u001b[0m\n\u001b[1;32m    326\u001b[0m                 \u001b[0;32melse\u001b[0m\u001b[0;34m:\u001b[0m\u001b[0;34m\u001b[0m\u001b[0;34m\u001b[0m\u001b[0m\n\u001b[0;32m--> 327\u001b[0;31m                     \u001b[0mapplied\u001b[0m \u001b[0;34m=\u001b[0m \u001b[0mgetattr\u001b[0m\u001b[0;34m(\u001b[0m\u001b[0mb\u001b[0m\u001b[0;34m,\u001b[0m \u001b[0mf\u001b[0m\u001b[0;34m)\u001b[0m\u001b[0;34m(\u001b[0m\u001b[0;34m**\u001b[0m\u001b[0mkwargs\u001b[0m\u001b[0;34m)\u001b[0m\u001b[0;34m\u001b[0m\u001b[0;34m\u001b[0m\u001b[0m\n\u001b[0m\u001b[1;32m    328\u001b[0m             \u001b[0;32mexcept\u001b[0m \u001b[0;34m(\u001b[0m\u001b[0mTypeError\u001b[0m\u001b[0;34m,\u001b[0m \u001b[0mNotImplementedError\u001b[0m\u001b[0;34m)\u001b[0m\u001b[0;34m:\u001b[0m\u001b[0;34m\u001b[0m\u001b[0;34m\u001b[0m\u001b[0m\n\u001b[1;32m    329\u001b[0m                 \u001b[0;32mif\u001b[0m \u001b[0;32mnot\u001b[0m \u001b[0mignore_failures\u001b[0m\u001b[0;34m:\u001b[0m\u001b[0;34m\u001b[0m\u001b[0;34m\u001b[0m\u001b[0m\n",
      "\u001b[0;32m~/Library/Python/3.8/lib/python/site-packages/pandas/core/internals/blocks.py\u001b[0m in \u001b[0;36mastype\u001b[0;34m(self, dtype, copy, errors)\u001b[0m\n\u001b[1;32m    590\u001b[0m         \u001b[0mvalues\u001b[0m \u001b[0;34m=\u001b[0m \u001b[0mself\u001b[0m\u001b[0;34m.\u001b[0m\u001b[0mvalues\u001b[0m\u001b[0;34m\u001b[0m\u001b[0;34m\u001b[0m\u001b[0m\n\u001b[1;32m    591\u001b[0m \u001b[0;34m\u001b[0m\u001b[0m\n\u001b[0;32m--> 592\u001b[0;31m         \u001b[0mnew_values\u001b[0m \u001b[0;34m=\u001b[0m \u001b[0mastype_array_safe\u001b[0m\u001b[0;34m(\u001b[0m\u001b[0mvalues\u001b[0m\u001b[0;34m,\u001b[0m \u001b[0mdtype\u001b[0m\u001b[0;34m,\u001b[0m \u001b[0mcopy\u001b[0m\u001b[0;34m=\u001b[0m\u001b[0mcopy\u001b[0m\u001b[0;34m,\u001b[0m \u001b[0merrors\u001b[0m\u001b[0;34m=\u001b[0m\u001b[0merrors\u001b[0m\u001b[0;34m)\u001b[0m\u001b[0;34m\u001b[0m\u001b[0;34m\u001b[0m\u001b[0m\n\u001b[0m\u001b[1;32m    593\u001b[0m \u001b[0;34m\u001b[0m\u001b[0m\n\u001b[1;32m    594\u001b[0m         \u001b[0mnew_values\u001b[0m \u001b[0;34m=\u001b[0m \u001b[0mmaybe_coerce_values\u001b[0m\u001b[0;34m(\u001b[0m\u001b[0mnew_values\u001b[0m\u001b[0;34m)\u001b[0m\u001b[0;34m\u001b[0m\u001b[0;34m\u001b[0m\u001b[0m\n",
      "\u001b[0;32m~/Library/Python/3.8/lib/python/site-packages/pandas/core/dtypes/cast.py\u001b[0m in \u001b[0;36mastype_array_safe\u001b[0;34m(values, dtype, copy, errors)\u001b[0m\n\u001b[1;32m   1298\u001b[0m \u001b[0;34m\u001b[0m\u001b[0m\n\u001b[1;32m   1299\u001b[0m     \u001b[0;32mtry\u001b[0m\u001b[0;34m:\u001b[0m\u001b[0;34m\u001b[0m\u001b[0;34m\u001b[0m\u001b[0m\n\u001b[0;32m-> 1300\u001b[0;31m         \u001b[0mnew_values\u001b[0m \u001b[0;34m=\u001b[0m \u001b[0mastype_array\u001b[0m\u001b[0;34m(\u001b[0m\u001b[0mvalues\u001b[0m\u001b[0;34m,\u001b[0m \u001b[0mdtype\u001b[0m\u001b[0;34m,\u001b[0m \u001b[0mcopy\u001b[0m\u001b[0;34m=\u001b[0m\u001b[0mcopy\u001b[0m\u001b[0;34m)\u001b[0m\u001b[0;34m\u001b[0m\u001b[0;34m\u001b[0m\u001b[0m\n\u001b[0m\u001b[1;32m   1301\u001b[0m     \u001b[0;32mexcept\u001b[0m \u001b[0;34m(\u001b[0m\u001b[0mValueError\u001b[0m\u001b[0;34m,\u001b[0m \u001b[0mTypeError\u001b[0m\u001b[0;34m)\u001b[0m\u001b[0;34m:\u001b[0m\u001b[0;34m\u001b[0m\u001b[0;34m\u001b[0m\u001b[0m\n\u001b[1;32m   1302\u001b[0m         \u001b[0;31m# e.g. astype_nansafe can fail on object-dtype of strings\u001b[0m\u001b[0;34m\u001b[0m\u001b[0;34m\u001b[0m\u001b[0;34m\u001b[0m\u001b[0m\n",
      "\u001b[0;32m~/Library/Python/3.8/lib/python/site-packages/pandas/core/dtypes/cast.py\u001b[0m in \u001b[0;36mastype_array\u001b[0;34m(values, dtype, copy)\u001b[0m\n\u001b[1;32m   1246\u001b[0m \u001b[0;34m\u001b[0m\u001b[0m\n\u001b[1;32m   1247\u001b[0m     \u001b[0;32melse\u001b[0m\u001b[0;34m:\u001b[0m\u001b[0;34m\u001b[0m\u001b[0;34m\u001b[0m\u001b[0m\n\u001b[0;32m-> 1248\u001b[0;31m         \u001b[0mvalues\u001b[0m \u001b[0;34m=\u001b[0m \u001b[0mastype_nansafe\u001b[0m\u001b[0;34m(\u001b[0m\u001b[0mvalues\u001b[0m\u001b[0;34m,\u001b[0m \u001b[0mdtype\u001b[0m\u001b[0;34m,\u001b[0m \u001b[0mcopy\u001b[0m\u001b[0;34m=\u001b[0m\u001b[0mcopy\u001b[0m\u001b[0;34m)\u001b[0m\u001b[0;34m\u001b[0m\u001b[0;34m\u001b[0m\u001b[0m\n\u001b[0m\u001b[1;32m   1249\u001b[0m \u001b[0;34m\u001b[0m\u001b[0m\n\u001b[1;32m   1250\u001b[0m     \u001b[0;31m# in pandas we don't store numpy str dtypes, so convert to object\u001b[0m\u001b[0;34m\u001b[0m\u001b[0;34m\u001b[0m\u001b[0;34m\u001b[0m\u001b[0m\n",
      "\u001b[0;32m~/Library/Python/3.8/lib/python/site-packages/pandas/core/dtypes/cast.py\u001b[0m in \u001b[0;36mastype_nansafe\u001b[0;34m(arr, dtype, copy, skipna)\u001b[0m\n\u001b[1;32m   1157\u001b[0m \u001b[0;34m\u001b[0m\u001b[0m\n\u001b[1;32m   1158\u001b[0m     \u001b[0;32melif\u001b[0m \u001b[0mnp\u001b[0m\u001b[0;34m.\u001b[0m\u001b[0missubdtype\u001b[0m\u001b[0;34m(\u001b[0m\u001b[0marr\u001b[0m\u001b[0;34m.\u001b[0m\u001b[0mdtype\u001b[0m\u001b[0;34m,\u001b[0m \u001b[0mnp\u001b[0m\u001b[0;34m.\u001b[0m\u001b[0mfloating\u001b[0m\u001b[0;34m)\u001b[0m \u001b[0;32mand\u001b[0m \u001b[0mnp\u001b[0m\u001b[0;34m.\u001b[0m\u001b[0missubdtype\u001b[0m\u001b[0;34m(\u001b[0m\u001b[0mdtype\u001b[0m\u001b[0;34m,\u001b[0m \u001b[0mnp\u001b[0m\u001b[0;34m.\u001b[0m\u001b[0minteger\u001b[0m\u001b[0;34m)\u001b[0m\u001b[0;34m:\u001b[0m\u001b[0;34m\u001b[0m\u001b[0;34m\u001b[0m\u001b[0m\n\u001b[0;32m-> 1159\u001b[0;31m         \u001b[0;32mreturn\u001b[0m \u001b[0mastype_float_to_int_nansafe\u001b[0m\u001b[0;34m(\u001b[0m\u001b[0marr\u001b[0m\u001b[0;34m,\u001b[0m \u001b[0mdtype\u001b[0m\u001b[0;34m,\u001b[0m \u001b[0mcopy\u001b[0m\u001b[0;34m)\u001b[0m\u001b[0;34m\u001b[0m\u001b[0;34m\u001b[0m\u001b[0m\n\u001b[0m\u001b[1;32m   1160\u001b[0m \u001b[0;34m\u001b[0m\u001b[0m\n\u001b[1;32m   1161\u001b[0m     \u001b[0;32melif\u001b[0m \u001b[0mis_object_dtype\u001b[0m\u001b[0;34m(\u001b[0m\u001b[0marr\u001b[0m\u001b[0;34m)\u001b[0m\u001b[0;34m:\u001b[0m\u001b[0;34m\u001b[0m\u001b[0;34m\u001b[0m\u001b[0m\n",
      "\u001b[0;32m~/Library/Python/3.8/lib/python/site-packages/pandas/core/dtypes/cast.py\u001b[0m in \u001b[0;36mastype_float_to_int_nansafe\u001b[0;34m(values, dtype, copy)\u001b[0m\n\u001b[1;32m   1202\u001b[0m     \"\"\"\n\u001b[1;32m   1203\u001b[0m     \u001b[0;32mif\u001b[0m \u001b[0;32mnot\u001b[0m \u001b[0mnp\u001b[0m\u001b[0;34m.\u001b[0m\u001b[0misfinite\u001b[0m\u001b[0;34m(\u001b[0m\u001b[0mvalues\u001b[0m\u001b[0;34m)\u001b[0m\u001b[0;34m.\u001b[0m\u001b[0mall\u001b[0m\u001b[0;34m(\u001b[0m\u001b[0;34m)\u001b[0m\u001b[0;34m:\u001b[0m\u001b[0;34m\u001b[0m\u001b[0;34m\u001b[0m\u001b[0m\n\u001b[0;32m-> 1204\u001b[0;31m         raise IntCastingNaNError(\n\u001b[0m\u001b[1;32m   1205\u001b[0m             \u001b[0;34m\"Cannot convert non-finite values (NA or inf) to integer\"\u001b[0m\u001b[0;34m\u001b[0m\u001b[0;34m\u001b[0m\u001b[0m\n\u001b[1;32m   1206\u001b[0m         )\n",
      "\u001b[0;31mIntCastingNaNError\u001b[0m: Cannot convert non-finite values (NA or inf) to integer"
     ]
    }
   ],
   "source": [
    "def convert_phone_to_string(target_df, column):\n",
    "    \"\"\"\n",
    "    Converts phone number column to a string type.\n",
    "    \n",
    "    Args:\n",
    "        target_df: The dataframe containing the column to be converted.\n",
    "        column: The column to be converted.\n",
    "        \n",
    "    Returns:\n",
    "        N/A\n",
    "    \"\"\"\n",
    "    \n",
    "    #convert to string\n",
    "    target_df[column] = target_df[column].astype(str)\n",
    "    \n",
    "    #convert to float\n",
    "    target_df[column] = target_df[column].astype(float)\n",
    "    \n",
    "    #convert to int\n",
    "    target_df[column] = target_df[column].astype(int)\n",
    "    \n",
    "    #convert to string\n",
    "    target_df[column] = target_df[column].astype(str)\n",
    "    \n",
    "#convert phone to string\n",
    "convert_phone_to_string(cohort_df,\"Mobile Number\")"
   ]
  },
  {
   "cell_type": "markdown",
   "id": "0b1108c4-b521-46bf-900f-11f46268f592",
   "metadata": {},
   "source": [
    "**Rename Columns**"
   ]
  },
  {
   "cell_type": "code",
   "execution_count": 23,
   "id": "3d16eaaa-0956-439d-bbb4-bf7c515ce4a2",
   "metadata": {},
   "outputs": [],
   "source": [
    "cohort_df = cohort_df.rename(columns={\"ID Number/ Passport Number\":\"learner_id\", \"Firstname\":\"learner_name\", \"Surname\":\"learner_surname\", \"Birth Date\":\"learner_birthdate\",\n",
    "                            \"Gender\":\"learner_gender\", \"Home Address\":\"learner_postal_address\", \"Physical Address while studying\":\"learner_home_address\",\n",
    "                            \"Mobile Number\":\"learner_phone\", \"Student Email\":\"learner_email\"})\n"
   ]
  },
  {
   "cell_type": "markdown",
   "id": "a0d01419-50b3-4933-9fe8-18910db94e33",
   "metadata": {},
   "source": [
    "**Subset Columns**"
   ]
  },
  {
   "cell_type": "code",
   "execution_count": 24,
   "id": "9f359d3f-abcd-47c5-8e94-35625a329826",
   "metadata": {},
   "outputs": [],
   "source": [
    "#subset columns\n",
    "column_name = [\"learner_name\", \"learner_surname\",'learner_fullname', 'learner_initials',\n",
    "               'learner_passport','learner_equity', 'learner_nationality', 'learner_citizenship',\n",
    "               'learner_language', 'learner_socioeconomic', 'learner_disability','learner_province', 'learner_designation',\n",
    "              \"learner_id\", \"learner_company\", \"learner_title\", \"learner_birthdate\", \"learner_gender\", \"learner_postal_address\",\n",
    "              \"learner_home_address\", \"learner_phone\", \"learner_email\", \"learner_contact\", \"learner_contact_phone\", \"Campus\"]\n",
    "\n",
    "cohort_df = cohort_df[column_name]"
   ]
  },
  {
   "cell_type": "markdown",
   "id": "c384af15-7e9e-4fbc-9f8b-97622051d774",
   "metadata": {},
   "source": [
    "**Create Assessor Full Name**"
   ]
  },
  {
   "cell_type": "code",
   "execution_count": 25,
   "id": "728838b8-19d0-4d44-a2e1-fc740d9698b5",
   "metadata": {},
   "outputs": [],
   "source": [
    "#assessor_df['assessor_fullname'] = assessor_df['Assessor Name'] + ' ' + assessor_df['Assessor Surname']"
   ]
  },
  {
   "cell_type": "markdown",
   "id": "579086d6-55ee-461a-b521-9a55a378d1ac",
   "metadata": {},
   "source": [
    "**Assessor Column Names**"
   ]
  },
  {
   "cell_type": "code",
   "execution_count": 26,
   "id": "71cd3cc9-1c0d-4a1c-863c-039833047a3b",
   "metadata": {},
   "outputs": [],
   "source": [
    "#assessor_df.columns = ['Timestamp', 'assessor_name', 'assessor_surname',\n",
    "#      'assessor_registration_number', 'Campus', 'assessor_email', 'assessor_fullname']"
   ]
  },
  {
   "cell_type": "markdown",
   "id": "d41fc13b-3d5b-4b52-933e-252d714b0edc",
   "metadata": {},
   "source": [
    "**Drop Timestamp**"
   ]
  },
  {
   "cell_type": "code",
   "execution_count": 27,
   "id": "78630b89-46ee-4d7f-9579-79b21c9fa43f",
   "metadata": {},
   "outputs": [],
   "source": [
    "#assessor_df = assessor_df.drop('Timestamp',1)"
   ]
  },
  {
   "cell_type": "markdown",
   "id": "11ea0707-3bf5-44e3-8569-8dba049c19ce",
   "metadata": {},
   "source": [
    "**Merge cohort data with assessor data**"
   ]
  },
  {
   "cell_type": "code",
   "execution_count": 28,
   "id": "45b6cfd6-18f1-402c-add8-07b178603354",
   "metadata": {},
   "outputs": [],
   "source": [
    "#cohort_df = cohort_df.merge(assessor_df, on='Campus')"
   ]
  },
  {
   "cell_type": "code",
   "execution_count": null,
   "id": "44738605-2c6d-4881-9436-f3ff6a590ef8",
   "metadata": {},
   "outputs": [],
   "source": []
  },
  {
   "cell_type": "markdown",
   "id": "748297e5-fe41-4195-9c99-fd84842dcaa7",
   "metadata": {},
   "source": [
    "**Subselect Students**"
   ]
  },
  {
   "cell_type": "code",
   "execution_count": 29,
   "id": "e3978f78-05d8-4fce-912b-9c15fbbe7bf8",
   "metadata": {},
   "outputs": [],
   "source": [
    "#cohort_df = cohort_df[cohort_df['learner_email'].isin(['awood@student.wethinkcode.co.za'])]"
   ]
  },
  {
   "cell_type": "code",
   "execution_count": 30,
   "id": "515e924d-8c1a-465f-97b0-50c0f70799e2",
   "metadata": {},
   "outputs": [],
   "source": [
    "#cohort_df['learner_province']"
   ]
  },
  {
   "cell_type": "code",
   "execution_count": null,
   "id": "d51a4fff-7624-4529-85c2-0a71bef0daf1",
   "metadata": {},
   "outputs": [],
   "source": []
  },
  {
   "cell_type": "code",
   "execution_count": null,
   "id": "3832c135-53da-4653-8ee7-cc31f28eb2d0",
   "metadata": {},
   "outputs": [],
   "source": []
  },
  {
   "cell_type": "markdown",
   "id": "11e18a35-d897-4cb9-8149-ee9221735d73",
   "metadata": {},
   "source": [
    "***Send POE Instructions Document***"
   ]
  },
  {
   "cell_type": "code",
   "execution_count": 31,
   "id": "402048b6-3bf5-40e8-8ed7-159201cc3480",
   "metadata": {},
   "outputs": [],
   "source": [
    "#create target columns\n",
    "#poe_instructions_columns = ['learner_fullname', 'learner_id', 'learner_initials', 'learner_company', 'learner_email']\n",
    "\n",
    "#create template column\n",
    "#cohort_df['poe_instructions_template_column'] = \"feb67241-52f8-456c-917e-bdd0526619ee\"\n",
    "\n",
    "#send poe instructions through signrequests in bulk\n",
    "#send_bulk_signrequest(cohort_df, poe_instructions_columns, 'poe_instructions_template_column')"
   ]
  },
  {
   "cell_type": "markdown",
   "id": "74af6d6d-0128-4396-9903-107e96bedcbe",
   "metadata": {},
   "source": [
    "**Send Learner Enrolment Contract Document**"
   ]
  },
  {
   "cell_type": "code",
   "execution_count": 32,
   "id": "7bc4dc20-b56f-471d-b0d4-1ff7b7ea2ab4",
   "metadata": {},
   "outputs": [],
   "source": [
    "#create target columns\n",
    "#learner_contract_columns = ['learner_title', 'learner_fullname', 'learner_name', 'learner_surname', 'learner_birthdate', 'learner_id', 'learner_passport',\n",
    "#                           'learner_equity', 'learner_nationality', 'learner_gender', 'learner_citizenship', 'learner_language',\n",
    "#                           'learner_socioeconomic', 'learner_disability', 'learner_home_address', 'learner_postal_address',\n",
    "#                           'learner_province', 'learner_phone', 'learner_email', 'learner_company', 'learner_contact', 'learner_contact_phone',\n",
    "#                           'learner_designation']\n",
    "\n",
    "#create template column\n",
    "#cohort_df['learner_contract_template_column'] = '900be1ba-0b96-4386-a904-fb67069f168e'\n",
    "\n",
    "#send learner contract through signrequests in bulk\n",
    "#send_bulk_signrequest(cohort_df, learner_contract_columns, 'learner_contract_template_column')\n"
   ]
  },
  {
   "cell_type": "markdown",
   "id": "63d26b95-dae1-4996-b73b-0253e44debe4",
   "metadata": {},
   "source": [
    "**Send Learner Appeals Procedure**"
   ]
  },
  {
   "cell_type": "code",
   "execution_count": 33,
   "id": "862fc575-49d9-437b-8d8d-2b716f277e76",
   "metadata": {},
   "outputs": [],
   "source": [
    "\n",
    "#create target columns\n",
    "#learner_appeals_procedure_columns = ['learner_fullname', 'learner_initials']\n",
    "\n",
    "#create template column\n",
    "#cohort_df['learner_assessment_contract_template_column'] = '589d226b-1c7e-441f-b99e-1d30a2d37761'\n",
    "\n",
    "#send learner assessment contract through signrequests in bulk\n",
    "#send_bulk_signrequest(cohort_df, learner_appeals_procedure_columns, 'learner_assessment_contract_template_column')"
   ]
  },
  {
   "cell_type": "markdown",
   "id": "8c51b14d-6421-4d3c-8ff1-aef369c88413",
   "metadata": {},
   "source": [
    "**Send Learner Assessment Contract JHB**"
   ]
  },
  {
   "cell_type": "code",
   "execution_count": 34,
   "id": "47fa5985-4c46-4d8e-b559-f2be8b78a4f7",
   "metadata": {},
   "outputs": [],
   "source": [
    "#create target columns ****JHB****\n",
    "\n",
    "#jhb_df = cohort_df[cohort_df['Campus'] == 'Johannesburg']\n",
    "\n",
    "#learner_assessment_contract_columns = ['learner_fullname', 'learner_id', 'learner_email']\n",
    "\n",
    "#create template column\n",
    "#jhb_df['learner_assessment_contract_template_column'] = 'b48127ae-d278-467a-89b6-f6b3f010edb4'\n",
    "\n",
    "#send learner assessment contract through signrequests in bulk\n",
    "#send_bulk_signrequest(jhb_df, learner_assessment_contract_columns, 'learner_assessment_contract_template_column')"
   ]
  },
  {
   "cell_type": "markdown",
   "id": "dadf69af-dc95-424e-b053-cd0daed27a2b",
   "metadata": {},
   "source": [
    "**Send Learner Assessment COntract CPT**"
   ]
  },
  {
   "cell_type": "code",
   "execution_count": 35,
   "id": "0681128a-3c23-4fa0-bc18-0104ac04afc0",
   "metadata": {},
   "outputs": [],
   "source": [
    "#create target columns ****CPT****\n",
    "\n",
    "#cpt_df = cohort_df[cohort_df['Campus'] == 'Cape Town']\n",
    "\n",
    "#learner_assessment_contract_columns = ['learner_fullname', 'learner_id', 'learner_email']\n",
    "\n",
    "#create template column\n",
    "#cpt_df['learner_assessment_contract_template_column'] = '9a6b58fc-a6f6-4fba-8508-4ef859d98088'\n",
    "\n",
    "#send learner assessment contract through signrequests in bulk\n",
    "#send_bulk_signrequest(cpt_df, learner_assessment_contract_columns, 'learner_assessment_contract_template_column')"
   ]
  },
  {
   "cell_type": "markdown",
   "id": "e65c2f89-0196-43b6-8bac-d6f74b0a7701",
   "metadata": {},
   "source": [
    "**Send Learner Declaration of Authenticity**"
   ]
  },
  {
   "cell_type": "code",
   "execution_count": 42,
   "id": "9f702f49-7118-4560-a41a-de82838f5268",
   "metadata": {},
   "outputs": [
    {
     "name": "stdout",
     "output_type": "stream",
     "text": [
      "Signer: mufaro@thoughtquest.co.za , Status: 201\n",
      "Signer: mufaro@thoughtquest.co.za , Status: 201\n",
      "Signer: mufaro@thoughtquest.co.za , Status: 201\n"
     ]
    }
   ],
   "source": [
    "#create target columns\n",
    "#learner_authenticity_declaration_columns = ['learner_fullname', 'learner_id', 'learner_initials', 'learner_email']\n",
    "\n",
    "#create template column\n",
    "#cohort_df.loc[cohort_df['Campus'] == 'Johannesburg', 'learner_authenticity_declaration_template_column'] = 'd2308911-b247-4957-b865-e76f504ef91f'\n",
    "#cohort_df.loc[cohort_df['Campus'] != 'Johannesburg', 'learner_authenticity_declaration_template_column'] = '78c858be-3acf-4c37-987d-672536c3196e'\n",
    "\n",
    "#send learner authenticity document through signrequests in bulk\n",
    "#send_bulk_signrequest(cohort_df, learner_authenticity_declaration_columns, 'learner_authenticity_declaration_template_column')\n"
   ]
  },
  {
   "cell_type": "markdown",
   "id": "c651065e-e100-4de9-bcae-a7ee9cb3e803",
   "metadata": {},
   "source": [
    "**Send Learner PreAssessment Meeting Document JHB**"
   ]
  },
  {
   "cell_type": "code",
   "execution_count": 37,
   "id": "9dd40f05-8f44-4dff-931b-d2abcde7bbbe",
   "metadata": {},
   "outputs": [],
   "source": [
    "#create target columns  ****JHB****\n",
    "#learner_preassessment_document_columns = ['learner_fullname', 'learner_id', 'learner_email']\n",
    "\n",
    "#create template column\n",
    "#jhb_df['learner_preassessment_document_template_column'] = '2cec54b7-0ce3-4bd2-a9c5-29badf20d4f4'\n",
    "\n",
    "#send learner preassessment meeting document through signrequests in bulk\n",
    "#send_bulk_signrequest(jhb_df, learner_preassessment_document_columns, 'learner_preassessment_document_template_column')\n"
   ]
  },
  {
   "cell_type": "markdown",
   "id": "c6a8ff70-cb12-4ea1-b20f-dbb09d733269",
   "metadata": {},
   "source": [
    "**Send Learner PreAssessment Meeting Document CPT**"
   ]
  },
  {
   "cell_type": "code",
   "execution_count": 38,
   "id": "b77a8caf-3534-4605-ab3e-607683df29a9",
   "metadata": {},
   "outputs": [],
   "source": [
    "#create target columns  ****JHB****\n",
    "#learner_preassessment_document_columns = ['learner_fullname', 'learner_id', 'learner_email']\n",
    "\n",
    "#create template column\n",
    "#cpt_df['learner_preassessment_document_template_column'] = '83797d10-f3d4-409d-aa39-93565ccd60fd'\n",
    "\n",
    "#send learner preassessment meeting document through signrequests in bulk\n",
    "#send_bulk_signrequest(cpt_df, learner_preassessment_document_columns, 'learner_preassessment_document_template_column')\n"
   ]
  },
  {
   "cell_type": "markdown",
   "id": "81c822f6-6c78-4f95-bf46-8178777329e3",
   "metadata": {},
   "source": [
    "**Send Learner Program Evaluation**"
   ]
  },
  {
   "cell_type": "code",
   "execution_count": 43,
   "id": "b86cc9f6-3614-4337-ab54-0892d55c7f0f",
   "metadata": {},
   "outputs": [
    {
     "name": "stdout",
     "output_type": "stream",
     "text": [
      "Signer: mufaro@thoughtquest.co.za , Status: 201\n",
      "Signer: mufaro@thoughtquest.co.za , Status: 201\n",
      "Signer: mufaro@thoughtquest.co.za , Status: 201\n"
     ]
    }
   ],
   "source": [
    "#create target columns\n",
    "#learner_program_evaluation_columns = ['learner_fullname', 'learner_email']\n",
    "\n",
    "#create template column\n",
    "#cohort_df.loc[cohort_df['Campus'] == 'Johannesburg', 'learner_program_evaluation_template_column'] = 'ecae0443-8f3c-44dd-b2ee-7194a4fde67b'\n",
    "#cohort_df.loc[cohort_df['Campus'] != 'Johannesburg', 'learner_program_evaluation_template_column'] = 'f97eb0a8-97a9-40c7-84df-29aaee7e9893'\n",
    "\n",
    "#send learner authenticity document through signrequests in bulk\n",
    "#send_bulk_signrequest(cohort_df, learner_program_evaluation_columns, 'learner_program_evaluation_template_column')\n"
   ]
  },
  {
   "cell_type": "markdown",
   "id": "76dbaf8e-68c0-4171-a224-f8ac8b8fcdf3",
   "metadata": {},
   "source": [
    "***Create Test Dataframe***"
   ]
  },
  {
   "cell_type": "code",
   "execution_count": 39,
   "id": "54914bbc-991e-4fe5-ba66-7b7653b23844",
   "metadata": {},
   "outputs": [],
   "source": [
    "cohort_df = cohort_df.groupby(['Campus']).head(1).groupby('Campus').head(1).copy()\n",
    "cohort_df['learner_email'] = 'mufaro@thoughtquest.co.za'\n",
    "#send_bulk_signrequest(test_df, learner_preassessment_document_columns, 'learner_preassessment_document_template_column')\n"
   ]
  },
  {
   "cell_type": "code",
   "execution_count": 40,
   "id": "0694a04d-946c-4b71-8d35-22bd2d30d514",
   "metadata": {},
   "outputs": [
    {
     "data": {
      "text/plain": [
       "3"
      ]
     },
     "execution_count": 40,
     "metadata": {},
     "output_type": "execute_result"
    }
   ],
   "source": []
  },
  {
   "cell_type": "code",
   "execution_count": null,
   "id": "a9dd36ae-5dbb-4523-979a-06429ca927d2",
   "metadata": {},
   "outputs": [],
   "source": []
  },
  {
   "cell_type": "code",
   "execution_count": null,
   "id": "893c19ec-e6c7-4e7c-850b-5be1fd3f8094",
   "metadata": {},
   "outputs": [],
   "source": []
  },
  {
   "cell_type": "code",
   "execution_count": null,
   "id": "476aed8d-b6b5-45c8-a04d-4f6a847cb066",
   "metadata": {},
   "outputs": [],
   "source": []
  },
  {
   "cell_type": "code",
   "execution_count": null,
   "id": "4cc11937-ba4d-4bce-bdad-3c0c898cfc32",
   "metadata": {},
   "outputs": [],
   "source": []
  }
 ],
 "metadata": {
  "kernelspec": {
   "display_name": "Python 3 (ipykernel)",
   "language": "python",
   "name": "python3"
  },
  "language_info": {
   "codemirror_mode": {
    "name": "ipython",
    "version": 3
   },
   "file_extension": ".py",
   "mimetype": "text/x-python",
   "name": "python",
   "nbconvert_exporter": "python",
   "pygments_lexer": "ipython3",
   "version": "3.8.2"
  }
 },
 "nbformat": 4,
 "nbformat_minor": 5
}
