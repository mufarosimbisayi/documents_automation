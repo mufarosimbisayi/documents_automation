{
 "cells": [
  {
   "cell_type": "markdown",
   "id": "16d48b9d-124b-4ebf-9ab2-aad633e65a50",
   "metadata": {},
   "source": [
    "***This notebook contains a script that sends Student Contracts to Students for signing***"
   ]
  },
  {
   "cell_type": "markdown",
   "id": "6011fb6b-ff7a-403f-9615-355c37472b32",
   "metadata": {},
   "source": [
    "**Add local library to path**"
   ]
  },
  {
   "cell_type": "code",
   "execution_count": 150,
   "id": "3528009f-3f6c-4ddf-8e19-3b90c9241f6b",
   "metadata": {},
   "outputs": [],
   "source": [
    "import os\n",
    "import sys\n",
    "\n",
    "module_path = os.path.abspath(os.path.join('..'))\n",
    "if module_path not in sys.path:\n",
    "    sys.path.append(module_path)\n",
    "    sys.path.append(module_path + '/local_library')"
   ]
  },
  {
   "cell_type": "markdown",
   "id": "62f9ef94-d020-497c-a6e9-295d48584446",
   "metadata": {},
   "source": [
    "***Import Libraries***"
   ]
  },
  {
   "cell_type": "code",
   "execution_count": 151,
   "id": "217879e8-c93d-433c-b29b-64b866d28084",
   "metadata": {},
   "outputs": [],
   "source": [
    "import pandas as pd\n",
    "import requests\n",
    "import json\n",
    "import re\n",
    "from datetime import date\n",
    "from local_library import import_worksheet\n",
    "from local_library import export_worksheet\n",
    "from local_library import send_bulk_signrequest"
   ]
  },
  {
   "cell_type": "markdown",
   "id": "f6d4a449-92e6-46e5-8e50-daa3561a5557",
   "metadata": {},
   "source": [
    "**Import Data**"
   ]
  },
  {
   "cell_type": "code",
   "execution_count": 152,
   "id": "880f55e9-3254-41fb-b7ae-beed212b079a",
   "metadata": {},
   "outputs": [],
   "source": [
    "#import 2020 data worksheet\n",
    "cohort_df = import_worksheet(\"Cohort 2021 Data\", \"Cohort 2021 Data\")\n",
    "#cohort_df = cohort_df[cohort_df['Active / Not active/Early absorption'] == 'Active']\n"
   ]
  },
  {
   "cell_type": "markdown",
   "id": "1e8975d2-e97b-4d90-ad0a-0bb107e7d73d",
   "metadata": {},
   "source": [
    "**Create Learner FullName**"
   ]
  },
  {
   "cell_type": "code",
   "execution_count": 153,
   "id": "a147e17b-09da-4a37-a34f-6c3f909d0ec3",
   "metadata": {},
   "outputs": [],
   "source": [
    "cohort_df['middle_name'] = cohort_df['Middle Name(s)'].fillna(\"\")\n",
    "cohort_df['learner_name'] = cohort_df['First Name'].str.strip().str.lower() + \" \" + cohort_df['middle_name'].str.strip().str.lower()\n",
    "cohort_df['learner_name'] = cohort_df['learner_name'].str.strip().str.title()\n",
    "cohort_df['learner_fullname'] = cohort_df['learner_name'].str.strip().str.lower() + \" \" + cohort_df['Last Name'].str.strip().str.lower()\n",
    "cohort_df['learner_fullname'] = [re.sub(' +', ' ', fullname) for fullname in cohort_df['learner_fullname']]\n",
    "cohort_df['learner_fullname'] = cohort_df['learner_fullname'].str.title()\n",
    "cohort_df['learner_initials'] = [''.join([x[0].upper() for x in fullname.split(' ')]) for fullname in cohort_df['learner_fullname']]\n"
   ]
  },
  {
   "cell_type": "markdown",
   "id": "d7dd7264-4b89-4340-9d34-0870ed888140",
   "metadata": {},
   "source": [
    "**Create Learner Passport**"
   ]
  },
  {
   "cell_type": "code",
   "execution_count": 154,
   "id": "68567b4d-7d84-4f7f-a433-3657a4f2cdba",
   "metadata": {},
   "outputs": [],
   "source": [
    "cohort_df[\"learner_passport\"] = [passport if len(str(passport)) != 13 else \" \" for passport in cohort_df[\"ID / Passport Number\"]]\n"
   ]
  },
  {
   "cell_type": "markdown",
   "id": "7d03cc57-9c30-4937-8fc6-ac419202c069",
   "metadata": {},
   "source": [
    "**Create Learner Equity Code**"
   ]
  },
  {
   "cell_type": "code",
   "execution_count": 155,
   "id": "6624f829-ddb0-43a5-add0-69e3db137a53",
   "metadata": {},
   "outputs": [],
   "source": [
    "cohort_df['learner_equity'] = cohort_df['Ethnicity'].map({'White':'WH', 'white':'WH', 'Coloured':'BC', 'coloured':'BC', \n",
    "                                                     'black':'BA', 'Black':'BA', 'Asian':'BI', 'indian':'BI','Indian':'BI'})"
   ]
  },
  {
   "cell_type": "markdown",
   "id": "352d0b94-164b-4fcd-81c1-e07e60d625d4",
   "metadata": {},
   "source": [
    "**Create Learner Learnership**"
   ]
  },
  {
   "cell_type": "code",
   "execution_count": 156,
   "id": "64ba4d3d-d566-466a-aabb-a142cf0409d5",
   "metadata": {},
   "outputs": [],
   "source": [
    "cohort_df['learner_nationality'] = cohort_df['Nationality'].map({'South Africa':'SA', 'Zimbabwe':'ZIM', 'Congolese':'ROA',\n",
    "                                                                'Dutch':'EUR', 'Nigerian':'ROA', 'SADC except SA':'SADC',\n",
    "                                                                'Rest Of Africa':'ROA'})"
   ]
  },
  {
   "cell_type": "markdown",
   "id": "26ddb8d8-5dde-4db6-b91d-21797f0c3edd",
   "metadata": {},
   "source": [
    "**Create Learner Citizenship**"
   ]
  },
  {
   "cell_type": "code",
   "execution_count": 157,
   "id": "2e3b96c4-5a3f-44d2-bd1e-1df301743917",
   "metadata": {},
   "outputs": [],
   "source": [
    "cohort_df['Residential Status'] = cohort_df['Residential Status'].fillna('Uknown')\n",
    "cohort_df['learner_citizenship'] = cohort_df['Residential Status'].map({\"Unknown\":\"U\", \"South African\":\"SA\",\n",
    "                                                                        \"Permanent Resident\":\"O\", \"Dual\":\"D\", \"Refugee\":\"O\",\n",
    "                                                                        \"Foreign Nation / Non-Citizen\":\"O\"})\n"
   ]
  },
  {
   "cell_type": "markdown",
   "id": "cc57d26a-a8f7-4cd9-b895-cb960ee853f7",
   "metadata": {},
   "source": [
    "**Create Learner Langauge**"
   ]
  },
  {
   "cell_type": "code",
   "execution_count": 158,
   "id": "a27b52af-6fb1-4da8-b19d-dfb36b6a1cb0",
   "metadata": {},
   "outputs": [],
   "source": [
    "cohort_df['Home Language'] = cohort_df['Home Language'].fillna('Other')\n",
    "cohort_df['learner_language'] = cohort_df['Home Language'].map({'English':'ENG', 'Afrikaans':'AFR', 'Sepedi [also known as Northern Sotho / Sesotho sa Lebowa]':'SEP',\n",
    "       'tshiVenda':'TSH', 'isiZulu':'ZUL', 'isiXhosa':'XHO', 'seTswana':'SET', 'xiTsonga':'XIT', 'sePedi':'SEP',\n",
    "       'isiNdebele':'NDE', 'seSotho':'SES', 'Other':'OTH', 'siSwati':'SWA','seSwati':'SWA','Sesotho':'SES'})\n"
   ]
  },
  {
   "cell_type": "markdown",
   "id": "e9c4845a-ae5d-48b7-8e26-ae05f77079f2",
   "metadata": {},
   "source": [
    "**Create Learner Socio Economic Status**"
   ]
  },
  {
   "cell_type": "code",
   "execution_count": 159,
   "id": "88cbc73c-255a-444f-bd2f-3c9428f93751",
   "metadata": {},
   "outputs": [],
   "source": [
    "cohort_df[\"learner_socioeconomic\"] = \"01\""
   ]
  },
  {
   "cell_type": "markdown",
   "id": "9f53417a-c71f-45a3-be99-90891e2af22f",
   "metadata": {},
   "source": [
    "**Create Learner Disability**"
   ]
  },
  {
   "cell_type": "code",
   "execution_count": 160,
   "id": "f8068409-060a-4f66-9558-d1b79df7c4c9",
   "metadata": {},
   "outputs": [],
   "source": [
    "cohort_df['Disability Status'] = cohort_df['Disability Status'].fillna('Uknown')\n",
    "cohort_df['learner_disability'] = cohort_df['Disability Status'].map({'No':'N', 'no':'N', 'Yes':'09', 'None':'N', 'yes':'09', 'Yes - specwearer':'01', 'N':'N', 'ADD':'09',\n",
    "       'Visual impairment - spec wearer':'02', 'Y - specwearer':'02', 'Visual impairment - Spec wearer -':'02', 'Uknown':'U', 'Aspergers / Autistic':'06',\n",
    "       'Patella Alta':'04', 'yes - specwearer':'02', '\\\\N':'N', 'Y- specwearer':'02', 'Prefer Not To Say':'U'})\n"
   ]
  },
  {
   "cell_type": "markdown",
   "id": "810d6f20-6c51-4867-9bc6-7c7bf4a9f705",
   "metadata": {},
   "source": [
    "**Create Province Code**"
   ]
  },
  {
   "cell_type": "code",
   "execution_count": 161,
   "id": "cf583425-4cce-43c1-a93c-84cd3c467510",
   "metadata": {},
   "outputs": [],
   "source": [
    "cohort_df['learner_province'] = cohort_df['Home Province'].map({'Gauteng':'8', 'KwaZulu-Natal':'6',\n",
    "                                                               'Limpopo':'10', 'Western Cape':'2',\n",
    "                                                               'Eastern Cape':'3', 'Mpumalanga':'9',\n",
    "                                                               'North West':'7', 'Free State':'5'})"
   ]
  },
  {
   "cell_type": "markdown",
   "id": "86275083-26e6-46b4-9351-09519650667d",
   "metadata": {},
   "source": [
    "**Create Learner Designation**"
   ]
  },
  {
   "cell_type": "code",
   "execution_count": 162,
   "id": "060e9e90-2a84-4bd3-a051-4aa2dcfeb771",
   "metadata": {},
   "outputs": [],
   "source": [
    "cohort_df[\"learner_designation\"] = \"Learner\""
   ]
  },
  {
   "cell_type": "markdown",
   "id": "5982665b-78d4-438e-98a4-acb247abf5ba",
   "metadata": {},
   "source": [
    "**Create Learner Company**"
   ]
  },
  {
   "cell_type": "code",
   "execution_count": 163,
   "id": "5b97edd5-37a2-4757-8e9b-cf0233604d54",
   "metadata": {},
   "outputs": [],
   "source": [
    "cohort_df['learner_company'] = 'WeThinkCode_'"
   ]
  },
  {
   "cell_type": "markdown",
   "id": "cb3d3cf0-90ea-4927-b95a-d31eed01b445",
   "metadata": {},
   "source": [
    "**Create Learner Title**"
   ]
  },
  {
   "cell_type": "code",
   "execution_count": 164,
   "id": "50be5828-9672-4c2d-a7a5-2bb35c149602",
   "metadata": {},
   "outputs": [],
   "source": [
    "cohort_df['learner_title'] = ['Mr.' if gender.lower() == 'male' else 'Ms.' for gender in cohort_df['Gender']]"
   ]
  },
  {
   "cell_type": "markdown",
   "id": "4866725b-1908-45a5-9b03-9f05c51d2a1a",
   "metadata": {},
   "source": [
    "**Create Learner Contact**"
   ]
  },
  {
   "cell_type": "code",
   "execution_count": 165,
   "id": "862caec0-8ac6-4909-81a9-0cd92ea70e60",
   "metadata": {},
   "outputs": [],
   "source": [
    "cohort_df['learner_contact'] = 'Larissa Brand'"
   ]
  },
  {
   "cell_type": "markdown",
   "id": "796ea82f-571b-497b-a7b4-3682b0282287",
   "metadata": {},
   "source": [
    "**Create Learner Contact Phone**"
   ]
  },
  {
   "cell_type": "code",
   "execution_count": 166,
   "id": "04d24480-8c5a-4405-8e0a-24e90bc3cd2c",
   "metadata": {},
   "outputs": [],
   "source": [
    "cohort_df['learner_contact_phone'] = '082 774 9982'"
   ]
  },
  {
   "cell_type": "markdown",
   "id": "b20b90e3-cac6-4a39-8a2e-a4428f4962c4",
   "metadata": {},
   "source": [
    "**Fix Learner Phone**"
   ]
  },
  {
   "cell_type": "code",
   "execution_count": 167,
   "id": "3470a8fb-4ecf-487f-acff-abce259def36",
   "metadata": {},
   "outputs": [],
   "source": [
    "def convert_phone_to_string(target_df, column):\n",
    "    \"\"\"\n",
    "    Converts phone number column to a string type.\n",
    "    \n",
    "    Args:\n",
    "        target_df: The dataframe containing the column to be converted.\n",
    "        column: The column to be converted.\n",
    "        \n",
    "    Returns:\n",
    "        N/A\n",
    "    \"\"\"\n",
    "    \n",
    "    #convert to string\n",
    "    target_df[column] = target_df[column].astype(str)\n",
    "    \n",
    "    #convert to float\n",
    "    target_df[column] = target_df[column].astype(float)\n",
    "    \n",
    "    #convert to int\n",
    "    target_df[column] = target_df[column].astype(int)\n",
    "    \n",
    "    #convert to string\n",
    "    target_df[column] = target_df[column].astype(str)\n",
    "    \n",
    "#convert phone to string\n",
    "#convert_phone_to_string(cohort_df,\"Mobile Number\")"
   ]
  },
  {
   "cell_type": "markdown",
   "id": "cd105279-4edb-469a-98fb-6d4d9a10a921",
   "metadata": {},
   "source": [
    "**Create Home Address and Physical Address while Studying**"
   ]
  },
  {
   "cell_type": "code",
   "execution_count": 168,
   "id": "996c7699-da06-4f4b-8d76-52f9ed7bbbfe",
   "metadata": {},
   "outputs": [],
   "source": [
    "#home address\n",
    "cohort_df['Home Address'] = cohort_df['Home Street'] + ', ' + cohort_df['Home Suburb'] + ', ' + cohort_df['Home City'] + ', ' + cohort_df['Home Province'] + ', ' + cohort_df['Home Postal Code']\n",
    "cohort_df['Home Address'] = cohort_df['Home Address'].fillna(\"Unkown\")\n",
    "\n",
    "#residential address\n",
    "cohort_df['Residential Address'] = cohort_df['Residential Street'] + ', ' + cohort_df['Residential Suburb'] + ', ' + cohort_df['Residential City'] + ', ' + cohort_df['Residential Province'] + ', ' + cohort_df['Residential Postal Code']\n",
    "cohort_df['Residential Address'] = cohort_df['Residential Address'].fillna(\"Unkown\")\n"
   ]
  },
  {
   "cell_type": "markdown",
   "id": "0b1108c4-b521-46bf-900f-11f46268f592",
   "metadata": {},
   "source": [
    "**Rename Columns**"
   ]
  },
  {
   "cell_type": "code",
   "execution_count": 169,
   "id": "3d16eaaa-0956-439d-bbb4-bf7c515ce4a2",
   "metadata": {},
   "outputs": [],
   "source": [
    "cohort_df = cohort_df.rename(columns={\"ID / Passport Number\":\"learner_id\",\"Last Name\":\"learner_surname\", \"Date Of Birth\":\"learner_birthdate\",\n",
    "                            \"Gender\":\"learner_gender\", \"Home Address\":\"learner_postal_address\", \"Residential Address\":\"learner_home_address\",\n",
    "                            \"Mobile Phone\":\"learner_phone\", \"Email Address\":\"learner_email\"})\n"
   ]
  },
  {
   "cell_type": "markdown",
   "id": "a0d01419-50b3-4933-9fe8-18910db94e33",
   "metadata": {},
   "source": [
    "**Subset Columns**"
   ]
  },
  {
   "cell_type": "code",
   "execution_count": 170,
   "id": "9f359d3f-abcd-47c5-8e94-35625a329826",
   "metadata": {},
   "outputs": [],
   "source": [
    "#subset columns\n",
    "column_name = [\"learner_name\", \"learner_surname\",'learner_fullname', 'learner_initials',\n",
    "               'learner_passport','learner_equity', 'learner_nationality', 'learner_citizenship',\n",
    "               'learner_language', 'learner_socioeconomic', 'learner_disability','learner_province', 'learner_designation',\n",
    "              \"learner_id\", \"learner_company\", \"learner_title\", \"learner_birthdate\", \"learner_gender\", \"learner_postal_address\",\n",
    "              \"learner_home_address\", \"learner_phone\", \"learner_email\", \"learner_contact\", \"learner_contact_phone\", \"Campus\"]\n",
    "\n",
    "cohort_df = cohort_df[column_name]"
   ]
  },
  {
   "cell_type": "markdown",
   "id": "748297e5-fe41-4195-9c99-fd84842dcaa7",
   "metadata": {},
   "source": [
    "**Subselect Students**"
   ]
  },
  {
   "cell_type": "code",
   "execution_count": 29,
   "id": "e3978f78-05d8-4fce-912b-9c15fbbe7bf8",
   "metadata": {},
   "outputs": [],
   "source": [
    "cohort_df = cohort_df[cohort_df['learner_email'].isin(['llndhlov@student.wethinkcode.co.za'])]"
   ]
  },
  {
   "cell_type": "code",
   "execution_count": 44,
   "id": "d51a4fff-7624-4529-85c2-0a71bef0daf1",
   "metadata": {},
   "outputs": [],
   "source": [
    "cohort_df.loc[cohort_df['learner_id'] == 'CN806411','learner_citizenship'] = \"ZIM\""
   ]
  },
  {
   "cell_type": "code",
   "execution_count": 174,
   "id": "515e924d-8c1a-465f-97b0-50c0f70799e2",
   "metadata": {},
   "outputs": [
    {
     "data": {
      "text/plain": [
       "3"
      ]
     },
     "execution_count": 174,
     "metadata": {},
     "output_type": "execute_result"
    }
   ],
   "source": [
    "len(cohort_df)"
   ]
  },
  {
   "cell_type": "markdown",
   "id": "11e18a35-d897-4cb9-8149-ee9221735d73",
   "metadata": {},
   "source": [
    "***Send POE Instructions Document***"
   ]
  },
  {
   "cell_type": "code",
   "execution_count": 127,
   "id": "402048b6-3bf5-40e8-8ed7-159201cc3480",
   "metadata": {},
   "outputs": [
    {
     "name": "stdout",
     "output_type": "stream",
     "text": [
      "Signer: mufaro@thoughtquest.co.za , Status: 201\n",
      "Signer: mufaro@thoughtquest.co.za , Status: 201\n",
      "Signer: mufaro@thoughtquest.co.za , Status: 201\n"
     ]
    }
   ],
   "source": [
    "#create target columns\n",
    "#poe_instructions_columns = ['learner_fullname', 'learner_id', 'learner_initials', 'learner_company', 'learner_email']\n",
    "\n",
    "#create template column\n",
    "#cohort_df['poe_instructions_template_column'] = \"feb67241-52f8-456c-917e-bdd0526619ee\"\n",
    "\n",
    "#send poe instructions through signrequests in bulk\n",
    "#send_bulk_signrequest(cohort_df, poe_instructions_columns, 'poe_instructions_template_column')"
   ]
  },
  {
   "cell_type": "markdown",
   "id": "74af6d6d-0128-4396-9903-107e96bedcbe",
   "metadata": {},
   "source": [
    "**Send Learner Enrolment Contract Document**"
   ]
  },
  {
   "cell_type": "code",
   "execution_count": 175,
   "id": "7bc4dc20-b56f-471d-b0d4-1ff7b7ea2ab4",
   "metadata": {},
   "outputs": [
    {
     "name": "stdout",
     "output_type": "stream",
     "text": [
      "Signer: mufaro@thoughtquest.co.za , Status: 201\n",
      "Signer: mufaro@thoughtquest.co.za , Status: 201\n",
      "Signer: mufaro@thoughtquest.co.za , Status: 201\n"
     ]
    }
   ],
   "source": [
    "#create target columns\n",
    "#learner_contract_columns = ['learner_title', 'learner_fullname', 'learner_name', 'learner_surname', 'learner_birthdate', 'learner_id', 'learner_passport',\n",
    "#                           'learner_equity', 'learner_nationality', 'learner_gender', 'learner_citizenship', 'learner_language',\n",
    "#                           'learner_socioeconomic', 'learner_disability', 'learner_home_address', 'learner_postal_address',\n",
    "#                           'learner_province', 'learner_phone', 'learner_email', 'learner_company', 'learner_contact', 'learner_contact_phone',\n",
    "#                           'learner_designation']\n",
    "\n",
    "#create template column\n",
    "#cohort_df['learner_contract_template_column'] = '900be1ba-0b96-4386-a904-fb67069f168e'\n",
    "\n",
    "#send learner contract through signrequests in bulk\n",
    "#send_bulk_signrequest(cohort_df, learner_contract_columns, 'learner_contract_template_column')\n"
   ]
  },
  {
   "cell_type": "markdown",
   "id": "63d26b95-dae1-4996-b73b-0253e44debe4",
   "metadata": {},
   "source": [
    "**Send Learner Appeals Procedure**"
   ]
  },
  {
   "cell_type": "code",
   "execution_count": 129,
   "id": "862fc575-49d9-437b-8d8d-2b716f277e76",
   "metadata": {},
   "outputs": [
    {
     "name": "stdout",
     "output_type": "stream",
     "text": [
      "Signer: mufaro@thoughtquest.co.za , Status: 201\n",
      "Signer: mufaro@thoughtquest.co.za , Status: 201\n",
      "Signer: mufaro@thoughtquest.co.za , Status: 201\n"
     ]
    }
   ],
   "source": [
    "\n",
    "#create target columns\n",
    "#learner_appeals_procedure_columns = ['learner_fullname', 'learner_initials']\n",
    "\n",
    "#create template column\n",
    "#cohort_df['learner_assessment_contract_template_column'] = '589d226b-1c7e-441f-b99e-1d30a2d37761'\n",
    "\n",
    "#send learner assessment contract through signrequests in bulk\n",
    "#send_bulk_signrequest(cohort_df, learner_appeals_procedure_columns, 'learner_assessment_contract_template_column')"
   ]
  },
  {
   "cell_type": "markdown",
   "id": "8c51b14d-6421-4d3c-8ff1-aef369c88413",
   "metadata": {},
   "source": [
    "**Send Learner Assessment Contract JHB**"
   ]
  },
  {
   "cell_type": "code",
   "execution_count": 130,
   "id": "47fa5985-4c46-4d8e-b559-f2be8b78a4f7",
   "metadata": {},
   "outputs": [
    {
     "name": "stderr",
     "output_type": "stream",
     "text": [
      "/Users/assistants/Library/Python/3.8/lib/python/site-packages/pandas/core/frame.py:3607: SettingWithCopyWarning: \n",
      "A value is trying to be set on a copy of a slice from a DataFrame.\n",
      "Try using .loc[row_indexer,col_indexer] = value instead\n",
      "\n",
      "See the caveats in the documentation: https://pandas.pydata.org/pandas-docs/stable/user_guide/indexing.html#returning-a-view-versus-a-copy\n",
      "  self._set_item(key, value)\n"
     ]
    },
    {
     "name": "stdout",
     "output_type": "stream",
     "text": [
      "Signer: mufaro@thoughtquest.co.za , Status: 201\n"
     ]
    }
   ],
   "source": [
    "#create target columns ****JHB****\n",
    "\n",
    "#jhb_df = cohort_df[cohort_df['Campus'] == 'Johannesburg']\n",
    "\n",
    "#learner_assessment_contract_columns = ['learner_fullname', 'learner_id', 'learner_email']\n",
    "\n",
    "#create template column\n",
    "#jhb_df['learner_assessment_contract_template_column'] = '215045cd-c510-4d04-8280-ab8dbf0f7d64'\n",
    "\n",
    "#send learner assessment contract through signrequests in bulk\n",
    "#send_bulk_signrequest(jhb_df, learner_assessment_contract_columns, 'learner_assessment_contract_template_column')"
   ]
  },
  {
   "cell_type": "markdown",
   "id": "dadf69af-dc95-424e-b053-cd0daed27a2b",
   "metadata": {},
   "source": [
    "**Send Learner Assessment COntract CPT**"
   ]
  },
  {
   "cell_type": "code",
   "execution_count": 131,
   "id": "0681128a-3c23-4fa0-bc18-0104ac04afc0",
   "metadata": {},
   "outputs": [
    {
     "name": "stdout",
     "output_type": "stream",
     "text": [
      "Signer: mufaro@thoughtquest.co.za , Status: 201\n",
      "Signer: mufaro@thoughtquest.co.za , Status: 201\n"
     ]
    }
   ],
   "source": [
    "#create target columns ****CPT****\n",
    "\n",
    "#cpt_df = cohort_df[cohort_df['Campus'] != 'Johannesburg']\n",
    "\n",
    "#learner_assessment_contract_columns = ['learner_fullname', 'learner_id', 'learner_email']\n",
    "\n",
    "#create template column\n",
    "#cpt_df['learner_assessment_contract_template_column'] = 'aeede3cc-6496-49be-82b0-a959911c522b'\n",
    "\n",
    "#send learner assessment contract through signrequests in bulk\n",
    "#send_bulk_signrequest(cpt_df, learner_assessment_contract_columns, 'learner_assessment_contract_template_column')"
   ]
  },
  {
   "cell_type": "markdown",
   "id": "c651065e-e100-4de9-bcae-a7ee9cb3e803",
   "metadata": {},
   "source": [
    "**Send Learner PreAssessment Meeting Document JHB**"
   ]
  },
  {
   "cell_type": "code",
   "execution_count": 132,
   "id": "9dd40f05-8f44-4dff-931b-d2abcde7bbbe",
   "metadata": {},
   "outputs": [
    {
     "name": "stdout",
     "output_type": "stream",
     "text": [
      "Signer: mufaro@thoughtquest.co.za , Status: 201\n"
     ]
    }
   ],
   "source": [
    "#create target columns  ****JHB****\n",
    "#learner_preassessment_document_columns = ['learner_fullname', 'learner_id', 'learner_email']\n",
    "\n",
    "#create template column\n",
    "#jhb_df['learner_preassessment_document_template_column'] = '708875f6-b6a8-4876-aa3a-e9104b481ae5'\n",
    "\n",
    "#send learner preassessment meeting document through signrequests in bulk\n",
    "#send_bulk_signrequest(jhb_df, learner_preassessment_document_columns, 'learner_preassessment_document_template_column')\n"
   ]
  },
  {
   "cell_type": "markdown",
   "id": "c6a8ff70-cb12-4ea1-b20f-dbb09d733269",
   "metadata": {},
   "source": [
    "**Send Learner PreAssessment Meeting Document CPT**"
   ]
  },
  {
   "cell_type": "code",
   "execution_count": 133,
   "id": "b77a8caf-3534-4605-ab3e-607683df29a9",
   "metadata": {},
   "outputs": [
    {
     "name": "stdout",
     "output_type": "stream",
     "text": [
      "Signer: mufaro@thoughtquest.co.za , Status: 201\n",
      "Signer: mufaro@thoughtquest.co.za , Status: 201\n"
     ]
    }
   ],
   "source": [
    "#create target columns  ****JHB****\n",
    "#learner_preassessment_document_columns = ['learner_fullname', 'learner_id', 'learner_email']\n",
    "\n",
    "#create template column\n",
    "#cpt_df['learner_preassessment_document_template_column'] = '08e3cc74-112f-4cd4-ad37-05bc726a5b96'\n",
    "\n",
    "#send learner preassessment meeting document through signrequests in bulk\n",
    "#send_bulk_signrequest(cpt_df, learner_preassessment_document_columns, 'learner_preassessment_document_template_column')\n"
   ]
  },
  {
   "cell_type": "markdown",
   "id": "e65c2f89-0196-43b6-8bac-d6f74b0a7701",
   "metadata": {},
   "source": [
    "**Send Learner Declaration of Authenticity**"
   ]
  },
  {
   "cell_type": "code",
   "execution_count": 134,
   "id": "9f702f49-7118-4560-a41a-de82838f5268",
   "metadata": {},
   "outputs": [],
   "source": [
    "#create target columns\n",
    "#learner_authenticity_declaration_columns = ['learner_fullname', 'learner_id', 'learner_initials', 'learner_email']\n",
    "\n",
    "#create template column\n",
    "#cohort_df.loc[cohort_df['Campus'] == 'Johannesburg', 'learner_authenticity_declaration_template_column'] = 'd2308911-b247-4957-b865-e76f504ef91f'\n",
    "#cohort_df.loc[cohort_df['Campus'] != 'Johannesburg', 'learner_authenticity_declaration_template_column'] = '78c858be-3acf-4c37-987d-672536c3196e'\n",
    "\n",
    "#send learner authenticity document through signrequests in bulk\n",
    "#send_bulk_signrequest(cohort_df, learner_authenticity_declaration_columns, 'learner_authenticity_declaration_template_column')\n"
   ]
  },
  {
   "cell_type": "markdown",
   "id": "81c822f6-6c78-4f95-bf46-8178777329e3",
   "metadata": {},
   "source": [
    "**Send Learner Program Evaluation**"
   ]
  },
  {
   "cell_type": "code",
   "execution_count": 135,
   "id": "b86cc9f6-3614-4337-ab54-0892d55c7f0f",
   "metadata": {},
   "outputs": [],
   "source": [
    "#create target columns\n",
    "#learner_program_evaluation_columns = ['learner_fullname', 'learner_email']\n",
    "\n",
    "#create template column\n",
    "#cohort_df.loc[cohort_df['Campus'] == 'Johannesburg', 'learner_program_evaluation_template_column'] = 'ecae0443-8f3c-44dd-b2ee-7194a4fde67b'\n",
    "#cohort_df.loc[cohort_df['Campus'] != 'Johannesburg', 'learner_program_evaluation_template_column'] = 'f97eb0a8-97a9-40c7-84df-29aaee7e9893'\n",
    "\n",
    "#send learner authenticity document through signrequests in bulk\n",
    "#send_bulk_signrequest(cohort_df, learner_program_evaluation_columns, 'learner_program_evaluation_template_column')\n"
   ]
  },
  {
   "cell_type": "markdown",
   "id": "da20a115-ded7-46b8-a2de-17f6ca2bcedc",
   "metadata": {},
   "source": [
    "**Send Learner Logbook**"
   ]
  },
  {
   "cell_type": "code",
   "execution_count": 136,
   "id": "893c19ec-e6c7-4e7c-850b-5be1fd3f8094",
   "metadata": {},
   "outputs": [],
   "source": [
    "#create target columns\n",
    "#learner_logbook_columns = ['learner_fullname', 'learner_email', 'learner_initials', 'learner_id']\n",
    "\n",
    "#create template column\n",
    "#cohort_df.loc[cohort_df['Campus'] == 'Johannesburg', 'learner_logbook_template_column'] = 'f8c63d3d-fd0f-413f-a028-35dd9990b30d'\n",
    "#cohort_df.loc[cohort_df['Campus'] != 'Johannesburg', 'learner_logbook_template_column'] = '911ce292-ec38-4ef9-a8a0-b48b1adbef5f'\n",
    "\n",
    "#send learner authenticity document through signrequests in bulk\n",
    "#send_bulk_signrequest(cohort_df, learner_logbook_columns, 'learner_logbook_template_column')\n"
   ]
  },
  {
   "cell_type": "markdown",
   "id": "76dbaf8e-68c0-4171-a224-f8ac8b8fcdf3",
   "metadata": {},
   "source": [
    "***Create Test Dataframe***"
   ]
  },
  {
   "cell_type": "code",
   "execution_count": 173,
   "id": "54914bbc-991e-4fe5-ba66-7b7653b23844",
   "metadata": {},
   "outputs": [],
   "source": [
    "#cohort_df = cohort_df.groupby(['Campus']).head(1).groupby('Campus').head(1).copy()\n",
    "#cohort_df['learner_email'] = 'mufaro@thoughtquest.co.za'\n",
    "#send_bulk_signrequest(cohort_df[cohort_df['Campus'] == 'Johannesburg'], learner_preassessment_document_columns, 'learner_preassessment_document_template_column')\n"
   ]
  },
  {
   "cell_type": "code",
   "execution_count": null,
   "id": "0694a04d-946c-4b71-8d35-22bd2d30d514",
   "metadata": {},
   "outputs": [],
   "source": []
  },
  {
   "cell_type": "code",
   "execution_count": null,
   "id": "476aed8d-b6b5-45c8-a04d-4f6a847cb066",
   "metadata": {},
   "outputs": [],
   "source": []
  },
  {
   "cell_type": "code",
   "execution_count": null,
   "id": "4cc11937-ba4d-4bce-bdad-3c0c898cfc32",
   "metadata": {},
   "outputs": [],
   "source": []
  },
  {
   "cell_type": "code",
   "execution_count": null,
   "id": "08c00d5c-2037-4603-a104-87a184b32df8",
   "metadata": {},
   "outputs": [],
   "source": []
  }
 ],
 "metadata": {
  "kernelspec": {
   "display_name": "Python 3 (ipykernel)",
   "language": "python",
   "name": "python3"
  },
  "language_info": {
   "codemirror_mode": {
    "name": "ipython",
    "version": 3
   },
   "file_extension": ".py",
   "mimetype": "text/x-python",
   "name": "python",
   "nbconvert_exporter": "python",
   "pygments_lexer": "ipython3",
   "version": "3.8.2"
  }
 },
 "nbformat": 4,
 "nbformat_minor": 5
}
