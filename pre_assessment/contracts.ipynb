{
 "cells": [
  {
   "cell_type": "markdown",
   "id": "16d48b9d-124b-4ebf-9ab2-aad633e65a50",
   "metadata": {},
   "source": [
    "***This notebook contains a script that sends Student Contracts to Students for signing***"
   ]
  },
  {
   "cell_type": "markdown",
   "id": "6011fb6b-ff7a-403f-9615-355c37472b32",
   "metadata": {},
   "source": [
    "**Add local library to path**"
   ]
  },
  {
   "cell_type": "code",
   "execution_count": 1,
   "id": "3528009f-3f6c-4ddf-8e19-3b90c9241f6b",
   "metadata": {},
   "outputs": [],
   "source": [
    "import os\n",
    "import sys\n",
    "\n",
    "module_path = os.path.abspath(os.path.join('..'))\n",
    "if module_path not in sys.path:\n",
    "    sys.path.append(module_path)\n",
    "    sys.path.append(module_path + '/local_library')"
   ]
  },
  {
   "cell_type": "markdown",
   "id": "62f9ef94-d020-497c-a6e9-295d48584446",
   "metadata": {},
   "source": [
    "***Import Libraries***"
   ]
  },
  {
   "cell_type": "code",
   "execution_count": 2,
   "id": "217879e8-c93d-433c-b29b-64b866d28084",
   "metadata": {},
   "outputs": [
    {
     "name": "stdout",
     "output_type": "stream",
     "text": [
      "Your browser has been opened to visit:\n",
      "\n",
      "    https://accounts.google.com/o/oauth2/auth?client_id=1017190226189-f1d5s7cpjrj54u2rqk1ufh9pevguqoap.apps.googleusercontent.com&redirect_uri=http%3A%2F%2Flocalhost%3A8080%2F&scope=https%3A%2F%2Fwww.googleapis.com%2Fauth%2Fdrive&access_type=offline&response_type=code\n",
      "\n",
      "Authentication successful.\n"
     ]
    }
   ],
   "source": [
    "import pandas as pd\n",
    "import requests\n",
    "import json\n",
    "from datetime import date\n",
    "from local_library import import_worksheet\n",
    "from local_library import export_worksheet\n",
    "from local_library import send_bulk_signrequest"
   ]
  },
  {
   "cell_type": "markdown",
   "id": "f6d4a449-92e6-46e5-8e50-daa3561a5557",
   "metadata": {},
   "source": [
    "**Import Data**"
   ]
  },
  {
   "cell_type": "code",
   "execution_count": 17,
   "id": "880f55e9-3254-41fb-b7ae-beed212b079a",
   "metadata": {},
   "outputs": [],
   "source": [
    "#import 2020 data worksheet\n",
    "cohort_df = import_worksheet(\"Cohort 2020 Data\", \"Cohort 2020 Data\")\n",
    "cohort_df = cohort_df[cohort_df['Active / Not active/Early absorption'] == 'Active']"
   ]
  },
  {
   "cell_type": "markdown",
   "id": "1e8975d2-e97b-4d90-ad0a-0bb107e7d73d",
   "metadata": {},
   "source": [
    "**Create Learner FullName**"
   ]
  },
  {
   "cell_type": "code",
   "execution_count": 18,
   "id": "a147e17b-09da-4a37-a34f-6c3f909d0ec3",
   "metadata": {},
   "outputs": [],
   "source": [
    "cohort_df['learner_fullname'] = cohort_df['Firstname'] + ' ' + cohort_df['Surname']"
   ]
  },
  {
   "cell_type": "markdown",
   "id": "12921718-a20b-4af0-9b1b-794c9f4940ac",
   "metadata": {},
   "source": [
    "**Create Learner Initials**"
   ]
  },
  {
   "cell_type": "code",
   "execution_count": 19,
   "id": "66aa57ef-d399-4f4e-80d3-ba67f692b778",
   "metadata": {},
   "outputs": [],
   "source": [
    "cohort_df[\"learner_initials\"] = [name.split()[0][0] + \".\" + name.split()[1][0] for name in cohort_df['Firstname'] + ' ' + cohort_df['Surname']]\n"
   ]
  },
  {
   "cell_type": "markdown",
   "id": "d7dd7264-4b89-4340-9d34-0870ed888140",
   "metadata": {},
   "source": [
    "**Create Learner Passport**"
   ]
  },
  {
   "cell_type": "code",
   "execution_count": 20,
   "id": "68567b4d-7d84-4f7f-a433-3657a4f2cdba",
   "metadata": {},
   "outputs": [],
   "source": [
    "cohort_df[\"learner_passport\"] = [passport if len(str(passport)) != 13 else \" \" for passport in cohort_df[\"ID Number/ Passport Number\"]]\n"
   ]
  },
  {
   "cell_type": "markdown",
   "id": "7d03cc57-9c30-4937-8fc6-ac419202c069",
   "metadata": {},
   "source": [
    "**Create Learner Equity Code**"
   ]
  },
  {
   "cell_type": "code",
   "execution_count": 11,
   "id": "6624f829-ddb0-43a5-add0-69e3db137a53",
   "metadata": {},
   "outputs": [],
   "source": [
    "cohort_df['learner_equity'] = cohort_df['Ethnicity'].map({'White':'WH', 'white':'WH', 'Coloured':'BC', 'coloured':'BC', \n",
    "                                                     'black':'BA', 'Black':'BA', 'Asian':'BI', 'indian':'BI','Indian':'BI'})"
   ]
  },
  {
   "cell_type": "markdown",
   "id": "352d0b94-164b-4fcd-81c1-e07e60d625d4",
   "metadata": {},
   "source": [
    "**Create Learner Learnership**"
   ]
  },
  {
   "cell_type": "code",
   "execution_count": 35,
   "id": "64ba4d3d-d566-466a-aabb-a142cf0409d5",
   "metadata": {},
   "outputs": [],
   "source": [
    "cohort_df['learner_nationality'] = cohort_df['Nationality'].map({'South African':'SA', 'Zimbabwean':'ZIM', 'Congolese':'ROA',\n",
    "                                                                'Dutch':'EUR', 'Nigerian':'ROA'})"
   ]
  },
  {
   "cell_type": "markdown",
   "id": "26ddb8d8-5dde-4db6-b91d-21797f0c3edd",
   "metadata": {},
   "source": [
    "**Create Learner Citizenship**"
   ]
  },
  {
   "cell_type": "code",
   "execution_count": null,
   "id": "2e3b96c4-5a3f-44d2-bd1e-1df301743917",
   "metadata": {},
   "outputs": [],
   "source": [
    "cohort_df['Residential Status (Citizen / Permanent Resident/Asylum Seeker/Work Permit/Study Permit)'] = cohort_df['Residential Status (Citizen / Permanent Resident/Asylum Seeker/Work Permit/Study Permit)'].fillna('Uknown')\n",
    "cohort_df['learner_citizenship'] = cohort_df['Residential Status (Citizen / Permanent Resident/Asylum Seeker/Work Permit/Study Permit)'].map({\"Unknown\":\"U\", \"Citizen\":\"SA\",\n",
    "                                                                                  \"Permanent Resident\":\"O\", \"Dual\":\"D\"})"
   ]
  },
  {
   "cell_type": "markdown",
   "id": "cc57d26a-a8f7-4cd9-b895-cb960ee853f7",
   "metadata": {},
   "source": [
    "**Create Learner Langauge**"
   ]
  },
  {
   "cell_type": "code",
   "execution_count": 37,
   "id": "a27b52af-6fb1-4da8-b19d-dfb36b6a1cb0",
   "metadata": {},
   "outputs": [],
   "source": [
    "cohort_df['learner_language'] = cohort_df['Home Language'].map({'English':'ENG', 'Afrikaans':'AFR', 'Sepedi [also known as Northern Sotho / Sesotho sa Lebowa]':'SEP',\n",
    "       'tshiVenda':'TSH', 'isiZulu':'ZUL', 'isiXhosa':'XHO', 'seTswana':'SET', 'xiTsonga':'XIT',\n",
    "       'isiNdebele':'NDE', 'seSotho':'SES', 'Other':'OTH', 'siSwati':'SWA', 'Sesotho':'SES'})\n"
   ]
  },
  {
   "cell_type": "markdown",
   "id": "e9c4845a-ae5d-48b7-8e26-ae05f77079f2",
   "metadata": {},
   "source": [
    "**Create Learner Socio Economic Status**"
   ]
  },
  {
   "cell_type": "code",
   "execution_count": 38,
   "id": "88cbc73c-255a-444f-bd2f-3c9428f93751",
   "metadata": {},
   "outputs": [],
   "source": [
    "cohort_df[\"learner_socioeconomic\"] = \"01\""
   ]
  },
  {
   "cell_type": "markdown",
   "id": "9f53417a-c71f-45a3-be99-90891e2af22f",
   "metadata": {},
   "source": [
    "**Create Learner Disability**"
   ]
  },
  {
   "cell_type": "code",
   "execution_count": 44,
   "id": "f8068409-060a-4f66-9558-d1b79df7c4c9",
   "metadata": {},
   "outputs": [],
   "source": [
    "cohort_df['Disability'] = cohort_df['Disability'].fillna('Uknown')\n",
    "cohort_df['learner_disability'] = cohort_df['Disability'].map({'No':'N', 'no':'N', 'Yes':'09', 'None':'N', 'yes':'09', 'Yes - specwearer':'01', 'N':'N', 'ADD':'09',\n",
    "       'Visual impairment - spec wearer':'02', 'Y - specwearer':'02', 'Visual impairment - Spec wearer -':'02', 'Uknown':'U', 'Aspergers / Autistic':'06',\n",
    "       'Patella Alta':'04', 'yes - specwearer':'02', '\\\\N':'N', 'Y- specwearer':'02'})\n"
   ]
  },
  {
   "cell_type": "markdown",
   "id": "810d6f20-6c51-4867-9bc6-7c7bf4a9f705",
   "metadata": {},
   "source": [
    "**Create Province Code**"
   ]
  },
  {
   "cell_type": "code",
   "execution_count": 47,
   "id": "cf583425-4cce-43c1-a93c-84cd3c467510",
   "metadata": {},
   "outputs": [],
   "source": [
    "cohort_df['learner_province'] = cohort_df['Municipality'].map({'Cape Town Metro':'2', 'Johannesburg Metro':'8', 'Ekurhuleni Metro':'8',\n",
    "       'Stellenbosch':'2', 'Tshwane Metro':'8', 'Mogale City':'8', 'Blouberg':'10',\n",
    "       'Midvaal':'8', 'Drakenstein':'2', 'UMlazi municipality':'6', 'Molopo':'7',\n",
    "       'Overberg':'2', 'Maluti a Phofung':'5', 'West Coast':'2'})"
   ]
  },
  {
   "cell_type": "markdown",
   "id": "86275083-26e6-46b4-9351-09519650667d",
   "metadata": {},
   "source": [
    "**Create Learner Designation**"
   ]
  },
  {
   "cell_type": "code",
   "execution_count": 48,
   "id": "060e9e90-2a84-4bd3-a051-4aa2dcfeb771",
   "metadata": {},
   "outputs": [],
   "source": [
    "cohort_df[\"learner_designation\"] = \"Learner\""
   ]
  },
  {
   "cell_type": "markdown",
   "id": "5982665b-78d4-438e-98a4-acb247abf5ba",
   "metadata": {},
   "source": [
    "**Create Learner Company**"
   ]
  },
  {
   "cell_type": "code",
   "execution_count": 49,
   "id": "5b97edd5-37a2-4757-8e9b-cf0233604d54",
   "metadata": {},
   "outputs": [],
   "source": [
    "cohort_df['learner_company'] = 'WeThinkCode_'"
   ]
  },
  {
   "cell_type": "markdown",
   "id": "cb3d3cf0-90ea-4927-b95a-d31eed01b445",
   "metadata": {},
   "source": [
    "**Create Learner Title**"
   ]
  },
  {
   "cell_type": "code",
   "execution_count": 51,
   "id": "50be5828-9672-4c2d-a7a5-2bb35c149602",
   "metadata": {},
   "outputs": [],
   "source": [
    "cohort_df['learner_title'] = ['Mr.' if gender.lower() == 'male' else 'Ms.' for gender in cohort_df['Gender']]"
   ]
  },
  {
   "cell_type": "markdown",
   "id": "4866725b-1908-45a5-9b03-9f05c51d2a1a",
   "metadata": {},
   "source": [
    "**Create Learner Contact**"
   ]
  },
  {
   "cell_type": "code",
   "execution_count": 53,
   "id": "862caec0-8ac6-4909-81a9-0cd92ea70e60",
   "metadata": {},
   "outputs": [],
   "source": [
    "cohort_df['learner_contact'] = 'Larissa Brand'"
   ]
  },
  {
   "cell_type": "markdown",
   "id": "796ea82f-571b-497b-a7b4-3682b0282287",
   "metadata": {},
   "source": [
    "**Create Learner Contact Phone**"
   ]
  },
  {
   "cell_type": "code",
   "execution_count": 54,
   "id": "04d24480-8c5a-4405-8e0a-24e90bc3cd2c",
   "metadata": {},
   "outputs": [],
   "source": [
    "cohort_df['learner_contact_phone'] = '082 774 9982'"
   ]
  },
  {
   "cell_type": "markdown",
   "id": "b20b90e3-cac6-4a39-8a2e-a4428f4962c4",
   "metadata": {},
   "source": [
    "**Fix Learner Phone**"
   ]
  },
  {
   "cell_type": "code",
   "execution_count": 56,
   "id": "3470a8fb-4ecf-487f-acff-abce259def36",
   "metadata": {},
   "outputs": [],
   "source": [
    "def convert_phone_to_string(target_df, column):\n",
    "    \"\"\"\n",
    "    Converts phone number column to a string type.\n",
    "    \n",
    "    Args:\n",
    "        target_df: The dataframe containing the column to be converted.\n",
    "        column: The column to be converted.\n",
    "        \n",
    "    Returns:\n",
    "        N/A\n",
    "    \"\"\"\n",
    "    \n",
    "    #convert to string\n",
    "    target_df[column] = target_df[column].astype(str)\n",
    "    \n",
    "    #convert to float\n",
    "    target_df[column] = target_df[column].astype(float)\n",
    "    \n",
    "    #convert to int\n",
    "    target_df[column] = target_df[column].astype(int)\n",
    "    \n",
    "    #convert to string\n",
    "    target_df[column] = target_df[column].astype(str)\n",
    "    \n",
    "#convert phone to string\n",
    "convert_phone_to_string(cohort_df,\"Mobile Number\")"
   ]
  },
  {
   "cell_type": "markdown",
   "id": "0b1108c4-b521-46bf-900f-11f46268f592",
   "metadata": {},
   "source": [
    "**Rename Columns**"
   ]
  },
  {
   "cell_type": "code",
   "execution_count": 57,
   "id": "3d16eaaa-0956-439d-bbb4-bf7c515ce4a2",
   "metadata": {},
   "outputs": [],
   "source": [
    "cohort_df = cohort_df.rename(columns={\"ID Number/ Passport Number\":\"learner_id\", \"Firstname\":\"learner_name\", \"Surname\":\"learner_surname\", \"Birth Date\":\"learner_birthdate\",\n",
    "                            \"Gender\":\"learner_gender\", \"Home Address\":\"learner_postal_address\", \"Physical Address while studying\":\"learner_home_address\",\n",
    "                            \"Mobile Number\":\"learner_phone\", \"Student Email\":\"learner_email\"})\n"
   ]
  },
  {
   "cell_type": "markdown",
   "id": "a0d01419-50b3-4933-9fe8-18910db94e33",
   "metadata": {},
   "source": [
    "**Subset Columns**"
   ]
  },
  {
   "cell_type": "code",
   "execution_count": 58,
   "id": "9f359d3f-abcd-47c5-8e94-35625a329826",
   "metadata": {},
   "outputs": [
    {
     "ename": "KeyError",
     "evalue": "\"['learner_equity'] not in index\"",
     "output_type": "error",
     "traceback": [
      "\u001b[0;31m---------------------------------------------------------------------------\u001b[0m",
      "\u001b[0;31mKeyError\u001b[0m                                  Traceback (most recent call last)",
      "\u001b[0;32m/var/folders/33/s663vbhn2v1f4q409xh14zkh0000gn/T/ipykernel_68919/901610573.py\u001b[0m in \u001b[0;36m<module>\u001b[0;34m\u001b[0m\n\u001b[1;32m      6\u001b[0m               \"learner_home_address\", \"learner_phone\", \"learner_email\", \"learner_contact\", \"learner_contact_phone\"]\n\u001b[1;32m      7\u001b[0m \u001b[0;34m\u001b[0m\u001b[0m\n\u001b[0;32m----> 8\u001b[0;31m \u001b[0mcohort_df\u001b[0m \u001b[0;34m=\u001b[0m \u001b[0mcohort_df\u001b[0m\u001b[0;34m[\u001b[0m\u001b[0mcolumn_name\u001b[0m\u001b[0;34m]\u001b[0m\u001b[0;34m\u001b[0m\u001b[0;34m\u001b[0m\u001b[0m\n\u001b[0m",
      "\u001b[0;32m~/Library/Python/3.8/lib/python/site-packages/pandas/core/frame.py\u001b[0m in \u001b[0;36m__getitem__\u001b[0;34m(self, key)\u001b[0m\n\u001b[1;32m   3459\u001b[0m             \u001b[0;32mif\u001b[0m \u001b[0mis_iterator\u001b[0m\u001b[0;34m(\u001b[0m\u001b[0mkey\u001b[0m\u001b[0;34m)\u001b[0m\u001b[0;34m:\u001b[0m\u001b[0;34m\u001b[0m\u001b[0;34m\u001b[0m\u001b[0m\n\u001b[1;32m   3460\u001b[0m                 \u001b[0mkey\u001b[0m \u001b[0;34m=\u001b[0m \u001b[0mlist\u001b[0m\u001b[0;34m(\u001b[0m\u001b[0mkey\u001b[0m\u001b[0;34m)\u001b[0m\u001b[0;34m\u001b[0m\u001b[0;34m\u001b[0m\u001b[0m\n\u001b[0;32m-> 3461\u001b[0;31m             \u001b[0mindexer\u001b[0m \u001b[0;34m=\u001b[0m \u001b[0mself\u001b[0m\u001b[0;34m.\u001b[0m\u001b[0mloc\u001b[0m\u001b[0;34m.\u001b[0m\u001b[0m_get_listlike_indexer\u001b[0m\u001b[0;34m(\u001b[0m\u001b[0mkey\u001b[0m\u001b[0;34m,\u001b[0m \u001b[0maxis\u001b[0m\u001b[0;34m=\u001b[0m\u001b[0;36m1\u001b[0m\u001b[0;34m)\u001b[0m\u001b[0;34m[\u001b[0m\u001b[0;36m1\u001b[0m\u001b[0;34m]\u001b[0m\u001b[0;34m\u001b[0m\u001b[0;34m\u001b[0m\u001b[0m\n\u001b[0m\u001b[1;32m   3462\u001b[0m \u001b[0;34m\u001b[0m\u001b[0m\n\u001b[1;32m   3463\u001b[0m         \u001b[0;31m# take() does not accept boolean indexers\u001b[0m\u001b[0;34m\u001b[0m\u001b[0;34m\u001b[0m\u001b[0;34m\u001b[0m\u001b[0m\n",
      "\u001b[0;32m~/Library/Python/3.8/lib/python/site-packages/pandas/core/indexing.py\u001b[0m in \u001b[0;36m_get_listlike_indexer\u001b[0;34m(self, key, axis)\u001b[0m\n\u001b[1;32m   1312\u001b[0m             \u001b[0mkeyarr\u001b[0m\u001b[0;34m,\u001b[0m \u001b[0mindexer\u001b[0m\u001b[0;34m,\u001b[0m \u001b[0mnew_indexer\u001b[0m \u001b[0;34m=\u001b[0m \u001b[0max\u001b[0m\u001b[0;34m.\u001b[0m\u001b[0m_reindex_non_unique\u001b[0m\u001b[0;34m(\u001b[0m\u001b[0mkeyarr\u001b[0m\u001b[0;34m)\u001b[0m\u001b[0;34m\u001b[0m\u001b[0;34m\u001b[0m\u001b[0m\n\u001b[1;32m   1313\u001b[0m \u001b[0;34m\u001b[0m\u001b[0m\n\u001b[0;32m-> 1314\u001b[0;31m         \u001b[0mself\u001b[0m\u001b[0;34m.\u001b[0m\u001b[0m_validate_read_indexer\u001b[0m\u001b[0;34m(\u001b[0m\u001b[0mkeyarr\u001b[0m\u001b[0;34m,\u001b[0m \u001b[0mindexer\u001b[0m\u001b[0;34m,\u001b[0m \u001b[0maxis\u001b[0m\u001b[0;34m)\u001b[0m\u001b[0;34m\u001b[0m\u001b[0;34m\u001b[0m\u001b[0m\n\u001b[0m\u001b[1;32m   1315\u001b[0m \u001b[0;34m\u001b[0m\u001b[0m\n\u001b[1;32m   1316\u001b[0m         if needs_i8_conversion(ax.dtype) or isinstance(\n",
      "\u001b[0;32m~/Library/Python/3.8/lib/python/site-packages/pandas/core/indexing.py\u001b[0m in \u001b[0;36m_validate_read_indexer\u001b[0;34m(self, key, indexer, axis)\u001b[0m\n\u001b[1;32m   1375\u001b[0m \u001b[0;34m\u001b[0m\u001b[0m\n\u001b[1;32m   1376\u001b[0m             \u001b[0mnot_found\u001b[0m \u001b[0;34m=\u001b[0m \u001b[0mlist\u001b[0m\u001b[0;34m(\u001b[0m\u001b[0mensure_index\u001b[0m\u001b[0;34m(\u001b[0m\u001b[0mkey\u001b[0m\u001b[0;34m)\u001b[0m\u001b[0;34m[\u001b[0m\u001b[0mmissing_mask\u001b[0m\u001b[0;34m.\u001b[0m\u001b[0mnonzero\u001b[0m\u001b[0;34m(\u001b[0m\u001b[0;34m)\u001b[0m\u001b[0;34m[\u001b[0m\u001b[0;36m0\u001b[0m\u001b[0;34m]\u001b[0m\u001b[0;34m]\u001b[0m\u001b[0;34m.\u001b[0m\u001b[0munique\u001b[0m\u001b[0;34m(\u001b[0m\u001b[0;34m)\u001b[0m\u001b[0;34m)\u001b[0m\u001b[0;34m\u001b[0m\u001b[0;34m\u001b[0m\u001b[0m\n\u001b[0;32m-> 1377\u001b[0;31m             \u001b[0;32mraise\u001b[0m \u001b[0mKeyError\u001b[0m\u001b[0;34m(\u001b[0m\u001b[0;34mf\"{not_found} not in index\"\u001b[0m\u001b[0;34m)\u001b[0m\u001b[0;34m\u001b[0m\u001b[0;34m\u001b[0m\u001b[0m\n\u001b[0m\u001b[1;32m   1378\u001b[0m \u001b[0;34m\u001b[0m\u001b[0m\n\u001b[1;32m   1379\u001b[0m \u001b[0;34m\u001b[0m\u001b[0m\n",
      "\u001b[0;31mKeyError\u001b[0m: \"['learner_equity'] not in index\""
     ]
    }
   ],
   "source": [
    "#subset columns\n",
    "column_name = [\"learner_name\", \"learner_surname\",'learner_fullname', 'learner_initials',\n",
    "               'learner_passport','learner_equity', 'learner_nationality', 'learner_citizenship',\n",
    "               'learner_language', 'learner_socioeconomic', 'learner_disability','learner_province', 'learner_designation',\n",
    "              \"learner_id\", \"learner_company\", \"learner_title\", \"learner_birthdate\", \"learner_gender\", \"learner_postal_address\",\n",
    "              \"learner_home_address\", \"learner_phone\", \"learner_email\", \"learner_contact\", \"learner_contact_phone\"]\n",
    "\n",
    "cohort_df = cohort_df[column_name]"
   ]
  },
  {
   "cell_type": "code",
   "execution_count": null,
   "id": "728838b8-19d0-4d44-a2e1-fc740d9698b5",
   "metadata": {},
   "outputs": [],
   "source": []
  },
  {
   "cell_type": "code",
   "execution_count": null,
   "id": "603f7075-a0eb-4c4d-8507-1dfd5b742c8a",
   "metadata": {},
   "outputs": [],
   "source": []
  },
  {
   "cell_type": "code",
   "execution_count": null,
   "id": "c46a5d90-bb13-4345-82d1-148e6d4a1529",
   "metadata": {},
   "outputs": [],
   "source": []
  },
  {
   "cell_type": "markdown",
   "id": "efe4a3d5-320d-4cc5-ad7c-c1a657c8f911",
   "metadata": {},
   "source": [
    "***Local Functions Library***"
   ]
  },
  {
   "cell_type": "code",
   "execution_count": 34,
   "id": "d9cf55c2-d58a-4a5e-aa89-6e81be88aaed",
   "metadata": {},
   "outputs": [],
   "source": [
    "def convert_phone_to_string(target_df, column):\n",
    "    \"\"\"\n",
    "    Converts phone number column to a string type.\n",
    "    \n",
    "    Args:\n",
    "        target_df: The dataframe containing the column to be converted.\n",
    "        column: The column to be converted.\n",
    "        \n",
    "    Returns:\n",
    "        N/A\n",
    "    \"\"\"\n",
    "    \n",
    "    #convert to string\n",
    "    target_df[column] = target_df[column].astype(str)\n",
    "    \n",
    "    #convert to float\n",
    "    target_df[column] = target_df[column].astype(float)\n",
    "    \n",
    "    #convert to int\n",
    "    target_df[column] = target_df[column].astype(int)\n",
    "    \n",
    "    #convert to string\n",
    "    target_df[column] = target_df[column].astype(str)\n",
    "    \n",
    "    \n",
    "def create_rpl_dataframe():\n",
    "    \"\"\"\n",
    "    Creates a dataframe for populating rpl registration documents\n",
    "    \n",
    "    Args:\n",
    "        N/A\n",
    "        \n",
    "    Returns:\n",
    "        rpl_form_df: A dataframe for populating rpl registration documents\n",
    "    \"\"\"\n",
    "    \n",
    "    #import rpl seta registration form\n",
    "    rpl_form_df = import_worksheet(\"SETA Registration Form (Responses)\", \"Form Responses 1\")\n",
    "    \n",
    "    #create learner fullname\n",
    "    rpl_form_df['learner_fullname'] = rpl_form_df['Learner Name'] + \" \" + rpl_form_df['Learner Surname']\n",
    "    \n",
    "    #create learner_initials\n",
    "    rpl_form_df[\"learner_initials\"] = [name.split()[0][0] + \".\" + name.split()[1][0] for name in rpl_form_df['Learner Name'] + \" \" + rpl_form_df['Learner Surname']]\n",
    "    \n",
    "    #create learner passport\n",
    "    rpl_form_df[\"learner_passport\"] = [passport if len(str(passport)) != 13 else \" \" for passport in rpl_form_df[\"Learner ID\"]]\n",
    "    \n",
    "    #create learner equity code\n",
    "    rpl_form_df[\"learner_equity\"] = rpl_form_df[\"Ethnicity\"].map({\"Black African\": \"BA\", \"Black Coloured\":\"BC\",\n",
    "                                                                \"Black Indian/Asian\":\"BI\", \"White\":\"WH\", \"Uknown\":\"U\"})\n",
    "    \n",
    "    #create learner nationality\n",
    "    rpl_form_df[\"learner_nationality\"] = rpl_form_df[\"Nationality\"].map({\"Unspecified\":\"U\", \"South Africa\":\"SA\", \"SADC\":\"SDC\",\n",
    "                                                                    \"Namibia\":\"NAM\", \"Botswana\":\"BOT\", \"Zimbabwe\":\"ZIM\", \"Angola\":\"ANG\",\n",
    "                                                                    \"Mozambique\":\"MOZ\", \"Lesotho\":\"LES\", \"Lesotho\":\"LES\", \"Swaziland\":\"SWA\",\n",
    "                                                                    \"Malawi\":\"MAL\", \"Zambia\":\"ZAM\", \"Mauritius\":\"MAU\", \"Tanzania\":\"TAN\",\n",
    "                                                                    \"Seychelles\":\"SEY\", \"Zaire\":\"ZAI\", \"Rest of Africa\":\"ROA\",\n",
    "                                                                     \"European countries\":\"EUR\", \"Asian countries\":\"AIS\",\n",
    "                                                                     \"North American countries\":\"NOR\", \"Central and South American countries\":\"SOU\",\n",
    "                                                                    \"Australia and New Zealand\":\"AUS\", \"Other and rest of Oceania\":\"OOC\"})\n",
    "    \n",
    "    #create learner citizenship\n",
    "    rpl_form_df[\"learner_citizenship\"] = rpl_form_df[\"Citizen/Residence status\"].map({\"Unknown\":\"U\", \"South Africa\":\"SA\",\n",
    "                                                                                  \"Other\":\"O\", \"Dual\":\"D\"})\n",
    "    \n",
    "    #create learner language\n",
    "    rpl_form_df[\"learner_language\"] = rpl_form_df[\"Home Language\"].map({\"English\":\"ENG\", \"Afrikaans\":\"AFR\", \"Other\":\"OTH\",\n",
    "                                                                   \"sePedi\":\"SEP\", \"seSotho\":\"SES\", \"seTswana\":\"SET\",\n",
    "                                                                   \"siSwati\":\"SWA\", \"tshiVenda\":\"TSH\", \"Uknown\":\"U\",\n",
    "                                                                   \"isiXhosa\":\"XHO\", \"xiTsonga\":\"XIT\", \"isiZulu\":\"ZUL\",\n",
    "                                                                   \"siNdebele\":\"NDE\"})\n",
    "    \n",
    "    #create learner socio economic status\n",
    "    rpl_form_df[\"learner_socioeconomic\"] = \"01\"\n",
    "    \n",
    "    #create learner disability\n",
    "    rpl_form_df[\"learner_disability\"] = rpl_form_df[\"Disability Status\"].map({\"None\":\"N\", \"Sight (even with glasses)\":\"01\", \"Hearing (even with hearing aid)\":\"02\",\n",
    "                                                                         \"Communication (talking, listening)\":\"03\", \"Physical (moving, standing, grasping)\":\"04\",\n",
    "                                                                         \"Intellectual (difficulties in learning)\":\"05\", \"Emotional (behavioural or psychological)\":\"06\",\n",
    "                                                                         \"Multiple\":\"07\", \"Disabled but unspecified\":\"09\", \"Uknown\":\"U\"})\n",
    "    \n",
    "    #create province code\n",
    "    rpl_form_df[\"learner_province\"] = rpl_form_df[\"Province\"].map({\"Gauteng\":\"8\", \"Western Cape\":\"2\", \"Eastern Cape\":\"3\", \"Northern Cape\":\"4\",\n",
    "                                                               \"Free State\":\"5\", \"Limpopo\":\"10\", \"Kwazulu-Natal\":\"6\", \"Mpumalanga\":\"9\",\n",
    "                                                              \"North West\":\"7\", \"Undefined\":\"1\"})\n",
    "    \n",
    "    #convert phone to string\n",
    "    convert_phone_to_string(rpl_form_df,\"Learner Phone\")\n",
    "    \n",
    "    #create learner designation\n",
    "    rpl_form_df[\"learner_designation\"] = \"Learner\"\n",
    "    \n",
    "    #rename columns\n",
    "    rpl_form_df = rpl_form_df.rename(columns={\"Learner ID\":\"learner_id\", \n",
    "                                \"Which company did(do) you work for? The answer is  WeThinkCode_ if you are a student or you are unemployed.\":\"learner_company\",\n",
    "                                \"Learner Title\":\"learner_title\", \"Learner Name\":\"learner_name\", \"Learner Surname\":\"learner_surname\", \"Birth Date\":\"learner_birthdate\",\n",
    "                                \"Gender\":\"learner_gender\", \"Postal Address (If different from Home Address)\":\"learner_postal_address\", \"Home Address\":\"learner_home_address\",\n",
    "                                \"Learner Phone\":\"learner_phone\", \"Learner Email\":\"learner_email\", \"Full name of contact person at company of employment.\":\"learner_contact\",\n",
    "                                \"Phone number of contact person at company of employment.\":\"learner_contact_phone\"})\n",
    "    \n",
    "    #subset columns\n",
    "    column_name = [\"learner_name\", \"learner_surname\",'learner_fullname', 'learner_initials',\n",
    "                   'learner_passport','learner_equity', 'learner_nationality', 'learner_citizenship',\n",
    "                   'learner_language', 'learner_socioeconomic', 'learner_disability','learner_province', 'learner_designation',\n",
    "                  \"learner_id\", \"learner_company\", \"learner_title\", \"learner_birthdate\", \"learner_gender\", \"learner_postal_address\",\n",
    "                  \"learner_home_address\", \"learner_phone\", \"learner_email\", \"learner_contact\", \"learner_contact_phone\"]\n",
    "    \n",
    "    #replace all null values\n",
    "    rpl_form_df.fillna('  ', inplace=True)\n",
    "    \n",
    "    return rpl_form_df[column_name]\n",
    "\n"
   ]
  },
  {
   "cell_type": "markdown",
   "id": "62e4db0c-fa9d-4009-a399-496de97f9f89",
   "metadata": {},
   "source": [
    "**Create Contract DataFrame**"
   ]
  },
  {
   "cell_type": "code",
   "execution_count": 35,
   "id": "7d1fe3df-4e91-4996-8a1e-410581f1ae79",
   "metadata": {},
   "outputs": [],
   "source": [
    "rpl_df = create_rpl_dataframe()"
   ]
  },
  {
   "cell_type": "markdown",
   "id": "11e18a35-d897-4cb9-8149-ee9221735d73",
   "metadata": {},
   "source": [
    "***Send POE Instructions Document***"
   ]
  },
  {
   "cell_type": "code",
   "execution_count": 37,
   "id": "402048b6-3bf5-40e8-8ed7-159201cc3480",
   "metadata": {},
   "outputs": [
    {
     "name": "stdout",
     "output_type": "stream",
     "text": [
      "Signer: empoweryourself36@gmail.com , Status: 201\n",
      "Signer: solomonyedidia@gmail.com , Status: 201\n"
     ]
    }
   ],
   "source": [
    "#create target columns\n",
    "poe_instructions_columns = ['learner_fullname', 'learner_id', 'learner_initials', 'learner_company', 'learner_email']\n",
    "\n",
    "#create template column\n",
    "rpl_df['poe_instructions_template_column'] = \"feb67241-52f8-456c-917e-bdd0526619ee\"\n",
    "\n",
    "#send poe instructions through signrequests in bulk\n",
    "#send_bulk_signrequest(rpl_df, poe_instructions_columns, 'poe_instructions_template_column')"
   ]
  },
  {
   "cell_type": "markdown",
   "id": "74af6d6d-0128-4396-9903-107e96bedcbe",
   "metadata": {},
   "source": [
    "**Send Learner Contract Document**"
   ]
  },
  {
   "cell_type": "code",
   "execution_count": 38,
   "id": "7bc4dc20-b56f-471d-b0d4-1ff7b7ea2ab4",
   "metadata": {},
   "outputs": [
    {
     "name": "stdout",
     "output_type": "stream",
     "text": [
      "Signer: empoweryourself36@gmail.com , Status: 201\n",
      "Signer: solomonyedidia@gmail.com , Status: 201\n"
     ]
    }
   ],
   "source": [
    "#create target columns\n",
    "learner_contract_columns = ['learner_title', 'learner_name', 'learner_surname', 'learner_birthdate', 'learner_id', 'learner_passport',\n",
    "                           'learner_equity', 'learner_nationality', 'learner_gender', 'learner_citizenship', 'learner_language',\n",
    "                           'learner_socioeconomic', 'learner_disability', 'learner_home_address', 'learner_postal_address',\n",
    "                           'learner_province', 'learner_phone', 'learner_email', 'learner_company', 'learner_contact', 'learner_contact_phone',\n",
    "                           'learner_designation']\n",
    "\n",
    "#create template column\n",
    "rpl_df['learner_contract_template_column'] = '900be1ba-0b96-4386-a904-fb67069f168e'\n",
    "\n",
    "#send learner contract through signrequests in bulk\n",
    "#send_bulk_signrequest(rpl_df, learner_contract_columns, 'learner_contract_template_column')"
   ]
  },
  {
   "cell_type": "markdown",
   "id": "8c51b14d-6421-4d3c-8ff1-aef369c88413",
   "metadata": {},
   "source": [
    "**Send Learner Assessment Contract**"
   ]
  },
  {
   "cell_type": "code",
   "execution_count": 40,
   "id": "47fa5985-4c46-4d8e-b559-f2be8b78a4f7",
   "metadata": {},
   "outputs": [
    {
     "name": "stdout",
     "output_type": "stream",
     "text": [
      "Signer: empoweryourself36@gmail.com , Status: 201\n",
      "Signer: solomonyedidia@gmail.com , Status: 201\n"
     ]
    }
   ],
   "source": [
    "#create target columns\n",
    "learner_assessment_contract_columns = ['learner_fullname', 'learner_id', 'learner_email']\n",
    "\n",
    "#create template column\n",
    "rpl_df['learner_assessment_contract_template_column'] = '0cb728c3-790c-4ea3-9a38-33d9c06d6547'\n",
    "\n",
    "#send learner assessment contract through signrequests in bulk\n",
    "#send_bulk_signrequest(rpl_df, learner_assessment_contract_columns, 'learner_assessment_contract_template_column')"
   ]
  },
  {
   "cell_type": "markdown",
   "id": "e65c2f89-0196-43b6-8bac-d6f74b0a7701",
   "metadata": {},
   "source": [
    "**Send Learner Declaration of Authenticity**"
   ]
  },
  {
   "cell_type": "code",
   "execution_count": 41,
   "id": "9f702f49-7118-4560-a41a-de82838f5268",
   "metadata": {},
   "outputs": [
    {
     "name": "stdout",
     "output_type": "stream",
     "text": [
      "Signer: empoweryourself36@gmail.com , Status: 201\n",
      "Signer: solomonyedidia@gmail.com , Status: 201\n"
     ]
    }
   ],
   "source": [
    "#create target columns\n",
    "learner_authenticity_documents_columns = ['learner_fullname', 'learner_id', 'learner_initials', 'learner_name', 'learner_email']\n",
    "\n",
    "#create template column\n",
    "rpl_df['learner_authenticity_document_template_column'] = '8492f73a-4de6-413f-8bfe-76b2556fce89'\n",
    "\n",
    "#send learner authenticity document through signrequests in bulk\n",
    "#send_bulk_signrequest(rpl_df, learner_authenticity_documents_columns, 'learner_authenticity_document_template_column')"
   ]
  },
  {
   "cell_type": "markdown",
   "id": "c651065e-e100-4de9-bcae-a7ee9cb3e803",
   "metadata": {},
   "source": [
    "**Send Learner PreAssessment Meeting Document**"
   ]
  },
  {
   "cell_type": "code",
   "execution_count": 42,
   "id": "9dd40f05-8f44-4dff-931b-d2abcde7bbbe",
   "metadata": {},
   "outputs": [
    {
     "name": "stdout",
     "output_type": "stream",
     "text": [
      "Signer: empoweryourself36@gmail.com , Status: 201\n",
      "Signer: solomonyedidia@gmail.com , Status: 201\n"
     ]
    }
   ],
   "source": [
    "#create target columns\n",
    "learner_preassessment_document_columns = ['learner_fullname', 'learner_id', 'learner_contact', 'learner_email']\n",
    "\n",
    "#create template column\n",
    "rpl_df['learner_preassessment_document_template_column'] = '57d91620-97ad-462a-a32a-ed1f77934156'\n",
    "\n",
    "#send learner preassessment meeting document through signrequests in bulk\n",
    "#send_bulk_signrequest(rpl_df, learner_preassessment_document_columns, 'learner_preassessment_document_template_column')"
   ]
  },
  {
   "cell_type": "markdown",
   "id": "76dbaf8e-68c0-4171-a224-f8ac8b8fcdf3",
   "metadata": {},
   "source": [
    "***Create Test Dataframe***"
   ]
  },
  {
   "cell_type": "code",
   "execution_count": 31,
   "id": "54914bbc-991e-4fe5-ba66-7b7653b23844",
   "metadata": {},
   "outputs": [
    {
     "name": "stdout",
     "output_type": "stream",
     "text": [
      "Signer: mufaro@thoughtquest.co.za , Status: 201\n"
     ]
    }
   ],
   "source": [
    "test_df = rpl_df.groupby(['learner_preassessment_document_template_column']).head(1).groupby('learner_preassessment_document_template_column').head(1).copy()\n",
    "test_df['learner_email'] = 'mufaro@thoughtquest.co.za'\n",
    "send_bulk_signrequest(test_df, learner_preassessment_document_columns, 'learner_preassessment_document_template_column')"
   ]
  },
  {
   "cell_type": "code",
   "execution_count": null,
   "id": "862fc575-49d9-437b-8d8d-2b716f277e76",
   "metadata": {},
   "outputs": [],
   "source": []
  },
  {
   "cell_type": "code",
   "execution_count": null,
   "id": "16aeea2e-578b-44e1-9056-eb91a7d2d47c",
   "metadata": {},
   "outputs": [],
   "source": []
  },
  {
   "cell_type": "code",
   "execution_count": null,
   "id": "0681128a-3c23-4fa0-bc18-0104ac04afc0",
   "metadata": {},
   "outputs": [],
   "source": []
  },
  {
   "cell_type": "code",
   "execution_count": null,
   "id": "903d2ca7-684c-4487-93bb-81e3650c6f39",
   "metadata": {},
   "outputs": [],
   "source": []
  }
 ],
 "metadata": {
  "kernelspec": {
   "display_name": "Python 3 (ipykernel)",
   "language": "python",
   "name": "python3"
  },
  "language_info": {
   "codemirror_mode": {
    "name": "ipython",
    "version": 3
   },
   "file_extension": ".py",
   "mimetype": "text/x-python",
   "name": "python",
   "nbconvert_exporter": "python",
   "pygments_lexer": "ipython3",
   "version": "3.8.2"
  }
 },
 "nbformat": 4,
 "nbformat_minor": 5
}
