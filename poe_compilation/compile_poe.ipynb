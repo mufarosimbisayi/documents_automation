{
 "cells": [
  {
   "cell_type": "markdown",
   "id": "3a1f0b82-2bbf-4fff-b6f2-578adc3bc669",
   "metadata": {},
   "source": [
    "**This notebook contains a script that combines all the SETA POE documents into one submission Folder**"
   ]
  },
  {
   "cell_type": "markdown",
   "id": "14c24c01-bec9-4f58-ab7a-6b8c357c6b6b",
   "metadata": {},
   "source": [
    "**Add Local Library to Path**"
   ]
  },
  {
   "cell_type": "code",
   "execution_count": 2,
   "id": "e08090ea-5834-46ee-8b8f-3e028a64d98d",
   "metadata": {},
   "outputs": [],
   "source": [
    "import os\n",
    "import sys\n",
    "\n",
    "module_path = os.path.abspath(os.path.join('..'))\n",
    "if module_path not in sys.path:\n",
    "    sys.path.append(module_path)\n",
    "    sys.path.append(module_path + '/local_library')"
   ]
  },
  {
   "cell_type": "markdown",
   "id": "44a6858e-23ee-4c2f-9683-522059c6c0bc",
   "metadata": {},
   "source": [
    "**Import Libraries**"
   ]
  },
  {
   "cell_type": "code",
   "execution_count": 3,
   "id": "5e6dfc7a-cc41-429d-b5cb-d5da7c18ed2a",
   "metadata": {},
   "outputs": [
    {
     "name": "stdout",
     "output_type": "stream",
     "text": [
      "Your browser has been opened to visit:\n",
      "\n",
      "    https://accounts.google.com/o/oauth2/auth?client_id=1017190226189-f1d5s7cpjrj54u2rqk1ufh9pevguqoap.apps.googleusercontent.com&redirect_uri=http%3A%2F%2Flocalhost%3A8080%2F&scope=https%3A%2F%2Fwww.googleapis.com%2Fauth%2Fdrive&access_type=offline&response_type=code\n",
      "\n",
      "Authentication successful.\n"
     ]
    }
   ],
   "source": [
    "import pandas as pd\n",
    "import re\n",
    "from local_library import list_files\n",
    "from local_library import create_folder\n",
    "from local_library import import_worksheet\n",
    "from local_library import export_worksheet"
   ]
  },
  {
   "cell_type": "markdown",
   "id": "b256cebd-59a5-401b-b1f1-c32bf9db678c",
   "metadata": {},
   "source": [
    "**Temp Library**"
   ]
  },
  {
   "cell_type": "code",
   "execution_count": 4,
   "id": "4e054db3-231e-4a9f-bf94-86d7855f0b0b",
   "metadata": {},
   "outputs": [
    {
     "name": "stdout",
     "output_type": "stream",
     "text": [
      "Your browser has been opened to visit:\n",
      "\n",
      "    https://accounts.google.com/o/oauth2/auth?client_id=1017190226189-f1d5s7cpjrj54u2rqk1ufh9pevguqoap.apps.googleusercontent.com&redirect_uri=http%3A%2F%2Flocalhost%3A8080%2F&scope=https%3A%2F%2Fwww.googleapis.com%2Fauth%2Fdrive&access_type=offline&response_type=code\n",
      "\n",
      "Authentication successful.\n"
     ]
    }
   ],
   "source": [
    "from pydrive.auth import GoogleAuth\n",
    "from pydrive.drive import GoogleDrive\n",
    "\n",
    "#authenticate Google\n",
    "gauth = GoogleAuth()\n",
    "gauth.LocalWebserverAuth()\n",
    "drive = GoogleDrive(gauth)\n",
    "\n",
    "\n",
    "def move_file(old_folder_id, new_folder_id, exclusion_array=[]):\n",
    "    \"\"\"\n",
    "    Moves a google drive files from one folder to another.\n",
    "    \n",
    "    Args:\n",
    "        old_folder_id: A string representing the old folder google drive id.\n",
    "        new_folder_id: A string representing the new folder google drive id.\n",
    "        exclusion_array: An array of strings containing the titles to be excluded from the copy.\n",
    "        \n",
    "    Returns:\n",
    "        _: A boolean representing success or failure\n",
    "    \"\"\"\n",
    "    \n",
    "    files = list_files(old_folder_id)\n",
    "    for file in files:\n",
    "        if file['title'] not in exclusion_array:\n",
    "            copy_file(file['id'], file['title'], new_folder_id)\n",
    "    return True\n",
    "    \n",
    "def copy_file(file_id, file_title, new_folder_id):\n",
    "    \"\"\"\n",
    "    Creates copy of file in destination folder\n",
    "    \n",
    "    Args:\n",
    "        file_id: I.D of the file to be copied\n",
    "        file_title: Name of the file to be copied\n",
    "        new_folder_id: Folder where copy will be stored.\n",
    "    Return:\n",
    "        none\n",
    "    \"\"\"\n",
    "    \n",
    "    copied_file = {\"title\": file_title,\n",
    "                    'parents': [{\n",
    "            'kind': 'drive#fileLink',\n",
    "            'id': new_folder_id\n",
    "        }]}\n",
    "\n",
    "    drive.auth.service.files().copy(fileId=file_id,\n",
    "                                    body=copied_file,\n",
    "                                    supportsAllDrives=True\n",
    "    ).execute()"
   ]
  },
  {
   "cell_type": "markdown",
   "id": "ba750e54-ce3c-4e4f-8835-09a71ba4e5d7",
   "metadata": {},
   "source": [
    "**Map Documents folders**"
   ]
  },
  {
   "cell_type": "code",
   "execution_count": 5,
   "id": "0ce3f626-34ff-47d5-80ac-db3971480c45",
   "metadata": {},
   "outputs": [],
   "source": [
    "files = list_files(\"1W04tIGaWpqSgKsaP6xSjrUtP1OsVcaPX\")"
   ]
  },
  {
   "cell_type": "code",
   "execution_count": 6,
   "id": "f0a49f96-f3e8-4d67-ac89-8a6f6f5c8380",
   "metadata": {},
   "outputs": [],
   "source": [
    "student_documents_folders = []\n",
    "for file in files:\n",
    "    student_documents_folders.append([file['title'], file['id']])\n"
   ]
  },
  {
   "cell_type": "code",
   "execution_count": 7,
   "id": "49c2141d-7661-4444-a8ba-3cccae0db900",
   "metadata": {},
   "outputs": [],
   "source": [
    "documents_df = pd.DataFrame(student_documents_folders, columns=[\"Name\", \"Documents ID\"])"
   ]
  },
  {
   "cell_type": "markdown",
   "id": "c966df82-4a60-4727-acaf-bbfd3c6fda7a",
   "metadata": {},
   "source": [
    "**Map Evidence Folders**"
   ]
  },
  {
   "cell_type": "code",
   "execution_count": 8,
   "id": "88491bb1-c776-4cdd-80b1-b0b4c96679e1",
   "metadata": {},
   "outputs": [],
   "source": [
    "files_2 = list_files(\"1-2tkFz7qrd2MD-vvudm0AlyK46YFt5so\")"
   ]
  },
  {
   "cell_type": "code",
   "execution_count": 9,
   "id": "4e8f3530-5999-4b13-8ab4-858495e1ced6",
   "metadata": {},
   "outputs": [],
   "source": [
    "student_evidence_folders = []\n",
    "for file in files_2:\n",
    "    student_evidence_folders.append([file['title'], file['id']])"
   ]
  },
  {
   "cell_type": "code",
   "execution_count": 10,
   "id": "c2c9aa7b-4324-4532-afa2-0bf75e6cca04",
   "metadata": {},
   "outputs": [],
   "source": [
    "evidence_df = pd.DataFrame(student_evidence_folders, columns=[\"Name\", \"Evidence ID\"])"
   ]
  },
  {
   "cell_type": "markdown",
   "id": "89cf6294-a937-42b3-903d-ae6577a95d04",
   "metadata": {},
   "source": [
    "**Merge Documents and Evidence Folders**"
   ]
  },
  {
   "cell_type": "code",
   "execution_count": 11,
   "id": "17aa1342-8a56-4953-af69-6fed02ba828a",
   "metadata": {},
   "outputs": [],
   "source": [
    "folders_df = pd.merge(documents_df, evidence_df, how=\"inner\")"
   ]
  },
  {
   "cell_type": "code",
   "execution_count": 12,
   "id": "6e6eefdf-ecdc-406f-b077-e85fef6d4dc3",
   "metadata": {},
   "outputs": [],
   "source": [
    "#folders_df = folders_df[folders_df['Name'] == 'Adam Saul David Becker']\n",
    "#folders_df.head()"
   ]
  },
  {
   "cell_type": "markdown",
   "id": "333083c3-f2e6-451d-bb9b-22c54b966e5c",
   "metadata": {},
   "source": [
    "**Import and Merge Student Data**"
   ]
  },
  {
   "cell_type": "code",
   "execution_count": 13,
   "id": "d733204b-0639-47bc-96b0-0d32c2880c64",
   "metadata": {},
   "outputs": [],
   "source": [
    "#import data\n",
    "cohort_df = import_worksheet('2020 SETA Submission Tracking Sheet', 'Sheet20')"
   ]
  },
  {
   "cell_type": "code",
   "execution_count": 14,
   "id": "744bd856-8c73-4bce-8df9-68749bc7430d",
   "metadata": {},
   "outputs": [],
   "source": [
    "#create Name column\n",
    "cohort_df['middle_name'] = cohort_df['Middle Name'].fillna(\"\")\n",
    "cohort_df['learner_name'] = cohort_df['First Name'].str.strip().str.lower() + \" \" + cohort_df['middle_name'].str.strip().str.lower()\n",
    "cohort_df['learner_name'] = cohort_df['learner_name'].str.strip().str.title()\n",
    "cohort_df['learner_fullname'] = cohort_df['learner_name'].str.strip().str.lower() + \" \" + cohort_df['Surname'].str.strip().str.lower()\n",
    "cohort_df['learner_fullname'] = [re.sub(' +', ' ', fullname) for fullname in cohort_df['learner_fullname']]\n",
    "cohort_df['Name'] = cohort_df['learner_fullname'].str.title()\n"
   ]
  },
  {
   "cell_type": "code",
   "execution_count": 15,
   "id": "6e3ee263-a645-45ae-a16f-ac4a47f432dc",
   "metadata": {},
   "outputs": [],
   "source": [
    "#set moderated poes\n",
    "moderation_boolean = cohort_df['Selected for Moderation'] == 'Y'\n",
    "cohort_df.loc[moderation_boolean, 'parent_folder_id'] = '12vNvTMr7wOYYrr6pG_juR13mNX_K7Q8B'"
   ]
  },
  {
   "cell_type": "code",
   "execution_count": 16,
   "id": "4497e131-bb00-420a-8535-59687d95e05d",
   "metadata": {},
   "outputs": [],
   "source": [
    "#set JHB poes\n",
    "jhb_boolean = cohort_df['Campus'] == 'Johannesburg'\n",
    "cohort_df.loc[~moderation_boolean & jhb_boolean, 'parent_folder_id'] = '1blnq78S8plz7PvPqoC4eiAG7eGtnAsGS'"
   ]
  },
  {
   "cell_type": "code",
   "execution_count": 17,
   "id": "0ed8badf-f436-4fe0-8851-322c6a5e20e9",
   "metadata": {},
   "outputs": [],
   "source": [
    "#set CPT poes\n",
    "cpt_boolean = cohort_df['Campus'] == 'Cape Town'\n",
    "cohort_df.loc[~moderation_boolean & cpt_boolean, 'parent_folder_id'] = '18PR9IRA2WqkvRt-H0kzS0aiBDL92mbcV'"
   ]
  },
  {
   "cell_type": "code",
   "execution_count": 18,
   "id": "ced6f6b2-53fc-4eb7-8095-5d0fe82ff9a0",
   "metadata": {},
   "outputs": [],
   "source": [
    "#set DBN poes\n",
    "dbn_boolean = cohort_df['Campus'] == 'Durban'\n",
    "cohort_df.loc[~moderation_boolean & dbn_boolean, 'parent_folder_id'] = '1IsEPiN8rBrYNLaPVyQ40lKByU1LZWhYS'"
   ]
  },
  {
   "cell_type": "code",
   "execution_count": 19,
   "id": "eeb40848-b3c0-4141-8fe5-3bf11ed6b2a1",
   "metadata": {},
   "outputs": [],
   "source": [
    "#subset useful columns\n",
    "cohort_df = cohort_df[['Name', 'parent_folder_id']]"
   ]
  },
  {
   "cell_type": "code",
   "execution_count": 20,
   "id": "4790a0c0-97e4-4367-9eff-df4ce6ac99eb",
   "metadata": {},
   "outputs": [
    {
     "data": {
      "text/plain": [
       "217"
      ]
     },
     "execution_count": 20,
     "metadata": {},
     "output_type": "execute_result"
    }
   ],
   "source": [
    "#merge cohort_df and folders_df\n",
    "cohort_df = pd.merge(cohort_df, folders_df, how=\"left\")\n",
    "\n",
    "len(cohort_df)"
   ]
  },
  {
   "cell_type": "markdown",
   "id": "1b64ba6f-f49b-42b0-b2e6-84443762ec37",
   "metadata": {},
   "source": [
    "**Create Local Library**"
   ]
  },
  {
   "cell_type": "code",
   "execution_count": 21,
   "id": "1df87b78-1e17-41b1-b2a1-9b7c5c797f06",
   "metadata": {},
   "outputs": [],
   "source": [
    "def create_poe_folder(poe_parent_folder_id, poe_folder_title):\n",
    "    \"\"\"\n",
    "    Creates the student POE folder.\n",
    "    \n",
    "    Args:\n",
    "        poe_parent_folder_id: A string representing the id of the poe parent folder\n",
    "        poe_folder_title: A string representing the students fullname.\n",
    "    \"\"\"\n",
    "    \n",
    "    #declare global variables\n",
    "    global poe_folder\n",
    "    \n",
    "    poe_folder = create_folder(poe_parent_folder_id, poe_folder_title)\n",
    "    \n",
    "    \n",
    "def create_documents_folder(poe_documents_folder_id, evidence_documents_folder_id):\n",
    "    \"\"\"\n",
    "    Creates document folder and copies documents files to folder.\n",
    "    \n",
    "    Args:\n",
    "        poe_documents_folder_id: A string representing the id of the old poe documents folder.\n",
    "        evidence_documents_folder_id A string representing the id of the old evidence folder.\n",
    "    \"\"\"\n",
    "    \n",
    "    #declare global variables\n",
    "    global documents_folder, evidence_folders\n",
    "    \n",
    "    #create documents folder\n",
    "    documents_folder = create_folder(poe_folder, 'POE Documents')\n",
    "    \n",
    "    #move all poe documents into documents folder\n",
    "    move_file(poe_documents_folder_id, documents_folder)\n",
    "    \n",
    "    #move all loose documents from evidence folder to documents folder\n",
    "    exclusion_array = ['documents', 'exams', 'Post Assessment Documents', 'technical reports', 'video demonstrations', 'video presentations']\n",
    "    move_file(evidence_documents_folder_id, documents_folder, exclusion_array)\n",
    "    \n",
    "    #move all personal documents into documents folder\n",
    "    evidence_folders = list_files(evidence_documents_folder_id)\n",
    "    for folder in evidence_folders:\n",
    "        if folder['title'] == 'documents':\n",
    "            move_file(folder['id'], documents_folder)\n",
    "            \n",
    "            \n",
    "def create_presentation_folder():\n",
    "    \"\"\"\n",
    "    Creates presentation folder and subfolders and copies files into them.\n",
    "    \"\"\"\n",
    "    \n",
    "    #declare global variables\n",
    "    global presentation_folder, presentation_instruments_folder, presentation_evidence_folder\n",
    "    \n",
    "    #create presentation folder\n",
    "    presentation_folder = create_folder(poe_folder, 'Module 1 - Presentation')\n",
    "    \n",
    "    #add presentation instruments folder\n",
    "    presentation_instruments_folder = create_folder(presentation_folder, 'instruments')\n",
    "    \n",
    "    #add presentation evidence folder\n",
    "    presentation_evidence_folder = create_folder(presentation_folder, 'evidence')\n",
    "    \n",
    "    #move all presentation evidence into presentation evidence folder\n",
    "    for folder in evidence_folders:\n",
    "        if folder['title'] == 'video presentations':\n",
    "            move_file(folder['id'], presentation_evidence_folder)\n",
    "            \n",
    "    #move all presentation post assessments docs into presentation folder\n",
    "    exclusion_array = ['demonstration_feedback.pdf','demonstration_review.pdf','exam_feedback.pdf','exam_review.pdf','report_feedback.pdf','report_review.pdf']\n",
    "    for folder in evidence_folders:\n",
    "        if folder['title'] == 'Post Assessment Documents':\n",
    "            move_file(folder['id'], presentation_folder,exclusion_array)\n",
    "            \n",
    "            \n",
    "def create_demonstration_folder():\n",
    "    \"\"\"\n",
    "    Creates demonstration folder and subfolders and copies files into them.\n",
    "    \"\"\"\n",
    "    \n",
    "    #declare global variables\n",
    "    global demonstration_folder, demonstration_instruments_folder, demonstration_evidence_folder\n",
    "    \n",
    "    #create demonstration folder\n",
    "    demonstration_folder = create_folder(poe_folder, 'Module 2 - Demonstration')\n",
    "    \n",
    "    #add demonstration instruments folder\n",
    "    demonstration_instruments_folder = create_folder(demonstration_folder, 'instruments')\n",
    "    \n",
    "    #add demonstration evidence folder\n",
    "    demonstration_evidence_folder = create_folder(demonstration_folder, 'evidence')\n",
    "    \n",
    "    #move all demonstration evidence into demonstration evidence folder\n",
    "    for folder in evidence_folders:\n",
    "        if folder['title'] == 'video demonstrations':\n",
    "            move_file(folder['id'], demonstration_evidence_folder)\n",
    "            \n",
    "    #move all demonstration post assessments docs into demonstration folder\n",
    "    exclusion_array = ['presentation_feedback.pdf','presentation_review.pdf','exam_feedback.pdf','exam_review.pdf','report_feedback.pdf','report_review.pdf']\n",
    "    for folder in evidence_folders:\n",
    "        if folder['title'] == 'Post Assessment Documents':\n",
    "            move_file(folder['id'], demonstration_folder,exclusion_array)\n",
    "            \n",
    "            \n",
    "def create_reports_folder():\n",
    "    \"\"\"\n",
    "    Creates reports folder and subfolders and copies files into them.\n",
    "    \"\"\"\n",
    "    \n",
    "    #declare global variables\n",
    "    global reports_folder, reports_instruments_folder, reports_evidence_folder\n",
    "    \n",
    "    #create reports folder\n",
    "    reports_folder = create_folder(poe_folder, 'Module 3 - Reports')\n",
    "    \n",
    "    #add reports instruments folder\n",
    "    reports_instruments_folder = create_folder(reports_folder, 'instruments')\n",
    "    \n",
    "    #add reports evidence folder\n",
    "    reports_evidence_folder = create_folder(reports_folder, 'evidence')\n",
    "    \n",
    "    #move all report evidence into report evidence folder\n",
    "    for folder in evidence_folders:\n",
    "        if folder['title'] == 'technical reports':\n",
    "            move_file(folder['id'], reports_evidence_folder)\n",
    "    \n",
    "    #move all reports post assessments docs into reports folder\n",
    "    exclusion_array = ['presentation_feedback.pdf','presentation_review.pdf','demonstration_feedback.pdf','demonstration_review.pdf','exam_feedback.pdf','exam_review.pdf']\n",
    "    for folder in evidence_folders:\n",
    "        if folder['title'] == 'Post Assessment Documents':\n",
    "            move_file(folder['id'], reports_folder,exclusion_array)\n",
    "            \n",
    "            \n",
    "def create_exams_folder():\n",
    "    \"\"\"\n",
    "    Creates exam folder and subfolders and copies files into them.\n",
    "    \"\"\"\n",
    "    \n",
    "    #declare global variables\n",
    "    global exams_folder, exams_formatives_folder, exams_summatives_folder\n",
    "    \n",
    "    #create exams folder\n",
    "    exams_folder = create_folder(poe_folder, 'Module 4 - Exams')\n",
    "    \n",
    "    #add exams formative folder\n",
    "    exams_formatives_folder = create_folder(exams_folder, 'formatives')\n",
    "    \n",
    "    #add exams summative folder\n",
    "    exams_summatives_folder = create_folder(exams_folder, 'summatives')\n",
    "    \n",
    "    #move all exam evidence into exam evidence folder\n",
    "    for folder in evidence_folders:\n",
    "        if folder['title'] == 'exams':\n",
    "            exams_folders = list_files(folder['id'])\n",
    "            for exam_folder in exams_folders:\n",
    "                if exam_folder['title'] == 'formative':\n",
    "                    move_file(exam_folder['id'], exams_formatives_folder)\n",
    "                if exam_folder['title'] == 'summative':\n",
    "                    move_file(exam_folder['id'], exams_summatives_folder)\n",
    "                    \n",
    "    #move all exams post assessments docs into exams folder\n",
    "    exclusion_array = ['presentation_feedback.pdf','presentation_review.pdf','demonstration_feedback.pdf','demonstration_review.pdf','report_feedback.pdf','report_review.pdf']\n",
    "    for folder in evidence_folders:\n",
    "        if folder['title'] == 'Post Assessment Documents':\n",
    "            move_file(folder['id'], exams_folder,exclusion_array)\n",
    "    "
   ]
  },
  {
   "cell_type": "code",
   "execution_count": 22,
   "id": "3b02069f-4c78-4ff8-b82b-8a6da33505c9",
   "metadata": {},
   "outputs": [
    {
     "data": {
      "text/html": [
       "<div>\n",
       "<style scoped>\n",
       "    .dataframe tbody tr th:only-of-type {\n",
       "        vertical-align: middle;\n",
       "    }\n",
       "\n",
       "    .dataframe tbody tr th {\n",
       "        vertical-align: top;\n",
       "    }\n",
       "\n",
       "    .dataframe thead th {\n",
       "        text-align: right;\n",
       "    }\n",
       "</style>\n",
       "<table border=\"1\" class=\"dataframe\">\n",
       "  <thead>\n",
       "    <tr style=\"text-align: right;\">\n",
       "      <th></th>\n",
       "      <th>Name</th>\n",
       "      <th>parent_folder_id</th>\n",
       "      <th>Documents ID</th>\n",
       "      <th>Evidence ID</th>\n",
       "    </tr>\n",
       "  </thead>\n",
       "  <tbody>\n",
       "    <tr>\n",
       "      <th>0</th>\n",
       "      <td>Adam Saul David Becker</td>\n",
       "      <td>12vNvTMr7wOYYrr6pG_juR13mNX_K7Q8B</td>\n",
       "      <td>19oj4tcbwqgRsGEAia15LRAyVKROwUE_F</td>\n",
       "      <td>16dCBkcvMqP5xURfMNBSRZIb98jIyPNrP</td>\n",
       "    </tr>\n",
       "    <tr>\n",
       "      <th>1</th>\n",
       "      <td>Abdur-Raheem Lee</td>\n",
       "      <td>1IsEPiN8rBrYNLaPVyQ40lKByU1LZWhYS</td>\n",
       "      <td>1yiXTWtlTyfI1Gz8LuMGlZLjLdaldZ0VK</td>\n",
       "      <td>1Sq-3cc2snBThL_DbPInn5N0TjUoGVf-p</td>\n",
       "    </tr>\n",
       "    <tr>\n",
       "      <th>2</th>\n",
       "      <td>Abdullah Naseem Ebrahim</td>\n",
       "      <td>18PR9IRA2WqkvRt-H0kzS0aiBDL92mbcV</td>\n",
       "      <td>1d347eyZe6W1BZwdQ2IEuyH2uuOZ2FCvu</td>\n",
       "      <td>1Uy1KpkoNrYIRbgi5bCoQAJJrkv54zUwT</td>\n",
       "    </tr>\n",
       "    <tr>\n",
       "      <th>3</th>\n",
       "      <td>Antonio Joseph Gioio</td>\n",
       "      <td>18PR9IRA2WqkvRt-H0kzS0aiBDL92mbcV</td>\n",
       "      <td>1oqFH2VgYoS_LDXtAroSku0M00wowu3j-</td>\n",
       "      <td>1uwlsATBghcgB5ysm8hYhumFn9RtMbT39</td>\n",
       "    </tr>\n",
       "    <tr>\n",
       "      <th>4</th>\n",
       "      <td>Abigail Hlalele</td>\n",
       "      <td>12vNvTMr7wOYYrr6pG_juR13mNX_K7Q8B</td>\n",
       "      <td>16lrp_FuEjwxzQ9nJyBONlZBxo__J9s6x</td>\n",
       "      <td>1s4a2_SCzt0Cx8iiOZfldLaJ5T-7ciaZY</td>\n",
       "    </tr>\n",
       "  </tbody>\n",
       "</table>\n",
       "</div>"
      ],
      "text/plain": [
       "                      Name                   parent_folder_id  \\\n",
       "0   Adam Saul David Becker  12vNvTMr7wOYYrr6pG_juR13mNX_K7Q8B   \n",
       "1         Abdur-Raheem Lee  1IsEPiN8rBrYNLaPVyQ40lKByU1LZWhYS   \n",
       "2  Abdullah Naseem Ebrahim  18PR9IRA2WqkvRt-H0kzS0aiBDL92mbcV   \n",
       "3     Antonio Joseph Gioio  18PR9IRA2WqkvRt-H0kzS0aiBDL92mbcV   \n",
       "4          Abigail Hlalele  12vNvTMr7wOYYrr6pG_juR13mNX_K7Q8B   \n",
       "\n",
       "                        Documents ID                        Evidence ID  \n",
       "0  19oj4tcbwqgRsGEAia15LRAyVKROwUE_F  16dCBkcvMqP5xURfMNBSRZIb98jIyPNrP  \n",
       "1  1yiXTWtlTyfI1Gz8LuMGlZLjLdaldZ0VK  1Sq-3cc2snBThL_DbPInn5N0TjUoGVf-p  \n",
       "2  1d347eyZe6W1BZwdQ2IEuyH2uuOZ2FCvu  1Uy1KpkoNrYIRbgi5bCoQAJJrkv54zUwT  \n",
       "3  1oqFH2VgYoS_LDXtAroSku0M00wowu3j-  1uwlsATBghcgB5ysm8hYhumFn9RtMbT39  \n",
       "4  16lrp_FuEjwxzQ9nJyBONlZBxo__J9s6x  1s4a2_SCzt0Cx8iiOZfldLaJ5T-7ciaZY  "
      ]
     },
     "execution_count": 22,
     "metadata": {},
     "output_type": "execute_result"
    }
   ],
   "source": [
    "cohort_df.head()"
   ]
  },
  {
   "cell_type": "markdown",
   "id": "7417ac1d-3414-4c10-a68a-4e4f01041f60",
   "metadata": {},
   "source": [
    "**Main Function**"
   ]
  },
  {
   "cell_type": "code",
   "execution_count": 58,
   "id": "e7155f08-e85f-4a07-b259-d193e279c277",
   "metadata": {},
   "outputs": [
    {
     "name": "stdout",
     "output_type": "stream",
     "text": [
      "Damian Viljoen: Compilation Starting\n",
      "Damian Viljoen: Successfuly compiled\n",
      "Sebaratlane Musa Mashaba: Compilation Starting\n",
      "Sebaratlane Musa Mashaba: Successfuly compiled\n"
     ]
    }
   ],
   "source": [
    "\n",
    "\n",
    "for index, row in cohort_df[cohort_df['Compiled'] != 'Yes'].iterrows():\n",
    "    \n",
    "    #set student values\n",
    "    poe_parent_folder_id = row['parent_folder_id']\n",
    "    poe_folder_title = row['Name']\n",
    "    poe_documents_folder_id = row['Documents ID']\n",
    "    evidence_documents_folder_id = row['Evidence ID']\n",
    "    \n",
    "    #log beginning\n",
    "    print(f'{poe_folder_title}: Compilation Starting')\n",
    "    \n",
    "    #declare global variables\n",
    "    poe_folder = ''\n",
    "    documents_folder = ''\n",
    "    evidence_folders = []\n",
    "    presentation_folder = ''\n",
    "    presentation_instruments_folder = ''\n",
    "    presentation_evidence_folder = ''\n",
    "    demonstration_folder = ''\n",
    "    demonstration_instruments_folder = ''\n",
    "    demonstration_evidence_folder = ''\n",
    "    reports_folder = ''\n",
    "    reports_instruments_folder = ''\n",
    "    reports_evidence_folder = ''\n",
    "    exams_folder = ''\n",
    "    exams_formatives_folder = ''\n",
    "    exams_summatives_folder = ''\n",
    "    \n",
    "    #execute main functions\n",
    "    create_poe_folder(poe_parent_folder_id, poe_folder_title)\n",
    "    create_documents_folder(poe_documents_folder_id, evidence_documents_folder_id)\n",
    "    create_presentation_folder()\n",
    "    create_demonstration_folder()\n",
    "    create_reports_folder()\n",
    "    create_exams_folder()\n",
    "    \n",
    "    #create new array\n",
    "    array_df.append([poe_folder_title, poe_folder, documents_folder,\n",
    "                presentation_folder, presentation_instruments_folder, presentation_evidence_folder,\n",
    "                demonstration_folder, demonstration_instruments_folder, demonstration_evidence_folder,\n",
    "                reports_folder, reports_instruments_folder, reports_evidence_folder,\n",
    "                exams_folder, exams_formatives_folder, exams_summatives_folder])\n",
    "    \n",
    "    #log success\n",
    "    cohort_df.loc[cohort_df['Name'] == row['Name'], 'Compiled'] = 'Yes'\n",
    "    print(f'{poe_folder_title}: Successfuly compiled')"
   ]
  },
  {
   "cell_type": "markdown",
   "id": "63c87633-418a-4a2e-961b-ca758390f84c",
   "metadata": {},
   "source": [
    "**Closing Function**"
   ]
  },
  {
   "cell_type": "code",
   "execution_count": 59,
   "id": "f2cb5869-81f5-43fb-a3dd-d0107590263b",
   "metadata": {},
   "outputs": [],
   "source": [
    "poe_df = pd.DataFrame(array_df, columns=['poe_folder_title', 'poe_folder', 'documents_folder',\n",
    "                'presentation_folder', 'presentation_instruments_folder', 'presentation_evidence_folder',\n",
    "                'demonstration_folder', 'demonstration_instruments_folder', 'demonstration_evidence_folder',\n",
    "                'reports_folder', 'reports_instruments_folder', 'reports_evidence_folder',\n",
    "                'exams_folder', 'exams_formatives_folder', 'exams_summatives_folder'])"
   ]
  },
  {
   "cell_type": "markdown",
   "id": "6a9a0a97-1134-40c1-80d8-d9d01f11a191",
   "metadata": {},
   "source": [
    "**Export to Spreadsheet**"
   ]
  },
  {
   "cell_type": "code",
   "execution_count": 60,
   "id": "c8e24562-4130-40db-8f30-cda291842d02",
   "metadata": {},
   "outputs": [],
   "source": [
    "export_worksheet('POE Folders Compilation','Cohort',cohort_df)"
   ]
  },
  {
   "cell_type": "code",
   "execution_count": 61,
   "id": "447bc148-6782-4ebd-99f0-938035a8dc37",
   "metadata": {},
   "outputs": [],
   "source": [
    "export_worksheet('POE Folders Compilation','Folders', poe_df)"
   ]
  },
  {
   "cell_type": "code",
   "execution_count": 56,
   "id": "a9c7917a-d844-468a-9552-f1ff84a41ff0",
   "metadata": {},
   "outputs": [],
   "source": []
  },
  {
   "cell_type": "code",
   "execution_count": null,
   "id": "4fb0902e-a6df-4d9f-8887-c38cdf718fc9",
   "metadata": {},
   "outputs": [],
   "source": []
  }
 ],
 "metadata": {
  "kernelspec": {
   "display_name": "Python 3 (ipykernel)",
   "language": "python",
   "name": "python3"
  },
  "language_info": {
   "codemirror_mode": {
    "name": "ipython",
    "version": 3
   },
   "file_extension": ".py",
   "mimetype": "text/x-python",
   "name": "python",
   "nbconvert_exporter": "python",
   "pygments_lexer": "ipython3",
   "version": "3.8.2"
  }
 },
 "nbformat": 4,
 "nbformat_minor": 5
}
