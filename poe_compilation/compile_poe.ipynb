{
 "cells": [
  {
   "cell_type": "markdown",
   "id": "3a1f0b82-2bbf-4fff-b6f2-578adc3bc669",
   "metadata": {},
   "source": [
    "**This notebook contains a script that combines all the SETA POE documents into one submission Folder**"
   ]
  },
  {
   "cell_type": "markdown",
   "id": "14c24c01-bec9-4f58-ab7a-6b8c357c6b6b",
   "metadata": {},
   "source": [
    "**Add Local Library to Path**"
   ]
  },
  {
   "cell_type": "code",
   "execution_count": 51,
   "id": "e08090ea-5834-46ee-8b8f-3e028a64d98d",
   "metadata": {},
   "outputs": [],
   "source": [
    "import os\n",
    "import sys\n",
    "\n",
    "module_path = os.path.abspath(os.path.join('..'))\n",
    "if module_path not in sys.path:\n",
    "    sys.path.append(module_path)\n",
    "    sys.path.append(module_path + '/local_library')"
   ]
  },
  {
   "cell_type": "markdown",
   "id": "44a6858e-23ee-4c2f-9683-522059c6c0bc",
   "metadata": {},
   "source": [
    "**Import Libraries**"
   ]
  },
  {
   "cell_type": "code",
   "execution_count": 52,
   "id": "5e6dfc7a-cc41-429d-b5cb-d5da7c18ed2a",
   "metadata": {},
   "outputs": [],
   "source": [
    "import pandas as pd\n",
    "from local_library import list_files\n",
    "from local_library import create_folder\n",
    "from local_library import import_worksheet\n",
    "from local_library import export_worksheet"
   ]
  },
  {
   "cell_type": "markdown",
   "id": "b256cebd-59a5-401b-b1f1-c32bf9db678c",
   "metadata": {},
   "source": [
    "**Temp Library**"
   ]
  },
  {
   "cell_type": "code",
   "execution_count": 53,
   "id": "4e054db3-231e-4a9f-bf94-86d7855f0b0b",
   "metadata": {},
   "outputs": [
    {
     "name": "stdout",
     "output_type": "stream",
     "text": [
      "Your browser has been opened to visit:\n",
      "\n",
      "    https://accounts.google.com/o/oauth2/auth?client_id=1017190226189-f1d5s7cpjrj54u2rqk1ufh9pevguqoap.apps.googleusercontent.com&redirect_uri=http%3A%2F%2Flocalhost%3A8080%2F&scope=https%3A%2F%2Fwww.googleapis.com%2Fauth%2Fdrive&access_type=offline&response_type=code\n",
      "\n",
      "Authentication successful.\n"
     ]
    }
   ],
   "source": [
    "from pydrive.auth import GoogleAuth\n",
    "from pydrive.drive import GoogleDrive\n",
    "\n",
    "#authenticate Google\n",
    "gauth = GoogleAuth()\n",
    "gauth.LocalWebserverAuth()\n",
    "drive = GoogleDrive(gauth)\n",
    "\n",
    "\n",
    "def move_file(old_folder_id, new_folder_id, exclusion_array=[]):\n",
    "    \"\"\"\n",
    "    Moves a google drive files from one folder to another.\n",
    "    \n",
    "    Args:\n",
    "        old_folder_id: A string representing the old folder google drive id.\n",
    "        new_folder_id: A string representing the new folder google drive id.\n",
    "        exclusion_array: An array of strings containing the titles to be excluded from the copy.\n",
    "        \n",
    "    Returns:\n",
    "        _: A boolean representing success or failure\n",
    "    \"\"\"\n",
    "    \n",
    "    files = list_files(old_folder_id)\n",
    "    for file in files:\n",
    "        if file['title'] not in exclusion_array:\n",
    "            copy_file(file['id'], file['title'], new_folder_id)\n",
    "    return True\n",
    "    \n",
    "def copy_file(file_id, file_title, new_folder_id):\n",
    "    \"\"\"\n",
    "    Creates copy of file in destination folder\n",
    "    \n",
    "    Args:\n",
    "        file_id: I.D of the file to be copied\n",
    "        file_title: Name of the file to be copied\n",
    "        new_folder_id: Folder where copy will be stored.\n",
    "    Return:\n",
    "        none\n",
    "    \"\"\"\n",
    "    \n",
    "    copied_file = {\"title\": file_title,\n",
    "                    'parents': [{\n",
    "            'kind': 'drive#fileLink',\n",
    "            'id': new_folder_id\n",
    "        }]}\n",
    "\n",
    "    drive.auth.service.files().copy(fileId=file_id,\n",
    "                                    body=copied_file,\n",
    "                                    supportsAllDrives=True\n",
    "    ).execute()"
   ]
  },
  {
   "cell_type": "markdown",
   "id": "ba750e54-ce3c-4e4f-8835-09a71ba4e5d7",
   "metadata": {},
   "source": [
    "**Map Documents folders**"
   ]
  },
  {
   "cell_type": "code",
   "execution_count": 54,
   "id": "0ce3f626-34ff-47d5-80ac-db3971480c45",
   "metadata": {},
   "outputs": [],
   "source": [
    "files = list_files(\"1W04tIGaWpqSgKsaP6xSjrUtP1OsVcaPX\")"
   ]
  },
  {
   "cell_type": "code",
   "execution_count": 55,
   "id": "f0a49f96-f3e8-4d67-ac89-8a6f6f5c8380",
   "metadata": {},
   "outputs": [],
   "source": [
    "student_documents_folders = []\n",
    "for file in files:\n",
    "    student_documents_folders.append([file['title'], file['id']])\n"
   ]
  },
  {
   "cell_type": "code",
   "execution_count": 56,
   "id": "49c2141d-7661-4444-a8ba-3cccae0db900",
   "metadata": {},
   "outputs": [],
   "source": [
    "documents_df = pd.DataFrame(student_documents_folders, columns=[\"Name\", \"Documents ID\"])"
   ]
  },
  {
   "cell_type": "markdown",
   "id": "c966df82-4a60-4727-acaf-bbfd3c6fda7a",
   "metadata": {},
   "source": [
    "**Map Evidence Folders**"
   ]
  },
  {
   "cell_type": "code",
   "execution_count": 57,
   "id": "88491bb1-c776-4cdd-80b1-b0b4c96679e1",
   "metadata": {},
   "outputs": [],
   "source": [
    "files_2 = list_files(\"1-2tkFz7qrd2MD-vvudm0AlyK46YFt5so\")"
   ]
  },
  {
   "cell_type": "code",
   "execution_count": 58,
   "id": "4e8f3530-5999-4b13-8ab4-858495e1ced6",
   "metadata": {},
   "outputs": [],
   "source": [
    "student_evidence_folders = []\n",
    "for file in files_2:\n",
    "    student_evidence_folders.append([file['title'], file['id']])"
   ]
  },
  {
   "cell_type": "code",
   "execution_count": 59,
   "id": "c2c9aa7b-4324-4532-afa2-0bf75e6cca04",
   "metadata": {},
   "outputs": [],
   "source": [
    "evidence_df = pd.DataFrame(student_evidence_folders, columns=[\"Name\", \"Evidence ID\"])"
   ]
  },
  {
   "cell_type": "markdown",
   "id": "89cf6294-a937-42b3-903d-ae6577a95d04",
   "metadata": {},
   "source": [
    "**Merge Documents and Evidence Folders**"
   ]
  },
  {
   "cell_type": "code",
   "execution_count": 60,
   "id": "17aa1342-8a56-4953-af69-6fed02ba828a",
   "metadata": {},
   "outputs": [],
   "source": [
    "folders_df = pd.merge(documents_df, evidence_df, how=\"inner\")"
   ]
  },
  {
   "cell_type": "code",
   "execution_count": 61,
   "id": "6e6eefdf-ecdc-406f-b077-e85fef6d4dc3",
   "metadata": {},
   "outputs": [
    {
     "data": {
      "text/html": [
       "<div>\n",
       "<style scoped>\n",
       "    .dataframe tbody tr th:only-of-type {\n",
       "        vertical-align: middle;\n",
       "    }\n",
       "\n",
       "    .dataframe tbody tr th {\n",
       "        vertical-align: top;\n",
       "    }\n",
       "\n",
       "    .dataframe thead th {\n",
       "        text-align: right;\n",
       "    }\n",
       "</style>\n",
       "<table border=\"1\" class=\"dataframe\">\n",
       "  <thead>\n",
       "    <tr style=\"text-align: right;\">\n",
       "      <th></th>\n",
       "      <th>Name</th>\n",
       "      <th>Documents ID</th>\n",
       "      <th>Evidence ID</th>\n",
       "    </tr>\n",
       "  </thead>\n",
       "  <tbody>\n",
       "    <tr>\n",
       "      <th>51</th>\n",
       "      <td>Adam Saul David Becker</td>\n",
       "      <td>19oj4tcbwqgRsGEAia15LRAyVKROwUE_F</td>\n",
       "      <td>16dCBkcvMqP5xURfMNBSRZIb98jIyPNrP</td>\n",
       "    </tr>\n",
       "  </tbody>\n",
       "</table>\n",
       "</div>"
      ],
      "text/plain": [
       "                      Name                       Documents ID  \\\n",
       "51  Adam Saul David Becker  19oj4tcbwqgRsGEAia15LRAyVKROwUE_F   \n",
       "\n",
       "                          Evidence ID  \n",
       "51  16dCBkcvMqP5xURfMNBSRZIb98jIyPNrP  "
      ]
     },
     "execution_count": 61,
     "metadata": {},
     "output_type": "execute_result"
    }
   ],
   "source": [
    "folders_df = folders_df[folders_df['Name'] == 'Adam Saul David Becker']\n",
    "folders_df.head()"
   ]
  },
  {
   "cell_type": "markdown",
   "id": "1b64ba6f-f49b-42b0-b2e6-84443762ec37",
   "metadata": {},
   "source": [
    "**Create Local Library**"
   ]
  },
  {
   "cell_type": "code",
   "execution_count": 67,
   "id": "1df87b78-1e17-41b1-b2a1-9b7c5c797f06",
   "metadata": {},
   "outputs": [],
   "source": [
    "def create_poe_folder(poe_parent_folder_id, poe_folder_title):\n",
    "    \"\"\"\n",
    "    Creates the student POE folder.\n",
    "    \n",
    "    Args:\n",
    "        poe_parent_folder_id: A string representing the id of the poe parent folder\n",
    "        poe_folder_title: A string representing the students fullname.\n",
    "    \"\"\"\n",
    "    \n",
    "    #declare global variables\n",
    "    global poe_folder\n",
    "    \n",
    "    poe_folder = create_folder(poe_parent_folder_id, poe_folder_title)\n",
    "    \n",
    "    \n",
    "def create_documents_folder(poe_documents_folder_id, evidence_documents_folder_id):\n",
    "    \"\"\"\n",
    "    Creates document folder and copies documents files to folder.\n",
    "    \n",
    "    Args:\n",
    "        poe_documents_folder_id: A string representing the id of the old poe documents folder.\n",
    "        evidence_documents_folder_id A string representing the id of the old evidence folder.\n",
    "    \"\"\"\n",
    "    \n",
    "    #declare global variables\n",
    "    global documents_folder, evidence_folders\n",
    "    \n",
    "    #create documents folder\n",
    "    documents_folder = create_folder(poe_folder, 'POE Documents')\n",
    "    \n",
    "    #move all poe documents into documents folder\n",
    "    move_file(poe_documents_folder_id, documents_folder)\n",
    "    \n",
    "    #move all loose documents from evidence folder to documents folder\n",
    "    exclusion_array = ['documents', 'exams', 'Post Assessment Documents', 'technical reports', 'video demonstrations', 'video presentations']\n",
    "    move_file(evidence_documents_folder_id, documents_folder, exclusion_array)\n",
    "    \n",
    "    #move all personal documents into documents folder\n",
    "    evidence_folders = list_files(evidence_documents_folder_id)\n",
    "    for folder in evidence_folders:\n",
    "        if folder['title'] == 'documents':\n",
    "            move_file(folder['id'], documents_folder)\n",
    "            \n",
    "            \n",
    "def create_presentation_folder():\n",
    "    \"\"\"\n",
    "    Creates presentation folder and subfolders and copies files into them.\n",
    "    \"\"\"\n",
    "    \n",
    "    #declare global variables\n",
    "    global presentation_folder, presentation_instruments_folder, presentation_evidence_folder\n",
    "    \n",
    "    #create presentation folder\n",
    "    presentation_folder = create_folder(poe_folder, 'Module 1 - Presentation')\n",
    "    \n",
    "    #add presentation instruments folder\n",
    "    presentation_instruments_folder = create_folder(presentation_folder, 'instruments')\n",
    "    \n",
    "    #add presentation evidence folder\n",
    "    presentation_evidence_folder = create_folder(presentation_folder, 'evidence')\n",
    "    \n",
    "    #move all presentation evidence into presentation evidence folder\n",
    "    for folder in evidence_folders:\n",
    "        if folder['title'] == 'video presentations':\n",
    "            move_file(folder['id'], presentation_evidence_folder)\n",
    "            \n",
    "    #move all presentation post assessments docs into presentation folder\n",
    "    exclusion_array = ['demonstration_feedback.pdf','demonstration_review.pdf','exam_feedback.pdf','exam_review.pdf','report_feedback.pdf','report_review.pdf']\n",
    "    for folder in evidence_folders:\n",
    "        if folder['title'] == 'Post Assessment Documents':\n",
    "            move_file(folder['id'], presentation_folder,exclusion_array)\n",
    "            \n",
    "            \n",
    "def create_demonstration_folder():\n",
    "    \"\"\"\n",
    "    Creates demonstration folder and subfolders and copies files into them.\n",
    "    \"\"\"\n",
    "    \n",
    "    #declare global variables\n",
    "    global demonstration_folder, demonstration_instruments_folder, demonstration_evidence_folder\n",
    "    \n",
    "    #create demonstration folder\n",
    "    demonstration_folder = create_folder(poe_folder, 'Module 2 - Demonstration')\n",
    "    \n",
    "    #add demonstration instruments folder\n",
    "    demonstration_instruments_folder = create_folder(demonstration_folder, 'instruments')\n",
    "    \n",
    "    #add demonstration evidence folder\n",
    "    demonstration_evidence_folder = create_folder(demonstration_folder, 'evidence')\n",
    "    \n",
    "    #move all demonstration evidence into demonstration evidence folder\n",
    "    for folder in evidence_folders:\n",
    "        if folder['title'] == 'video demonstrations':\n",
    "            move_file(folder['id'], demonstration_evidence_folder)\n",
    "            \n",
    "    #move all demonstration post assessments docs into demonstration folder\n",
    "    exclusion_array = ['presentation_feedback.pdf','presentation_review.pdf','exam_feedback.pdf','exam_review.pdf','report_feedback.pdf','report_review.pdf']\n",
    "    for folder in evidence_folders:\n",
    "        if folder['title'] == 'Post Assessment Documents':\n",
    "            move_file(folder['id'], demonstration_folder,exclusion_array)\n",
    "            \n",
    "            \n",
    "def create_reports_folder():\n",
    "    \"\"\"\n",
    "    Creates reports folder and subfolders and copies files into them.\n",
    "    \"\"\"\n",
    "    \n",
    "    #declare global variables\n",
    "    global reports_folder, reports_instruments_folder, reports_evidence_folder\n",
    "    \n",
    "    #create reports folder\n",
    "    reports_folder = create_folder(poe_folder, 'Module 3 - Reports')\n",
    "    \n",
    "    #add reports instruments folder\n",
    "    reports_instruments_folder = create_folder(reports_folder, 'instruments')\n",
    "    \n",
    "    #add reports evidence folder\n",
    "    reports_evidence_folder = create_folder(reports_folder, 'evidence')\n",
    "    \n",
    "    #move all report evidence into report evidence folder\n",
    "    for folder in evidence_folders:\n",
    "        if folder['title'] == 'technical reports':\n",
    "            move_file(folder['id'], reports_evidence_folder)\n",
    "    \n",
    "    #move all reports post assessments docs into reports folder\n",
    "    exclusion_array = ['presentation_feedback.pdf','presentation_review.pdf','demonstration_feedback.pdf','demonstration_review.pdf','exam_feedback.pdf','exam_review.pdf']\n",
    "    for folder in evidence_folders:\n",
    "        if folder['title'] == 'Post Assessment Documents':\n",
    "            move_file(folder['id'], reports_folder,exclusion_array)\n",
    "            \n",
    "            \n",
    "def create_exams_folder():\n",
    "    \"\"\"\n",
    "    Creates exam folder and subfolders and copies files into them.\n",
    "    \"\"\"\n",
    "    \n",
    "    #declare global variables\n",
    "    global exams_folder, exams_formatives_folder, exams_summatives_folder\n",
    "    \n",
    "    #create exams folder\n",
    "    exams_folder = create_folder(poe_folder, 'Module 4 - Exams')\n",
    "    \n",
    "    #add exams formative folder\n",
    "    exams_formatives_folder = create_folder(exams_folder, 'formatives')\n",
    "    \n",
    "    #add exams summative folder\n",
    "    exams_summatives_folder = create_folder(exams_folder, 'summatives')\n",
    "    \n",
    "    #move all exam evidence into exam evidence folder\n",
    "    for folder in evidence_folders:\n",
    "        if folder['title'] == 'exams':\n",
    "            exams_folders = list_files(folder['id'])\n",
    "            for exam_folder in exams_folders:\n",
    "                if exam_folder['title'] == 'formative':\n",
    "                    move_file(exam_folder['id'], exams_formatives_folder)\n",
    "                if exam_folder['title'] == 'summative':\n",
    "                    move_file(exam_folder['id'], exams_summatives_folder)\n",
    "                    \n",
    "    #move all exams post assessments docs into exams folder\n",
    "    exclusion_array = ['presentation_feedback.pdf','presentation_review.pdf','demonstration_feedback.pdf','demonstration_review.pdf','report_feedback.pdf','report_review.pdf']\n",
    "    for folder in evidence_folders:\n",
    "        if folder['title'] == 'Post Assessment Documents':\n",
    "            move_file(folder['id'], exams_folder,exclusion_array)\n",
    "    "
   ]
  },
  {
   "cell_type": "markdown",
   "id": "7417ac1d-3414-4c10-a68a-4e4f01041f60",
   "metadata": {},
   "source": [
    "**Main Function**"
   ]
  },
  {
   "cell_type": "code",
   "execution_count": null,
   "id": "e7155f08-e85f-4a07-b259-d193e279c277",
   "metadata": {},
   "outputs": [],
   "source": [
    "array_df = [['poe_folder_title', 'poe_folder', 'documents_folder',\n",
    "                'presentation_folder', 'presentation_instruments_folder', 'presentation_evidence_folder',\n",
    "                'demonstration_folder', 'demonstration_instruments_folder', 'demonstration_evidence_folder',\n",
    "                'reports_folder', 'reports_instruments_folder', 'reports_evidence_folder',\n",
    "                'exams_folder', 'exams_formatives_folder', 'exams_summatives_folder']]\n",
    "\n",
    "for index, row in folders_df.itterows():\n",
    "    \n",
    "    #declare global variables\n",
    "    poe_parent_folder_id = row['parent_folder_id']\n",
    "    poe_folder_title = row['full_name']\n",
    "    poe_documents_folder_id = row['documents_id']\n",
    "    evidence_documents_folder_id = row['evidence_id']\n",
    "    \n",
    "    #declare global variables\n",
    "    poe_folder = ''\n",
    "    documents_folder = ''\n",
    "    evidence_folders = []\n",
    "    presentation_folder = ''\n",
    "    presentation_instruments_folder = ''\n",
    "    presentation_evidence_folder = ''\n",
    "    demonstration_folder = ''\n",
    "    demonstration_instruments_folder = ''\n",
    "    demonstration_evidence_folder = ''\n",
    "    reports_folder = ''\n",
    "    reports_instruments_folder = ''\n",
    "    reports_evidence_folder = ''\n",
    "    exams_folder = ''\n",
    "    exams_formatives_folder = ''\n",
    "    exams_summatives_folder = ''\n",
    "    \n",
    "    #execute main functions\n",
    "    create_poe_folder(poe_parent_folder_id, poe_folder_title)\n",
    "    create_documents_folder(poe_documents_folder_id, evidence_documents_folder_id)\n",
    "    create_presentation_folder()\n",
    "    create_demonstration_folder()\n",
    "    create_reports_folder()\n",
    "    create_exams_folder()\n",
    "    \n",
    "    #create new array\n",
    "    array_df.append([poe_folder_title, poe_folder, documents_folder,\n",
    "                presentation_folder, presentation_instruments_folder, presentation_evidence_folder,\n",
    "                demonstration_folder, demonstration_instruments_folder, demonstration_evidence_folder,\n",
    "                reports_folder, reports_instruments_folder, reports_evidence_folder,\n",
    "                exams_folder, exams_formatives_folder, exams_summatives_folder])"
   ]
  },
  {
   "cell_type": "markdown",
   "id": "6c85c549-b2ff-48b7-acbe-0cb2866f6457",
   "metadata": {},
   "source": [
    "**Declare global variables**"
   ]
  },
  {
   "cell_type": "code",
   "execution_count": 62,
   "id": "43496216-a29d-453a-9f86-36bf6c8eff30",
   "metadata": {},
   "outputs": [],
   "source": [
    "poe_parent_folder_id = '12vNvTMr7wOYYrr6pG_juR13mNX_K7Q8B'\n",
    "poe_folder_title = 'Adam Saul David Becker'\n",
    "poe_documents_folder_id = '19oj4tcbwqgRsGEAia15LRAyVKROwUE_F'\n",
    "evidence_documents_folder_id = '16dCBkcvMqP5xURfMNBSRZIb98jIyPNrP'\n",
    "poe_folder = ''\n",
    "documents_folder = ''\n",
    "evidence_folders = []\n",
    "presentation_folder = ''\n",
    "presentation_instruments_folder = ''\n",
    "presentation_evidence_folder = ''\n",
    "demonstration_folder = ''\n",
    "demonstration_instruments_folder = ''\n",
    "demonstration_evidence_folder = ''\n",
    "reports_folder = ''\n",
    "reports_instruments_folder = ''\n",
    "reports_evidence_folder = ''\n",
    "exams_folder = ''\n",
    "exams_formatives_folder = ''\n",
    "exams_summatives_folder = ''"
   ]
  },
  {
   "cell_type": "markdown",
   "id": "3b39a98b-75c0-4d34-8e77-d55ec63d0714",
   "metadata": {},
   "source": [
    "**Run Main Function**"
   ]
  },
  {
   "cell_type": "code",
   "execution_count": 64,
   "id": "a35df31c-d11e-4be0-af4d-5b5974dca69d",
   "metadata": {},
   "outputs": [],
   "source": [
    "create_poe_folder(poe_parent_folder_id, poe_folder_title)\n",
    "create_documents_folder(poe_documents_folder_id, evidence_documents_folder_id)\n",
    "create_presentation_folder()\n",
    "create_demonstration_folder()\n",
    "create_reports_folder()\n",
    "create_exams_folder()"
   ]
  },
  {
   "cell_type": "markdown",
   "id": "6adba0ce-1601-4db9-a10b-9921a1babde5",
   "metadata": {},
   "source": [
    "**Print Variables Arrays**"
   ]
  },
  {
   "cell_type": "code",
   "execution_count": 65,
   "id": "d8a2b4bd-882b-4ac2-8e17-6d3798a86fde",
   "metadata": {},
   "outputs": [],
   "source": [
    "output_array = [poe_folder_title, poe_folder, documents_folder,\n",
    "                presentation_folder, presentation_instruments_folder, presentation_evidence_folder,\n",
    "                demonstration_folder, demonstration_instruments_folder, demonstration_evidence_folder,\n",
    "                reports_folder, reports_instruments_folder, reports_evidence_folder,\n",
    "                exams_folder, exams_formatives_folder, exams_summatives_folder]"
   ]
  },
  {
   "cell_type": "code",
   "execution_count": 66,
   "id": "7fbb2ad0-2101-4d0e-b974-4636e84baba5",
   "metadata": {},
   "outputs": [
    {
     "name": "stdout",
     "output_type": "stream",
     "text": [
      "['Adam Saul David Becker', '1g0Z5b-HQiND-6an3JoAatm3RG1q--Gym', '1Cz6q3JWfNVLRWNbhbJMhC6ub1jRyd9Ex', '1A900Wdf8C0KbC3ycBwJnhFdcg2qkb9q8', '1-OOxk7hW150RIPBXMbUQlE5iSPax1rbK', '1g0cQtA64vcxtoBFhq9mQkZ5eWton2VLR', '1Vejk80AL1KacVMnvJUHGHXtZc8pXttBN', '18AICAv7zrMdr6FA_Mv8pbkoXGFGwCgwy', '1OsN4JHRYYOB2I8WDccQNz6VTnilYtdks', '1H1AjohP2MwqSgyDS0sScSL-ZrwBEAve_', '1CQwx1nj5omBix9PiHve9NpiKQOcN4TyY', '127lAQG-ArZRf-u6cfJm69y_22xXFscJ2', '1nq77MYsRRbDH5n91IPMUBQ2MuVAsf9p7', '1ngIGCdf5BA_ECT1zeqKGVXJZqArDt5JZ', '1RR8JC9QSduK8iG8h2wGgOW1HwLTV3O3T']\n"
     ]
    }
   ],
   "source": [
    "print(output_array)"
   ]
  },
  {
   "cell_type": "markdown",
   "id": "82f068f1-d5b6-4cea-b84b-ab07146d69c6",
   "metadata": {},
   "source": [
    "**Create Parent Folder**"
   ]
  },
  {
   "cell_type": "code",
   "execution_count": 13,
   "id": "247ad738-06c7-49e7-9b53-b41e740bfdb4",
   "metadata": {},
   "outputs": [],
   "source": [
    "poe_folder = create_folder('12vNvTMr7wOYYrr6pG_juR13mNX_K7Q8B', 'Adam Saul David Becker')"
   ]
  },
  {
   "cell_type": "markdown",
   "id": "ce7a3b69-792e-4e82-8fad-5d7f8a72ef54",
   "metadata": {},
   "source": [
    "**Documents folder**"
   ]
  },
  {
   "cell_type": "code",
   "execution_count": 14,
   "id": "4ea21e9c-924d-46ab-9fdc-abe0d0eacfaf",
   "metadata": {},
   "outputs": [],
   "source": [
    "#create documents folder\n",
    "documents_folder= create_folder(poe_folder, 'POE Documents')"
   ]
  },
  {
   "cell_type": "code",
   "execution_count": 36,
   "id": "12d179a5-f514-47ab-bd89-081dbd79f42a",
   "metadata": {},
   "outputs": [
    {
     "data": {
      "text/plain": [
       "True"
      ]
     },
     "execution_count": 36,
     "metadata": {},
     "output_type": "execute_result"
    }
   ],
   "source": [
    "#move all poe documents into documents folder\n",
    "move_file('19oj4tcbwqgRsGEAia15LRAyVKROwUE_F', documents_folder)"
   ]
  },
  {
   "cell_type": "code",
   "execution_count": 17,
   "id": "fa05908b-d395-43a0-8109-baac318892ab",
   "metadata": {},
   "outputs": [
    {
     "data": {
      "text/plain": [
       "True"
      ]
     },
     "execution_count": 17,
     "metadata": {},
     "output_type": "execute_result"
    }
   ],
   "source": [
    "#move all loose documents from evidence folder to documents folder\n",
    "exclusion_array = ['documents', 'exams', 'Post Assessment Documents', 'technical reports', 'video demonstrations', 'video presentations']\n",
    "move_file('16dCBkcvMqP5xURfMNBSRZIb98jIyPNrP', documents_folder, exclusion_array)\n"
   ]
  },
  {
   "cell_type": "code",
   "execution_count": 18,
   "id": "9bf4f1be-6536-4311-ba63-319559dd8bc0",
   "metadata": {},
   "outputs": [],
   "source": [
    "#move all personal documents into documents folder\n",
    "evidence_folders = list_files('16dCBkcvMqP5xURfMNBSRZIb98jIyPNrP')\n",
    "for folder in evidence_folders:\n",
    "    if folder['title'] == 'documents':\n",
    "        move_file(folder['id'], documents_folder)"
   ]
  },
  {
   "cell_type": "markdown",
   "id": "31e1948f-4e19-43e7-b503-368bb36d65e2",
   "metadata": {},
   "source": [
    "**Presentation Folder**"
   ]
  },
  {
   "cell_type": "code",
   "execution_count": 19,
   "id": "3c6fd0ca-633d-4b52-8f7c-37f63aecbff0",
   "metadata": {},
   "outputs": [],
   "source": [
    "#create presentation folder\n",
    "presentation_folder = create_folder(poe_folder, 'Module 1 - Presentation')"
   ]
  },
  {
   "cell_type": "code",
   "execution_count": 20,
   "id": "0367862b-be9b-46f3-af27-4672eeaf00f5",
   "metadata": {},
   "outputs": [],
   "source": [
    "#add presentation instruments folder\n",
    "presentation_instruments_folder = create_folder(presentation_folder, 'instruments')"
   ]
  },
  {
   "cell_type": "code",
   "execution_count": 21,
   "id": "3734aeb3-e5b5-40ef-9fa6-d9194a426c86",
   "metadata": {},
   "outputs": [],
   "source": [
    "#add presentation evidence folder\n",
    "presentation_evidence_folder = create_folder(presentation_folder, 'evidence')"
   ]
  },
  {
   "cell_type": "code",
   "execution_count": 22,
   "id": "03747af9-ada2-4c2d-b77b-0ad872b983df",
   "metadata": {},
   "outputs": [],
   "source": [
    "#move all presentation evidence into presentation evidence folder\n",
    "for folder in evidence_folders:\n",
    "    if folder['title'] == 'video presentations':\n",
    "        move_file(folder['id'], presentation_evidence_folder)"
   ]
  },
  {
   "cell_type": "code",
   "execution_count": null,
   "id": "0ca7e7f4-5727-4779-80a9-b9894e24ba8a",
   "metadata": {},
   "outputs": [],
   "source": [
    "#move all presentation post assessments docs into presentation folder\n",
    "exclusion_array = ['demonstration_feedback.pdf','demonstration_review.pdf','exam_feedback.pdf','exam_review.pdf','report_feedback.pdf','report_review.pdf']\n",
    "for folder in evidence_folders:\n",
    "    if folder['title'] == 'Post Assessment Documents':\n",
    "        move_file(folder['id'], presentation_folder,exclusion_array)\n",
    "        "
   ]
  },
  {
   "cell_type": "markdown",
   "id": "c75f9e82-d239-4a16-9f88-90378747e56a",
   "metadata": {},
   "source": [
    "**Demonstration Folder**"
   ]
  },
  {
   "cell_type": "code",
   "execution_count": 23,
   "id": "99492d27-4a04-46c8-b77e-bb99674ba011",
   "metadata": {},
   "outputs": [],
   "source": [
    "#create demonstration folder\n",
    "demonstration_folder = create_folder(poe_folder, 'Module 2 - Demonstration')"
   ]
  },
  {
   "cell_type": "code",
   "execution_count": 24,
   "id": "68568549-5560-46cb-afe8-1462c16b0727",
   "metadata": {},
   "outputs": [],
   "source": [
    "#add demonstration instruments folder\n",
    "demonstration_instruments_folder = create_folder(demonstration_folder, 'instruments')"
   ]
  },
  {
   "cell_type": "code",
   "execution_count": 25,
   "id": "685feb0d-60ce-42b4-9b56-7b4c35096998",
   "metadata": {},
   "outputs": [],
   "source": [
    "#add demonstration evidence folder\n",
    "demonstration_evidence_folder = create_folder(demonstration_folder, 'evidence')"
   ]
  },
  {
   "cell_type": "code",
   "execution_count": 26,
   "id": "c2dab12e-d9e2-4902-ad8e-c149aa29bf1a",
   "metadata": {},
   "outputs": [],
   "source": [
    "#move all demonstration evidence into demonstration evidence folder\n",
    "for folder in evidence_folders:\n",
    "    if folder['title'] == 'video demonstrations':\n",
    "        move_file(folder['id'], demonstration_evidence_folder)"
   ]
  },
  {
   "cell_type": "code",
   "execution_count": null,
   "id": "b591bb8e-eaa0-4a4b-861b-c75f45f6f543",
   "metadata": {},
   "outputs": [],
   "source": [
    "#move all demonstration post assessments docs into demonstration folder\n",
    "exclusion_array = ['presentation_feedback.pdf','presentation_review.pdf','exam_feedback.pdf','exam_review.pdf','report_feedback.pdf','report_review.pdf']\n",
    "for folder in evidence_folders:\n",
    "    if folder['title'] == 'Post Assessment Documents':\n",
    "        move_file(folder['id'], demonstration_folder,exclusion_array)\n"
   ]
  },
  {
   "cell_type": "markdown",
   "id": "138d89f9-f721-4bb1-b263-ec3812705eb1",
   "metadata": {},
   "source": [
    "**Reports Folder**"
   ]
  },
  {
   "cell_type": "code",
   "execution_count": 27,
   "id": "8d1d7d69-085e-4f47-a799-99556d753c0a",
   "metadata": {},
   "outputs": [],
   "source": [
    "#create reports folder\n",
    "reports_folder = create_folder(poe_folder, 'Module 3 - Reports')"
   ]
  },
  {
   "cell_type": "code",
   "execution_count": 28,
   "id": "1ff3de31-2340-49f5-92a1-e102f63a35b3",
   "metadata": {},
   "outputs": [],
   "source": [
    "#add reports instruments folder\n",
    "reports_instruments_folder = create_folder(reports_folder, 'instruments')"
   ]
  },
  {
   "cell_type": "code",
   "execution_count": 29,
   "id": "bacc5477-6687-466a-b2d0-0bce4e859ff5",
   "metadata": {},
   "outputs": [],
   "source": [
    "#add reports evidence folder\n",
    "reports_evidence_folder = create_folder(reports_folder, 'evidence')"
   ]
  },
  {
   "cell_type": "code",
   "execution_count": 30,
   "id": "a48e97f5-f58f-4917-bad6-0184d07c7bdf",
   "metadata": {},
   "outputs": [],
   "source": [
    "#move all report evidence into report evidence folder\n",
    "for folder in evidence_folders:\n",
    "    if folder['title'] == 'technical reports':\n",
    "        move_file(folder['id'], reports_evidence_folder)"
   ]
  },
  {
   "cell_type": "code",
   "execution_count": null,
   "id": "f3f30fa2-e5ee-4284-8c28-d71d24f286a5",
   "metadata": {},
   "outputs": [],
   "source": [
    "#move all reports post assessments docs into reports folder\n",
    "exclusion_array = ['presentation_feedback.pdf','presentation_review.pdf','demonstration_feedback.pdf','demonstration_review.pdf','exam_feedback.pdf','exam_review.pdf']\n",
    "for folder in evidence_folders:\n",
    "    if folder['title'] == 'Post Assessment Documents':\n",
    "        move_file(folder['id'], reports_folder,exclusion_array)\n"
   ]
  },
  {
   "cell_type": "markdown",
   "id": "2c9d2a59-70d5-40b1-abe8-8114f6c2fc2d",
   "metadata": {},
   "source": [
    "**Create Exams Folder**"
   ]
  },
  {
   "cell_type": "code",
   "execution_count": 31,
   "id": "b792ff1a-1fe3-4548-9c81-d06fdd32eaff",
   "metadata": {},
   "outputs": [],
   "source": [
    "#create exams folder\n",
    "exams_folder = create_folder(poe_folder, 'Module 4 - Exams')"
   ]
  },
  {
   "cell_type": "code",
   "execution_count": 32,
   "id": "36f9b460-5ffd-4c73-8218-770efe24afee",
   "metadata": {},
   "outputs": [],
   "source": [
    "#add exams formative folder\n",
    "exams_formatives_folder = create_folder(exams_folder, 'formatives')"
   ]
  },
  {
   "cell_type": "code",
   "execution_count": 33,
   "id": "b415457c-0ad1-4b71-b923-277331ed74aa",
   "metadata": {},
   "outputs": [],
   "source": [
    "#add exams summative folder\n",
    "exams_summatives_folder = create_folder(exams_folder, 'summatives')"
   ]
  },
  {
   "cell_type": "code",
   "execution_count": 35,
   "id": "51eaf601-0f19-4deb-9967-a33782e35f42",
   "metadata": {},
   "outputs": [],
   "source": [
    "#move all exam evidence into exam evidence folder\n",
    "for folder in evidence_folders:\n",
    "    if folder['title'] == 'exams':\n",
    "        exams_folders = list_files(folder['id'])\n",
    "        for exam_folder in exams_folders:\n",
    "            if exam_folder['title'] == 'formative':\n",
    "                move_file(exam_folder['id'], exams_formatives_folder)\n",
    "            if exam_folder['title'] == 'summative':\n",
    "                move_file(exam_folder['id'], exams_summatives_folder)"
   ]
  },
  {
   "cell_type": "code",
   "execution_count": null,
   "id": "a42e197c-a03f-4878-ad7d-641af319a53e",
   "metadata": {},
   "outputs": [],
   "source": [
    "#move all exams post assessments docs into exams folder\n",
    "exclusion_array = ['presentation_feedback.pdf','presentation_review.pdf','demonstration_feedback.pdf','demonstration_review.pdf','report_feedback.pdf','report_review.pdf']\n",
    "for folder in evidence_folders:\n",
    "    if folder['title'] == 'Post Assessment Documents':\n",
    "        move_file(folder['id'], exams_folder,exclusion_array)\n"
   ]
  },
  {
   "cell_type": "markdown",
   "id": "984d10c6-705d-4a4c-80ae-aef18d723d88",
   "metadata": {},
   "source": [
    "**Post Assessment Docs**"
   ]
  },
  {
   "cell_type": "code",
   "execution_count": null,
   "id": "0501964e-86d0-4df2-90ac-0c97b71fb046",
   "metadata": {},
   "outputs": [],
   "source": []
  },
  {
   "cell_type": "code",
   "execution_count": 15,
   "id": "1ea50540-a838-4fae-b4af-4678191c411d",
   "metadata": {},
   "outputs": [],
   "source": [
    "test = list_files('19oj4tcbwqgRsGEAia15LRAyVKROwUE_F')"
   ]
  },
  {
   "cell_type": "code",
   "execution_count": null,
   "id": "62fe9be8-b9ab-4843-8bf9-4b76c1c7e292",
   "metadata": {},
   "outputs": [],
   "source": []
  },
  {
   "cell_type": "code",
   "execution_count": null,
   "id": "90e8c87b-c557-479d-beb1-c42fbebf36e3",
   "metadata": {},
   "outputs": [],
   "source": []
  },
  {
   "cell_type": "code",
   "execution_count": null,
   "id": "c8e24562-4130-40db-8f30-cda291842d02",
   "metadata": {},
   "outputs": [],
   "source": []
  },
  {
   "cell_type": "code",
   "execution_count": null,
   "id": "447bc148-6782-4ebd-99f0-938035a8dc37",
   "metadata": {},
   "outputs": [],
   "source": []
  }
 ],
 "metadata": {
  "kernelspec": {
   "display_name": "Python 3 (ipykernel)",
   "language": "python",
   "name": "python3"
  },
  "language_info": {
   "codemirror_mode": {
    "name": "ipython",
    "version": 3
   },
   "file_extension": ".py",
   "mimetype": "text/x-python",
   "name": "python",
   "nbconvert_exporter": "python",
   "pygments_lexer": "ipython3",
   "version": "3.8.2"
  }
 },
 "nbformat": 4,
 "nbformat_minor": 5
}
