{
 "cells": [
  {
   "cell_type": "markdown",
   "id": "0898dc57-a759-4272-bde0-ef93d5ad37fc",
   "metadata": {},
   "source": [
    "**This notebook contains a script that creates student submission folders for SETA**"
   ]
  },
  {
   "cell_type": "markdown",
   "id": "ad94eada-6482-4233-9fe8-4dfcbababae0",
   "metadata": {},
   "source": [
    "**Add Local Library to Path**"
   ]
  },
  {
   "cell_type": "code",
   "execution_count": 66,
   "id": "02f37998-3cac-497a-8a6b-05adeed8f271",
   "metadata": {},
   "outputs": [],
   "source": [
    "import os\n",
    "import sys\n",
    "\n",
    "module_path = os.path.abspath(os.path.join('..'))\n",
    "if module_path not in sys.path:\n",
    "    sys.path.append(module_path)\n",
    "    sys.path.append(module_path + '/local_library')"
   ]
  },
  {
   "cell_type": "markdown",
   "id": "a418eaa0-7f26-4e3a-92ba-c3ea27410c16",
   "metadata": {},
   "source": [
    "**Import Libraries**"
   ]
  },
  {
   "cell_type": "code",
   "execution_count": 67,
   "id": "a267ece1-3cd7-47fc-85fa-32fca6ae97bf",
   "metadata": {},
   "outputs": [],
   "source": [
    "import pandas as pd\n",
    "import re\n",
    "from local_library import import_worksheet\n",
    "from local_library import export_worksheet"
   ]
  },
  {
   "cell_type": "markdown",
   "id": "a89e66fb-df3f-4bd1-8c98-c8eab2772121",
   "metadata": {},
   "source": [
    "**Import Data**"
   ]
  },
  {
   "cell_type": "code",
   "execution_count": 68,
   "id": "f71cb4c8-2565-4a1a-9e3d-e2f6ab8a0d40",
   "metadata": {},
   "outputs": [],
   "source": [
    "#import cohort data\n",
    "cohort_df = import_worksheet(\"Cohort 2020 Data\", \"Cohort 2020 Data\")"
   ]
  },
  {
   "cell_type": "markdown",
   "id": "ee46dce3-6357-4787-9967-716e93324239",
   "metadata": {},
   "source": [
    "**Create Local Library**"
   ]
  },
  {
   "cell_type": "code",
   "execution_count": 69,
   "id": "4bc7bb2a-977b-4b4e-9d06-369165263421",
   "metadata": {},
   "outputs": [],
   "source": [
    "def list_files(folder_id):\n",
    "    #list all files in a google folder\n",
    "    #params:\n",
    "    #       folder_id: the google id of the parent folder\n",
    "    #return:\n",
    "    #       file_list: a list of files in the parent folder\n",
    "    \n",
    "    file_list = drive.ListFile(\n",
    "        {\n",
    "            'q': \"'{}' in parents and trashed=false\".format(folder_id),\n",
    "            'corpora': \"teamDrive\",\n",
    "            'teamDriveId': \"0AL2boqVPcgjKUk9PVA\",\n",
    "            'includeTeamDriveItems': \"true\",\n",
    "            'supportsTeamDrives': \"true\"\n",
    "        }\n",
    "    ).GetList()\n",
    "    return file_list\n",
    "\n",
    "\n",
    "def create_folder(parent_folder_id, folder_name, email=''):\n",
    "    #create folder if it does not exist\n",
    "        #params:\n",
    "    #       parent_folder_id: the google id of the parent folder\n",
    "    #       folder_name: the name of the folder created\n",
    "    #return:\n",
    "    #       folder_id: the google id if the created folder\n",
    "\n",
    "    file_list = list_files(parent_folder_id)\n",
    "    folder_id = ''\n",
    "    for folder in file_list:\n",
    "        if folder['title'] == folder_name:\n",
    "            return folder['id']\n",
    "    if not folder_id:\n",
    "        folder = drive.CreateFile({'parents': [{'id': parent_folder_id}], 'title': folder_name,\n",
    "                                   'mimeType': 'application/vnd.google-apps.folder'})\n",
    "        folder.Upload(param={'supportsTeamDrives': True})\n",
    "        \n",
    "        if email:\n",
    "            share_folder(folder, email)\n",
    "\n",
    "        return folder['id']\n",
    "    return False\n",
    "\n",
    "\n",
    "def share_folder(folder, email):\n",
    "    new_permission = {\n",
    "        'type': 'user',\n",
    "        'value': email,\n",
    "        'role': 'writer'\n",
    "    }\n",
    "    permission = folder.auth.service.permissions().insert(\n",
    "        fileId=folder['id'], body=new_permission, supportsTeamDrives=True).execute(http=folder.http)\n",
    "        "
   ]
  },
  {
   "cell_type": "markdown",
   "id": "eb2b94aa-3c6c-42ca-a494-29cea8b208cf",
   "metadata": {},
   "source": [
    "**Update Columns Names**"
   ]
  },
  {
   "cell_type": "code",
   "execution_count": 70,
   "id": "1aa9aadc-512e-4e23-8e3a-9a19afa36e7f",
   "metadata": {},
   "outputs": [],
   "source": [
    "\n",
    "column_names = {\"Firstname\":\"learner_name\", \"Surname\": \"learner_surname\",\n",
    "                \"Mobile Number\":\"learner_phone\", \"Student Email\":\"learner_email\",\n",
    "                \"Middle Name/s\":\"middle_name\"\n",
    "               }\n",
    "\n",
    "cohort_df = cohort_df.rename(columns=column_names)"
   ]
  },
  {
   "cell_type": "markdown",
   "id": "64d122bf-0314-4203-b926-481dc297ebf2",
   "metadata": {},
   "source": [
    "**Create Fullname**"
   ]
  },
  {
   "cell_type": "code",
   "execution_count": 71,
   "id": "5188220b-8c0b-486f-975a-19f1d3779324",
   "metadata": {},
   "outputs": [],
   "source": [
    "cohort_df['middle_name'] = cohort_df['middle_name'].fillna(\"\")\n",
    "cohort_df['learner_name'] = cohort_df['learner_name'].str.strip().str.lower() + \" \" + cohort_df['middle_name'].str.strip().str.lower()\n",
    "cohort_df['learner_name'] = cohort_df['learner_name'].str.strip().str.title()\n",
    "cohort_df['learner_fullname'] = cohort_df['learner_name'].str.strip().str.lower() + \" \" + cohort_df['learner_surname'].str.strip().str.lower()\n",
    "cohort_df['learner_fullname'] = [re.sub(' +', ' ', fullname) for fullname in cohort_df['learner_fullname']]\n",
    "cohort_df['learner_fullname'] = cohort_df['learner_fullname'].str.title()\n"
   ]
  },
  {
   "cell_type": "markdown",
   "id": "130a9525-bd8d-4a8d-af82-290453b50aad",
   "metadata": {},
   "source": [
    "**Subset Useful Columns and Rows**"
   ]
  },
  {
   "cell_type": "code",
   "execution_count": 72,
   "id": "898d7620-a900-4438-9486-8857fae31921",
   "metadata": {},
   "outputs": [],
   "source": [
    "column_names = ['Username', 'learner_email', 'learner_fullname']\n",
    "\n",
    "cohort_df = cohort_df[cohort_df['Active / Not active/Early absorption'] == 'Active']\n",
    "cohort_df = cohort_df[column_names]"
   ]
  },
  {
   "cell_type": "code",
   "execution_count": 73,
   "id": "9c127909-4417-4f4c-b5aa-d6ba25c25ec2",
   "metadata": {},
   "outputs": [
    {
     "data": {
      "text/plain": [
       "257"
      ]
     },
     "execution_count": 73,
     "metadata": {},
     "output_type": "execute_result"
    }
   ],
   "source": [
    "cohort_df['folder_id'] = ''\n",
    "len(cohort_df)"
   ]
  },
  {
   "cell_type": "markdown",
   "id": "eed8ab86-a1d6-42da-8e7e-3b64c7203ffb",
   "metadata": {},
   "source": [
    "**Create Folders**"
   ]
  },
  {
   "cell_type": "code",
   "execution_count": 85,
   "id": "bb3275f5-fd8a-4801-abe5-a91b0bdb089a",
   "metadata": {},
   "outputs": [],
   "source": [
    "for index, row in cohort_df.iterrows():\n",
    "    parent_id = create_folder(\"1-2tkFz7qrd2MD-vvudm0AlyK46YFt5so\",row['learner_fullname'], row['learner_email'])\n",
    "    create_folder(parent_id, \"video presentations\")\n",
    "    create_folder(parent_id, \"video demonstrations\")\n",
    "    create_folder(parent_id, \"technical reports\")\n",
    "    cohort_df.loc[cohort_df['learner_fullname'] == row['learner_fullname'], 'folder_id'] = parent_id\n"
   ]
  },
  {
   "cell_type": "code",
   "execution_count": 86,
   "id": "cc858575-39f8-4547-a90c-b0c54f9bae29",
   "metadata": {},
   "outputs": [],
   "source": [
    "export_worksheet(\"POE Compilation\",\"Evidence Submission\", cohort_df)"
   ]
  },
  {
   "cell_type": "code",
   "execution_count": null,
   "id": "ca1cfb0f-61b6-4087-90c9-58829f355ebd",
   "metadata": {},
   "outputs": [],
   "source": []
  },
  {
   "cell_type": "code",
   "execution_count": null,
   "id": "9bff0864-dc87-469d-95ea-4edcf4ad9798",
   "metadata": {},
   "outputs": [],
   "source": []
  },
  {
   "cell_type": "code",
   "execution_count": 62,
   "id": "c5fdae3c-e585-4a98-b697-40e5eb3e37c1",
   "metadata": {},
   "outputs": [],
   "source": []
  },
  {
   "cell_type": "code",
   "execution_count": null,
   "id": "19d3c0b1-e75d-4a50-be8d-f51bdbc470ce",
   "metadata": {},
   "outputs": [],
   "source": []
  },
  {
   "cell_type": "code",
   "execution_count": null,
   "id": "d5fc8fb1-7e4e-45ad-8bd6-35ecda168ccf",
   "metadata": {},
   "outputs": [],
   "source": []
  },
  {
   "cell_type": "code",
   "execution_count": null,
   "id": "52eb6353-a9f2-43ab-ae6a-431976a71e26",
   "metadata": {},
   "outputs": [],
   "source": []
  },
  {
   "cell_type": "code",
   "execution_count": null,
   "id": "41b9d0b8-2c35-406c-9905-44c3840d0d53",
   "metadata": {},
   "outputs": [],
   "source": []
  },
  {
   "cell_type": "code",
   "execution_count": null,
   "id": "37afb96a-086a-49b3-af80-fac0876ec239",
   "metadata": {},
   "outputs": [],
   "source": []
  },
  {
   "cell_type": "code",
   "execution_count": null,
   "id": "8b23e42c-bfe7-4cac-b4ad-1de18c145e23",
   "metadata": {},
   "outputs": [],
   "source": [
    "from pydrive.auth import GoogleAuth\n",
    "from pydrive.drive import GoogleDrive\n",
    "gauth = GoogleAuth()\n",
    "gauth.LocalWebserverAuth()\n",
    "drive = GoogleDrive(gauth)"
   ]
  },
  {
   "cell_type": "code",
   "execution_count": null,
   "id": "1edcf89c-5283-4a01-bfbe-45927b9f708c",
   "metadata": {},
   "outputs": [],
   "source": []
  },
  {
   "cell_type": "code",
   "execution_count": null,
   "id": "8ec38ecc-e8ca-460b-ab1c-c1ff7a8d1331",
   "metadata": {},
   "outputs": [],
   "source": []
  },
  {
   "cell_type": "code",
   "execution_count": null,
   "id": "ff6d639d-c3d6-47b8-9b49-0b003199cca2",
   "metadata": {},
   "outputs": [],
   "source": []
  },
  {
   "cell_type": "code",
   "execution_count": null,
   "id": "fcead0c4-e3d6-4422-a6b7-e8bb801c4309",
   "metadata": {},
   "outputs": [],
   "source": []
  },
  {
   "cell_type": "code",
   "execution_count": null,
   "id": "91d7ec15-2cfd-4793-b030-791113fcf402",
   "metadata": {},
   "outputs": [],
   "source": []
  },
  {
   "cell_type": "code",
   "execution_count": null,
   "id": "72471814-c9ae-4658-a5d8-164aa561d047",
   "metadata": {},
   "outputs": [],
   "source": []
  },
  {
   "cell_type": "code",
   "execution_count": null,
   "id": "157305cc-056d-4643-8ab3-82ca7c1af5cc",
   "metadata": {},
   "outputs": [],
   "source": []
  }
 ],
 "metadata": {
  "kernelspec": {
   "display_name": "Python 3 (ipykernel)",
   "language": "python",
   "name": "python3"
  },
  "language_info": {
   "codemirror_mode": {
    "name": "ipython",
    "version": 3
   },
   "file_extension": ".py",
   "mimetype": "text/x-python",
   "name": "python",
   "nbconvert_exporter": "python",
   "pygments_lexer": "ipython3",
   "version": "3.8.2"
  }
 },
 "nbformat": 4,
 "nbformat_minor": 5
}
