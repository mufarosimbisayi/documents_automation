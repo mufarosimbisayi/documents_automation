{
 "cells": [
  {
   "cell_type": "markdown",
   "id": "2659a1b3-f1d0-497c-9319-3ea3366879e9",
   "metadata": {},
   "source": [
    "**This notebook contains a script that adds all the assessment instruments to the POEs**"
   ]
  },
  {
   "cell_type": "markdown",
   "id": "24377aac-62b1-4ecc-aab9-713a382f9a67",
   "metadata": {},
   "source": [
    "**Add Local Library to Path**"
   ]
  },
  {
   "cell_type": "code",
   "execution_count": 1,
   "id": "57764446-5fec-4442-8828-7fdc8b688003",
   "metadata": {},
   "outputs": [],
   "source": [
    "import os\n",
    "import sys\n",
    "\n",
    "module_path = os.path.abspath(os.path.join('..'))\n",
    "if module_path not in sys.path:\n",
    "    sys.path.append(module_path)\n",
    "    sys.path.append(module_path + '/local_library')"
   ]
  },
  {
   "cell_type": "markdown",
   "id": "2a03b94f-682b-4222-b2db-bf65e763518b",
   "metadata": {},
   "source": [
    "**Import Libraries**"
   ]
  },
  {
   "cell_type": "code",
   "execution_count": 2,
   "id": "5d51baa3-b764-4f5e-9ad4-2656cae738fe",
   "metadata": {},
   "outputs": [
    {
     "name": "stdout",
     "output_type": "stream",
     "text": [
      "Your browser has been opened to visit:\n",
      "\n",
      "    https://accounts.google.com/o/oauth2/auth?client_id=1017190226189-f1d5s7cpjrj54u2rqk1ufh9pevguqoap.apps.googleusercontent.com&redirect_uri=http%3A%2F%2Flocalhost%3A8080%2F&scope=https%3A%2F%2Fwww.googleapis.com%2Fauth%2Fdrive&access_type=offline&response_type=code\n",
      "\n",
      "Authentication successful.\n"
     ]
    }
   ],
   "source": [
    "import pandas as pd\n",
    "from local_library import list_files\n",
    "from local_library import import_worksheet\n",
    "from local_library import export_worksheet"
   ]
  },
  {
   "cell_type": "markdown",
   "id": "f98ecaf3-b364-41c1-a4ac-3cdc392a8a69",
   "metadata": {},
   "source": [
    "**Create Temp Library**"
   ]
  },
  {
   "cell_type": "code",
   "execution_count": 3,
   "id": "db32fc9e-2e3e-41c1-9ba8-49d7e24f3033",
   "metadata": {},
   "outputs": [
    {
     "name": "stdout",
     "output_type": "stream",
     "text": [
      "Your browser has been opened to visit:\n",
      "\n",
      "    https://accounts.google.com/o/oauth2/auth?client_id=1017190226189-f1d5s7cpjrj54u2rqk1ufh9pevguqoap.apps.googleusercontent.com&redirect_uri=http%3A%2F%2Flocalhost%3A8080%2F&scope=https%3A%2F%2Fwww.googleapis.com%2Fauth%2Fdrive&access_type=offline&response_type=code\n",
      "\n",
      "Authentication successful.\n"
     ]
    }
   ],
   "source": [
    "from pydrive.auth import GoogleAuth\n",
    "from pydrive.drive import GoogleDrive\n",
    "\n",
    "#authenticate Google\n",
    "gauth = GoogleAuth()\n",
    "gauth.LocalWebserverAuth()\n",
    "drive = GoogleDrive(gauth)\n",
    "\n",
    "\n",
    "def move_file(old_folder_id, new_folder_id, exclusion_array=[]):\n",
    "    \"\"\"\n",
    "    Moves a google drive files from one folder to another.\n",
    "    \n",
    "    Args:\n",
    "        old_folder_id: A string representing the old folder google drive id.\n",
    "        new_folder_id: A string representing the new folder google drive id.\n",
    "        exclusion_array: An array of strings containing the titles to be excluded from the copy.\n",
    "        \n",
    "    Returns:\n",
    "        _: A boolean representing success or failure\n",
    "    \"\"\"\n",
    "    \n",
    "    files = list_files(old_folder_id)\n",
    "    for file in files:\n",
    "        if file['title'] not in exclusion_array:\n",
    "            copy_file(file['id'], file['title'], new_folder_id)\n",
    "    return True\n",
    "    \n",
    "def copy_file(file_id, file_title, new_folder_id):\n",
    "    \"\"\"\n",
    "    Creates copy of file in destination folder\n",
    "    \n",
    "    Args:\n",
    "        file_id: I.D of the file to be copied\n",
    "        file_title: Name of the file to be copied\n",
    "        new_folder_id: Folder where copy will be stored.\n",
    "    Return:\n",
    "        none\n",
    "    \"\"\"\n",
    "    \n",
    "    copied_file = {\"title\": file_title,\n",
    "                    'parents': [{\n",
    "            'kind': 'drive#fileLink',\n",
    "            'id': new_folder_id\n",
    "        }]}\n",
    "\n",
    "    drive.auth.service.files().copy(fileId=file_id,\n",
    "                                    body=copied_file,\n",
    "                                    supportsAllDrives=True\n",
    "    ).execute()"
   ]
  },
  {
   "cell_type": "markdown",
   "id": "0865470c-1b16-49a9-ba92-dc5965bcce1b",
   "metadata": {},
   "source": [
    "**Import Data**"
   ]
  },
  {
   "cell_type": "code",
   "execution_count": 4,
   "id": "7fbe3c97-b60f-4c31-905f-3effe2018883",
   "metadata": {},
   "outputs": [],
   "source": [
    "cohort_df = import_worksheet('POE Folders Compilation','Instruments')"
   ]
  },
  {
   "cell_type": "code",
   "execution_count": 5,
   "id": "012dcb34-dbfa-49af-97f3-686c6919aa12",
   "metadata": {},
   "outputs": [
    {
     "data": {
      "text/plain": [
       "26"
      ]
     },
     "execution_count": 5,
     "metadata": {},
     "output_type": "execute_result"
    }
   ],
   "source": [
    "len(cohort_df[cohort_df['instruments_ended'] != 'Yes'])"
   ]
  },
  {
   "cell_type": "code",
   "execution_count": 6,
   "id": "70f8bbf0-52f9-4f66-b92c-c541f2a0111c",
   "metadata": {},
   "outputs": [
    {
     "name": "stdout",
     "output_type": "stream",
     "text": [
      "Tahir-Mahmood Rhoda: Start Copying\n",
      "Tahir-Mahmood Rhoda: End Copying\n",
      "Thembinkosi Xolani Sithole: Start Copying\n",
      "Thembinkosi Xolani Sithole: End Copying\n",
      "Tshiamo Affectionate Tranquil Lephale: Start Copying\n",
      "Tshiamo Affectionate Tranquil Lephale: End Copying\n",
      "Tsholofelo Madela: Start Copying\n",
      "Tsholofelo Madela: End Copying\n",
      "Thabang Gift Soulo: Start Copying\n",
      "Thabang Gift Soulo: End Copying\n",
      "Nathi Gregory Xolani Khoba: Start Copying\n",
      "Nathi Gregory Xolani Khoba: End Copying\n",
      "Montsheng Violet Loti: Start Copying\n",
      "Montsheng Violet Loti: End Copying\n",
      "Vusmuzi Gift Pekane: Start Copying\n",
      "Vusmuzi Gift Pekane: End Copying\n",
      "Isaac Vusi Sithole: Start Copying\n",
      "Isaac Vusi Sithole: End Copying\n",
      "Vuyo Titi: Start Copying\n",
      "Vuyo Titi: End Copying\n",
      "Wendonn Shane Butler: Start Copying\n",
      "Wendonn Shane Butler: End Copying\n",
      "Warren Maxhawe Magagula: Start Copying\n",
      "Warren Maxhawe Magagula: End Copying\n",
      "Wilson Kolana Makoae: Start Copying\n",
      "Wilson Kolana Makoae: End Copying\n",
      "Wren Keanan Adams: Start Copying\n",
      "Wren Keanan Adams: End Copying\n",
      "Wesley Luke Van Rooi: Start Copying\n",
      "Wesley Luke Van Rooi: End Copying\n",
      "Xolani Cyril Ndlangisa: Start Copying\n",
      "Xolani Cyril Ndlangisa: End Copying\n",
      "Xolisile Likhy Tshabalala: Start Copying\n",
      "Xolisile Likhy Tshabalala: End Copying\n",
      "Yanga Mac Nodliwa: Start Copying\n",
      "Yanga Mac Nodliwa: End Copying\n",
      "Yonwabisa Lithelihle Zwane: Start Copying\n",
      "Yonwabisa Lithelihle Zwane: End Copying\n",
      "Zenani Kagiso Zwane: Start Copying\n",
      "Zenani Kagiso Zwane: End Copying\n",
      "Zachary Pierce Glanville: Start Copying\n",
      "Zachary Pierce Glanville: End Copying\n",
      "Zanele Fortunate Manyathi: Start Copying\n",
      "Zanele Fortunate Manyathi: End Copying\n",
      "Zamanguni Ningi Mbali Mfeka: Start Copying\n",
      "Zamanguni Ningi Mbali Mfeka: End Copying\n",
      "Zaid Saloojee: Start Copying\n",
      "Zaid Saloojee: End Copying\n",
      "Damian Viljoen: Start Copying\n",
      "Damian Viljoen: End Copying\n",
      "Sebaratlane Musa Mashaba: Start Copying\n",
      "Sebaratlane Musa Mashaba: End Copying\n"
     ]
    }
   ],
   "source": [
    "for index, row in cohort_df[cohort_df['instruments_ended'] != 'Yes'].iterrows():\n",
    "    #log beginning\n",
    "    print(f\"{row['poe_folder_title']}: Start Copying\")\n",
    "    \n",
    "    #move files into documents folder\n",
    "    move_file('1_eO8wluMIuZk0JWtlBc_zuQeXi67YMYA', row['documents_folder'])\n",
    "    \n",
    "    #move files into presentation instruments folder\n",
    "    move_file('1XkHxjzDDiR5AFI7Tt-SDiGjXD9KECw6d', row['presentation_instruments_folder'])\n",
    "    \n",
    "    #move file into demonstration instruments folder\n",
    "    move_file('1pT3DKfaYP1b0HFWsn0WW9j-WYT8ZKiU9', row['demonstration_instruments_folder'])\n",
    "    \n",
    "    #move file into reports intruments folder\n",
    "    move_file('1KhHA3lM8wl0mYU-QZIjl1i-dOSwojVnn', row['reports_instruments_folder'])\n",
    "    \n",
    "    #move file into exams folder\n",
    "    move_file('1FvPNKhDq4TMXXpuCODckuLPoZGX3ZIS1', row['exams_folder'])\n",
    "    \n",
    "    #log ending\n",
    "    cohort_df.loc[cohort_df['poe_folder_title'] == row['poe_folder_title'], 'instruments_ended'] = 'Yes' \n",
    "    print(f\"{row['poe_folder_title']}: End Copying\")"
   ]
  },
  {
   "cell_type": "code",
   "execution_count": 13,
   "id": "08ceb6e9-4051-4f61-83c7-1ae33d6a1562",
   "metadata": {},
   "outputs": [],
   "source": [
    "cohort_df.loc[cohort_df['poe_folder_title'] == 'Tokollo Motlohi Ramabina', 'instruments_ended'] = 'Yes'"
   ]
  },
  {
   "cell_type": "code",
   "execution_count": 15,
   "id": "38217d37-6869-474c-9f77-4d3b8c5ebfe5",
   "metadata": {},
   "outputs": [],
   "source": [
    "export_worksheet('POE Folders Compilation','Instruments', cohort_df)"
   ]
  },
  {
   "cell_type": "code",
   "execution_count": null,
   "id": "9658dd13-c315-4ecd-b73b-adcc4daa0c42",
   "metadata": {},
   "outputs": [],
   "source": []
  },
  {
   "cell_type": "code",
   "execution_count": null,
   "id": "f998f38e-89df-4cbe-a9e2-f8b8fa70d8ae",
   "metadata": {},
   "outputs": [],
   "source": []
  },
  {
   "cell_type": "code",
   "execution_count": null,
   "id": "dc419f12-254b-4485-9da5-41dacd4ba556",
   "metadata": {},
   "outputs": [],
   "source": []
  },
  {
   "cell_type": "code",
   "execution_count": null,
   "id": "177a4091-e2ec-4251-87ba-76a4da5b21e2",
   "metadata": {},
   "outputs": [],
   "source": []
  },
  {
   "cell_type": "code",
   "execution_count": null,
   "id": "956a54d7-1b79-472a-bc89-ac1172284f94",
   "metadata": {},
   "outputs": [],
   "source": []
  },
  {
   "cell_type": "code",
   "execution_count": null,
   "id": "b6a46a7e-e077-498f-96b2-56cb6f438dde",
   "metadata": {},
   "outputs": [],
   "source": []
  },
  {
   "cell_type": "code",
   "execution_count": null,
   "id": "6dd977cb-57d1-4ade-ac03-de0fef1abeef",
   "metadata": {},
   "outputs": [],
   "source": []
  },
  {
   "cell_type": "code",
   "execution_count": null,
   "id": "23cf95f5-36ed-481c-bec7-a8e6880ddc7f",
   "metadata": {},
   "outputs": [],
   "source": []
  },
  {
   "cell_type": "code",
   "execution_count": null,
   "id": "a9a3337b-6f4b-4a36-9fd7-9da0a9c56f0f",
   "metadata": {},
   "outputs": [],
   "source": []
  },
  {
   "cell_type": "code",
   "execution_count": null,
   "id": "ce260887-b04f-43ca-9a96-10206c37ce1a",
   "metadata": {},
   "outputs": [],
   "source": []
  }
 ],
 "metadata": {
  "kernelspec": {
   "display_name": "Python 3 (ipykernel)",
   "language": "python",
   "name": "python3"
  },
  "language_info": {
   "codemirror_mode": {
    "name": "ipython",
    "version": 3
   },
   "file_extension": ".py",
   "mimetype": "text/x-python",
   "name": "python",
   "nbconvert_exporter": "python",
   "pygments_lexer": "ipython3",
   "version": "3.8.2"
  }
 },
 "nbformat": 4,
 "nbformat_minor": 5
}
