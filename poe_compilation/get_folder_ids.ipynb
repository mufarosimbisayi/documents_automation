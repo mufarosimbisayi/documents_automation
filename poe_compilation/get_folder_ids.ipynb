{
 "cells": [
  {
   "cell_type": "markdown",
   "id": "e3669364-2d8b-43f7-9a09-c6b3c6bebc75",
   "metadata": {},
   "source": [
    "**This notebook contains a script that maps out folders for formative and summative submissions**"
   ]
  },
  {
   "cell_type": "markdown",
   "id": "8f01972a-6eaf-4b75-b0ca-9ca928f1739b",
   "metadata": {},
   "source": [
    "**Add Local Library To Path**"
   ]
  },
  {
   "cell_type": "code",
   "execution_count": 1,
   "id": "26421238-86bd-4871-b559-8af130ff5932",
   "metadata": {},
   "outputs": [],
   "source": [
    "import os\n",
    "import sys\n",
    "\n",
    "module_path = os.path.abspath(os.path.join('..'))\n",
    "if module_path not in sys.path:\n",
    "    sys.path.append(module_path)\n",
    "    sys.path.append(module_path + '/local_library')"
   ]
  },
  {
   "cell_type": "markdown",
   "id": "49ad05d7-5587-45ea-b9a6-17a4367dfb61",
   "metadata": {},
   "source": [
    "**Import Library**"
   ]
  },
  {
   "cell_type": "code",
   "execution_count": 2,
   "id": "c7685e31-8861-4110-8a40-10050be4d34d",
   "metadata": {},
   "outputs": [
    {
     "name": "stdout",
     "output_type": "stream",
     "text": [
      "Your browser has been opened to visit:\n",
      "\n",
      "    https://accounts.google.com/o/oauth2/auth?client_id=1017190226189-f1d5s7cpjrj54u2rqk1ufh9pevguqoap.apps.googleusercontent.com&redirect_uri=http%3A%2F%2Flocalhost%3A8080%2F&scope=https%3A%2F%2Fwww.googleapis.com%2Fauth%2Fdrive&access_type=offline&response_type=code\n",
      "\n",
      "Authentication successful.\n"
     ]
    }
   ],
   "source": [
    "import pandas as pd\n",
    "from local_library import import_worksheet\n",
    "from local_library import export_worksheet\n",
    "from local_library import list_files"
   ]
  },
  {
   "cell_type": "markdown",
   "id": "1e3f4ea6-485b-4ae9-b942-4192cb443085",
   "metadata": {},
   "source": [
    "**Import Data**"
   ]
  },
  {
   "cell_type": "code",
   "execution_count": 3,
   "id": "41a9c4e5-932e-4a65-a527-3e0a6ced74ff",
   "metadata": {},
   "outputs": [],
   "source": [
    "cohort_df = import_worksheet(\"POE Compilation 2021\",\"Evidence Submission\")"
   ]
  },
  {
   "cell_type": "markdown",
   "id": "0e3ed5d6-9106-4004-a204-ac72b51fda59",
   "metadata": {},
   "source": [
    "**Map folder IDs**"
   ]
  },
  {
   "cell_type": "code",
   "execution_count": 26,
   "id": "0c56bed4-21ce-4cf0-9d88-ab02112a00d3",
   "metadata": {},
   "outputs": [],
   "source": [
    "for index,row in cohort_df.iterrows():\n",
    "    parent_folder = list_files(row['folder_id'])\n",
    "    exam_folder = list_files(parent_folder[0]['id'])\n",
    "    for folder in exam_folder:\n",
    "        if folder['title'] == 'formative':\n",
    "            cohort_df.loc[cohort_df['Username'] == row['Username'], 'formative'] = folder['id']\n",
    "        elif folder['title'] == 'summative':\n",
    "            cohort_df.loc[cohort_df['Username'] == row['Username'], 'summative'] = folder['id']\n",
    "    "
   ]
  },
  {
   "cell_type": "markdown",
   "id": "addde2fd-5c72-4459-b20b-4448fdd65ce6",
   "metadata": {},
   "source": [
    "**Export Dataframe**"
   ]
  },
  {
   "cell_type": "code",
   "execution_count": 28,
   "id": "a67ca709-68ba-439a-a838-3556bd2828b6",
   "metadata": {},
   "outputs": [],
   "source": [
    "export_worksheet(\"POE Compilation 2021\",\"Evidence Submission\",cohort_df)"
   ]
  },
  {
   "cell_type": "code",
   "execution_count": null,
   "id": "c09be338-9c44-4e6c-b0e3-5aa3992bab46",
   "metadata": {},
   "outputs": [],
   "source": []
  },
  {
   "cell_type": "code",
   "execution_count": null,
   "id": "24ebb8a3-8e85-4097-af20-1f5bee47026b",
   "metadata": {},
   "outputs": [],
   "source": []
  }
 ],
 "metadata": {
  "kernelspec": {
   "display_name": "Python 3 (ipykernel)",
   "language": "python",
   "name": "python3"
  },
  "language_info": {
   "codemirror_mode": {
    "name": "ipython",
    "version": 3
   },
   "file_extension": ".py",
   "mimetype": "text/x-python",
   "name": "python",
   "nbconvert_exporter": "python",
   "pygments_lexer": "ipython3",
   "version": "3.8.2"
  }
 },
 "nbformat": 4,
 "nbformat_minor": 5
}
