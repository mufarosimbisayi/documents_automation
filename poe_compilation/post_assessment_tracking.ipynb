{
 "cells": [
  {
   "cell_type": "markdown",
   "id": "6ea14e5f-219a-40fc-9ea2-0aa661bffe8b",
   "metadata": {},
   "source": [
    "**This notebook contains a script that tracks all post assessments documents**"
   ]
  },
  {
   "cell_type": "markdown",
   "id": "4911203e-d3a6-44e9-934c-e9b57ed16e85",
   "metadata": {},
   "source": [
    "**Add Local Library to Path**"
   ]
  },
  {
   "cell_type": "code",
   "execution_count": 1,
   "id": "ebcb84aa-b950-4bf3-a8de-d8a8731493b6",
   "metadata": {},
   "outputs": [],
   "source": [
    "import os\n",
    "import sys\n",
    "\n",
    "module_path = os.path.abspath(os.path.join('..'))\n",
    "if module_path not in sys.path:\n",
    "    sys.path.append(module_path)\n",
    "    sys.path.append(module_path + '/local_library')"
   ]
  },
  {
   "cell_type": "markdown",
   "id": "b621bab5-481c-4548-aab0-eb7176f5a839",
   "metadata": {},
   "source": [
    "**Import Libraries**"
   ]
  },
  {
   "cell_type": "code",
   "execution_count": 2,
   "id": "c7936cf8-3397-4774-ba1e-4c733e9456f2",
   "metadata": {},
   "outputs": [
    {
     "name": "stdout",
     "output_type": "stream",
     "text": [
      "Your browser has been opened to visit:\n",
      "\n",
      "    https://accounts.google.com/o/oauth2/auth?client_id=1017190226189-f1d5s7cpjrj54u2rqk1ufh9pevguqoap.apps.googleusercontent.com&redirect_uri=http%3A%2F%2Flocalhost%3A8080%2F&scope=https%3A%2F%2Fwww.googleapis.com%2Fauth%2Fdrive&access_type=offline&response_type=code\n",
      "\n",
      "Authentication successful.\n"
     ]
    }
   ],
   "source": [
    "import pandas as pd\n",
    "from local_library import create_folder\n",
    "from local_library import import_worksheet\n",
    "from local_library import export_worksheet\n",
    "from local_library import get_documents_metadata"
   ]
  },
  {
   "cell_type": "markdown",
   "id": "c654215d-c8af-4dd5-899d-63edc4410631",
   "metadata": {},
   "source": [
    "**Import Data**"
   ]
  },
  {
   "cell_type": "code",
   "execution_count": 3,
   "id": "7763db78-de92-48c8-b376-29f7e748fdca",
   "metadata": {},
   "outputs": [],
   "source": [
    "#import cohort data\n",
    "cohort_df = import_worksheet(\"POE Compilation\",\"Post Assessment Documents\")\n",
    "#cohort_df = cohort_df[['Username', 'Campus', 'folder_id']]"
   ]
  },
  {
   "cell_type": "markdown",
   "id": "fc81cc64-82b6-40c2-88c1-c514115b03ad",
   "metadata": {},
   "source": [
    "**Create Learner Email**"
   ]
  },
  {
   "cell_type": "code",
   "execution_count": 4,
   "id": "e00f39e0-1cec-4367-9282-6054b1024bc4",
   "metadata": {},
   "outputs": [],
   "source": [
    "cohort_df['learner_email'] = cohort_df['Username'] + \"@student.wethinkcode.co.za\""
   ]
  },
  {
   "cell_type": "markdown",
   "id": "16770d95-11db-41c2-af8e-5a738df85970",
   "metadata": {},
   "source": [
    "**Create Submission Folder**"
   ]
  },
  {
   "cell_type": "code",
   "execution_count": 5,
   "id": "e88b9273-7a54-4276-b97e-74269b6c71f5",
   "metadata": {},
   "outputs": [],
   "source": [
    "#for index, row in cohort_df[cohort_df['folder_id'].isnull()].iterrows():\n",
    "#    cohort_df.loc[cohort_df['Username'] == row['Username'], 'folder_id'] = create_folder(row['parent_id'], 'Post Assessment Documents')\n"
   ]
  },
  {
   "cell_type": "markdown",
   "id": "46f83ce3-0482-4bb5-a405-0ab4a2f305f6",
   "metadata": {},
   "source": [
    "**Add Template IDs Presentations**"
   ]
  },
  {
   "cell_type": "code",
   "execution_count": 6,
   "id": "b3b2e227-16d8-42d0-8420-433880b9bda3",
   "metadata": {},
   "outputs": [],
   "source": [
    "#cohort_df['presentation_feedback_status'] = ''\n",
    "cohort_df.loc[cohort_df['Campus'] == 'Johannesburg', 'presentation_feedback'] = '82584251-094e-44bc-9ba2-dd676e7b5870'\n",
    "cohort_df.loc[cohort_df['Campus'] != 'Johannesburg', 'presentation_feedback'] = '41ea8e17-9ebc-4f2b-8552-51227d7ae7d0'\n",
    "\n",
    "#cohort_df['presentation_review_status'] = ''\n",
    "cohort_df.loc[cohort_df['Campus'] == 'Johannesburg', 'presentation_review'] = 'a958eb4c-0427-44a7-ad0f-2f99c9e7dc04'\n",
    "cohort_df.loc[cohort_df['Campus'] != 'Johannesburg', 'presentation_review'] = 'b3a86ada-e5cb-4511-99d5-56856a7ee35a'"
   ]
  },
  {
   "cell_type": "markdown",
   "id": "aef51ef3-62e6-46ce-8d0f-30bdde2cc7c7",
   "metadata": {},
   "source": [
    "**Add Template IDs Demonstrations**"
   ]
  },
  {
   "cell_type": "code",
   "execution_count": 7,
   "id": "5a6bc726-7ede-4dff-8eb6-199dbe42c71b",
   "metadata": {},
   "outputs": [],
   "source": [
    "#cohort_df['demonstration_feedback_status'] = ''\n",
    "cohort_df.loc[cohort_df['Campus'] == 'Johannesburg', 'demonstration_feedback'] = '64a6a1f8-54ff-43fd-a503-d875d6f1109f'\n",
    "cohort_df.loc[cohort_df['Campus'] != 'Johannesburg', 'demonstration_feedback'] = '6358d4f5-2674-4e36-987a-c89ca8f2fa34'\n",
    "\n",
    "#cohort_df['demonstration_review_status'] = ''\n",
    "cohort_df.loc[cohort_df['Campus'] == 'Johannesburg', 'demonstration_review'] = '50640ab9-23e3-4f36-87a9-efd5332e21ec'\n",
    "cohort_df.loc[cohort_df['Campus'] != 'Johannesburg', 'demonstration_review'] = '138c2efc-f7e0-4e2a-86ce-41c19446f449'"
   ]
  },
  {
   "cell_type": "markdown",
   "id": "b513617e-cb6b-4d4e-98e7-53755d0e9451",
   "metadata": {},
   "source": [
    "**Add Template IDs Technical Report**"
   ]
  },
  {
   "cell_type": "code",
   "execution_count": 8,
   "id": "dd91cf20-a1c1-4e70-8b50-3093c376e56f",
   "metadata": {},
   "outputs": [],
   "source": [
    "#cohort_df['report_feedback_status'] = ''\n",
    "cohort_df.loc[cohort_df['Campus'] == 'Johannesburg', 'report_feedback'] = 'e462da3c-ea0d-4b09-b8d1-eb879e370b64'\n",
    "cohort_df.loc[cohort_df['Campus'] != 'Johannesburg', 'report_feedback'] = '433fff05-8235-4849-bf09-e62b73da43ca'\n",
    "\n",
    "#cohort_df['report_review_status'] = ''\n",
    "cohort_df.loc[cohort_df['Campus'] == 'Johannesburg', 'report_review'] = '51d72a0b-6b73-4bf9-ad17-23bdc106540a'\n",
    "cohort_df.loc[cohort_df['Campus'] != 'Johannesburg', 'report_review'] = '60bf8f64-5fca-4725-8011-08297d05162c'"
   ]
  },
  {
   "cell_type": "markdown",
   "id": "983f9589-e1d6-44dd-8bf4-16f8223431b8",
   "metadata": {},
   "source": [
    "**Add Template IDs Examination**"
   ]
  },
  {
   "cell_type": "code",
   "execution_count": 9,
   "id": "218246ba-459e-4ef4-b34c-1caa85e0df70",
   "metadata": {},
   "outputs": [],
   "source": [
    "#cohort_df['exam_feedback_status'] = ''\n",
    "cohort_df.loc[cohort_df['Campus'] == 'Johannesburg', 'exam_feedback'] = 'bc01f59d-fb0c-454c-adec-c6f08976a3c7'\n",
    "cohort_df.loc[cohort_df['Campus'] != 'Johannesburg', 'exam_feedback'] = '9345b574-7b0c-42e6-b97e-378e00219071'\n",
    "\n",
    "#cohort_df['exam_review_status'] = ''\n",
    "cohort_df.loc[cohort_df['Campus'] == 'Johannesburg', 'exam_review'] = '2f8450ad-fee8-46c5-8544-1281715c1cd7'\n",
    "cohort_df.loc[cohort_df['Campus'] != 'Johannesburg', 'exam_review'] = 'b341743e-1f56-4d03-8448-e6d8eb443f6a'"
   ]
  },
  {
   "cell_type": "markdown",
   "id": "bb722730-549d-4bc0-bf63-fa4f53aee91a",
   "metadata": {},
   "source": [
    "**Run Main Function**"
   ]
  },
  {
   "cell_type": "code",
   "execution_count": null,
   "id": "4f685243-6f63-4a32-b320-c056dd2cdec1",
   "metadata": {},
   "outputs": [
    {
     "name": "stdout",
     "output_type": "stream",
     "text": [
      "presentation_feedback\n",
      "presentation_review\n",
      "demonstration_feedback\n",
      "demonstration_review\n",
      "report_feedback\n"
     ]
    }
   ],
   "source": [
    "#create document names ,       'presentation_feedback', 'presentation_review', 'demonstration_feedback', 'demonstration_review','report_feedback', 'report_review', 'exam_feedback',    \n",
    "document_names = ['presentation_feedback', 'presentation_review', 'demonstration_feedback', 'demonstration_review','report_feedback', 'report_review', 'exam_feedback','exam_review']\n",
    "\n",
    "for document_name in document_names:\n",
    "    get_documents_metadata(cohort_df, document_name, \"learner_email\")\n",
    "    print(document_name)"
   ]
  },
  {
   "cell_type": "markdown",
   "id": "526cd387-adc0-423c-abdb-a4371db8ad6e",
   "metadata": {},
   "source": [
    "**Export To POE Collection**"
   ]
  },
  {
   "cell_type": "code",
   "execution_count": 6,
   "id": "3edd2cca-46e3-4167-9e4e-23c1a5b845ef",
   "metadata": {},
   "outputs": [],
   "source": [
    "#export_worksheet(\"POE Compilation\",\"Post Assessment Documents\", cohort_df)\n"
   ]
  },
  {
   "cell_type": "markdown",
   "id": "3ff18616-36bf-4a68-adfa-5b073edb253b",
   "metadata": {},
   "source": [
    "**Export to SETA Submission Tracking Sheet**"
   ]
  },
  {
   "cell_type": "code",
   "execution_count": 7,
   "id": "f0a20552-bc10-4bc7-9983-b22182c18c60",
   "metadata": {},
   "outputs": [],
   "source": [
    "#export_worksheet(\"2020 SETA Submission Tracking Sheet\",\"Post Assessment Data Dump\", cohort_df[['Username', 'Campus','presentation_feedback_status', 'presentation_review_status', 'demonstration_feedback_status', 'demonstration_review_status','report_feedback_status','report_review_status','exam_feedback_status','exam_review_status']])\n"
   ]
  },
  {
   "cell_type": "code",
   "execution_count": 11,
   "id": "fe20190a-c5ad-4861-a823-0990347b78c1",
   "metadata": {},
   "outputs": [],
   "source": []
  },
  {
   "cell_type": "code",
   "execution_count": null,
   "id": "bc0400b0-59ec-480b-9a70-47037dc7b3d7",
   "metadata": {},
   "outputs": [],
   "source": []
  },
  {
   "cell_type": "code",
   "execution_count": null,
   "id": "001f7350-ed5b-4135-82ad-1ad39c80d8e9",
   "metadata": {},
   "outputs": [],
   "source": []
  }
 ],
 "metadata": {
  "kernelspec": {
   "display_name": "Python 3 (ipykernel)",
   "language": "python",
   "name": "python3"
  },
  "language_info": {
   "codemirror_mode": {
    "name": "ipython",
    "version": 3
   },
   "file_extension": ".py",
   "mimetype": "text/x-python",
   "name": "python",
   "nbconvert_exporter": "python",
   "pygments_lexer": "ipython3",
   "version": "3.8.2"
  }
 },
 "nbformat": 4,
 "nbformat_minor": 5
}
