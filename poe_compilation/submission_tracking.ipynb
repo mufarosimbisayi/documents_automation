{
 "cells": [
  {
   "cell_type": "markdown",
   "id": "e27c3c25-e917-4ce3-bb79-c2175fa8dce0",
   "metadata": {},
   "source": [
    "**This notebook contains a script that tracks SETA evidence submission**"
   ]
  },
  {
   "cell_type": "markdown",
   "id": "ea0afce1-16d9-4dbe-912f-d0522472411e",
   "metadata": {},
   "source": [
    "**Add Local Library To Path**"
   ]
  },
  {
   "cell_type": "code",
   "execution_count": 1,
   "id": "6450bef0-43ad-417d-920e-3d3706d8e694",
   "metadata": {},
   "outputs": [],
   "source": [
    "import os\n",
    "import sys\n",
    "\n",
    "module_path = os.path.abspath(os.path.join('..'))\n",
    "if module_path not in sys.path:\n",
    "    sys.path.append(module_path)\n",
    "    sys.path.append(module_path + '/local_library')"
   ]
  },
  {
   "cell_type": "markdown",
   "id": "9600dc45-ae60-4dc3-8f9d-9231d9e9cf1f",
   "metadata": {},
   "source": [
    "**Import Libraries**"
   ]
  },
  {
   "cell_type": "code",
   "execution_count": 2,
   "id": "cb0b936f-5b55-462a-84bf-0745941df2c3",
   "metadata": {},
   "outputs": [
    {
     "name": "stdout",
     "output_type": "stream",
     "text": [
      "Your browser has been opened to visit:\n",
      "\n",
      "    https://accounts.google.com/o/oauth2/auth?client_id=1017190226189-f1d5s7cpjrj54u2rqk1ufh9pevguqoap.apps.googleusercontent.com&redirect_uri=http%3A%2F%2Flocalhost%3A8080%2F&scope=https%3A%2F%2Fwww.googleapis.com%2Fauth%2Fdrive&access_type=offline&response_type=code\n",
      "\n",
      "Authentication successful.\n"
     ]
    }
   ],
   "source": [
    "import pandas as pd\n",
    "import re\n",
    "from local_library import list_files\n",
    "from local_library import create_folder\n",
    "from local_library import import_worksheet\n",
    "from local_library import export_worksheet"
   ]
  },
  {
   "cell_type": "markdown",
   "id": "843f2846-ae46-45aa-9e35-d696b19fe62c",
   "metadata": {},
   "source": [
    "**Import Data**"
   ]
  },
  {
   "cell_type": "code",
   "execution_count": 3,
   "id": "113c0e07-7834-44dc-858a-2e4e4a7aa3c5",
   "metadata": {},
   "outputs": [],
   "source": [
    "cohort_df = import_worksheet(\"POE Compilation\",\"Evidence Submission\")"
   ]
  },
  {
   "cell_type": "markdown",
   "id": "b9525aba-55fc-4aa5-bb55-63c783a1af51",
   "metadata": {},
   "source": [
    "**Initialise document columns**"
   ]
  },
  {
   "cell_type": "code",
   "execution_count": 4,
   "id": "a2f81250-fb91-40ac-b741-7023ec704420",
   "metadata": {},
   "outputs": [],
   "source": [
    "cohort_df['documents'] = ''\n",
    "cohort_df['technical reports'] = ''\n",
    "cohort_df['video demonstrations'] = ''\n",
    "cohort_df['video presentations'] = ''"
   ]
  },
  {
   "cell_type": "markdown",
   "id": "ad279589-73df-48bc-9f59-eb3f91ecc787",
   "metadata": {},
   "source": [
    "**Search Folders**"
   ]
  },
  {
   "cell_type": "code",
   "execution_count": 5,
   "id": "23b32d95-04ed-4eee-a76f-4cba3a835fc7",
   "metadata": {},
   "outputs": [],
   "source": [
    "for index, row in cohort_df.iterrows():\n",
    "    #search initial folder\n",
    "    parent_folders = list_files(row['folder_id'])\n",
    "    \n",
    "    #search second level folders\n",
    "    for folder in parent_folders:\n",
    "        if folder['title'] in ['documents', 'technical reports', 'video demonstrations', 'video presentations']:\n",
    "            cohort_df.loc[cohort_df['Username'] == row['Username'], folder['title']] = len(list_files(folder['id']))\n",
    "        "
   ]
  },
  {
   "cell_type": "markdown",
   "id": "59ce296b-e1d1-4377-bb24-c731faad5806",
   "metadata": {},
   "source": [
    "**Export Evidence Submission Data**"
   ]
  },
  {
   "cell_type": "code",
   "execution_count": 7,
   "id": "ab12c5a4-da29-4e8d-9268-49f8a7f073df",
   "metadata": {},
   "outputs": [],
   "source": [
    "#export_worksheet(\"2020 SETA Submission Tracking Sheet\", \"Evidence Dump\", cohort_df)"
   ]
  },
  {
   "cell_type": "code",
   "execution_count": 8,
   "id": "9f70df61-8a52-4339-bcc3-cda0056f3f25",
   "metadata": {},
   "outputs": [],
   "source": [
    "#export_worksheet(\"POE Compilation\", \"Evidence Follow\", cohort_df[['Username', 'video presentations', 'video demonstrations', 'technical reports', 'documents']])"
   ]
  },
  {
   "cell_type": "code",
   "execution_count": null,
   "id": "d57ed308-8fda-4351-bf3e-d70bce9ab551",
   "metadata": {},
   "outputs": [],
   "source": []
  },
  {
   "cell_type": "code",
   "execution_count": null,
   "id": "96c267f9-d45e-4476-ba47-3d4ff13719f8",
   "metadata": {},
   "outputs": [],
   "source": []
  },
  {
   "cell_type": "code",
   "execution_count": null,
   "id": "6a96b037-f23e-473b-93b5-27a581af23d8",
   "metadata": {},
   "outputs": [],
   "source": []
  },
  {
   "cell_type": "code",
   "execution_count": null,
   "id": "3adaac05-7808-4cfc-9413-233a708cab2e",
   "metadata": {},
   "outputs": [],
   "source": []
  },
  {
   "cell_type": "code",
   "execution_count": null,
   "id": "33a53050-8266-4c9f-ab7b-b72356bdedc8",
   "metadata": {},
   "outputs": [],
   "source": []
  },
  {
   "cell_type": "code",
   "execution_count": null,
   "id": "d55a3699-73c4-4e59-8b1c-eb3227a9312f",
   "metadata": {},
   "outputs": [],
   "source": []
  },
  {
   "cell_type": "code",
   "execution_count": null,
   "id": "041719e0-9f4d-46b5-9a8a-84adf1cd1274",
   "metadata": {},
   "outputs": [],
   "source": []
  },
  {
   "cell_type": "code",
   "execution_count": null,
   "id": "45916844-8b19-4c93-9bb2-d1b38aba1d3f",
   "metadata": {},
   "outputs": [],
   "source": []
  },
  {
   "cell_type": "code",
   "execution_count": null,
   "id": "300c881e-c1fa-4c3e-8bb8-cb2eda622f88",
   "metadata": {},
   "outputs": [],
   "source": []
  },
  {
   "cell_type": "code",
   "execution_count": null,
   "id": "794d2b58-0d3e-4cf8-b350-e6c3aa5fb784",
   "metadata": {},
   "outputs": [],
   "source": []
  },
  {
   "cell_type": "code",
   "execution_count": null,
   "id": "f5446dc6-dee2-45ed-81bc-f90623f99112",
   "metadata": {},
   "outputs": [],
   "source": []
  },
  {
   "cell_type": "code",
   "execution_count": null,
   "id": "9740a2f2-3e22-48cb-9443-c3c7fda31c6e",
   "metadata": {},
   "outputs": [],
   "source": []
  },
  {
   "cell_type": "code",
   "execution_count": null,
   "id": "b506156d-31e2-42b4-bcb5-72a1c288f32e",
   "metadata": {},
   "outputs": [],
   "source": []
  },
  {
   "cell_type": "code",
   "execution_count": null,
   "id": "cc5898e0-cb48-4dfe-bfd8-45db45a51a96",
   "metadata": {},
   "outputs": [],
   "source": []
  },
  {
   "cell_type": "code",
   "execution_count": null,
   "id": "8e170608-e8ee-4387-a320-a29ff3c02455",
   "metadata": {},
   "outputs": [],
   "source": []
  },
  {
   "cell_type": "code",
   "execution_count": null,
   "id": "72175e69-8a4b-4023-8ce1-123cb1c33885",
   "metadata": {},
   "outputs": [],
   "source": []
  },
  {
   "cell_type": "code",
   "execution_count": null,
   "id": "7a1aea48-5ae5-462a-b1a7-b68e86e27278",
   "metadata": {},
   "outputs": [],
   "source": []
  }
 ],
 "metadata": {
  "kernelspec": {
   "display_name": "Python 3 (ipykernel)",
   "language": "python",
   "name": "python3"
  },
  "language_info": {
   "codemirror_mode": {
    "name": "ipython",
    "version": 3
   },
   "file_extension": ".py",
   "mimetype": "text/x-python",
   "name": "python",
   "nbconvert_exporter": "python",
   "pygments_lexer": "ipython3",
   "version": "3.8.2"
  }
 },
 "nbformat": 4,
 "nbformat_minor": 5
}
