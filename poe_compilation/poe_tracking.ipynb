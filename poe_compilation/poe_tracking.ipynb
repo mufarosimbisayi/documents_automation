{
 "cells": [
  {
   "cell_type": "markdown",
   "id": "90edf3fa-64ec-45a6-b243-c3255472eeab",
   "metadata": {},
   "source": [
    "**This notebook contains a script that creates saves and tracks POE documents**"
   ]
  },
  {
   "cell_type": "markdown",
   "id": "0ba9028d-96fa-4bc1-b69c-2e96d8718629",
   "metadata": {},
   "source": [
    "**Add local Library to Path**"
   ]
  },
  {
   "cell_type": "code",
   "execution_count": 2,
   "id": "69703163-c5d4-49f4-8953-822c2600bb18",
   "metadata": {},
   "outputs": [],
   "source": [
    "import os\n",
    "import sys\n",
    "\n",
    "module_path = os.path.abspath(os.path.join('..'))\n",
    "if module_path not in sys.path:\n",
    "    sys.path.append(module_path)\n",
    "    sys.path.append(module_path + '/local_library')"
   ]
  },
  {
   "cell_type": "markdown",
   "id": "a53757b2-660d-4625-82a7-4a1d5779dcca",
   "metadata": {},
   "source": [
    "**Import Library**"
   ]
  },
  {
   "cell_type": "code",
   "execution_count": 3,
   "id": "27f15040-7e89-4fdf-a748-1a7577a907e0",
   "metadata": {},
   "outputs": [
    {
     "name": "stdout",
     "output_type": "stream",
     "text": [
      "Your browser has been opened to visit:\n",
      "\n",
      "    https://accounts.google.com/o/oauth2/auth?client_id=1017190226189-f1d5s7cpjrj54u2rqk1ufh9pevguqoap.apps.googleusercontent.com&redirect_uri=http%3A%2F%2Flocalhost%3A8080%2F&scope=https%3A%2F%2Fwww.googleapis.com%2Fauth%2Fdrive&access_type=offline&response_type=code\n",
      "\n",
      "Authentication successful.\n"
     ]
    }
   ],
   "source": [
    "import pandas as pd\n",
    "import re\n",
    "from local_library import create_folder\n",
    "from local_library import import_worksheet\n",
    "from local_library import export_worksheet\n",
    "from local_library import get_documents_metadata"
   ]
  },
  {
   "cell_type": "markdown",
   "id": "02090966-7dc3-4fd6-92f7-270932ad81cf",
   "metadata": {},
   "source": [
    "**Import Data**"
   ]
  },
  {
   "cell_type": "code",
   "execution_count": 9,
   "id": "2cb1f229-198b-4dcd-8a7c-2464466f17f5",
   "metadata": {},
   "outputs": [],
   "source": [
    "#import cohort data\n",
    "cohort_df = import_worksheet(\"Cohort 2020 Data\", \"Cohort 2020 Data\")"
   ]
  },
  {
   "cell_type": "markdown",
   "id": "e951adbf-e1cf-4c93-9f05-4ccbc215b740",
   "metadata": {},
   "source": [
    "**Update Column Names**"
   ]
  },
  {
   "cell_type": "code",
   "execution_count": 10,
   "id": "f2351bb3-ca89-4250-be41-ab557d491095",
   "metadata": {},
   "outputs": [],
   "source": [
    "column_names = {\"Firstname\":\"learner_name\", \"Surname\": \"learner_surname\",\n",
    "                \"Student Email\":\"learner_email\", \"Middle Name/s\":\"middle_name\"\n",
    "               }\n",
    "\n",
    "cohort_df = cohort_df.rename(columns=column_names)"
   ]
  },
  {
   "cell_type": "markdown",
   "id": "6b487373-8e59-4342-858d-d23766f9e5f4",
   "metadata": {},
   "source": [
    "**Create Fullname**"
   ]
  },
  {
   "cell_type": "code",
   "execution_count": 11,
   "id": "9f991118-70e7-4f42-af6a-8aac2e81fb70",
   "metadata": {},
   "outputs": [],
   "source": [
    "cohort_df['middle_name'] = cohort_df['middle_name'].fillna(\"\")\n",
    "cohort_df['learner_name'] = cohort_df['learner_name'].str.strip().str.lower() + \" \" + cohort_df['middle_name'].str.strip().str.lower()\n",
    "cohort_df['learner_name'] = cohort_df['learner_name'].str.strip().str.title()\n",
    "cohort_df['learner_fullname'] = cohort_df['learner_name'].str.strip().str.lower() + \" \" + cohort_df['learner_surname'].str.strip().str.lower()\n",
    "cohort_df['learner_fullname'] = [re.sub(' +', ' ', fullname) for fullname in cohort_df['learner_fullname']]\n",
    "cohort_df['learner_fullname'] = cohort_df['learner_fullname'].str.title()\n"
   ]
  },
  {
   "cell_type": "markdown",
   "id": "4c44b21f-c263-45e4-809d-21dc67bad105",
   "metadata": {},
   "source": [
    "**Subset Useful Columns**"
   ]
  },
  {
   "cell_type": "code",
   "execution_count": 12,
   "id": "7d694f21-992f-4ca4-9073-828e83834e05",
   "metadata": {},
   "outputs": [],
   "source": [
    "column_names = ['Username', 'Campus', 'learner_email', 'learner_fullname']\n",
    "\n",
    "cohort_df = cohort_df[cohort_df['Active / Not active/Early absorption'] == 'Active']\n",
    "cohort_df = cohort_df[column_names]"
   ]
  },
  {
   "cell_type": "markdown",
   "id": "87f6dcbc-932c-4224-82be-b60cb68ad7ed",
   "metadata": {},
   "source": [
    "**Create Folder ID Column**"
   ]
  },
  {
   "cell_type": "code",
   "execution_count": 13,
   "id": "261ee924-6fed-4341-8325-440e151bb1c0",
   "metadata": {},
   "outputs": [
    {
     "data": {
      "text/plain": [
       "257"
      ]
     },
     "execution_count": 13,
     "metadata": {},
     "output_type": "execute_result"
    }
   ],
   "source": [
    "cohort_df['folder_id'] = ''\n",
    "len(cohort_df)"
   ]
  },
  {
   "cell_type": "markdown",
   "id": "0ceadfc6-d501-4a25-be69-c92781f0542f",
   "metadata": {},
   "source": [
    "**Create Folders**"
   ]
  },
  {
   "cell_type": "code",
   "execution_count": 14,
   "id": "65b7aa76-61ae-4e2f-9b20-8afa1fd69846",
   "metadata": {},
   "outputs": [],
   "source": [
    "#for index, row in cohort_df.iterrows():\n",
    "#    parent_id = create_folder(\"1W04tIGaWpqSgKsaP6xSjrUtP1OsVcaPX\",row['learner_fullname'])\n",
    "#    cohort_df.loc[cohort_df['learner_fullname'] == row['learner_fullname'], 'folder_id'] = parent_id"
   ]
  },
  {
   "cell_type": "markdown",
   "id": "bcc296b4-bf16-49f3-a3b9-a6b692d61cf8",
   "metadata": {},
   "source": [
    "**Add template IDS**"
   ]
  },
  {
   "cell_type": "code",
   "execution_count": 15,
   "id": "b8e66c1a-d107-4058-8933-60e30f210f55",
   "metadata": {},
   "outputs": [],
   "source": [
    "cohort_df['poe_instructions'] = 'feb67241-52f8-456c-917e-bdd0526619ee'\n",
    "cohort_df['learner_contract'] = '900be1ba-0b96-4386-a904-fb67069f168e'\n",
    "cohort_df['appeals_procedure'] = '589d226b-1c7e-441f-b99e-1d30a2d37761'\n",
    "cohort_df.loc[cohort_df['Campus'] == 'Johannesburg', 'assessment_contract'] = 'b48127ae-d278-467a-89b6-f6b3f010edb4'\n",
    "cohort_df.loc[cohort_df['Campus'] == 'Cape Town', 'assessment_contract'] = '9a6b58fc-a6f6-4fba-8508-4ef859d98088'\n",
    "cohort_df.loc[cohort_df['Campus'] == 'Johannesburg', 'preassessment_meeting'] = '2cec54b7-0ce3-4bd2-a9c5-29badf20d4f4'\n",
    "cohort_df.loc[cohort_df['Campus'] == 'Cape Town', 'preassessment_meeting'] = '83797d10-f3d4-409d-aa39-93565ccd60fd'\n",
    "cohort_df.loc[cohort_df['Campus'] == 'Durban', 'assessment_contract'] = '9a6b58fc-a6f6-4fba-8508-4ef859d98088'\n",
    "cohort_df.loc[cohort_df['Campus'] == 'Durban', 'preassessment_meeting'] = '83797d10-f3d4-409d-aa39-93565ccd60fd'"
   ]
  },
  {
   "cell_type": "code",
   "execution_count": 16,
   "id": "e8ba2d7a-10b4-447b-9f1b-b47142ae1584",
   "metadata": {},
   "outputs": [],
   "source": [
    "#Declaration of Authenticity\n",
    "#cohort_df['authenticity_declaration_status'] = ''\n",
    "cohort_df.loc[cohort_df['Campus'] == 'Johannesburg', 'authenticity_declaration'] = 'd2308911-b247-4957-b865-e76f504ef91f'\n",
    "cohort_df.loc[cohort_df['Campus'] != 'Johannesburg', 'authenticity_declaration'] = '78c858be-3acf-4c37-987d-672536c3196e'"
   ]
  },
  {
   "cell_type": "code",
   "execution_count": 17,
   "id": "8f040fb3-8d3c-4cff-b62e-718bd496382d",
   "metadata": {},
   "outputs": [],
   "source": [
    "#Program Evaluation\n",
    "#cohort_df['program_evaluation_status'] = ''\n",
    "cohort_df.loc[cohort_df['Campus'] == 'Johannesburg', 'program_evaluation'] = 'ecae0443-8f3c-44dd-b2ee-7194a4fde67b'\n",
    "cohort_df.loc[cohort_df['Campus'] != 'Johannesburg', 'program_evaluation'] = 'f97eb0a8-97a9-40c7-84df-29aaee7e9893'"
   ]
  },
  {
   "cell_type": "code",
   "execution_count": 18,
   "id": "0e54ad6c-97ea-4622-bb8f-c3a111d5eaa0",
   "metadata": {},
   "outputs": [],
   "source": [
    "#Logbook\n",
    "#cohort_df['logbook_status'] = ''\n",
    "cohort_df.loc[cohort_df['Campus'] == 'Johannesburg', 'logbook'] = 'f8c63d3d-fd0f-413f-a028-35dd9990b30d'\n",
    "cohort_df.loc[cohort_df['Campus'] != 'Johannesburg', 'logbook'] = '911ce292-ec38-4ef9-a8a0-b48b1adbef5f'"
   ]
  },
  {
   "cell_type": "markdown",
   "id": "06ef4a4a-0095-423a-b016-4e1b56577c21",
   "metadata": {},
   "source": [
    "**Save Database to Spreadsheet**"
   ]
  },
  {
   "cell_type": "code",
   "execution_count": 19,
   "id": "e0f64996-a37b-4adc-876c-ade03dc23a71",
   "metadata": {},
   "outputs": [],
   "source": [
    "#export_worksheet(\"POE Compilation\",\"POE Documents\", cohort_df)"
   ]
  },
  {
   "cell_type": "markdown",
   "id": "820a80d1-5fb5-4aa5-a42b-4670e11004ca",
   "metadata": {},
   "source": [
    "**Import POE Template Data**"
   ]
  },
  {
   "cell_type": "code",
   "execution_count": 5,
   "id": "149d5122-e1d3-469d-a36e-299f4c12d9af",
   "metadata": {},
   "outputs": [],
   "source": [
    "cohort_df = import_worksheet(\"POE Compilation\",\"Follow\")"
   ]
  },
  {
   "cell_type": "markdown",
   "id": "29a223fa-cbcc-4bd2-a5f6-5edadc4031ae",
   "metadata": {},
   "source": [
    "**Run Main Function**"
   ]
  },
  {
   "cell_type": "code",
   "execution_count": 6,
   "id": "f7606246-0b8a-49d1-8210-8aa8ee2710fc",
   "metadata": {},
   "outputs": [
    {
     "name": "stdout",
     "output_type": "stream",
     "text": [
      "preassessment_meeting\n",
      "authenticity_declaration\n",
      "poe_instructions\n",
      "learner_contract\n",
      "appeals_procedure\n",
      "assessment_contract\n",
      "program_evaluation\n",
      "logbook\n"
     ]
    }
   ],
   "source": [
    "#create document names            \n",
    "document_names = ['preassessment_meeting', 'authenticity_declaration', 'poe_instructions', 'learner_contract','appeals_procedure', 'assessment_contract','program_evaluation', 'logbook']\n",
    "\n",
    "for document_name in document_names:\n",
    "    get_documents_metadata(cohort_df, document_name, \"learner_email\")\n",
    "    print(document_name)"
   ]
  },
  {
   "cell_type": "markdown",
   "id": "5685873e-39e5-4b29-8906-9411ce11a4cc",
   "metadata": {},
   "source": [
    "**Save to POE tracking sheet**"
   ]
  },
  {
   "cell_type": "code",
   "execution_count": 7,
   "id": "27eadf2f-0a8a-48d7-8439-d5defcf94e99",
   "metadata": {},
   "outputs": [],
   "source": [
    "#export_worksheet(\"2020 SETA Submission Tracking Sheet\",\"POE Documents Data Dump\", cohort_df[['Username', 'Campus',\n",
    "#                'poe_instructions_status', 'learner_contract_status', 'appeals_procedure_status', 'assessment_contract_status',\n",
    "#                'preassessment_meeting_status', 'authenticity_declaration_status', 'program_evaluation_status', 'logbook_status']])\n"
   ]
  },
  {
   "cell_type": "markdown",
   "id": "ab2e91ed-2f57-47f0-937f-841710025bc1",
   "metadata": {},
   "source": [
    "**Save to POE Follow sheet**"
   ]
  },
  {
   "cell_type": "code",
   "execution_count": 8,
   "id": "99edbaaa-77cf-483e-8a8e-246d64623b64",
   "metadata": {},
   "outputs": [],
   "source": [
    "#export_worksheet(\"POE Compilation\",\"POE Follow\", cohort_df)\n"
   ]
  },
  {
   "cell_type": "code",
   "execution_count": null,
   "id": "48f069a7-c620-4255-8331-1bbf7209b413",
   "metadata": {},
   "outputs": [],
   "source": []
  },
  {
   "cell_type": "code",
   "execution_count": null,
   "id": "a9c9c658-3e69-4c8d-8ebc-736515397b0d",
   "metadata": {},
   "outputs": [],
   "source": []
  },
  {
   "cell_type": "code",
   "execution_count": null,
   "id": "2f145066-ae55-4770-9ac2-fcf6ed59d2f2",
   "metadata": {},
   "outputs": [],
   "source": []
  },
  {
   "cell_type": "code",
   "execution_count": 14,
   "id": "dee34965-3ed4-4485-9547-fd0e3b9796c3",
   "metadata": {},
   "outputs": [],
   "source": []
  },
  {
   "cell_type": "code",
   "execution_count": 15,
   "id": "6313b5a5-b348-408b-a92f-9ae634e87207",
   "metadata": {},
   "outputs": [],
   "source": []
  },
  {
   "cell_type": "code",
   "execution_count": null,
   "id": "d2ec0dd2-4056-4156-8d12-e1e2c47a6029",
   "metadata": {},
   "outputs": [],
   "source": []
  },
  {
   "cell_type": "code",
   "execution_count": null,
   "id": "a0b14d89-1321-489e-a0ec-f356e73bad19",
   "metadata": {},
   "outputs": [],
   "source": []
  }
 ],
 "metadata": {
  "kernelspec": {
   "display_name": "Python 3 (ipykernel)",
   "language": "python",
   "name": "python3"
  },
  "language_info": {
   "codemirror_mode": {
    "name": "ipython",
    "version": 3
   },
   "file_extension": ".py",
   "mimetype": "text/x-python",
   "name": "python",
   "nbconvert_exporter": "python",
   "pygments_lexer": "ipython3",
   "version": "3.8.2"
  }
 },
 "nbformat": 4,
 "nbformat_minor": 5
}
