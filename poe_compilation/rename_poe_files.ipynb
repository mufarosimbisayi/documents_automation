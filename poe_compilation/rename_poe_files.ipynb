{
 "cells": [
  {
   "cell_type": "markdown",
   "id": "9be0488d-de42-4914-8d47-271830dd9ac2",
   "metadata": {},
   "source": [
    "**This notebook contains a script that renames all some of the POE Documents file**"
   ]
  },
  {
   "cell_type": "markdown",
   "id": "38546928-15a6-4215-ab16-010fd22ffaee",
   "metadata": {},
   "source": [
    "**Add Local Library to Path**"
   ]
  },
  {
   "cell_type": "code",
   "execution_count": 1,
   "id": "7af22f05-22c7-4991-adb1-c6eb0331f536",
   "metadata": {},
   "outputs": [],
   "source": [
    "import os\n",
    "import sys\n",
    "\n",
    "module_path = os.path.abspath(os.path.join('..'))\n",
    "if module_path not in sys.path:\n",
    "    sys.path.append(module_path)\n",
    "    sys.path.append(module_path + '/local_library')"
   ]
  },
  {
   "cell_type": "markdown",
   "id": "ad9c03bc-7726-44d3-9fd8-8aba91d31018",
   "metadata": {},
   "source": [
    "**Import Libraries**"
   ]
  },
  {
   "cell_type": "code",
   "execution_count": 2,
   "id": "f9bd82b6-058d-46b9-893c-ddcaa1a43f75",
   "metadata": {},
   "outputs": [
    {
     "name": "stdout",
     "output_type": "stream",
     "text": [
      "Your browser has been opened to visit:\n",
      "\n",
      "    https://accounts.google.com/o/oauth2/auth?client_id=1017190226189-f1d5s7cpjrj54u2rqk1ufh9pevguqoap.apps.googleusercontent.com&redirect_uri=http%3A%2F%2Flocalhost%3A8080%2F&scope=https%3A%2F%2Fwww.googleapis.com%2Fauth%2Fdrive&access_type=offline&response_type=code\n",
      "\n",
      "Authentication successful.\n"
     ]
    }
   ],
   "source": [
    "import pandas as pd\n",
    "from local_library import list_files\n",
    "from local_library import import_worksheet\n",
    "from local_library import export_worksheet"
   ]
  },
  {
   "cell_type": "code",
   "execution_count": 3,
   "id": "60dcdb09-4810-4238-81ea-69538c246e0d",
   "metadata": {},
   "outputs": [
    {
     "name": "stdout",
     "output_type": "stream",
     "text": [
      "Your browser has been opened to visit:\n",
      "\n",
      "    https://accounts.google.com/o/oauth2/auth?client_id=1017190226189-f1d5s7cpjrj54u2rqk1ufh9pevguqoap.apps.googleusercontent.com&redirect_uri=http%3A%2F%2Flocalhost%3A8080%2F&scope=https%3A%2F%2Fwww.googleapis.com%2Fauth%2Fdrive&access_type=offline&response_type=code\n",
      "\n",
      "Authentication successful.\n"
     ]
    }
   ],
   "source": [
    "from pydrive.auth import GoogleAuth\n",
    "from pydrive.drive import GoogleDrive\n",
    "\n",
    "#authenticate Google\n",
    "gauth = GoogleAuth()\n",
    "gauth.LocalWebserverAuth()\n",
    "drive = GoogleDrive(gauth)"
   ]
  },
  {
   "cell_type": "markdown",
   "id": "11a68a45-736b-45b7-8747-bcfce22b1666",
   "metadata": {},
   "source": [
    "**Temp Library**"
   ]
  },
  {
   "cell_type": "code",
   "execution_count": 30,
   "id": "c8c07f51-170c-4979-95ad-c126cd7ccece",
   "metadata": {},
   "outputs": [],
   "source": [
    "def update_file_metadata(file):\n",
    "    \"\"\"\n",
    "    Updates the metadata of a google drive file\n",
    "    \n",
    "    Args:\n",
    "        file: A google drive file object\n",
    "        \n",
    "    Returns:\n",
    "        _: None\n",
    "    \"\"\"\n",
    "    \n",
    "    result = drive.auth.service.files().update(fileId=file['id'], body=file, supportsAllDrives=True).execute()\n",
    "    return None\n",
    "\n",
    "\n",
    "def update_file_names(folder_id, file_map={}):\n",
    "    \"\"\"\n",
    "    Updates the names of the files in a folder.\n",
    "    \n",
    "    Args:\n",
    "        folder_id: A string representing the ID of the folder.\n",
    "        file_map: A dictionary representing the files to be changed and the new names.\n",
    "        \n",
    "    Returns:\n",
    "        _: None\n",
    "    \"\"\"\n",
    "    \n",
    "    files = list_files(folder_id)\n",
    "    for file in files:\n",
    "        if file['title'] in file_map:\n",
    "            file['title'] = file_map[file['title']]\n",
    "            update_file_metadata(file)\n",
    "        if file['title'][:-4] in file_map:\n",
    "            file['title'] = file_map[file['title'][:-4]]\n",
    "            update_file_metadata(file)\n",
    "    \n",
    "    return None"
   ]
  },
  {
   "cell_type": "markdown",
   "id": "da45b001-bbfb-4cbd-96ce-53b32b546d6c",
   "metadata": {},
   "source": [
    "**Import Data**"
   ]
  },
  {
   "cell_type": "code",
   "execution_count": 35,
   "id": "03835f0e-8698-46b5-b9df-d5abe8746e22",
   "metadata": {},
   "outputs": [],
   "source": [
    "cohort_df = import_worksheet('POE Folders Compilation','Folders')"
   ]
  },
  {
   "cell_type": "markdown",
   "id": "d077f84d-fdf4-48c7-ac5d-c288e3c9b690",
   "metadata": {},
   "source": [
    "**Declare Files to Be Renamed**"
   ]
  },
  {
   "cell_type": "code",
   "execution_count": 38,
   "id": "284ecd99-6955-4187-96fa-d00426c6d3a1",
   "metadata": {},
   "outputs": [],
   "source": [
    "file_map = {\n",
    "    'poe_instructions':'1.POE Completion Instructions and Guidelines',\n",
    "    'learner_contract':'4.Learner Personal Information & Enrolment Form',\n",
    "    'assessment_contract':'5.Learner Assessment Contract and Assessment Application Form',\n",
    "    'authenticity_declaration':'6.Declaration of Authenticity',\n",
    "    'appeals_procedure':'7.Appeals Procedure and Appeals Form',\n",
    "    'preassessment_meeting':'8.Pre-Assessment Meeting',\n",
    "    'program_evaluation':'10.Learner Overall Programme Evaluation',\n",
    "    'logbook':'12.Logbook'\n",
    "}"
   ]
  },
  {
   "cell_type": "markdown",
   "id": "64ffa9af-1afe-443d-9f62-b71eebcb0891",
   "metadata": {},
   "source": [
    "**Execute Main Function**"
   ]
  },
  {
   "cell_type": "code",
   "execution_count": null,
   "id": "574584f9-5a3c-4ae7-9ec0-b70b46b64156",
   "metadata": {},
   "outputs": [],
   "source": [
    "for index, row in cohort_df[cohort_df['renamed'] != 'Yes'].iterrows():\n",
    "    \n",
    "    #log beginning\n",
    "    print(f\"{row['poe_folder_title']}: Renaming Started\")\n",
    "    \n",
    "    #rename files\n",
    "    update_file_names(row['documents_folder'],file_map)\n",
    "    \n",
    "    #log ending\n",
    "    cohort_df.loc[cohort_df['poe_folder_title'] == row['poe_folder_title'], 'renamed'] = 'Yes'\n",
    "    print(f\"{row['poe_folder_title']}: Renaming Started\")"
   ]
  },
  {
   "cell_type": "code",
   "execution_count": null,
   "id": "06ff406a-8645-47bd-b0ed-e4f1cd0f949c",
   "metadata": {},
   "outputs": [],
   "source": []
  },
  {
   "cell_type": "code",
   "execution_count": null,
   "id": "fd7090ab-59dd-402b-8eef-77c418abb7e0",
   "metadata": {},
   "outputs": [],
   "source": []
  },
  {
   "cell_type": "code",
   "execution_count": null,
   "id": "4f3c711d-edbf-4173-a41e-b07a6fe00c92",
   "metadata": {},
   "outputs": [],
   "source": []
  },
  {
   "cell_type": "code",
   "execution_count": null,
   "id": "58e5a8ef-f2f7-40b8-98bd-208a447605b0",
   "metadata": {},
   "outputs": [],
   "source": []
  },
  {
   "cell_type": "code",
   "execution_count": null,
   "id": "6c4ac457-699a-4b35-9355-6875e3a70298",
   "metadata": {},
   "outputs": [],
   "source": []
  }
 ],
 "metadata": {
  "kernelspec": {
   "display_name": "Python 3 (ipykernel)",
   "language": "python",
   "name": "python3"
  },
  "language_info": {
   "codemirror_mode": {
    "name": "ipython",
    "version": 3
   },
   "file_extension": ".py",
   "mimetype": "text/x-python",
   "name": "python",
   "nbconvert_exporter": "python",
   "pygments_lexer": "ipython3",
   "version": "3.8.2"
  }
 },
 "nbformat": 4,
 "nbformat_minor": 5
}
