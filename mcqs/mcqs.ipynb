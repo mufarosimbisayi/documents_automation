{
 "cells": [
  {
   "cell_type": "markdown",
   "id": "1c4d130e-cfb7-41e2-ba60-5f20cca58b1a",
   "metadata": {},
   "source": [
    "**This notebook contains a script that keeps track of student mcq marks**"
   ]
  },
  {
   "cell_type": "markdown",
   "id": "8383db1c-ead0-41aa-9301-d82ad4c0c467",
   "metadata": {},
   "source": [
    "**Add Local Library to Path**"
   ]
  },
  {
   "cell_type": "code",
   "execution_count": 1,
   "id": "7fd789cf-a56a-4d65-9e9f-9f5108eb4664",
   "metadata": {},
   "outputs": [],
   "source": [
    "import os\n",
    "import sys\n",
    "\n",
    "module_path = os.path.abspath(os.path.join('..'))\n",
    "if module_path not in sys.path:\n",
    "    sys.path.append(module_path)\n",
    "    sys.path.append(module_path + '/local_library')"
   ]
  },
  {
   "cell_type": "markdown",
   "id": "2a50b91b-f485-4d30-9c0f-8446ea299982",
   "metadata": {},
   "source": [
    "**Import Libraries**"
   ]
  },
  {
   "cell_type": "code",
   "execution_count": 2,
   "id": "79236ca9-18db-484d-bfcc-e194ae9ef678",
   "metadata": {},
   "outputs": [
    {
     "name": "stdout",
     "output_type": "stream",
     "text": [
      "Your browser has been opened to visit:\n",
      "\n",
      "    https://accounts.google.com/o/oauth2/auth?client_id=1017190226189-f1d5s7cpjrj54u2rqk1ufh9pevguqoap.apps.googleusercontent.com&redirect_uri=http%3A%2F%2Flocalhost%3A8080%2F&scope=https%3A%2F%2Fwww.googleapis.com%2Fauth%2Fdrive&access_type=offline&response_type=code\n",
      "\n",
      "Authentication successful.\n"
     ]
    }
   ],
   "source": [
    "import pandas as pd\n",
    "from local_library import import_worksheet\n",
    "from local_library import export_worksheet"
   ]
  },
  {
   "cell_type": "markdown",
   "id": "c51b18f4-25e5-4224-82f5-efa215d0eac2",
   "metadata": {},
   "source": [
    "**Import Data**"
   ]
  },
  {
   "cell_type": "code",
   "execution_count": 3,
   "id": "07096bbd-f09d-43cf-8caa-4537b5962c49",
   "metadata": {},
   "outputs": [],
   "source": [
    "#import usernames\n",
    "cohort_df = import_worksheet(\"Cohort 2021 Data\", \"Cohort 2021 Data\")\n",
    "cohort_df = cohort_df[['Username']]"
   ]
  },
  {
   "cell_type": "code",
   "execution_count": 4,
   "id": "4b6d33b8-987c-4530-b06c-42bdd59abfdd",
   "metadata": {},
   "outputs": [],
   "source": [
    "#import formative\n",
    "for i in range(1,13):\n",
    "    formative_df = import_worksheet(f\"Formative Assessment {i} (2021)\", \"Form Responses 1\")\n",
    "    formative_df['Username'] = [email.split(\"@\")[0].lower().strip() for email in formative_df['Email Address']]\n",
    "    formative_df = formative_df[[\"Username\", \"Score\"]]\n",
    "    maximum_number = formative_df['Score'].max()\n",
    "    formative_df['Score'] = [round((number/maximum_number) * 100, 1) for number in formative_df['Score']]\n",
    "    formative_df.columns = [\"Username\",f\"formative {i}\"]\n",
    "    cohort_df = cohort_df.merge(formative_df, on='Username', how='left')"
   ]
  },
  {
   "cell_type": "code",
   "execution_count": 5,
   "id": "8617b510-8767-415a-bea3-1afc2099ee26",
   "metadata": {},
   "outputs": [],
   "source": [
    "#import formative retries\n",
    "for i in range(1,13):\n",
    "    retry_df = import_worksheet(f\"Retry Formative Assessment {i} (2021)\", \"Form Responses 1\")\n",
    "    retry_df['Username'] = [email.split(\"@\")[0].lower().strip() for email in retry_df['Email Address']]\n",
    "    retry_df = retry_df[[\"Username\", \"Score\"]]\n",
    "    maximum_number = retry_df['Score'].max()\n",
    "    retry_df['Score'] = [round((number/maximum_number) * 100, 1) for number in retry_df['Score']]\n",
    "    retry_df.columns = [\"Username\",f\"retry {i}\"]\n",
    "    cohort_df = cohort_df.merge(retry_df, on='Username', how='left')"
   ]
  },
  {
   "cell_type": "code",
   "execution_count": 6,
   "id": "703b4587-913a-45e6-8fc5-1cffe149125d",
   "metadata": {},
   "outputs": [],
   "source": [
    "#import summative\n",
    "summative_df = import_worksheet(\"Summative Assessment (2021)\", \"Form Responses 1\")\n",
    "summative_df['Learner Username'] = [email.split(\"@\")[0].lower().strip() for email in summative_df['Email Address']]\n",
    "summative_df = summative_df[[\"Learner Username\",\"Score\"]]\n",
    "maximum_number = summative_df[\"Score\"].max()\n",
    "summative_df[\"Score\"] = [round((number/maximum_number) * 100, 1) for number in summative_df[\"Score\"]]\n",
    "summative_df.columns = [\"Username\", \"summative\"]\n",
    "cohort_df = cohort_df.merge(summative_df, on='Username', how='left')"
   ]
  },
  {
   "cell_type": "code",
   "execution_count": 7,
   "id": "23151e46-8d20-4b45-8fe9-73d5ef1c3778",
   "metadata": {},
   "outputs": [],
   "source": [
    "#import summative retry\n",
    "summative_df = import_worksheet(\"Retry Summative Assessment (2021)\", \"Form Responses 1\")\n",
    "summative_df['Learner Username'] = [email.split(\"@\")[0].lower().strip() for email in summative_df['Email Address']]\n",
    "summative_df = summative_df[[\"Learner Username\",\"Score\"]]\n",
    "maximum_number = summative_df[\"Score\"].max()\n",
    "summative_df[\"Score\"] = [round((number/maximum_number) * 100, 1) for number in summative_df[\"Score\"]]\n",
    "summative_df.columns = [\"Username\", \"summative retry\"]\n",
    "cohort_df = cohort_df.merge(summative_df, on='Username', how='left')"
   ]
  },
  {
   "cell_type": "code",
   "execution_count": 8,
   "id": "19347223-047f-4497-9cd1-31d1b5908a5a",
   "metadata": {},
   "outputs": [],
   "source": [
    "#cohort_df = cohort_df[cohort_df['Active / Not active/Early absorption'] == 'Active']"
   ]
  },
  {
   "cell_type": "markdown",
   "id": "cd77df3a-64a9-4bb0-b807-a52ec6730676",
   "metadata": {},
   "source": [
    "**Export Data**"
   ]
  },
  {
   "cell_type": "code",
   "execution_count": 8,
   "id": "37777e2e-f98d-4613-915f-0e6dce028fd3",
   "metadata": {},
   "outputs": [],
   "source": [
    "export_worksheet(\"MCQs Temp Sheet\",\"Sheet1\", cohort_df)"
   ]
  },
  {
   "cell_type": "code",
   "execution_count": 67,
   "id": "b493da8c-8ce9-425f-b108-ff0c2eb2b6ac",
   "metadata": {},
   "outputs": [],
   "source": []
  },
  {
   "cell_type": "code",
   "execution_count": null,
   "id": "46bb631d-1b17-46a0-89d2-bfddd2b51a65",
   "metadata": {},
   "outputs": [],
   "source": []
  },
  {
   "cell_type": "code",
   "execution_count": 70,
   "id": "ad1b22ef-7f56-4c3a-b486-89d6958e2454",
   "metadata": {},
   "outputs": [],
   "source": []
  },
  {
   "cell_type": "code",
   "execution_count": null,
   "id": "679d11c0-7669-4c69-a58c-081a1600dd0e",
   "metadata": {},
   "outputs": [],
   "source": []
  },
  {
   "cell_type": "code",
   "execution_count": null,
   "id": "77424347-b95a-4b09-9010-5a59222509db",
   "metadata": {},
   "outputs": [],
   "source": []
  },
  {
   "cell_type": "code",
   "execution_count": null,
   "id": "dbcd311f-f837-4781-984b-0e9a28013533",
   "metadata": {},
   "outputs": [],
   "source": []
  },
  {
   "cell_type": "code",
   "execution_count": null,
   "id": "252c938e-95ec-4621-82e5-78a6e64e9e6f",
   "metadata": {},
   "outputs": [],
   "source": []
  },
  {
   "cell_type": "code",
   "execution_count": null,
   "id": "7fc8ad5f-62ae-4608-9de7-9b59ec71c52f",
   "metadata": {},
   "outputs": [],
   "source": []
  },
  {
   "cell_type": "code",
   "execution_count": 83,
   "id": "db8f448c-4bcb-4fb8-852a-fda241406634",
   "metadata": {},
   "outputs": [],
   "source": []
  },
  {
   "cell_type": "code",
   "execution_count": null,
   "id": "96f92f76-3dcd-4086-b103-63fc9f708df3",
   "metadata": {},
   "outputs": [],
   "source": []
  },
  {
   "cell_type": "code",
   "execution_count": 57,
   "id": "d452d883-5d6f-4cde-afd6-c0632f280cdd",
   "metadata": {},
   "outputs": [],
   "source": []
  },
  {
   "cell_type": "code",
   "execution_count": 55,
   "id": "cc2dadc2-c3b1-4f03-869c-88a4cfa19423",
   "metadata": {},
   "outputs": [],
   "source": []
  },
  {
   "cell_type": "code",
   "execution_count": null,
   "id": "96574635-38df-4ad9-8da1-78c68d575523",
   "metadata": {},
   "outputs": [],
   "source": []
  },
  {
   "cell_type": "code",
   "execution_count": null,
   "id": "f4a391cd-0108-40e2-9b9b-b70d725cc77f",
   "metadata": {},
   "outputs": [],
   "source": []
  },
  {
   "cell_type": "code",
   "execution_count": null,
   "id": "5998f8df-5d9e-450a-be53-8e7cf84c358c",
   "metadata": {},
   "outputs": [],
   "source": []
  },
  {
   "cell_type": "code",
   "execution_count": null,
   "id": "cfbdb571-5cf8-4418-b8dc-6806547989b1",
   "metadata": {},
   "outputs": [],
   "source": []
  },
  {
   "cell_type": "code",
   "execution_count": null,
   "id": "262d6ad3-221a-4d97-bcbe-3c25672fc865",
   "metadata": {},
   "outputs": [],
   "source": []
  },
  {
   "cell_type": "code",
   "execution_count": null,
   "id": "57f7f4ec-eb35-4cac-9911-bbfa2d64994e",
   "metadata": {},
   "outputs": [],
   "source": []
  },
  {
   "cell_type": "code",
   "execution_count": null,
   "id": "84cd771e-3680-493b-8f71-39695242c1ae",
   "metadata": {},
   "outputs": [],
   "source": []
  },
  {
   "cell_type": "code",
   "execution_count": null,
   "id": "1835386d-2e4c-46df-b159-14babeed202e",
   "metadata": {},
   "outputs": [],
   "source": []
  }
 ],
 "metadata": {
  "kernelspec": {
   "display_name": "Python 3 (ipykernel)",
   "language": "python",
   "name": "python3"
  },
  "language_info": {
   "codemirror_mode": {
    "name": "ipython",
    "version": 3
   },
   "file_extension": ".py",
   "mimetype": "text/x-python",
   "name": "python",
   "nbconvert_exporter": "python",
   "pygments_lexer": "ipython3",
   "version": "3.8.2"
  }
 },
 "nbformat": 4,
 "nbformat_minor": 5
}
