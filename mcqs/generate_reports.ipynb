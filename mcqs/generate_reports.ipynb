{
 "cells": [
  {
   "cell_type": "markdown",
   "id": "48c8ee0d-0ff4-4d7c-b011-bc15fb7237b7",
   "metadata": {},
   "source": [
    "**This script generates the self study module reports based on the mcq data**"
   ]
  },
  {
   "cell_type": "markdown",
   "id": "65215ad3-4b5f-4712-8ac0-aa703cc80ade",
   "metadata": {},
   "source": [
    "**Add Local Library to Path**"
   ]
  },
  {
   "cell_type": "code",
   "execution_count": 1,
   "id": "f7e42d7d-6b02-4e27-9775-6d31b3f9916c",
   "metadata": {},
   "outputs": [],
   "source": [
    "import os\n",
    "import sys\n",
    "\n",
    "module_path = os.path.abspath(os.path.join('..'))\n",
    "if module_path not in sys.path:\n",
    "    sys.path.append(module_path)\n",
    "    sys.path.append(module_path + '/local_library')"
   ]
  },
  {
   "cell_type": "markdown",
   "id": "38387301-b198-4aa6-b7e5-dc392b1439e5",
   "metadata": {},
   "source": [
    "**Import Libraries**"
   ]
  },
  {
   "cell_type": "code",
   "execution_count": 2,
   "id": "e20ff655-2b88-4cde-9b50-2b1c5f091ed1",
   "metadata": {},
   "outputs": [
    {
     "name": "stdout",
     "output_type": "stream",
     "text": [
      "Your browser has been opened to visit:\n",
      "\n",
      "    https://accounts.google.com/o/oauth2/auth?client_id=1017190226189-f1d5s7cpjrj54u2rqk1ufh9pevguqoap.apps.googleusercontent.com&redirect_uri=http%3A%2F%2Flocalhost%3A8080%2F&scope=https%3A%2F%2Fwww.googleapis.com%2Fauth%2Fdrive&access_type=offline&response_type=code\n",
      "\n",
      "Authentication successful.\n"
     ]
    }
   ],
   "source": [
    "import pandas as pd\n",
    "from local_library import import_worksheet\n",
    "from local_library import export_worksheet"
   ]
  },
  {
   "cell_type": "markdown",
   "id": "4006ddff-cb2f-4052-accd-a36a433c6a83",
   "metadata": {},
   "source": [
    "**Import Test Spreadsheet**"
   ]
  },
  {
   "cell_type": "code",
   "execution_count": 3,
   "id": "2c13b8e9-6097-47fb-a723-0b4e0fcbd14b",
   "metadata": {},
   "outputs": [],
   "source": [
    "formative_df = import_worksheet(f\"Formative Assessment 1 (2021)\", \"Form Responses 1\")"
   ]
  },
  {
   "cell_type": "code",
   "execution_count": 4,
   "id": "05655255-1d2e-4ce8-bf99-55070957d992",
   "metadata": {},
   "outputs": [
    {
     "data": {
      "text/html": [
       "<div>\n",
       "<style scoped>\n",
       "    .dataframe tbody tr th:only-of-type {\n",
       "        vertical-align: middle;\n",
       "    }\n",
       "\n",
       "    .dataframe tbody tr th {\n",
       "        vertical-align: top;\n",
       "    }\n",
       "\n",
       "    .dataframe thead th {\n",
       "        text-align: right;\n",
       "    }\n",
       "</style>\n",
       "<table border=\"1\" class=\"dataframe\">\n",
       "  <thead>\n",
       "    <tr style=\"text-align: right;\">\n",
       "      <th></th>\n",
       "      <th>Timestamp</th>\n",
       "      <th>Email Address</th>\n",
       "      <th>Score</th>\n",
       "      <th>Username</th>\n",
       "      <th>Q 1 - Some types of Business Organisations are Sole Proprietor, Partnership, Limited Co, Private Co, Public (Ltd) Company.</th>\n",
       "      <th>Q 2 - The common objectives within which different business organisations operate are Buying &amp; Selling activity, Profit, Charity, Social Clubs.</th>\n",
       "      <th>Q 3 - The different business environments within which businesses operate are political, economic, social, technological, legal, environmental.</th>\n",
       "      <th>Q 4 - A system is a \"whole\" composed of \"parts\" in an orderly arrangement according to a plan.</th>\n",
       "      <th>Q 5 - Input - Process - Output are not theoretical components of a system.</th>\n",
       "      <th>Q 6 - Transaction Processing System (TPS), Knowledge Work System (KWS), Management Information Systems(MIS) are different types of information systems.</th>\n",
       "      <th>Q 7 - Computer applications in a business context collect, manage and use data for the benefit of the business.</th>\n",
       "      <th>Q 8 - Calculations, graphs and record keeping are some of the functions of computer applications in business.</th>\n",
       "      <th>Q 9 - Computer applications in a business context slow down and do not automate the business processes and systems.</th>\n",
       "      <th>Q 10 - Data is raw unprocessed material. Information is processed data.</th>\n",
       "      <th>Q 11 - Communication, Price Control, Quality Control, Marketing and Business Performance are impacted by information in the context of decision making in business.</th>\n",
       "      <th>Q 12 - Unauthorised access, Viruses, Disgruntled staff (sabotage) are the main threats to data security and integrity in the context of a business.</th>\n",
       "      <th>Q 13 - HR (Personnel), Production (Manufacturing), Marketing (Branding), Financial (Cash Flow), Administration (General) are the sub-systems that make up a business.</th>\n",
       "    </tr>\n",
       "  </thead>\n",
       "  <tbody>\n",
       "    <tr>\n",
       "      <th>0</th>\n",
       "      <td>6/14/2022 10:40:27</td>\n",
       "      <td>mmoss021@student.wethinkcode.co.za</td>\n",
       "      <td>11.0</td>\n",
       "      <td>mmoss021</td>\n",
       "      <td>True</td>\n",
       "      <td>1.0</td>\n",
       "      <td>The different business environments within whi...</td>\n",
       "      <td>True</td>\n",
       "      <td>True</td>\n",
       "      <td>1.0</td>\n",
       "      <td>True</td>\n",
       "      <td>True</td>\n",
       "      <td>False</td>\n",
       "      <td>1.0</td>\n",
       "      <td>1.0</td>\n",
       "      <td>True</td>\n",
       "      <td>True</td>\n",
       "    </tr>\n",
       "    <tr>\n",
       "      <th>1</th>\n",
       "      <td>6/14/2022 10:57:45</td>\n",
       "      <td>aganie021@student.wethinkcode.co.za</td>\n",
       "      <td>13.0</td>\n",
       "      <td>aganie021</td>\n",
       "      <td>True</td>\n",
       "      <td>1.0</td>\n",
       "      <td>True</td>\n",
       "      <td>True</td>\n",
       "      <td>False</td>\n",
       "      <td>1.0</td>\n",
       "      <td>True</td>\n",
       "      <td>True</td>\n",
       "      <td>False</td>\n",
       "      <td>1.0</td>\n",
       "      <td>1.0</td>\n",
       "      <td>True</td>\n",
       "      <td>True</td>\n",
       "    </tr>\n",
       "    <tr>\n",
       "      <th>2</th>\n",
       "      <td>6/14/2022 11:13:11</td>\n",
       "      <td>ssteenka021@student.wethinkcode.co.za</td>\n",
       "      <td>12.0</td>\n",
       "      <td>ssteenka021</td>\n",
       "      <td>True</td>\n",
       "      <td>1.0</td>\n",
       "      <td>True</td>\n",
       "      <td>True</td>\n",
       "      <td>True</td>\n",
       "      <td>1.0</td>\n",
       "      <td>True</td>\n",
       "      <td>True</td>\n",
       "      <td>False</td>\n",
       "      <td>1.0</td>\n",
       "      <td>1.0</td>\n",
       "      <td>True</td>\n",
       "      <td>True</td>\n",
       "    </tr>\n",
       "    <tr>\n",
       "      <th>3</th>\n",
       "      <td>6/14/2022 11:17:45</td>\n",
       "      <td>moejassi021@student.wethinkcode.co.za</td>\n",
       "      <td>13.0</td>\n",
       "      <td>moejassi021</td>\n",
       "      <td>True</td>\n",
       "      <td>1.0</td>\n",
       "      <td>True</td>\n",
       "      <td>True</td>\n",
       "      <td>False</td>\n",
       "      <td>1.0</td>\n",
       "      <td>True</td>\n",
       "      <td>True</td>\n",
       "      <td>False</td>\n",
       "      <td>1.0</td>\n",
       "      <td>1.0</td>\n",
       "      <td>True</td>\n",
       "      <td>True</td>\n",
       "    </tr>\n",
       "    <tr>\n",
       "      <th>4</th>\n",
       "      <td>6/14/2022 11:20:04</td>\n",
       "      <td>shanaick021@student.wethinkcode.co.za</td>\n",
       "      <td>13.0</td>\n",
       "      <td>shanaick021</td>\n",
       "      <td>True</td>\n",
       "      <td>1.0</td>\n",
       "      <td>True</td>\n",
       "      <td>True</td>\n",
       "      <td>False</td>\n",
       "      <td>1.0</td>\n",
       "      <td>True</td>\n",
       "      <td>True</td>\n",
       "      <td>False</td>\n",
       "      <td>1.0</td>\n",
       "      <td>1.0</td>\n",
       "      <td>True</td>\n",
       "      <td>True</td>\n",
       "    </tr>\n",
       "  </tbody>\n",
       "</table>\n",
       "</div>"
      ],
      "text/plain": [
       "            Timestamp                          Email Address  Score  \\\n",
       "0  6/14/2022 10:40:27     mmoss021@student.wethinkcode.co.za   11.0   \n",
       "1  6/14/2022 10:57:45    aganie021@student.wethinkcode.co.za   13.0   \n",
       "2  6/14/2022 11:13:11  ssteenka021@student.wethinkcode.co.za   12.0   \n",
       "3  6/14/2022 11:17:45  moejassi021@student.wethinkcode.co.za   13.0   \n",
       "4  6/14/2022 11:20:04  shanaick021@student.wethinkcode.co.za   13.0   \n",
       "\n",
       "      Username  \\\n",
       "0     mmoss021   \n",
       "1    aganie021   \n",
       "2  ssteenka021   \n",
       "3  moejassi021   \n",
       "4  shanaick021   \n",
       "\n",
       "  Q 1 - Some types of Business Organisations are Sole Proprietor, Partnership, Limited Co, Private Co, Public (Ltd) Company.  \\\n",
       "0                                               True                                                                           \n",
       "1                                               True                                                                           \n",
       "2                                               True                                                                           \n",
       "3                                               True                                                                           \n",
       "4                                               True                                                                           \n",
       "\n",
       "   Q 2 - The common objectives within which different business organisations operate are Buying & Selling activity, Profit, Charity, Social Clubs.  \\\n",
       "0                                                1.0                                                                                                 \n",
       "1                                                1.0                                                                                                 \n",
       "2                                                1.0                                                                                                 \n",
       "3                                                1.0                                                                                                 \n",
       "4                                                1.0                                                                                                 \n",
       "\n",
       "  Q 3 - The different business environments within which businesses operate are political, economic, social, technological, legal, environmental.  \\\n",
       "0  The different business environments within whi...                                                                                                \n",
       "1                                               True                                                                                                \n",
       "2                                               True                                                                                                \n",
       "3                                               True                                                                                                \n",
       "4                                               True                                                                                                \n",
       "\n",
       "  Q 4 - A system is a \"whole\" composed of \"parts\" in an orderly arrangement according to a plan.  \\\n",
       "0                                               True                                               \n",
       "1                                               True                                               \n",
       "2                                               True                                               \n",
       "3                                               True                                               \n",
       "4                                               True                                               \n",
       "\n",
       "  Q 5 - Input - Process - Output are not theoretical components of a system.  \\\n",
       "0                                               True                           \n",
       "1                                              False                           \n",
       "2                                               True                           \n",
       "3                                              False                           \n",
       "4                                              False                           \n",
       "\n",
       "   Q 6 - Transaction Processing System (TPS), Knowledge Work System (KWS), Management Information Systems(MIS) are different types of information systems.  \\\n",
       "0                                                1.0                                                                                                         \n",
       "1                                                1.0                                                                                                         \n",
       "2                                                1.0                                                                                                         \n",
       "3                                                1.0                                                                                                         \n",
       "4                                                1.0                                                                                                         \n",
       "\n",
       "  Q 7 - Computer applications in a business context collect, manage and use data for the benefit of the business.   \\\n",
       "0                                               True                                                                 \n",
       "1                                               True                                                                 \n",
       "2                                               True                                                                 \n",
       "3                                               True                                                                 \n",
       "4                                               True                                                                 \n",
       "\n",
       "  Q 8 - Calculations, graphs and record keeping are some of the functions of computer applications in business.  \\\n",
       "0                                               True                                                              \n",
       "1                                               True                                                              \n",
       "2                                               True                                                              \n",
       "3                                               True                                                              \n",
       "4                                               True                                                              \n",
       "\n",
       "  Q 9 - Computer applications in a business context slow down and do not automate the business processes and systems.  \\\n",
       "0                                              False                                                                    \n",
       "1                                              False                                                                    \n",
       "2                                              False                                                                    \n",
       "3                                              False                                                                    \n",
       "4                                              False                                                                    \n",
       "\n",
       "   Q 10 - Data is raw unprocessed material. Information is processed data.  \\\n",
       "0                                                1.0                         \n",
       "1                                                1.0                         \n",
       "2                                                1.0                         \n",
       "3                                                1.0                         \n",
       "4                                                1.0                         \n",
       "\n",
       "   Q 11 - Communication, Price Control, Quality Control, Marketing and Business Performance are impacted by information in the context of decision making in business.  \\\n",
       "0                                                1.0                                                                                                                     \n",
       "1                                                1.0                                                                                                                     \n",
       "2                                                1.0                                                                                                                     \n",
       "3                                                1.0                                                                                                                     \n",
       "4                                                1.0                                                                                                                     \n",
       "\n",
       "  Q 12 - Unauthorised access, Viruses, Disgruntled staff (sabotage) are the main threats to data security and integrity in the context of a business.  \\\n",
       "0                                               True                                                                                                    \n",
       "1                                               True                                                                                                    \n",
       "2                                               True                                                                                                    \n",
       "3                                               True                                                                                                    \n",
       "4                                               True                                                                                                    \n",
       "\n",
       "  Q 13 - HR (Personnel), Production (Manufacturing), Marketing (Branding), Financial (Cash Flow), Administration (General) are the sub-systems that make up a business.  \n",
       "0                                               True                                                                                                                     \n",
       "1                                               True                                                                                                                     \n",
       "2                                               True                                                                                                                     \n",
       "3                                               True                                                                                                                     \n",
       "4                                               True                                                                                                                     "
      ]
     },
     "execution_count": 4,
     "metadata": {},
     "output_type": "execute_result"
    }
   ],
   "source": [
    "formative_df.head()"
   ]
  },
  {
   "cell_type": "code",
   "execution_count": 5,
   "id": "65c507ac-8c0b-454d-b76f-e491b8c9b8e9",
   "metadata": {},
   "outputs": [],
   "source": [
    "from reportlab.pdfgen.canvas import Canvas"
   ]
  },
  {
   "cell_type": "code",
   "execution_count": 6,
   "id": "924d02f5-4c6f-43df-b9d3-a3743c3f76eb",
   "metadata": {},
   "outputs": [],
   "source": [
    "canvas = Canvas(\"hello.pdf\")"
   ]
  },
  {
   "cell_type": "code",
   "execution_count": 10,
   "id": "d3dd73b8-f532-4d76-bf6e-41606becb979",
   "metadata": {},
   "outputs": [
    {
     "ename": "TypeError",
     "evalue": "drawString() missing 2 required positional arguments: 'y' and 'text'",
     "output_type": "error",
     "traceback": [
      "\u001b[0;31m---------------------------------------------------------------------------\u001b[0m",
      "\u001b[0;31mTypeError\u001b[0m                                 Traceback (most recent call last)",
      "\u001b[0;32m/var/folders/33/s663vbhn2v1f4q409xh14zkh0000gn/T/ipykernel_62814/2196773360.py\u001b[0m in \u001b[0;36m<module>\u001b[0;34m\u001b[0m\n\u001b[0;32m----> 1\u001b[0;31m \u001b[0mcanvas\u001b[0m\u001b[0;34m.\u001b[0m\u001b[0mdrawString\u001b[0m\u001b[0;34m(\u001b[0m\u001b[0;34m\"Formative Assessment 1\"\u001b[0m\u001b[0;34m)\u001b[0m\u001b[0;34m\u001b[0m\u001b[0;34m\u001b[0m\u001b[0m\n\u001b[0m",
      "\u001b[0;31mTypeError\u001b[0m: drawString() missing 2 required positional arguments: 'y' and 'text'"
     ]
    }
   ],
   "source": [
    "canvas.drawString(72, 72, \"Formative Assessment 1\")"
   ]
  },
  {
   "cell_type": "code",
   "execution_count": 9,
   "id": "de8fca30-d35c-4757-b3f8-62627553300d",
   "metadata": {},
   "outputs": [],
   "source": [
    "canvas.save()"
   ]
  },
  {
   "cell_type": "code",
   "execution_count": null,
   "id": "9a047583-e328-41c6-aa91-9a534c2a2102",
   "metadata": {},
   "outputs": [],
   "source": []
  },
  {
   "cell_type": "code",
   "execution_count": null,
   "id": "7ac39b54-872d-4799-8ec3-56a864e067c7",
   "metadata": {},
   "outputs": [],
   "source": []
  },
  {
   "cell_type": "code",
   "execution_count": null,
   "id": "af7b39a0-c241-4ea9-91f5-4efd5755c10b",
   "metadata": {},
   "outputs": [],
   "source": []
  },
  {
   "cell_type": "code",
   "execution_count": null,
   "id": "0c82d369-30cd-48f7-b9d7-e94f1c3f30f8",
   "metadata": {},
   "outputs": [],
   "source": []
  },
  {
   "cell_type": "code",
   "execution_count": null,
   "id": "00f29885-8aa8-4fa5-bfb0-8a121f1a8139",
   "metadata": {},
   "outputs": [],
   "source": []
  },
  {
   "cell_type": "code",
   "execution_count": null,
   "id": "9b463d1b-7525-482f-9d8d-2b9638652d5c",
   "metadata": {},
   "outputs": [],
   "source": []
  },
  {
   "cell_type": "code",
   "execution_count": null,
   "id": "5b7a5741-7300-492f-bd93-5eef0c6fa980",
   "metadata": {},
   "outputs": [],
   "source": []
  },
  {
   "cell_type": "code",
   "execution_count": null,
   "id": "524b2bc2-14b4-4202-b5f8-72bb266acd1e",
   "metadata": {},
   "outputs": [],
   "source": []
  }
 ],
 "metadata": {
  "kernelspec": {
   "display_name": "Python 3 (ipykernel)",
   "language": "python",
   "name": "python3"
  },
  "language_info": {
   "codemirror_mode": {
    "name": "ipython",
    "version": 3
   },
   "file_extension": ".py",
   "mimetype": "text/x-python",
   "name": "python",
   "nbconvert_exporter": "python",
   "pygments_lexer": "ipython3",
   "version": "3.8.2"
  }
 },
 "nbformat": 4,
 "nbformat_minor": 5
}
