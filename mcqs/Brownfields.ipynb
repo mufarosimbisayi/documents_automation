{
 "cells": [
  {
   "cell_type": "markdown",
   "id": "6e9d9275-9f30-46f4-a43c-612bfef30ac8",
   "metadata": {},
   "source": [
    "**This notebook contains a script that takes brownfields evidence, combines it and saves the links to the evidence in a spreadsheet**"
   ]
  },
  {
   "cell_type": "markdown",
   "id": "b67816c1-843d-4c53-b4f6-9632e78b5617",
   "metadata": {},
   "source": [
    "**Add Local Library to Path**"
   ]
  },
  {
   "cell_type": "code",
   "execution_count": 1,
   "id": "40285006-ced2-4543-89f8-84e24a2f989f",
   "metadata": {},
   "outputs": [],
   "source": [
    "import os\n",
    "import sys\n",
    "\n",
    "module_path = os.path.abspath(os.path.join('..'))\n",
    "if module_path not in sys.path:\n",
    "    sys.path.append(module_path)\n",
    "    sys.path.append(module_path + '/local_library')"
   ]
  },
  {
   "cell_type": "markdown",
   "id": "81112121-49c9-46ab-a772-a343d870a97c",
   "metadata": {},
   "source": [
    "**Import Library**"
   ]
  },
  {
   "cell_type": "code",
   "execution_count": 2,
   "id": "aa9ed685-a50b-4745-912a-b82517b2a849",
   "metadata": {},
   "outputs": [
    {
     "name": "stdout",
     "output_type": "stream",
     "text": [
      "Your browser has been opened to visit:\n",
      "\n",
      "    https://accounts.google.com/o/oauth2/auth?client_id=1017190226189-f1d5s7cpjrj54u2rqk1ufh9pevguqoap.apps.googleusercontent.com&redirect_uri=http%3A%2F%2Flocalhost%3A8080%2F&scope=https%3A%2F%2Fwww.googleapis.com%2Fauth%2Fdrive&access_type=offline&response_type=code\n",
      "\n",
      "Authentication successful.\n"
     ]
    }
   ],
   "source": [
    "import pandas as pd\n",
    "from local_library import import_worksheet\n",
    "from local_library import export_worksheet"
   ]
  },
  {
   "cell_type": "markdown",
   "id": "e3682158-972e-4390-92d5-de21b8a58c4b",
   "metadata": {},
   "source": [
    "**Import Data**"
   ]
  },
  {
   "cell_type": "code",
   "execution_count": 3,
   "id": "faf45d19-f245-4cf2-8a1e-6922d947cdf5",
   "metadata": {},
   "outputs": [],
   "source": [
    "report_df = import_worksheet(\"Brownfields Blog/Report Submission  (Responses)\", \"Form Responses 1\")\n",
    "video_df = import_worksheet(\"Brownfields Demonstration Video Submission  (Responses)\", \"Form Responses 1\")"
   ]
  },
  {
   "cell_type": "markdown",
   "id": "15a92d22-c3d3-4527-89b3-dccecb292e0e",
   "metadata": {},
   "source": [
    "**Set Usernames**"
   ]
  },
  {
   "cell_type": "code",
   "execution_count": 6,
   "id": "3bdc15b0-fff7-4b09-9f55-446384ba4de0",
   "metadata": {},
   "outputs": [],
   "source": [
    "report_df['Username'] = [email.split(\"@\")[0].lower().strip() for email in report_df['Email Address']]\n",
    "video_df['Username'] = [email.split(\"@\")[0].lower().strip() for email in video_df['Email Address']]"
   ]
  },
  {
   "cell_type": "markdown",
   "id": "bc2fcf6e-6fb5-4e6a-af92-169c7906e5d4",
   "metadata": {},
   "source": [
    "**Subset Useful Columns**"
   ]
  },
  {
   "cell_type": "code",
   "execution_count": 9,
   "id": "5b8e9f49-5630-4215-bd47-1d48a71fbc13",
   "metadata": {},
   "outputs": [],
   "source": [
    "report_columns = ['Username','Blog/Report (medium.com) Link.']\n",
    "video_columns = ['Username', 'YouTube Link.']\n",
    "\n",
    "report_df = report_df[report_columns]\n",
    "video_df = video_df[video_columns]"
   ]
  },
  {
   "cell_type": "markdown",
   "id": "7ea9bb76-ad63-40fd-9dc8-4b01bae39f33",
   "metadata": {},
   "source": [
    "**Import Usernames**"
   ]
  },
  {
   "cell_type": "code",
   "execution_count": 11,
   "id": "a977fa0a-4181-4550-9e71-39707ad44323",
   "metadata": {},
   "outputs": [],
   "source": [
    "#import usernames\n",
    "cohort_df = import_worksheet(\"Cohort 2021 Data\", \"Cohort 2021 Data\")\n",
    "cohort_df = cohort_df[['Username']]"
   ]
  },
  {
   "cell_type": "markdown",
   "id": "c28d913c-748e-4ad1-9d8a-e9a7f7820cde",
   "metadata": {},
   "source": [
    "**Merge Data**"
   ]
  },
  {
   "cell_type": "code",
   "execution_count": 13,
   "id": "e29bc9b7-975c-4357-b54e-cfce211a52c3",
   "metadata": {},
   "outputs": [],
   "source": [
    "cohort_df = cohort_df.merge(report_df, on='Username', how='left')\n",
    "cohort_df = cohort_df.merge(video_df, on='Username', how='left')"
   ]
  },
  {
   "cell_type": "markdown",
   "id": "4c5a33fd-3c2b-406f-b86d-ae311f9355de",
   "metadata": {},
   "source": [
    "**Export Data**"
   ]
  },
  {
   "cell_type": "code",
   "execution_count": 16,
   "id": "2f5880b1-b825-445f-9e6a-26ec557e0495",
   "metadata": {},
   "outputs": [],
   "source": [
    "export_worksheet(\"2021 SETA Submission Tracking Sheet\",\"Brownfields Module Data Dump\", cohort_df)"
   ]
  },
  {
   "cell_type": "code",
   "execution_count": null,
   "id": "aa4c5ce8-5dac-44db-98a6-87ead117adff",
   "metadata": {},
   "outputs": [],
   "source": []
  },
  {
   "cell_type": "code",
   "execution_count": null,
   "id": "4e83f765-c363-4755-a46f-f13f32dd554a",
   "metadata": {},
   "outputs": [],
   "source": []
  },
  {
   "cell_type": "code",
   "execution_count": null,
   "id": "c31275b4-491a-4c71-98b6-4645d3378348",
   "metadata": {},
   "outputs": [],
   "source": []
  },
  {
   "cell_type": "code",
   "execution_count": null,
   "id": "3a55f8db-8091-4e55-8143-d434204bfbd2",
   "metadata": {},
   "outputs": [],
   "source": []
  },
  {
   "cell_type": "code",
   "execution_count": null,
   "id": "04fc41b4-53b6-4fed-941c-f031aa589b5c",
   "metadata": {},
   "outputs": [],
   "source": []
  },
  {
   "cell_type": "code",
   "execution_count": null,
   "id": "12a9e7fc-b502-4cab-b7de-b5c2467982ea",
   "metadata": {},
   "outputs": [],
   "source": []
  },
  {
   "cell_type": "code",
   "execution_count": null,
   "id": "552d231b-3363-482e-9bb3-f9fa00a7934b",
   "metadata": {},
   "outputs": [],
   "source": []
  },
  {
   "cell_type": "code",
   "execution_count": null,
   "id": "2cd6c3bf-5ba2-4735-a655-37eed44dc460",
   "metadata": {},
   "outputs": [],
   "source": []
  },
  {
   "cell_type": "code",
   "execution_count": null,
   "id": "256c13e1-9907-4a19-9cb8-f985f4d06b6a",
   "metadata": {},
   "outputs": [],
   "source": []
  }
 ],
 "metadata": {
  "kernelspec": {
   "display_name": "Python 3 (ipykernel)",
   "language": "python",
   "name": "python3"
  },
  "language_info": {
   "codemirror_mode": {
    "name": "ipython",
    "version": 3
   },
   "file_extension": ".py",
   "mimetype": "text/x-python",
   "name": "python",
   "nbconvert_exporter": "python",
   "pygments_lexer": "ipython3",
   "version": "3.8.2"
  }
 },
 "nbformat": 4,
 "nbformat_minor": 5
}
