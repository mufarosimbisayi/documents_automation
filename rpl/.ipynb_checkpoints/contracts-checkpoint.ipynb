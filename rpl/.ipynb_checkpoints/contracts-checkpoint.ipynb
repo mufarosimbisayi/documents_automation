{
 "cells": [
  {
   "cell_type": "markdown",
   "id": "16d48b9d-124b-4ebf-9ab2-aad633e65a50",
   "metadata": {},
   "source": [
    "***This notebook contains a script that sends Student Contracts to Students for signing***"
   ]
  },
  {
   "cell_type": "markdown",
   "id": "6011fb6b-ff7a-403f-9615-355c37472b32",
   "metadata": {},
   "source": [
    "**Add local library to path**"
   ]
  },
  {
   "cell_type": "code",
   "execution_count": 32,
   "id": "3528009f-3f6c-4ddf-8e19-3b90c9241f6b",
   "metadata": {},
   "outputs": [],
   "source": [
    "import os\n",
    "import sys\n",
    "\n",
    "module_path = os.path.abspath(os.path.join('..'))\n",
    "if module_path not in sys.path:\n",
    "    sys.path.append(module_path)\n",
    "    sys.path.append(module_path + '/local_library')"
   ]
  },
  {
   "cell_type": "markdown",
   "id": "62f9ef94-d020-497c-a6e9-295d48584446",
   "metadata": {},
   "source": [
    "***Import Libraries***"
   ]
  },
  {
   "cell_type": "code",
   "execution_count": 33,
   "id": "217879e8-c93d-433c-b29b-64b866d28084",
   "metadata": {},
   "outputs": [],
   "source": [
    "import pandas as pd\n",
    "import requests\n",
    "import json\n",
    "from datetime import date\n",
    "from local_library import import_worksheet\n",
    "from local_library import export_worksheet\n",
    "from local_library import send_bulk_signrequest"
   ]
  },
  {
   "cell_type": "markdown",
   "id": "efe4a3d5-320d-4cc5-ad7c-c1a657c8f911",
   "metadata": {},
   "source": [
    "***Local Functions Library***"
   ]
  },
  {
   "cell_type": "code",
   "execution_count": 34,
   "id": "d9cf55c2-d58a-4a5e-aa89-6e81be88aaed",
   "metadata": {},
   "outputs": [],
   "source": [
    "def convert_phone_to_string(target_df, column):\n",
    "    \"\"\"\n",
    "    Converts phone number column to a string type.\n",
    "    \n",
    "    Args:\n",
    "        target_df: The dataframe containing the column to be converted.\n",
    "        column: The column to be converted.\n",
    "        \n",
    "    Returns:\n",
    "        N/A\n",
    "    \"\"\"\n",
    "    \n",
    "    #convert to string\n",
    "    target_df[column] = target_df[column].astype(str)\n",
    "    \n",
    "    #convert to float\n",
    "    target_df[column] = target_df[column].astype(float)\n",
    "    \n",
    "    #convert to int\n",
    "    target_df[column] = target_df[column].astype(int)\n",
    "    \n",
    "    #convert to string\n",
    "    target_df[column] = target_df[column].astype(str)\n",
    "    \n",
    "    \n",
    "def create_rpl_dataframe():\n",
    "    \"\"\"\n",
    "    Creates a dataframe for populating rpl registration documents\n",
    "    \n",
    "    Args:\n",
    "        N/A\n",
    "        \n",
    "    Returns:\n",
    "        rpl_form_df: A dataframe for populating rpl registration documents\n",
    "    \"\"\"\n",
    "    \n",
    "    #import rpl seta registration form\n",
    "    rpl_form_df = import_worksheet(\"SETA Registration Form (Responses)\", \"Form Responses 1\")\n",
    "    \n",
    "    #create learner fullname\n",
    "    rpl_form_df['learner_fullname'] = rpl_form_df['Learner Name'] + \" \" + rpl_form_df['Learner Surname']\n",
    "    \n",
    "    #create learner_initials\n",
    "    rpl_form_df[\"learner_initials\"] = [name.split()[0][0] + \".\" + name.split()[1][0] for name in rpl_form_df['Learner Name'] + \" \" + rpl_form_df['Learner Surname']]\n",
    "    \n",
    "    #create learner passport\n",
    "    rpl_form_df[\"learner_passport\"] = [passport if len(str(passport)) != 13 else \" \" for passport in rpl_form_df[\"Learner ID\"]]\n",
    "    \n",
    "    #create learner equity code\n",
    "    rpl_form_df[\"learner_equity\"] = rpl_form_df[\"Ethnicity\"].map({\"Black African\": \"BA\", \"Black Coloured\":\"BC\",\n",
    "                                                                \"Black Indian/Asian\":\"BI\", \"White\":\"WH\", \"Uknown\":\"U\"})\n",
    "    \n",
    "    #create learner nationality\n",
    "    rpl_form_df[\"learner_nationality\"] = rpl_form_df[\"Nationality\"].map({\"Unspecified\":\"U\", \"South Africa\":\"SA\", \"SADC\":\"SDC\",\n",
    "                                                                    \"Namibia\":\"NAM\", \"Botswana\":\"BOT\", \"Zimbabwe\":\"ZIM\", \"Angola\":\"ANG\",\n",
    "                                                                    \"Mozambique\":\"MOZ\", \"Lesotho\":\"LES\", \"Lesotho\":\"LES\", \"Swaziland\":\"SWA\",\n",
    "                                                                    \"Malawi\":\"MAL\", \"Zambia\":\"ZAM\", \"Mauritius\":\"MAU\", \"Tanzania\":\"TAN\",\n",
    "                                                                    \"Seychelles\":\"SEY\", \"Zaire\":\"ZAI\", \"Rest of Africa\":\"ROA\",\n",
    "                                                                     \"European countries\":\"EUR\", \"Asian countries\":\"AIS\",\n",
    "                                                                     \"North American countries\":\"NOR\", \"Central and South American countries\":\"SOU\",\n",
    "                                                                    \"Australia and New Zealand\":\"AUS\", \"Other and rest of Oceania\":\"OOC\"})\n",
    "    \n",
    "    #create learner citizenship\n",
    "    rpl_form_df[\"learner_citizenship\"] = rpl_form_df[\"Citizen/Residence status\"].map({\"Unknown\":\"U\", \"South Africa\":\"SA\",\n",
    "                                                                                  \"Other\":\"O\", \"Dual\":\"D\"})\n",
    "    \n",
    "    #create learner language\n",
    "    rpl_form_df[\"learner_language\"] = rpl_form_df[\"Home Language\"].map({\"English\":\"ENG\", \"Afrikaans\":\"AFR\", \"Other\":\"OTH\",\n",
    "                                                                   \"sePedi\":\"SEP\", \"seSotho\":\"SES\", \"seTswana\":\"SET\",\n",
    "                                                                   \"siSwati\":\"SWA\", \"tshiVenda\":\"TSH\", \"Uknown\":\"U\",\n",
    "                                                                   \"isiXhosa\":\"XHO\", \"xiTsonga\":\"XIT\", \"isiZulu\":\"ZUL\",\n",
    "                                                                   \"siNdebele\":\"NDE\"})\n",
    "    \n",
    "    #create learner socio economic status\n",
    "    rpl_form_df[\"learner_socioeconomic\"] = \"01\"\n",
    "    \n",
    "    #create learner disability\n",
    "    rpl_form_df[\"learner_disability\"] = rpl_form_df[\"Disability Status\"].map({\"None\":\"N\", \"Sight (even with glasses)\":\"01\", \"Hearing (even with hearing aid)\":\"02\",\n",
    "                                                                         \"Communication (talking, listening)\":\"03\", \"Physical (moving, standing, grasping)\":\"04\",\n",
    "                                                                         \"Intellectual (difficulties in learning)\":\"05\", \"Emotional (behavioural or psychological)\":\"06\",\n",
    "                                                                         \"Multiple\":\"07\", \"Disabled but unspecified\":\"09\", \"Uknown\":\"U\"})\n",
    "    \n",
    "    #create province code\n",
    "    rpl_form_df[\"learner_province\"] = rpl_form_df[\"Province\"].map({\"Gauteng\":\"8\", \"Western Cape\":\"2\", \"Eastern Cape\":\"3\", \"Northern Cape\":\"4\",\n",
    "                                                               \"Free State\":\"5\", \"Limpopo\":\"10\", \"Kwazulu-Natal\":\"6\", \"Mpumalanga\":\"9\",\n",
    "                                                              \"North West\":\"7\", \"Undefined\":\"1\"})\n",
    "    \n",
    "    #convert phone to string\n",
    "    convert_phone_to_string(rpl_form_df,\"Learner Phone\")\n",
    "    \n",
    "    #create learner designation\n",
    "    rpl_form_df[\"learner_designation\"] = \"RPL candidate\"\n",
    "    \n",
    "    #rename columns\n",
    "    rpl_form_df = rpl_form_df.rename(columns={\"Learner ID\":\"learner_id\", \n",
    "                                \"Which company did(do) you work for? The answer is  WeThinkCode_ if you are a student or you are unemployed.\":\"learner_company\",\n",
    "                                \"Learner Title\":\"learner_title\", \"Learner Name\":\"learner_name\", \"Learner Surname\":\"learner_surname\", \"Birth Date\":\"learner_birthdate\",\n",
    "                                \"Gender\":\"learner_gender\", \"Postal Address (If different from Home Address)\":\"learner_postal_address\", \"Home Address\":\"learner_home_address\",\n",
    "                                \"Learner Phone\":\"learner_phone\", \"Learner Email\":\"learner_email\", \"Full name of contact person at company of employment.\":\"learner_contact\",\n",
    "                                \"Phone number of contact person at company of employment.\":\"learner_contact_phone\"})\n",
    "    \n",
    "    #subset columns\n",
    "    column_name = [\"learner_name\", \"learner_surname\",'learner_fullname', 'learner_initials',\n",
    "                   'learner_passport','learner_equity', 'learner_nationality', 'learner_citizenship',\n",
    "                   'learner_language', 'learner_socioeconomic', 'learner_disability','learner_province', 'learner_designation',\n",
    "                  \"learner_id\", \"learner_company\", \"learner_title\", \"learner_birthdate\", \"learner_gender\", \"learner_postal_address\",\n",
    "                  \"learner_home_address\", \"learner_phone\", \"learner_email\", \"learner_contact\", \"learner_contact_phone\"]\n",
    "    \n",
    "    #replace all null values\n",
    "    rpl_form_df.fillna('  ', inplace=True)\n",
    "    \n",
    "    return rpl_form_df[column_name]\n",
    "\n"
   ]
  },
  {
   "cell_type": "markdown",
   "id": "62e4db0c-fa9d-4009-a399-496de97f9f89",
   "metadata": {},
   "source": [
    "**Create Contract DataFrame**"
   ]
  },
  {
   "cell_type": "code",
   "execution_count": 35,
   "id": "7d1fe3df-4e91-4996-8a1e-410581f1ae79",
   "metadata": {},
   "outputs": [],
   "source": [
    "rpl_df = create_rpl_dataframe()"
   ]
  },
  {
   "cell_type": "markdown",
   "id": "11e18a35-d897-4cb9-8149-ee9221735d73",
   "metadata": {},
   "source": [
    "***Send POE Instructions Document***"
   ]
  },
  {
   "cell_type": "code",
   "execution_count": 37,
   "id": "402048b6-3bf5-40e8-8ed7-159201cc3480",
   "metadata": {},
   "outputs": [
    {
     "name": "stdout",
     "output_type": "stream",
     "text": [
      "Signer: empoweryourself36@gmail.com , Status: 201\n",
      "Signer: solomonyedidia@gmail.com , Status: 201\n"
     ]
    }
   ],
   "source": [
    "#create target columns\n",
    "poe_instructions_columns = ['learner_fullname', 'learner_id', 'learner_initials', 'learner_company', 'learner_email']\n",
    "\n",
    "#create template column\n",
    "rpl_df['poe_instructions_template_column'] = \"feb67241-52f8-456c-917e-bdd0526619ee\"\n",
    "\n",
    "#send poe instructions through signrequests in bulk\n",
    "#send_bulk_signrequest(rpl_df, poe_instructions_columns, 'poe_instructions_template_column')"
   ]
  },
  {
   "cell_type": "markdown",
   "id": "74af6d6d-0128-4396-9903-107e96bedcbe",
   "metadata": {},
   "source": [
    "**Send Learner Contract Document**"
   ]
  },
  {
   "cell_type": "code",
   "execution_count": 38,
   "id": "7bc4dc20-b56f-471d-b0d4-1ff7b7ea2ab4",
   "metadata": {},
   "outputs": [
    {
     "name": "stdout",
     "output_type": "stream",
     "text": [
      "Signer: empoweryourself36@gmail.com , Status: 201\n",
      "Signer: solomonyedidia@gmail.com , Status: 201\n"
     ]
    }
   ],
   "source": [
    "#create target columns\n",
    "learner_contract_columns = ['learner_title', 'learner_name', 'learner_surname', 'learner_birthdate', 'learner_id', 'learner_passport',\n",
    "                           'learner_equity', 'learner_nationality', 'learner_gender', 'learner_citizenship', 'learner_language',\n",
    "                           'learner_socioeconomic', 'learner_disability', 'learner_home_address', 'learner_postal_address',\n",
    "                           'learner_province', 'learner_phone', 'learner_email', 'learner_company', 'learner_contact', 'learner_contact_phone',\n",
    "                           'learner_designation']\n",
    "\n",
    "#create template column\n",
    "rpl_df['learner_contract_template_column'] = '900be1ba-0b96-4386-a904-fb67069f168e'\n",
    "\n",
    "#send learner contract through signrequests in bulk\n",
    "#send_bulk_signrequest(rpl_df, learner_contract_columns, 'learner_contract_template_column')"
   ]
  },
  {
   "cell_type": "markdown",
   "id": "8c51b14d-6421-4d3c-8ff1-aef369c88413",
   "metadata": {},
   "source": [
    "**Send Learner Assessment Contract**"
   ]
  },
  {
   "cell_type": "code",
   "execution_count": 40,
   "id": "47fa5985-4c46-4d8e-b559-f2be8b78a4f7",
   "metadata": {},
   "outputs": [
    {
     "name": "stdout",
     "output_type": "stream",
     "text": [
      "Signer: empoweryourself36@gmail.com , Status: 201\n",
      "Signer: solomonyedidia@gmail.com , Status: 201\n"
     ]
    }
   ],
   "source": [
    "#create target columns\n",
    "learner_assessment_contract_columns = ['learner_fullname', 'learner_id', 'learner_email']\n",
    "\n",
    "#create template column\n",
    "rpl_df['learner_assessment_contract_template_column'] = '0cb728c3-790c-4ea3-9a38-33d9c06d6547'\n",
    "\n",
    "#send learner assessment contract through signrequests in bulk\n",
    "#send_bulk_signrequest(rpl_df, learner_assessment_contract_columns, 'learner_assessment_contract_template_column')"
   ]
  },
  {
   "cell_type": "markdown",
   "id": "e65c2f89-0196-43b6-8bac-d6f74b0a7701",
   "metadata": {},
   "source": [
    "**Send Learner Declaration of Authenticity**"
   ]
  },
  {
   "cell_type": "code",
   "execution_count": 41,
   "id": "9f702f49-7118-4560-a41a-de82838f5268",
   "metadata": {},
   "outputs": [
    {
     "name": "stdout",
     "output_type": "stream",
     "text": [
      "Signer: empoweryourself36@gmail.com , Status: 201\n",
      "Signer: solomonyedidia@gmail.com , Status: 201\n"
     ]
    }
   ],
   "source": [
    "#create target columns\n",
    "learner_authenticity_documents_columns = ['learner_fullname', 'learner_id', 'learner_initials', 'learner_name', 'learner_email']\n",
    "\n",
    "#create template column\n",
    "rpl_df['learner_authenticity_document_template_column'] = '8492f73a-4de6-413f-8bfe-76b2556fce89'\n",
    "\n",
    "#send learner authenticity document through signrequests in bulk\n",
    "#send_bulk_signrequest(rpl_df, learner_authenticity_documents_columns, 'learner_authenticity_document_template_column')"
   ]
  },
  {
   "cell_type": "markdown",
   "id": "c651065e-e100-4de9-bcae-a7ee9cb3e803",
   "metadata": {},
   "source": [
    "**Send Learner PreAssessment Meeting Document**"
   ]
  },
  {
   "cell_type": "code",
   "execution_count": 42,
   "id": "9dd40f05-8f44-4dff-931b-d2abcde7bbbe",
   "metadata": {},
   "outputs": [
    {
     "name": "stdout",
     "output_type": "stream",
     "text": [
      "Signer: empoweryourself36@gmail.com , Status: 201\n",
      "Signer: solomonyedidia@gmail.com , Status: 201\n"
     ]
    }
   ],
   "source": [
    "#create target columns\n",
    "learner_preassessment_document_columns = ['learner_fullname', 'learner_id', 'learner_contact', 'learner_email']\n",
    "\n",
    "#create template column\n",
    "rpl_df['learner_preassessment_document_template_column'] = '57d91620-97ad-462a-a32a-ed1f77934156'\n",
    "\n",
    "#send learner preassessment meeting document through signrequests in bulk\n",
    "#send_bulk_signrequest(rpl_df, learner_preassessment_document_columns, 'learner_preassessment_document_template_column')"
   ]
  },
  {
   "cell_type": "markdown",
   "id": "76dbaf8e-68c0-4171-a224-f8ac8b8fcdf3",
   "metadata": {},
   "source": [
    "***Create Test Dataframe***"
   ]
  },
  {
   "cell_type": "code",
   "execution_count": 31,
   "id": "54914bbc-991e-4fe5-ba66-7b7653b23844",
   "metadata": {},
   "outputs": [
    {
     "name": "stdout",
     "output_type": "stream",
     "text": [
      "Signer: mufaro@thoughtquest.co.za , Status: 201\n"
     ]
    }
   ],
   "source": [
    "test_df = rpl_df.groupby(['learner_preassessment_document_template_column']).head(1).groupby('learner_preassessment_document_template_column').head(1).copy()\n",
    "test_df['learner_email'] = 'mufaro@thoughtquest.co.za'\n",
    "send_bulk_signrequest(test_df, learner_preassessment_document_columns, 'learner_preassessment_document_template_column')"
   ]
  },
  {
   "cell_type": "code",
   "execution_count": 28,
   "id": "87bcc55b-9080-4964-890e-dd697de7325b",
   "metadata": {},
   "outputs": [],
   "source": []
  },
  {
   "cell_type": "code",
   "execution_count": null,
   "id": "862fc575-49d9-437b-8d8d-2b716f277e76",
   "metadata": {},
   "outputs": [],
   "source": []
  },
  {
   "cell_type": "code",
   "execution_count": null,
   "id": "16aeea2e-578b-44e1-9056-eb91a7d2d47c",
   "metadata": {},
   "outputs": [],
   "source": []
  },
  {
   "cell_type": "code",
   "execution_count": null,
   "id": "0681128a-3c23-4fa0-bc18-0104ac04afc0",
   "metadata": {},
   "outputs": [],
   "source": []
  },
  {
   "cell_type": "code",
   "execution_count": null,
   "id": "903d2ca7-684c-4487-93bb-81e3650c6f39",
   "metadata": {},
   "outputs": [],
   "source": []
  }
 ],
 "metadata": {
  "kernelspec": {
   "display_name": "Python 3 (ipykernel)",
   "language": "python",
   "name": "python3"
  },
  "language_info": {
   "codemirror_mode": {
    "name": "ipython",
    "version": 3
   },
   "file_extension": ".py",
   "mimetype": "text/x-python",
   "name": "python",
   "nbconvert_exporter": "python",
   "pygments_lexer": "ipython3",
   "version": "3.8.2"
  }
 },
 "nbformat": 4,
 "nbformat_minor": 5
}
