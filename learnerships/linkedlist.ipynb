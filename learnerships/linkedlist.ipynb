{
 "cells": [
  {
   "cell_type": "markdown",
   "id": "55fc9b9c-108e-4e9a-87a3-df6c3dc85afa",
   "metadata": {},
   "source": [
    "**This notebook contains a script that creates a learnership learner linked list.**"
   ]
  },
  {
   "cell_type": "markdown",
   "id": "9e7170d5-f27c-4527-855e-4a8017e03fd7",
   "metadata": {},
   "source": [
    "**Add local library to path**"
   ]
  },
  {
   "cell_type": "code",
   "execution_count": 44,
   "id": "b0d5bbd5-12f4-472d-802e-e7074fb11994",
   "metadata": {},
   "outputs": [],
   "source": [
    "import os\n",
    "import sys\n",
    "\n",
    "module_path = os.path.abspath(os.path.join('..'))\n",
    "if module_path not in sys.path:\n",
    "    sys.path.append(module_path)\n",
    "    sys.path.append(module_path + '/local_library')"
   ]
  },
  {
   "cell_type": "markdown",
   "id": "0326270d-dc53-4abe-ac05-3488654c5e0f",
   "metadata": {},
   "source": [
    "**Import Libraries**"
   ]
  },
  {
   "cell_type": "code",
   "execution_count": 45,
   "id": "cdd7ee34-ec7a-43e8-88a1-0d4120595e7f",
   "metadata": {},
   "outputs": [],
   "source": [
    "import pandas as pd\n",
    "from local_library import export_worksheet\n",
    "from local_library import import_worksheet"
   ]
  },
  {
   "cell_type": "markdown",
   "id": "5867d492-1505-43be-97c8-71730acb1929",
   "metadata": {},
   "source": [
    "**Import Data to prepopulate learner list**"
   ]
  },
  {
   "cell_type": "code",
   "execution_count": 76,
   "id": "1824e0dc-a951-41a0-91a0-49467a74d708",
   "metadata": {},
   "outputs": [],
   "source": [
    "data_df = pd.read_csv(\"../seta_onloading/downloads/learner_list_data.csv\")\n",
    "cohort_df = import_worksheet(\"Cohort 2021 MICT System Onloading\", \"Sheet2\")\n"
   ]
  },
  {
   "cell_type": "markdown",
   "id": "ba6710c2-10a0-4dd3-acc0-2f9458f56267",
   "metadata": {},
   "source": [
    "**Merge Usernames and Data**"
   ]
  },
  {
   "cell_type": "code",
   "execution_count": 70,
   "id": "bc3e949d-7fca-4806-b198-78c3755547b7",
   "metadata": {},
   "outputs": [],
   "source": [
    "#get relevant columns\n",
    "cohort_df = cohort_df[[\"Username\", \"ID / Passport Number\"]]\n",
    "cohort_df.columns = [\"Username\", \"IDNumber\"]"
   ]
  },
  {
   "cell_type": "code",
   "execution_count": 48,
   "id": "72987a45-2463-44f8-8f2d-897d3134a72f",
   "metadata": {},
   "outputs": [],
   "source": [
    "cohort_df['IDNumber'] = cohort_df['IDNumber'].astype(str).str.strip()\n",
    "data_df['IDNumber'] = data_df['IDNumber'].astype(str).str.strip()"
   ]
  },
  {
   "cell_type": "code",
   "execution_count": 49,
   "id": "5fdbb13c-c907-4cb0-9bff-fcacd7c24f5f",
   "metadata": {},
   "outputs": [],
   "source": [
    "data_df = data_df.merge(cohort_df, on='IDNumber', how='left')\n"
   ]
  },
  {
   "cell_type": "markdown",
   "id": "e8d9212e-27a3-4962-b20f-4acff02699ac",
   "metadata": {},
   "source": [
    "**Create Home Address**"
   ]
  },
  {
   "cell_type": "code",
   "execution_count": 50,
   "id": "3a412f27-fe4f-4f3b-a2bf-06da8a84c51f",
   "metadata": {},
   "outputs": [],
   "source": [
    "data_df[\"Home Address\"] = data_df[\"Physical Address 1\"] + \",\" + data_df[\"Physical Address 2\"] + \",\" + data_df[\"Physical  Address 3\"]+ \",\" + data_df[\"Physical Post Code\"].astype(str)\n"
   ]
  },
  {
   "cell_type": "markdown",
   "id": "0ba96df6-8ee4-4f04-9275-3c294282a3ca",
   "metadata": {},
   "source": [
    "**Subselect useful columns**"
   ]
  },
  {
   "cell_type": "code",
   "execution_count": 51,
   "id": "0548b4f8-4efd-4bb3-9e26-d86da802f566",
   "metadata": {},
   "outputs": [],
   "source": [
    "data_df = data_df[[\"Username\", \"Name\", \"Surname\", \"IDNumber\", \"Province\", \"Municipality\", \"Home Address\", \"Equity\",\n",
    "        \"Gender\", \"DateOfBirth\", \"DisabilityStatus\"]]"
   ]
  },
  {
   "cell_type": "markdown",
   "id": "957db72b-72f5-4493-8a21-3c5d92afda44",
   "metadata": {},
   "source": [
    "**Select specific students**"
   ]
  },
  {
   "cell_type": "code",
   "execution_count": 72,
   "id": "0dfe1173-77bd-4fe3-bcba-b0d8182c13e5",
   "metadata": {},
   "outputs": [
    {
     "data": {
      "text/plain": [
       "25"
      ]
     },
     "execution_count": 72,
     "metadata": {},
     "output_type": "execute_result"
    }
   ],
   "source": [
    "cohort_df = cohort_df[cohort_df[\"Username\"].isin(['bsmith021', 'bmokone021', 'keanaido021', 'linnguba021', 'luwjwara021', 'makmangx021', 'michendr021', 'tonjali021', 'mxomagub021', 'mzomdube021', 'ndumthiy021', 'ndugumed021', 'mcele021', 'sibmsaba021', 'sqwabe021', 'siynzuza021', 'ssishi021', 'tnjikela021', 'mmthiyan021', 'tenmukwe021', 'thukhuma021', 'vuymkhen021', 'vuysikha021', 'ymitchel021', 'yonmkolo021'])]\n",
    "len(cohort_df)"
   ]
  },
  {
   "cell_type": "code",
   "execution_count": 75,
   "id": "19ac07aa-6bb4-4fb5-8374-92678c4b2bdf",
   "metadata": {},
   "outputs": [
    {
     "data": {
      "text/plain": [
       "array(['9407285468086', '9007085714083', '9904305827085', '8602035266084',\n",
       "       '0303055268088', '9112155201084', '9301065607080', '9409285733089',\n",
       "       '0208245748081', '9604275776086', '9605295642083', '9801065375083',\n",
       "       '9610145339088', '9707065583081', '9807265886084', '9212055357083',\n",
       "       '8907155984089', '9404075410089', '0006195214082', '9507125108089',\n",
       "       '9310046399089', '9403295135088', '9903075430088', '9507105785088',\n",
       "       '9711285531086'], dtype=object)"
      ]
     },
     "execution_count": 75,
     "metadata": {},
     "output_type": "execute_result"
    }
   ],
   "source": [
    "cohort_df['IDNumber'].values"
   ]
  },
  {
   "cell_type": "code",
   "execution_count": 68,
   "id": "de31ba36-391c-4750-9dbb-08ddd585185c",
   "metadata": {},
   "outputs": [
    {
     "data": {
      "text/plain": [
       "17"
      ]
     },
     "execution_count": 68,
     "metadata": {},
     "output_type": "execute_result"
    }
   ],
   "source": [
    "len(data_df)"
   ]
  },
  {
   "cell_type": "code",
   "execution_count": null,
   "id": "16684bad-7a1b-4c23-abf0-cb39cb652a82",
   "metadata": {},
   "outputs": [],
   "source": []
  },
  {
   "cell_type": "code",
   "execution_count": null,
   "id": "02163166-0a07-4837-884b-19886250c376",
   "metadata": {},
   "outputs": [],
   "source": []
  },
  {
   "cell_type": "code",
   "execution_count": null,
   "id": "d5121e3d-6a92-49d3-b91e-5fd41645c998",
   "metadata": {},
   "outputs": [],
   "source": []
  },
  {
   "cell_type": "code",
   "execution_count": null,
   "id": "08c0fe5c-fbba-4b67-8893-586bcff1b3ae",
   "metadata": {},
   "outputs": [],
   "source": []
  },
  {
   "cell_type": "code",
   "execution_count": null,
   "id": "35b1de8e-ee2b-42f7-baaf-1dc7402db9b3",
   "metadata": {},
   "outputs": [],
   "source": []
  }
 ],
 "metadata": {
  "kernelspec": {
   "display_name": "Python 3 (ipykernel)",
   "language": "python",
   "name": "python3"
  },
  "language_info": {
   "codemirror_mode": {
    "name": "ipython",
    "version": 3
   },
   "file_extension": ".py",
   "mimetype": "text/x-python",
   "name": "python",
   "nbconvert_exporter": "python",
   "pygments_lexer": "ipython3",
   "version": "3.8.2"
  }
 },
 "nbformat": 4,
 "nbformat_minor": 5
}
