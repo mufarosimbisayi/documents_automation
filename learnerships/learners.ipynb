{
 "cells": [
  {
   "cell_type": "markdown",
   "id": "12ba9833-24ce-44ed-8022-8f0baf6619af",
   "metadata": {},
   "source": [
    "**This notebook contains a script that sends learnerships contracts to students**"
   ]
  },
  {
   "cell_type": "markdown",
   "id": "040b327c-7cb7-4727-8e3e-669f74e5f75c",
   "metadata": {},
   "source": [
    "**Add Local Library to Path**"
   ]
  },
  {
   "cell_type": "code",
   "execution_count": 165,
   "id": "ab8206ea-c763-4104-9df4-d4b806dbc0df",
   "metadata": {},
   "outputs": [],
   "source": [
    "import os\n",
    "import sys\n",
    "\n",
    "module_path = os.path.abspath(os.path.join('..'))\n",
    "if module_path not in sys.path:\n",
    "    sys.path.append(module_path)\n",
    "    sys.path.append(module_path + '/local_library')"
   ]
  },
  {
   "cell_type": "markdown",
   "id": "3924d68d-b263-4669-9e7e-ca960a708375",
   "metadata": {},
   "source": [
    "**Import Libraries**"
   ]
  },
  {
   "cell_type": "code",
   "execution_count": 166,
   "id": "a5cb0ccb-d500-44bb-ae9a-ee914b8b23ef",
   "metadata": {},
   "outputs": [],
   "source": [
    "import pandas as pd\n",
    "import requests\n",
    "import json\n",
    "import re\n",
    "from datetime import date\n",
    "from local_library import import_worksheet\n",
    "from local_library import export_worksheet\n",
    "from local_library import send_bulk_signrequest"
   ]
  },
  {
   "cell_type": "markdown",
   "id": "8b778595-e485-42e0-a602-2b11273418e2",
   "metadata": {},
   "source": [
    "**Create Library**"
   ]
  },
  {
   "cell_type": "code",
   "execution_count": 167,
   "id": "56784581-d6af-4c29-aa16-d1219077e810",
   "metadata": {},
   "outputs": [],
   "source": [
    "#split a column into multiple columns\n",
    "def split_column_num(target_df, column, column_len):\n",
    "    \n",
    "    #create list from 0 to column_len\n",
    "    n_list = list(range(0, column_len))\n",
    "    \n",
    "    #create and populate columns\n",
    "    for i in n_list:\n",
    "        target_df[f'{column}_{i+1}'] = [elem[i] if i < len(elem) else '' for elem in target_df[column]]\n",
    "        \n",
    "    return\n",
    "\n",
    "\n",
    "#split column into two binary columns\n",
    "def column_to_binary(target_df, column, specify='no'):\n",
    "    \n",
    "    #convert column to string\n",
    "    target_df[column] = target_df[column].astype(str)\n",
    "    \n",
    "    #strip whitespace\n",
    "    target_df[column] = target_df[column].str.strip()\n",
    "    \n",
    "    #create and populate binary columns\n",
    "    target_df[f'{column}_yes'] = ['X' if elem.lower() == 'yes' else '' for elem in target_df[column]]\n",
    "    target_df[f'{column}_no'] = ['X' if elem.lower() == 'no' else '' for elem in target_df[column]]\n",
    "    \n",
    "    return\n",
    "\n",
    "#convert phone numbers\n",
    "def convert_phone(target_df, column):\n",
    "    target_df[column] = target_df[column].astype(str)\n",
    "    target_df[column] = target_df[column].astype(float)\n",
    "    target_df[column] = target_df[column].astype(int)\n",
    "    target_df[column] = target_df[column].astype(str)\n",
    "    \n",
    "    return\n",
    "\n",
    "\n",
    "#convert column type to string\n",
    "def convert_columns_type_string(target_df, columns):\n",
    "    for column in columns:\n",
    "        target_df[column] = target_df[column].astype(str)\n",
    "\n",
    "    return\n",
    "\n",
    "\n",
    "#create age columns\n",
    "def create_age_column(target_df, column):\n",
    "    \n",
    "    #convert dob to datetime formatt\n",
    "    target_df[column] = pd.to_datetime(target_df[column])\n",
    "\n",
    "    #set the date\n",
    "    today = date.today()\n",
    "\n",
    "    #calculate age\n",
    "    target_df['Age'] = today.year - target_df[column].dt.year\n",
    "\n",
    "    #convert age to int\n",
    "    target_df['Age'] = target_df['Age'].astype(int)\n",
    "\n",
    "    #mark if above 35 years\n",
    "    target_df['above_35'] = ['X' if age > 35 else '' for age in target_df['Age']]\n",
    "\n",
    "    #mark if below 36 years\n",
    "    target_df['below_35'] = ['X' if age < 36 else '' for age in target_df['Age']]\n",
    "    \n",
    "    return\n",
    "\n",
    "\n",
    "#split columns based on column values\n",
    "def split_column(target_df, column):\n",
    "    new_columns = target_df[column].unique()\n",
    "    for new_column in new_columns:\n",
    "        target_df[new_column] = ['X' if elem == new_column else '' for elem in target_df[column]]\n",
    "        \n",
    "    return\n",
    "\n",
    "\n",
    "#split column based on status\n",
    "def split_column_status(target_df, column, value):\n",
    "    #mark if citizen yes\n",
    "    target_df[f\"{column}_yes\"] = ['X' if elem == value else '' for elem in target_df[column]]\n",
    "\n",
    "    #mark if citizen no\n",
    "    target_df[f\"{column}_no\"] = ['X' if elem != value else '' for elem in target_df[column]]\n",
    "\n",
    "    #specify citizenshp status\n",
    "    target_df[f\"{column}_specify\"] = [elem if elem != value else '' for elem in target_df[column]]\n",
    "    \n",
    "    return\n",
    "\n",
    "\n",
    "def split_disability(target_df, column, value):\n",
    "    target_df[f\"{column}_yes\"] = ['X' if elem.lower() != value.lower() else '' for elem in target_df[column]]\n",
    "\n",
    "    target_df[f\"{column}_no\"] = ['X' if elem.lower() == value.lower() else '' for elem in target_df[column]]\n",
    "\n",
    "    target_df[f\"{column}_specify\"] = [elem if elem.lower() != value.lower() else '' for elem in target_df[column]]\n",
    "    \n",
    "    return\n",
    "\n",
    "\n",
    "#add static column\n",
    "def add_static_columns(target_df, column_dict):\n",
    "    for key in column_dict.keys():\n",
    "        target_df[key] = column_dict[key]\n",
    "        \n",
    "    return\n",
    "\n",
    "\n",
    "#subset a dataframe\n",
    "def subset_dataframe(target_df, column, subset_array):\n",
    "    return target_df[target_df[column].isin(subset_array)]"
   ]
  },
  {
   "cell_type": "markdown",
   "id": "95e2942b-fb53-4889-a3a9-ba1c0e5038eb",
   "metadata": {},
   "source": [
    "**Import WorkSheets**"
   ]
  },
  {
   "cell_type": "code",
   "execution_count": 168,
   "id": "b9586821-9930-46ce-a3fd-34db7fe4ebd0",
   "metadata": {},
   "outputs": [],
   "source": [
    "#import sponsorship data\n",
    "cohort_df = import_worksheet(\"Cohort 2021 MICT System Onloading\", \"Sheet1\")\n",
    "\n",
    "#import tag ids\n",
    "tag_ids_df = import_worksheet(\"Tag IDs\",\"Student\")"
   ]
  },
  {
   "cell_type": "markdown",
   "id": "ffbf4764-4634-4eab-b7f0-d1026c108be5",
   "metadata": {},
   "source": [
    "**Update Cohort Column Names**"
   ]
  },
  {
   "cell_type": "code",
   "execution_count": 169,
   "id": "34342b12-d15e-4b3c-a69b-de0c513fde3a",
   "metadata": {},
   "outputs": [],
   "source": [
    "\n",
    "column_names = {\"Home Language\":\"home_language\",\"Home Street\":\"home_address_1\", \"Home Suburb\":\"home_address_2\", \"Home City\":\"home_address_3\",\n",
    "                \"Home Postal Code\":\"home_address_post_code\", \"Residential Street\":\"residential_address_1\", \"Residential Suburb\":\"residential_address_2\",\n",
    "                \"Residential City\":\"residential_address_3\", \"Residential Postal Code\":\"residential_address_post_code\", \"Disability Type\":\"disability\",\n",
    "                \"Date Of Birth\":\"birth_date\", \"First Name\":\"learner_name\", \"Last Name\": \"learner_surname\",\n",
    "                \"Mobile Phone\":\"learner_phone\", \"Email Address\":\"learner_email\",\n",
    "                \"Name of High School\":\"high_school\", \"Completion Year\":\"high_school_last_year\",\n",
    "                \"Residential Status\":\"citizen\", \"ID / Passport Number\":\"id\", \"Gender\":\"gender\", \"Ethnicity\":'ethnicity',\n",
    "                \"Home Province\":\"province\", \"Nationality\":\"country\", \"Highest Qualification\":\"highest_qualification\",\n",
    "                \"Next Of Kin Name\":\"contact_name\", \"Next Of Kin Surname\":\"contact_surname\", \"Next of Kin Contact\":\"contact_phone\",\n",
    "                \"Middle Name(s)\":\"middle_name\"\n",
    "               }\n",
    "\n",
    "cohort_df = cohort_df.rename(columns=column_names)\n"
   ]
  },
  {
   "cell_type": "markdown",
   "id": "b4452627-ef4f-43dc-b87b-77d930f115f6",
   "metadata": {},
   "source": [
    "**Convert Columns to Type String**"
   ]
  },
  {
   "cell_type": "code",
   "execution_count": 170,
   "id": "fc2b9f53-369b-455c-ae12-a4fbaaabc652",
   "metadata": {},
   "outputs": [],
   "source": [
    "column_names = ['birth_date']\n",
    "\n",
    "convert_columns_type_string(cohort_df, column_names)"
   ]
  },
  {
   "cell_type": "markdown",
   "id": "7f24316f-7ee3-48da-b235-e30058c88287",
   "metadata": {},
   "source": [
    "**Convert Phone Number and High School Year**"
   ]
  },
  {
   "cell_type": "code",
   "execution_count": 171,
   "id": "b9489bf0-5557-4588-b8ac-f3a7e9cf3ec6",
   "metadata": {},
   "outputs": [],
   "source": [
    "#cnvert phone to type string\n",
    "#convert_phone(cohort_df, 'learner_phone')\n",
    "cohort_df['learner_phone'] = cohort_df['learner_phone'].astype(str)\n",
    "if \".\" in cohort_df['learner_phone'].values[0]:\n",
    "    cohort_df['learner_phone'] = [phone.split(\".\")[0] for phone in cohort_df['learner_phone']]\n",
    "\n",
    "\n",
    "cohort_df['high_school_last_year'] = cohort_df['high_school_last_year'].astype(str)\n",
    "if \".\" in cohort_df['high_school_last_year'].values[0]:\n",
    "    cohort_df['high_school_last_year'] = [year.split(\".\")[0] for year in cohort_df['high_school_last_year']]"
   ]
  },
  {
   "cell_type": "markdown",
   "id": "fadfac6a-1a3e-43df-8436-167cb4f5df71",
   "metadata": {},
   "source": [
    "**Create ID column**"
   ]
  },
  {
   "cell_type": "code",
   "execution_count": 172,
   "id": "c933a29d-96c7-4bc1-9600-696a81b7bf64",
   "metadata": {},
   "outputs": [],
   "source": [
    "#use split_column\n",
    "split_column_num(cohort_df, \"id\", 13)"
   ]
  },
  {
   "cell_type": "markdown",
   "id": "216d1908-58cb-4138-afe7-6eae652084f5",
   "metadata": {},
   "source": [
    "**Filter empty columns**"
   ]
  },
  {
   "cell_type": "code",
   "execution_count": 176,
   "id": "cede9da0-345e-4c33-ad9a-eef6a69f45f0",
   "metadata": {},
   "outputs": [],
   "source": [
    "#cohort_df = cohort_df[cohort_df['learner_phone'].notna()]\n",
    "cohort_df = cohort_df[cohort_df['birth_date'].notna()]\n",
    "#cohort_df = cohort_df[cohort_df['high_school_last_year'].notna()]\n"
   ]
  },
  {
   "cell_type": "markdown",
   "id": "3a912986-c104-478f-9a65-72c5af16cc1e",
   "metadata": {},
   "source": [
    "**Create Age Column**"
   ]
  },
  {
   "cell_type": "code",
   "execution_count": 177,
   "id": "d25780c2-b7ed-429c-a5fb-f9a15c7e1177",
   "metadata": {},
   "outputs": [
    {
     "name": "stderr",
     "output_type": "stream",
     "text": [
      "/Users/assistants/Library/Python/3.8/lib/python/site-packages/pandas/core/frame.py:3607: SettingWithCopyWarning: \n",
      "A value is trying to be set on a copy of a slice from a DataFrame.\n",
      "Try using .loc[row_indexer,col_indexer] = value instead\n",
      "\n",
      "See the caveats in the documentation: https://pandas.pydata.org/pandas-docs/stable/user_guide/indexing.html#returning-a-view-versus-a-copy\n",
      "  self._set_item(key, value)\n"
     ]
    }
   ],
   "source": [
    "#create age column\n",
    "create_age_column(cohort_df, \"birth_date\")\n",
    "cohort_df['birth_date'] = cohort_df['birth_date'].astype(str)"
   ]
  },
  {
   "cell_type": "markdown",
   "id": "be9b28e6-2adf-4900-915c-4c45b900c7bd",
   "metadata": {},
   "source": [
    "**Create Next of kin Contact**"
   ]
  },
  {
   "cell_type": "code",
   "execution_count": 178,
   "id": "1f415500-dc31-41b4-a9a8-d736002557b4",
   "metadata": {},
   "outputs": [],
   "source": [
    "cohort_df['contact'] = cohort_df['contact_name'] + \" \" + cohort_df['contact_surname']"
   ]
  },
  {
   "cell_type": "markdown",
   "id": "aaa1468f-aff0-4495-b29d-333fb3cb90bf",
   "metadata": {},
   "source": [
    "**Create Municipality**"
   ]
  },
  {
   "cell_type": "code",
   "execution_count": 179,
   "id": "e02e13b0-e910-4ece-a735-7e1e27cc65e8",
   "metadata": {},
   "outputs": [],
   "source": [
    "cohort_df['municipality'] = cohort_df['province'].map({'Western Cape':'Cape Town Metro', 'Gauteng':'Johannesburg Metro',\n",
    "       'Limpopo':'Blouberg','KwaZulu-Natal':'UMlazi municipality', 'North West':'Molopo',\n",
    "       'Free State':'Maluti a Phofung', 'Eastern Cape':'Chris Hani District Municipality', 'Mpumalanga':'Emalahleni Local Municipality'})\n"
   ]
  },
  {
   "cell_type": "markdown",
   "id": "b2637718-acb4-4dfa-bf57-c2e57b7e498d",
   "metadata": {},
   "source": [
    "**Create Gender Columns**"
   ]
  },
  {
   "cell_type": "code",
   "execution_count": 180,
   "id": "d422e2ed-c180-4f67-9fa7-292b4b722134",
   "metadata": {},
   "outputs": [],
   "source": [
    "#strip gender column whitespaces\n",
    "cohort_df['gender'] = cohort_df['gender'].str.strip()\n",
    "\n",
    "#convert equity column to lowercase\n",
    "cohort_df['gender'] = cohort_df['gender'].str.lower()\n",
    "\n",
    "split_column(cohort_df, 'gender')"
   ]
  },
  {
   "cell_type": "markdown",
   "id": "82063dd7-1464-4e83-bf42-ff43069a4849",
   "metadata": {},
   "source": [
    "**Create Ethnicity Columns**"
   ]
  },
  {
   "cell_type": "code",
   "execution_count": 181,
   "id": "fc5e205b-bcdc-4dbf-97f3-2e42ebe94fe0",
   "metadata": {},
   "outputs": [],
   "source": [
    "#strip equity column whitespaces\n",
    "cohort_df['Equity'] = cohort_df['ethnicity'].str.strip()\n",
    "\n",
    "#convert equity column to lowercase\n",
    "cohort_df['Equity'] = cohort_df['Equity'].str.lower()\n",
    "\n",
    "#reformat equity column\n",
    "cohort_df['Equity'] = cohort_df['Equity'].replace({'black': 'african', 'coloured': 'coloured',\n",
    "                             'indian': 'indian', 'asian': 'african',\n",
    "                             'chinese': 'african', 'white': 'white'})\n",
    "\n",
    "split_column(cohort_df, 'Equity')"
   ]
  },
  {
   "cell_type": "markdown",
   "id": "75340d62-7d0e-4ee1-af05-b354977f6fc3",
   "metadata": {},
   "source": [
    "**Create Highest Qualification**"
   ]
  },
  {
   "cell_type": "code",
   "execution_count": 182,
   "id": "5dd89828-d597-46f1-a505-ae188a7e6057",
   "metadata": {},
   "outputs": [],
   "source": [
    "#strip equity column whitespaces\n",
    "cohort_df['highest_qualification'] = cohort_df['highest_qualification'].str.strip()\n",
    "\n",
    "#convert equity column to lowercase\n",
    "cohort_df['highest_qualification'] = cohort_df['highest_qualification'].str.lower()\n",
    "\n",
    "#reformat equity column\n",
    "cohort_df['highest_qualification'] = cohort_df['highest_qualification'].replace({'Higher Certificate': 'certificate',\n",
    "                                    'below matric':'matric', 'bachelors degree':'degree', 'honours degree': 'degree',\n",
    "                                    'masters degree':'degree', 'national certificate':'certificate', 'advanced diploma':'diploma',\n",
    "                                    'higher certificate':'certificate'})\n",
    "\n",
    "split_column(cohort_df, 'highest_qualification')"
   ]
  },
  {
   "cell_type": "markdown",
   "id": "c78ba316-1987-4d5e-bcd5-6cbc2676f220",
   "metadata": {},
   "source": [
    "**Create Disability Column**"
   ]
  },
  {
   "cell_type": "code",
   "execution_count": 183,
   "id": "d9c2fd08-a80b-427e-8801-0e17e08d6965",
   "metadata": {},
   "outputs": [],
   "source": [
    "#strip disability column whitespaces\n",
    "cohort_df['disability'] = cohort_df['disability'].str.strip()\n",
    "\n",
    "#convert disability column to lowercase\n",
    "cohort_df['disability'] = cohort_df['disability'].str.lower()\n",
    "\n",
    "#reformat disability column\n",
    "#cohort_df['disability'] = cohort_df['disability'].replace({'no': 'None', 'nan': 'None',\n",
    "#                             'yes': 'Disabled but unspecified', 'yes - specwearer': 'None',\n",
    "#                             'n': 'None', '-': 'None', 'visual impairment - spec wearer': 'None',\n",
    "#                             'aspergers / autistic': 'Emotional (behav/psych)', 'patella alta':'Physical (move/stand etc)',\n",
    "#                             'y- specwearer': 'None', 'add': 'None', 'visual impairment - spec wearer -': 'None',\n",
    "#                             '\\\\n': 'None', 'y - specwearer':'None'})\n",
    "\n",
    "#create disability yes, no, status columns\n",
    "split_disability(cohort_df, 'disability', 'None')"
   ]
  },
  {
   "cell_type": "markdown",
   "id": "2adc8341-463b-4401-9b66-43d960893bf1",
   "metadata": {},
   "source": [
    "**Create Citizenship Column**"
   ]
  },
  {
   "cell_type": "code",
   "execution_count": 184,
   "id": "2561daad-5bf1-4faa-ab3e-00ef96737170",
   "metadata": {},
   "outputs": [],
   "source": [
    "#strip citizenship column\n",
    "cohort_df['citizen'] = cohort_df['citizen'].str.strip()\n",
    "\n",
    "#convert citizenship column to lowercase\n",
    "cohort_df['citizen'] = cohort_df['citizen'].str.lower()\n",
    "\n",
    "#create citizeenship yes, no, status columns\n",
    "split_column_status(cohort_df, 'citizen', 'south african')"
   ]
  },
  {
   "cell_type": "markdown",
   "id": "f16612f9-a41f-4ef9-a44f-650c3c68d115",
   "metadata": {},
   "source": [
    "**Create Fullname Columns**"
   ]
  },
  {
   "cell_type": "code",
   "execution_count": 185,
   "id": "45eeb36c-085b-4567-a928-bf006d181e29",
   "metadata": {},
   "outputs": [],
   "source": [
    "cohort_df['middle_name'] = cohort_df['middle_name'].fillna(\"\")\n",
    "cohort_df['learner_name'] = cohort_df['learner_name'].str.strip().str.lower() + \" \" + cohort_df['middle_name'].str.strip().str.lower()\n",
    "cohort_df['learner_name'] = cohort_df['learner_name'].str.strip().str.title()\n",
    "cohort_df['learner_fullname'] = cohort_df['learner_name'].str.strip().str.lower() + \" \" + cohort_df['learner_surname'].str.strip().str.lower()\n",
    "cohort_df['learner_fullname'] = [re.sub(' +', ' ', fullname) for fullname in cohort_df['learner_fullname']]\n",
    "cohort_df['learner_fullname'] = cohort_df['learner_fullname'].str.title()\n",
    "cohort_df['learner_initials'] = [''.join([x[0].upper() for x in fullname.split(' ')]) for fullname in cohort_df['learner_fullname']]\n"
   ]
  },
  {
   "cell_type": "code",
   "execution_count": 186,
   "id": "146636e6-52cc-4f94-9c51-2978b56fd2ca",
   "metadata": {},
   "outputs": [],
   "source": [
    "#create full name and initials\n",
    "#def create_full_name(target_df):\n",
    "#    target_df['learner_fullname'] = target_df['learner_name'].str.strip().str.lower() + \" \" + target_df['middle_name'] + \" \" + target_df['learner_surname'].str.strip().str.lower()\n",
    "#    target_df['learner_initials'] = [re.sub(' +', ' ', fullname) for fullname in target_df['learner_fullname']]\n",
    "#    target_df['learner_fullname'] = target_df['learner_fullname'].str.title()\n",
    "#    target_df['learner_initials'] = [''.join([x[0].upper() for x in fullname.split(' ')]) for fullname in target_df['learner_fullname']]\n",
    "#    \n",
    "#    return\n",
    "\n",
    "#create_full_name(cohort_df)\n"
   ]
  },
  {
   "cell_type": "markdown",
   "id": "deafa89e-29cf-4ae6-a56d-112e8013323e",
   "metadata": {},
   "source": [
    "**Get Specific Students**"
   ]
  },
  {
   "cell_type": "code",
   "execution_count": 187,
   "id": "84fdd65d-d6a9-42e3-b33d-f5a5df14f15d",
   "metadata": {},
   "outputs": [
    {
     "data": {
      "text/plain": [
       "1"
      ]
     },
     "execution_count": 187,
     "metadata": {},
     "output_type": "execute_result"
    }
   ],
   "source": [
    "cohort_df = subset_dataframe(cohort_df,'Username', ['kmohodi021'])\n",
    "len(cohort_df)"
   ]
  },
  {
   "cell_type": "markdown",
   "id": "bbaef016-2e16-483b-9d28-c6b9aa76bd8e",
   "metadata": {},
   "source": [
    "**Create Dates**"
   ]
  },
  {
   "cell_type": "code",
   "execution_count": 188,
   "id": "b783ea25-af37-4bb9-a902-33b4a09cce54",
   "metadata": {},
   "outputs": [],
   "source": [
    "#cohort_df['birth_day'] = [date[8:10] for date in cohort_df['birth_date']]\n",
    "#cohort_df['birth_month'] = [date[5:7] for date in cohort_df['birth_date']]\n",
    "#cohort_df['birth_year'] = [date[:4] for date in cohort_df['birth_date']]\n",
    "\n",
    "#cohort_df['birth_date_1'] = [date[8:9] for date in cohort_df['birth_date']]\n",
    "#cohort_df['birth_date_2'] = [date[9:10] for date in cohort_df['birth_date']]\n",
    "#cohort_df['birth_date_3'] = [date[5:6] for date in cohort_df['birth_date']]\n",
    "#cohort_df['birth_date_4'] = [date[6:7] for date in cohort_df['birth_date']]\n",
    "#cohort_df['birth_date_5'] = [date[:1] for date in cohort_df['birth_date']]\n",
    "#cohort_df['birth_date_6'] = [date[1:2] for date in cohort_df['birth_date']]\n",
    "#cohort_df['birth_date_7'] = [date[2:3] for date in cohort_df['birth_date']]\n",
    "#cohort_df['birth_date_8'] = [date[3:4] for date in cohort_df['birth_date']]\n",
    "#cohort_df['grade_12'] = \"Grade 12\""
   ]
  },
  {
   "cell_type": "markdown",
   "id": "94059f88-7e3e-4183-8de5-83c63835a117",
   "metadata": {},
   "source": [
    "**Create Residential and Home Address**"
   ]
  },
  {
   "cell_type": "code",
   "execution_count": 189,
   "id": "7f1f75c5-3140-4ac4-b23e-0666bbde5426",
   "metadata": {},
   "outputs": [],
   "source": [
    "cohort_df['home_address'] = cohort_df['home_address_1'] + \", \" + cohort_df['home_address_2'] + \", \" + cohort_df['home_address_3'] + \", \" + cohort_df['home_address_post_code']\n",
    "cohort_df['residential_address'] = cohort_df['residential_address_1'] + \", \" + cohort_df['residential_address_2'] + \", \" + cohort_df['residential_address_3'] + \", \" + cohort_df['residential_address_post_code']\n",
    "cohort_df['urban'] = \"Urban\"\n"
   ]
  },
  {
   "cell_type": "markdown",
   "id": "085769d7-4d38-47a1-8370-669daaf9f4c6",
   "metadata": {},
   "source": [
    "**Create Campus Address Field**"
   ]
  },
  {
   "cell_type": "code",
   "execution_count": 190,
   "id": "adf1a1be-cba0-4132-8936-e3f8ad9f3f6f",
   "metadata": {},
   "outputs": [],
   "source": [
    "cohort_df['campus_address'] = cohort_df['Campus'].replace({'Durban':'Durban Club Pl, Durban Central, Durban, 4001',\n",
    "                             'Cape Town':'331 Albert Rd, Woodstock, Cape Town, 7915',\n",
    "                             'Johannesburg':'84 Albertina Sisulu Rd, Johannesburg, 2000'})"
   ]
  },
  {
   "cell_type": "markdown",
   "id": "252f2fca-03f6-4548-992f-d98f4d6bc3cb",
   "metadata": {},
   "source": [
    "**Verify Columns**"
   ]
  },
  {
   "cell_type": "code",
   "execution_count": 199,
   "id": "ce2ec1b2-56c1-43e1-9a17-493b7fa9cc32",
   "metadata": {},
   "outputs": [],
   "source": [
    "for column in list(filter(lambda x: type(x) == str,tag_ids_df['ABSA_Contract'])):\n",
    "    if column not in cohort_df.columns:\n",
    "        print(column)"
   ]
  },
  {
   "cell_type": "markdown",
   "id": "80d5d21a-ea74-4324-96fc-f2dd4134ee97",
   "metadata": {},
   "source": [
    "**Set Learner Email and Template ID**"
   ]
  },
  {
   "cell_type": "code",
   "execution_count": 200,
   "id": "6df70862-7eea-4518-a8eb-c57957f320d9",
   "metadata": {},
   "outputs": [],
   "source": [
    "#cohort_df['learner_email'] = 'mufaro@thoughtquest.co.za'\n",
    "\n",
    "template_ids = {'MICT':'ab47c0e5-5be4-48c8-bcf1-b4eae380f296', 'Contract':'e94f4098-fe6c-476e-b9d9-12b51aea01bf', \n",
    "               'MICT_OLD':'9f5bf080-569e-4f14-8de1-c17cdb51e7c4', 'GPStragies_Contract':'2a99dcb2-af3f-43c9-8ab9-32ca3706e8f0',\n",
    "               'BBD_MICT':'9389c08b-d25d-43c7-bf24-7d125670c866', 'BBD_Contract':'e4f92cb3-997d-46f2-b164-bfc0083520f9',\n",
    "               'Entersekt_MICT':'fdcaf1be-bfbf-46f4-a4ee-afb7c626423b', 'Entersekt_Contract':'ba47a206-1c8c-488b-83e0-c2f30d48f3d7',\n",
    "               'Sybrin_MICT':'074d731e-75e6-4df0-a486-ba4d92be50aa', 'Sybrin_Contract':'7b9ea83b-2c7b-4626-b3f5-d456f0608a98',\n",
    "               'Outsurance_INSETA':'f4950293-3531-4153-bd1f-0ff20322b26c', 'Outsurance_Contract':'3dc74bbf-e49f-48ae-9ec1-91db58d9ff6c',\n",
    "               'POPI_INSETA':'768df48e-8b96-48b0-8772-6173e41be9c9', 'Qlink_FASSET':'9ff1f822-0829-49b3-8898-3aa5c781bb54',\n",
    "               'Qlink_Contract':'a7dfe031-96a2-4811-935f-54d28612a4e3', 'CM_MICT':'7f8f348f-5cd6-4395-a1b4-29e18f4ad5f2',\n",
    "               'CM_Contract':'a5537079-9726-48a1-bb68-5812efca4371', 'Mediclinic_Contract':'f02a5331-f21e-4ce7-990c-968e00726408',\n",
    "               'Mediclinic_HWSETA':'1b98d864-d92e-4683-8452-e4d2ad3a585c', 'Sybrin_MICT':'533455b6-235a-4a9b-b1cd-61c01a490cc6',\n",
    "               'Sybrin_Contract':'a1b797c6-f9c5-47d1-bf04-c2118ca5a171', 'StructureIT_MICT':'69eb896c-bd04-40fe-9598-42fd53b06450',\n",
    "               'StructureIT_Contract':'6a123619-2449-4c83-8914-d2d4b536f0e0', 'DealX_MICT':'2e86d7bf-f908-4fd1-ab0b-a1a11fbd2ee9',\n",
    "               'DealX_Contract':'5e14a463-6b06-45fc-ae87-d78aedec7770', 'ABSA_BANKSETA':'9e323179-0e2c-4537-a3d6-7482637cf4ec',\n",
    "               'ABSA_Contract':'893ab6bc-8373-4401-bfdd-bbc1fd40e7b5'}\n",
    "cohort_df['template_id'] = template_ids['ABSA_Contract']\n",
    "\n",
    "target_columns = list(filter(lambda x: type(x) == str,tag_ids_df['ABSA_Contract']))\n"
   ]
  },
  {
   "cell_type": "markdown",
   "id": "b12519eb-ea79-4e79-a30c-161645e9d8f2",
   "metadata": {},
   "source": [
    "**Replace All Null Values**"
   ]
  },
  {
   "cell_type": "code",
   "execution_count": 193,
   "id": "eaef0540-396c-4fb3-b6cd-af10a20e2c73",
   "metadata": {},
   "outputs": [],
   "source": [
    "cohort_df = cohort_df.fillna(\"\")"
   ]
  },
  {
   "cell_type": "markdown",
   "id": "61a57883-1a04-4270-929c-960202e805e2",
   "metadata": {},
   "source": [
    "**Send Contracts**"
   ]
  },
  {
   "cell_type": "code",
   "execution_count": 201,
   "id": "ef38bd01-b805-4c0f-9038-35f010e58e2c",
   "metadata": {},
   "outputs": [
    {
     "name": "stdout",
     "output_type": "stream",
     "text": [
      "Signer: kmohodi021@student.wethinkcode.co.za , Status: 201\n"
     ]
    }
   ],
   "source": [
    "send_bulk_signrequest(cohort_df, target_columns, 'template_id')"
   ]
  },
  {
   "cell_type": "code",
   "execution_count": null,
   "id": "590207d6-6da0-48f7-b809-0ad6b47b900a",
   "metadata": {},
   "outputs": [],
   "source": []
  },
  {
   "cell_type": "code",
   "execution_count": null,
   "id": "b9aa150d-fc6d-4906-b05b-55d389663441",
   "metadata": {},
   "outputs": [],
   "source": []
  },
  {
   "cell_type": "code",
   "execution_count": 197,
   "id": "21c43ab8-6c05-4dfc-bef2-80dd8692f724",
   "metadata": {},
   "outputs": [
    {
     "data": {
      "text/plain": [
       "329    Karabo Faith Mohodi\n",
       "Name: learner_fullname, dtype: object"
      ]
     },
     "execution_count": 197,
     "metadata": {},
     "output_type": "execute_result"
    }
   ],
   "source": [
    "cohort_df['learner_fullname']"
   ]
  },
  {
   "cell_type": "code",
   "execution_count": null,
   "id": "14481923-8ab0-4e25-a360-09ae5437ddef",
   "metadata": {},
   "outputs": [],
   "source": []
  },
  {
   "cell_type": "code",
   "execution_count": null,
   "id": "8fdd5049-3bb0-46ee-b281-d129ba9d73f5",
   "metadata": {},
   "outputs": [],
   "source": []
  },
  {
   "cell_type": "code",
   "execution_count": null,
   "id": "8975f7c0-5eeb-469f-ab12-154fc3d1e749",
   "metadata": {},
   "outputs": [],
   "source": []
  },
  {
   "cell_type": "code",
   "execution_count": null,
   "id": "48538ea1-cd76-44d0-abb3-3b55a9f97715",
   "metadata": {},
   "outputs": [],
   "source": []
  }
 ],
 "metadata": {
  "kernelspec": {
   "display_name": "Python 3 (ipykernel)",
   "language": "python",
   "name": "python3"
  },
  "language_info": {
   "codemirror_mode": {
    "name": "ipython",
    "version": 3
   },
   "file_extension": ".py",
   "mimetype": "text/x-python",
   "name": "python",
   "nbconvert_exporter": "python",
   "pygments_lexer": "ipython3",
   "version": "3.8.2"
  }
 },
 "nbformat": 4,
 "nbformat_minor": 5
}
