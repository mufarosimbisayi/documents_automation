{
 "cells": [
  {
   "cell_type": "markdown",
   "id": "12ba9833-24ce-44ed-8022-8f0baf6619af",
   "metadata": {},
   "source": [
    "**This notebook contains a script that sends learnerships contracts to students**"
   ]
  },
  {
   "cell_type": "markdown",
   "id": "040b327c-7cb7-4727-8e3e-669f74e5f75c",
   "metadata": {},
   "source": [
    "**Add Local Library to Path**"
   ]
  },
  {
   "cell_type": "code",
   "execution_count": 1,
   "id": "ab8206ea-c763-4104-9df4-d4b806dbc0df",
   "metadata": {},
   "outputs": [],
   "source": [
    "import os\n",
    "import sys\n",
    "\n",
    "module_path = os.path.abspath(os.path.join('..'))\n",
    "if module_path not in sys.path:\n",
    "    sys.path.append(module_path)\n",
    "    sys.path.append(module_path + '/local_library')"
   ]
  },
  {
   "cell_type": "markdown",
   "id": "3924d68d-b263-4669-9e7e-ca960a708375",
   "metadata": {},
   "source": [
    "**Import Libraries**"
   ]
  },
  {
   "cell_type": "code",
   "execution_count": 2,
   "id": "a5cb0ccb-d500-44bb-ae9a-ee914b8b23ef",
   "metadata": {},
   "outputs": [
    {
     "name": "stdout",
     "output_type": "stream",
     "text": [
      "Your browser has been opened to visit:\n",
      "\n",
      "    https://accounts.google.com/o/oauth2/auth?client_id=1017190226189-f1d5s7cpjrj54u2rqk1ufh9pevguqoap.apps.googleusercontent.com&redirect_uri=http%3A%2F%2Flocalhost%3A8080%2F&scope=https%3A%2F%2Fwww.googleapis.com%2Fauth%2Fdrive&access_type=offline&response_type=code\n",
      "\n",
      "Authentication successful.\n"
     ]
    }
   ],
   "source": [
    "import pandas as pd\n",
    "import requests\n",
    "import json\n",
    "from datetime import date\n",
    "from local_library import import_worksheet\n",
    "from local_library import export_worksheet\n",
    "from local_library import send_bulk_signrequest"
   ]
  },
  {
   "cell_type": "markdown",
   "id": "8b778595-e485-42e0-a602-2b11273418e2",
   "metadata": {},
   "source": [
    "**Create Library**"
   ]
  },
  {
   "cell_type": "code",
   "execution_count": 3,
   "id": "56784581-d6af-4c29-aa16-d1219077e810",
   "metadata": {},
   "outputs": [],
   "source": [
    "#split a column into multiple columns\n",
    "def split_column_num(target_df, column, column_len):\n",
    "    \n",
    "    #create list from 0 to column_len\n",
    "    n_list = list(range(0, column_len))\n",
    "    \n",
    "    #create and populate columns\n",
    "    for i in n_list:\n",
    "        target_df[f'{column}_{i+1}'] = [elem[i] if i < len(elem) else '' for elem in target_df[column]]\n",
    "        \n",
    "    return\n",
    "\n",
    "\n",
    "#split column into two binary columns\n",
    "def column_to_binary(target_df, column, specify='no'):\n",
    "    \n",
    "    #convert column to string\n",
    "    target_df[column] = target_df[column].astype(str)\n",
    "    \n",
    "    #strip whitespace\n",
    "    target_df[column] = target_df[column].str.strip()\n",
    "    \n",
    "    #create and populate binary columns\n",
    "    target_df[f'{column}_yes'] = ['X' if elem.lower() == 'yes' else '' for elem in target_df[column]]\n",
    "    target_df[f'{column}_no'] = ['X' if elem.lower() == 'no' else '' for elem in target_df[column]]\n",
    "    \n",
    "    return\n",
    "\n",
    "#convert phone numbers\n",
    "def convert_phone(target_df, column):\n",
    "    target_df[column] = target_df[column].astype(str)\n",
    "    target_df[column] = target_df[column].astype(float)\n",
    "    target_df[column] = target_df[column].astype(int)\n",
    "    target_df[column] = target_df[column].astype(str)\n",
    "    \n",
    "    return\n",
    "\n",
    "\n",
    "#convert column type to string\n",
    "def convert_columns_type_string(target_df, columns):\n",
    "    for column in columns:\n",
    "        target_df[column] = target_df[column].astype(str)\n",
    "\n",
    "    return\n",
    "\n",
    "\n",
    "#create age columns\n",
    "def create_age_column(target_df, column):\n",
    "    \n",
    "    #convert dob to datetime formatt\n",
    "    target_df[column] = pd.to_datetime(target_df[column])\n",
    "\n",
    "    #set the date\n",
    "    today = date.today()\n",
    "\n",
    "    #calculate age\n",
    "    target_df['Age'] = today.year - target_df[column].dt.year\n",
    "\n",
    "    #convert age to int\n",
    "    target_df['Age'] = target_df['Age'].astype(int)\n",
    "\n",
    "    #mark if above 35 years\n",
    "    target_df['above_35'] = ['X' if age > 35 else '' for age in target_df['Age']]\n",
    "\n",
    "    #mark if below 36 years\n",
    "    target_df['below_35'] = ['X' if age < 36 else '' for age in target_df['Age']]\n",
    "    \n",
    "    return\n",
    "\n",
    "\n",
    "#split columns based on column values\n",
    "def split_column(target_df, column):\n",
    "    new_columns = target_df[column].unique()\n",
    "    for new_column in new_columns:\n",
    "        target_df[new_column] = ['X' if elem == new_column else '' for elem in target_df[column]]\n",
    "        \n",
    "    return\n",
    "\n",
    "\n",
    "#split column based on status\n",
    "def split_column_status(target_df, column, value):\n",
    "    #mark if citizen yes\n",
    "    target_df[f\"{column}_yes\"] = ['X' if elem == value else '' for elem in target_df[column]]\n",
    "\n",
    "    #mark if citizen no\n",
    "    target_df[f\"{column}_no\"] = ['X' if elem != value else '' for elem in target_df[column]]\n",
    "\n",
    "    #specify citizenshp status\n",
    "    target_df[f\"{column}_specify\"] = [elem if elem != value else '' for elem in target_df[column]]\n",
    "    \n",
    "    return\n",
    "\n",
    "\n",
    "def split_disability(target_df, column, value):\n",
    "    target_df[f\"{column}_yes\"] = ['X' if elem != value else '' for elem in target_df[column]]\n",
    "\n",
    "    target_df[f\"{column}_no\"] = ['X' if elem == value else '' for elem in target_df[column]]\n",
    "\n",
    "    target_df[f\"{column}_specify\"] = [elem if elem != value else '' for elem in target_df[column]]\n",
    "    \n",
    "    return\n",
    "\n",
    "\n",
    "#add static column\n",
    "def add_static_columns(target_df, column_dict):\n",
    "    for key in column_dict.keys():\n",
    "        target_df[key] = column_dict[key]\n",
    "        \n",
    "    return\n",
    "\n",
    "\n",
    "#subset a dataframe\n",
    "def subset_dataframe(target_df, column, subset_array):\n",
    "    return target_df[target_df[column].isin(subset_array)]"
   ]
  },
  {
   "cell_type": "markdown",
   "id": "95e2942b-fb53-4889-a3a9-ba1c0e5038eb",
   "metadata": {},
   "source": [
    "**Import WorkSheets**"
   ]
  },
  {
   "cell_type": "code",
   "execution_count": 4,
   "id": "b9586821-9930-46ce-a3fd-34db7fe4ebd0",
   "metadata": {},
   "outputs": [],
   "source": [
    "#import sponsorship data\n",
    "cohort_df = import_worksheet(\"Cohort 2021 MICT System Onloading\", \"Sheet1\")\n",
    "\n",
    "#import tag ids\n",
    "tag_ids_df = import_worksheet(\"Tag IDs\",\"Student\")"
   ]
  },
  {
   "cell_type": "markdown",
   "id": "ffbf4764-4634-4eab-b7f0-d1026c108be5",
   "metadata": {},
   "source": [
    "**Update Cohort Column Names**"
   ]
  },
  {
   "cell_type": "code",
   "execution_count": 5,
   "id": "34342b12-d15e-4b3c-a69b-de0c513fde3a",
   "metadata": {},
   "outputs": [],
   "source": [
    "\n",
    "column_names = {\"Home Language\":\"home_language\",\"Home Street\":\"home_address_1\", \"Home Suburb\":\"home_address_2\", \"Home City\":\"home_address_3\",\n",
    "                \"Home Postal Code\":\"home_address_post_code\", \"Disability Type\":\"disability\",\n",
    "           \"Date Of Birth\":\"birth_date\", \"First Name\":\"learner_name\", \"Last Name\": \"learner_surname\",\n",
    "                \"Mobile Phone\":\"learner_phone\", \"Email Address\":\"learner_email\",\n",
    "               \"Name of High School\":\"high_school\", \"Completion Year\":\"high_school_last_year\",\n",
    "               \"Residential Status\":\"citizen\", \"ID / Passport Number\":\"id\", \"Gender\":\"gender\", \"Ethnicity\":'ethnicity',\n",
    "               }\n",
    "\n",
    "cohort_df = cohort_df.rename(columns=column_names)"
   ]
  },
  {
   "cell_type": "markdown",
   "id": "b4452627-ef4f-43dc-b87b-77d930f115f6",
   "metadata": {},
   "source": [
    "**Convert Columns to Type String**"
   ]
  },
  {
   "cell_type": "code",
   "execution_count": 6,
   "id": "fc2b9f53-369b-455c-ae12-a4fbaaabc652",
   "metadata": {},
   "outputs": [],
   "source": [
    "column_names = ['birth_date']\n",
    "\n",
    "convert_columns_type_string(cohort_df, column_names)"
   ]
  },
  {
   "cell_type": "markdown",
   "id": "7f24316f-7ee3-48da-b235-e30058c88287",
   "metadata": {},
   "source": [
    "**Convert Phone Number and High School Year**"
   ]
  },
  {
   "cell_type": "code",
   "execution_count": 7,
   "id": "b9489bf0-5557-4588-b8ac-f3a7e9cf3ec6",
   "metadata": {},
   "outputs": [],
   "source": [
    "#cnvert phone to type string\n",
    "#convert_phone(cohort_df, 'learner_phone')\n",
    "cohort_df['learner_phone'] = cohort_df['learner_phone'].astype(str)\n",
    "if \".\" in cohort_df['learner_phone'].values[0]:\n",
    "    cohort_df['learner_phone'] = [phone.split(\".\")[0] for phone in cohort_df['learner_phone']]\n",
    "\n",
    "\n",
    "cohort_df['high_school_last_year'] = cohort_df['high_school_last_year'].astype(str)\n",
    "if \".\" in cohort_df['high_school_last_year'].values[0]:\n",
    "    cohort_df['high_school_last_year'] = [year.split(\".\")[0] for year in cohort_df['high_school_last_year']]"
   ]
  },
  {
   "cell_type": "markdown",
   "id": "fadfac6a-1a3e-43df-8436-167cb4f5df71",
   "metadata": {},
   "source": [
    "**Create ID column**"
   ]
  },
  {
   "cell_type": "code",
   "execution_count": 8,
   "id": "c933a29d-96c7-4bc1-9600-696a81b7bf64",
   "metadata": {},
   "outputs": [],
   "source": [
    "#use split_column\n",
    "split_column_num(cohort_df, \"id\", 13)"
   ]
  },
  {
   "cell_type": "markdown",
   "id": "216d1908-58cb-4138-afe7-6eae652084f5",
   "metadata": {},
   "source": [
    "**Filter empty columns**"
   ]
  },
  {
   "cell_type": "code",
   "execution_count": 11,
   "id": "cede9da0-345e-4c33-ad9a-eef6a69f45f0",
   "metadata": {},
   "outputs": [],
   "source": [
    "#cohort_df = cohort_df[cohort_df['learner_phone'].notna()]\n",
    "cohort_df = cohort_df[cohort_df['birth_date'].notna()]\n",
    "#cohort_df = cohort_df[cohort_df['high_school_last_year'].notna()]\n"
   ]
  },
  {
   "cell_type": "markdown",
   "id": "3a912986-c104-478f-9a65-72c5af16cc1e",
   "metadata": {},
   "source": [
    "**Create Age Column**"
   ]
  },
  {
   "cell_type": "code",
   "execution_count": 12,
   "id": "d25780c2-b7ed-429c-a5fb-f9a15c7e1177",
   "metadata": {},
   "outputs": [
    {
     "name": "stderr",
     "output_type": "stream",
     "text": [
      "/Users/assistants/Library/Python/3.8/lib/python/site-packages/pandas/core/frame.py:3607: SettingWithCopyWarning: \n",
      "A value is trying to be set on a copy of a slice from a DataFrame.\n",
      "Try using .loc[row_indexer,col_indexer] = value instead\n",
      "\n",
      "See the caveats in the documentation: https://pandas.pydata.org/pandas-docs/stable/user_guide/indexing.html#returning-a-view-versus-a-copy\n",
      "  self._set_item(key, value)\n"
     ]
    }
   ],
   "source": [
    "#create age column\n",
    "create_age_column(cohort_df, \"birth_date\")"
   ]
  },
  {
   "cell_type": "markdown",
   "id": "b2637718-acb4-4dfa-bf57-c2e57b7e498d",
   "metadata": {},
   "source": [
    "**Create Gender Columns**"
   ]
  },
  {
   "cell_type": "code",
   "execution_count": 13,
   "id": "d422e2ed-c180-4f67-9fa7-292b4b722134",
   "metadata": {},
   "outputs": [],
   "source": [
    "#strip gender column whitespaces\n",
    "cohort_df['gender'] = cohort_df['gender'].str.strip()\n",
    "\n",
    "#convert equity column to lowercase\n",
    "cohort_df['gender'] = cohort_df['gender'].str.lower()\n",
    "\n",
    "split_column(cohort_df, 'gender')"
   ]
  },
  {
   "cell_type": "markdown",
   "id": "82063dd7-1464-4e83-bf42-ff43069a4849",
   "metadata": {},
   "source": [
    "**Create Ethnicity Columns**"
   ]
  },
  {
   "cell_type": "code",
   "execution_count": 14,
   "id": "fc5e205b-bcdc-4dbf-97f3-2e42ebe94fe0",
   "metadata": {},
   "outputs": [],
   "source": [
    "#strip equity column whitespaces\n",
    "cohort_df['Equity'] = cohort_df['ethnicity'].str.strip()\n",
    "\n",
    "#convert equity column to lowercase\n",
    "cohort_df['Equity'] = cohort_df['Equity'].str.lower()\n",
    "\n",
    "#reformat equity column\n",
    "cohort_df['Equity'] = cohort_df['Equity'].replace({'black': 'african', 'coloured': 'coloured',\n",
    "                             'indian': 'indian', 'asian': 'african',\n",
    "                             'chinese': 'african', 'white': 'white'})\n",
    "\n",
    "split_column(cohort_df, 'Equity')"
   ]
  },
  {
   "cell_type": "markdown",
   "id": "c78ba316-1987-4d5e-bcd5-6cbc2676f220",
   "metadata": {},
   "source": [
    "**Create Disability Column**"
   ]
  },
  {
   "cell_type": "code",
   "execution_count": 15,
   "id": "d9c2fd08-a80b-427e-8801-0e17e08d6965",
   "metadata": {},
   "outputs": [],
   "source": [
    "#strip disability column whitespaces\n",
    "cohort_df['disability'] = cohort_df['disability'].str.strip()\n",
    "\n",
    "#convert disability column to lowercase\n",
    "cohort_df['disability'] = cohort_df['disability'].str.lower()\n",
    "\n",
    "#reformat disability column\n",
    "#cohort_df['disability'] = cohort_df['disability'].replace({'no': 'None', 'nan': 'None',\n",
    "#                             'yes': 'Disabled but unspecified', 'yes - specwearer': 'None',\n",
    "#                             'n': 'None', '-': 'None', 'visual impairment - spec wearer': 'None',\n",
    "#                             'aspergers / autistic': 'Emotional (behav/psych)', 'patella alta':'Physical (move/stand etc)',\n",
    "#                             'y- specwearer': 'None', 'add': 'None', 'visual impairment - spec wearer -': 'None',\n",
    "#                             '\\\\n': 'None', 'y - specwearer':'None'})\n",
    "\n",
    "#create disability yes, no, status columns\n",
    "split_disability(cohort_df, 'disability', 'None')"
   ]
  },
  {
   "cell_type": "markdown",
   "id": "2adc8341-463b-4401-9b66-43d960893bf1",
   "metadata": {},
   "source": [
    "**Create Citizenship Column**"
   ]
  },
  {
   "cell_type": "code",
   "execution_count": 16,
   "id": "2561daad-5bf1-4faa-ab3e-00ef96737170",
   "metadata": {},
   "outputs": [],
   "source": [
    "#strip citizenship column\n",
    "cohort_df['citizen'] = cohort_df['citizen'].str.strip()\n",
    "\n",
    "#convert citizenship column to lowercase\n",
    "cohort_df['citizen'] = cohort_df['citizen'].str.lower()\n",
    "\n",
    "#create citizeenship yes, no, status columns\n",
    "split_column_status(cohort_df, 'citizen', 'south african')"
   ]
  },
  {
   "cell_type": "markdown",
   "id": "f16612f9-a41f-4ef9-a44f-650c3c68d115",
   "metadata": {},
   "source": [
    "**Create Fullname Columns**"
   ]
  },
  {
   "cell_type": "code",
   "execution_count": 17,
   "id": "146636e6-52cc-4f94-9c51-2978b56fd2ca",
   "metadata": {},
   "outputs": [],
   "source": [
    "#create full name and initials\n",
    "def create_full_name(target_df):\n",
    "    target_df['learner_fullname'] = target_df['learner_name'].str.strip().str.lower() + \" \" + target_df['learner_surname'].str.strip().str.lower()\n",
    "    target_df['learner_fullname'] = target_df['learner_fullname'].str.title()\n",
    "    target_df['learner_initials'] = [elem[0][0].upper() + elem[1][0].upper() for elem in target_df['learner_fullname'].str.split(\" \")]\n",
    "    \n",
    "    return\n",
    "\n",
    "create_full_name(cohort_df)"
   ]
  },
  {
   "cell_type": "markdown",
   "id": "deafa89e-29cf-4ae6-a56d-112e8013323e",
   "metadata": {},
   "source": [
    "**Get Specific Students**"
   ]
  },
  {
   "cell_type": "code",
   "execution_count": 18,
   "id": "84fdd65d-d6a9-42e3-b33d-f5a5df14f15d",
   "metadata": {},
   "outputs": [],
   "source": [
    "cohort_df = subset_dataframe(cohort_df,'Username', ['sifndlov021', 'nonmthim021'])\n"
   ]
  },
  {
   "cell_type": "markdown",
   "id": "252f2fca-03f6-4548-992f-d98f4d6bc3cb",
   "metadata": {},
   "source": [
    "**Verify Columns**"
   ]
  },
  {
   "cell_type": "code",
   "execution_count": 19,
   "id": "ce2ec1b2-56c1-43e1-9a17-493b7fa9cc32",
   "metadata": {},
   "outputs": [],
   "source": [
    "for column in list(filter(lambda x: type(x) == str,tag_ids_df['Contract'])):\n",
    "    if column not in cohort_df.columns:\n",
    "        print(column)"
   ]
  },
  {
   "cell_type": "markdown",
   "id": "80d5d21a-ea74-4324-96fc-f2dd4134ee97",
   "metadata": {},
   "source": [
    "**Set Learner Email and Template ID**"
   ]
  },
  {
   "cell_type": "code",
   "execution_count": 20,
   "id": "6df70862-7eea-4518-a8eb-c57957f320d9",
   "metadata": {},
   "outputs": [],
   "source": [
    "cohort_df['learner_email'] = 'mufaro@thoughtquest.co.za'\n",
    "\n",
    "template_ids = {'MICT':'ab47c0e5-5be4-48c8-bcf1-b4eae380f296', 'Contract':'e94f4098-fe6c-476e-b9d9-12b51aea01bf', \n",
    "               'MICT_OLD':'9f5bf080-569e-4f14-8de1-c17cdb51e7c4'}\n",
    "cohort_df['template_id'] = template_ids['Contract']\n",
    "\n",
    "target_columns = list(filter(lambda x: type(x) == str,tag_ids_df['Contract']))"
   ]
  },
  {
   "cell_type": "markdown",
   "id": "b12519eb-ea79-4e79-a30c-161645e9d8f2",
   "metadata": {},
   "source": [
    "**Replace All Null Values**"
   ]
  },
  {
   "cell_type": "code",
   "execution_count": 21,
   "id": "eaef0540-396c-4fb3-b6cd-af10a20e2c73",
   "metadata": {},
   "outputs": [],
   "source": [
    "cohort_df = cohort_df.fillna(\" \")"
   ]
  },
  {
   "cell_type": "markdown",
   "id": "61a57883-1a04-4270-929c-960202e805e2",
   "metadata": {},
   "source": [
    "**Send Contracts**"
   ]
  },
  {
   "cell_type": "code",
   "execution_count": 22,
   "id": "ef38bd01-b805-4c0f-9038-35f010e58e2c",
   "metadata": {},
   "outputs": [
    {
     "name": "stdout",
     "output_type": "stream",
     "text": [
      "Signer: mufaro@thoughtquest.co.za , Status: 201\n"
     ]
    }
   ],
   "source": [
    "send_bulk_signrequest(cohort_df, target_columns, 'template_id')"
   ]
  },
  {
   "cell_type": "code",
   "execution_count": null,
   "id": "25dc2418-bfc4-40ca-835e-ac08b9b541c5",
   "metadata": {},
   "outputs": [],
   "source": []
  },
  {
   "cell_type": "code",
   "execution_count": null,
   "id": "590207d6-6da0-48f7-b809-0ad6b47b900a",
   "metadata": {},
   "outputs": [],
   "source": []
  },
  {
   "cell_type": "code",
   "execution_count": 14,
   "id": "8d97edba-60e4-4100-990c-34c3918e7d23",
   "metadata": {},
   "outputs": [],
   "source": []
  },
  {
   "cell_type": "code",
   "execution_count": 16,
   "id": "e6483d7d-0e34-41bf-9650-8f58dbcbd77f",
   "metadata": {},
   "outputs": [],
   "source": [
    "#import sponsorship data\n",
    "cohort_df = import_worksheet(\"Tag IDs\", \"Sheet4\")\n",
    "\n",
    "#import tag ids\n",
    "tag_ids_df = import_worksheet(\"Tag IDs\",\"Sheet3\")"
   ]
  },
  {
   "cell_type": "code",
   "execution_count": null,
   "id": "7f1f75c5-3140-4ac4-b23e-0666bbde5426",
   "metadata": {},
   "outputs": [],
   "source": []
  },
  {
   "cell_type": "code",
   "execution_count": 17,
   "id": "98992a4d-212b-4f0d-b5de-5374c3d7f5a5",
   "metadata": {},
   "outputs": [],
   "source": [
    "number_columns = ['learner_id','id_1','id_2','id_3','id_4','id_5','id_6','id_7','id_8','id_9','id_10','id_11','id_12','id_13','post_code','learner_phone','high_school_last_year']"
   ]
  },
  {
   "cell_type": "code",
   "execution_count": 18,
   "id": "adf1a1be-cba0-4132-8936-e3f8ad9f3f6f",
   "metadata": {},
   "outputs": [],
   "source": [
    "for column in number_columns:\n",
    "    cohort_df[column] = cohort_df[column].astype(str)\n",
    "    if \".\" in cohort_df[column].values[0]:\n",
    "        cohort_df[column] = [phone.split(\".\")[0] for phone in cohort_df[column]]"
   ]
  },
  {
   "cell_type": "code",
   "execution_count": null,
   "id": "b9aa150d-fc6d-4906-b05b-55d389663441",
   "metadata": {},
   "outputs": [],
   "source": []
  },
  {
   "cell_type": "code",
   "execution_count": null,
   "id": "21c43ab8-6c05-4dfc-bef2-80dd8692f724",
   "metadata": {},
   "outputs": [],
   "source": []
  },
  {
   "cell_type": "code",
   "execution_count": null,
   "id": "14481923-8ab0-4e25-a360-09ae5437ddef",
   "metadata": {},
   "outputs": [],
   "source": []
  },
  {
   "cell_type": "code",
   "execution_count": null,
   "id": "8fdd5049-3bb0-46ee-b281-d129ba9d73f5",
   "metadata": {},
   "outputs": [],
   "source": []
  },
  {
   "cell_type": "code",
   "execution_count": null,
   "id": "8975f7c0-5eeb-469f-ab12-154fc3d1e749",
   "metadata": {},
   "outputs": [],
   "source": []
  }
 ],
 "metadata": {
  "kernelspec": {
   "display_name": "Python 3 (ipykernel)",
   "language": "python",
   "name": "python3"
  },
  "language_info": {
   "codemirror_mode": {
    "name": "ipython",
    "version": 3
   },
   "file_extension": ".py",
   "mimetype": "text/x-python",
   "name": "python",
   "nbconvert_exporter": "python",
   "pygments_lexer": "ipython3",
   "version": "3.8.2"
  }
 },
 "nbformat": 4,
 "nbformat_minor": 5
}
