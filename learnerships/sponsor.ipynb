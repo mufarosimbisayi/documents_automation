{
 "cells": [
  {
   "cell_type": "markdown",
   "id": "9cb47f49-c17e-4092-a506-bb6d726ac835",
   "metadata": {},
   "source": [
    "**This notebook contains a script that sends learnership contract templates to sponsors for signing**"
   ]
  },
  {
   "cell_type": "markdown",
   "id": "307687b9-f067-41a0-9243-3be421e97cad",
   "metadata": {},
   "source": [
    "**Add Local Library to path**"
   ]
  },
  {
   "cell_type": "code",
   "execution_count": 252,
   "id": "10eb6e4c-b272-43cb-8035-4a89e465fb36",
   "metadata": {},
   "outputs": [],
   "source": [
    "import os\n",
    "import sys\n",
    "\n",
    "module_path = os.path.abspath(os.path.join('..'))\n",
    "if module_path not in sys.path:\n",
    "    sys.path.append(module_path)\n",
    "    sys.path.append(module_path + '/local_library')"
   ]
  },
  {
   "cell_type": "markdown",
   "id": "0d955b87-6651-416f-9034-5d8c9eded0d3",
   "metadata": {},
   "source": [
    "**Import Libraries**"
   ]
  },
  {
   "cell_type": "code",
   "execution_count": 253,
   "id": "7df47e64-a54c-4544-958f-745723ad5c06",
   "metadata": {},
   "outputs": [],
   "source": [
    "import pandas as pd\n",
    "import requests\n",
    "import json\n",
    "from datetime import date\n",
    "from local_library import import_worksheet\n",
    "from local_library import export_worksheet\n",
    "from local_library import send_bulk_signrequest"
   ]
  },
  {
   "cell_type": "markdown",
   "id": "767e3b1b-6e2a-4e31-9812-befa77b2f3d7",
   "metadata": {},
   "source": [
    "**Create Local Library**"
   ]
  },
  {
   "cell_type": "code",
   "execution_count": 254,
   "id": "ef572f67-d5b5-4fb4-8a7f-ded3ab7bdd6a",
   "metadata": {},
   "outputs": [],
   "source": [
    "#split a column into multiple columns\n",
    "def split_column_num(target_df, column, column_len):\n",
    "    \n",
    "    #create list from 0 to column_len\n",
    "    n_list = list(range(0, column_len))\n",
    "    \n",
    "    #create and populate columns\n",
    "    for i in n_list:\n",
    "        target_df[f'{column}_{i+1}'] = [elem[i] if i < len(elem) else '' for elem in target_df[column]]\n",
    "        \n",
    "    return\n",
    "\n",
    "\n",
    "#split column into two binary columns\n",
    "def column_to_binary(target_df, column, specify='no'):\n",
    "    \n",
    "    #convert column to string\n",
    "    target_df[column] = target_df[column].astype(str)\n",
    "    \n",
    "    #strip whitespace\n",
    "    target_df[column] = target_df[column].str.strip()\n",
    "    \n",
    "    #create and populate binary columns\n",
    "    target_df[f'{column}_yes'] = ['X' if elem.lower() == 'yes' else '' for elem in target_df[column]]\n",
    "    target_df[f'{column}_no'] = ['X' if elem.lower() == 'no' else '' for elem in target_df[column]]\n",
    "    \n",
    "    return\n",
    "\n",
    "\n",
    "#split address into component parts\n",
    "def split_address(target_df, column):\n",
    "    \n",
    "    #set column to type string\n",
    "    target_df[column] = target_df[column].astype(str)\n",
    "    \n",
    "    #split address into street, area, city and strip\n",
    "    for i in range(1,4):\n",
    "        if len(list(target_df[column].str.split(\",\"))[0]) > i - 1:\n",
    "            target_df[f\"{column}_{i}\"] = target_df[column].str.split(\",\").str[i-1] + \",\"\n",
    "            target_df[f\"{column}_{i}\"] = target_df[f\"{column}_{i}\"].str.strip()\n",
    "        else:\n",
    "            target_df[f\"{column}_{i}\"] = \" \"\n",
    "    \n",
    "    #split addrss into area code and strip\n",
    "    if len(list(target_df[column].str.split(\",\"))[0]) > 3:\n",
    "        target_df[f\"{column}_post_code\"] = target_df[column].str.split(\",\").str[3:].str.join(\"\")\n",
    "        target_df[f\"{column}_post_code\"] = target_df[f\"{column}_post_code\"].str.strip()\n",
    "    else:\n",
    "        target_df[f\"{column}_post_code\"] = \" \"\n",
    "    \n",
    "    return\n",
    "\n",
    "#convert phone numbers\n",
    "def convert_phone(target_df, column):\n",
    "    target_df[column] = target_df[column].astype(str)\n",
    "    target_df[column] = target_df[column].astype(float)\n",
    "    target_df[column] = target_df[column].astype(int)\n",
    "    target_df[column] = target_df[column].astype(str)\n",
    "    \n",
    "    return\n",
    "\n",
    "\n",
    "#convert column type to string\n",
    "def convert_columns_type_string(target_df, columns):\n",
    "    for column in columns:\n",
    "        target_df[column] = target_df[column].astype(str)\n",
    "\n",
    "    return\n",
    "\n",
    "\n",
    "#split columns based on column values\n",
    "def split_column(target_df, column):\n",
    "    new_columns = target_df[column].unique()\n",
    "    for new_column in new_columns:\n",
    "        target_df[new_column] = ['X' if elem == new_column else '' for elem in target_df[column]]\n",
    "        \n",
    "    return\n",
    "\n",
    "\n",
    "#split column based on status\n",
    "def split_column_status(target_df, column, value):\n",
    "    #mark if citizen yes\n",
    "    target_df[f\"{column}_yes\"] = ['X' if elem == value else '' for elem in target_df[column]]\n",
    "\n",
    "    #mark if citizen no\n",
    "    target_df[f\"{column}_no\"] = ['X' if elem != value else '' for elem in target_df[column]]\n",
    "\n",
    "    #specify citizenshp status\n",
    "    target_df[f\"{column}_specify\"] = [elem if elem != value else '' for elem in target_df[column]]\n",
    "    \n",
    "    return\n",
    "\n",
    "\n",
    "#createe prefill tags\n",
    "def create_tags(row, columns):\n",
    "    prefill_tags = []\n",
    "    for column in columns:\n",
    "        tags = {}\n",
    "        tags[\"external_id\"] = column\n",
    "        tags[\"text\"] = row[column]\n",
    "        prefill_tags.append(tags)\n",
    "        \n",
    "    return prefill_tags\n",
    "\n",
    "\n",
    "#add static column\n",
    "def add_static_columns(target_df, column_dict):\n",
    "    for key in column_dict.keys():\n",
    "        target_df[key] = column_dict[key]\n",
    "        \n",
    "    return\n",
    "\n",
    "\n",
    "#subset a dataframe\n",
    "def subset_dataframe(target_df, column, subset_array):\n",
    "    return target_df[target_df[column].isin(subset_array)]\n",
    "\n",
    "\n",
    "#combine sponsor and cohort dataframes\n",
    "def combine_dataframes(target_df, sponsor_df):\n",
    "\n",
    "    for column in sponsor_df.columns:\n",
    "        target_df.loc[:,column] = sponsor_df[column].values[0]\n",
    "    \n",
    "    return\n",
    "\n",
    "#replace nan values\n",
    "def replace_nan(target_df, columns):\n",
    "    target_df.loc[:,columns] = [\"\" for elem in columns]\n",
    "    return"
   ]
  },
  {
   "cell_type": "markdown",
   "id": "b393ff26-c9a3-4955-8895-1a51e50287fd",
   "metadata": {},
   "source": [
    "**Import Worksheets**"
   ]
  },
  {
   "cell_type": "code",
   "execution_count": 255,
   "id": "9e572d38-cf13-4e08-96e4-a59738a4ee3a",
   "metadata": {},
   "outputs": [],
   "source": [
    "#import sponsorship data\n",
    "sponsor_df = import_worksheet(\"Learnership Agreement Form (Responses)\", \"Form Responses 1\")\n",
    "\n",
    "#import tag ids\n",
    "tag_ids_df = import_worksheet(\"Tag IDs\",\"Sponsor\")"
   ]
  },
  {
   "cell_type": "markdown",
   "id": "4b26a07d-7fe1-4d29-8384-3f1e9b2b8e69",
   "metadata": {},
   "source": [
    "**Update Sponsor Column Names**"
   ]
  },
  {
   "cell_type": "code",
   "execution_count": 256,
   "id": "880fd31b-c7f0-455d-a2ca-7ca316901039",
   "metadata": {},
   "outputs": [],
   "source": [
    "column_names = {'Legal Name of Company:': 'employer_legal_name',\n",
    "                           'Trading Name of Company (if different from Legal Name):':'employer_trading_name',\n",
    "                           'Business Address:':'business_address',\n",
    "                           'Postal Address (if different from Business Address):':'business_postal_address',\n",
    "                           'Are you liable for skills development levy?':'skills_development',\n",
    "                           'If yes, what is your SDL number?':'sdl',\n",
    "                           'Name of SETA with which you are registered:':'seta_name',\n",
    "                           'Are you acting as the Lead Employer? (the answer to this should be yes if you are the sponsor)': 'lead_employer',\n",
    "                           'Contact Person responsible for Learnership:': 'learnership_contact',\n",
    "                           'Work Phone:': 'employer_phone',\n",
    "                           'Work Fax:':'employer_fax',\n",
    "                           'E-mail Address:': 'employer_email',\n",
    "                           'Full Name of representative responsible for signing the Learnership Agreement:':'employer_fullname',\n",
    "                           'Initials of representative responsible for signing the Learnership Agreement:':'employer_initials',\n",
    "                           'Would you like WTC_ to submit the Learnership Registration documents to your SETA on your behalf?':'delegate',\n",
    "                           'If you answered Yes to the above question, has the WTC_ Letter of Delegation been signed?':'delegation_letter',\n",
    "                            'Will you be utilising the WTC_ Learnership Employment Contract Template or providing your own contract template for Learnership registration?':'wtc_contract',\n",
    "                           'Do you have a preferred contact person for Learnership registrations with your SETA?':'seta_contact',\n",
    "                            'Standard Industrial Classification Code (sic code if applicable)':'sic',\n",
    "                           'Company Registration Number':'company_registration_number',\n",
    "                           'Company Registration Date':'company_registration_date',\n",
    "                            'Contact Person Designation':'employer_designation'}\n",
    "\n",
    "sponsor_df = sponsor_df.rename(columns=column_names)"
   ]
  },
  {
   "cell_type": "markdown",
   "id": "0062eb74-e404-43e8-ad9a-554320e656ef",
   "metadata": {},
   "source": [
    "**Fix Phone**"
   ]
  },
  {
   "cell_type": "code",
   "execution_count": 257,
   "id": "177cc169-3b52-41bd-9be8-4f6806986d78",
   "metadata": {},
   "outputs": [],
   "source": [
    "sponsor_df['employer_phone'] = sponsor_df['employer_phone'].astype(str)\n",
    "sponsor_df['employer_phone'] = sponsor_df['employer_phone'].str.split(\".\")[0][0]"
   ]
  },
  {
   "cell_type": "markdown",
   "id": "f6be2b53-d959-4ccb-b4ec-7d9e9def1b1f",
   "metadata": {},
   "source": [
    "**Fix SIC Code**"
   ]
  },
  {
   "cell_type": "code",
   "execution_count": 258,
   "id": "9c5079f9-e63f-416f-8cc5-e76fa9804ae6",
   "metadata": {},
   "outputs": [],
   "source": [
    "sponsor_df['sic'] = sponsor_df['sic'].astype(str)\n",
    "sponsor_df['sic'] = sponsor_df['sic'].str.split(\".\")[0][0]"
   ]
  },
  {
   "cell_type": "markdown",
   "id": "687a1fed-f9ea-41d6-8c57-63abfa7706ff",
   "metadata": {},
   "source": [
    "**Get Specific Sponsor**"
   ]
  },
  {
   "cell_type": "code",
   "execution_count": 259,
   "id": "0d872ac6-5eb6-4587-a2ec-aaa198c691da",
   "metadata": {},
   "outputs": [],
   "source": [
    "sponsor_df = subset_dataframe(sponsor_df,'employer_legal_name', ['WeThinkCode_'])"
   ]
  },
  {
   "cell_type": "markdown",
   "id": "282921ce-9244-4a0c-b021-65ffcbcd40bd",
   "metadata": {},
   "source": [
    "**Process SDL numbers**"
   ]
  },
  {
   "cell_type": "code",
   "execution_count": 260,
   "id": "6345cf8c-f174-476d-aac6-a0e89f42ee83",
   "metadata": {},
   "outputs": [],
   "source": [
    "sponsor_df['sdl'] = sponsor_df['sdl'].astype(str)\n",
    "sponsor_df['sdl'] = sponsor_df['sdl'].str.split(\".\")[0][0]\n",
    "sponsor_df['sdl'] = sponsor_df['sdl'].str.strip()\n",
    "sponsor_df['sdl'] = [elem[-9:] if len(elem) > 9 else elem for elem in sponsor_df['sdl']]\n",
    "\n",
    "#use split_column\n",
    "split_column_num(sponsor_df, \"sdl\", 9)"
   ]
  },
  {
   "cell_type": "markdown",
   "id": "a29eaebe-3c3a-428e-9eba-03f37c0fd530",
   "metadata": {},
   "source": [
    "**Process Skills Development**"
   ]
  },
  {
   "cell_type": "code",
   "execution_count": 261,
   "id": "9dd4715f-9b4b-4df7-878f-d247fbbd7eed",
   "metadata": {},
   "outputs": [],
   "source": [
    "#create skills development binary option\n",
    "column_to_binary(sponsor_df, 'skills_development')"
   ]
  },
  {
   "cell_type": "markdown",
   "id": "12d3cbf0-a5da-4870-925b-14a1a2131d9b",
   "metadata": {},
   "source": [
    "**Process Lead Employer**"
   ]
  },
  {
   "cell_type": "code",
   "execution_count": 262,
   "id": "00a3e2fd-1fda-49bb-916a-16be1b17317a",
   "metadata": {},
   "outputs": [],
   "source": [
    "#create skills development binary option\n",
    "column_to_binary(sponsor_df, 'lead_employer')"
   ]
  },
  {
   "cell_type": "markdown",
   "id": "c9af69c6-762f-49d0-ba6a-6cedde018116",
   "metadata": {},
   "source": [
    "**Process Business Address**"
   ]
  },
  {
   "cell_type": "code",
   "execution_count": 263,
   "id": "bf830b7f-9f81-4273-a536-ffdac4217594",
   "metadata": {},
   "outputs": [],
   "source": [
    "#create business address\n",
    "split_address(sponsor_df, \"business_address\")"
   ]
  },
  {
   "cell_type": "markdown",
   "id": "c5bf8b01-9ddd-4365-9e74-adf28754d66f",
   "metadata": {},
   "source": [
    "**Process Business Postal Adress**"
   ]
  },
  {
   "cell_type": "code",
   "execution_count": 264,
   "id": "cdee9776-7101-4c47-bc5a-28289bc162fa",
   "metadata": {},
   "outputs": [],
   "source": [
    "#create business postal address\n",
    "split_address(sponsor_df, \"business_postal_address\")"
   ]
  },
  {
   "cell_type": "markdown",
   "id": "669c4bb0-7cce-441a-af0f-488a72d97305",
   "metadata": {},
   "source": [
    "**Split Full Name**"
   ]
  },
  {
   "cell_type": "code",
   "execution_count": 265,
   "id": "bb7811ce-4626-47db-9fc0-a8ad2ec3b641",
   "metadata": {},
   "outputs": [],
   "source": [
    "sponsor_df['learnership_contact'] = sponsor_df['employer_fullname'].str.split()[0][0]\n",
    "sponsor_df['learnership_contact_name'] = sponsor_df['employer_fullname'].str.split()[0][0]\n",
    "sponsor_df['learnership_contact_surname'] = sponsor_df['employer_fullname'].str.split()[0][-1]"
   ]
  },
  {
   "cell_type": "markdown",
   "id": "a719b74d-88a4-4a1c-94ce-d25569e4d85a",
   "metadata": {},
   "source": [
    "**Verify Columns**"
   ]
  },
  {
   "cell_type": "code",
   "execution_count": 266,
   "id": "4dd634ae-7c04-405b-9506-f1affb78ab67",
   "metadata": {},
   "outputs": [],
   "source": [
    "for column in list(filter(lambda x: type(x) == str,tag_ids_df['MICT'])):\n",
    "    if column not in sponsor_df.columns:\n",
    "        print(column)"
   ]
  },
  {
   "cell_type": "markdown",
   "id": "0d534d30-1465-4bd3-8e09-b9722b897af6",
   "metadata": {},
   "source": [
    "**Set Learner Email and Template ID**"
   ]
  },
  {
   "cell_type": "code",
   "execution_count": 267,
   "id": "5fedd580-6837-4fb6-8a84-21f091c00840",
   "metadata": {},
   "outputs": [],
   "source": [
    "sponsor_df['learner_email'] = 'mufaro@thoughtquest.co.za'\n",
    "\n",
    "template_ids = {'MICT':'31c56eea-86c8-47aa-bb88-29789c285eff', 'BANKSETA':'b464c79c-22c5-4997-b769-890e264b2635',\n",
    "               'FASSET':'dbe642a5-c97b-4f9f-9980-ec785fbd38f6', 'Contract':'6c6ae58c-2d42-41e4-b9e6-73f0c2d1363d'}\n",
    "sponsor_df['template_id'] = template_ids['Contract']\n",
    "\n",
    "target_columns = list(filter(lambda x: type(x) == str,tag_ids_df['Contract']))"
   ]
  },
  {
   "cell_type": "markdown",
   "id": "ba4c2021-9f21-4dd7-93d5-5f039f80a576",
   "metadata": {},
   "source": [
    "**Replace NULL Values**"
   ]
  },
  {
   "cell_type": "code",
   "execution_count": 268,
   "id": "024ed8c1-f235-4607-baee-3f04e92a7cf1",
   "metadata": {},
   "outputs": [],
   "source": [
    "sponsor_df = sponsor_df.fillna(\" \")"
   ]
  },
  {
   "cell_type": "markdown",
   "id": "3c86c423-2295-44d5-8e9d-89c9af357479",
   "metadata": {},
   "source": [
    "**Send Contract**"
   ]
  },
  {
   "cell_type": "code",
   "execution_count": 269,
   "id": "3cb2c795-fbf8-4920-9e34-b29c72d8e706",
   "metadata": {},
   "outputs": [
    {
     "name": "stdout",
     "output_type": "stream",
     "text": [
      "Signer: mufaro@thoughtquest.co.za , Status: 201\n"
     ]
    }
   ],
   "source": [
    "send_bulk_signrequest(sponsor_df, target_columns, 'template_id')"
   ]
  },
  {
   "cell_type": "code",
   "execution_count": 232,
   "id": "2d35eecd-794c-4977-8531-2768110ea0da",
   "metadata": {},
   "outputs": [
    {
     "name": "stdout",
     "output_type": "stream",
     "text": [
      "employer_initials : M.S.C\n",
      "employer_legal_name : WeThinkCode_\n",
      "employer_trading_name : WeThinkCode_\n",
      "seta_name : MICT SETA\n",
      "skills_development_yes : X\n",
      "skills_development_no : \n",
      "sdl : 123456789\n",
      "seta_name : MICT SETA\n",
      "sic : 123456\n",
      "lead_employer_yes : X\n",
      "lead_employer_no : \n",
      "business_address_1 : 84 Albertina Sisulu Rd,\n",
      "business_address_2 : CBD,\n",
      "business_address_3 : Johannesburg,\n",
      "business_postal_address_1 : nan,\n",
      "business_postal_address_2 :  \n",
      "business_postal_address_3 :  \n",
      "learnership_contact : Mufaro\n",
      "employer_phone : 835555564\n",
      "employer_fax :  \n",
      "employer_phone : 835555564\n",
      "employer_email : mufaro@wethinkcode.co.za\n",
      "employer_fullname : Mufaro Simbisayi\n",
      "employer_designation : Accreditation\n"
     ]
    }
   ],
   "source": [
    "for column in target_columns:\n",
    "    print(f\"{column} : {sponsor_df[column].values[0]}\")"
   ]
  },
  {
   "cell_type": "code",
   "execution_count": 233,
   "id": "d6633145-fe82-47de-bb87-44a2c3b7108d",
   "metadata": {},
   "outputs": [
    {
     "data": {
      "text/plain": [
       "0    835555564\n",
       "Name: employer_phone, dtype: object"
      ]
     },
     "execution_count": 233,
     "metadata": {},
     "output_type": "execute_result"
    }
   ],
   "source": [
    "sponsor_df['employer_phone']"
   ]
  },
  {
   "cell_type": "code",
   "execution_count": null,
   "id": "a4a506ca-a4b2-44d0-bfdb-38aa0d01b675",
   "metadata": {},
   "outputs": [],
   "source": []
  },
  {
   "cell_type": "code",
   "execution_count": null,
   "id": "18a1f609-8593-4af4-86ac-53a276b50a7b",
   "metadata": {},
   "outputs": [],
   "source": []
  },
  {
   "cell_type": "code",
   "execution_count": null,
   "id": "efb7ee6b-7037-43fc-beaa-3e49275dfa8b",
   "metadata": {},
   "outputs": [],
   "source": []
  }
 ],
 "metadata": {
  "kernelspec": {
   "display_name": "Python 3 (ipykernel)",
   "language": "python",
   "name": "python3"
  },
  "language_info": {
   "codemirror_mode": {
    "name": "ipython",
    "version": 3
   },
   "file_extension": ".py",
   "mimetype": "text/x-python",
   "name": "python",
   "nbconvert_exporter": "python",
   "pygments_lexer": "ipython3",
   "version": "3.8.2"
  }
 },
 "nbformat": 4,
 "nbformat_minor": 5
}
