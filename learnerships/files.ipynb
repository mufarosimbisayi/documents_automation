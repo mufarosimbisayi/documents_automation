{
 "cells": [
  {
   "cell_type": "markdown",
   "id": "4860da97-0c66-486e-bf17-0f17a97cad56",
   "metadata": {},
   "source": [
    "**This notebook contains a script that moves files into sponsor folders.**"
   ]
  },
  {
   "cell_type": "markdown",
   "id": "ad8de9e5-2e92-48e0-a67e-ab7bd21a8d34",
   "metadata": {},
   "source": [
    "**Add local library to path**"
   ]
  },
  {
   "cell_type": "code",
   "execution_count": 1,
   "id": "ae0fe018-016c-47f5-b9f7-95fa08df9bea",
   "metadata": {},
   "outputs": [],
   "source": [
    "import os\n",
    "import sys\n",
    "\n",
    "module_path = os.path.abspath(os.path.join('..'))\n",
    "if module_path not in sys.path:\n",
    "    sys.path.append(module_path)\n",
    "    sys.path.append(module_path + '/local_library')"
   ]
  },
  {
   "cell_type": "markdown",
   "id": "5e36e6a9-beb7-4063-800e-b3131b3c73fd",
   "metadata": {},
   "source": [
    "**Import Libraries**"
   ]
  },
  {
   "cell_type": "code",
   "execution_count": 2,
   "id": "86fc07cf-b446-476d-ba3c-4cd4ee86960f",
   "metadata": {},
   "outputs": [
    {
     "name": "stdout",
     "output_type": "stream",
     "text": [
      "Your browser has been opened to visit:\n",
      "\n",
      "    https://accounts.google.com/o/oauth2/auth?client_id=1017190226189-f1d5s7cpjrj54u2rqk1ufh9pevguqoap.apps.googleusercontent.com&redirect_uri=http%3A%2F%2Flocalhost%3A8080%2F&scope=https%3A%2F%2Fwww.googleapis.com%2Fauth%2Fdrive&access_type=offline&response_type=code\n",
      "\n",
      "Authentication successful.\n"
     ]
    }
   ],
   "source": [
    "import pandas as pd\n",
    "from local_library import import_worksheet\n",
    "from local_library import export_worksheet"
   ]
  },
  {
   "cell_type": "markdown",
   "id": "ce0d234a-b964-4e0c-b345-b065fdfcbf64",
   "metadata": {},
   "source": [
    "**Import WorkSheets**"
   ]
  },
  {
   "cell_type": "code",
   "execution_count": 14,
   "id": "3778a8ef-54e9-4e8c-85bc-9cfb7326d70b",
   "metadata": {},
   "outputs": [],
   "source": [
    "#import file names data\n",
    "files_df = import_worksheet(\"Document Database\", \"Sheet1\")"
   ]
  },
  {
   "cell_type": "markdown",
   "id": "320ce1a8-ff22-46b0-8ec5-6f2a83ad8330",
   "metadata": {},
   "source": [
    "**Subset Columns**"
   ]
  },
  {
   "cell_type": "code",
   "execution_count": 15,
   "id": "39a348ca-3016-48c6-9001-12ec373e9721",
   "metadata": {},
   "outputs": [],
   "source": [
    "files_df = files_df[['Username','Document', 'Latest Revision', 'Document Name']]"
   ]
  },
  {
   "cell_type": "markdown",
   "id": "0755a97a-0b1c-454d-840f-aac653882244",
   "metadata": {},
   "source": [
    "**Remove Null columns**"
   ]
  },
  {
   "cell_type": "code",
   "execution_count": 16,
   "id": "ffb9ef58-6173-4aee-b64e-99392c38a5ce",
   "metadata": {},
   "outputs": [],
   "source": [
    "files_df = files_df[files_df['Username'].notna()]"
   ]
  },
  {
   "cell_type": "code",
   "execution_count": null,
   "id": "7db236a6-42a5-4e84-8111-70617cdbf458",
   "metadata": {},
   "outputs": [],
   "source": []
  },
  {
   "cell_type": "markdown",
   "id": "b9958557-56b1-44a4-bcf2-cc82a65fe9dc",
   "metadata": {},
   "source": [
    "**Select Students**"
   ]
  },
  {
   "cell_type": "code",
   "execution_count": 25,
   "id": "fa87ebce-3d1f-40d2-8309-5499da0e2c2f",
   "metadata": {},
   "outputs": [],
   "source": [
    "files_df = files_df[files_df['Username'].isin(['amatsebe021', 'blanga021', 'dimmolef021', 'gdindi021', 'hnkabind021', 'kmasiten021', 'knjomo021', 'krathele021', 'kzabala021', 'linmagid021', 'murratsh021', 'ntmokoen021', 'sanndlovu021', 'sinmtsha021', 'tsontlak021'])]"
   ]
  },
  {
   "cell_type": "markdown",
   "id": "6cb06c50-2033-44ae-af17-5265b3838530",
   "metadata": {},
   "source": [
    "**Create New Dataframe**"
   ]
  },
  {
   "cell_type": "code",
   "execution_count": 42,
   "id": "548d9c36-39d9-4d0a-857a-b7f7b262f4a2",
   "metadata": {},
   "outputs": [],
   "source": [
    "new_df = pd.DataFrame()\n",
    "for column in ['Username'] + list(files_df['Document'].unique()):\n",
    "    new_df[column] = \"\"\n",
    "    \n",
    "new_df['Username'] = files_df['Username'].unique()"
   ]
  },
  {
   "cell_type": "markdown",
   "id": "de943ed3-8f73-4e12-a9cc-33695baf8c1f",
   "metadata": {},
   "source": [
    "**Populate New DataFrame**"
   ]
  },
  {
   "cell_type": "code",
   "execution_count": 46,
   "id": "11c581eb-74f6-45ba-bffb-886520bd84db",
   "metadata": {},
   "outputs": [],
   "source": [
    "for index, row in files_df.iterrows():\n",
    "    new_df.loc[new_df['Username'] == row['Username'], row['Document']] = row['Latest Revision']"
   ]
  },
  {
   "cell_type": "code",
   "execution_count": null,
   "id": "61a9aa0e-3997-413d-9da9-6650d0748f1f",
   "metadata": {},
   "outputs": [],
   "source": []
  },
  {
   "cell_type": "code",
   "execution_count": 50,
   "id": "9628c2ae-488d-4ef0-a246-7019a2be3698",
   "metadata": {},
   "outputs": [],
   "source": [
    "uploads_df = pd.read_csv('../seta_onloading/downloads/upload.csv')"
   ]
  },
  {
   "cell_type": "code",
   "execution_count": 51,
   "id": "36a6b068-a924-495c-ad6b-8b6df35f5987",
   "metadata": {},
   "outputs": [
    {
     "data": {
      "text/plain": [
       "Index(['Unnamed: 0', 'Name', 'Surname', 'IDNumber'], dtype='object')"
      ]
     },
     "execution_count": 51,
     "metadata": {},
     "output_type": "execute_result"
    }
   ],
   "source": [
    "uploads_df.columns"
   ]
  },
  {
   "cell_type": "code",
   "execution_count": null,
   "id": "cb0dfc63-4359-49db-817e-0793f34004c0",
   "metadata": {},
   "outputs": [],
   "source": []
  },
  {
   "cell_type": "code",
   "execution_count": null,
   "id": "96c895bd-e246-4643-9fe5-bc9d98715218",
   "metadata": {},
   "outputs": [],
   "source": []
  },
  {
   "cell_type": "code",
   "execution_count": null,
   "id": "3f94d82f-bdff-4340-a0e9-4086ce0462c9",
   "metadata": {},
   "outputs": [],
   "source": []
  },
  {
   "cell_type": "code",
   "execution_count": null,
   "id": "6c9d4b00-b513-48ba-990b-45c29319665f",
   "metadata": {},
   "outputs": [],
   "source": []
  }
 ],
 "metadata": {
  "kernelspec": {
   "display_name": "Python 3 (ipykernel)",
   "language": "python",
   "name": "python3"
  },
  "language_info": {
   "codemirror_mode": {
    "name": "ipython",
    "version": 3
   },
   "file_extension": ".py",
   "mimetype": "text/x-python",
   "name": "python",
   "nbconvert_exporter": "python",
   "pygments_lexer": "ipython3",
   "version": "3.8.2"
  }
 },
 "nbformat": 4,
 "nbformat_minor": 5
}
