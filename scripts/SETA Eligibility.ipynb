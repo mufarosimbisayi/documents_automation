{
 "cells": [
  {
   "cell_type": "markdown",
   "id": "automotive-pepper",
   "metadata": {},
   "source": [
    "**Import Libraries**"
   ]
  },
  {
   "cell_type": "code",
   "execution_count": 1,
   "id": "affiliated-variable",
   "metadata": {},
   "outputs": [],
   "source": [
    "import pandas as pd"
   ]
  },
  {
   "cell_type": "markdown",
   "id": "northern-disability",
   "metadata": {},
   "source": [
    "**Import Data into DataFrame**"
   ]
  },
  {
   "cell_type": "code",
   "execution_count": 2,
   "id": "grave-smart",
   "metadata": {},
   "outputs": [],
   "source": [
    "cohort_df = pd.read_csv(\"cohort_2020.csv\")"
   ]
  },
  {
   "cell_type": "markdown",
   "id": "historic-homework",
   "metadata": {},
   "source": [
    "**Subset Data into Useful Columns**"
   ]
  },
  {
   "cell_type": "code",
   "execution_count": 3,
   "id": "proud-arrangement",
   "metadata": {},
   "outputs": [],
   "source": [
    "cohort_df = cohort_df[[\"Username\", \"Firstname\",\"Surname\", \"ID Number/ Passport Number\", \"Nationality\", \"Residential Status (Citizen / Permanent Resident/Asylum Seeker/Work Permit/Study Permit)\", \"Passed Grade 12 Y/N\", \"Name of Highest Qualification Achieved\"]]"
   ]
  },
  {
   "cell_type": "markdown",
   "id": "literary-reputation",
   "metadata": {},
   "source": [
    "**Create New ID Columns**"
   ]
  },
  {
   "cell_type": "code",
   "execution_count": 4,
   "id": "facial-barrier",
   "metadata": {},
   "outputs": [],
   "source": [
    "##Create new IDNumber column\n",
    "cohort_df[\"IDNumber\"] = [f\"{id_num}\".split(\"\\\\\")[0].strip() for id_num in cohort_df[\"ID Number/ Passport Number\"]]\n",
    "\n",
    "#Create new ID Type column\n",
    "cohort_df[\"ID Type\"] = [\"National ID\" if (len(f\"{id_num}\") == 13 or len(f\"{id_num}\") == 12) else \"Passport Number\" for id_num in cohort_df[\"IDNumber\"]]"
   ]
  },
  {
   "cell_type": "code",
   "execution_count": 7,
   "id": "dated-cornwall",
   "metadata": {},
   "outputs": [
    {
     "data": {
      "text/html": [
       "<div>\n",
       "<style scoped>\n",
       "    .dataframe tbody tr th:only-of-type {\n",
       "        vertical-align: middle;\n",
       "    }\n",
       "\n",
       "    .dataframe tbody tr th {\n",
       "        vertical-align: top;\n",
       "    }\n",
       "\n",
       "    .dataframe thead th {\n",
       "        text-align: right;\n",
       "    }\n",
       "</style>\n",
       "<table border=\"1\" class=\"dataframe\">\n",
       "  <thead>\n",
       "    <tr style=\"text-align: right;\">\n",
       "      <th></th>\n",
       "      <th>Username</th>\n",
       "      <th>Firstname</th>\n",
       "      <th>Surname</th>\n",
       "      <th>ID Number/ Passport Number</th>\n",
       "      <th>Nationality</th>\n",
       "      <th>Residential Status</th>\n",
       "      <th>Passed Grade 12 Y/N</th>\n",
       "      <th>Name of Highest Qualification Achieved</th>\n",
       "      <th>IDNumber</th>\n",
       "      <th>ID Type</th>\n",
       "    </tr>\n",
       "  </thead>\n",
       "  <tbody>\n",
       "    <tr>\n",
       "      <th>0</th>\n",
       "      <td>adyoli</td>\n",
       "      <td>Athenkosi</td>\n",
       "      <td>Dyoli</td>\n",
       "      <td>9509215919086</td>\n",
       "      <td>South African</td>\n",
       "      <td>Citizen</td>\n",
       "      <td>Y</td>\n",
       "      <td>Grade 12</td>\n",
       "      <td>9509215919086</td>\n",
       "      <td>National ID</td>\n",
       "    </tr>\n",
       "    <tr>\n",
       "      <th>1</th>\n",
       "      <td>ahlalele</td>\n",
       "      <td>Abigail</td>\n",
       "      <td>Hlalele</td>\n",
       "      <td>0005020136080</td>\n",
       "      <td>South African</td>\n",
       "      <td>Citizen</td>\n",
       "      <td>Y</td>\n",
       "      <td>Grade 12</td>\n",
       "      <td>0005020136080</td>\n",
       "      <td>National ID</td>\n",
       "    </tr>\n",
       "    <tr>\n",
       "      <th>2</th>\n",
       "      <td>ajenkins</td>\n",
       "      <td>Arthur</td>\n",
       "      <td>Jenkins</td>\n",
       "      <td>0003255794087</td>\n",
       "      <td>South African</td>\n",
       "      <td>Citizen</td>\n",
       "      <td>N</td>\n",
       "      <td>Grade 9</td>\n",
       "      <td>0003255794087</td>\n",
       "      <td>National ID</td>\n",
       "    </tr>\n",
       "    <tr>\n",
       "      <th>3</th>\n",
       "      <td>amunyai</td>\n",
       "      <td>Amon</td>\n",
       "      <td>Munyai</td>\n",
       "      <td>0108255738081</td>\n",
       "      <td>South African</td>\n",
       "      <td>Citizen</td>\n",
       "      <td>NaN</td>\n",
       "      <td>NaN</td>\n",
       "      <td>0108255738081</td>\n",
       "      <td>National ID</td>\n",
       "    </tr>\n",
       "    <tr>\n",
       "      <th>4</th>\n",
       "      <td>althotse</td>\n",
       "      <td>Majane</td>\n",
       "      <td>Thotse</td>\n",
       "      <td>9704115450080</td>\n",
       "      <td>South African</td>\n",
       "      <td>Citizen</td>\n",
       "      <td>Y</td>\n",
       "      <td>N5 Mechanical Engineering</td>\n",
       "      <td>9704115450080</td>\n",
       "      <td>National ID</td>\n",
       "    </tr>\n",
       "  </tbody>\n",
       "</table>\n",
       "</div>"
      ],
      "text/plain": [
       "   Username  Firstname  Surname ID Number/ Passport Number    Nationality  \\\n",
       "0    adyoli  Athenkosi    Dyoli              9509215919086  South African   \n",
       "1  ahlalele    Abigail  Hlalele              0005020136080  South African   \n",
       "2  ajenkins     Arthur  Jenkins              0003255794087  South African   \n",
       "3   amunyai       Amon   Munyai              0108255738081  South African   \n",
       "4  althotse     Majane   Thotse              9704115450080  South African   \n",
       "\n",
       "  Residential Status Passed Grade 12 Y/N  \\\n",
       "0            Citizen                   Y   \n",
       "1            Citizen                   Y   \n",
       "2            Citizen                   N   \n",
       "3            Citizen                 NaN   \n",
       "4            Citizen                   Y   \n",
       "\n",
       "  Name of Highest Qualification Achieved       IDNumber      ID Type  \n",
       "0                               Grade 12  9509215919086  National ID  \n",
       "1                               Grade 12  0005020136080  National ID  \n",
       "2                                Grade 9  0003255794087  National ID  \n",
       "3                                    NaN  0108255738081  National ID  \n",
       "4              N5 Mechanical Engineering  9704115450080  National ID  "
      ]
     },
     "execution_count": 7,
     "metadata": {},
     "output_type": "execute_result"
    }
   ],
   "source": [
    "#Residential status includes:  (Citizen / Permanent Resident/Asylum Seeker/Work Permit/Study Permit)\n",
    "cohort_df.columns = ['Username', 'Firstname', 'Surname', 'ID Number/ Passport Number',\n",
    "       'Nationality',\n",
    "       'Residential Status',\n",
    "       'Passed Grade 12 Y/N', 'Name of Highest Qualification Achieved',\n",
    "       'IDNumber', 'ID Type']\n",
    "cohort_df.head()"
   ]
  },
  {
   "cell_type": "code",
   "execution_count": null,
   "id": "catholic-differential",
   "metadata": {},
   "outputs": [],
   "source": []
  },
  {
   "cell_type": "code",
   "execution_count": null,
   "id": "prerequisite-metro",
   "metadata": {},
   "outputs": [],
   "source": []
  },
  {
   "cell_type": "code",
   "execution_count": null,
   "id": "sapphire-nicaragua",
   "metadata": {},
   "outputs": [],
   "source": []
  },
  {
   "cell_type": "code",
   "execution_count": null,
   "id": "administrative-projection",
   "metadata": {},
   "outputs": [],
   "source": []
  },
  {
   "cell_type": "code",
   "execution_count": null,
   "id": "determined-facial",
   "metadata": {},
   "outputs": [],
   "source": []
  },
  {
   "cell_type": "code",
   "execution_count": null,
   "id": "lesbian-adjustment",
   "metadata": {},
   "outputs": [],
   "source": []
  },
  {
   "cell_type": "code",
   "execution_count": null,
   "id": "working-utilization",
   "metadata": {},
   "outputs": [],
   "source": []
  },
  {
   "cell_type": "code",
   "execution_count": null,
   "id": "opened-model",
   "metadata": {},
   "outputs": [],
   "source": []
  },
  {
   "cell_type": "code",
   "execution_count": null,
   "id": "circular-sandwich",
   "metadata": {},
   "outputs": [],
   "source": []
  },
  {
   "cell_type": "code",
   "execution_count": null,
   "id": "hollywood-engine",
   "metadata": {},
   "outputs": [],
   "source": []
  },
  {
   "cell_type": "code",
   "execution_count": null,
   "id": "suited-radio",
   "metadata": {},
   "outputs": [],
   "source": []
  },
  {
   "cell_type": "code",
   "execution_count": null,
   "id": "comfortable-accent",
   "metadata": {},
   "outputs": [],
   "source": []
  },
  {
   "cell_type": "code",
   "execution_count": null,
   "id": "excess-centre",
   "metadata": {},
   "outputs": [],
   "source": []
  }
 ],
 "metadata": {
  "kernelspec": {
   "display_name": "Python 3 (ipykernel)",
   "language": "python",
   "name": "python3"
  },
  "language_info": {
   "codemirror_mode": {
    "name": "ipython",
    "version": 3
   },
   "file_extension": ".py",
   "mimetype": "text/x-python",
   "name": "python",
   "nbconvert_exporter": "python",
   "pygments_lexer": "ipython3",
   "version": "3.8.2"
  }
 },
 "nbformat": 4,
 "nbformat_minor": 5
}
