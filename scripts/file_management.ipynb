{
 "cells": [
  {
   "cell_type": "markdown",
   "id": "quick-jacksonville",
   "metadata": {},
   "source": [
    "**This notebook contains a script that assissts in the management of student documents, files and folders.**"
   ]
  },
  {
   "cell_type": "markdown",
   "id": "peripheral-peeing",
   "metadata": {},
   "source": [
    "**Import Libraries**"
   ]
  },
  {
   "cell_type": "code",
   "execution_count": 1,
   "id": "widespread-gilbert",
   "metadata": {},
   "outputs": [],
   "source": [
    "import os\n",
    "from pydrive.auth import GoogleAuth\n",
    "from pydrive.drive import GoogleDrive"
   ]
  },
  {
   "cell_type": "markdown",
   "id": "paperback-physics",
   "metadata": {},
   "source": [
    "**Authenticate Google Drive**"
   ]
  },
  {
   "cell_type": "code",
   "execution_count": 14,
   "id": "listed-handbook",
   "metadata": {},
   "outputs": [
    {
     "name": "stdout",
     "output_type": "stream",
     "text": [
      "Your browser has been opened to visit:\n",
      "\n",
      "    https://accounts.google.com/o/oauth2/auth?client_id=1017190226189-f1d5s7cpjrj54u2rqk1ufh9pevguqoap.apps.googleusercontent.com&redirect_uri=http%3A%2F%2Flocalhost%3A8080%2F&scope=https%3A%2F%2Fwww.googleapis.com%2Fauth%2Fdrive&access_type=offline&response_type=code\n",
      "\n",
      "Authentication successful.\n"
     ]
    }
   ],
   "source": [
    "gauth = GoogleAuth()\n",
    "gauth.LocalWebserverAuth()\n",
    "drive = GoogleDrive(gauth)"
   ]
  },
  {
   "cell_type": "markdown",
   "id": "involved-argentina",
   "metadata": {},
   "source": [
    "**Get File By ID**"
   ]
  },
  {
   "cell_type": "code",
   "execution_count": 2,
   "id": "continuous-coast",
   "metadata": {},
   "outputs": [],
   "source": [
    "#create method that returns files in a folder by id\n",
    "def list_files(folder_id):\n",
    "    file_list = drive.ListFile(\n",
    "        {\n",
    "            'q': \"'{}' in parents and trashed=false\".format(folder_id),\n",
    "            'corpora': \"teamDrive\",\n",
    "            'teamDriveId': \"0ALGjY-PCeStEUk9PVA\",\n",
    "            'includeTeamDriveItems': \"true\",\n",
    "            'supportsTeamDrives': \"true\"\n",
    "        }\n",
    "    ).GetList()\n",
    "    return file_list"
   ]
  },
  {
   "cell_type": "markdown",
   "id": "norman-saturn",
   "metadata": {},
   "source": [
    "**Create Google Drive Folder**"
   ]
  },
  {
   "cell_type": "code",
   "execution_count": 3,
   "id": "communist-college",
   "metadata": {},
   "outputs": [],
   "source": [
    "def create_folder(parent_folder_id, folder_name):\n",
    "    #create folder if it does not exist\n",
    "    file_list = list_files(parent_folder_id)\n",
    "    folder_id = ''\n",
    "    for folder in file_list:\n",
    "        if folder['title'] == folder_name:\n",
    "            return folder['id']\n",
    "    if not folder_id:\n",
    "        folder = drive.CreateFile({'parents': [{'id': parent_folder_id}], 'title': folder_name,\n",
    "                                   'mimeType': 'application/vnd.google-apps.folder'})\n",
    "        folder.Upload()\n",
    "        return folder['id']\n",
    "    return False"
   ]
  },
  {
   "cell_type": "markdown",
   "id": "medical-bargain",
   "metadata": {},
   "source": [
    "**Copy Google Drive File**"
   ]
  },
  {
   "cell_type": "code",
   "execution_count": 4,
   "id": "public-procurement",
   "metadata": {},
   "outputs": [],
   "source": [
    "def copy_file(folder_id, file_name, file_params):\n",
    "    #download file\n",
    "    files = list_files(file_params['parent_id'])\n",
    "    target_file = files[0]\n",
    "    for file in files:\n",
    "        if file['id'] == file_params['file_id']:\n",
    "            target_file = file\n",
    "\n",
    "    target_file.GetContentFile(file_name)\n",
    "    \n",
    "    #upload file to new folder location\n",
    "    file = drive.CreateFile({'parents': [{'id': folder_id}], 'title': file_name})\n",
    "    file.SetContentFile(file_name)\n",
    "    file.Upload()\n",
    "    \n",
    "    #delete local file\n",
    "    if os.path.exists(file_name):\n",
    "        os.remove(file_name)\n",
    "    else:\n",
    "        print(\"The file does not exist\")"
   ]
  },
  {
   "cell_type": "code",
   "execution_count": 103,
   "id": "incident-mauritius",
   "metadata": {},
   "outputs": [],
   "source": []
  },
  {
   "cell_type": "code",
   "execution_count": 23,
   "id": "written-calibration",
   "metadata": {},
   "outputs": [],
   "source": []
  },
  {
   "cell_type": "code",
   "execution_count": null,
   "id": "configured-arctic",
   "metadata": {},
   "outputs": [],
   "source": []
  },
  {
   "cell_type": "code",
   "execution_count": null,
   "id": "handled-belle",
   "metadata": {},
   "outputs": [],
   "source": []
  }
 ],
 "metadata": {
  "kernelspec": {
   "display_name": "Python 3 (ipykernel)",
   "language": "python",
   "name": "python3"
  },
  "language_info": {
   "codemirror_mode": {
    "name": "ipython",
    "version": 3
   },
   "file_extension": ".py",
   "mimetype": "text/x-python",
   "name": "python",
   "nbconvert_exporter": "python",
   "pygments_lexer": "ipython3",
   "version": "3.8.2"
  }
 },
 "nbformat": 4,
 "nbformat_minor": 5
}
