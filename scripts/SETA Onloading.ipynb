{
 "cells": [
  {
   "cell_type": "markdown",
   "id": "romantic-judge",
   "metadata": {},
   "source": [
    "**This notebook contains a script that determines whether students are eligible for the SETA NQF level 5 Qualification**"
   ]
  },
  {
   "cell_type": "markdown",
   "id": "wrapped-career",
   "metadata": {},
   "source": [
    "**Import Libraries**"
   ]
  },
  {
   "cell_type": "code",
   "execution_count": 5,
   "id": "opponent-redhead",
   "metadata": {},
   "outputs": [],
   "source": [
    "import pandas as pd\n",
    "import numpy as np\n",
    "import gspread\n",
    "import gspread_dataframe as gd\n",
    "from fuzzywuzzy import process"
   ]
  },
  {
   "cell_type": "markdown",
   "id": "expensive-collar",
   "metadata": {},
   "source": [
    "**Authenticate Gspread**"
   ]
  },
  {
   "cell_type": "code",
   "execution_count": 6,
   "id": "adopted-flashing",
   "metadata": {},
   "outputs": [],
   "source": [
    "gc = gspread.oauth()"
   ]
  },
  {
   "cell_type": "markdown",
   "id": "vulnerable-covering",
   "metadata": {},
   "source": [
    "**Create Worksheets**"
   ]
  },
  {
   "cell_type": "code",
   "execution_count": 7,
   "id": "revised-exercise",
   "metadata": {},
   "outputs": [],
   "source": [
    "#cohort 2020 data worksheet\n",
    "cohort_2020_data_worksheet = gc.open(\"Cohort 2020 Data\").worksheet('Cohort 2020 Data')"
   ]
  },
  {
   "cell_type": "markdown",
   "id": "previous-bhutan",
   "metadata": {},
   "source": [
    "**Import Data into Dataframes**"
   ]
  },
  {
   "cell_type": "code",
   "execution_count": 8,
   "id": "polish-stylus",
   "metadata": {},
   "outputs": [],
   "source": [
    "#import cohort data\n",
    "cohort_df = gd.get_as_dataframe(cohort_2020_data_worksheet)\n",
    "\n",
    "#import emis national data \n",
    "national_df = pd.read_excel('../national.xlsx')\n",
    "\n",
    "#import national area codes\n",
    "areacode_df = pd.read_csv('../temp_area.csv')\n",
    "\n",
    "#import city to province map\n",
    "province_df = pd.read_csv(\"../new_province.csv\")\n",
    "\n",
    "#import municipality data\n",
    "municipality_df = pd.read_csv(\"../municipality.csv\")"
   ]
  },
  {
   "cell_type": "markdown",
   "id": "given-valve",
   "metadata": {},
   "source": [
    "**Select Only Active Students Without the Qualification**"
   ]
  },
  {
   "cell_type": "code",
   "execution_count": 9,
   "id": "exciting-newspaper",
   "metadata": {},
   "outputs": [],
   "source": [
    "#strip all columns\n",
    "all_columns = ['Active / Not active/Early absorption','Name of Highest Qualification Achieved']\n",
    "for column in all_columns:\n",
    "    cohort_df[column] = cohort_df[column].astype(str)\n",
    "    cohort_df[column] = cohort_df[column].str.strip()\n",
    "\n",
    "cohort_df = cohort_df[cohort_df['Active / Not active/Early absorption'] == 'Active']\n",
    "cohort_df = cohort_df[~cohort_df['Name of Highest Qualification Achieved'].str.contains('Comp')]"
   ]
  },
  {
   "cell_type": "markdown",
   "id": "canadian-bangladesh",
   "metadata": {},
   "source": [
    "**Subset Datasets**"
   ]
  },
  {
   "cell_type": "code",
   "execution_count": 10,
   "id": "solid-disclosure",
   "metadata": {},
   "outputs": [],
   "source": [
    "#subset emis and areacode dataset\n",
    "national_df = national_df[['NatEmis', 'Suburb', 'Institution_Name']]\n",
    "areacode_df = areacode_df[['STATSSA_Area_Code', 'Description']]\n",
    "\n",
    "#subset cohort data\n",
    "cohort_df = cohort_df[[\"Firstname\",\"Surname\", \"ID Number/ Passport Number\", \"Birth Date\", \"Gender\", \"Disability\", \"Ethnicity\", \"Nationality\", \"Residential Status (Citizen / Permanent Resident/Asylum Seeker/Work Permit/Study Permit)\", \"Home Language\", \"City\", \"Passed Grade 12 Y/N\", \"Municipality\", \"Name of High School\", \"Physical Address while studying\", \"Home Address\", \"Year Completed Grade 12\"]]\n"
   ]
  },
  {
   "cell_type": "markdown",
   "id": "outstanding-holly",
   "metadata": {},
   "source": [
    "**Drop NAN Rows**"
   ]
  },
  {
   "cell_type": "code",
   "execution_count": 11,
   "id": "fundamental-permission",
   "metadata": {},
   "outputs": [],
   "source": [
    "#drop rows with null value in institution column\n",
    "national_df = national_df[national_df[\"Institution_Name\"].notna()]\n"
   ]
  },
  {
   "cell_type": "markdown",
   "id": "addressed-basis",
   "metadata": {},
   "source": [
    "**Create ID Column**"
   ]
  },
  {
   "cell_type": "code",
   "execution_count": 12,
   "id": "precious-uniform",
   "metadata": {},
   "outputs": [],
   "source": [
    "#create new idnumber column\n",
    "cohort_df[\"IDNumber\"] = [f\"{id_num}\".split(\"\\\\\")[0].strip() for id_num in cohort_df[\"ID Number/ Passport Number\"]]\n",
    "\n",
    "#create new id type column\n",
    "cohort_df[\"ID Type\"] = [\"National ID\" if (len(f\"{id_num}\") == 13 or len(f\"{id_num}\") == 12) else \"Passport Number\" for id_num in cohort_df[\"IDNumber\"]]"
   ]
  },
  {
   "cell_type": "markdown",
   "id": "superior-posting",
   "metadata": {},
   "source": [
    "**Add Province**"
   ]
  },
  {
   "cell_type": "code",
   "execution_count": 13,
   "id": "confirmed-pension",
   "metadata": {},
   "outputs": [],
   "source": [
    "#create second city column\n",
    "cohort_df[\"City2\"] = cohort_df[\"Home Address\"].str.split(\",\").str[-2]\n",
    "\n",
    "#convert second city column to type string\n",
    "cohort_df[\"City2\"] = cohort_df[\"City2\"].astype(str)\n",
    "\n",
    "#strip columns whitespaces\n",
    "cohort_df[\"City2\"] = cohort_df[\"City2\"].str.strip()\n",
    "province_df[\"City\"] = province_df[\"City\"].str.strip()\n",
    "\n",
    "#set columns to lowercase\n",
    "cohort_df[\"City2\"] = cohort_df[\"City2\"].str.lower()\n",
    "province_df[\"City\"] = province_df[\"City\"].str.lower()\n",
    "\n",
    "#prep search strings for fuzzywuzzy operation\n",
    "strOptions = [elem for elem in province_df['City']]\n",
    "strOptions = set(strOptions)\n",
    "strOptions = list(strOptions)\n",
    "\n",
    "#prep areas for fuzzywuzzy search\n",
    "areas = [elem for elem in cohort_df[\"City2\"]]\n",
    "areas = set(areas)\n",
    "\n",
    "#perform fuzzywuzzy matching\n",
    "for area in areas:\n",
    "    highest = process.extractOne(area, strOptions)\n",
    "    cohort_df.loc[cohort_df['City2'] == area, 'Province'] = province_df.loc[province_df['City'] == highest[0], 'Province'].values[0]\n",
    "\n"
   ]
  },
  {
   "cell_type": "markdown",
   "id": "american-outside",
   "metadata": {},
   "source": [
    "**Split Physical Address**"
   ]
  },
  {
   "cell_type": "code",
   "execution_count": 14,
   "id": "trying-telescope",
   "metadata": {},
   "outputs": [
    {
     "data": {
      "text/html": [
       "<div>\n",
       "<style scoped>\n",
       "    .dataframe tbody tr th:only-of-type {\n",
       "        vertical-align: middle;\n",
       "    }\n",
       "\n",
       "    .dataframe tbody tr th {\n",
       "        vertical-align: top;\n",
       "    }\n",
       "\n",
       "    .dataframe thead th {\n",
       "        text-align: right;\n",
       "    }\n",
       "</style>\n",
       "<table border=\"1\" class=\"dataframe\">\n",
       "  <thead>\n",
       "    <tr style=\"text-align: right;\">\n",
       "      <th></th>\n",
       "      <th>Physical Address 1</th>\n",
       "      <th>Physical Address 2</th>\n",
       "      <th>Physical Address 3</th>\n",
       "      <th>Physical Post Code</th>\n",
       "      <th>Physical Province</th>\n",
       "    </tr>\n",
       "  </thead>\n",
       "  <tbody>\n",
       "    <tr>\n",
       "      <th>1</th>\n",
       "      <td>66 8th Avenue</td>\n",
       "      <td>Bezuidenhout valley</td>\n",
       "      <td>Johannesburg</td>\n",
       "      <td>2094</td>\n",
       "      <td>Gauteng</td>\n",
       "    </tr>\n",
       "    <tr>\n",
       "      <th>2</th>\n",
       "      <td>84 Fox Street</td>\n",
       "      <td>Marshalltown</td>\n",
       "      <td>Johannesburg</td>\n",
       "      <td>2001</td>\n",
       "      <td>Gauteng</td>\n",
       "    </tr>\n",
       "    <tr>\n",
       "      <th>4</th>\n",
       "      <td>5456 Kgaka Cresent</td>\n",
       "      <td>Windmill Park Extension 12</td>\n",
       "      <td>Boksburg</td>\n",
       "      <td>1459</td>\n",
       "      <td>Gauteng</td>\n",
       "    </tr>\n",
       "    <tr>\n",
       "      <th>5</th>\n",
       "      <td>33 Kabul Crescent</td>\n",
       "      <td>Cosmo City</td>\n",
       "      <td>Randburg</td>\n",
       "      <td>2194</td>\n",
       "      <td>Gauteng</td>\n",
       "    </tr>\n",
       "    <tr>\n",
       "      <th>6</th>\n",
       "      <td>Glencairn Trafalgar</td>\n",
       "      <td>Corner Market &amp; Eloff Street</td>\n",
       "      <td>Johannesburg</td>\n",
       "      <td>2000</td>\n",
       "      <td>KwaZulu-Natal</td>\n",
       "    </tr>\n",
       "  </tbody>\n",
       "</table>\n",
       "</div>"
      ],
      "text/plain": [
       "    Physical Address 1            Physical Address 2 Physical Address 3  \\\n",
       "1       66 8th Avenue            Bezuidenhout valley      Johannesburg    \n",
       "2        84 Fox Street                  Marshalltown       Johannesburg   \n",
       "4  5456 Kgaka Cresent     Windmill Park Extension 12           Boksburg   \n",
       "5   33 Kabul Crescent                     Cosmo City           Randburg   \n",
       "6  Glencairn Trafalgar  Corner Market & Eloff Street       Johannesburg   \n",
       "\n",
       "  Physical Post Code Physical Province  \n",
       "1               2094           Gauteng  \n",
       "2               2001           Gauteng  \n",
       "4               1459           Gauteng  \n",
       "5               2194           Gauteng  \n",
       "6               2000     KwaZulu-Natal  "
      ]
     },
     "execution_count": 14,
     "metadata": {},
     "output_type": "execute_result"
    }
   ],
   "source": [
    "#Split physical address into postal code\n",
    "cohort_df[\"Physical Post Code\"] = cohort_df[\"Physical Address while studying\"].str.split(\",\").str[-1]\n",
    "\n",
    "#Split physical address into city\n",
    "cohort_df[\"Physical Address 3\"] = cohort_df[\"Physical Address while studying\"].str.split(\",\").str[-2]\n",
    "\n",
    "#Split physical address into area\n",
    "cohort_df[\"Physical Address 2\"] = cohort_df[\"Physical Address while studying\"].str.split(\",\").str[-3]\n",
    "\n",
    "#Split physical address into street\n",
    "cohort_df[\"Physical Address 1\"] = cohort_df[\"Physical Address while studying\"].str.split(\",\").str[0]\n",
    "\n",
    "#Create physical province\n",
    "cohort_df[\"Physical Province\"] = cohort_df[\"Province\"]\n",
    "\n",
    "cohort_df[[\"Physical Address 1\", \"Physical Address 2\", \"Physical Address 3\", \"Physical Post Code\", \"Physical Province\"]].head()"
   ]
  },
  {
   "cell_type": "markdown",
   "id": "aggressive-observation",
   "metadata": {},
   "source": [
    "**Split Postal Address**"
   ]
  },
  {
   "cell_type": "code",
   "execution_count": 15,
   "id": "bronze-newark",
   "metadata": {},
   "outputs": [
    {
     "data": {
      "text/html": [
       "<div>\n",
       "<style scoped>\n",
       "    .dataframe tbody tr th:only-of-type {\n",
       "        vertical-align: middle;\n",
       "    }\n",
       "\n",
       "    .dataframe tbody tr th {\n",
       "        vertical-align: top;\n",
       "    }\n",
       "\n",
       "    .dataframe thead th {\n",
       "        text-align: right;\n",
       "    }\n",
       "</style>\n",
       "<table border=\"1\" class=\"dataframe\">\n",
       "  <thead>\n",
       "    <tr style=\"text-align: right;\">\n",
       "      <th></th>\n",
       "      <th>Postal Address 1</th>\n",
       "      <th>Postal Address 2</th>\n",
       "      <th>Postal Address 3</th>\n",
       "      <th>Postal Post Code</th>\n",
       "      <th>Postal Province</th>\n",
       "    </tr>\n",
       "  </thead>\n",
       "  <tbody>\n",
       "    <tr>\n",
       "      <th>1</th>\n",
       "      <td>66 8th Avenue</td>\n",
       "      <td>Bezuidenhout Valley</td>\n",
       "      <td>Johannesburg</td>\n",
       "      <td>2094</td>\n",
       "      <td>Gauteng</td>\n",
       "    </tr>\n",
       "    <tr>\n",
       "      <th>2</th>\n",
       "      <td>84 Fox Street</td>\n",
       "      <td>Marshalltown</td>\n",
       "      <td>Johannesburg</td>\n",
       "      <td>2001</td>\n",
       "      <td>Gauteng</td>\n",
       "    </tr>\n",
       "    <tr>\n",
       "      <th>4</th>\n",
       "      <td>38144 Extension 18</td>\n",
       "      <td>Mnisi Avenue</td>\n",
       "      <td>Mamelodi East</td>\n",
       "      <td>0122</td>\n",
       "      <td>Gauteng</td>\n",
       "    </tr>\n",
       "    <tr>\n",
       "      <th>5</th>\n",
       "      <td>33 Kabul Crescent</td>\n",
       "      <td>Cosmo City</td>\n",
       "      <td>Randburg</td>\n",
       "      <td>2194</td>\n",
       "      <td>Gauteng</td>\n",
       "    </tr>\n",
       "    <tr>\n",
       "      <th>6</th>\n",
       "      <td>(46) B626 Asikhulume Lane</td>\n",
       "      <td>Durban</td>\n",
       "      <td>Umlazi</td>\n",
       "      <td>4066</td>\n",
       "      <td>KwaZulu-Natal</td>\n",
       "    </tr>\n",
       "  </tbody>\n",
       "</table>\n",
       "</div>"
      ],
      "text/plain": [
       "            Postal Address 1      Postal Address 2 Postal Address 3  \\\n",
       "1              66 8th Avenue   Bezuidenhout Valley     Johannesburg   \n",
       "2              84 Fox Street          Marshalltown     Johannesburg   \n",
       "4         38144 Extension 18          Mnisi Avenue    Mamelodi East   \n",
       "5          33 Kabul Crescent            Cosmo City         Randburg   \n",
       "6  (46) B626 Asikhulume Lane                Durban           Umlazi   \n",
       "\n",
       "  Postal Post Code Postal Province  \n",
       "1             2094         Gauteng  \n",
       "2             2001         Gauteng  \n",
       "4             0122         Gauteng  \n",
       "5             2194         Gauteng  \n",
       "6             4066   KwaZulu-Natal  "
      ]
     },
     "execution_count": 15,
     "metadata": {},
     "output_type": "execute_result"
    }
   ],
   "source": [
    "#Split physical address into postal code\n",
    "cohort_df[\"Postal Post Code\"] = cohort_df[\"Home Address\"].str.split(\",\").str[-1]\n",
    "\n",
    "#Split physical address into city\n",
    "cohort_df[\"Postal Address 3\"] = cohort_df[\"Home Address\"].str.split(\",\").str[-2]\n",
    "\n",
    "#Split physical address into area\n",
    "cohort_df[\"Postal Address 2\"] = cohort_df[\"Home Address\"].str.split(\",\").str[-3]\n",
    "\n",
    "#Split physical address into street\n",
    "cohort_df[\"Postal Address 1\"] = cohort_df[\"Home Address\"].str.split(\",\").str[0]\n",
    "\n",
    "#Create postal province\n",
    "cohort_df[\"Postal Province\"] = cohort_df[\"Province\"]\n",
    "\n",
    "cohort_df[[\"Postal Address 1\", \"Postal Address 2\", \"Postal Address 3\", \"Postal Post Code\", \"Postal Province\"]].head()"
   ]
  },
  {
   "cell_type": "markdown",
   "id": "stretch-image",
   "metadata": {},
   "source": [
    "**Prepare EMIS and AREA Code Datasets**"
   ]
  },
  {
   "cell_type": "code",
   "execution_count": 16,
   "id": "unsigned-presentation",
   "metadata": {},
   "outputs": [],
   "source": [
    "#subset emis and areacode dataset\n",
    "national_df = national_df[['NatEmis', 'Suburb', 'Institution_Name']]\n",
    "areacode_df = areacode_df[['STATSSA_Area_Code', 'Description']]\n",
    "\n",
    "#convert suburb and description to string\n",
    "national_df['Suburb'] = national_df['Suburb'].astype(str)\n",
    "national_df['Institution_Name'] = national_df['Institution_Name'].astype(str)\n",
    "areacode_df['Description'] = areacode_df['Description'].astype(str)\n",
    "cohort_df['Name of High School'] = cohort_df['Name of High School'].astype(str)\n",
    "\n",
    "#Strip suburb and discription whitespaces\n",
    "national_df['Suburb'] = national_df['Suburb'].str.strip()\n",
    "areacode_df['Description'] = areacode_df['Description'].str.strip()\n",
    "\n",
    "#Convert suburb and discription to lowercase\n",
    "national_df['Suburb'] = national_df['Suburb'].str.lower()\n",
    "areacode_df['Description'] = areacode_df['Description'].str.lower()\n",
    "\n"
   ]
  },
  {
   "cell_type": "markdown",
   "id": "mechanical-million",
   "metadata": {},
   "source": [
    "**Create EMIS column**"
   ]
  },
  {
   "cell_type": "code",
   "execution_count": 17,
   "id": "accessory-trainer",
   "metadata": {},
   "outputs": [
    {
     "data": {
      "text/html": [
       "<div>\n",
       "<style scoped>\n",
       "    .dataframe tbody tr th:only-of-type {\n",
       "        vertical-align: middle;\n",
       "    }\n",
       "\n",
       "    .dataframe tbody tr th {\n",
       "        vertical-align: top;\n",
       "    }\n",
       "\n",
       "    .dataframe thead th {\n",
       "        text-align: right;\n",
       "    }\n",
       "</style>\n",
       "<table border=\"1\" class=\"dataframe\">\n",
       "  <thead>\n",
       "    <tr style=\"text-align: right;\">\n",
       "      <th></th>\n",
       "      <th>EMIS</th>\n",
       "      <th>Area</th>\n",
       "    </tr>\n",
       "  </thead>\n",
       "  <tbody>\n",
       "    <tr>\n",
       "      <th>1</th>\n",
       "      <td>700130641.0</td>\n",
       "      <td>nan</td>\n",
       "    </tr>\n",
       "    <tr>\n",
       "      <th>2</th>\n",
       "      <td>700220178.0</td>\n",
       "      <td>pretoria</td>\n",
       "    </tr>\n",
       "    <tr>\n",
       "      <th>4</th>\n",
       "      <td>700350371.0</td>\n",
       "      <td>nigel</td>\n",
       "    </tr>\n",
       "    <tr>\n",
       "      <th>5</th>\n",
       "      <td>930350040.0</td>\n",
       "      <td>extension</td>\n",
       "    </tr>\n",
       "    <tr>\n",
       "      <th>6</th>\n",
       "      <td>200501377.0</td>\n",
       "      <td>ntabankulu</td>\n",
       "    </tr>\n",
       "  </tbody>\n",
       "</table>\n",
       "</div>"
      ],
      "text/plain": [
       "          EMIS        Area\n",
       "1  700130641.0         nan\n",
       "2  700220178.0    pretoria\n",
       "4  700350371.0       nigel\n",
       "5  930350040.0   extension\n",
       "6  200501377.0  ntabankulu"
      ]
     },
     "execution_count": 17,
     "metadata": {},
     "output_type": "execute_result"
    }
   ],
   "source": [
    "#prep search strings for fuzzywuzzy operation\n",
    "strOptions = [elem for elem in national_df['Institution_Name']]\n",
    "strOptions = set(strOptions)\n",
    "strOptions = list(strOptions)\n",
    "\n",
    "#prep areas for fuzzywuzzy search\n",
    "areas = [elem for elem in cohort_df[\"Name of High School\"]]\n",
    "areas = set(areas)\n",
    "\n",
    "#perform fuzzywuzzy matching\n",
    "for area in areas:\n",
    "    highest = process.extractOne(area, strOptions)\n",
    "    cohort_df.loc[cohort_df['Name of High School'] == area, 'EMIS'] = national_df.loc[national_df['Institution_Name'] == highest[0], 'NatEmis'].values[0]\n",
    "    cohort_df.loc[cohort_df['Name of High School'] == area, 'Area'] = national_df.loc[national_df['Institution_Name'] == highest[0], 'Suburb'].values[0]\n",
    "\n",
    "\n",
    "    \n",
    "cohort_df[[\"EMIS\", \"Area\"]].head()"
   ]
  },
  {
   "cell_type": "markdown",
   "id": "dangerous-appraisal",
   "metadata": {},
   "source": [
    "**Format Emis Number**"
   ]
  },
  {
   "cell_type": "code",
   "execution_count": 18,
   "id": "rolled-sperm",
   "metadata": {},
   "outputs": [],
   "source": [
    "cohort_df['EMIS'] = cohort_df['EMIS'].astype(int)\n",
    "#eligible_df['EMIS'] = eligible_df['EMIS'].astype(str)"
   ]
  },
  {
   "cell_type": "markdown",
   "id": "minute-monaco",
   "metadata": {},
   "source": [
    "**Create AreaCode column**"
   ]
  },
  {
   "cell_type": "code",
   "execution_count": 19,
   "id": "parental-combat",
   "metadata": {},
   "outputs": [
    {
     "name": "stderr",
     "output_type": "stream",
     "text": [
      "WARNING:root:Applied processor reduces input query to empty string, all comparisons will have score 0. [Query: '.']\n"
     ]
    },
    {
     "data": {
      "text/html": [
       "<div>\n",
       "<style scoped>\n",
       "    .dataframe tbody tr th:only-of-type {\n",
       "        vertical-align: middle;\n",
       "    }\n",
       "\n",
       "    .dataframe tbody tr th {\n",
       "        vertical-align: top;\n",
       "    }\n",
       "\n",
       "    .dataframe thead th {\n",
       "        text-align: right;\n",
       "    }\n",
       "</style>\n",
       "<table border=\"1\" class=\"dataframe\">\n",
       "  <thead>\n",
       "    <tr style=\"text-align: right;\">\n",
       "      <th></th>\n",
       "      <th>EMIS</th>\n",
       "      <th>AreaCode</th>\n",
       "    </tr>\n",
       "  </thead>\n",
       "  <tbody>\n",
       "    <tr>\n",
       "      <th>1</th>\n",
       "      <td>700130641</td>\n",
       "      <td>2011-962040001</td>\n",
       "    </tr>\n",
       "    <tr>\n",
       "      <th>2</th>\n",
       "      <td>700220178</td>\n",
       "      <td>2011-799035104</td>\n",
       "    </tr>\n",
       "    <tr>\n",
       "      <th>4</th>\n",
       "      <td>700350371</td>\n",
       "      <td>2011-797028016</td>\n",
       "    </tr>\n",
       "    <tr>\n",
       "      <th>5</th>\n",
       "      <td>930350040</td>\n",
       "      <td>2011-370004002</td>\n",
       "    </tr>\n",
       "    <tr>\n",
       "      <th>6</th>\n",
       "      <td>200501377</td>\n",
       "      <td>2011-298005001</td>\n",
       "    </tr>\n",
       "  </tbody>\n",
       "</table>\n",
       "</div>"
      ],
      "text/plain": [
       "        EMIS        AreaCode\n",
       "1  700130641  2011-962040001\n",
       "2  700220178  2011-799035104\n",
       "4  700350371  2011-797028016\n",
       "5  930350040  2011-370004002\n",
       "6  200501377  2011-298005001"
      ]
     },
     "execution_count": 19,
     "metadata": {},
     "output_type": "execute_result"
    }
   ],
   "source": [
    "#prep search strings for fuzzywuzzy operation\n",
    "strOptions = [elem for elem in areacode_df['Description']]\n",
    "strOptions = set(strOptions)\n",
    "strOptions = list(strOptions)\n",
    "\n",
    "#prep areas for fuzzywuzzy search\n",
    "areas = [elem for elem in cohort_df[\"Area\"]]\n",
    "areas = set(areas)\n",
    "\n",
    "#perform fuzzywuzzy matching\n",
    "for area in areas:\n",
    "    highest = process.extractOne(area, strOptions)\n",
    "    cohort_df.loc[cohort_df['Area'] == area, 'AreaCode'] = areacode_df.loc[areacode_df['Description'] == highest[0], 'STATSSA_Area_Code'].values[0]\n",
    "    \n",
    "cohort_df[['EMIS', 'AreaCode']].head()\n",
    "    "
   ]
  },
  {
   "cell_type": "markdown",
   "id": "victorian-george",
   "metadata": {},
   "source": [
    "**Reformat Municipality**"
   ]
  },
  {
   "cell_type": "code",
   "execution_count": 20,
   "id": "communist-montana",
   "metadata": {},
   "outputs": [
    {
     "data": {
      "text/html": [
       "<div>\n",
       "<style scoped>\n",
       "    .dataframe tbody tr th:only-of-type {\n",
       "        vertical-align: middle;\n",
       "    }\n",
       "\n",
       "    .dataframe tbody tr th {\n",
       "        vertical-align: top;\n",
       "    }\n",
       "\n",
       "    .dataframe thead th {\n",
       "        text-align: right;\n",
       "    }\n",
       "</style>\n",
       "<table border=\"1\" class=\"dataframe\">\n",
       "  <thead>\n",
       "    <tr style=\"text-align: right;\">\n",
       "      <th></th>\n",
       "      <th>Municipality</th>\n",
       "      <th>municipality2</th>\n",
       "    </tr>\n",
       "  </thead>\n",
       "  <tbody>\n",
       "    <tr>\n",
       "      <th>1</th>\n",
       "      <td>johannesburg metro</td>\n",
       "      <td>1709 johannesburg metro selwyn florida</td>\n",
       "    </tr>\n",
       "    <tr>\n",
       "      <th>2</th>\n",
       "      <td>johannesburg metro</td>\n",
       "      <td>1709 johannesburg metro selwyn florida</td>\n",
       "    </tr>\n",
       "    <tr>\n",
       "      <th>4</th>\n",
       "      <td>ekurhuleni metro</td>\n",
       "      <td>1519 ekurhuleni metro joy clinic daveyton</td>\n",
       "    </tr>\n",
       "    <tr>\n",
       "      <th>5</th>\n",
       "      <td>johannesburg metro</td>\n",
       "      <td>1709 johannesburg metro selwyn florida</td>\n",
       "    </tr>\n",
       "    <tr>\n",
       "      <th>6</th>\n",
       "      <td>johannesburg metro</td>\n",
       "      <td>1709 johannesburg metro selwyn florida</td>\n",
       "    </tr>\n",
       "  </tbody>\n",
       "</table>\n",
       "</div>"
      ],
      "text/plain": [
       "         Municipality                              municipality2\n",
       "1  johannesburg metro     1709 johannesburg metro selwyn florida\n",
       "2  johannesburg metro     1709 johannesburg metro selwyn florida\n",
       "4    ekurhuleni metro  1519 ekurhuleni metro joy clinic daveyton\n",
       "5  johannesburg metro     1709 johannesburg metro selwyn florida\n",
       "6  johannesburg metro     1709 johannesburg metro selwyn florida"
      ]
     },
     "execution_count": 20,
     "metadata": {},
     "output_type": "execute_result"
    }
   ],
   "source": [
    "#convert second city column to type string\n",
    "cohort_df[\"Municipality\"] = cohort_df[\"Municipality\"].astype(str)\n",
    "municipality_df[\"municipality\"] = municipality_df[\"municipality\"].astype(str)\n",
    "\n",
    "#strip columns whitespaces\n",
    "cohort_df[\"Municipality\"] = cohort_df[\"Municipality\"].str.strip()\n",
    "municipality_df[\"municipality\"] = municipality_df[\"municipality\"].str.strip()\n",
    "\n",
    "#strip columns whitespaces\n",
    "cohort_df[\"Municipality\"] = cohort_df[\"Municipality\"].str.lower()\n",
    "municipality_df[\"municipality\"] = municipality_df[\"municipality\"].str.lower()\n",
    "\n",
    "#prep search strings for fuzzywuzzy operation\n",
    "strOptions = [elem for elem in municipality_df['municipality']]\n",
    "strOptions = set(strOptions)\n",
    "strOptions = list(strOptions)\n",
    "\n",
    "#prep areas for fuzzywuzzy search\n",
    "areas = [elem for elem in cohort_df[\"Municipality\"]]\n",
    "areas = set(areas)\n",
    "\n",
    "#perform fuzzywuzzy matching\n",
    "for area in areas:\n",
    "    highest = process.extractOne(area, strOptions)\n",
    "    cohort_df.loc[cohort_df['Municipality'] == area, 'municipality2'] = highest[0]\n",
    "\n",
    "cohort_df[[\"Municipality\", \"municipality2\"]].head()"
   ]
  },
  {
   "cell_type": "markdown",
   "id": "developmental-adapter",
   "metadata": {},
   "source": [
    "**Create New Columns**"
   ]
  },
  {
   "cell_type": "code",
   "execution_count": 21,
   "id": "motivated-annual",
   "metadata": {},
   "outputs": [
    {
     "data": {
      "text/html": [
       "<div>\n",
       "<style scoped>\n",
       "    .dataframe tbody tr th:only-of-type {\n",
       "        vertical-align: middle;\n",
       "    }\n",
       "\n",
       "    .dataframe tbody tr th {\n",
       "        vertical-align: top;\n",
       "    }\n",
       "\n",
       "    .dataframe thead th {\n",
       "        text-align: right;\n",
       "    }\n",
       "</style>\n",
       "<table border=\"1\" class=\"dataframe\">\n",
       "  <thead>\n",
       "    <tr style=\"text-align: right;\">\n",
       "      <th></th>\n",
       "      <th>MaritalStatus</th>\n",
       "      <th>GETC Qualification</th>\n",
       "      <th>Agree Popi Act</th>\n",
       "    </tr>\n",
       "  </thead>\n",
       "  <tbody>\n",
       "    <tr>\n",
       "      <th>1</th>\n",
       "      <td>Single</td>\n",
       "      <td>GRADE 12</td>\n",
       "      <td>Yes</td>\n",
       "    </tr>\n",
       "    <tr>\n",
       "      <th>2</th>\n",
       "      <td>Single</td>\n",
       "      <td>GRADE 12</td>\n",
       "      <td>Yes</td>\n",
       "    </tr>\n",
       "    <tr>\n",
       "      <th>4</th>\n",
       "      <td>Single</td>\n",
       "      <td>GRADE 12</td>\n",
       "      <td>Yes</td>\n",
       "    </tr>\n",
       "    <tr>\n",
       "      <th>5</th>\n",
       "      <td>Single</td>\n",
       "      <td>GRADE 12</td>\n",
       "      <td>Yes</td>\n",
       "    </tr>\n",
       "    <tr>\n",
       "      <th>6</th>\n",
       "      <td>Single</td>\n",
       "      <td>GRADE 12</td>\n",
       "      <td>Yes</td>\n",
       "    </tr>\n",
       "  </tbody>\n",
       "</table>\n",
       "</div>"
      ],
      "text/plain": [
       "  MaritalStatus GETC Qualification Agree Popi Act\n",
       "1        Single           GRADE 12            Yes\n",
       "2        Single           GRADE 12            Yes\n",
       "4        Single           GRADE 12            Yes\n",
       "5        Single           GRADE 12            Yes\n",
       "6        Single           GRADE 12            Yes"
      ]
     },
     "execution_count": 21,
     "metadata": {},
     "output_type": "execute_result"
    }
   ],
   "source": [
    "#set marital status\n",
    "cohort_df['MaritalStatus'] = \"Single\"\n",
    "\n",
    "#set getc qualification\n",
    "cohort_df['GETC Qualification'] = \"GRADE 12\"\n",
    "\n",
    "#set popi act\n",
    "cohort_df['Agree Popi Act'] = \"Yes\"\n",
    "\n",
    "cohort_df[['MaritalStatus', 'GETC Qualification', 'Agree Popi Act']].head()"
   ]
  },
  {
   "cell_type": "markdown",
   "id": "saving-reality",
   "metadata": {},
   "source": [
    "**Restructure Cohort Dataset**"
   ]
  },
  {
   "cell_type": "code",
   "execution_count": 22,
   "id": "orange-circle",
   "metadata": {},
   "outputs": [
    {
     "data": {
      "text/html": [
       "<div>\n",
       "<style scoped>\n",
       "    .dataframe tbody tr th:only-of-type {\n",
       "        vertical-align: middle;\n",
       "    }\n",
       "\n",
       "    .dataframe tbody tr th {\n",
       "        vertical-align: top;\n",
       "    }\n",
       "\n",
       "    .dataframe thead th {\n",
       "        text-align: right;\n",
       "    }\n",
       "</style>\n",
       "<table border=\"1\" class=\"dataframe\">\n",
       "  <thead>\n",
       "    <tr style=\"text-align: right;\">\n",
       "      <th></th>\n",
       "      <th>Name</th>\n",
       "      <th>Surname</th>\n",
       "      <th>IDNumber</th>\n",
       "      <th>ID Type</th>\n",
       "      <th>DateOfBirth(yyyy/mm/dd)</th>\n",
       "      <th>Gender</th>\n",
       "      <th>DisabilityStatus</th>\n",
       "      <th>Equity</th>\n",
       "      <th>Nationality</th>\n",
       "      <th>ResidentialStatus</th>\n",
       "      <th>...</th>\n",
       "      <th>Postal Address 1</th>\n",
       "      <th>Postal Address 2</th>\n",
       "      <th>Postal  Address 3</th>\n",
       "      <th>Postal Post Code</th>\n",
       "      <th>Postal Province</th>\n",
       "      <th>Emis Number</th>\n",
       "      <th>Last School Year</th>\n",
       "      <th>Area Code</th>\n",
       "      <th>Agree Popi Act</th>\n",
       "      <th>Grade 12</th>\n",
       "    </tr>\n",
       "  </thead>\n",
       "  <tbody>\n",
       "    <tr>\n",
       "      <th>1</th>\n",
       "      <td>Abigail</td>\n",
       "      <td>Hlalele</td>\n",
       "      <td>0005020136080</td>\n",
       "      <td>National ID</td>\n",
       "      <td>2000-05-02</td>\n",
       "      <td>Female</td>\n",
       "      <td>no</td>\n",
       "      <td>black</td>\n",
       "      <td>South African</td>\n",
       "      <td>Citizen</td>\n",
       "      <td>...</td>\n",
       "      <td>66 8th Avenue</td>\n",
       "      <td>Bezuidenhout Valley</td>\n",
       "      <td>Johannesburg</td>\n",
       "      <td>2094</td>\n",
       "      <td>Gauteng</td>\n",
       "      <td>700130641</td>\n",
       "      <td>2018</td>\n",
       "      <td>2011-962040001</td>\n",
       "      <td>Yes</td>\n",
       "      <td>Y</td>\n",
       "    </tr>\n",
       "    <tr>\n",
       "      <th>2</th>\n",
       "      <td>Arthur</td>\n",
       "      <td>Jenkins</td>\n",
       "      <td>0003255794087</td>\n",
       "      <td>National ID</td>\n",
       "      <td>2000-03-25</td>\n",
       "      <td>male</td>\n",
       "      <td>no</td>\n",
       "      <td>white</td>\n",
       "      <td>South African</td>\n",
       "      <td>Citizen</td>\n",
       "      <td>...</td>\n",
       "      <td>84 Fox Street</td>\n",
       "      <td>Marshalltown</td>\n",
       "      <td>Johannesburg</td>\n",
       "      <td>2001</td>\n",
       "      <td>Gauteng</td>\n",
       "      <td>700220178</td>\n",
       "      <td>-</td>\n",
       "      <td>2011-799035104</td>\n",
       "      <td>Yes</td>\n",
       "      <td>N</td>\n",
       "    </tr>\n",
       "    <tr>\n",
       "      <th>4</th>\n",
       "      <td>Majane</td>\n",
       "      <td>Thotse</td>\n",
       "      <td>9704115450080</td>\n",
       "      <td>National ID</td>\n",
       "      <td>1997-04-11</td>\n",
       "      <td>male</td>\n",
       "      <td>no</td>\n",
       "      <td>black</td>\n",
       "      <td>South African</td>\n",
       "      <td>Citizen</td>\n",
       "      <td>...</td>\n",
       "      <td>38144 Extension 18</td>\n",
       "      <td>Mnisi Avenue</td>\n",
       "      <td>Mamelodi East</td>\n",
       "      <td>0122</td>\n",
       "      <td>Gauteng</td>\n",
       "      <td>700350371</td>\n",
       "      <td>2015</td>\n",
       "      <td>2011-797028016</td>\n",
       "      <td>Yes</td>\n",
       "      <td>Y</td>\n",
       "    </tr>\n",
       "    <tr>\n",
       "      <th>5</th>\n",
       "      <td>Anza</td>\n",
       "      <td>Mugwabana</td>\n",
       "      <td>9406035830082</td>\n",
       "      <td>National ID</td>\n",
       "      <td>1994-06-03</td>\n",
       "      <td>male</td>\n",
       "      <td>no</td>\n",
       "      <td>black</td>\n",
       "      <td>South African</td>\n",
       "      <td>Citizen</td>\n",
       "      <td>...</td>\n",
       "      <td>33 Kabul Crescent</td>\n",
       "      <td>Cosmo City</td>\n",
       "      <td>Randburg</td>\n",
       "      <td>2194</td>\n",
       "      <td>Gauteng</td>\n",
       "      <td>930350040</td>\n",
       "      <td>2011</td>\n",
       "      <td>2011-370004002</td>\n",
       "      <td>Yes</td>\n",
       "      <td>Y</td>\n",
       "    </tr>\n",
       "    <tr>\n",
       "      <th>6</th>\n",
       "      <td>Andiswa</td>\n",
       "      <td>Nombela</td>\n",
       "      <td>9512140773081</td>\n",
       "      <td>National ID</td>\n",
       "      <td>1995-12-14</td>\n",
       "      <td>Female</td>\n",
       "      <td>no</td>\n",
       "      <td>black</td>\n",
       "      <td>South African</td>\n",
       "      <td>Citizen</td>\n",
       "      <td>...</td>\n",
       "      <td>(46) B626 Asikhulume Lane</td>\n",
       "      <td>Durban</td>\n",
       "      <td>Umlazi</td>\n",
       "      <td>4066</td>\n",
       "      <td>KwaZulu-Natal</td>\n",
       "      <td>200501377</td>\n",
       "      <td>2013</td>\n",
       "      <td>2011-298005001</td>\n",
       "      <td>Yes</td>\n",
       "      <td>Y</td>\n",
       "    </tr>\n",
       "  </tbody>\n",
       "</table>\n",
       "<p>5 rows × 30 columns</p>\n",
       "</div>"
      ],
      "text/plain": [
       "       Name    Surname       IDNumber      ID Type DateOfBirth(yyyy/mm/dd)  \\\n",
       "1   Abigail    Hlalele  0005020136080  National ID              2000-05-02   \n",
       "2    Arthur    Jenkins  0003255794087  National ID              2000-03-25   \n",
       "4    Majane     Thotse  9704115450080  National ID              1997-04-11   \n",
       "5      Anza  Mugwabana  9406035830082  National ID              1994-06-03   \n",
       "6  Andiswa     Nombela  9512140773081  National ID              1995-12-14   \n",
       "\n",
       "   Gender DisabilityStatus Equity    Nationality ResidentialStatus  ...  \\\n",
       "1  Female               no  black  South African           Citizen  ...   \n",
       "2    male               no  white  South African           Citizen  ...   \n",
       "4    male               no  black  South African           Citizen  ...   \n",
       "5    male               no  black  South African           Citizen  ...   \n",
       "6  Female               no  black  South African           Citizen  ...   \n",
       "\n",
       "            Postal Address 1      Postal Address 2 Postal  Address 3  \\\n",
       "1              66 8th Avenue   Bezuidenhout Valley      Johannesburg   \n",
       "2              84 Fox Street          Marshalltown      Johannesburg   \n",
       "4         38144 Extension 18          Mnisi Avenue     Mamelodi East   \n",
       "5          33 Kabul Crescent            Cosmo City          Randburg   \n",
       "6  (46) B626 Asikhulume Lane                Durban            Umlazi   \n",
       "\n",
       "  Postal Post Code Postal Province Emis Number Last School Year  \\\n",
       "1             2094         Gauteng   700130641             2018   \n",
       "2             2001         Gauteng   700220178                -   \n",
       "4             0122         Gauteng   700350371             2015   \n",
       "5             2194         Gauteng   930350040             2011   \n",
       "6             4066   KwaZulu-Natal   200501377             2013   \n",
       "\n",
       "        Area Code Agree Popi Act Grade 12  \n",
       "1  2011-962040001            Yes        Y  \n",
       "2  2011-799035104            Yes        N  \n",
       "4  2011-797028016            Yes        Y  \n",
       "5  2011-370004002            Yes        Y  \n",
       "6  2011-298005001            Yes        Y  \n",
       "\n",
       "[5 rows x 30 columns]"
      ]
     },
     "execution_count": 22,
     "metadata": {},
     "output_type": "execute_result"
    }
   ],
   "source": [
    "#reorder and subset cohort dataset columns\n",
    "cohort_df = cohort_df[['Firstname', 'Surname', 'IDNumber', 'ID Type', 'Birth Date', 'Gender', 'Disability', \n",
    "         'Ethnicity', 'Nationality',\n",
    "       'Residential Status (Citizen / Permanent Resident/Asylum Seeker/Work Permit/Study Permit)',\n",
    "       'Home Language', 'MaritalStatus', 'Province', 'GETC Qualification', 'municipality2', 'Physical Address 1', 'Physical Address 2',\n",
    "       'Physical Address 3', 'Physical Post Code',  'Physical Province',\n",
    "       'Postal Address 1', 'Postal Address 2', 'Postal Address 3',\n",
    "       'Postal Post Code', 'Postal Province', 'EMIS', 'Year Completed Grade 12', 'AreaCode', 'Agree Popi Act',\n",
    "       'Passed Grade 12 Y/N']]\n",
    "\n",
    "#rename cohort dataset columns\n",
    "cohort_df.columns = ['Name', 'Surname', 'IDNumber', 'ID Type', 'DateOfBirth(yyyy/mm/dd)', 'Gender',\n",
    "                     'DisabilityStatus', 'Equity', 'Nationality', 'ResidentialStatus', 'Language',\n",
    "                     'MaritalStatus', 'Province', 'GETC Qualification', 'Municipality', 'Physical Address 1',\n",
    "                     'Physical Address 2', 'Physical  Address 3', 'Physical Post Code', 'Physical Province',\n",
    "                     'Postal Address 1', 'Postal Address 2', 'Postal  Address 3', 'Postal Post Code',\n",
    "                     'Postal Province', 'Emis Number', 'Last School Year', 'Area Code', 'Agree Popi Act',\n",
    "                     'Grade 12']\n",
    "\n",
    "cohort_df.head()"
   ]
  },
  {
   "cell_type": "markdown",
   "id": "agricultural-balance",
   "metadata": {},
   "source": [
    "**Format Date of Biirth**"
   ]
  },
  {
   "cell_type": "code",
   "execution_count": 23,
   "id": "banner-statement",
   "metadata": {},
   "outputs": [
    {
     "data": {
      "text/plain": [
       "1      2000/02/05\n",
       "2      2000/25/03\n",
       "4      1997/11/04\n",
       "5      1994/03/06\n",
       "6      1995/14/12\n",
       "          ...    \n",
       "305    2000/13/11\n",
       "307    1993/01/04\n",
       "308    1991/15/08\n",
       "309    1996/10/08\n",
       "310    2001/05/08\n",
       "Name: DateOfBirth(yyyy/mm/dd), Length: 258, dtype: object"
      ]
     },
     "execution_count": 23,
     "metadata": {},
     "output_type": "execute_result"
    }
   ],
   "source": [
    "#convert dob to datetime formatt\n",
    "cohort_df['DateOfBirth(yyyy/mm/dd)'] = pd.to_datetime(cohort_df['DateOfBirth(yyyy/mm/dd)'])\n",
    "\n",
    "#convert dob cooulm to yy/mm/dd formatt\n",
    "cohort_df['DateOfBirth(yyyy/mm/dd)'] = cohort_df['DateOfBirth(yyyy/mm/dd)'].dt.strftime('%Y/%d/%m')\n",
    "\n",
    "cohort_df['DateOfBirth(yyyy/mm/dd)']"
   ]
  },
  {
   "cell_type": "markdown",
   "id": "clean-crown",
   "metadata": {},
   "source": [
    "**Format Language**"
   ]
  },
  {
   "cell_type": "code",
   "execution_count": 24,
   "id": "agricultural-squad",
   "metadata": {},
   "outputs": [
    {
     "data": {
      "text/plain": [
       "array(['English', 'Afrikaans', 'sePedi', 'tshiVenda', 'isiZulu',\n",
       "       'seTswana', 'xiTsonga', 'seSotho', 'isiNdebele', 'siSwati',\n",
       "       'isiXhosa'], dtype=object)"
      ]
     },
     "execution_count": 24,
     "metadata": {},
     "output_type": "execute_result"
    }
   ],
   "source": [
    "#strip equity column whitespaces\n",
    "cohort_df['Language'] = cohort_df['Language'].str.strip()\n",
    "\n",
    "#convert equity column to lowercase\n",
    "cohort_df['Language'] = cohort_df['Language'].str.lower()\n",
    "\n",
    "#reformat equity column\n",
    "cohort_df['Language'] = cohort_df['Language'].replace({'isixhosa': 'isiXhosa', 'english': 'English',\n",
    "                             'sepedi [also known as northern sotho / sesotho sa lebowa]': 'sePedi', 'tshivenda': 'tshiVenda',\n",
    "                             'isizulu': 'isiZulu', 'setswana': 'seTswana', 'afrikaans': 'Afrikaans', 'xitsonga': 'xiTsonga',\n",
    "                                'sepedi': 'sePedi', 'sesotho': 'seSotho', 'isindebele': 'isiNdebele','siswati': 'siSwati',  'other': 'English'})\n",
    "\n",
    "cohort_df['Language'].unique()\n"
   ]
  },
  {
   "cell_type": "markdown",
   "id": "adapted-directory",
   "metadata": {},
   "source": [
    "**Format Equity**"
   ]
  },
  {
   "cell_type": "code",
   "execution_count": 25,
   "id": "demanding-invitation",
   "metadata": {},
   "outputs": [
    {
     "data": {
      "text/plain": [
       "array(['Black: African', 'White', 'Black: Indian/Asian',\n",
       "       'Black: Coloured'], dtype=object)"
      ]
     },
     "execution_count": 25,
     "metadata": {},
     "output_type": "execute_result"
    }
   ],
   "source": [
    "#strip equity column whitespaces\n",
    "cohort_df['Equity'] = cohort_df['Equity'].str.strip()\n",
    "\n",
    "#convert equity column to lowercase\n",
    "cohort_df['Equity'] = cohort_df['Equity'].str.lower()\n",
    "\n",
    "#reformat equity column\n",
    "cohort_df['Equity'] = cohort_df['Equity'].replace({'black': 'Black: African', 'coloured': 'Black: Coloured',\n",
    "                             'indian': 'Black: Indian/Asian', 'asian': 'Black: Indian/Asian',\n",
    "                             'chinese': 'Black: Indian/Asian', 'white': 'White'})\n",
    "\n",
    "cohort_df['Equity'].unique()"
   ]
  },
  {
   "cell_type": "markdown",
   "id": "spatial-liver",
   "metadata": {},
   "source": [
    "**Format Disability**"
   ]
  },
  {
   "cell_type": "code",
   "execution_count": 26,
   "id": "statewide-trader",
   "metadata": {},
   "outputs": [
    {
     "data": {
      "text/plain": [
       "array(['None', 'Disable but unspecified', 'Emotional (behav/psych)',\n",
       "       'Physical (move/stand etc)'], dtype=object)"
      ]
     },
     "execution_count": 26,
     "metadata": {},
     "output_type": "execute_result"
    }
   ],
   "source": [
    "#strip disability column whitespaces\n",
    "cohort_df['DisabilityStatus'] = cohort_df['DisabilityStatus'].astype(str)\n",
    "\n",
    "#strip disability column whitespaces\n",
    "cohort_df['DisabilityStatus'] = cohort_df['DisabilityStatus'].str.strip()\n",
    "\n",
    "#convert disability column to lowercase\n",
    "cohort_df['DisabilityStatus'] = cohort_df['DisabilityStatus'].str.lower()\n",
    "\n",
    "#reformat disability column\n",
    "cohort_df['DisabilityStatus'] = cohort_df['DisabilityStatus'].replace({'no': 'None', 'nan': 'None',\n",
    "                             'yes': 'Disable but unspecified', 'yes - specwearer': 'None',\n",
    "                             'n': 'None', '-': 'None', 'visual impairment - spec wearer': 'None',\n",
    "                             'aspergers / autistic': 'Emotional (behav/psych)', 'patella alta':'Physical (move/stand etc)',\n",
    "                             'y- specwearer': 'None', 'add': 'None', 'visual impairment - spec wearer -': 'None',\n",
    "                             '\\\\n': 'None', 'y - specwearer':'None', 'none':'None', '':'None'})\n",
    "\n",
    "cohort_df['DisabilityStatus'].unique()"
   ]
  },
  {
   "cell_type": "markdown",
   "id": "vietnamese-infrared",
   "metadata": {},
   "source": [
    "**Format Province**"
   ]
  },
  {
   "cell_type": "code",
   "execution_count": 27,
   "id": "furnished-savings",
   "metadata": {},
   "outputs": [
    {
     "data": {
      "text/plain": [
       "array(['Gauteng', 'Kwazulu-Natal', 'Mpumalanga', 'Eastern Cape',\n",
       "       'Limpopo', 'Northern Cape', 'Western Cape', 'Free State',\n",
       "       'North West'], dtype=object)"
      ]
     },
     "execution_count": 27,
     "metadata": {},
     "output_type": "execute_result"
    }
   ],
   "source": [
    "#strip equity column whitespaces\n",
    "cohort_df['Province'] = cohort_df['Province'].str.strip()\n",
    "\n",
    "#convert equity column to lowercase\n",
    "cohort_df['Province'] = cohort_df['Province'].str.lower()\n",
    "\n",
    "#reformat equity column\n",
    "cohort_df['Province'] = cohort_df['Province'].replace({'gauteng': 'Gauteng', 'kwazulu-natal': 'Kwazulu-Natal',\n",
    "                             'mpumalanga': 'Mpumalanga', 'eastern cape': 'Eastern Cape',\n",
    "                             'limpopo': 'Limpopo', 'northern cape': 'Northern Cape', 'free state': 'Free State', 'north west': 'North West',\n",
    "                                'western cape': 'Western Cape'})\n",
    "\n",
    "cohort_df['Province'].unique()"
   ]
  },
  {
   "cell_type": "markdown",
   "id": "rubber-burlington",
   "metadata": {},
   "source": [
    "**Format Nationality**"
   ]
  },
  {
   "cell_type": "code",
   "execution_count": 28,
   "id": "proof-scheme",
   "metadata": {},
   "outputs": [
    {
     "data": {
      "text/plain": [
       "array(['South African', 'Zimbabwe', 'European countries',\n",
       "       'Rest of Africa'], dtype=object)"
      ]
     },
     "execution_count": 28,
     "metadata": {},
     "output_type": "execute_result"
    }
   ],
   "source": [
    "#strip equity column whitespaces\n",
    "cohort_df['Nationality'] = cohort_df['Nationality'].str.strip()\n",
    "\n",
    "#convert equity column to lowercase\n",
    "cohort_df['Nationality'] = cohort_df['Nationality'].str.lower()\n",
    "\n",
    "#reformat equity column\n",
    "cohort_df['Nationality'] = cohort_df['Nationality'].replace({'south african': 'South African', 'dutch': 'European countries',\n",
    "                             'nigerian': 'Rest of Africa', 'zimbabwean': 'Zimbabwe', 'congolese':'Rest of Africa'})\n",
    "\n",
    "cohort_df['Nationality'].unique()"
   ]
  },
  {
   "cell_type": "markdown",
   "id": "outstanding-fields",
   "metadata": {},
   "source": [
    "**Format Physical Province**"
   ]
  },
  {
   "cell_type": "code",
   "execution_count": 29,
   "id": "moved-fitting",
   "metadata": {},
   "outputs": [
    {
     "data": {
      "text/plain": [
       "array(['Gauteng', 'Kwazulu-Natal', 'Mpumalanga', 'Eastern Cape',\n",
       "       'Limpopo', 'Northern Cape', 'Western Cape', 'Free State',\n",
       "       'North West'], dtype=object)"
      ]
     },
     "execution_count": 29,
     "metadata": {},
     "output_type": "execute_result"
    }
   ],
   "source": [
    "#strip equity column whitespaces\n",
    "cohort_df['Physical Province'] = cohort_df['Physical Province'].str.strip()\n",
    "\n",
    "#convert equity column to lowercase\n",
    "cohort_df['Physical Province'] = cohort_df['Physical Province'].str.lower()\n",
    "\n",
    "#reformat equity column\n",
    "cohort_df['Physical Province'] = cohort_df['Physical Province'].replace({'gauteng': 'Gauteng', 'kwazulu-natal': 'Kwazulu-Natal',\n",
    "                             'mpumalanga': 'Mpumalanga', 'eastern cape': 'Eastern Cape',\n",
    "                             'limpopo': 'Limpopo', 'northern cape': 'Northern Cape', 'free state': 'Free State', 'north west': 'North West',\n",
    "                                'western cape': 'Western Cape'})\n",
    "\n",
    "cohort_df['Physical Province'].unique()"
   ]
  },
  {
   "cell_type": "markdown",
   "id": "usual-trustee",
   "metadata": {},
   "source": [
    "**Format Postal Province**"
   ]
  },
  {
   "cell_type": "code",
   "execution_count": 30,
   "id": "gentle-jimmy",
   "metadata": {},
   "outputs": [
    {
     "data": {
      "text/plain": [
       "array(['Gauteng', 'Kwazulu-Natal', 'Mpumalanga', 'Eastern Cape',\n",
       "       'Limpopo', 'Northern Cape', 'Western Cape', 'Free State',\n",
       "       'North West'], dtype=object)"
      ]
     },
     "execution_count": 30,
     "metadata": {},
     "output_type": "execute_result"
    }
   ],
   "source": [
    "#strip equity column whitespaces\n",
    "cohort_df['Postal Province'] = cohort_df['Postal Province'].str.strip()\n",
    "\n",
    "#convert equity column to lowercase\n",
    "cohort_df['Postal Province'] = cohort_df['Postal Province'].str.lower()\n",
    "\n",
    "#reformat equity column\n",
    "cohort_df['Postal Province'] = cohort_df['Postal Province'].replace({'gauteng': 'Gauteng', 'kwazulu-natal': 'Kwazulu-Natal',\n",
    "                             'mpumalanga': 'Mpumalanga', 'eastern cape': 'Eastern Cape',\n",
    "                             'limpopo': 'Limpopo', 'northern cape': 'Northern Cape', 'free state': 'Free State', 'north west': 'North West',\n",
    "                                'western cape': 'Western Cape'})\n",
    "\n",
    "cohort_df['Postal Province'].unique()"
   ]
  },
  {
   "cell_type": "markdown",
   "id": "phantom-nerve",
   "metadata": {},
   "source": [
    "**Split Into Eligible and Non-Eligble Datasets**"
   ]
  },
  {
   "cell_type": "code",
   "execution_count": 31,
   "id": "handed-establishment",
   "metadata": {},
   "outputs": [
    {
     "ename": "IndentationError",
     "evalue": "unexpected indent (3108174842.py, line 3)",
     "output_type": "error",
     "traceback": [
      "\u001b[0;36m  File \u001b[0;32m\"/var/folders/33/s663vbhn2v1f4q409xh14zkh0000gn/T/ipykernel_5394/3108174842.py\"\u001b[0;36m, line \u001b[0;32m3\u001b[0m\n\u001b[0;31m    'DisabilityStatus', 'Equity', 'Nationality', 'ResidentialStatus',\u001b[0m\n\u001b[0m    ^\u001b[0m\n\u001b[0;31mIndentationError\u001b[0m\u001b[0;31m:\u001b[0m unexpected indent\n"
     ]
    }
   ],
   "source": [
    "#incomplete datasets\n",
    "#incomplete_df = cohort_df[cohort_df[['Name', 'Surname', 'IDNumber', 'ID Type', 'DateOfBirth(yyyy/mm/dd)',\n",
    "                                    #'DisabilityStatus', 'Equity', 'Nationality', 'ResidentialStatus',\n",
    "                                    #'Grade 12']].isnull().any(axis=1)]\n",
    "\n",
    "#eligible dataset\n",
    "#eligible_df = cohort_df.dropna(subset=['Name', 'Surname', 'IDNumber', 'ID Type', 'DateOfBirth(yyyy/mm/dd)',\n",
    "                                    #'DisabilityStatus', 'Equity', 'Nationality', 'ResidentialStatus',\n",
    "                                    #'Grade 12'])\n",
    "\n",
    "#missing grade 12\n",
    "#no_grade_12_df = eligible_df[eligible_df['Last School Year'].isin(['-'])]\n",
    "\n",
    "#foreign grade 12\n",
    "#foreign_grade_12_df = eligible_df[eligible_df['Grade 12'].isin(['Y - Foreign'])]\n",
    "                             "
   ]
  },
  {
   "cell_type": "markdown",
   "id": "organic-airfare",
   "metadata": {},
   "source": [
    "**Remove Incomplete Data from Eligible Dataset**"
   ]
  },
  {
   "cell_type": "code",
   "execution_count": null,
   "id": "thrown-immune",
   "metadata": {},
   "outputs": [],
   "source": [
    "#remove students without grade 12 from the eligibility list\n",
    "#eligible_df = eligible_df[~eligible_df['IDNumber'].isin(no_grade_12_df['IDNumber'])]\n",
    "\n",
    "#remove students with foreign grade 12 certs from eligible list\n",
    "#eligible_df = eligible_df[~eligible_df['IDNumber'].isin(foreign_grade_12_df['IDNumber'])]"
   ]
  },
  {
   "cell_type": "markdown",
   "id": "awful-edwards",
   "metadata": {},
   "source": [
    "**Combine Ineligible datasets**"
   ]
  },
  {
   "cell_type": "code",
   "execution_count": null,
   "id": "another-rubber",
   "metadata": {},
   "outputs": [],
   "source": [
    "#add issue column to incomplete dataset\n",
    "#incomplete_df['issue'] = \"Incomplete Data.\"\n",
    "\n",
    "#add issue column to no grade 12 dataset\n",
    "#no_grade_12_df['issue'] = \"Did not complete grade 12.\"\n",
    "\n",
    "#add issue column to foreign grade 12 dataset\n",
    "#foreign_grade_12_df['issue'] = \"Foreign grade 12 certificate.\"\n",
    "\n",
    "#append dataframes\n",
    "#not_eligible_df = incomplete_df.append(no_grade_12_df)\n",
    "#not_eligible_df = not_eligible_df.append(foreign_grade_12_df)\n",
    "\n",
    "#subset not eligible dataset\n",
    "#not_eligible_df = not_eligible_df[['issue', 'Name', 'Surname', 'IDNumber', 'ID Type', 'DateOfBirth(yyyy/mm/dd)',\n",
    "#                                    'DisabilityStatus', 'Equity', 'Nationality', 'ResidentialStatus',\n",
    "#                                    'Grade 12']]\n",
    "\n",
    "#not_eligible_df.head()"
   ]
  },
  {
   "cell_type": "markdown",
   "id": "color-entertainment",
   "metadata": {},
   "source": [
    "**Convert Postal Codes to Numeric**"
   ]
  },
  {
   "cell_type": "code",
   "execution_count": 32,
   "id": "applicable-compiler",
   "metadata": {},
   "outputs": [],
   "source": [
    "eligible_df = cohort_df\n",
    "#strip all columns\n",
    "all_columns = ['Physical Post Code','Postal Post Code']\n",
    "for column in all_columns:\n",
    "    eligible_df[column] = eligible_df[column].astype(str)\n",
    "    eligible_df[column] = eligible_df[column].str.strip()\n",
    "    \n",
    "    #update non numeric postal codes\n",
    "    eligible_df.loc[~eligible_df[column].str.isnumeric(),column] = \"2020\"\n",
    "    \n",
    "#update non numeric postal codes\n",
    "#eligible_df.loc[~eligible_df['Postal Post Code'].str.isnumeric(),'Postal Post Code'] = \"2020\"\n",
    "#eligible_df.loc[~eligible_df['Physical Post Code'].str.isnumeric(),'Physical Post Code'] = \"2020\""
   ]
  },
  {
   "cell_type": "markdown",
   "id": "grave-symphony",
   "metadata": {},
   "source": [
    "**Capitalize some Columns**"
   ]
  },
  {
   "cell_type": "code",
   "execution_count": 33,
   "id": "broadband-possibility",
   "metadata": {},
   "outputs": [],
   "source": [
    "#strip all columns\n",
    "all_columns = ['Gender','DisabilityStatus']\n",
    "for column in all_columns:\n",
    "    eligible_df[column] = eligible_df[column].astype(str)\n",
    "    eligible_df[column] = eligible_df[column].str.strip()\n",
    "    \n",
    "    #capitalise columns\n",
    "    eligible_df[column] = eligible_df[column].str.capitalize()\n",
    "    "
   ]
  },
  {
   "cell_type": "markdown",
   "id": "cutting-despite",
   "metadata": {},
   "source": [
    "**Reformat ResidentialStatus**"
   ]
  },
  {
   "cell_type": "code",
   "execution_count": 34,
   "id": "adult-cincinnati",
   "metadata": {},
   "outputs": [
    {
     "data": {
      "text/plain": [
       "array(['South Africa', nan, 'Permanent Resident'], dtype=object)"
      ]
     },
     "execution_count": 34,
     "metadata": {},
     "output_type": "execute_result"
    }
   ],
   "source": [
    "#reformat disability column\n",
    "eligible_df['ResidentialStatus'] = eligible_df['ResidentialStatus'].replace({'Citizen': 'South Africa'})\n",
    "eligible_df['ResidentialStatus'].unique()"
   ]
  },
  {
   "cell_type": "markdown",
   "id": "narrative-village",
   "metadata": {},
   "source": [
    "**Capitalise Municipality**"
   ]
  },
  {
   "cell_type": "code",
   "execution_count": 35,
   "id": "monthly-singing",
   "metadata": {},
   "outputs": [],
   "source": [
    "#strip all columns\n",
    "all_columns = ['Municipality']\n",
    "for column in all_columns:\n",
    "    eligible_df[column] = eligible_df[column].astype(str)\n",
    "    eligible_df[column] = eligible_df[column].str.strip()\n",
    "    \n",
    "    #capitalise columns\n",
    "    eligible_df[column] = eligible_df[column].str.title()"
   ]
  },
  {
   "cell_type": "markdown",
   "id": "violent-glossary",
   "metadata": {},
   "source": [
    "**Drop Some columns**"
   ]
  },
  {
   "cell_type": "code",
   "execution_count": 36,
   "id": "after-figure",
   "metadata": {},
   "outputs": [],
   "source": [
    "eligible_df = eligible_df[['Name', 'Surname', 'IDNumber', 'ID Type', 'DateOfBirth(yyyy/mm/dd)',\n",
    "       'Gender', 'DisabilityStatus', 'Equity', 'Nationality',\n",
    "       'ResidentialStatus', 'Language', 'MaritalStatus', 'Province',\n",
    "       'GETC Qualification', 'Municipality', 'Physical Address 1',\n",
    "       'Physical Address 2', 'Physical  Address 3', 'Physical Post Code',\n",
    "       'Physical Province', 'Postal Address 1', 'Postal Address 2',\n",
    "       'Postal  Address 3', 'Postal Post Code', 'Postal Province',\n",
    "       'Emis Number', 'Last School Year', 'Area Code', 'Agree Popi Act']]"
   ]
  },
  {
   "cell_type": "markdown",
   "id": "fancy-luxembourg",
   "metadata": {},
   "source": [
    "**Write Datasets to Excel file**"
   ]
  },
  {
   "cell_type": "code",
   "execution_count": 38,
   "id": "working-princess",
   "metadata": {},
   "outputs": [],
   "source": [
    "#write eligible dataset to eligible file\n",
    "eligible_df.to_excel(\"../seta_eligible_second_upload.xlsx\", index=False)\n",
    "\n",
    "#write ineligible dataset to ineligible file\n",
    "#not_eligible_df.to_excel(\"../ineligible.xlsx\")"
   ]
  },
  {
   "cell_type": "code",
   "execution_count": 39,
   "id": "intense-piece",
   "metadata": {},
   "outputs": [],
   "source": [
    "eligible_df = pd.read_excel(\"../seta_eligible_second_upload.xlsx\")\n",
    "eligible_df['Name'] = eligible_df['Name'].astype(str).str.strip()\n",
    "eligible_df['Surname'] = eligible_df['Surname'].astype(str).str.strip()"
   ]
  },
  {
   "cell_type": "code",
   "execution_count": 133,
   "id": "perfect-imagination",
   "metadata": {},
   "outputs": [
    {
     "data": {
      "text/html": [
       "<div>\n",
       "<style scoped>\n",
       "    .dataframe tbody tr th:only-of-type {\n",
       "        vertical-align: middle;\n",
       "    }\n",
       "\n",
       "    .dataframe tbody tr th {\n",
       "        vertical-align: top;\n",
       "    }\n",
       "\n",
       "    .dataframe thead th {\n",
       "        text-align: right;\n",
       "    }\n",
       "</style>\n",
       "<table border=\"1\" class=\"dataframe\">\n",
       "  <thead>\n",
       "    <tr style=\"text-align: right;\">\n",
       "      <th></th>\n",
       "      <th>Name</th>\n",
       "      <th>Surname</th>\n",
       "      <th>IDNumber</th>\n",
       "      <th>ID Type</th>\n",
       "      <th>DateOfBirth(yyyy/mm/dd)</th>\n",
       "      <th>Gender</th>\n",
       "      <th>DisabilityStatus</th>\n",
       "      <th>Equity</th>\n",
       "      <th>Nationality</th>\n",
       "      <th>ResidentialStatus</th>\n",
       "      <th>...</th>\n",
       "      <th>Physical Province</th>\n",
       "      <th>Postal Address 1</th>\n",
       "      <th>Postal Address 2</th>\n",
       "      <th>Postal  Address 3</th>\n",
       "      <th>Postal Post Code</th>\n",
       "      <th>Postal Province</th>\n",
       "      <th>Emis Number</th>\n",
       "      <th>Last School Year</th>\n",
       "      <th>Area Code</th>\n",
       "      <th>Agree Popi Act</th>\n",
       "    </tr>\n",
       "  </thead>\n",
       "  <tbody>\n",
       "    <tr>\n",
       "      <th>171</th>\n",
       "      <td>Abdullah</td>\n",
       "      <td>Ebrahim</td>\n",
       "      <td>0001165311083</td>\n",
       "      <td>National ID</td>\n",
       "      <td>2000/16/01</td>\n",
       "      <td>Male</td>\n",
       "      <td>None</td>\n",
       "      <td>Black: Coloured</td>\n",
       "      <td>South African</td>\n",
       "      <td>South Africa</td>\n",
       "      <td>...</td>\n",
       "      <td>Gauteng</td>\n",
       "      <td>65 Stockley Road</td>\n",
       "      <td>Kenwyn</td>\n",
       "      <td>Lansdowne</td>\n",
       "      <td>7780</td>\n",
       "      <td>Gauteng</td>\n",
       "      <td>100000636</td>\n",
       "      <td>2020</td>\n",
       "      <td>2011-199041056</td>\n",
       "      <td>Yes</td>\n",
       "    </tr>\n",
       "  </tbody>\n",
       "</table>\n",
       "<p>1 rows × 29 columns</p>\n",
       "</div>"
      ],
      "text/plain": [
       "         Name  Surname       IDNumber      ID Type DateOfBirth(yyyy/mm/dd)  \\\n",
       "171  Abdullah  Ebrahim  0001165311083  National ID              2000/16/01   \n",
       "\n",
       "    Gender DisabilityStatus           Equity    Nationality ResidentialStatus  \\\n",
       "171   Male             None  Black: Coloured  South African      South Africa   \n",
       "\n",
       "     ... Physical Province  Postal Address 1 Postal Address 2  \\\n",
       "171  ...           Gauteng  65 Stockley Road           Kenwyn   \n",
       "\n",
       "    Postal  Address 3 Postal Post Code Postal Province Emis Number  \\\n",
       "171         Lansdowne             7780         Gauteng   100000636   \n",
       "\n",
       "    Last School Year       Area Code Agree Popi Act  \n",
       "171             2020  2011-199041056            Yes  \n",
       "\n",
       "[1 rows x 29 columns]"
      ]
     },
     "execution_count": 133,
     "metadata": {},
     "output_type": "execute_result"
    }
   ],
   "source": [
    "#condition_name = eligible_df['IDNumber'] == 9604165085085\n",
    "condition_name = eligible_df['Name'] == \"Abdullah\"\n",
    "\n",
    "eligible_df[condition_name]"
   ]
  },
  {
   "cell_type": "code",
   "execution_count": 134,
   "id": "pacific-volleyball",
   "metadata": {},
   "outputs": [
    {
     "name": "stdout",
     "output_type": "stream",
     "text": [
      "Name : Abdullah\n",
      "Surname : Ebrahim\n",
      "IDNumber : 0001165311083\n",
      "ID Type : National ID\n",
      "DateOfBirth(yyyy/mm/dd) : 2000/16/01\n",
      "Gender : Male\n",
      "DisabilityStatus : None\n",
      "Equity : Black: Coloured\n",
      "Nationality : South African\n",
      "ResidentialStatus : South Africa\n",
      "Language : English\n",
      "MaritalStatus : Single\n",
      "Province : Gauteng\n",
      "GETC Qualification : GRADE 12\n",
      "Municipality : 7570 Cape Town Metro Arcadia Centre Kraaifontein\n",
      "Physical Address 1 : 65 Stockley Road\n",
      "Physical Address 2 :  Kenwyn\n",
      "Physical  Address 3 :  Lansdowne\n",
      "Physical Post Code : 7780\n",
      "Physical Province : Gauteng\n",
      "Postal Address 1 : 65 Stockley Road\n",
      "Postal Address 2 :  Kenwyn\n",
      "Postal  Address 3 :  Lansdowne\n",
      "Postal Post Code : 7780\n",
      "Postal Province : Gauteng\n",
      "Emis Number : 100000636\n",
      "Last School Year : 2020\n",
      "Area Code : 2011-199041056\n",
      "Agree Popi Act : Yes\n"
     ]
    }
   ],
   "source": [
    "for column in eligible_df.columns:\n",
    "    print(f\"{column} : {eligible_df[condition_name][column].values[0]}\")"
   ]
  },
  {
   "cell_type": "code",
   "execution_count": 2,
   "id": "suspected-rings",
   "metadata": {},
   "outputs": [],
   "source": [
    "eligible_df = pd.read_excel(\"../seta_eligible_second_upload.xlsx\")\n",
    "ineligible_df = pd.read_excel(\"../ineligible.xlsx\")"
   ]
  },
  {
   "cell_type": "code",
   "execution_count": 8,
   "id": "latest-sperm",
   "metadata": {},
   "outputs": [
    {
     "data": {
      "text/html": [
       "<div>\n",
       "<style scoped>\n",
       "    .dataframe tbody tr th:only-of-type {\n",
       "        vertical-align: middle;\n",
       "    }\n",
       "\n",
       "    .dataframe tbody tr th {\n",
       "        vertical-align: top;\n",
       "    }\n",
       "\n",
       "    .dataframe thead th {\n",
       "        text-align: right;\n",
       "    }\n",
       "</style>\n",
       "<table border=\"1\" class=\"dataframe\">\n",
       "  <thead>\n",
       "    <tr style=\"text-align: right;\">\n",
       "      <th></th>\n",
       "      <th>Unnamed: 0</th>\n",
       "      <th>issue</th>\n",
       "      <th>Name</th>\n",
       "      <th>Surname</th>\n",
       "      <th>IDNumber</th>\n",
       "      <th>ID Type</th>\n",
       "      <th>DateOfBirth(yyyy/mm/dd)</th>\n",
       "      <th>DisabilityStatus</th>\n",
       "      <th>Equity</th>\n",
       "      <th>Nationality</th>\n",
       "      <th>ResidentialStatus</th>\n",
       "      <th>Grade 12</th>\n",
       "    </tr>\n",
       "  </thead>\n",
       "  <tbody>\n",
       "    <tr>\n",
       "      <th>0</th>\n",
       "      <td>37</td>\n",
       "      <td>Incomplete Data.</td>\n",
       "      <td>Kalombo</td>\n",
       "      <td>Bondo</td>\n",
       "      <td>9109209087188</td>\n",
       "      <td>National ID</td>\n",
       "      <td>1991/20/09</td>\n",
       "      <td>None</td>\n",
       "      <td>Black: African</td>\n",
       "      <td>Rest of Africa</td>\n",
       "      <td>NaN</td>\n",
       "      <td>Y</td>\n",
       "    </tr>\n",
       "    <tr>\n",
       "      <th>1</th>\n",
       "      <td>84</td>\n",
       "      <td>Incomplete Data.</td>\n",
       "      <td>Lloyd</td>\n",
       "      <td>Ndhlovu</td>\n",
       "      <td>CN806411</td>\n",
       "      <td>Passport Number</td>\n",
       "      <td>1992/23/02</td>\n",
       "      <td>None</td>\n",
       "      <td>Black: African</td>\n",
       "      <td>Zimbabwe</td>\n",
       "      <td>NaN</td>\n",
       "      <td>Y</td>\n",
       "    </tr>\n",
       "    <tr>\n",
       "      <th>2</th>\n",
       "      <td>217</td>\n",
       "      <td>Incomplete Data.</td>\n",
       "      <td>Bryan</td>\n",
       "      <td>Nkala</td>\n",
       "      <td>9612196335189</td>\n",
       "      <td>National ID</td>\n",
       "      <td>1996/19/12</td>\n",
       "      <td>None</td>\n",
       "      <td>Black: African</td>\n",
       "      <td>Zimbabwe</td>\n",
       "      <td>NaN</td>\n",
       "      <td>Y</td>\n",
       "    </tr>\n",
       "    <tr>\n",
       "      <th>3</th>\n",
       "      <td>220</td>\n",
       "      <td>Incomplete Data.</td>\n",
       "      <td>Charney</td>\n",
       "      <td>Essack</td>\n",
       "      <td>9909210274083</td>\n",
       "      <td>National ID</td>\n",
       "      <td>1999/21/09</td>\n",
       "      <td>None</td>\n",
       "      <td>Black: Coloured</td>\n",
       "      <td>South African</td>\n",
       "      <td>NaN</td>\n",
       "      <td>Y</td>\n",
       "    </tr>\n",
       "    <tr>\n",
       "      <th>4</th>\n",
       "      <td>267</td>\n",
       "      <td>Incomplete Data.</td>\n",
       "      <td>Mesuli</td>\n",
       "      <td>Ndzawumbi</td>\n",
       "      <td>9104275767086</td>\n",
       "      <td>National ID</td>\n",
       "      <td>1991/27/04</td>\n",
       "      <td>None</td>\n",
       "      <td>Black: African</td>\n",
       "      <td>South African</td>\n",
       "      <td>NaN</td>\n",
       "      <td>Y</td>\n",
       "    </tr>\n",
       "  </tbody>\n",
       "</table>\n",
       "</div>"
      ],
      "text/plain": [
       "   Unnamed: 0             issue     Name     Surname       IDNumber  \\\n",
       "0          37  Incomplete Data.  Kalombo       Bondo  9109209087188   \n",
       "1          84  Incomplete Data.    Lloyd     Ndhlovu       CN806411   \n",
       "2         217  Incomplete Data.    Bryan       Nkala  9612196335189   \n",
       "3         220  Incomplete Data.  Charney      Essack  9909210274083   \n",
       "4         267  Incomplete Data.   Mesuli  Ndzawumbi   9104275767086   \n",
       "\n",
       "           ID Type DateOfBirth(yyyy/mm/dd) DisabilityStatus           Equity  \\\n",
       "0      National ID              1991/20/09             None   Black: African   \n",
       "1  Passport Number              1992/23/02             None   Black: African   \n",
       "2      National ID              1996/19/12             None   Black: African   \n",
       "3      National ID              1999/21/09             None  Black: Coloured   \n",
       "4      National ID              1991/27/04             None   Black: African   \n",
       "\n",
       "      Nationality ResidentialStatus Grade 12  \n",
       "0  Rest of Africa               NaN        Y  \n",
       "1        Zimbabwe               NaN        Y  \n",
       "2        Zimbabwe               NaN        Y  \n",
       "3   South African               NaN        Y  \n",
       "4   South African               NaN        Y  "
      ]
     },
     "execution_count": 8,
     "metadata": {},
     "output_type": "execute_result"
    }
   ],
   "source": [
    "ineligible_df.head()"
   ]
  },
  {
   "cell_type": "code",
   "execution_count": null,
   "id": "mathematical-military",
   "metadata": {},
   "outputs": [],
   "source": []
  },
  {
   "cell_type": "code",
   "execution_count": null,
   "id": "annual-mechanics",
   "metadata": {},
   "outputs": [],
   "source": []
  },
  {
   "cell_type": "code",
   "execution_count": null,
   "id": "medical-italy",
   "metadata": {},
   "outputs": [],
   "source": []
  },
  {
   "cell_type": "code",
   "execution_count": null,
   "id": "split-lancaster",
   "metadata": {},
   "outputs": [],
   "source": []
  },
  {
   "cell_type": "code",
   "execution_count": null,
   "id": "banner-education",
   "metadata": {},
   "outputs": [],
   "source": []
  },
  {
   "cell_type": "code",
   "execution_count": null,
   "id": "phantom-syntax",
   "metadata": {},
   "outputs": [],
   "source": []
  },
  {
   "cell_type": "code",
   "execution_count": null,
   "id": "selected-composition",
   "metadata": {},
   "outputs": [],
   "source": []
  },
  {
   "cell_type": "code",
   "execution_count": null,
   "id": "conceptual-empty",
   "metadata": {},
   "outputs": [],
   "source": []
  },
  {
   "cell_type": "code",
   "execution_count": null,
   "id": "municipal-acrobat",
   "metadata": {},
   "outputs": [],
   "source": []
  },
  {
   "cell_type": "code",
   "execution_count": null,
   "id": "hidden-walnut",
   "metadata": {},
   "outputs": [],
   "source": []
  },
  {
   "cell_type": "code",
   "execution_count": null,
   "id": "painted-crowd",
   "metadata": {},
   "outputs": [],
   "source": []
  },
  {
   "cell_type": "code",
   "execution_count": null,
   "id": "automotive-asset",
   "metadata": {},
   "outputs": [],
   "source": []
  },
  {
   "cell_type": "code",
   "execution_count": null,
   "id": "violent-detroit",
   "metadata": {},
   "outputs": [],
   "source": []
  },
  {
   "cell_type": "code",
   "execution_count": null,
   "id": "functioning-fault",
   "metadata": {},
   "outputs": [],
   "source": []
  },
  {
   "cell_type": "code",
   "execution_count": null,
   "id": "oriented-freeze",
   "metadata": {},
   "outputs": [],
   "source": []
  }
 ],
 "metadata": {
  "kernelspec": {
   "display_name": "Python 3 (ipykernel)",
   "language": "python",
   "name": "python3"
  },
  "language_info": {
   "codemirror_mode": {
    "name": "ipython",
    "version": 3
   },
   "file_extension": ".py",
   "mimetype": "text/x-python",
   "name": "python",
   "nbconvert_exporter": "python",
   "pygments_lexer": "ipython3",
   "version": "3.8.2"
  }
 },
 "nbformat": 4,
 "nbformat_minor": 5
}
