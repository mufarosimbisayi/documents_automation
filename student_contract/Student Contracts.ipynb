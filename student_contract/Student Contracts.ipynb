{
 "cells": [
  {
   "cell_type": "markdown",
   "id": "16d48b9d-124b-4ebf-9ab2-aad633e65a50",
   "metadata": {},
   "source": [
    "***This notebook contains a script that sends Student Contracts to Students for signing***"
   ]
  },
  {
   "cell_type": "markdown",
   "id": "6011fb6b-ff7a-403f-9615-355c37472b32",
   "metadata": {},
   "source": [
    "**Add local library to path**"
   ]
  },
  {
   "cell_type": "code",
   "execution_count": 1,
   "id": "3528009f-3f6c-4ddf-8e19-3b90c9241f6b",
   "metadata": {},
   "outputs": [],
   "source": [
    "import os\n",
    "import sys\n",
    "\n",
    "module_path = os.path.abspath(os.path.join('..'))\n",
    "if module_path not in sys.path:\n",
    "    sys.path.append(module_path)\n",
    "    sys.path.append(module_path + '/local_library')"
   ]
  },
  {
   "cell_type": "markdown",
   "id": "62f9ef94-d020-497c-a6e9-295d48584446",
   "metadata": {},
   "source": [
    "***Import Libraries***"
   ]
  },
  {
   "cell_type": "code",
   "execution_count": 2,
   "id": "217879e8-c93d-433c-b29b-64b866d28084",
   "metadata": {},
   "outputs": [
    {
     "name": "stdout",
     "output_type": "stream",
     "text": [
      "Your browser has been opened to visit:\n",
      "\n",
      "    https://accounts.google.com/o/oauth2/auth?client_id=1017190226189-f1d5s7cpjrj54u2rqk1ufh9pevguqoap.apps.googleusercontent.com&redirect_uri=http%3A%2F%2Flocalhost%3A8080%2F&scope=https%3A%2F%2Fwww.googleapis.com%2Fauth%2Fdrive&access_type=offline&response_type=code\n",
      "\n",
      "Authentication successful.\n"
     ]
    }
   ],
   "source": [
    "import pandas as pd\n",
    "import re\n",
    "from local_library import import_worksheet\n",
    "from local_library import export_worksheet\n",
    "from local_library import send_bulk_signrequest"
   ]
  },
  {
   "cell_type": "markdown",
   "id": "788c0bd5-f597-44c6-9c21-5fbf23649159",
   "metadata": {},
   "source": [
    "***Import Google WorkSheets***"
   ]
  },
  {
   "cell_type": "code",
   "execution_count": 3,
   "id": "e84ac036-975f-43d4-99c8-454e1c516118",
   "metadata": {},
   "outputs": [],
   "source": [
    "#import student data\n",
    "cohort_df = import_worksheet(\"Cohort 2022_ Data Review\", \"Cohort 2022_ DATA REVIEW\")"
   ]
  },
  {
   "cell_type": "code",
   "execution_count": null,
   "id": "f270acac-cb4e-4aba-8bf4-38ca7d9ed53e",
   "metadata": {},
   "outputs": [],
   "source": []
  },
  {
   "cell_type": "markdown",
   "id": "5a4b2dbb-a727-4512-8ab3-73cff6cb1405",
   "metadata": {},
   "source": [
    "***Rename Column Names***"
   ]
  },
  {
   "cell_type": "code",
   "execution_count": 4,
   "id": "535efdbe-d608-467e-8d42-6245843dc8f5",
   "metadata": {},
   "outputs": [],
   "source": [
    "#set new column names\n",
    "column_names = {'First Name':'learner_name', 'Last Name':'learner_surname', 'Email Address':'learner_email',\n",
    "                'Mobile Phone':'learner_phone', 'Date Of Birth':'learner_birthdate', 'Gender':'learner_gender',\n",
    "                'ID / Passport Number':'learner_id', 'Middle Name(s)':'middle_name'}\n",
    "\n",
    "#update target df with new column names\n",
    "cohort_df = cohort_df.rename(columns=column_names)"
   ]
  },
  {
   "cell_type": "markdown",
   "id": "264271f2-1306-4dd7-8387-903b54b55029",
   "metadata": {},
   "source": [
    "***Convert Phone Numbers to String***"
   ]
  },
  {
   "cell_type": "code",
   "execution_count": 5,
   "id": "e4ba8fa1-a31f-461c-b56c-35b12af62fba",
   "metadata": {},
   "outputs": [],
   "source": [
    "cohort_df['learner_id'] = cohort_df['learner_id'].astype(str)\n",
    "cohort_df['learner_phone'] = [phone[-1] + phone[:-2] for phone in cohort_df['learner_phone'].astype(str)]"
   ]
  },
  {
   "cell_type": "markdown",
   "id": "89b311f0-d2e7-417d-bd1a-9c91dfe03774",
   "metadata": {},
   "source": [
    "***Create Learner Title Column***"
   ]
  },
  {
   "cell_type": "code",
   "execution_count": 6,
   "id": "ba6a4fc4-8612-431e-8249-a8917925087c",
   "metadata": {},
   "outputs": [],
   "source": [
    "cohort_df[\"learner_title\"] = [\"Mr.\" if gender == \"Male\" else \"Ms.\" for gender in cohort_df[\"learner_gender\"]]"
   ]
  },
  {
   "cell_type": "markdown",
   "id": "0489731e-9176-4d5f-afa7-05ec2f7e8061",
   "metadata": {},
   "source": [
    "**Filter Active Students**"
   ]
  },
  {
   "cell_type": "code",
   "execution_count": 7,
   "id": "71d8aecc-7964-4d25-bbc9-f0a481bd8bdc",
   "metadata": {},
   "outputs": [],
   "source": [
    "#cohort_df = cohort_df[cohort_df['Accepted provisional offer'] == 'Yes']\n",
    "cohort_df = cohort_df[cohort_df['learner_surname'].notna()]\n"
   ]
  },
  {
   "cell_type": "markdown",
   "id": "31c9fda1-b3a9-4ea6-ad37-e122e63ba753",
   "metadata": {},
   "source": [
    "***Create Learner Full Name Column***"
   ]
  },
  {
   "cell_type": "code",
   "execution_count": 8,
   "id": "d02ecd4a-a5e1-488b-b0b7-c0c0e3539e51",
   "metadata": {},
   "outputs": [],
   "source": [
    "cohort_df['middle_name'] = cohort_df['middle_name'].fillna(\"\")\n",
    "cohort_df['learner_name'] = cohort_df['learner_name'].str.strip().str.lower() + \" \" + cohort_df['middle_name'].str.strip().str.lower()\n",
    "cohort_df['learner_name'] = cohort_df['learner_name'].str.strip().str.title()\n",
    "cohort_df['learner_fullname'] = cohort_df['learner_name'].str.strip().str.lower() + \" \" + cohort_df['learner_surname'].str.strip().str.lower()\n",
    "cohort_df['learner_fullname'] = [re.sub(' +', ' ', fullname) for fullname in cohort_df['learner_fullname']]\n",
    "cohort_df['learner_fullname'] = cohort_df['learner_fullname'].str.title()"
   ]
  },
  {
   "cell_type": "markdown",
   "id": "480bbca8-347f-4df7-91a8-2be92ae30474",
   "metadata": {},
   "source": [
    "***Create Learner Initials Column***"
   ]
  },
  {
   "cell_type": "code",
   "execution_count": 9,
   "id": "93e21d15-0203-434f-aa3e-5f4e2314ac4a",
   "metadata": {},
   "outputs": [],
   "source": [
    "cohort_df[\"learner_initials\"] = [f\"{name.split()[0][0]}.{name.split()[1][0]}\" for name in cohort_df[\"learner_fullname\"]]"
   ]
  },
  {
   "cell_type": "markdown",
   "id": "6e763bfc-f780-4262-b6b3-7c1cad46d9cd",
   "metadata": {},
   "source": [
    "**Add Template IDs**"
   ]
  },
  {
   "cell_type": "code",
   "execution_count": 10,
   "id": "62225415-8262-49f4-8462-96901ce9b7e9",
   "metadata": {},
   "outputs": [],
   "source": [
    "cohort_df['student_contract'] = '435beaf0-66ae-41ad-961b-2506c9d99086'\n",
    "cohort_df['code_of_conduct'] = '225f7ad2-539f-43b8-9350-f3f222b74e6c'"
   ]
  },
  {
   "cell_type": "markdown",
   "id": "0cbd04dc-36eb-4a61-8f67-143a4565ae18",
   "metadata": {},
   "source": [
    "***Subset Relevant Columns***"
   ]
  },
  {
   "cell_type": "code",
   "execution_count": 11,
   "id": "ed050d67-107c-44d0-b2cb-e88deb346a62",
   "metadata": {},
   "outputs": [],
   "source": [
    "#list relevant columns\n",
    "contract_df_columns = ['learner_name', 'learner_surname', 'learner_title', 'learner_fullname', 'learner_initials',\n",
    "                       'learner_email', 'learner_phone', 'learner_birthdate', 'learner_gender', 'learner_id',\n",
    "                       'student_contract', 'code_of_conduct']\n",
    "\n",
    "#subset columns based on list of relevant columns\n",
    "cohort_df = cohort_df[contract_df_columns]"
   ]
  },
  {
   "cell_type": "markdown",
   "id": "11e18a35-d897-4cb9-8149-ee9221735d73",
   "metadata": {},
   "source": [
    "***Create Target Columns***"
   ]
  },
  {
   "cell_type": "code",
   "execution_count": 12,
   "id": "402048b6-3bf5-40e8-8ed7-159201cc3480",
   "metadata": {},
   "outputs": [],
   "source": [
    "#student contract data\n",
    "student_contract_columns = ['learner_name', 'learner_surname', 'learner_title', 'learner_fullname', 'learner_initials',\n",
    "                       'learner_email', 'learner_phone', 'learner_birthdate', 'learner_gender', 'learner_id']\n",
    "\n",
    "#code of conduct data\n",
    "code_of_conduct_columns = ['learner_fullname', 'learner_initials']"
   ]
  },
  {
   "cell_type": "markdown",
   "id": "5ac71cb1-0348-49d9-afdb-267fe9dd1f35",
   "metadata": {},
   "source": [
    "**Subset particular students**"
   ]
  },
  {
   "cell_type": "code",
   "execution_count": 13,
   "id": "b3ea4d91-d881-420e-96a9-9ffc2a00532f",
   "metadata": {},
   "outputs": [],
   "source": [
    "cohort_df = cohort_df[cohort_df['learner_email'].isin(['mentsha022@student.wethinkcode.co.za'])]\n"
   ]
  },
  {
   "cell_type": "code",
   "execution_count": 14,
   "id": "ec740b7e-89e2-47fb-8c7e-a4e9353e4b54",
   "metadata": {},
   "outputs": [
    {
     "data": {
      "text/plain": [
       "1"
      ]
     },
     "execution_count": 14,
     "metadata": {},
     "output_type": "execute_result"
    }
   ],
   "source": [
    "len(cohort_df)"
   ]
  },
  {
   "cell_type": "markdown",
   "id": "76dbaf8e-68c0-4171-a224-f8ac8b8fcdf3",
   "metadata": {},
   "source": [
    "***Create Test Dataframe***"
   ]
  },
  {
   "cell_type": "code",
   "execution_count": 283,
   "id": "54914bbc-991e-4fe5-ba66-7b7653b23844",
   "metadata": {},
   "outputs": [],
   "source": [
    "#test_df = cohort_df.groupby(['student_contract']).head(1).groupby('student_contract').head(1).copy()\n",
    "#test_df['learner_email'] = 'mufaro@thoughtquest.co.za'"
   ]
  },
  {
   "cell_type": "markdown",
   "id": "ce3c7b85-174d-46b0-83d7-ccc7344e6833",
   "metadata": {},
   "source": [
    "**Subset Dataset**"
   ]
  },
  {
   "cell_type": "code",
   "execution_count": 75,
   "id": "5944baa6-4b5e-4321-978a-856ec788e270",
   "metadata": {},
   "outputs": [],
   "source": [
    "#contract_df = contract_df[contract_df[\"Status after sign-request\"] == \"Resend Code\"]\n",
    "#contract_df = pd.merge(contract_df, missing_df, left_on=\"Email Address\", right_on=\"Emails\")\n",
    "#contract_df.shape[0]"
   ]
  },
  {
   "cell_type": "markdown",
   "id": "f430af33-3d02-4f1d-bb99-3c0151aaf7c6",
   "metadata": {},
   "source": [
    "***Send Out SignRequests***"
   ]
  },
  {
   "cell_type": "code",
   "execution_count": 16,
   "id": "87bcc55b-9080-4964-890e-dd697de7325b",
   "metadata": {},
   "outputs": [
    {
     "name": "stdout",
     "output_type": "stream",
     "text": [
      "Signer: mentsha022@student.wethinkcode.co.za , Status: 201\n",
      "Signer: mentsha022@student.wethinkcode.co.za , Status: 201\n"
     ]
    }
   ],
   "source": [
    "#send student contract signrequests in bulk\n",
    "send_bulk_signrequest(cohort_df, student_contract_columns, 'student_contract')\n",
    "\n",
    "#send code of conduct signrequests in bulk\n",
    "send_bulk_signrequest(cohort_df, code_of_conduct_columns, 'code_of_conduct')"
   ]
  },
  {
   "cell_type": "code",
   "execution_count": 208,
   "id": "7d1fe3df-4e91-4996-8a1e-410581f1ae79",
   "metadata": {},
   "outputs": [
    {
     "data": {
      "text/plain": [
       "1"
      ]
     },
     "execution_count": 208,
     "metadata": {},
     "output_type": "execute_result"
    }
   ],
   "source": [
    "len(cohort_df)"
   ]
  },
  {
   "cell_type": "code",
   "execution_count": 290,
   "id": "e6af0b2b-6807-4a35-8bab-eae6267a4f4a",
   "metadata": {},
   "outputs": [],
   "source": [
    "short_df = cohort_df[cohort_df['learner_birthdate'].isnull()]"
   ]
  },
  {
   "cell_type": "code",
   "execution_count": 298,
   "id": "43b8ab5c-d1d4-43dc-8466-7ac837a2fd34",
   "metadata": {},
   "outputs": [],
   "source": [
    "cohort_df.loc[cohort_df['learner_surname'] == 'Jockia', 'learner_birthdate'] = '20/10/1995'\n",
    "cohort_df.loc[cohort_df['learner_surname'] == 'Mavhunga', 'learner_birthdate'] ='29/01/1991'"
   ]
  },
  {
   "cell_type": "code",
   "execution_count": 15,
   "id": "45ad29f6-f6e7-4de7-8a35-6aff33610f00",
   "metadata": {},
   "outputs": [
    {
     "data": {
      "text/html": [
       "<div>\n",
       "<style scoped>\n",
       "    .dataframe tbody tr th:only-of-type {\n",
       "        vertical-align: middle;\n",
       "    }\n",
       "\n",
       "    .dataframe tbody tr th {\n",
       "        vertical-align: top;\n",
       "    }\n",
       "\n",
       "    .dataframe thead th {\n",
       "        text-align: right;\n",
       "    }\n",
       "</style>\n",
       "<table border=\"1\" class=\"dataframe\">\n",
       "  <thead>\n",
       "    <tr style=\"text-align: right;\">\n",
       "      <th></th>\n",
       "      <th>count</th>\n",
       "      <th>unique</th>\n",
       "      <th>top</th>\n",
       "      <th>freq</th>\n",
       "    </tr>\n",
       "  </thead>\n",
       "  <tbody>\n",
       "    <tr>\n",
       "      <th>learner_name</th>\n",
       "      <td>1</td>\n",
       "      <td>1</td>\n",
       "      <td>Melusi Lawrence</td>\n",
       "      <td>1</td>\n",
       "    </tr>\n",
       "    <tr>\n",
       "      <th>learner_surname</th>\n",
       "      <td>1</td>\n",
       "      <td>1</td>\n",
       "      <td>Ntshangase</td>\n",
       "      <td>1</td>\n",
       "    </tr>\n",
       "    <tr>\n",
       "      <th>learner_title</th>\n",
       "      <td>1</td>\n",
       "      <td>1</td>\n",
       "      <td>Mr.</td>\n",
       "      <td>1</td>\n",
       "    </tr>\n",
       "    <tr>\n",
       "      <th>learner_fullname</th>\n",
       "      <td>1</td>\n",
       "      <td>1</td>\n",
       "      <td>Melusi Lawrence Ntshangase</td>\n",
       "      <td>1</td>\n",
       "    </tr>\n",
       "    <tr>\n",
       "      <th>learner_initials</th>\n",
       "      <td>1</td>\n",
       "      <td>1</td>\n",
       "      <td>M.L</td>\n",
       "      <td>1</td>\n",
       "    </tr>\n",
       "    <tr>\n",
       "      <th>learner_email</th>\n",
       "      <td>1</td>\n",
       "      <td>1</td>\n",
       "      <td>mentsha022@student.wethinkcode.co.za</td>\n",
       "      <td>1</td>\n",
       "    </tr>\n",
       "    <tr>\n",
       "      <th>learner_phone</th>\n",
       "      <td>1</td>\n",
       "      <td>1</td>\n",
       "      <td>027658921748</td>\n",
       "      <td>1</td>\n",
       "    </tr>\n",
       "    <tr>\n",
       "      <th>learner_birthdate</th>\n",
       "      <td>1</td>\n",
       "      <td>1</td>\n",
       "      <td>08/12/1999</td>\n",
       "      <td>1</td>\n",
       "    </tr>\n",
       "    <tr>\n",
       "      <th>learner_gender</th>\n",
       "      <td>1</td>\n",
       "      <td>1</td>\n",
       "      <td>Male</td>\n",
       "      <td>1</td>\n",
       "    </tr>\n",
       "    <tr>\n",
       "      <th>learner_id</th>\n",
       "      <td>1</td>\n",
       "      <td>1</td>\n",
       "      <td>9912085193081</td>\n",
       "      <td>1</td>\n",
       "    </tr>\n",
       "    <tr>\n",
       "      <th>student_contract</th>\n",
       "      <td>1</td>\n",
       "      <td>1</td>\n",
       "      <td>435beaf0-66ae-41ad-961b-2506c9d99086</td>\n",
       "      <td>1</td>\n",
       "    </tr>\n",
       "    <tr>\n",
       "      <th>code_of_conduct</th>\n",
       "      <td>1</td>\n",
       "      <td>1</td>\n",
       "      <td>225f7ad2-539f-43b8-9350-f3f222b74e6c</td>\n",
       "      <td>1</td>\n",
       "    </tr>\n",
       "  </tbody>\n",
       "</table>\n",
       "</div>"
      ],
      "text/plain": [
       "                  count unique                                   top freq\n",
       "learner_name          1      1                       Melusi Lawrence    1\n",
       "learner_surname       1      1                            Ntshangase    1\n",
       "learner_title         1      1                                   Mr.    1\n",
       "learner_fullname      1      1            Melusi Lawrence Ntshangase    1\n",
       "learner_initials      1      1                                   M.L    1\n",
       "learner_email         1      1  mentsha022@student.wethinkcode.co.za    1\n",
       "learner_phone         1      1                          027658921748    1\n",
       "learner_birthdate     1      1                            08/12/1999    1\n",
       "learner_gender        1      1                                  Male    1\n",
       "learner_id            1      1                         9912085193081    1\n",
       "student_contract      1      1  435beaf0-66ae-41ad-961b-2506c9d99086    1\n",
       "code_of_conduct       1      1  225f7ad2-539f-43b8-9350-f3f222b74e6c    1"
      ]
     },
     "execution_count": 15,
     "metadata": {},
     "output_type": "execute_result"
    }
   ],
   "source": [
    "cohort_df.describe().transpose()"
   ]
  },
  {
   "cell_type": "code",
   "execution_count": null,
   "id": "a49a6ce8-5d6d-4d85-898f-2558a7042cb4",
   "metadata": {},
   "outputs": [],
   "source": []
  }
 ],
 "metadata": {
  "kernelspec": {
   "display_name": "Python 3 (ipykernel)",
   "language": "python",
   "name": "python3"
  },
  "language_info": {
   "codemirror_mode": {
    "name": "ipython",
    "version": 3
   },
   "file_extension": ".py",
   "mimetype": "text/x-python",
   "name": "python",
   "nbconvert_exporter": "python",
   "pygments_lexer": "ipython3",
   "version": "3.8.2"
  }
 },
 "nbformat": 4,
 "nbformat_minor": 5
}
