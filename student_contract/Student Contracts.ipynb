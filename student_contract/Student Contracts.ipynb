{
 "cells": [
  {
   "cell_type": "markdown",
   "id": "16d48b9d-124b-4ebf-9ab2-aad633e65a50",
   "metadata": {},
   "source": [
    "***This notebook contains a script that sends Student Contracts to Students for signing***"
   ]
  },
  {
   "cell_type": "markdown",
   "id": "6011fb6b-ff7a-403f-9615-355c37472b32",
   "metadata": {},
   "source": [
    "**Add local library to path**"
   ]
  },
  {
   "cell_type": "code",
   "execution_count": 2,
   "id": "3528009f-3f6c-4ddf-8e19-3b90c9241f6b",
   "metadata": {},
   "outputs": [],
   "source": [
    "import os\n",
    "import sys\n",
    "\n",
    "module_path = os.path.abspath(os.path.join('..'))\n",
    "if module_path not in sys.path:\n",
    "    sys.path.append(module_path)\n",
    "    sys.path.append(module_path + '/local_library')"
   ]
  },
  {
   "cell_type": "markdown",
   "id": "62f9ef94-d020-497c-a6e9-295d48584446",
   "metadata": {},
   "source": [
    "***Import Libraries***"
   ]
  },
  {
   "cell_type": "code",
   "execution_count": 3,
   "id": "217879e8-c93d-433c-b29b-64b866d28084",
   "metadata": {},
   "outputs": [
    {
     "name": "stdout",
     "output_type": "stream",
     "text": [
      "Your browser has been opened to visit:\n",
      "\n",
      "    https://accounts.google.com/o/oauth2/auth?client_id=1017190226189-f1d5s7cpjrj54u2rqk1ufh9pevguqoap.apps.googleusercontent.com&redirect_uri=http%3A%2F%2Flocalhost%3A8080%2F&scope=https%3A%2F%2Fwww.googleapis.com%2Fauth%2Fdrive&access_type=offline&response_type=code\n",
      "\n",
      "Authentication successful.\n"
     ]
    }
   ],
   "source": [
    "import pandas as pd\n",
    "import requests\n",
    "import json\n",
    "from datetime import date\n",
    "from local_library import import_worksheet\n",
    "from local_library import export_worksheet\n",
    "from local_library import send_bulk_signrequest"
   ]
  },
  {
   "cell_type": "markdown",
   "id": "efe4a3d5-320d-4cc5-ad7c-c1a657c8f911",
   "metadata": {},
   "source": [
    "***Local Functions Library***"
   ]
  },
  {
   "cell_type": "code",
   "execution_count": 21,
   "id": "d9cf55c2-d58a-4a5e-aa89-6e81be88aaed",
   "metadata": {},
   "outputs": [],
   "source": [
    "def convert_phone_to_string(target_df, column):\n",
    "    \"\"\"\n",
    "    Converts phone number column to a string type.\n",
    "    \n",
    "    Args:\n",
    "        target_df: The dataframe containing the column to be converted.\n",
    "        column: The column to be converted.\n",
    "        \n",
    "    Returns:\n",
    "        N/A\n",
    "    \"\"\"\n",
    "    \n",
    "    #convert to string\n",
    "    target_df[column] = target_df[column].astype(str)\n",
    "    \n",
    "    #convert to float\n",
    "    target_df[column] = target_df[column].astype(float)\n",
    "    \n",
    "    #convert to int\n",
    "    target_df[column] = target_df[column].astype(int)\n",
    "    \n",
    "    #convert to string\n",
    "    target_df[column] = target_df[column].astype(str)"
   ]
  },
  {
   "cell_type": "markdown",
   "id": "788c0bd5-f597-44c6-9c21-5fbf23649159",
   "metadata": {},
   "source": [
    "***Import Google WorkSheets***"
   ]
  },
  {
   "cell_type": "code",
   "execution_count": 22,
   "id": "e84ac036-975f-43d4-99c8-454e1c516118",
   "metadata": {},
   "outputs": [],
   "source": [
    "#import student contract data\n",
    "student_df = import_worksheet(\"SRS Cohort 2021 Contracting\", \"Applicants\")\n",
    "\n",
    "#import contract templates id\n",
    "template_df = import_worksheet(\"SRS Cohort 2021 Contracting\", \"Template IDs\")\n",
    "\n",
    "#import missing students\n",
    "missing_df = import_worksheet(\"SRS Cohort 2021 Contracting\", \"Sheet8\")"
   ]
  },
  {
   "cell_type": "markdown",
   "id": "fece3b6c-948f-47db-bf30-c2d19b5524ae",
   "metadata": {},
   "source": [
    "***Merge Student Data with Template Data***"
   ]
  },
  {
   "cell_type": "code",
   "execution_count": 23,
   "id": "fe11a108-5810-442e-b193-511ad0e98a24",
   "metadata": {},
   "outputs": [
    {
     "data": {
      "text/plain": [
       "177"
      ]
     },
     "execution_count": 23,
     "metadata": {},
     "output_type": "execute_result"
    }
   ],
   "source": [
    "contract_df = pd.merge(student_df, template_df, on=\"Campus\")\n"
   ]
  },
  {
   "cell_type": "markdown",
   "id": "5a4b2dbb-a727-4512-8ab3-73cff6cb1405",
   "metadata": {},
   "source": [
    "***Rename Column Names***"
   ]
  },
  {
   "cell_type": "code",
   "execution_count": 24,
   "id": "535efdbe-d608-467e-8d42-6245843dc8f5",
   "metadata": {},
   "outputs": [],
   "source": [
    "#set new column names\n",
    "column_names = {'First Name':'learner_name', 'Last Name':'learner_surname', 'Email Address':'learner_email',\n",
    "                'Mobile Phone':'learner_phone', 'Birthdate':'birth_date', 'Gender':'learner_gender',\n",
    "                'ID / Passport Number':'learner_id', 'Student Contract ID':'student_contract',\n",
    "                'Code of Conduct ID':'code_of_conduct'}\n",
    "\n",
    "#update target df with new column names\n",
    "contract_df = contract_df.rename(columns=column_names)"
   ]
  },
  {
   "cell_type": "markdown",
   "id": "264271f2-1306-4dd7-8387-903b54b55029",
   "metadata": {},
   "source": [
    "***Convert Phone Numbers to String***"
   ]
  },
  {
   "cell_type": "code",
   "execution_count": 25,
   "id": "e4ba8fa1-a31f-461c-b56c-35b12af62fba",
   "metadata": {},
   "outputs": [],
   "source": [
    "convert_phone_to_string(contract_df, \"learner_phone\")"
   ]
  },
  {
   "cell_type": "markdown",
   "id": "89b311f0-d2e7-417d-bd1a-9c91dfe03774",
   "metadata": {},
   "source": [
    "***Create Learner Title Column***"
   ]
  },
  {
   "cell_type": "code",
   "execution_count": 26,
   "id": "ba6a4fc4-8612-431e-8249-a8917925087c",
   "metadata": {},
   "outputs": [],
   "source": [
    "contract_df[\"learner_title\"] = [\"Mr.\" if gender == \"Male\" else \"Ms.\" for gender in contract_df[\"learner_gender\"]]"
   ]
  },
  {
   "cell_type": "markdown",
   "id": "31c9fda1-b3a9-4ea6-ad37-e122e63ba753",
   "metadata": {},
   "source": [
    "***Create Learner Full Name Column***"
   ]
  },
  {
   "cell_type": "code",
   "execution_count": 27,
   "id": "d02ecd4a-a5e1-488b-b0b7-c0c0e3539e51",
   "metadata": {},
   "outputs": [],
   "source": [
    "contract_df[\"learner_fullname\"] = contract_df['learner_name'].str.capitalize() + \" \" + contract_df['learner_surname'].str.capitalize() "
   ]
  },
  {
   "cell_type": "markdown",
   "id": "480bbca8-347f-4df7-91a8-2be92ae30474",
   "metadata": {},
   "source": [
    "***Create Learner Initials Column***"
   ]
  },
  {
   "cell_type": "code",
   "execution_count": 28,
   "id": "93e21d15-0203-434f-aa3e-5f4e2314ac4a",
   "metadata": {},
   "outputs": [],
   "source": [
    "contract_df[\"learner_initials\"] = [f\"{name.split()[0][0]}.{name.split()[1][0]}\" for name in contract_df[\"learner_fullname\"]]"
   ]
  },
  {
   "cell_type": "markdown",
   "id": "0cbd04dc-36eb-4a61-8f67-143a4565ae18",
   "metadata": {},
   "source": [
    "***Subset Relevant Columns***"
   ]
  },
  {
   "cell_type": "code",
   "execution_count": 29,
   "id": "ed050d67-107c-44d0-b2cb-e88deb346a62",
   "metadata": {},
   "outputs": [],
   "source": [
    "#list relevant columns\n",
    "contract_df_columns = ['learner_name', 'learner_surname', 'learner_title', 'learner_fullname', 'learner_initials',\n",
    "                       'learner_email', 'learner_phone', 'birth_date', 'learner_gender', 'learner_id',\n",
    "                       'student_contract', 'code_of_conduct', 'Status after sign-request']\n",
    "\n",
    "#subset columns based on list of relevant columns\n",
    "contract_df = contract_df[contract_df_columns]"
   ]
  },
  {
   "cell_type": "markdown",
   "id": "11e18a35-d897-4cb9-8149-ee9221735d73",
   "metadata": {},
   "source": [
    "***Create Target Columns***"
   ]
  },
  {
   "cell_type": "code",
   "execution_count": 30,
   "id": "402048b6-3bf5-40e8-8ed7-159201cc3480",
   "metadata": {},
   "outputs": [],
   "source": [
    "#student contract data\n",
    "student_contract_columns = ['learner_name', 'learner_surname', 'learner_title', 'learner_fullname', 'learner_initials',\n",
    "                       'learner_email', 'learner_phone', 'birth_date', 'learner_gender', 'learner_id']\n",
    "\n",
    "#code of conduct data\n",
    "code_of_conduct_columns = ['learner_fullname', 'learner_initials']"
   ]
  },
  {
   "cell_type": "markdown",
   "id": "76dbaf8e-68c0-4171-a224-f8ac8b8fcdf3",
   "metadata": {},
   "source": [
    "***Create Test Dataframe***"
   ]
  },
  {
   "cell_type": "code",
   "execution_count": 34,
   "id": "54914bbc-991e-4fe5-ba66-7b7653b23844",
   "metadata": {},
   "outputs": [],
   "source": [
    "test_df = contract_df.groupby(['student_contract']).head(1).groupby('student_contract').head(1).copy()\n",
    "test_df['learner_email'] = 'mufaro@thoughtquest.co.za'"
   ]
  },
  {
   "cell_type": "markdown",
   "id": "ce3c7b85-174d-46b0-83d7-ccc7344e6833",
   "metadata": {},
   "source": [
    "**Subset Dataset**"
   ]
  },
  {
   "cell_type": "code",
   "execution_count": 50,
   "id": "5944baa6-4b5e-4321-978a-856ec788e270",
   "metadata": {},
   "outputs": [],
   "source": [
    "#contract_df = contract_df[contract_df[\"Status after sign-request\"] == \"Resend Code\"]\n",
    "#contract_df = pd.merge(contract_df, missing_df, left_on=\"Email Address\", right_on=\"Emails\")\n",
    "#contract_df.shape[0]"
   ]
  },
  {
   "cell_type": "markdown",
   "id": "f430af33-3d02-4f1d-bb99-3c0151aaf7c6",
   "metadata": {},
   "source": [
    "***Send Out SignRequests***"
   ]
  },
  {
   "cell_type": "code",
   "execution_count": null,
   "id": "87bcc55b-9080-4964-890e-dd697de7325b",
   "metadata": {},
   "outputs": [],
   "source": [
    "#send student contract signrequests in bulk\n",
    "#send_bulk_signrequest(test_df, student_contract_columns, 'student_contract')\n",
    "\n",
    "#send code of conduct signrequests in bulk\n",
    "#send_bulk_signrequest(test_df, code_of_conduct_columns, 'code_of_conduct')"
   ]
  },
  {
   "cell_type": "code",
   "execution_count": 16,
   "id": "7d1fe3df-4e91-4996-8a1e-410581f1ae79",
   "metadata": {},
   "outputs": [],
   "source": []
  },
  {
   "cell_type": "code",
   "execution_count": null,
   "id": "e6af0b2b-6807-4a35-8bab-eae6267a4f4a",
   "metadata": {},
   "outputs": [],
   "source": []
  },
  {
   "cell_type": "code",
   "execution_count": null,
   "id": "43b8ab5c-d1d4-43dc-8466-7ac837a2fd34",
   "metadata": {},
   "outputs": [],
   "source": []
  }
 ],
 "metadata": {
  "kernelspec": {
   "display_name": "Python 3 (ipykernel)",
   "language": "python",
   "name": "python3"
  },
  "language_info": {
   "codemirror_mode": {
    "name": "ipython",
    "version": 3
   },
   "file_extension": ".py",
   "mimetype": "text/x-python",
   "name": "python",
   "nbconvert_exporter": "python",
   "pygments_lexer": "ipython3",
   "version": "3.8.2"
  }
 },
 "nbformat": 4,
 "nbformat_minor": 5
}
