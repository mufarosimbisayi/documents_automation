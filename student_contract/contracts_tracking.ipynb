{
 "cells": [
  {
   "cell_type": "markdown",
   "id": "3beb8b4f-fea8-48c4-9053-9a38f488a8a9",
   "metadata": {},
   "source": [
    "**This notebook contains a script that tracks the progress of student contracts and code of conduct**"
   ]
  },
  {
   "cell_type": "markdown",
   "id": "15aa2cc6-bf3b-4560-a08f-e2e254c8dc73",
   "metadata": {},
   "source": [
    "**Add Local Library to Path**"
   ]
  },
  {
   "cell_type": "code",
   "execution_count": 10,
   "id": "ae572a53-b795-4ca4-ad26-71dcc09f42ed",
   "metadata": {},
   "outputs": [],
   "source": [
    "import os\n",
    "import sys\n",
    "\n",
    "module_path = os.path.abspath(os.path.join('..'))\n",
    "if module_path not in sys.path:\n",
    "    sys.path.append(module_path)\n",
    "    sys.path.append(module_path + '/local_library')"
   ]
  },
  {
   "cell_type": "markdown",
   "id": "9dda474a-860c-4977-a653-71c92907d8c4",
   "metadata": {},
   "source": [
    "**Import Library**"
   ]
  },
  {
   "cell_type": "code",
   "execution_count": 11,
   "id": "5fe15ba0-348b-41ae-8c6d-a7e672ed9cdb",
   "metadata": {},
   "outputs": [],
   "source": [
    "import pandas as pd\n",
    "import re\n",
    "from local_library import create_folder\n",
    "from local_library import import_worksheet\n",
    "from local_library import export_worksheet\n",
    "from local_library import get_documents_metadata"
   ]
  },
  {
   "cell_type": "markdown",
   "id": "f51dae64-18c6-419d-8105-2743a12e0c20",
   "metadata": {},
   "source": [
    "**Import Data**"
   ]
  },
  {
   "cell_type": "code",
   "execution_count": 20,
   "id": "fcc8e6f7-fb15-45af-b7e1-bfdeb3ee9207",
   "metadata": {},
   "outputs": [],
   "source": [
    "#import student data\n",
    "cohort_df = import_worksheet(\"Cohort 2022 - Student data\", \"Cohort 2022\")"
   ]
  },
  {
   "cell_type": "code",
   "execution_count": null,
   "id": "6d135473-2fbf-4b99-963c-b277730daa2c",
   "metadata": {},
   "outputs": [],
   "source": []
  },
  {
   "cell_type": "markdown",
   "id": "f441ae35-c346-45e3-8c1d-2d9a36904950",
   "metadata": {},
   "source": [
    "**Update Column Names**"
   ]
  },
  {
   "cell_type": "code",
   "execution_count": 13,
   "id": "ea6ff9e5-3a9b-4329-bce2-193e39ba10d3",
   "metadata": {},
   "outputs": [],
   "source": [
    "#set new column names\n",
    "column_names = {'First Name':'learner_name', 'Surname':'learner_surname', 'Email Address':'learner_email',\n",
    "                'Second Name/s':'middle_name'}\n",
    "\n",
    "#update target df with new column names\n",
    "cohort_df = cohort_df.rename(columns=column_names)"
   ]
  },
  {
   "cell_type": "markdown",
   "id": "f0439421-f57b-4290-aae0-e975658d1e36",
   "metadata": {},
   "source": [
    "**Create Fullname**"
   ]
  },
  {
   "cell_type": "code",
   "execution_count": 14,
   "id": "8ee499d4-7790-4893-ac81-8383311f3ec3",
   "metadata": {},
   "outputs": [],
   "source": [
    "cohort_df['middle_name'] = cohort_df['middle_name'].fillna(\"\")\n",
    "cohort_df['learner_name'] = cohort_df['learner_name'].str.strip().str.lower() + \" \" + cohort_df['middle_name'].str.strip().str.lower()\n",
    "cohort_df['learner_name'] = cohort_df['learner_name'].str.strip().str.title()\n",
    "cohort_df['learner_fullname'] = cohort_df['learner_name'].str.strip().str.lower() + \" \" + cohort_df['learner_surname'].str.strip().str.lower()\n",
    "cohort_df['learner_fullname'] = [re.sub(' +', ' ', fullname) for fullname in cohort_df['learner_fullname']]\n",
    "cohort_df['learner_fullname'] = cohort_df['learner_fullname'].str.title()"
   ]
  },
  {
   "cell_type": "markdown",
   "id": "cd3395ca-0837-4cbe-9f2a-593e0b8599f0",
   "metadata": {},
   "source": [
    "**Filter out Selected Students**"
   ]
  },
  {
   "cell_type": "code",
   "execution_count": 15,
   "id": "53c1cd7f-1e9c-460b-a68b-8d8b0a0336f8",
   "metadata": {},
   "outputs": [
    {
     "ename": "KeyError",
     "evalue": "'learner_email'",
     "output_type": "error",
     "traceback": [
      "\u001b[0;31m---------------------------------------------------------------------------\u001b[0m",
      "\u001b[0;31mKeyError\u001b[0m                                  Traceback (most recent call last)",
      "\u001b[0;32m~/Library/Python/3.8/lib/python/site-packages/pandas/core/indexes/base.py\u001b[0m in \u001b[0;36mget_loc\u001b[0;34m(self, key, method, tolerance)\u001b[0m\n\u001b[1;32m   3360\u001b[0m             \u001b[0;32mtry\u001b[0m\u001b[0;34m:\u001b[0m\u001b[0;34m\u001b[0m\u001b[0;34m\u001b[0m\u001b[0m\n\u001b[0;32m-> 3361\u001b[0;31m                 \u001b[0;32mreturn\u001b[0m \u001b[0mself\u001b[0m\u001b[0;34m.\u001b[0m\u001b[0m_engine\u001b[0m\u001b[0;34m.\u001b[0m\u001b[0mget_loc\u001b[0m\u001b[0;34m(\u001b[0m\u001b[0mcasted_key\u001b[0m\u001b[0;34m)\u001b[0m\u001b[0;34m\u001b[0m\u001b[0;34m\u001b[0m\u001b[0m\n\u001b[0m\u001b[1;32m   3362\u001b[0m             \u001b[0;32mexcept\u001b[0m \u001b[0mKeyError\u001b[0m \u001b[0;32mas\u001b[0m \u001b[0merr\u001b[0m\u001b[0;34m:\u001b[0m\u001b[0;34m\u001b[0m\u001b[0;34m\u001b[0m\u001b[0m\n",
      "\u001b[0;32m~/Library/Python/3.8/lib/python/site-packages/pandas/_libs/index.pyx\u001b[0m in \u001b[0;36mpandas._libs.index.IndexEngine.get_loc\u001b[0;34m()\u001b[0m\n",
      "\u001b[0;32m~/Library/Python/3.8/lib/python/site-packages/pandas/_libs/index.pyx\u001b[0m in \u001b[0;36mpandas._libs.index.IndexEngine.get_loc\u001b[0;34m()\u001b[0m\n",
      "\u001b[0;32mpandas/_libs/hashtable_class_helper.pxi\u001b[0m in \u001b[0;36mpandas._libs.hashtable.PyObjectHashTable.get_item\u001b[0;34m()\u001b[0m\n",
      "\u001b[0;32mpandas/_libs/hashtable_class_helper.pxi\u001b[0m in \u001b[0;36mpandas._libs.hashtable.PyObjectHashTable.get_item\u001b[0;34m()\u001b[0m\n",
      "\u001b[0;31mKeyError\u001b[0m: 'learner_email'",
      "\nThe above exception was the direct cause of the following exception:\n",
      "\u001b[0;31mKeyError\u001b[0m                                  Traceback (most recent call last)",
      "\u001b[0;32m/var/folders/33/s663vbhn2v1f4q409xh14zkh0000gn/T/ipykernel_870/2692697769.py\u001b[0m in \u001b[0;36m<module>\u001b[0;34m\u001b[0m\n\u001b[1;32m      1\u001b[0m \u001b[0mcohort_df\u001b[0m \u001b[0;34m=\u001b[0m \u001b[0mcohort_df\u001b[0m\u001b[0;34m[\u001b[0m\u001b[0mcohort_df\u001b[0m\u001b[0;34m[\u001b[0m\u001b[0;34m'Accepted provisional offer'\u001b[0m\u001b[0;34m]\u001b[0m \u001b[0;34m==\u001b[0m \u001b[0;34m'Yes'\u001b[0m\u001b[0;34m]\u001b[0m\u001b[0;34m\u001b[0m\u001b[0;34m\u001b[0m\u001b[0m\n\u001b[0;32m----> 2\u001b[0;31m \u001b[0mcohort_df\u001b[0m \u001b[0;34m=\u001b[0m \u001b[0mcohort_df\u001b[0m\u001b[0;34m[\u001b[0m\u001b[0mcohort_df\u001b[0m\u001b[0;34m[\u001b[0m\u001b[0;34m'learner_email'\u001b[0m\u001b[0;34m]\u001b[0m\u001b[0;34m.\u001b[0m\u001b[0mnotna\u001b[0m\u001b[0;34m(\u001b[0m\u001b[0;34m)\u001b[0m\u001b[0;34m]\u001b[0m\u001b[0;34m\u001b[0m\u001b[0;34m\u001b[0m\u001b[0m\n\u001b[0m\u001b[1;32m      3\u001b[0m \u001b[0mlen\u001b[0m\u001b[0;34m(\u001b[0m\u001b[0mcohort_df\u001b[0m\u001b[0;34m)\u001b[0m\u001b[0;34m\u001b[0m\u001b[0;34m\u001b[0m\u001b[0m\n",
      "\u001b[0;32m~/Library/Python/3.8/lib/python/site-packages/pandas/core/frame.py\u001b[0m in \u001b[0;36m__getitem__\u001b[0;34m(self, key)\u001b[0m\n\u001b[1;32m   3453\u001b[0m             \u001b[0;32mif\u001b[0m \u001b[0mself\u001b[0m\u001b[0;34m.\u001b[0m\u001b[0mcolumns\u001b[0m\u001b[0;34m.\u001b[0m\u001b[0mnlevels\u001b[0m \u001b[0;34m>\u001b[0m \u001b[0;36m1\u001b[0m\u001b[0;34m:\u001b[0m\u001b[0;34m\u001b[0m\u001b[0;34m\u001b[0m\u001b[0m\n\u001b[1;32m   3454\u001b[0m                 \u001b[0;32mreturn\u001b[0m \u001b[0mself\u001b[0m\u001b[0;34m.\u001b[0m\u001b[0m_getitem_multilevel\u001b[0m\u001b[0;34m(\u001b[0m\u001b[0mkey\u001b[0m\u001b[0;34m)\u001b[0m\u001b[0;34m\u001b[0m\u001b[0;34m\u001b[0m\u001b[0m\n\u001b[0;32m-> 3455\u001b[0;31m             \u001b[0mindexer\u001b[0m \u001b[0;34m=\u001b[0m \u001b[0mself\u001b[0m\u001b[0;34m.\u001b[0m\u001b[0mcolumns\u001b[0m\u001b[0;34m.\u001b[0m\u001b[0mget_loc\u001b[0m\u001b[0;34m(\u001b[0m\u001b[0mkey\u001b[0m\u001b[0;34m)\u001b[0m\u001b[0;34m\u001b[0m\u001b[0;34m\u001b[0m\u001b[0m\n\u001b[0m\u001b[1;32m   3456\u001b[0m             \u001b[0;32mif\u001b[0m \u001b[0mis_integer\u001b[0m\u001b[0;34m(\u001b[0m\u001b[0mindexer\u001b[0m\u001b[0;34m)\u001b[0m\u001b[0;34m:\u001b[0m\u001b[0;34m\u001b[0m\u001b[0;34m\u001b[0m\u001b[0m\n\u001b[1;32m   3457\u001b[0m                 \u001b[0mindexer\u001b[0m \u001b[0;34m=\u001b[0m \u001b[0;34m[\u001b[0m\u001b[0mindexer\u001b[0m\u001b[0;34m]\u001b[0m\u001b[0;34m\u001b[0m\u001b[0;34m\u001b[0m\u001b[0m\n",
      "\u001b[0;32m~/Library/Python/3.8/lib/python/site-packages/pandas/core/indexes/base.py\u001b[0m in \u001b[0;36mget_loc\u001b[0;34m(self, key, method, tolerance)\u001b[0m\n\u001b[1;32m   3361\u001b[0m                 \u001b[0;32mreturn\u001b[0m \u001b[0mself\u001b[0m\u001b[0;34m.\u001b[0m\u001b[0m_engine\u001b[0m\u001b[0;34m.\u001b[0m\u001b[0mget_loc\u001b[0m\u001b[0;34m(\u001b[0m\u001b[0mcasted_key\u001b[0m\u001b[0;34m)\u001b[0m\u001b[0;34m\u001b[0m\u001b[0;34m\u001b[0m\u001b[0m\n\u001b[1;32m   3362\u001b[0m             \u001b[0;32mexcept\u001b[0m \u001b[0mKeyError\u001b[0m \u001b[0;32mas\u001b[0m \u001b[0merr\u001b[0m\u001b[0;34m:\u001b[0m\u001b[0;34m\u001b[0m\u001b[0;34m\u001b[0m\u001b[0m\n\u001b[0;32m-> 3363\u001b[0;31m                 \u001b[0;32mraise\u001b[0m \u001b[0mKeyError\u001b[0m\u001b[0;34m(\u001b[0m\u001b[0mkey\u001b[0m\u001b[0;34m)\u001b[0m \u001b[0;32mfrom\u001b[0m \u001b[0merr\u001b[0m\u001b[0;34m\u001b[0m\u001b[0;34m\u001b[0m\u001b[0m\n\u001b[0m\u001b[1;32m   3364\u001b[0m \u001b[0;34m\u001b[0m\u001b[0m\n\u001b[1;32m   3365\u001b[0m         \u001b[0;32mif\u001b[0m \u001b[0mis_scalar\u001b[0m\u001b[0;34m(\u001b[0m\u001b[0mkey\u001b[0m\u001b[0;34m)\u001b[0m \u001b[0;32mand\u001b[0m \u001b[0misna\u001b[0m\u001b[0;34m(\u001b[0m\u001b[0mkey\u001b[0m\u001b[0;34m)\u001b[0m \u001b[0;32mand\u001b[0m \u001b[0;32mnot\u001b[0m \u001b[0mself\u001b[0m\u001b[0;34m.\u001b[0m\u001b[0mhasnans\u001b[0m\u001b[0;34m:\u001b[0m\u001b[0;34m\u001b[0m\u001b[0;34m\u001b[0m\u001b[0m\n",
      "\u001b[0;31mKeyError\u001b[0m: 'learner_email'"
     ]
    }
   ],
   "source": [
    "cohort_df = cohort_df[cohort_df['Accepted provisional offer'] == 'Yes']\n",
    "cohort_df = cohort_df[cohort_df['learner_email'].notna()]\n",
    "len(cohort_df)"
   ]
  },
  {
   "cell_type": "markdown",
   "id": "45143398-f47d-4f27-b44b-b1d74b57baf2",
   "metadata": {},
   "source": [
    "**Filter out Students**"
   ]
  },
  {
   "cell_type": "code",
   "execution_count": null,
   "id": "1a4e3837-a38a-42c2-845b-0ae3e639a2cc",
   "metadata": {},
   "outputs": [],
   "source": [
    "\n"
   ]
  },
  {
   "cell_type": "code",
   "execution_count": null,
   "id": "10b92ec4-eacf-4c14-91c6-382d2c0216a3",
   "metadata": {},
   "outputs": [],
   "source": [
    "len(cohort_df)"
   ]
  },
  {
   "cell_type": "markdown",
   "id": "e7e6520e-1858-40a1-ab45-2e8782402777",
   "metadata": {},
   "source": [
    "**Add Template IDs**"
   ]
  },
  {
   "cell_type": "code",
   "execution_count": 7,
   "id": "81a939db-5314-41a6-bf58-8d772463c134",
   "metadata": {},
   "outputs": [],
   "source": [
    "cohort_df['student_contract'] = '435beaf0-66ae-41ad-961b-2506c9d99086'\n",
    "cohort_df['code_of_conduct'] = '225f7ad2-539f-43b8-9350-f3f222b74e6c'"
   ]
  },
  {
   "cell_type": "markdown",
   "id": "26416e31-37fe-49a4-a25f-4d5f76a5e5ff",
   "metadata": {},
   "source": [
    "**Add Status Columns**"
   ]
  },
  {
   "cell_type": "code",
   "execution_count": 8,
   "id": "ce0bcf35-c7de-432b-b0cd-bfe47b8da135",
   "metadata": {},
   "outputs": [],
   "source": [
    "cohort_df['student_contract_status'] = ''\n",
    "cohort_df['code_of_conduct_status'] = ''"
   ]
  },
  {
   "cell_type": "markdown",
   "id": "c7a9cb82-c388-471b-9876-9be6a2956fa7",
   "metadata": {},
   "source": [
    "**Add Folder ID**"
   ]
  },
  {
   "cell_type": "code",
   "execution_count": 9,
   "id": "766a8803-5810-48e1-9bd6-220f36afd6cc",
   "metadata": {},
   "outputs": [],
   "source": [
    "cohort_df.loc[cohort_df['Campus'] == 'Johannesburg', 'folder_id'] = '1qnjnHWSQySbZGOWvNPJpGSqJ2JMMSlAq'\n",
    "cohort_df.loc[cohort_df['Campus'] == 'Cape Town', 'folder_id'] = '10fxgjnmsy6EOKRSNsTxuiWreMglIQ29s'\n",
    "cohort_df.loc[cohort_df['Campus'] == 'Durban', 'folder_id'] = '1fZJywwJy-X7vxBamPwpNwlu-Gmr1JfBH'"
   ]
  },
  {
   "cell_type": "markdown",
   "id": "67f383c7-5f4d-4929-921c-c0df2b133e18",
   "metadata": {},
   "source": [
    "**Create Folders**"
   ]
  },
  {
   "cell_type": "code",
   "execution_count": 12,
   "id": "11c1af50-ab69-4abc-981c-77ec44ee5ae7",
   "metadata": {},
   "outputs": [],
   "source": [
    "for index, row in cohort_df.iterrows():\n",
    "    parent_id = create_folder(row['folder_id'], row['learner_fullname'])\n",
    "    cohort_df.loc[cohort_df['learner_fullname'] == row['learner_fullname'], 'folder_id'] = parent_id"
   ]
  },
  {
   "cell_type": "markdown",
   "id": "12e02670-4784-46f3-a000-7f36cce61133",
   "metadata": {},
   "source": [
    "**Subset Relevant Columns**"
   ]
  },
  {
   "cell_type": "code",
   "execution_count": 13,
   "id": "adcce9f3-db30-4578-930a-7e7fcbefffd1",
   "metadata": {},
   "outputs": [],
   "source": [
    "#list relevant columns\n",
    "contract_df_columns = ['learner_fullname','learner_email', 'Campus', 'student_contract', 'student_contract_status',\n",
    "                       'code_of_conduct', 'code_of_conduct_status', 'folder_id']\n",
    "\n",
    "#subset columns based on list of relevant columns\n",
    "cohort_df = cohort_df[contract_df_columns]"
   ]
  },
  {
   "cell_type": "markdown",
   "id": "51fae281-0dc8-45d4-bdc2-500c5acd67ca",
   "metadata": {},
   "source": [
    "**Export Database to Spreadsheet**"
   ]
  },
  {
   "cell_type": "code",
   "execution_count": 24,
   "id": "b9e4ac3a-9458-4b44-8bb2-dc358bfab48d",
   "metadata": {},
   "outputs": [],
   "source": [
    "#export student data\n",
    "export_worksheet(\"Cohort 2022 - Student data\", \"Contracts Visibility\", cohort_df)"
   ]
  },
  {
   "cell_type": "markdown",
   "id": "0952c4a2-8d20-4a35-8282-4e37403d3b1f",
   "metadata": {},
   "source": [
    "**Import Data from Spreadsheet**"
   ]
  },
  {
   "cell_type": "code",
   "execution_count": 4,
   "id": "fc6bcc93-668e-4f6c-ac4e-f17c2aed0a03",
   "metadata": {},
   "outputs": [],
   "source": [
    "#import student data\n",
    "cohort_df = import_worksheet(\"Cohort 2022 - Student data\", \"Contracts Visibility\")"
   ]
  },
  {
   "cell_type": "markdown",
   "id": "824dc2d0-c83a-4307-9e47-fec061b883ea",
   "metadata": {},
   "source": [
    "**Run Main Function**"
   ]
  },
  {
   "cell_type": "code",
   "execution_count": 5,
   "id": "5cebb191-824b-4087-b567-67299a581a33",
   "metadata": {},
   "outputs": [
    {
     "name": "stderr",
     "output_type": "stream",
     "text": [
      "/Users/assistants/Library/Python/3.8/lib/python/site-packages/pandas/core/indexing.py:1817: SettingWithCopyWarning: \n",
      "A value is trying to be set on a copy of a slice from a DataFrame.\n",
      "Try using .loc[row_indexer,col_indexer] = value instead\n",
      "\n",
      "See the caveats in the documentation: https://pandas.pydata.org/pandas-docs/stable/user_guide/indexing.html#returning-a-view-versus-a-copy\n",
      "  self._setitem_single_column(loc, value, pi)\n"
     ]
    },
    {
     "name": "stdout",
     "output_type": "stream",
     "text": [
      "student_contract\n",
      "code_of_conduct\n"
     ]
    }
   ],
   "source": [
    "#create document names   'code_of_conduct', 'student_contract'\n",
    "document_names = ['student_contract','code_of_conduct']\n",
    "\n",
    "for document_name in document_names:\n",
    "    get_documents_metadata(cohort_df[cohort_df[f'{document_name}_status'] != 'Saved'], document_name, \"learner_email\")\n",
    "    print(document_name)"
   ]
  },
  {
   "cell_type": "code",
   "execution_count": 7,
   "id": "21d3ff59-ec69-4e34-b433-462be3acd473",
   "metadata": {},
   "outputs": [
    {
     "data": {
      "text/plain": [
       "154"
      ]
     },
     "execution_count": 7,
     "metadata": {},
     "output_type": "execute_result"
    }
   ],
   "source": [
    "len(cohort_df[cohort_df['student_contract_status'] != 'Saved'])"
   ]
  },
  {
   "cell_type": "code",
   "execution_count": 21,
   "id": "d845f0ca-cf44-4ffe-aaf1-63c89f156848",
   "metadata": {},
   "outputs": [
    {
     "data": {
      "text/html": [
       "<div>\n",
       "<style scoped>\n",
       "    .dataframe tbody tr th:only-of-type {\n",
       "        vertical-align: middle;\n",
       "    }\n",
       "\n",
       "    .dataframe tbody tr th {\n",
       "        vertical-align: top;\n",
       "    }\n",
       "\n",
       "    .dataframe thead th {\n",
       "        text-align: right;\n",
       "    }\n",
       "</style>\n",
       "<table border=\"1\" class=\"dataframe\">\n",
       "  <thead>\n",
       "    <tr style=\"text-align: right;\">\n",
       "      <th></th>\n",
       "      <th>User ID</th>\n",
       "      <th>Acceptance Email Sent</th>\n",
       "      <th>Social interview score</th>\n",
       "      <th>ACTIVE / NOT ACTIVE</th>\n",
       "      <th>randomly selected</th>\n",
       "      <th>Completed peer reviews</th>\n",
       "      <th>Application status</th>\n",
       "      <th>T-shirt Size</th>\n",
       "      <th>Name of High School</th>\n",
       "      <th>SA Youth Candidate (Y/N)</th>\n",
       "      <th>...</th>\n",
       "      <th>Next of Kin Contact</th>\n",
       "      <th>Bank Name</th>\n",
       "      <th>Bank Account Number</th>\n",
       "      <th>Account Type</th>\n",
       "      <th>Branch Code</th>\n",
       "      <th>Tax Number</th>\n",
       "      <th>INCOME BRACKET</th>\n",
       "      <th>Stipend allocated</th>\n",
       "      <th>Adjusted Stipend</th>\n",
       "      <th>Recorded on Lexis Nexis Invoice</th>\n",
       "    </tr>\n",
       "  </thead>\n",
       "  <tbody>\n",
       "    <tr>\n",
       "      <th>count</th>\n",
       "      <td>4.580000e+02</td>\n",
       "      <td>0.0</td>\n",
       "      <td>0.0</td>\n",
       "      <td>0.0</td>\n",
       "      <td>0.0</td>\n",
       "      <td>0.0</td>\n",
       "      <td>0.0</td>\n",
       "      <td>0.0</td>\n",
       "      <td>0.0</td>\n",
       "      <td>0.0</td>\n",
       "      <td>...</td>\n",
       "      <td>0.0</td>\n",
       "      <td>0.0</td>\n",
       "      <td>0.0</td>\n",
       "      <td>0.0</td>\n",
       "      <td>0.0</td>\n",
       "      <td>0.0</td>\n",
       "      <td>0.0</td>\n",
       "      <td>0.0</td>\n",
       "      <td>0.0</td>\n",
       "      <td>0.0</td>\n",
       "    </tr>\n",
       "    <tr>\n",
       "      <th>mean</th>\n",
       "      <td>4.171740e+09</td>\n",
       "      <td>NaN</td>\n",
       "      <td>NaN</td>\n",
       "      <td>NaN</td>\n",
       "      <td>NaN</td>\n",
       "      <td>NaN</td>\n",
       "      <td>NaN</td>\n",
       "      <td>NaN</td>\n",
       "      <td>NaN</td>\n",
       "      <td>NaN</td>\n",
       "      <td>...</td>\n",
       "      <td>NaN</td>\n",
       "      <td>NaN</td>\n",
       "      <td>NaN</td>\n",
       "      <td>NaN</td>\n",
       "      <td>NaN</td>\n",
       "      <td>NaN</td>\n",
       "      <td>NaN</td>\n",
       "      <td>NaN</td>\n",
       "      <td>NaN</td>\n",
       "      <td>NaN</td>\n",
       "    </tr>\n",
       "    <tr>\n",
       "      <th>std</th>\n",
       "      <td>2.983427e+09</td>\n",
       "      <td>NaN</td>\n",
       "      <td>NaN</td>\n",
       "      <td>NaN</td>\n",
       "      <td>NaN</td>\n",
       "      <td>NaN</td>\n",
       "      <td>NaN</td>\n",
       "      <td>NaN</td>\n",
       "      <td>NaN</td>\n",
       "      <td>NaN</td>\n",
       "      <td>...</td>\n",
       "      <td>NaN</td>\n",
       "      <td>NaN</td>\n",
       "      <td>NaN</td>\n",
       "      <td>NaN</td>\n",
       "      <td>NaN</td>\n",
       "      <td>NaN</td>\n",
       "      <td>NaN</td>\n",
       "      <td>NaN</td>\n",
       "      <td>NaN</td>\n",
       "      <td>NaN</td>\n",
       "    </tr>\n",
       "    <tr>\n",
       "      <th>min</th>\n",
       "      <td>3.850187e+07</td>\n",
       "      <td>NaN</td>\n",
       "      <td>NaN</td>\n",
       "      <td>NaN</td>\n",
       "      <td>NaN</td>\n",
       "      <td>NaN</td>\n",
       "      <td>NaN</td>\n",
       "      <td>NaN</td>\n",
       "      <td>NaN</td>\n",
       "      <td>NaN</td>\n",
       "      <td>...</td>\n",
       "      <td>NaN</td>\n",
       "      <td>NaN</td>\n",
       "      <td>NaN</td>\n",
       "      <td>NaN</td>\n",
       "      <td>NaN</td>\n",
       "      <td>NaN</td>\n",
       "      <td>NaN</td>\n",
       "      <td>NaN</td>\n",
       "      <td>NaN</td>\n",
       "      <td>NaN</td>\n",
       "    </tr>\n",
       "    <tr>\n",
       "      <th>25%</th>\n",
       "      <td>1.168518e+09</td>\n",
       "      <td>NaN</td>\n",
       "      <td>NaN</td>\n",
       "      <td>NaN</td>\n",
       "      <td>NaN</td>\n",
       "      <td>NaN</td>\n",
       "      <td>NaN</td>\n",
       "      <td>NaN</td>\n",
       "      <td>NaN</td>\n",
       "      <td>NaN</td>\n",
       "      <td>...</td>\n",
       "      <td>NaN</td>\n",
       "      <td>NaN</td>\n",
       "      <td>NaN</td>\n",
       "      <td>NaN</td>\n",
       "      <td>NaN</td>\n",
       "      <td>NaN</td>\n",
       "      <td>NaN</td>\n",
       "      <td>NaN</td>\n",
       "      <td>NaN</td>\n",
       "      <td>NaN</td>\n",
       "    </tr>\n",
       "    <tr>\n",
       "      <th>50%</th>\n",
       "      <td>4.369961e+09</td>\n",
       "      <td>NaN</td>\n",
       "      <td>NaN</td>\n",
       "      <td>NaN</td>\n",
       "      <td>NaN</td>\n",
       "      <td>NaN</td>\n",
       "      <td>NaN</td>\n",
       "      <td>NaN</td>\n",
       "      <td>NaN</td>\n",
       "      <td>NaN</td>\n",
       "      <td>...</td>\n",
       "      <td>NaN</td>\n",
       "      <td>NaN</td>\n",
       "      <td>NaN</td>\n",
       "      <td>NaN</td>\n",
       "      <td>NaN</td>\n",
       "      <td>NaN</td>\n",
       "      <td>NaN</td>\n",
       "      <td>NaN</td>\n",
       "      <td>NaN</td>\n",
       "      <td>NaN</td>\n",
       "    </tr>\n",
       "    <tr>\n",
       "      <th>75%</th>\n",
       "      <td>6.824246e+09</td>\n",
       "      <td>NaN</td>\n",
       "      <td>NaN</td>\n",
       "      <td>NaN</td>\n",
       "      <td>NaN</td>\n",
       "      <td>NaN</td>\n",
       "      <td>NaN</td>\n",
       "      <td>NaN</td>\n",
       "      <td>NaN</td>\n",
       "      <td>NaN</td>\n",
       "      <td>...</td>\n",
       "      <td>NaN</td>\n",
       "      <td>NaN</td>\n",
       "      <td>NaN</td>\n",
       "      <td>NaN</td>\n",
       "      <td>NaN</td>\n",
       "      <td>NaN</td>\n",
       "      <td>NaN</td>\n",
       "      <td>NaN</td>\n",
       "      <td>NaN</td>\n",
       "      <td>NaN</td>\n",
       "    </tr>\n",
       "    <tr>\n",
       "      <th>max</th>\n",
       "      <td>9.716419e+09</td>\n",
       "      <td>NaN</td>\n",
       "      <td>NaN</td>\n",
       "      <td>NaN</td>\n",
       "      <td>NaN</td>\n",
       "      <td>NaN</td>\n",
       "      <td>NaN</td>\n",
       "      <td>NaN</td>\n",
       "      <td>NaN</td>\n",
       "      <td>NaN</td>\n",
       "      <td>...</td>\n",
       "      <td>NaN</td>\n",
       "      <td>NaN</td>\n",
       "      <td>NaN</td>\n",
       "      <td>NaN</td>\n",
       "      <td>NaN</td>\n",
       "      <td>NaN</td>\n",
       "      <td>NaN</td>\n",
       "      <td>NaN</td>\n",
       "      <td>NaN</td>\n",
       "      <td>NaN</td>\n",
       "    </tr>\n",
       "  </tbody>\n",
       "</table>\n",
       "<p>8 rows × 39 columns</p>\n",
       "</div>"
      ],
      "text/plain": [
       "            User ID  Acceptance Email Sent  Social interview score  \\\n",
       "count  4.580000e+02                    0.0                     0.0   \n",
       "mean   4.171740e+09                    NaN                     NaN   \n",
       "std    2.983427e+09                    NaN                     NaN   \n",
       "min    3.850187e+07                    NaN                     NaN   \n",
       "25%    1.168518e+09                    NaN                     NaN   \n",
       "50%    4.369961e+09                    NaN                     NaN   \n",
       "75%    6.824246e+09                    NaN                     NaN   \n",
       "max    9.716419e+09                    NaN                     NaN   \n",
       "\n",
       "       ACTIVE / NOT ACTIVE  randomly selected  Completed peer reviews  \\\n",
       "count                  0.0                0.0                     0.0   \n",
       "mean                   NaN                NaN                     NaN   \n",
       "std                    NaN                NaN                     NaN   \n",
       "min                    NaN                NaN                     NaN   \n",
       "25%                    NaN                NaN                     NaN   \n",
       "50%                    NaN                NaN                     NaN   \n",
       "75%                    NaN                NaN                     NaN   \n",
       "max                    NaN                NaN                     NaN   \n",
       "\n",
       "       Application status  T-shirt Size  Name of High School  \\\n",
       "count                 0.0           0.0                  0.0   \n",
       "mean                  NaN           NaN                  NaN   \n",
       "std                   NaN           NaN                  NaN   \n",
       "min                   NaN           NaN                  NaN   \n",
       "25%                   NaN           NaN                  NaN   \n",
       "50%                   NaN           NaN                  NaN   \n",
       "75%                   NaN           NaN                  NaN   \n",
       "max                   NaN           NaN                  NaN   \n",
       "\n",
       "       SA Youth Candidate (Y/N)  ...  Next of Kin Contact  Bank Name  \\\n",
       "count                       0.0  ...                  0.0        0.0   \n",
       "mean                        NaN  ...                  NaN        NaN   \n",
       "std                         NaN  ...                  NaN        NaN   \n",
       "min                         NaN  ...                  NaN        NaN   \n",
       "25%                         NaN  ...                  NaN        NaN   \n",
       "50%                         NaN  ...                  NaN        NaN   \n",
       "75%                         NaN  ...                  NaN        NaN   \n",
       "max                         NaN  ...                  NaN        NaN   \n",
       "\n",
       "       Bank Account Number  Account Type  Branch Code  Tax Number  \\\n",
       "count                  0.0           0.0          0.0         0.0   \n",
       "mean                   NaN           NaN          NaN         NaN   \n",
       "std                    NaN           NaN          NaN         NaN   \n",
       "min                    NaN           NaN          NaN         NaN   \n",
       "25%                    NaN           NaN          NaN         NaN   \n",
       "50%                    NaN           NaN          NaN         NaN   \n",
       "75%                    NaN           NaN          NaN         NaN   \n",
       "max                    NaN           NaN          NaN         NaN   \n",
       "\n",
       "       INCOME BRACKET  Stipend allocated  Adjusted Stipend  \\\n",
       "count             0.0                0.0               0.0   \n",
       "mean              NaN                NaN               NaN   \n",
       "std               NaN                NaN               NaN   \n",
       "min               NaN                NaN               NaN   \n",
       "25%               NaN                NaN               NaN   \n",
       "50%               NaN                NaN               NaN   \n",
       "75%               NaN                NaN               NaN   \n",
       "max               NaN                NaN               NaN   \n",
       "\n",
       "       Recorded on Lexis Nexis Invoice  \n",
       "count                              0.0  \n",
       "mean                               NaN  \n",
       "std                                NaN  \n",
       "min                                NaN  \n",
       "25%                                NaN  \n",
       "50%                                NaN  \n",
       "75%                                NaN  \n",
       "max                                NaN  \n",
       "\n",
       "[8 rows x 39 columns]"
      ]
     },
     "execution_count": 21,
     "metadata": {},
     "output_type": "execute_result"
    }
   ],
   "source": [
    "data_df.describe()"
   ]
  },
  {
   "cell_type": "code",
   "execution_count": null,
   "id": "550c9200-d128-42cd-b282-9caab17c7432",
   "metadata": {},
   "outputs": [],
   "source": []
  }
 ],
 "metadata": {
  "kernelspec": {
   "display_name": "Python 3 (ipykernel)",
   "language": "python",
   "name": "python3"
  },
  "language_info": {
   "codemirror_mode": {
    "name": "ipython",
    "version": 3
   },
   "file_extension": ".py",
   "mimetype": "text/x-python",
   "name": "python",
   "nbconvert_exporter": "python",
   "pygments_lexer": "ipython3",
   "version": "3.8.2"
  }
 },
 "nbformat": 4,
 "nbformat_minor": 5
}
