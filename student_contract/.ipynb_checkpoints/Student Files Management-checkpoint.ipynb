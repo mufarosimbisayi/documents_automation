{
 "cells": [
  {
   "cell_type": "markdown",
   "id": "quick-jacksonville",
   "metadata": {},
   "source": [
    "**This notebook contains a script that assissts in the management of student documents, files and folders.**"
   ]
  },
  {
   "cell_type": "markdown",
   "id": "peripheral-peeing",
   "metadata": {},
   "source": [
    "**Import Libraries**"
   ]
  },
  {
   "cell_type": "code",
   "execution_count": 13,
   "id": "widespread-gilbert",
   "metadata": {},
   "outputs": [],
   "source": [
    "import pandas as pd\n",
    "import os\n",
    "import ast\n",
    "import numpy as np\n",
    "import gspread\n",
    "import gspread_dataframe as gd\n",
    "from pydrive.auth import GoogleAuth\n",
    "from pydrive.drive import GoogleDrive"
   ]
  },
  {
   "cell_type": "markdown",
   "id": "paperback-physics",
   "metadata": {},
   "source": [
    "**Authenticate Google Drive**"
   ]
  },
  {
   "cell_type": "code",
   "execution_count": 14,
   "id": "listed-handbook",
   "metadata": {},
   "outputs": [
    {
     "name": "stdout",
     "output_type": "stream",
     "text": [
      "Your browser has been opened to visit:\n",
      "\n",
      "    https://accounts.google.com/o/oauth2/auth?client_id=1017190226189-f1d5s7cpjrj54u2rqk1ufh9pevguqoap.apps.googleusercontent.com&redirect_uri=http%3A%2F%2Flocalhost%3A8080%2F&scope=https%3A%2F%2Fwww.googleapis.com%2Fauth%2Fdrive&access_type=offline&response_type=code\n",
      "\n",
      "Authentication successful.\n"
     ]
    }
   ],
   "source": [
    "gauth = GoogleAuth()\n",
    "gauth.LocalWebserverAuth()\n",
    "drive = GoogleDrive(gauth)"
   ]
  },
  {
   "cell_type": "markdown",
   "id": "critical-tension",
   "metadata": {},
   "source": [
    "**Authenticate Gspread**"
   ]
  },
  {
   "cell_type": "code",
   "execution_count": 15,
   "id": "inner-sympathy",
   "metadata": {},
   "outputs": [],
   "source": [
    "gc = gspread.oauth()"
   ]
  },
  {
   "cell_type": "markdown",
   "id": "prospective-strengthening",
   "metadata": {},
   "source": [
    "**Import Worksheets**"
   ]
  },
  {
   "cell_type": "code",
   "execution_count": 16,
   "id": "complex-spectrum",
   "metadata": {},
   "outputs": [],
   "source": [
    "def import_worksheet(google_spreadsheet, google_worksheet):\n",
    "    \n",
    "    #import worksheet\n",
    "    data_worksheet = gc.open(google_spreadsheet).worksheet(google_worksheet)\n",
    "    \n",
    "    #import data to dataframe\n",
    "    target_df = gd.get_as_dataframe(data_worksheet)\n",
    "    \n",
    "    #remove null rows and columns\n",
    "    target_df = target_df.dropna(how='all')\n",
    "    new_columns = []\n",
    "    for column in target_df.columns:\n",
    "        if 'Unnamed' not in column:\n",
    "            new_columns.append(column)\n",
    "    target_df = target_df[new_columns]\n",
    "    \n",
    "    return target_df"
   ]
  },
  {
   "cell_type": "markdown",
   "id": "involved-argentina",
   "metadata": {},
   "source": [
    "**Get File By ID**"
   ]
  },
  {
   "cell_type": "code",
   "execution_count": 17,
   "id": "continuous-coast",
   "metadata": {},
   "outputs": [],
   "source": [
    "#create method that returns files in a folder by id\n",
    "def list_files(folder_id):\n",
    "    file_list = drive.ListFile(\n",
    "        {\n",
    "            'q': \"'{}' in parents and trashed=false\".format(folder_id),\n",
    "            'corpora': \"teamDrive\",\n",
    "            'teamDriveId': \"0ALGjY-PCeStEUk9PVA\",\n",
    "            'includeTeamDriveItems': \"true\",\n",
    "            'supportsTeamDrives': \"true\"\n",
    "        }\n",
    "    ).GetList()\n",
    "    return file_list"
   ]
  },
  {
   "cell_type": "markdown",
   "id": "norman-saturn",
   "metadata": {},
   "source": [
    "**Create Google Drive Folder**"
   ]
  },
  {
   "cell_type": "code",
   "execution_count": 18,
   "id": "communist-college",
   "metadata": {},
   "outputs": [],
   "source": [
    "def create_folder(parent_folder_id, folder_name):\n",
    "    #create folder if it does not exist\n",
    "    file_list = list_files(parent_folder_id)\n",
    "    folder_id = ''\n",
    "    for folder in file_list:\n",
    "        if folder['title'] == folder_name:\n",
    "            return folder['id']\n",
    "    if not folder_id:\n",
    "        folder = drive.CreateFile({'parents': [{'id': parent_folder_id}], 'title': folder_name,\n",
    "                                   'mimeType': 'application/vnd.google-apps.folder'})\n",
    "        folder.Upload()\n",
    "        return folder['id']\n",
    "    return False"
   ]
  },
  {
   "cell_type": "markdown",
   "id": "medical-bargain",
   "metadata": {},
   "source": [
    "**Copy Google Drive File**"
   ]
  },
  {
   "cell_type": "code",
   "execution_count": 19,
   "id": "public-procurement",
   "metadata": {},
   "outputs": [],
   "source": [
    "def copy_file(folder_id, file_name, file_params):\n",
    "    #download file\n",
    "    files = list_files(file_params['parent_id'])\n",
    "    target_file = files[0]\n",
    "    for file in files:\n",
    "        if file['id'] == file_params['file_id']:\n",
    "            target_file = file\n",
    "\n",
    "    target_file.GetContentFile(file_name)\n",
    "    \n",
    "    #upload file to new folder location\n",
    "    file = drive.CreateFile({'parents': [{'id': folder_id}], 'title': file_name})\n",
    "    file.SetContentFile(file_name)\n",
    "    file.Upload()\n",
    "    \n",
    "    #delete local file\n",
    "    if os.path.exists(file_name):\n",
    "        os.remove(file_name)\n",
    "    else:\n",
    "        print(\"The file does not exist\")"
   ]
  },
  {
   "cell_type": "markdown",
   "id": "artistic-serbia",
   "metadata": {},
   "source": [
    "**Import Databases**"
   ]
  },
  {
   "cell_type": "code",
   "execution_count": 20,
   "id": "embedded-olive",
   "metadata": {},
   "outputs": [],
   "source": [
    "student_files_df = import_worksheet(\"Student Files Database\", \"2020\")\n",
    "#signrequest_df = import_worksheet(\"SignRequest\", \"Cohort_2020\")\n",
    "cohort_df = import_worksheet(\"Cohort 2020 Data\", \"Cohort 2020 Data\")"
   ]
  },
  {
   "cell_type": "markdown",
   "id": "expressed-government",
   "metadata": {},
   "source": [
    "**Select Students**"
   ]
  },
  {
   "cell_type": "code",
   "execution_count": 23,
   "id": "median-castle",
   "metadata": {},
   "outputs": [
    {
     "data": {
      "text/plain": [
       "10"
      ]
     },
     "execution_count": 23,
     "metadata": {},
     "output_type": "execute_result"
    }
   ],
   "source": [
    "condition_1 = cohort_df['Username'].isin([\"ahlalele\",\"bamulaud\",\"karend\",\"lakazzie\",\"sniekerk\",\"tetema\",\"hnaicker\",\"majansen\",\"tpema\",\"zsaloojee\"])\n",
    "sponsor_student_names = cohort_df[condition_1]['Firstname'].str.strip().str.lower() + \" \" + cohort_df[condition_1]['Surname'].str.strip().str.lower()\n",
    "len(sponsor_student_names)"
   ]
  },
  {
   "cell_type": "markdown",
   "id": "legitimate-advertiser",
   "metadata": {},
   "source": [
    "**Create Sponsor Folder**"
   ]
  },
  {
   "cell_type": "code",
   "execution_count": 24,
   "id": "biological-wesley",
   "metadata": {},
   "outputs": [],
   "source": [
    "sponsor_folder_id = create_folder('1v2REtJhiOO-CePJWu9NktF3ezUPaWsHo', 'Vodacom')\n",
    "    "
   ]
  },
  {
   "cell_type": "code",
   "execution_count": 25,
   "id": "centered-macedonia",
   "metadata": {},
   "outputs": [
    {
     "name": "stdout",
     "output_type": "stream",
     "text": [
      "There are 0 results for latoya kazzie-neil\n"
     ]
    }
   ],
   "source": [
    "for name in sponsor_student_names:\n",
    "    condition = student_files_df['Fullname'] == name\n",
    "    if condition.sum() != 1:\n",
    "        print(f\"There are {condition.sum()} results for {name}\")\n",
    "        continue\n",
    "    folder_id = create_folder(sponsor_folder_id, name)\n",
    "    temp_series = student_files_df[condition]\n",
    "    #if temp_series['WTC Contract'] is not None:\n",
    "     #   file_name = name.title() + \"_\" + \"WTC Contract\"\n",
    "      #  file_params = {\"file_id\": temp_series['WTC Contract'].values[0], \"parent_id\": temp_series['Parent ID'].values[0]}\n",
    "       # copy_file(folder_id, file_name, file_params)\n",
    "    if temp_series['ID file'] is not None:\n",
    "        file_name = name.title() + \"_\" + \"ID file\"\n",
    "        file_params = {\"file_id\": temp_series['ID file'].values[0], \"parent_id\": temp_series['Parent ID'].values[0]}\n",
    "        copy_file(folder_id, file_name, file_params)\n",
    "    if temp_series['G12 Certification'] is not None:\n",
    "        file_name = name.title() + \"_\" + \"G12 Certification\"\n",
    "        file_params = {\"file_id\": temp_series['G12 Certification'].values[0], \"parent_id\": temp_series['Parent ID'].values[0]}\n",
    "        copy_file(folder_id, file_name, file_params)\n"
   ]
  },
  {
   "cell_type": "code",
   "execution_count": 103,
   "id": "incident-mauritius",
   "metadata": {},
   "outputs": [],
   "source": []
  },
  {
   "cell_type": "code",
   "execution_count": 23,
   "id": "written-calibration",
   "metadata": {},
   "outputs": [],
   "source": []
  },
  {
   "cell_type": "code",
   "execution_count": null,
   "id": "configured-arctic",
   "metadata": {},
   "outputs": [],
   "source": []
  },
  {
   "cell_type": "code",
   "execution_count": null,
   "id": "handled-belle",
   "metadata": {},
   "outputs": [],
   "source": []
  }
 ],
 "metadata": {
  "kernelspec": {
   "display_name": "Python 3",
   "language": "python",
   "name": "python3"
  },
  "language_info": {
   "codemirror_mode": {
    "name": "ipython",
    "version": 3
   },
   "file_extension": ".py",
   "mimetype": "text/x-python",
   "name": "python",
   "nbconvert_exporter": "python",
   "pygments_lexer": "ipython3",
   "version": "3.8.7"
  }
 },
 "nbformat": 4,
 "nbformat_minor": 5
}
