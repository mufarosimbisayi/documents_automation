{
 "cells": [
  {
   "cell_type": "markdown",
   "id": "supported-department",
   "metadata": {},
   "source": [
    "**This notebook contains a scripts that groups student files by sponsor and sets permissions**"
   ]
  },
  {
   "cell_type": "markdown",
   "id": "broke-monthly",
   "metadata": {},
   "source": [
    "**Import Libraries**"
   ]
  },
  {
   "cell_type": "code",
   "execution_count": 2,
   "id": "polyphonic-technique",
   "metadata": {},
   "outputs": [],
   "source": [
    "import pandas as pd\n",
    "import os\n",
    "import ast\n",
    "from pydrive.auth import GoogleAuth\n",
    "from pydrive.drive import GoogleDrive\n",
    "from fuzzywuzzy import process"
   ]
  },
  {
   "cell_type": "markdown",
   "id": "acting-suffering",
   "metadata": {},
   "source": [
    "**Connect to Google Drive**"
   ]
  },
  {
   "cell_type": "code",
   "execution_count": 6,
   "id": "informed-merchant",
   "metadata": {},
   "outputs": [
    {
     "name": "stdout",
     "output_type": "stream",
     "text": [
      "Your browser has been opened to visit:\n",
      "\n",
      "    https://accounts.google.com/o/oauth2/auth?client_id=1017190226189-f1d5s7cpjrj54u2rqk1ufh9pevguqoap.apps.googleusercontent.com&redirect_uri=http%3A%2F%2Flocalhost%3A8080%2F&scope=https%3A%2F%2Fwww.googleapis.com%2Fauth%2Fdrive&access_type=offline&response_type=code\n",
      "\n",
      "Authentication successful.\n"
     ]
    }
   ],
   "source": [
    "gauth = GoogleAuth()\n",
    "gauth.LocalWebserverAuth()\n",
    "drive = GoogleDrive(gauth)"
   ]
  },
  {
   "cell_type": "markdown",
   "id": "seasonal-natural",
   "metadata": {},
   "source": [
    "**Set Root Folder ID**"
   ]
  },
  {
   "cell_type": "code",
   "execution_count": 90,
   "id": "statutory-vertex",
   "metadata": {},
   "outputs": [],
   "source": [
    "root_folder_id = '1v2REtJhiOO-CePJWu9NktF3ezUPaWsHo'"
   ]
  },
  {
   "cell_type": "markdown",
   "id": "banned-collection",
   "metadata": {},
   "source": [
    "**Create Sponsor Folder**"
   ]
  },
  {
   "cell_type": "code",
   "execution_count": 83,
   "id": "attached-marketing",
   "metadata": {},
   "outputs": [],
   "source": [
    "#set sponsor name\n",
    "sponser = 'BCX'\n",
    "\n",
    "#create sponsor folder\n",
    "sponsor_folder = drive.CreateFile({'parents': [{'id': root_folder_id}], 'title': sponser,\n",
    "                    'mimeType': 'application/vnd.google-apps.folder'})\n",
    "sponsor_folder.Upload()\n",
    "\n",
    "#set sponsor permissions\n",
    "'''sponsor_folder.FetchMetadata(fields='permissions')\n",
    "permission = sponsor_folder.InsertPermission({\n",
    "    'type':  'user',\n",
    "    'value': 'mufaro.csimbisayi@gmail.com',\n",
    "    'role':  'writer'\n",
    "})'''\n",
    "\n",
    "#set sponsor folder id\n",
    "parent_folder_id = sponsor_folder['id']"
   ]
  },
  {
   "cell_type": "markdown",
   "id": "nasty-frame",
   "metadata": {},
   "source": [
    "**Get File by ID**"
   ]
  },
  {
   "cell_type": "code",
   "execution_count": 12,
   "id": "aging-nickel",
   "metadata": {},
   "outputs": [],
   "source": [
    "#create method that returns files in a folder by id\n",
    "def list_files(folder_id):\n",
    "    file_list = drive.ListFile(\n",
    "        {\n",
    "            'q': \"'{}' in parents and trashed=false\".format(folder_id),\n",
    "            'corpora': \"teamDrive\",\n",
    "            'teamDriveId': \"0ALGjY-PCeStEUk9PVA\",\n",
    "            'includeTeamDriveItems': \"true\",\n",
    "            'supportsTeamDrives': \"true\"\n",
    "        }\n",
    "    ).GetList()\n",
    "    return file_list\n"
   ]
  },
  {
   "cell_type": "markdown",
   "id": "herbal-territory",
   "metadata": {},
   "source": [
    "**Copy File From Team Drive**"
   ]
  },
  {
   "cell_type": "code",
   "execution_count": 140,
   "id": "sweet-frederick",
   "metadata": {},
   "outputs": [],
   "source": [
    "\n",
    "def copy_student_files(parent_folder_id, student_name, file_type, file_params):\n",
    "    #create filename\n",
    "    file_name = student_name + \"_\" + file_type\n",
    "    \n",
    "    #create folder if it does not exist\n",
    "    file_list = list_files(parent_folder_id)\n",
    "    folder_id = ''\n",
    "    for file in file_list:\n",
    "        if file['title'] == student_name:\n",
    "            folder_id = file['id']\n",
    "    if not folder_id:\n",
    "        folder = drive.CreateFile({'parents': [{'id': parent_folder_id}], 'title': student_name,\n",
    "                'mimeType': 'application/vnd.google-apps.folder'})\n",
    "        folder.Upload()\n",
    "        folder_id = folder['id']\n",
    "            \n",
    "    #download file\n",
    "    files = list_files(file_params['parent_id'])\n",
    "    target_file = files[0]\n",
    "    for file in files:\n",
    "        if file['id'] == file_params['file_id']:\n",
    "            target_file = file\n",
    "\n",
    "    target_file.GetContentFile(file_name)\n",
    "    \n",
    "    #upload file to new folder location\n",
    "    file = drive.CreateFile({'parents': [{'id': folder_id}], 'title': file_name})\n",
    "    file.SetContentFile(file_name)\n",
    "    file.Upload()\n",
    "    \n",
    "    #delete local file\n",
    "    if os.path.exists(file_name):\n",
    "        os.remove(file_name)\n",
    "    else:\n",
    "        print(\"The file does not exist\")"
   ]
  },
  {
   "cell_type": "markdown",
   "id": "fancy-addiction",
   "metadata": {},
   "source": [
    "**Create Learnership Student Folders and Files**"
   ]
  },
  {
   "cell_type": "code",
   "execution_count": 108,
   "id": "equipped-brisbane",
   "metadata": {},
   "outputs": [],
   "source": [
    "#restructure student files dataframe\n",
    "student_files_df = student_files_df[['Fullname', 'G12 Certification', 'ID file']]\n",
    "student_files_df = student_files_df.melt('Fullname', var_name='file_type', value_name='file_params')\n",
    "student_files_df = student_files_df[~student_files_df['file_params'].isnull()]"
   ]
  },
  {
   "cell_type": "code",
   "execution_count": 142,
   "id": "ranking-springer",
   "metadata": {},
   "outputs": [],
   "source": [
    "#select subsection of rows as an example\n",
    "specific_student_files = student_files_df[200:400]\n"
   ]
  },
  {
   "cell_type": "code",
   "execution_count": 144,
   "id": "intelligent-canyon",
   "metadata": {},
   "outputs": [],
   "source": [
    "for i in range(0, len(specific_student_files)):\n",
    "    student_name = specific_student_files.iloc[i,0]\n",
    "    file_type = specific_student_files.iloc[i,1]\n",
    "    file_params = ast.literal_eval(specific_student_files.iloc[i,2])\n",
    "    copy_student_files(parent_folder_id, student_name, file_type, file_params)\n"
   ]
  },
  {
   "cell_type": "code",
   "execution_count": 1,
   "id": "corresponding-analyst",
   "metadata": {},
   "outputs": [
    {
     "name": "stdout",
     "output_type": "stream",
     "text": [
      "hello\n"
     ]
    }
   ],
   "source": []
  },
  {
   "cell_type": "code",
   "execution_count": null,
   "id": "liked-found",
   "metadata": {},
   "outputs": [],
   "source": []
  },
  {
   "cell_type": "code",
   "execution_count": null,
   "id": "planned-timber",
   "metadata": {},
   "outputs": [],
   "source": []
  },
  {
   "cell_type": "code",
   "execution_count": null,
   "id": "enabling-fundamental",
   "metadata": {},
   "outputs": [],
   "source": []
  },
  {
   "cell_type": "code",
   "execution_count": null,
   "id": "preliminary-russia",
   "metadata": {},
   "outputs": [],
   "source": []
  },
  {
   "cell_type": "code",
   "execution_count": null,
   "id": "loaded-eugene",
   "metadata": {},
   "outputs": [],
   "source": []
  },
  {
   "cell_type": "code",
   "execution_count": null,
   "id": "adult-silver",
   "metadata": {},
   "outputs": [],
   "source": []
  },
  {
   "cell_type": "code",
   "execution_count": null,
   "id": "generous-compromise",
   "metadata": {},
   "outputs": [],
   "source": []
  },
  {
   "cell_type": "code",
   "execution_count": null,
   "id": "prescribed-pleasure",
   "metadata": {},
   "outputs": [],
   "source": []
  },
  {
   "cell_type": "code",
   "execution_count": null,
   "id": "dying-medication",
   "metadata": {},
   "outputs": [],
   "source": []
  },
  {
   "cell_type": "code",
   "execution_count": null,
   "id": "agreed-football",
   "metadata": {},
   "outputs": [],
   "source": []
  },
  {
   "cell_type": "code",
   "execution_count": null,
   "id": "hazardous-radar",
   "metadata": {},
   "outputs": [],
   "source": []
  },
  {
   "cell_type": "code",
   "execution_count": null,
   "id": "behavioral-fusion",
   "metadata": {},
   "outputs": [],
   "source": []
  },
  {
   "cell_type": "code",
   "execution_count": null,
   "id": "mechanical-force",
   "metadata": {},
   "outputs": [],
   "source": []
  },
  {
   "cell_type": "code",
   "execution_count": null,
   "id": "starting-differential",
   "metadata": {},
   "outputs": [],
   "source": []
  }
 ],
 "metadata": {
  "kernelspec": {
   "display_name": "Python 3",
   "language": "python",
   "name": "python3"
  },
  "language_info": {
   "codemirror_mode": {
    "name": "ipython",
    "version": 3
   },
   "file_extension": ".py",
   "mimetype": "text/x-python",
   "name": "python",
   "nbconvert_exporter": "python",
   "pygments_lexer": "ipython3",
   "version": "3.8.7"
  }
 },
 "nbformat": 4,
 "nbformat_minor": 5
}
