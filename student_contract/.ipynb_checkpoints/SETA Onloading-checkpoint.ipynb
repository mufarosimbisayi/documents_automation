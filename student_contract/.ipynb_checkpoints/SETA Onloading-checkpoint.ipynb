{
 "cells": [
  {
   "cell_type": "markdown",
   "id": "romantic-judge",
   "metadata": {},
   "source": [
    "**This notebook contains a script that determines whether students are eligible for the SETA NQF level 5 Qualification**"
   ]
  },
  {
   "cell_type": "markdown",
   "id": "wrapped-career",
   "metadata": {},
   "source": [
    "**Import Libraries**"
   ]
  },
  {
   "cell_type": "code",
   "execution_count": 148,
   "id": "opponent-redhead",
   "metadata": {},
   "outputs": [],
   "source": [
    "import pandas as pd\n",
    "import numpy as np\n",
    "import gspread\n",
    "import gspread_dataframe as gd\n",
    "from fuzzywuzzy import process"
   ]
  },
  {
   "cell_type": "markdown",
   "id": "expensive-collar",
   "metadata": {},
   "source": [
    "**Authenticate Gspread**"
   ]
  },
  {
   "cell_type": "code",
   "execution_count": 149,
   "id": "adopted-flashing",
   "metadata": {},
   "outputs": [],
   "source": [
    "gc = gspread.oauth()"
   ]
  },
  {
   "cell_type": "markdown",
   "id": "vulnerable-covering",
   "metadata": {},
   "source": [
    "**Create Worksheets**"
   ]
  },
  {
   "cell_type": "code",
   "execution_count": 150,
   "id": "revised-exercise",
   "metadata": {},
   "outputs": [],
   "source": [
    "#cohort 2020 data worksheet\n",
    "cohort_2020_data_worksheet = gc.open(\"Cohort 2020 Data\").worksheet('Cohort 2020 Data')"
   ]
  },
  {
   "cell_type": "markdown",
   "id": "previous-bhutan",
   "metadata": {},
   "source": [
    "**Import Data into Dataframes**"
   ]
  },
  {
   "cell_type": "code",
   "execution_count": 151,
   "id": "polish-stylus",
   "metadata": {},
   "outputs": [],
   "source": [
    "#import cohort data\n",
    "cohort_df = gd.get_as_dataframe(cohort_2020_data_worksheet)\n",
    "\n",
    "#import emis national data \n",
    "national_df = pd.read_excel('national.xlsx')\n",
    "\n",
    "#import national area codes\n",
    "areacode_df = pd.read_csv('temp_area.csv')\n",
    "\n",
    "#import city to province map\n",
    "province_df = pd.read_csv(\"new_province.csv\")\n",
    "\n",
    "#import municipality data\n",
    "municipality_df = pd.read_csv(\"municipality.csv\")"
   ]
  },
  {
   "cell_type": "markdown",
   "id": "given-valve",
   "metadata": {},
   "source": [
    "**Select Only Active Students Without the Qualification**"
   ]
  },
  {
   "cell_type": "code",
   "execution_count": 152,
   "id": "exciting-newspaper",
   "metadata": {},
   "outputs": [],
   "source": [
    "#strip all columns\n",
    "all_columns = ['Active / Not active/Early absorption','Name of Highest Qualification Achieved']\n",
    "for column in all_columns:\n",
    "    cohort_df[column] = cohort_df[column].astype(str)\n",
    "    cohort_df[column] = cohort_df[column].str.strip()\n",
    "\n",
    "cohort_df = cohort_df[cohort_df['Active / Not active/Early absorption'] == 'Active']\n",
    "cohort_df = cohort_df[~cohort_df['Name of Highest Qualification Achieved'].str.contains('Comp')]"
   ]
  },
  {
   "cell_type": "markdown",
   "id": "canadian-bangladesh",
   "metadata": {},
   "source": [
    "**Subset Datasets**"
   ]
  },
  {
   "cell_type": "code",
   "execution_count": 153,
   "id": "solid-disclosure",
   "metadata": {},
   "outputs": [],
   "source": [
    "#subset emis and areacode dataset\n",
    "national_df = national_df[['NatEmis', 'Suburb', 'Institution_Name']]\n",
    "areacode_df = areacode_df[['STATSSA_Area_Code', 'Description']]\n",
    "\n",
    "#subset cohort data\n",
    "cohort_df = cohort_df[[\"Firstname\",\"Surname\", \"ID Number/ Passport Number\", \"Birth Date\", \"Gender\", \"Disability\", \"Ethnicity\", \"Nationality\", \"Residential Status (Citizen / Permanent Resident/Asylum Seeker/Work Permit/Study Permit)\", \"Home Language\", \"City\", \"Passed Grade 12 Y/N\", \"Municipality\", \"Name of High School\", \"Physical Address while studying\", \"Home Address\", \"Year Completed Grade 12\"]]\n"
   ]
  },
  {
   "cell_type": "markdown",
   "id": "outstanding-holly",
   "metadata": {},
   "source": [
    "**Drop NAN Rows**"
   ]
  },
  {
   "cell_type": "code",
   "execution_count": 154,
   "id": "fundamental-permission",
   "metadata": {},
   "outputs": [],
   "source": [
    "#drop rows with null value in institution column\n",
    "national_df = national_df[national_df[\"Institution_Name\"].notna()]\n"
   ]
  },
  {
   "cell_type": "markdown",
   "id": "addressed-basis",
   "metadata": {},
   "source": [
    "**Create ID Column**"
   ]
  },
  {
   "cell_type": "code",
   "execution_count": 155,
   "id": "precious-uniform",
   "metadata": {},
   "outputs": [],
   "source": [
    "#create new idnumber column\n",
    "cohort_df[\"IDNumber\"] = [f\"{id_num}\".split(\"\\\\\")[0].strip() for id_num in cohort_df[\"ID Number/ Passport Number\"]]\n",
    "\n",
    "#create new id type column\n",
    "cohort_df[\"ID Type\"] = [\"National ID\" if (len(f\"{id_num}\") == 13 or len(f\"{id_num}\") == 12) else \"Passport Number\" for id_num in cohort_df[\"IDNumber\"]]"
   ]
  },
  {
   "cell_type": "markdown",
   "id": "superior-posting",
   "metadata": {},
   "source": [
    "**Add Province**"
   ]
  },
  {
   "cell_type": "code",
   "execution_count": 156,
   "id": "confirmed-pension",
   "metadata": {},
   "outputs": [],
   "source": [
    "#create second city column\n",
    "cohort_df[\"City2\"] = cohort_df[\"Home Address\"].str.split(\",\").str[-2]\n",
    "\n",
    "#convert second city column to type string\n",
    "cohort_df[\"City2\"] = cohort_df[\"City2\"].astype(str)\n",
    "\n",
    "#strip columns whitespaces\n",
    "cohort_df[\"City2\"] = cohort_df[\"City2\"].str.strip()\n",
    "province_df[\"City\"] = province_df[\"City\"].str.strip()\n",
    "\n",
    "#set columns to lowercase\n",
    "cohort_df[\"City2\"] = cohort_df[\"City2\"].str.lower()\n",
    "province_df[\"City\"] = province_df[\"City\"].str.lower()\n",
    "\n",
    "#prep search strings for fuzzywuzzy operation\n",
    "strOptions = [elem for elem in province_df['City']]\n",
    "strOptions = set(strOptions)\n",
    "strOptions = list(strOptions)\n",
    "\n",
    "#prep areas for fuzzywuzzy search\n",
    "areas = [elem for elem in cohort_df[\"City2\"]]\n",
    "areas = set(areas)\n",
    "\n",
    "#perform fuzzywuzzy matching\n",
    "for area in areas:\n",
    "    highest = process.extractOne(area, strOptions)\n",
    "    cohort_df.loc[cohort_df['City2'] == area, 'Province'] = province_df.loc[province_df['City'] == highest[0], 'Province'].values[0]\n",
    "\n"
   ]
  },
  {
   "cell_type": "markdown",
   "id": "american-outside",
   "metadata": {},
   "source": [
    "**Split Physical Address**"
   ]
  },
  {
   "cell_type": "code",
   "execution_count": 157,
   "id": "trying-telescope",
   "metadata": {},
   "outputs": [
    {
     "data": {
      "text/html": [
       "<div>\n",
       "<style scoped>\n",
       "    .dataframe tbody tr th:only-of-type {\n",
       "        vertical-align: middle;\n",
       "    }\n",
       "\n",
       "    .dataframe tbody tr th {\n",
       "        vertical-align: top;\n",
       "    }\n",
       "\n",
       "    .dataframe thead th {\n",
       "        text-align: right;\n",
       "    }\n",
       "</style>\n",
       "<table border=\"1\" class=\"dataframe\">\n",
       "  <thead>\n",
       "    <tr style=\"text-align: right;\">\n",
       "      <th></th>\n",
       "      <th>Physical Address 1</th>\n",
       "      <th>Physical Address 2</th>\n",
       "      <th>Physical Address 3</th>\n",
       "      <th>Physical Post Code</th>\n",
       "      <th>Physical Province</th>\n",
       "    </tr>\n",
       "  </thead>\n",
       "  <tbody>\n",
       "    <tr>\n",
       "      <th>1</th>\n",
       "      <td>66 8th Avenue</td>\n",
       "      <td>Bezuidenhout valley</td>\n",
       "      <td>Johannesburg</td>\n",
       "      <td>2094</td>\n",
       "      <td>Gauteng</td>\n",
       "    </tr>\n",
       "    <tr>\n",
       "      <th>2</th>\n",
       "      <td>84 Fox Street</td>\n",
       "      <td>Marshalltown</td>\n",
       "      <td>Johannesburg</td>\n",
       "      <td>2001</td>\n",
       "      <td>Gauteng</td>\n",
       "    </tr>\n",
       "    <tr>\n",
       "      <th>4</th>\n",
       "      <td>5456 Kgaka Cresent</td>\n",
       "      <td>Windmill Park Extension 12</td>\n",
       "      <td>Boksburg</td>\n",
       "      <td>1459</td>\n",
       "      <td>Gauteng</td>\n",
       "    </tr>\n",
       "    <tr>\n",
       "      <th>5</th>\n",
       "      <td>33 Kabul Crescent</td>\n",
       "      <td>Cosmo City</td>\n",
       "      <td>Randburg</td>\n",
       "      <td>2194</td>\n",
       "      <td>Gauteng</td>\n",
       "    </tr>\n",
       "    <tr>\n",
       "      <th>6</th>\n",
       "      <td>Glencairn Trafalgar</td>\n",
       "      <td>Corner Market &amp; Eloff Street</td>\n",
       "      <td>Johannesburg</td>\n",
       "      <td>2000</td>\n",
       "      <td>KwaZulu-Natal</td>\n",
       "    </tr>\n",
       "  </tbody>\n",
       "</table>\n",
       "</div>"
      ],
      "text/plain": [
       "    Physical Address 1            Physical Address 2 Physical Address 3  \\\n",
       "1       66 8th Avenue            Bezuidenhout valley      Johannesburg    \n",
       "2        84 Fox Street                  Marshalltown       Johannesburg   \n",
       "4  5456 Kgaka Cresent     Windmill Park Extension 12           Boksburg   \n",
       "5   33 Kabul Crescent                     Cosmo City           Randburg   \n",
       "6  Glencairn Trafalgar  Corner Market & Eloff Street       Johannesburg   \n",
       "\n",
       "  Physical Post Code Physical Province  \n",
       "1               2094           Gauteng  \n",
       "2               2001           Gauteng  \n",
       "4               1459           Gauteng  \n",
       "5               2194           Gauteng  \n",
       "6               2000     KwaZulu-Natal  "
      ]
     },
     "execution_count": 157,
     "metadata": {},
     "output_type": "execute_result"
    }
   ],
   "source": [
    "#Split physical address into postal code\n",
    "cohort_df[\"Physical Post Code\"] = cohort_df[\"Physical Address while studying\"].str.split(\",\").str[-1]\n",
    "\n",
    "#Split physical address into city\n",
    "cohort_df[\"Physical Address 3\"] = cohort_df[\"Physical Address while studying\"].str.split(\",\").str[-2]\n",
    "\n",
    "#Split physical address into area\n",
    "cohort_df[\"Physical Address 2\"] = cohort_df[\"Physical Address while studying\"].str.split(\",\").str[-3]\n",
    "\n",
    "#Split physical address into street\n",
    "cohort_df[\"Physical Address 1\"] = cohort_df[\"Physical Address while studying\"].str.split(\",\").str[0]\n",
    "\n",
    "#Create physical province\n",
    "cohort_df[\"Physical Province\"] = cohort_df[\"Province\"]\n",
    "\n",
    "cohort_df[[\"Physical Address 1\", \"Physical Address 2\", \"Physical Address 3\", \"Physical Post Code\", \"Physical Province\"]].head()"
   ]
  },
  {
   "cell_type": "markdown",
   "id": "aggressive-observation",
   "metadata": {},
   "source": [
    "**Split Postal Address**"
   ]
  },
  {
   "cell_type": "code",
   "execution_count": 158,
   "id": "bronze-newark",
   "metadata": {},
   "outputs": [
    {
     "data": {
      "text/html": [
       "<div>\n",
       "<style scoped>\n",
       "    .dataframe tbody tr th:only-of-type {\n",
       "        vertical-align: middle;\n",
       "    }\n",
       "\n",
       "    .dataframe tbody tr th {\n",
       "        vertical-align: top;\n",
       "    }\n",
       "\n",
       "    .dataframe thead th {\n",
       "        text-align: right;\n",
       "    }\n",
       "</style>\n",
       "<table border=\"1\" class=\"dataframe\">\n",
       "  <thead>\n",
       "    <tr style=\"text-align: right;\">\n",
       "      <th></th>\n",
       "      <th>Postal Address 1</th>\n",
       "      <th>Postal Address 2</th>\n",
       "      <th>Postal Address 3</th>\n",
       "      <th>Postal Post Code</th>\n",
       "      <th>Postal Province</th>\n",
       "    </tr>\n",
       "  </thead>\n",
       "  <tbody>\n",
       "    <tr>\n",
       "      <th>1</th>\n",
       "      <td>66 8th Avenue</td>\n",
       "      <td>Bezuidenhout Valley</td>\n",
       "      <td>Johannesburg</td>\n",
       "      <td>2094</td>\n",
       "      <td>Gauteng</td>\n",
       "    </tr>\n",
       "    <tr>\n",
       "      <th>2</th>\n",
       "      <td>84 Fox Street</td>\n",
       "      <td>Marshalltown</td>\n",
       "      <td>Johannesburg</td>\n",
       "      <td>2001</td>\n",
       "      <td>Gauteng</td>\n",
       "    </tr>\n",
       "    <tr>\n",
       "      <th>4</th>\n",
       "      <td>38144 Extension 18</td>\n",
       "      <td>Mnisi Avenue</td>\n",
       "      <td>Mamelodi East</td>\n",
       "      <td>0122</td>\n",
       "      <td>Gauteng</td>\n",
       "    </tr>\n",
       "    <tr>\n",
       "      <th>5</th>\n",
       "      <td>33 Kabul Crescent</td>\n",
       "      <td>Cosmo City</td>\n",
       "      <td>Randburg</td>\n",
       "      <td>2194</td>\n",
       "      <td>Gauteng</td>\n",
       "    </tr>\n",
       "    <tr>\n",
       "      <th>6</th>\n",
       "      <td>(46) B626 Asikhulume Lane</td>\n",
       "      <td>Durban</td>\n",
       "      <td>Umlazi</td>\n",
       "      <td>4066</td>\n",
       "      <td>KwaZulu-Natal</td>\n",
       "    </tr>\n",
       "  </tbody>\n",
       "</table>\n",
       "</div>"
      ],
      "text/plain": [
       "            Postal Address 1      Postal Address 2 Postal Address 3  \\\n",
       "1              66 8th Avenue   Bezuidenhout Valley     Johannesburg   \n",
       "2              84 Fox Street          Marshalltown     Johannesburg   \n",
       "4         38144 Extension 18          Mnisi Avenue    Mamelodi East   \n",
       "5          33 Kabul Crescent            Cosmo City         Randburg   \n",
       "6  (46) B626 Asikhulume Lane                Durban           Umlazi   \n",
       "\n",
       "  Postal Post Code Postal Province  \n",
       "1             2094         Gauteng  \n",
       "2             2001         Gauteng  \n",
       "4             0122         Gauteng  \n",
       "5             2194         Gauteng  \n",
       "6             4066   KwaZulu-Natal  "
      ]
     },
     "execution_count": 158,
     "metadata": {},
     "output_type": "execute_result"
    }
   ],
   "source": [
    "#Split physical address into postal code\n",
    "cohort_df[\"Postal Post Code\"] = cohort_df[\"Home Address\"].str.split(\",\").str[-1]\n",
    "\n",
    "#Split physical address into city\n",
    "cohort_df[\"Postal Address 3\"] = cohort_df[\"Home Address\"].str.split(\",\").str[-2]\n",
    "\n",
    "#Split physical address into area\n",
    "cohort_df[\"Postal Address 2\"] = cohort_df[\"Home Address\"].str.split(\",\").str[-3]\n",
    "\n",
    "#Split physical address into street\n",
    "cohort_df[\"Postal Address 1\"] = cohort_df[\"Home Address\"].str.split(\",\").str[0]\n",
    "\n",
    "#Create postal province\n",
    "cohort_df[\"Postal Province\"] = cohort_df[\"Province\"]\n",
    "\n",
    "cohort_df[[\"Postal Address 1\", \"Postal Address 2\", \"Postal Address 3\", \"Postal Post Code\", \"Postal Province\"]].head()"
   ]
  },
  {
   "cell_type": "markdown",
   "id": "stretch-image",
   "metadata": {},
   "source": [
    "**Prepare EMIS and AREA Code Datasets**"
   ]
  },
  {
   "cell_type": "code",
   "execution_count": 159,
   "id": "unsigned-presentation",
   "metadata": {},
   "outputs": [],
   "source": [
    "#subset emis and areacode dataset\n",
    "national_df = national_df[['NatEmis', 'Suburb', 'Institution_Name']]\n",
    "areacode_df = areacode_df[['STATSSA_Area_Code', 'Description']]\n",
    "\n",
    "#convert suburb and description to string\n",
    "national_df['Suburb'] = national_df['Suburb'].astype(str)\n",
    "national_df['Institution_Name'] = national_df['Institution_Name'].astype(str)\n",
    "areacode_df['Description'] = areacode_df['Description'].astype(str)\n",
    "cohort_df['Name of High School'] = cohort_df['Name of High School'].astype(str)\n",
    "\n",
    "#Strip suburb and discription whitespaces\n",
    "national_df['Suburb'] = national_df['Suburb'].str.strip()\n",
    "areacode_df['Description'] = areacode_df['Description'].str.strip()\n",
    "\n",
    "#Convert suburb and discription to lowercase\n",
    "national_df['Suburb'] = national_df['Suburb'].str.lower()\n",
    "areacode_df['Description'] = areacode_df['Description'].str.lower()\n",
    "\n"
   ]
  },
  {
   "cell_type": "markdown",
   "id": "mechanical-million",
   "metadata": {},
   "source": [
    "**Create EMIS column**"
   ]
  },
  {
   "cell_type": "code",
   "execution_count": 160,
   "id": "accessory-trainer",
   "metadata": {},
   "outputs": [
    {
     "data": {
      "text/html": [
       "<div>\n",
       "<style scoped>\n",
       "    .dataframe tbody tr th:only-of-type {\n",
       "        vertical-align: middle;\n",
       "    }\n",
       "\n",
       "    .dataframe tbody tr th {\n",
       "        vertical-align: top;\n",
       "    }\n",
       "\n",
       "    .dataframe thead th {\n",
       "        text-align: right;\n",
       "    }\n",
       "</style>\n",
       "<table border=\"1\" class=\"dataframe\">\n",
       "  <thead>\n",
       "    <tr style=\"text-align: right;\">\n",
       "      <th></th>\n",
       "      <th>EMIS</th>\n",
       "      <th>Area</th>\n",
       "    </tr>\n",
       "  </thead>\n",
       "  <tbody>\n",
       "    <tr>\n",
       "      <th>1</th>\n",
       "      <td>700130641.0</td>\n",
       "      <td>nan</td>\n",
       "    </tr>\n",
       "    <tr>\n",
       "      <th>2</th>\n",
       "      <td>700220178.0</td>\n",
       "      <td>pretoria</td>\n",
       "    </tr>\n",
       "    <tr>\n",
       "      <th>4</th>\n",
       "      <td>700350371.0</td>\n",
       "      <td>nigel</td>\n",
       "    </tr>\n",
       "    <tr>\n",
       "      <th>5</th>\n",
       "      <td>930350040.0</td>\n",
       "      <td>extension</td>\n",
       "    </tr>\n",
       "    <tr>\n",
       "      <th>6</th>\n",
       "      <td>200501377.0</td>\n",
       "      <td>ntabankulu</td>\n",
       "    </tr>\n",
       "  </tbody>\n",
       "</table>\n",
       "</div>"
      ],
      "text/plain": [
       "          EMIS        Area\n",
       "1  700130641.0         nan\n",
       "2  700220178.0    pretoria\n",
       "4  700350371.0       nigel\n",
       "5  930350040.0   extension\n",
       "6  200501377.0  ntabankulu"
      ]
     },
     "execution_count": 160,
     "metadata": {},
     "output_type": "execute_result"
    }
   ],
   "source": [
    "#prep search strings for fuzzywuzzy operation\n",
    "strOptions = [elem for elem in national_df['Institution_Name']]\n",
    "strOptions = set(strOptions)\n",
    "strOptions = list(strOptions)\n",
    "\n",
    "#prep areas for fuzzywuzzy search\n",
    "areas = [elem for elem in cohort_df[\"Name of High School\"]]\n",
    "areas = set(areas)\n",
    "\n",
    "#perform fuzzywuzzy matching\n",
    "for area in areas:\n",
    "    highest = process.extractOne(area, strOptions)\n",
    "    cohort_df.loc[cohort_df['Name of High School'] == area, 'EMIS'] = national_df.loc[national_df['Institution_Name'] == highest[0], 'NatEmis'].values[0]\n",
    "    cohort_df.loc[cohort_df['Name of High School'] == area, 'Area'] = national_df.loc[national_df['Institution_Name'] == highest[0], 'Suburb'].values[0]\n",
    "\n",
    "\n",
    "    \n",
    "cohort_df[[\"EMIS\", \"Area\"]].head()"
   ]
  },
  {
   "cell_type": "markdown",
   "id": "dangerous-appraisal",
   "metadata": {},
   "source": [
    "**Format Emis Number**"
   ]
  },
  {
   "cell_type": "code",
   "execution_count": 161,
   "id": "rolled-sperm",
   "metadata": {},
   "outputs": [],
   "source": [
    "cohort_df['EMIS'] = cohort_df['EMIS'].astype(int)\n",
    "#eligible_df['EMIS'] = eligible_df['EMIS'].astype(str)"
   ]
  },
  {
   "cell_type": "markdown",
   "id": "minute-monaco",
   "metadata": {},
   "source": [
    "**Create AreaCode column**"
   ]
  },
  {
   "cell_type": "code",
   "execution_count": 162,
   "id": "parental-combat",
   "metadata": {
    "scrolled": false
   },
   "outputs": [
    {
     "name": "stderr",
     "output_type": "stream",
     "text": [
      "WARNING:root:Applied processor reduces input query to empty string, all comparisons will have score 0. [Query: '.']\n"
     ]
    },
    {
     "data": {
      "text/html": [
       "<div>\n",
       "<style scoped>\n",
       "    .dataframe tbody tr th:only-of-type {\n",
       "        vertical-align: middle;\n",
       "    }\n",
       "\n",
       "    .dataframe tbody tr th {\n",
       "        vertical-align: top;\n",
       "    }\n",
       "\n",
       "    .dataframe thead th {\n",
       "        text-align: right;\n",
       "    }\n",
       "</style>\n",
       "<table border=\"1\" class=\"dataframe\">\n",
       "  <thead>\n",
       "    <tr style=\"text-align: right;\">\n",
       "      <th></th>\n",
       "      <th>EMIS</th>\n",
       "      <th>AreaCode</th>\n",
       "    </tr>\n",
       "  </thead>\n",
       "  <tbody>\n",
       "    <tr>\n",
       "      <th>1</th>\n",
       "      <td>700130641</td>\n",
       "      <td>2011-286025002</td>\n",
       "    </tr>\n",
       "    <tr>\n",
       "      <th>2</th>\n",
       "      <td>700220178</td>\n",
       "      <td>2011-799035104</td>\n",
       "    </tr>\n",
       "    <tr>\n",
       "      <th>4</th>\n",
       "      <td>700350371</td>\n",
       "      <td>2011-797028011</td>\n",
       "    </tr>\n",
       "    <tr>\n",
       "      <th>5</th>\n",
       "      <td>930350040</td>\n",
       "      <td>2011-370004002</td>\n",
       "    </tr>\n",
       "    <tr>\n",
       "      <th>6</th>\n",
       "      <td>200501377</td>\n",
       "      <td>2011-581108001</td>\n",
       "    </tr>\n",
       "  </tbody>\n",
       "</table>\n",
       "</div>"
      ],
      "text/plain": [
       "        EMIS        AreaCode\n",
       "1  700130641  2011-286025002\n",
       "2  700220178  2011-799035104\n",
       "4  700350371  2011-797028011\n",
       "5  930350040  2011-370004002\n",
       "6  200501377  2011-581108001"
      ]
     },
     "execution_count": 162,
     "metadata": {},
     "output_type": "execute_result"
    }
   ],
   "source": [
    "#prep search strings for fuzzywuzzy operation\n",
    "strOptions = [elem for elem in areacode_df['Description']]\n",
    "strOptions = set(strOptions)\n",
    "strOptions = list(strOptions)\n",
    "\n",
    "#prep areas for fuzzywuzzy search\n",
    "areas = [elem for elem in cohort_df[\"Area\"]]\n",
    "areas = set(areas)\n",
    "\n",
    "#perform fuzzywuzzy matching\n",
    "for area in areas:\n",
    "    highest = process.extractOne(area, strOptions)\n",
    "    cohort_df.loc[cohort_df['Area'] == area, 'AreaCode'] = areacode_df.loc[areacode_df['Description'] == highest[0], 'STATSSA_Area_Code'].values[0]\n",
    "    \n",
    "cohort_df[['EMIS', 'AreaCode']].head()\n",
    "    "
   ]
  },
  {
   "cell_type": "markdown",
   "id": "victorian-george",
   "metadata": {},
   "source": [
    "**Reformat Municipality**"
   ]
  },
  {
   "cell_type": "code",
   "execution_count": 163,
   "id": "communist-montana",
   "metadata": {},
   "outputs": [
    {
     "data": {
      "text/html": [
       "<div>\n",
       "<style scoped>\n",
       "    .dataframe tbody tr th:only-of-type {\n",
       "        vertical-align: middle;\n",
       "    }\n",
       "\n",
       "    .dataframe tbody tr th {\n",
       "        vertical-align: top;\n",
       "    }\n",
       "\n",
       "    .dataframe thead th {\n",
       "        text-align: right;\n",
       "    }\n",
       "</style>\n",
       "<table border=\"1\" class=\"dataframe\">\n",
       "  <thead>\n",
       "    <tr style=\"text-align: right;\">\n",
       "      <th></th>\n",
       "      <th>Municipality</th>\n",
       "      <th>municipality2</th>\n",
       "    </tr>\n",
       "  </thead>\n",
       "  <tbody>\n",
       "    <tr>\n",
       "      <th>1</th>\n",
       "      <td>johannesburg metro</td>\n",
       "      <td>2191 johannesburg metro bryanston west bryanston</td>\n",
       "    </tr>\n",
       "    <tr>\n",
       "      <th>2</th>\n",
       "      <td>johannesburg metro</td>\n",
       "      <td>2191 johannesburg metro bryanston west bryanston</td>\n",
       "    </tr>\n",
       "    <tr>\n",
       "      <th>4</th>\n",
       "      <td>ekurhuleni metro</td>\n",
       "      <td>1574 ekurhuleni metro endicott springs</td>\n",
       "    </tr>\n",
       "    <tr>\n",
       "      <th>5</th>\n",
       "      <td>johannesburg metro</td>\n",
       "      <td>2191 johannesburg metro bryanston west bryanston</td>\n",
       "    </tr>\n",
       "    <tr>\n",
       "      <th>6</th>\n",
       "      <td>johannesburg metro</td>\n",
       "      <td>2191 johannesburg metro bryanston west bryanston</td>\n",
       "    </tr>\n",
       "  </tbody>\n",
       "</table>\n",
       "</div>"
      ],
      "text/plain": [
       "         Municipality                                     municipality2\n",
       "1  johannesburg metro  2191 johannesburg metro bryanston west bryanston\n",
       "2  johannesburg metro  2191 johannesburg metro bryanston west bryanston\n",
       "4    ekurhuleni metro            1574 ekurhuleni metro endicott springs\n",
       "5  johannesburg metro  2191 johannesburg metro bryanston west bryanston\n",
       "6  johannesburg metro  2191 johannesburg metro bryanston west bryanston"
      ]
     },
     "execution_count": 163,
     "metadata": {},
     "output_type": "execute_result"
    }
   ],
   "source": [
    "#convert second city column to type string\n",
    "cohort_df[\"Municipality\"] = cohort_df[\"Municipality\"].astype(str)\n",
    "municipality_df[\"municipality\"] = municipality_df[\"municipality\"].astype(str)\n",
    "\n",
    "#strip columns whitespaces\n",
    "cohort_df[\"Municipality\"] = cohort_df[\"Municipality\"].str.strip()\n",
    "municipality_df[\"municipality\"] = municipality_df[\"municipality\"].str.strip()\n",
    "\n",
    "#strip columns whitespaces\n",
    "cohort_df[\"Municipality\"] = cohort_df[\"Municipality\"].str.lower()\n",
    "municipality_df[\"municipality\"] = municipality_df[\"municipality\"].str.lower()\n",
    "\n",
    "#prep search strings for fuzzywuzzy operation\n",
    "strOptions = [elem for elem in municipality_df['municipality']]\n",
    "strOptions = set(strOptions)\n",
    "strOptions = list(strOptions)\n",
    "\n",
    "#prep areas for fuzzywuzzy search\n",
    "areas = [elem for elem in cohort_df[\"Municipality\"]]\n",
    "areas = set(areas)\n",
    "\n",
    "#perform fuzzywuzzy matching\n",
    "for area in areas:\n",
    "    highest = process.extractOne(area, strOptions)\n",
    "    cohort_df.loc[cohort_df['Municipality'] == area, 'municipality2'] = highest[0]\n",
    "\n",
    "cohort_df[[\"Municipality\", \"municipality2\"]].head()"
   ]
  },
  {
   "cell_type": "markdown",
   "id": "developmental-adapter",
   "metadata": {},
   "source": [
    "**Create New Columns**"
   ]
  },
  {
   "cell_type": "code",
   "execution_count": 164,
   "id": "motivated-annual",
   "metadata": {},
   "outputs": [
    {
     "data": {
      "text/html": [
       "<div>\n",
       "<style scoped>\n",
       "    .dataframe tbody tr th:only-of-type {\n",
       "        vertical-align: middle;\n",
       "    }\n",
       "\n",
       "    .dataframe tbody tr th {\n",
       "        vertical-align: top;\n",
       "    }\n",
       "\n",
       "    .dataframe thead th {\n",
       "        text-align: right;\n",
       "    }\n",
       "</style>\n",
       "<table border=\"1\" class=\"dataframe\">\n",
       "  <thead>\n",
       "    <tr style=\"text-align: right;\">\n",
       "      <th></th>\n",
       "      <th>MaritalStatus</th>\n",
       "      <th>GETC Qualification</th>\n",
       "      <th>Agree Popi Act</th>\n",
       "    </tr>\n",
       "  </thead>\n",
       "  <tbody>\n",
       "    <tr>\n",
       "      <th>1</th>\n",
       "      <td>Single</td>\n",
       "      <td>GRADE 12</td>\n",
       "      <td>Yes</td>\n",
       "    </tr>\n",
       "    <tr>\n",
       "      <th>2</th>\n",
       "      <td>Single</td>\n",
       "      <td>GRADE 12</td>\n",
       "      <td>Yes</td>\n",
       "    </tr>\n",
       "    <tr>\n",
       "      <th>4</th>\n",
       "      <td>Single</td>\n",
       "      <td>GRADE 12</td>\n",
       "      <td>Yes</td>\n",
       "    </tr>\n",
       "    <tr>\n",
       "      <th>5</th>\n",
       "      <td>Single</td>\n",
       "      <td>GRADE 12</td>\n",
       "      <td>Yes</td>\n",
       "    </tr>\n",
       "    <tr>\n",
       "      <th>6</th>\n",
       "      <td>Single</td>\n",
       "      <td>GRADE 12</td>\n",
       "      <td>Yes</td>\n",
       "    </tr>\n",
       "  </tbody>\n",
       "</table>\n",
       "</div>"
      ],
      "text/plain": [
       "  MaritalStatus GETC Qualification Agree Popi Act\n",
       "1        Single           GRADE 12            Yes\n",
       "2        Single           GRADE 12            Yes\n",
       "4        Single           GRADE 12            Yes\n",
       "5        Single           GRADE 12            Yes\n",
       "6        Single           GRADE 12            Yes"
      ]
     },
     "execution_count": 164,
     "metadata": {},
     "output_type": "execute_result"
    }
   ],
   "source": [
    "#set marital status\n",
    "cohort_df['MaritalStatus'] = \"Single\"\n",
    "\n",
    "#set getc qualification\n",
    "cohort_df['GETC Qualification'] = \"GRADE 12\"\n",
    "\n",
    "#set popi act\n",
    "cohort_df['Agree Popi Act'] = \"Yes\"\n",
    "\n",
    "cohort_df[['MaritalStatus', 'GETC Qualification', 'Agree Popi Act']].head()"
   ]
  },
  {
   "cell_type": "markdown",
   "id": "saving-reality",
   "metadata": {},
   "source": [
    "**Restructure Cohort Dataset**"
   ]
  },
  {
   "cell_type": "code",
   "execution_count": 165,
   "id": "orange-circle",
   "metadata": {},
   "outputs": [
    {
     "data": {
      "text/html": [
       "<div>\n",
       "<style scoped>\n",
       "    .dataframe tbody tr th:only-of-type {\n",
       "        vertical-align: middle;\n",
       "    }\n",
       "\n",
       "    .dataframe tbody tr th {\n",
       "        vertical-align: top;\n",
       "    }\n",
       "\n",
       "    .dataframe thead th {\n",
       "        text-align: right;\n",
       "    }\n",
       "</style>\n",
       "<table border=\"1\" class=\"dataframe\">\n",
       "  <thead>\n",
       "    <tr style=\"text-align: right;\">\n",
       "      <th></th>\n",
       "      <th>Name</th>\n",
       "      <th>Surname</th>\n",
       "      <th>IDNumber</th>\n",
       "      <th>ID Type</th>\n",
       "      <th>DateOfBirth(yyyy/mm/dd)</th>\n",
       "      <th>Gender</th>\n",
       "      <th>DisabilityStatus</th>\n",
       "      <th>Equity</th>\n",
       "      <th>Nationality</th>\n",
       "      <th>ResidentialStatus</th>\n",
       "      <th>...</th>\n",
       "      <th>Postal Address 1</th>\n",
       "      <th>Postal Address 2</th>\n",
       "      <th>Postal  Address 3</th>\n",
       "      <th>Postal Post Code</th>\n",
       "      <th>Postal Province</th>\n",
       "      <th>Emis Number</th>\n",
       "      <th>Last School Year</th>\n",
       "      <th>Area Code</th>\n",
       "      <th>Agree Popi Act</th>\n",
       "      <th>Grade 12</th>\n",
       "    </tr>\n",
       "  </thead>\n",
       "  <tbody>\n",
       "    <tr>\n",
       "      <th>1</th>\n",
       "      <td>Abigail</td>\n",
       "      <td>Hlalele</td>\n",
       "      <td>0005020136080</td>\n",
       "      <td>National ID</td>\n",
       "      <td>2000-05-02</td>\n",
       "      <td>Female</td>\n",
       "      <td>no</td>\n",
       "      <td>black</td>\n",
       "      <td>South African</td>\n",
       "      <td>Citizen</td>\n",
       "      <td>...</td>\n",
       "      <td>66 8th Avenue</td>\n",
       "      <td>Bezuidenhout Valley</td>\n",
       "      <td>Johannesburg</td>\n",
       "      <td>2094</td>\n",
       "      <td>Gauteng</td>\n",
       "      <td>700130641</td>\n",
       "      <td>2018</td>\n",
       "      <td>2011-286025002</td>\n",
       "      <td>Yes</td>\n",
       "      <td>Y</td>\n",
       "    </tr>\n",
       "    <tr>\n",
       "      <th>2</th>\n",
       "      <td>Arthur</td>\n",
       "      <td>Jenkins</td>\n",
       "      <td>0003255794087</td>\n",
       "      <td>National ID</td>\n",
       "      <td>2000-03-25</td>\n",
       "      <td>male</td>\n",
       "      <td>no</td>\n",
       "      <td>white</td>\n",
       "      <td>South African</td>\n",
       "      <td>Citizen</td>\n",
       "      <td>...</td>\n",
       "      <td>84 Fox Street</td>\n",
       "      <td>Marshalltown</td>\n",
       "      <td>Johannesburg</td>\n",
       "      <td>2001</td>\n",
       "      <td>Gauteng</td>\n",
       "      <td>700220178</td>\n",
       "      <td>-</td>\n",
       "      <td>2011-799035104</td>\n",
       "      <td>Yes</td>\n",
       "      <td>N</td>\n",
       "    </tr>\n",
       "    <tr>\n",
       "      <th>4</th>\n",
       "      <td>Majane</td>\n",
       "      <td>Thotse</td>\n",
       "      <td>9704115450080</td>\n",
       "      <td>National ID</td>\n",
       "      <td>1997-04-11</td>\n",
       "      <td>male</td>\n",
       "      <td>no</td>\n",
       "      <td>black</td>\n",
       "      <td>South African</td>\n",
       "      <td>Citizen</td>\n",
       "      <td>...</td>\n",
       "      <td>38144 Extension 18</td>\n",
       "      <td>Mnisi Avenue</td>\n",
       "      <td>Mamelodi East</td>\n",
       "      <td>0122</td>\n",
       "      <td>Gauteng</td>\n",
       "      <td>700350371</td>\n",
       "      <td>2015</td>\n",
       "      <td>2011-797028011</td>\n",
       "      <td>Yes</td>\n",
       "      <td>Y</td>\n",
       "    </tr>\n",
       "    <tr>\n",
       "      <th>5</th>\n",
       "      <td>Anza</td>\n",
       "      <td>Mugwabana</td>\n",
       "      <td>9406035830082</td>\n",
       "      <td>National ID</td>\n",
       "      <td>1994-06-03</td>\n",
       "      <td>male</td>\n",
       "      <td>no</td>\n",
       "      <td>black</td>\n",
       "      <td>South African</td>\n",
       "      <td>Citizen</td>\n",
       "      <td>...</td>\n",
       "      <td>33 Kabul Crescent</td>\n",
       "      <td>Cosmo City</td>\n",
       "      <td>Randburg</td>\n",
       "      <td>2194</td>\n",
       "      <td>Gauteng</td>\n",
       "      <td>930350040</td>\n",
       "      <td>2011</td>\n",
       "      <td>2011-370004002</td>\n",
       "      <td>Yes</td>\n",
       "      <td>Y</td>\n",
       "    </tr>\n",
       "    <tr>\n",
       "      <th>6</th>\n",
       "      <td>Andiswa</td>\n",
       "      <td>Nombela</td>\n",
       "      <td>9512140773081</td>\n",
       "      <td>National ID</td>\n",
       "      <td>1995-12-14</td>\n",
       "      <td>Female</td>\n",
       "      <td>no</td>\n",
       "      <td>black</td>\n",
       "      <td>South African</td>\n",
       "      <td>Citizen</td>\n",
       "      <td>...</td>\n",
       "      <td>(46) B626 Asikhulume Lane</td>\n",
       "      <td>Durban</td>\n",
       "      <td>Umlazi</td>\n",
       "      <td>4066</td>\n",
       "      <td>KwaZulu-Natal</td>\n",
       "      <td>200501377</td>\n",
       "      <td>2013</td>\n",
       "      <td>2011-581108001</td>\n",
       "      <td>Yes</td>\n",
       "      <td>Y</td>\n",
       "    </tr>\n",
       "  </tbody>\n",
       "</table>\n",
       "<p>5 rows × 30 columns</p>\n",
       "</div>"
      ],
      "text/plain": [
       "       Name    Surname       IDNumber      ID Type DateOfBirth(yyyy/mm/dd)  \\\n",
       "1   Abigail    Hlalele  0005020136080  National ID              2000-05-02   \n",
       "2    Arthur    Jenkins  0003255794087  National ID              2000-03-25   \n",
       "4    Majane     Thotse  9704115450080  National ID              1997-04-11   \n",
       "5      Anza  Mugwabana  9406035830082  National ID              1994-06-03   \n",
       "6  Andiswa     Nombela  9512140773081  National ID              1995-12-14   \n",
       "\n",
       "   Gender DisabilityStatus Equity    Nationality ResidentialStatus  ...  \\\n",
       "1  Female               no  black  South African           Citizen  ...   \n",
       "2    male               no  white  South African           Citizen  ...   \n",
       "4    male               no  black  South African           Citizen  ...   \n",
       "5    male               no  black  South African           Citizen  ...   \n",
       "6  Female               no  black  South African           Citizen  ...   \n",
       "\n",
       "            Postal Address 1      Postal Address 2 Postal  Address 3  \\\n",
       "1              66 8th Avenue   Bezuidenhout Valley      Johannesburg   \n",
       "2              84 Fox Street          Marshalltown      Johannesburg   \n",
       "4         38144 Extension 18          Mnisi Avenue     Mamelodi East   \n",
       "5          33 Kabul Crescent            Cosmo City          Randburg   \n",
       "6  (46) B626 Asikhulume Lane                Durban            Umlazi   \n",
       "\n",
       "  Postal Post Code Postal Province Emis Number Last School Year  \\\n",
       "1             2094         Gauteng   700130641             2018   \n",
       "2             2001         Gauteng   700220178                -   \n",
       "4             0122         Gauteng   700350371             2015   \n",
       "5             2194         Gauteng   930350040             2011   \n",
       "6             4066   KwaZulu-Natal   200501377             2013   \n",
       "\n",
       "        Area Code Agree Popi Act Grade 12  \n",
       "1  2011-286025002            Yes        Y  \n",
       "2  2011-799035104            Yes        N  \n",
       "4  2011-797028011            Yes        Y  \n",
       "5  2011-370004002            Yes        Y  \n",
       "6  2011-581108001            Yes        Y  \n",
       "\n",
       "[5 rows x 30 columns]"
      ]
     },
     "execution_count": 165,
     "metadata": {},
     "output_type": "execute_result"
    }
   ],
   "source": [
    "#reorder and subset cohort dataset columns\n",
    "cohort_df = cohort_df[['Firstname', 'Surname', 'IDNumber', 'ID Type', 'Birth Date', 'Gender', 'Disability', \n",
    "         'Ethnicity', 'Nationality',\n",
    "       'Residential Status (Citizen / Permanent Resident/Asylum Seeker/Work Permit/Study Permit)',\n",
    "       'Home Language', 'MaritalStatus', 'Province', 'GETC Qualification', 'municipality2', 'Physical Address 1', 'Physical Address 2',\n",
    "       'Physical Address 3', 'Physical Post Code',  'Physical Province',\n",
    "       'Postal Address 1', 'Postal Address 2', 'Postal Address 3',\n",
    "       'Postal Post Code', 'Postal Province', 'EMIS', 'Year Completed Grade 12', 'AreaCode', 'Agree Popi Act',\n",
    "       'Passed Grade 12 Y/N']]\n",
    "\n",
    "#rename cohort dataset columns\n",
    "cohort_df.columns = ['Name', 'Surname', 'IDNumber', 'ID Type', 'DateOfBirth(yyyy/mm/dd)', 'Gender',\n",
    "                     'DisabilityStatus', 'Equity', 'Nationality', 'ResidentialStatus', 'Language',\n",
    "                     'MaritalStatus', 'Province', 'GETC Qualification', 'Municipality', 'Physical Address 1',\n",
    "                     'Physical Address 2', 'Physical  Address 3', 'Physical Post Code', 'Physical Province',\n",
    "                     'Postal Address 1', 'Postal Address 2', 'Postal  Address 3', 'Postal Post Code',\n",
    "                     'Postal Province', 'Emis Number', 'Last School Year', 'Area Code', 'Agree Popi Act',\n",
    "                     'Grade 12']\n",
    "\n",
    "cohort_df.head()"
   ]
  },
  {
   "cell_type": "markdown",
   "id": "agricultural-balance",
   "metadata": {},
   "source": [
    "**Format Date of Biirth**"
   ]
  },
  {
   "cell_type": "code",
   "execution_count": 166,
   "id": "banner-statement",
   "metadata": {},
   "outputs": [
    {
     "data": {
      "text/plain": [
       "1      2000/02/05\n",
       "2      2000/25/03\n",
       "4      1997/11/04\n",
       "5      1994/03/06\n",
       "6      1995/14/12\n",
       "          ...    \n",
       "305    2000/13/11\n",
       "307    1993/01/04\n",
       "308    1991/15/08\n",
       "309    1996/10/08\n",
       "310    2001/05/08\n",
       "Name: DateOfBirth(yyyy/mm/dd), Length: 265, dtype: object"
      ]
     },
     "execution_count": 166,
     "metadata": {},
     "output_type": "execute_result"
    }
   ],
   "source": [
    "#convert dob to datetime formatt\n",
    "cohort_df['DateOfBirth(yyyy/mm/dd)'] = pd.to_datetime(cohort_df['DateOfBirth(yyyy/mm/dd)'])\n",
    "\n",
    "#convert dob cooulm to yy/mm/dd formatt\n",
    "cohort_df['DateOfBirth(yyyy/mm/dd)'] = cohort_df['DateOfBirth(yyyy/mm/dd)'].dt.strftime('%Y/%d/%m')\n",
    "\n",
    "cohort_df['DateOfBirth(yyyy/mm/dd)']"
   ]
  },
  {
   "cell_type": "markdown",
   "id": "clean-crown",
   "metadata": {},
   "source": [
    "**Format Language**"
   ]
  },
  {
   "cell_type": "code",
   "execution_count": 167,
   "id": "agricultural-squad",
   "metadata": {},
   "outputs": [
    {
     "data": {
      "text/plain": [
       "array(['English', 'Afrikaans', 'sePedi', 'tshiVenda', 'isiZulu',\n",
       "       'seTswana', 'xiTsonga', 'seSotho', 'isiNdebele', 'siSwati',\n",
       "       'isiXhosa'], dtype=object)"
      ]
     },
     "execution_count": 167,
     "metadata": {},
     "output_type": "execute_result"
    }
   ],
   "source": [
    "#strip equity column whitespaces\n",
    "cohort_df['Language'] = cohort_df['Language'].str.strip()\n",
    "\n",
    "#convert equity column to lowercase\n",
    "cohort_df['Language'] = cohort_df['Language'].str.lower()\n",
    "\n",
    "#reformat equity column\n",
    "cohort_df['Language'] = cohort_df['Language'].replace({'isixhosa': 'isiXhosa', 'english': 'English',\n",
    "                             'sepedi [also known as northern sotho / sesotho sa lebowa]': 'sePedi', 'tshivenda': 'tshiVenda',\n",
    "                             'isizulu': 'isiZulu', 'setswana': 'seTswana', 'afrikaans': 'Afrikaans', 'xitsonga': 'xiTsonga',\n",
    "                                'sepedi': 'sePedi', 'sesotho': 'seSotho', 'isindebele': 'isiNdebele','siswati': 'siSwati',  'other': 'English'})\n",
    "\n",
    "cohort_df['Language'].unique()\n"
   ]
  },
  {
   "cell_type": "markdown",
   "id": "adapted-directory",
   "metadata": {},
   "source": [
    "**Format Equity**"
   ]
  },
  {
   "cell_type": "code",
   "execution_count": 168,
   "id": "demanding-invitation",
   "metadata": {},
   "outputs": [
    {
     "data": {
      "text/plain": [
       "array(['Black: African', 'White', 'Black: Indian/Asian',\n",
       "       'Black: Coloured'], dtype=object)"
      ]
     },
     "execution_count": 168,
     "metadata": {},
     "output_type": "execute_result"
    }
   ],
   "source": [
    "#strip equity column whitespaces\n",
    "cohort_df['Equity'] = cohort_df['Equity'].str.strip()\n",
    "\n",
    "#convert equity column to lowercase\n",
    "cohort_df['Equity'] = cohort_df['Equity'].str.lower()\n",
    "\n",
    "#reformat equity column\n",
    "cohort_df['Equity'] = cohort_df['Equity'].replace({'black': 'Black: African', 'coloured': 'Black: Coloured',\n",
    "                             'indian': 'Black: Indian/Asian', 'asian': 'Black: Indian/Asian',\n",
    "                             'chinese': 'Black: Indian/Asian', 'white': 'White'})\n",
    "\n",
    "cohort_df['Equity'].unique()"
   ]
  },
  {
   "cell_type": "markdown",
   "id": "spatial-liver",
   "metadata": {},
   "source": [
    "**Format Disability**"
   ]
  },
  {
   "cell_type": "code",
   "execution_count": 169,
   "id": "statewide-trader",
   "metadata": {},
   "outputs": [
    {
     "data": {
      "text/plain": [
       "array(['None', 'Disable but unspecified', 'Emotional (behav/psych)',\n",
       "       'Physical (move/stand etc)'], dtype=object)"
      ]
     },
     "execution_count": 169,
     "metadata": {},
     "output_type": "execute_result"
    }
   ],
   "source": [
    "#strip disability column whitespaces\n",
    "cohort_df['DisabilityStatus'] = cohort_df['DisabilityStatus'].astype(str)\n",
    "\n",
    "#strip disability column whitespaces\n",
    "cohort_df['DisabilityStatus'] = cohort_df['DisabilityStatus'].str.strip()\n",
    "\n",
    "#convert disability column to lowercase\n",
    "cohort_df['DisabilityStatus'] = cohort_df['DisabilityStatus'].str.lower()\n",
    "\n",
    "#reformat disability column\n",
    "cohort_df['DisabilityStatus'] = cohort_df['DisabilityStatus'].replace({'no': 'None', 'nan': 'None',\n",
    "                             'yes': 'Disable but unspecified', 'yes - specwearer': 'None',\n",
    "                             'n': 'None', '-': 'None', 'visual impairment - spec wearer': 'None',\n",
    "                             'aspergers / autistic': 'Emotional (behav/psych)', 'patella alta':'Physical (move/stand etc)',\n",
    "                             'y- specwearer': 'None', 'add': 'None', 'visual impairment - spec wearer -': 'None',\n",
    "                             '\\\\n': 'None', 'y - specwearer':'None', 'none':'None', '':'None'})\n",
    "\n",
    "cohort_df['DisabilityStatus'].unique()"
   ]
  },
  {
   "cell_type": "markdown",
   "id": "vietnamese-infrared",
   "metadata": {},
   "source": [
    "**Format Province**"
   ]
  },
  {
   "cell_type": "code",
   "execution_count": 170,
   "id": "furnished-savings",
   "metadata": {},
   "outputs": [
    {
     "data": {
      "text/plain": [
       "array(['Gauteng', 'Kwazulu-Natal', 'Western Cape', 'Eastern Cape',\n",
       "       'Limpopo', 'Northern Cape', 'Mpumalanga', 'Free State',\n",
       "       'North West'], dtype=object)"
      ]
     },
     "execution_count": 170,
     "metadata": {},
     "output_type": "execute_result"
    }
   ],
   "source": [
    "#strip equity column whitespaces\n",
    "cohort_df['Province'] = cohort_df['Province'].str.strip()\n",
    "\n",
    "#convert equity column to lowercase\n",
    "cohort_df['Province'] = cohort_df['Province'].str.lower()\n",
    "\n",
    "#reformat equity column\n",
    "cohort_df['Province'] = cohort_df['Province'].replace({'gauteng': 'Gauteng', 'kwazulu-natal': 'Kwazulu-Natal',\n",
    "                             'mpumalanga': 'Mpumalanga', 'eastern cape': 'Eastern Cape',\n",
    "                             'limpopo': 'Limpopo', 'northern cape': 'Northern Cape', 'free state': 'Free State', 'north west': 'North West',\n",
    "                                'western cape': 'Western Cape'})\n",
    "\n",
    "cohort_df['Province'].unique()"
   ]
  },
  {
   "cell_type": "markdown",
   "id": "rubber-burlington",
   "metadata": {},
   "source": [
    "**Format Nationality**"
   ]
  },
  {
   "cell_type": "code",
   "execution_count": 171,
   "id": "proof-scheme",
   "metadata": {},
   "outputs": [
    {
     "data": {
      "text/plain": [
       "array(['South African', 'Zimbabwe', 'European countries',\n",
       "       'Rest of Africa'], dtype=object)"
      ]
     },
     "execution_count": 171,
     "metadata": {},
     "output_type": "execute_result"
    }
   ],
   "source": [
    "#strip equity column whitespaces\n",
    "cohort_df['Nationality'] = cohort_df['Nationality'].str.strip()\n",
    "\n",
    "#convert equity column to lowercase\n",
    "cohort_df['Nationality'] = cohort_df['Nationality'].str.lower()\n",
    "\n",
    "#reformat equity column\n",
    "cohort_df['Nationality'] = cohort_df['Nationality'].replace({'south african': 'South African', 'dutch': 'European countries',\n",
    "                             'nigerian': 'Rest of Africa', 'zimbabwean': 'Zimbabwe', 'congolese':'Rest of Africa'})\n",
    "\n",
    "cohort_df['Nationality'].unique()"
   ]
  },
  {
   "cell_type": "markdown",
   "id": "outstanding-fields",
   "metadata": {},
   "source": [
    "**Format Physical Province**"
   ]
  },
  {
   "cell_type": "code",
   "execution_count": 172,
   "id": "moved-fitting",
   "metadata": {},
   "outputs": [
    {
     "data": {
      "text/plain": [
       "array(['Gauteng', 'Kwazulu-Natal', 'Western Cape', 'Eastern Cape',\n",
       "       'Limpopo', 'Northern Cape', 'Mpumalanga', 'Free State',\n",
       "       'North West'], dtype=object)"
      ]
     },
     "execution_count": 172,
     "metadata": {},
     "output_type": "execute_result"
    }
   ],
   "source": [
    "#strip equity column whitespaces\n",
    "cohort_df['Physical Province'] = cohort_df['Physical Province'].str.strip()\n",
    "\n",
    "#convert equity column to lowercase\n",
    "cohort_df['Physical Province'] = cohort_df['Physical Province'].str.lower()\n",
    "\n",
    "#reformat equity column\n",
    "cohort_df['Physical Province'] = cohort_df['Physical Province'].replace({'gauteng': 'Gauteng', 'kwazulu-natal': 'Kwazulu-Natal',\n",
    "                             'mpumalanga': 'Mpumalanga', 'eastern cape': 'Eastern Cape',\n",
    "                             'limpopo': 'Limpopo', 'northern cape': 'Northern Cape', 'free state': 'Free State', 'north west': 'North West',\n",
    "                                'western cape': 'Western Cape'})\n",
    "\n",
    "cohort_df['Physical Province'].unique()"
   ]
  },
  {
   "cell_type": "markdown",
   "id": "usual-trustee",
   "metadata": {},
   "source": [
    "**Format Postal Province**"
   ]
  },
  {
   "cell_type": "code",
   "execution_count": 173,
   "id": "gentle-jimmy",
   "metadata": {},
   "outputs": [
    {
     "data": {
      "text/plain": [
       "array(['Gauteng', 'Kwazulu-Natal', 'Western Cape', 'Eastern Cape',\n",
       "       'Limpopo', 'Northern Cape', 'Mpumalanga', 'Free State',\n",
       "       'North West'], dtype=object)"
      ]
     },
     "execution_count": 173,
     "metadata": {},
     "output_type": "execute_result"
    }
   ],
   "source": [
    "#strip equity column whitespaces\n",
    "cohort_df['Postal Province'] = cohort_df['Postal Province'].str.strip()\n",
    "\n",
    "#convert equity column to lowercase\n",
    "cohort_df['Postal Province'] = cohort_df['Postal Province'].str.lower()\n",
    "\n",
    "#reformat equity column\n",
    "cohort_df['Postal Province'] = cohort_df['Postal Province'].replace({'gauteng': 'Gauteng', 'kwazulu-natal': 'Kwazulu-Natal',\n",
    "                             'mpumalanga': 'Mpumalanga', 'eastern cape': 'Eastern Cape',\n",
    "                             'limpopo': 'Limpopo', 'northern cape': 'Northern Cape', 'free state': 'Free State', 'north west': 'North West',\n",
    "                                'western cape': 'Western Cape'})\n",
    "\n",
    "cohort_df['Postal Province'].unique()"
   ]
  },
  {
   "cell_type": "markdown",
   "id": "phantom-nerve",
   "metadata": {},
   "source": [
    "**Split Into Eligible and Non-Eligble Datasets**"
   ]
  },
  {
   "cell_type": "code",
   "execution_count": 174,
   "id": "handed-establishment",
   "metadata": {},
   "outputs": [],
   "source": [
    "#incomplete datasets\n",
    "incomplete_df = cohort_df[cohort_df[['Name', 'Surname', 'IDNumber', 'ID Type', 'DateOfBirth(yyyy/mm/dd)',\n",
    "                                    'DisabilityStatus', 'Equity', 'Nationality', 'ResidentialStatus',\n",
    "                                    'Grade 12']].isnull().any(axis=1)]\n",
    "\n",
    "#eligible dataset\n",
    "eligible_df = cohort_df.dropna(subset=['Name', 'Surname', 'IDNumber', 'ID Type', 'DateOfBirth(yyyy/mm/dd)',\n",
    "                                    'DisabilityStatus', 'Equity', 'Nationality', 'ResidentialStatus',\n",
    "                                    'Grade 12'])\n",
    "\n",
    "#missing grade 12\n",
    "no_grade_12_df = eligible_df[eligible_df['Last School Year'].isin(['-'])]\n",
    "\n",
    "#foreign grade 12\n",
    "#foreign_grade_12_df = eligible_df[eligible_df['Grade 12'].isin(['Y - Foreign'])]\n",
    "                             "
   ]
  },
  {
   "cell_type": "markdown",
   "id": "organic-airfare",
   "metadata": {},
   "source": [
    "**Remove Incomplete Data from Eligible Dataset**"
   ]
  },
  {
   "cell_type": "code",
   "execution_count": 175,
   "id": "thrown-immune",
   "metadata": {},
   "outputs": [],
   "source": [
    "#remove students without grade 12 from the eligibility list\n",
    "#eligible_df = eligible_df[~eligible_df['IDNumber'].isin(no_grade_12_df['IDNumber'])]\n",
    "\n",
    "#remove students with foreign grade 12 certs from eligible list\n",
    "#eligible_df = eligible_df[~eligible_df['IDNumber'].isin(foreign_grade_12_df['IDNumber'])]"
   ]
  },
  {
   "cell_type": "markdown",
   "id": "awful-edwards",
   "metadata": {},
   "source": [
    "**Combine Ineligible datasets**"
   ]
  },
  {
   "cell_type": "code",
   "execution_count": 176,
   "id": "another-rubber",
   "metadata": {},
   "outputs": [
    {
     "data": {
      "text/html": [
       "<div>\n",
       "<style scoped>\n",
       "    .dataframe tbody tr th:only-of-type {\n",
       "        vertical-align: middle;\n",
       "    }\n",
       "\n",
       "    .dataframe tbody tr th {\n",
       "        vertical-align: top;\n",
       "    }\n",
       "\n",
       "    .dataframe thead th {\n",
       "        text-align: right;\n",
       "    }\n",
       "</style>\n",
       "<table border=\"1\" class=\"dataframe\">\n",
       "  <thead>\n",
       "    <tr style=\"text-align: right;\">\n",
       "      <th></th>\n",
       "      <th>Name</th>\n",
       "      <th>Surname</th>\n",
       "      <th>IDNumber</th>\n",
       "      <th>ID Type</th>\n",
       "      <th>DateOfBirth(yyyy/mm/dd)</th>\n",
       "      <th>Gender</th>\n",
       "      <th>DisabilityStatus</th>\n",
       "      <th>Equity</th>\n",
       "      <th>Nationality</th>\n",
       "      <th>ResidentialStatus</th>\n",
       "      <th>...</th>\n",
       "      <th>Postal Address 2</th>\n",
       "      <th>Postal  Address 3</th>\n",
       "      <th>Postal Post Code</th>\n",
       "      <th>Postal Province</th>\n",
       "      <th>Emis Number</th>\n",
       "      <th>Last School Year</th>\n",
       "      <th>Area Code</th>\n",
       "      <th>Agree Popi Act</th>\n",
       "      <th>Grade 12</th>\n",
       "      <th>issue</th>\n",
       "    </tr>\n",
       "  </thead>\n",
       "  <tbody>\n",
       "    <tr>\n",
       "      <th>84</th>\n",
       "      <td>Lloyd</td>\n",
       "      <td>Ndhlovu</td>\n",
       "      <td>CN806411</td>\n",
       "      <td>Passport Number</td>\n",
       "      <td>1992/23/02</td>\n",
       "      <td>male</td>\n",
       "      <td>None</td>\n",
       "      <td>Black: African</td>\n",
       "      <td>Zimbabwe</td>\n",
       "      <td>NaN</td>\n",
       "      <td>...</td>\n",
       "      <td>MarshallTown</td>\n",
       "      <td>Johannesburg</td>\n",
       "      <td>2107</td>\n",
       "      <td>Gauteng</td>\n",
       "      <td>700232702</td>\n",
       "      <td>2009</td>\n",
       "      <td>2011-499023018</td>\n",
       "      <td>Yes</td>\n",
       "      <td>Y</td>\n",
       "      <td>Incomplete Data.</td>\n",
       "    </tr>\n",
       "    <tr>\n",
       "      <th>2</th>\n",
       "      <td>Arthur</td>\n",
       "      <td>Jenkins</td>\n",
       "      <td>0003255794087</td>\n",
       "      <td>National ID</td>\n",
       "      <td>2000/25/03</td>\n",
       "      <td>male</td>\n",
       "      <td>None</td>\n",
       "      <td>White</td>\n",
       "      <td>South African</td>\n",
       "      <td>Citizen</td>\n",
       "      <td>...</td>\n",
       "      <td>Marshalltown</td>\n",
       "      <td>Johannesburg</td>\n",
       "      <td>2001</td>\n",
       "      <td>Gauteng</td>\n",
       "      <td>700220178</td>\n",
       "      <td>-</td>\n",
       "      <td>2011-799035104</td>\n",
       "      <td>Yes</td>\n",
       "      <td>N</td>\n",
       "      <td>Did not complete grade 12.</td>\n",
       "    </tr>\n",
       "    <tr>\n",
       "      <th>43</th>\n",
       "      <td>Happy</td>\n",
       "      <td>Nkanyane</td>\n",
       "      <td>9612315769086</td>\n",
       "      <td>National ID</td>\n",
       "      <td>1996/31/12</td>\n",
       "      <td>male</td>\n",
       "      <td>None</td>\n",
       "      <td>Black: African</td>\n",
       "      <td>South African</td>\n",
       "      <td>Citizen</td>\n",
       "      <td>...</td>\n",
       "      <td>New Eersterus</td>\n",
       "      <td>Hammanskraal</td>\n",
       "      <td>0401</td>\n",
       "      <td>Gauteng</td>\n",
       "      <td>600102293</td>\n",
       "      <td>-</td>\n",
       "      <td>2011-764002043</td>\n",
       "      <td>Yes</td>\n",
       "      <td>N</td>\n",
       "      <td>Did not complete grade 12.</td>\n",
       "    </tr>\n",
       "    <tr>\n",
       "      <th>45</th>\n",
       "      <td>Heidi</td>\n",
       "      <td>Steenkamp</td>\n",
       "      <td>9703210026084</td>\n",
       "      <td>National ID</td>\n",
       "      <td>1994/28/05</td>\n",
       "      <td>Female</td>\n",
       "      <td>None</td>\n",
       "      <td>White</td>\n",
       "      <td>South African</td>\n",
       "      <td>Citizen</td>\n",
       "      <td>...</td>\n",
       "      <td>Marshall Town</td>\n",
       "      <td>Johannesburg</td>\n",
       "      <td>2107</td>\n",
       "      <td>Gauteng</td>\n",
       "      <td>700120576</td>\n",
       "      <td>-</td>\n",
       "      <td>2011-798015089</td>\n",
       "      <td>Yes</td>\n",
       "      <td>N</td>\n",
       "      <td>Did not complete grade 12.</td>\n",
       "    </tr>\n",
       "    <tr>\n",
       "      <th>92</th>\n",
       "      <td>Luke</td>\n",
       "      <td>Templeman</td>\n",
       "      <td>0007305118080</td>\n",
       "      <td>National ID</td>\n",
       "      <td>2000/30/07</td>\n",
       "      <td>male</td>\n",
       "      <td>Disable but unspecified</td>\n",
       "      <td>White</td>\n",
       "      <td>South African</td>\n",
       "      <td>Citizen</td>\n",
       "      <td>...</td>\n",
       "      <td>Johannesburg</td>\n",
       "      <td>CBD</td>\n",
       "      <td>2001</td>\n",
       "      <td>Eastern Cape</td>\n",
       "      <td>500440041</td>\n",
       "      <td>-</td>\n",
       "      <td>2011-286025002</td>\n",
       "      <td>Yes</td>\n",
       "      <td>N</td>\n",
       "      <td>Did not complete grade 12.</td>\n",
       "    </tr>\n",
       "  </tbody>\n",
       "</table>\n",
       "<p>5 rows × 31 columns</p>\n",
       "</div>"
      ],
      "text/plain": [
       "      Name    Surname       IDNumber          ID Type DateOfBirth(yyyy/mm/dd)  \\\n",
       "84   Lloyd    Ndhlovu       CN806411  Passport Number              1992/23/02   \n",
       "2   Arthur    Jenkins  0003255794087      National ID              2000/25/03   \n",
       "43   Happy   Nkanyane  9612315769086      National ID              1996/31/12   \n",
       "45   Heidi  Steenkamp  9703210026084      National ID              1994/28/05   \n",
       "92    Luke  Templeman  0007305118080      National ID              2000/30/07   \n",
       "\n",
       "    Gender         DisabilityStatus          Equity    Nationality  \\\n",
       "84    male                     None  Black: African       Zimbabwe   \n",
       "2     male                     None           White  South African   \n",
       "43    male                     None  Black: African  South African   \n",
       "45  Female                     None           White  South African   \n",
       "92    male  Disable but unspecified           White  South African   \n",
       "\n",
       "   ResidentialStatus  ... Postal Address 2 Postal  Address 3 Postal Post Code  \\\n",
       "84               NaN  ...     MarshallTown     Johannesburg              2107   \n",
       "2            Citizen  ...     Marshalltown      Johannesburg             2001   \n",
       "43           Citizen  ...    New Eersterus      Hammanskraal             0401   \n",
       "45           Citizen  ...    Marshall Town      Johannesburg             2107   \n",
       "92           Citizen  ...     Johannesburg               CBD             2001   \n",
       "\n",
       "   Postal Province Emis Number Last School Year       Area Code  \\\n",
       "84         Gauteng   700232702             2009  2011-499023018   \n",
       "2          Gauteng   700220178                -  2011-799035104   \n",
       "43         Gauteng   600102293                -  2011-764002043   \n",
       "45         Gauteng   700120576                -  2011-798015089   \n",
       "92    Eastern Cape   500440041                -  2011-286025002   \n",
       "\n",
       "   Agree Popi Act Grade 12                       issue  \n",
       "84            Yes        Y            Incomplete Data.  \n",
       "2             Yes        N  Did not complete grade 12.  \n",
       "43            Yes        N  Did not complete grade 12.  \n",
       "45            Yes        N  Did not complete grade 12.  \n",
       "92            Yes        N  Did not complete grade 12.  \n",
       "\n",
       "[5 rows x 31 columns]"
      ]
     },
     "execution_count": 176,
     "metadata": {},
     "output_type": "execute_result"
    }
   ],
   "source": [
    "#add issue column to incomplete dataset\n",
    "incomplete_df['issue'] = \"Incomplete Data.\"\n",
    "\n",
    "#add issue column to no grade 12 dataset\n",
    "no_grade_12_df['issue'] = \"Did not complete grade 12.\"\n",
    "\n",
    "#add issue column to foreign grade 12 dataset\n",
    "#foreign_grade_12_df['issue'] = \"Foreign grade 12 certificate.\"\n",
    "\n",
    "#append dataframes\n",
    "not_eligible_df = incomplete_df.append(no_grade_12_df)\n",
    "#not_eligible_df = not_eligible_df.append(foreign_grade_12_df)\n",
    "\n",
    "#subset not eligible dataset\n",
    "#not_eligible_df = not_eligible_df[['issue', 'Name', 'Surname', 'IDNumber', 'ID Type', 'DateOfBirth(yyyy/mm/dd)',\n",
    "#                                    'DisabilityStatus', 'Equity', 'Nationality', 'ResidentialStatus',\n",
    "#                                    'Grade 12']]\n",
    "\n",
    "not_eligible_df.head()"
   ]
  },
  {
   "cell_type": "markdown",
   "id": "color-entertainment",
   "metadata": {},
   "source": [
    "**Convert Postal Codes to Numeric**"
   ]
  },
  {
   "cell_type": "code",
   "execution_count": 177,
   "id": "applicable-compiler",
   "metadata": {},
   "outputs": [],
   "source": [
    "#strip all columns\n",
    "all_columns = ['Physical Post Code','Postal Post Code']\n",
    "for column in all_columns:\n",
    "    eligible_df[column] = eligible_df[column].astype(str)\n",
    "    eligible_df[column] = eligible_df[column].str.strip()\n",
    "    \n",
    "    #update non numeric postal codes\n",
    "    eligible_df.loc[~eligible_df[column].str.isnumeric(),column] = \"2020\"\n",
    "    \n",
    "#update non numeric postal codes\n",
    "#eligible_df.loc[~eligible_df['Postal Post Code'].str.isnumeric(),'Postal Post Code'] = \"2020\"\n",
    "#eligible_df.loc[~eligible_df['Physical Post Code'].str.isnumeric(),'Physical Post Code'] = \"2020\""
   ]
  },
  {
   "cell_type": "markdown",
   "id": "grave-symphony",
   "metadata": {},
   "source": [
    "**Capitalize some Columns**"
   ]
  },
  {
   "cell_type": "code",
   "execution_count": 178,
   "id": "broadband-possibility",
   "metadata": {},
   "outputs": [],
   "source": [
    "#strip all columns\n",
    "all_columns = ['Gender','DisabilityStatus']\n",
    "for column in all_columns:\n",
    "    eligible_df[column] = eligible_df[column].astype(str)\n",
    "    eligible_df[column] = eligible_df[column].str.strip()\n",
    "    \n",
    "    #capitalise columns\n",
    "    eligible_df[column] = eligible_df[column].str.capitalize()\n",
    "    "
   ]
  },
  {
   "cell_type": "markdown",
   "id": "cutting-despite",
   "metadata": {},
   "source": [
    "**Reformat ResidentialStatus**"
   ]
  },
  {
   "cell_type": "code",
   "execution_count": 179,
   "id": "adult-cincinnati",
   "metadata": {},
   "outputs": [
    {
     "data": {
      "text/plain": [
       "array(['South Africa', 'Permanent Resident'], dtype=object)"
      ]
     },
     "execution_count": 179,
     "metadata": {},
     "output_type": "execute_result"
    }
   ],
   "source": [
    "#reformat disability column\n",
    "eligible_df['ResidentialStatus'] = eligible_df['ResidentialStatus'].replace({'Citizen': 'South Africa'})\n",
    "eligible_df['ResidentialStatus'].unique()"
   ]
  },
  {
   "cell_type": "markdown",
   "id": "narrative-village",
   "metadata": {},
   "source": [
    "**Capitalise Municipality**"
   ]
  },
  {
   "cell_type": "code",
   "execution_count": 180,
   "id": "monthly-singing",
   "metadata": {},
   "outputs": [],
   "source": [
    "#strip all columns\n",
    "all_columns = ['Municipality']\n",
    "for column in all_columns:\n",
    "    eligible_df[column] = eligible_df[column].astype(str)\n",
    "    eligible_df[column] = eligible_df[column].str.strip()\n",
    "    \n",
    "    #capitalise columns\n",
    "    eligible_df[column] = eligible_df[column].str.title()"
   ]
  },
  {
   "cell_type": "markdown",
   "id": "violent-glossary",
   "metadata": {},
   "source": [
    "**Drop Some columns**"
   ]
  },
  {
   "cell_type": "code",
   "execution_count": 181,
   "id": "after-figure",
   "metadata": {},
   "outputs": [],
   "source": [
    "eligible_df = eligible_df[['Name', 'Surname', 'IDNumber', 'ID Type', 'DateOfBirth(yyyy/mm/dd)',\n",
    "       'Gender', 'DisabilityStatus', 'Equity', 'Nationality',\n",
    "       'ResidentialStatus', 'Language', 'MaritalStatus', 'Province',\n",
    "       'GETC Qualification', 'Municipality', 'Physical Address 1',\n",
    "       'Physical Address 2', 'Physical  Address 3', 'Physical Post Code',\n",
    "       'Physical Province', 'Postal Address 1', 'Postal Address 2',\n",
    "       'Postal  Address 3', 'Postal Post Code', 'Postal Province',\n",
    "       'Emis Number', 'Last School Year', 'Area Code', 'Agree Popi Act']]"
   ]
  },
  {
   "cell_type": "markdown",
   "id": "fancy-luxembourg",
   "metadata": {},
   "source": [
    "**Write Datasets to Excel file**"
   ]
  },
  {
   "cell_type": "code",
   "execution_count": null,
   "id": "working-princess",
   "metadata": {},
   "outputs": [],
   "source": [
    "#write eligible dataset to eligible file\n",
    "eligible_df.to_excel(\"seta_eligible_second_upload.xlsx\", index=False)\n",
    "\n",
    "#write ineligible dataset to ineligible file\n",
    "not_eligible_df.to_excel(\"ineligible.xlsx\")"
   ]
  },
  {
   "cell_type": "code",
   "execution_count": 15,
   "id": "intense-piece",
   "metadata": {},
   "outputs": [],
   "source": [
    "eligible_df = pd.read_excel(\"seta_eligible_second_upload.xlsx\")\n",
    "eligible_df['Name'] = eligible_df['Name'].astype(str).str.strip()\n",
    "eligible_df['Surname'] = eligible_df['Surname'].astype(str).str.strip()"
   ]
  },
  {
   "cell_type": "code",
   "execution_count": 206,
   "id": "perfect-imagination",
   "metadata": {},
   "outputs": [
    {
     "data": {
      "text/html": [
       "<div>\n",
       "<style scoped>\n",
       "    .dataframe tbody tr th:only-of-type {\n",
       "        vertical-align: middle;\n",
       "    }\n",
       "\n",
       "    .dataframe tbody tr th {\n",
       "        vertical-align: top;\n",
       "    }\n",
       "\n",
       "    .dataframe thead th {\n",
       "        text-align: right;\n",
       "    }\n",
       "</style>\n",
       "<table border=\"1\" class=\"dataframe\">\n",
       "  <thead>\n",
       "    <tr style=\"text-align: right;\">\n",
       "      <th></th>\n",
       "      <th>Name</th>\n",
       "      <th>Surname</th>\n",
       "      <th>IDNumber</th>\n",
       "      <th>ID Type</th>\n",
       "      <th>DateOfBirth(yyyy/mm/dd)</th>\n",
       "      <th>Gender</th>\n",
       "      <th>DisabilityStatus</th>\n",
       "      <th>Equity</th>\n",
       "      <th>Nationality</th>\n",
       "      <th>ResidentialStatus</th>\n",
       "      <th>...</th>\n",
       "      <th>Physical Province</th>\n",
       "      <th>Postal Address 1</th>\n",
       "      <th>Postal Address 2</th>\n",
       "      <th>Postal  Address 3</th>\n",
       "      <th>Postal Post Code</th>\n",
       "      <th>Postal Province</th>\n",
       "      <th>Emis Number</th>\n",
       "      <th>Last School Year</th>\n",
       "      <th>Area Code</th>\n",
       "      <th>Agree Popi Act</th>\n",
       "    </tr>\n",
       "  </thead>\n",
       "  <tbody>\n",
       "    <tr>\n",
       "      <th>282</th>\n",
       "      <td>Rulof</td>\n",
       "      <td>van der Merwe</td>\n",
       "      <td>0002105279083</td>\n",
       "      <td>National ID</td>\n",
       "      <td>2000/02/10</td>\n",
       "      <td>Male</td>\n",
       "      <td>None</td>\n",
       "      <td>White</td>\n",
       "      <td>South African</td>\n",
       "      <td>South Africa</td>\n",
       "      <td>...</td>\n",
       "      <td>Western Cape</td>\n",
       "      <td>1 Park Close</td>\n",
       "      <td>Table View</td>\n",
       "      <td>Bloubergstrand</td>\n",
       "      <td>7441</td>\n",
       "      <td>Western Cape</td>\n",
       "      <td>113310206</td>\n",
       "      <td>2018</td>\n",
       "      <td>2011-173003003</td>\n",
       "      <td>Yes</td>\n",
       "    </tr>\n",
       "  </tbody>\n",
       "</table>\n",
       "<p>1 rows × 29 columns</p>\n",
       "</div>"
      ],
      "text/plain": [
       "      Name        Surname       IDNumber      ID Type DateOfBirth(yyyy/mm/dd)  \\\n",
       "282  Rulof  van der Merwe  0002105279083  National ID              2000/02/10   \n",
       "\n",
       "    Gender DisabilityStatus Equity    Nationality ResidentialStatus  ...  \\\n",
       "282   Male             None  White  South African      South Africa  ...   \n",
       "\n",
       "    Physical Province Postal Address 1 Postal Address 2 Postal  Address 3  \\\n",
       "282      Western Cape     1 Park Close       Table View    Bloubergstrand   \n",
       "\n",
       "    Postal Post Code Postal Province Emis Number Last School Year  \\\n",
       "282             7441    Western Cape   113310206             2018   \n",
       "\n",
       "          Area Code Agree Popi Act  \n",
       "282  2011-173003003            Yes  \n",
       "\n",
       "[1 rows x 29 columns]"
      ]
     },
     "execution_count": 206,
     "metadata": {},
     "output_type": "execute_result"
    }
   ],
   "source": [
    "condition_surname = eligible_df['Surname'] == 'van der Merwe'\n",
    "condition_name = eligible_df['Name'] == 'Rulof'\n",
    "\n",
    "eligible_df[condition_name & condition_surname]"
   ]
  },
  {
   "cell_type": "code",
   "execution_count": 207,
   "id": "pacific-volleyball",
   "metadata": {},
   "outputs": [
    {
     "name": "stdout",
     "output_type": "stream",
     "text": [
      "Name : Rulof\n",
      "Surname : van der Merwe\n",
      "IDNumber : 0002105279083\n",
      "ID Type : National ID\n",
      "DateOfBirth(yyyy/mm/dd) : 2000/02/10\n",
      "Gender : Male\n",
      "DisabilityStatus : None\n",
      "Equity : White\n",
      "Nationality : South African\n",
      "ResidentialStatus : South Africa\n",
      "Language : Afrikaans\n",
      "MaritalStatus : Single\n",
      "Province : Western Cape\n",
      "GETC Qualification : GRADE 12\n",
      "Municipality : 7441 Cape Town Metro Bloubergstrand Milnerton\n",
      "Physical Address 1 : 19 Park Close\n",
      "Physical Address 2 : Table view\n",
      "Physical  Address 3 : Bloubergstrand\n",
      "Physical Post Code : 7441\n",
      "Physical Province : Western Cape\n",
      "Postal Address 1 : 1 Park Close\n",
      "Postal Address 2 : Table View\n",
      "Postal  Address 3 :  Bloubergstrand\n",
      "Postal Post Code : 7441\n",
      "Postal Province : Western Cape\n",
      "Emis Number : 113310206\n",
      "Last School Year : 2018\n",
      "Area Code : 2011-173003003\n",
      "Agree Popi Act : Yes\n"
     ]
    }
   ],
   "source": [
    "for column in eligible_df.columns:\n",
    "    print(f\"{column} : {eligible_df[condition_surname & condition_name][column].values[0]}\")"
   ]
  },
  {
   "cell_type": "code",
   "execution_count": 141,
   "id": "suspected-rings",
   "metadata": {},
   "outputs": [],
   "source": [
    "eligible_df = pd.read_excel(\"ineligible.xlsx\")"
   ]
  },
  {
   "cell_type": "code",
   "execution_count": null,
   "id": "latest-sperm",
   "metadata": {},
   "outputs": [],
   "source": []
  },
  {
   "cell_type": "code",
   "execution_count": null,
   "id": "mathematical-military",
   "metadata": {},
   "outputs": [],
   "source": []
  },
  {
   "cell_type": "code",
   "execution_count": null,
   "id": "annual-mechanics",
   "metadata": {},
   "outputs": [],
   "source": []
  },
  {
   "cell_type": "code",
   "execution_count": null,
   "id": "medical-italy",
   "metadata": {},
   "outputs": [],
   "source": []
  },
  {
   "cell_type": "code",
   "execution_count": null,
   "id": "split-lancaster",
   "metadata": {},
   "outputs": [],
   "source": []
  },
  {
   "cell_type": "code",
   "execution_count": null,
   "id": "phantom-syntax",
   "metadata": {},
   "outputs": [],
   "source": []
  },
  {
   "cell_type": "code",
   "execution_count": null,
   "id": "banner-education",
   "metadata": {},
   "outputs": [],
   "source": []
  },
  {
   "cell_type": "code",
   "execution_count": null,
   "id": "selected-composition",
   "metadata": {},
   "outputs": [],
   "source": []
  },
  {
   "cell_type": "code",
   "execution_count": null,
   "id": "conceptual-empty",
   "metadata": {},
   "outputs": [],
   "source": []
  },
  {
   "cell_type": "code",
   "execution_count": null,
   "id": "municipal-acrobat",
   "metadata": {},
   "outputs": [],
   "source": []
  },
  {
   "cell_type": "code",
   "execution_count": null,
   "id": "hidden-walnut",
   "metadata": {},
   "outputs": [],
   "source": []
  },
  {
   "cell_type": "code",
   "execution_count": null,
   "id": "painted-crowd",
   "metadata": {},
   "outputs": [],
   "source": []
  },
  {
   "cell_type": "code",
   "execution_count": null,
   "id": "automotive-asset",
   "metadata": {},
   "outputs": [],
   "source": []
  },
  {
   "cell_type": "code",
   "execution_count": null,
   "id": "violent-detroit",
   "metadata": {},
   "outputs": [],
   "source": []
  },
  {
   "cell_type": "code",
   "execution_count": null,
   "id": "functioning-fault",
   "metadata": {},
   "outputs": [],
   "source": []
  },
  {
   "cell_type": "code",
   "execution_count": null,
   "id": "oriented-freeze",
   "metadata": {},
   "outputs": [],
   "source": []
  }
 ],
 "metadata": {
  "kernelspec": {
   "display_name": "Python 3",
   "language": "python",
   "name": "python3"
  },
  "language_info": {
   "codemirror_mode": {
    "name": "ipython",
    "version": 3
   },
   "file_extension": ".py",
   "mimetype": "text/x-python",
   "name": "python",
   "nbconvert_exporter": "python",
   "pygments_lexer": "ipython3",
   "version": "3.8.7"
  }
 },
 "nbformat": 4,
 "nbformat_minor": 5
}
