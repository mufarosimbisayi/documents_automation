{
 "cells": [
  {
   "cell_type": "markdown",
   "id": "0373ba43-010b-437c-b345-6f763eb9a9ff",
   "metadata": {},
   "source": [
    "**This script keeps track of a signrequest status for particular documents designated by template ID**"
   ]
  },
  {
   "cell_type": "markdown",
   "id": "1f8bbaed-7fd7-4e7b-b84d-6103087d8350",
   "metadata": {},
   "source": [
    "**Add local library to path**"
   ]
  },
  {
   "cell_type": "code",
   "execution_count": 34,
   "id": "ed3f2821-b6c9-4561-af81-d37e8b140834",
   "metadata": {},
   "outputs": [],
   "source": [
    "import os\n",
    "import sys\n",
    "\n",
    "module_path = os.path.abspath(os.path.join('..'))\n",
    "if module_path not in sys.path:\n",
    "    sys.path.append(module_path)\n",
    "    sys.path.append(module_path + '/local_library')"
   ]
  },
  {
   "cell_type": "markdown",
   "id": "313d0186-fb66-425d-92e9-dd723d090a14",
   "metadata": {},
   "source": [
    "**Import Libraries**"
   ]
  },
  {
   "cell_type": "code",
   "execution_count": 35,
   "id": "e400544d-dc25-4f00-a6d7-a2f521d1d7f4",
   "metadata": {},
   "outputs": [],
   "source": [
    "import pandas as pd\n",
    "from local_library import import_worksheet\n",
    "from local_library import export_worksheet"
   ]
  },
  {
   "cell_type": "markdown",
   "id": "d6e5a0e7-48a0-4c81-b6af-78e541311c7d",
   "metadata": {},
   "source": [
    "**Import Signrequest Data**"
   ]
  },
  {
   "cell_type": "code",
   "execution_count": 36,
   "id": "87513a5c-a93e-43f4-98c7-ed982271a4aa",
   "metadata": {},
   "outputs": [],
   "source": [
    "signrequest_df = pd.read_excel(\"downloads/signrequest.xlsx\")"
   ]
  },
  {
   "cell_type": "code",
   "execution_count": 37,
   "id": "3a49f8a1-7540-4dd9-8944-00f15e6bb06e",
   "metadata": {},
   "outputs": [],
   "source": [
    "signrequest_df = signrequest_df.head(900)"
   ]
  },
  {
   "cell_type": "code",
   "execution_count": 38,
   "id": "ee691900-68a3-4213-ba5c-80c3aa898178",
   "metadata": {},
   "outputs": [
    {
     "data": {
      "text/html": [
       "<div>\n",
       "<style scoped>\n",
       "    .dataframe tbody tr th:only-of-type {\n",
       "        vertical-align: middle;\n",
       "    }\n",
       "\n",
       "    .dataframe tbody tr th {\n",
       "        vertical-align: top;\n",
       "    }\n",
       "\n",
       "    .dataframe thead th {\n",
       "        text-align: right;\n",
       "    }\n",
       "</style>\n",
       "<table border=\"1\" class=\"dataframe\">\n",
       "  <thead>\n",
       "    <tr style=\"text-align: right;\">\n",
       "      <th></th>\n",
       "      <th>created</th>\n",
       "      <th>name</th>\n",
       "      <th>status</th>\n",
       "      <th>from email</th>\n",
       "      <th>signers</th>\n",
       "      <th>team</th>\n",
       "      <th>id</th>\n",
       "    </tr>\n",
       "  </thead>\n",
       "  <tbody>\n",
       "    <tr>\n",
       "      <th>0</th>\n",
       "      <td>2022-09-21 06:52:41.697040+00:00</td>\n",
       "      <td>wtc-code-of-conduct_2022.pdf</td>\n",
       "      <td>sent</td>\n",
       "      <td>no-reply@wethinkcode.co.za</td>\n",
       "      <td>201995282@bootcamp.wethinkcode.co.za</td>\n",
       "      <td>wethinkcode</td>\n",
       "      <td>632a7817-83aa-48bb-a022-83ee88eed7a5</td>\n",
       "    </tr>\n",
       "    <tr>\n",
       "      <th>1</th>\n",
       "      <td>2022-09-21 06:52:37.522675+00:00</td>\n",
       "      <td>wtc-student-contract-2022.pdf</td>\n",
       "      <td>sent</td>\n",
       "      <td>no-reply@wethinkcode.co.za</td>\n",
       "      <td>201995282@bootcamp.wethinkcode.co.za</td>\n",
       "      <td>wethinkcode</td>\n",
       "      <td>5cc5b6b7-db3a-420a-a40e-6cbb007426fe</td>\n",
       "    </tr>\n",
       "  </tbody>\n",
       "</table>\n",
       "</div>"
      ],
      "text/plain": [
       "                            created                           name status  \\\n",
       "0  2022-09-21 06:52:41.697040+00:00   wtc-code-of-conduct_2022.pdf   sent   \n",
       "1  2022-09-21 06:52:37.522675+00:00  wtc-student-contract-2022.pdf   sent   \n",
       "\n",
       "                   from email                               signers  \\\n",
       "0  no-reply@wethinkcode.co.za  201995282@bootcamp.wethinkcode.co.za   \n",
       "1  no-reply@wethinkcode.co.za  201995282@bootcamp.wethinkcode.co.za   \n",
       "\n",
       "          team                                    id  \n",
       "0  wethinkcode  632a7817-83aa-48bb-a022-83ee88eed7a5  \n",
       "1  wethinkcode  5cc5b6b7-db3a-420a-a40e-6cbb007426fe  "
      ]
     },
     "execution_count": 38,
     "metadata": {},
     "output_type": "execute_result"
    }
   ],
   "source": [
    "signrequest_df.head(2)"
   ]
  },
  {
   "cell_type": "markdown",
   "id": "786bd191-0103-4fd4-be27-1d152087511f",
   "metadata": {},
   "source": [
    "**Import Student Data**"
   ]
  },
  {
   "cell_type": "code",
   "execution_count": 39,
   "id": "5e9e1782-b236-478c-ab3b-89cfb94fe791",
   "metadata": {},
   "outputs": [],
   "source": [
    "#import student data\n",
    "cohort_df = import_worksheet(\"Cohort 2022 - Student data\", \"Contracts Visibility\")"
   ]
  },
  {
   "cell_type": "code",
   "execution_count": 40,
   "id": "482b4c34-f557-47eb-b9d1-6f2df61c29ec",
   "metadata": {},
   "outputs": [
    {
     "data": {
      "text/html": [
       "<div>\n",
       "<style scoped>\n",
       "    .dataframe tbody tr th:only-of-type {\n",
       "        vertical-align: middle;\n",
       "    }\n",
       "\n",
       "    .dataframe tbody tr th {\n",
       "        vertical-align: top;\n",
       "    }\n",
       "\n",
       "    .dataframe thead th {\n",
       "        text-align: right;\n",
       "    }\n",
       "</style>\n",
       "<table border=\"1\" class=\"dataframe\">\n",
       "  <thead>\n",
       "    <tr style=\"text-align: right;\">\n",
       "      <th></th>\n",
       "      <th>learner_fullname</th>\n",
       "      <th>learner_email</th>\n",
       "      <th>Campus</th>\n",
       "      <th>student_contract</th>\n",
       "      <th>student_contract_status</th>\n",
       "      <th>code_of_conduct</th>\n",
       "      <th>code_of_conduct_status</th>\n",
       "      <th>folder_id</th>\n",
       "    </tr>\n",
       "  </thead>\n",
       "  <tbody>\n",
       "    <tr>\n",
       "      <th>0</th>\n",
       "      <td>Sifiso Sithole</td>\n",
       "      <td>370231679@bootcamp.wethinkcode.co.za</td>\n",
       "      <td>Johannesburg</td>\n",
       "      <td>435beaf0-66ae-41ad-961b-2506c9d99086</td>\n",
       "      <td>NaN</td>\n",
       "      <td>225f7ad2-539f-43b8-9350-f3f222b74e6c</td>\n",
       "      <td>NaN</td>\n",
       "      <td>1jzCyQuQXCaJHgwDBjBuh6JEu3YNh6K3C</td>\n",
       "    </tr>\n",
       "    <tr>\n",
       "      <th>1</th>\n",
       "      <td>Kgatliso Promise Makgato</td>\n",
       "      <td>538189077@bootcamp.wethinkcode.co.za</td>\n",
       "      <td>Johannesburg</td>\n",
       "      <td>435beaf0-66ae-41ad-961b-2506c9d99086</td>\n",
       "      <td>Saved</td>\n",
       "      <td>225f7ad2-539f-43b8-9350-f3f222b74e6c</td>\n",
       "      <td>NaN</td>\n",
       "      <td>1WsHqb-wGv5wwjmOT9sOPAry3oR5ZuTjq</td>\n",
       "    </tr>\n",
       "  </tbody>\n",
       "</table>\n",
       "</div>"
      ],
      "text/plain": [
       "           learner_fullname                         learner_email  \\\n",
       "0            Sifiso Sithole  370231679@bootcamp.wethinkcode.co.za   \n",
       "1  Kgatliso Promise Makgato  538189077@bootcamp.wethinkcode.co.za   \n",
       "\n",
       "         Campus                      student_contract student_contract_status  \\\n",
       "0  Johannesburg  435beaf0-66ae-41ad-961b-2506c9d99086                     NaN   \n",
       "1  Johannesburg  435beaf0-66ae-41ad-961b-2506c9d99086                   Saved   \n",
       "\n",
       "                        code_of_conduct  code_of_conduct_status  \\\n",
       "0  225f7ad2-539f-43b8-9350-f3f222b74e6c                     NaN   \n",
       "1  225f7ad2-539f-43b8-9350-f3f222b74e6c                     NaN   \n",
       "\n",
       "                           folder_id  \n",
       "0  1jzCyQuQXCaJHgwDBjBuh6JEu3YNh6K3C  \n",
       "1  1WsHqb-wGv5wwjmOT9sOPAry3oR5ZuTjq  "
      ]
     },
     "execution_count": 40,
     "metadata": {},
     "output_type": "execute_result"
    }
   ],
   "source": [
    "cohort_df.head(2)"
   ]
  },
  {
   "cell_type": "markdown",
   "id": "80cc1263-b7e8-46fd-9078-0cd41defe14b",
   "metadata": {},
   "source": [
    "**Check Status for Code of Conduct**"
   ]
  },
  {
   "cell_type": "code",
   "execution_count": 41,
   "id": "89c9932f-4d4b-4c0e-89a8-75229ff162fb",
   "metadata": {},
   "outputs": [],
   "source": [
    "for index, row in cohort_df.iterrows():\n",
    "    condition_1 = signrequest_df['signers'] == row['learner_email']\n",
    "    condition_2 = signrequest_df['name'] == 'wtc-code-of-conduct_2022.pdf'\n",
    "    values = signrequest_df.loc[condition_1 & condition_2, 'status'].values\n",
    "    if len(values) > 0:\n",
    "        cohort_df.loc[cohort_df['learner_email'] == row['learner_email'],'code_of_conduct_status'] = values[0]"
   ]
  },
  {
   "cell_type": "markdown",
   "id": "b665a292-f976-4bdf-b881-234e7079651b",
   "metadata": {},
   "source": [
    "**Check Status for Student Contract**"
   ]
  },
  {
   "cell_type": "code",
   "execution_count": 42,
   "id": "3a057770-9e01-4746-8ccc-2c387ecebf06",
   "metadata": {},
   "outputs": [],
   "source": [
    "for index, row in cohort_df.iterrows():\n",
    "    condition_1 = signrequest_df['signers'] == row['learner_email']\n",
    "    condition_2 = signrequest_df['name'] == 'wtc-student-contract-2022.pdf'\n",
    "    values = signrequest_df.loc[condition_1 & condition_2, 'status'].values\n",
    "    if len(values) > 0:\n",
    "        cohort_df.loc[cohort_df['learner_email'] == row['learner_email'],'student_contract_status'] = values[0]"
   ]
  },
  {
   "cell_type": "markdown",
   "id": "200b456f-a84b-4639-9eed-7a3914caae78",
   "metadata": {},
   "source": [
    "**Subset Relevant Columns**"
   ]
  },
  {
   "cell_type": "code",
   "execution_count": 43,
   "id": "2d217c06-8829-4f8c-9f2c-e9ba3053a371",
   "metadata": {},
   "outputs": [],
   "source": [
    "#list relevant columns\n",
    "contract_df_columns = ['learner_fullname','learner_email', 'Campus', 'student_contract_status', 'code_of_conduct_status']\n",
    "\n",
    "#subset columns based on list of relevant columns\n",
    "cohort_df = cohort_df[contract_df_columns]"
   ]
  },
  {
   "cell_type": "markdown",
   "id": "b8bd007f-fa3e-4b5d-88c7-ae5cee0463d0",
   "metadata": {},
   "source": [
    "**Export Student Tracking Data**"
   ]
  },
  {
   "cell_type": "code",
   "execution_count": 44,
   "id": "3bdf703d-d31b-490a-a26a-ca52e0b3fd93",
   "metadata": {},
   "outputs": [],
   "source": [
    "#export student data\n",
    "export_worksheet(\"Cohort 2022 - Student data\", \"Contracts Tracking\", cohort_df)"
   ]
  },
  {
   "cell_type": "code",
   "execution_count": null,
   "id": "93065ff8-f082-405c-8775-258db52597f3",
   "metadata": {},
   "outputs": [],
   "source": []
  },
  {
   "cell_type": "code",
   "execution_count": null,
   "id": "718d2803-ad0a-4a33-b31c-f32e125b8ade",
   "metadata": {},
   "outputs": [],
   "source": []
  }
 ],
 "metadata": {
  "kernelspec": {
   "display_name": "Python 3 (ipykernel)",
   "language": "python",
   "name": "python3"
  },
  "language_info": {
   "codemirror_mode": {
    "name": "ipython",
    "version": 3
   },
   "file_extension": ".py",
   "mimetype": "text/x-python",
   "name": "python",
   "nbconvert_exporter": "python",
   "pygments_lexer": "ipython3",
   "version": "3.8.2"
  }
 },
 "nbformat": 4,
 "nbformat_minor": 5
}
